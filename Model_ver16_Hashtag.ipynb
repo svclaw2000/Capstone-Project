{
 "cells": [
  {
   "cell_type": "code",
   "execution_count": 48,
   "metadata": {
    "scrolled": true
   },
   "outputs": [],
   "source": [
    "import pickle\n",
    "import numpy as np\n",
    "from tqdm import tqdm\n",
    "from functools import partial\n",
    "import pandas as pd\n",
    "from konlpy.tag import Komoran\n",
    "import os\n",
    "from gensim.models import Word2Vec\n",
    "import json"
   ]
  },
  {
   "cell_type": "code",
   "execution_count": 43,
   "metadata": {},
   "outputs": [],
   "source": [
    "preprocessed = pickle.load(open('preprocessed.pkl', 'rb'))"
   ]
  },
  {
   "cell_type": "code",
   "execution_count": 2,
   "metadata": {},
   "outputs": [],
   "source": [
    "max_n = 5\n",
    "total_data = [[], [], [], [], []]\n",
    "for i in range(1, max_n + 1):\n",
    "    file_name = 'data_256_cat%s.pkl' %i\n",
    "    loaded_data = pickle.load(open(file_name, 'rb'))\n",
    "\n",
    "    _image_data, _sentence_data, _sentence_tags, _hashtag_data, _metadata = loaded_data[1]\n",
    "\n",
    "    _sentence_tags = np.array(_sentence_tags)\n",
    "    _hashtag_data = np.array(_hashtag_data)\n",
    "    \n",
    "    total_data[0].append(_image_data)\n",
    "    total_data[1].append(_sentence_data)\n",
    "    total_data[2].append(_sentence_tags)\n",
    "    total_data[3].append(_hashtag_data)\n",
    "    total_data[4].append(_metadata)"
   ]
  },
  {
   "cell_type": "code",
   "execution_count": 3,
   "metadata": {},
   "outputs": [],
   "source": [
    "_image_data = np.concatenate(total_data[0])\n",
    "_sentence_data = np.concatenate(total_data[1])\n",
    "_sentence_tags = np.concatenate(total_data[2])\n",
    "_hashtag_data = np.concatenate(total_data[3])\n",
    "_metadata = pd.concat(total_data[4])"
   ]
  },
  {
   "cell_type": "code",
   "execution_count": 4,
   "metadata": {},
   "outputs": [],
   "source": [
    "np.random.seed(1234)\n",
    "n_valid = 700\n",
    "n_train = _image_data.shape[0] - n_valid\n",
    "n_total = n_train + n_valid\n",
    "indices = np.random.choice(np.arange(_image_data.shape[0]), n_total, replace=False)\n",
    "train_idx = indices[:n_train]\n",
    "valid_idx = indices[n_train:]"
   ]
  },
  {
   "cell_type": "code",
   "execution_count": 5,
   "metadata": {},
   "outputs": [],
   "source": [
    "image_data = _image_data[train_idx]\n",
    "sentence_data = _sentence_data[train_idx]\n",
    "sentence_tags = _sentence_tags[train_idx]\n",
    "hashtag_data = _hashtag_data[train_idx]\n",
    "metadata = _metadata.iloc[train_idx]"
   ]
  },
  {
   "cell_type": "code",
   "execution_count": 6,
   "metadata": {},
   "outputs": [],
   "source": [
    "image_valid = _image_data[valid_idx]\n",
    "sentence_valid = _sentence_data[valid_idx]\n",
    "sentence_tags_valid = _sentence_tags[valid_idx]\n",
    "hashtag_valid = _hashtag_data[valid_idx]\n",
    "metadata_valid = _metadata.iloc[valid_idx]"
   ]
  },
  {
   "cell_type": "code",
   "execution_count": 7,
   "metadata": {
    "scrolled": false
   },
   "outputs": [
    {
     "name": "stdout",
     "output_type": "stream",
     "text": [
      "(34300, 256, 256, 3)\n",
      "(34300,)\n",
      "(34300,)\n",
      "(34300,)\n",
      "(34300, 15)\n"
     ]
    }
   ],
   "source": [
    "print(image_data.shape)\n",
    "print(sentence_data.shape)\n",
    "print(sentence_tags.shape)\n",
    "print(hashtag_data.shape)\n",
    "print(metadata.shape)"
   ]
  },
  {
   "cell_type": "code",
   "execution_count": 49,
   "metadata": {},
   "outputs": [
    {
     "name": "stderr",
     "output_type": "stream",
     "text": [
      "100%|██████████| 867737/867737 [00:03<00:00, 246300.12it/s]\n"
     ]
    }
   ],
   "source": [
    "all_hashtag = []\n",
    "for tags in tqdm(preprocessed['hashtag']):\n",
    "    _hash = tags.replace(\"'\", '\"')\n",
    "    pos = _hash.find('\\\\U')\n",
    "    while pos != -1:\n",
    "        _hash = _hash.replace(_hash[pos:pos+10], chr(int(_hash[pos+2:pos+10], 16)))\n",
    "        pos = _hash.find('\\\\U')\n",
    "    all_hashtag.append(json.loads(_hash))"
   ]
  },
  {
   "cell_type": "code",
   "execution_count": 51,
   "metadata": {},
   "outputs": [],
   "source": [
    "all_tags = []\n",
    "\n",
    "for tags in all_hashtag:\n",
    "    all_tags.extend(tags)"
   ]
  },
  {
   "cell_type": "code",
   "execution_count": 84,
   "metadata": {},
   "outputs": [],
   "source": [
    "word_df = pd.DataFrame({'word':all_tags})\n",
    "filtered_df = word_df.value_counts()\n",
    "\n",
    "use_hashtag = filtered_df[((filtered_df<len(all_hashtag)*0.01) & (filtered_df>len(all_hashtag)*0.0001))].index\n",
    "use_hashtag = [t[0] for t in use_hashtag]\n",
    "use_hashtag = sorted(use_hashtag)\n",
    "tag_dict = {t:i for i, t in enumerate(use_hashtag)}\n",
    "\n",
    "n_tags = len(use_hashtag)"
   ]
  },
  {
   "cell_type": "code",
   "execution_count": null,
   "metadata": {},
   "outputs": [],
   "source": [
    "y_hashtag = np.zeros((hashtag_data.shape[0], n_tags), dtype='float32')\n",
    "\n",
    "for i, tags in enumerate(hashtag_data):\n",
    "    for tag in tags:\n",
    "        if tag in tag_dict:\n",
    "            y_hashtag[i, tag_dict[tag]] = 1.\n",
    "            \n",
    "valid_hashtag = np.zeros((hashtag_valid.shape[0], n_tags), dtype='float32')\n",
    "for i, tags in enumerate(hashtag_valid):\n",
    "    for tag in tags:\n",
    "        if tag in tag_dict:\n",
    "            valid_hashtag[i, tag_dict[tag]] = 1."
   ]
  },
  {
   "cell_type": "code",
   "execution_count": 100,
   "metadata": {},
   "outputs": [],
   "source": [
    "import tensorflow.compat.v1 as tf\n",
    "tf.disable_v2_behavior()"
   ]
  },
  {
   "cell_type": "code",
   "execution_count": 101,
   "metadata": {},
   "outputs": [],
   "source": [
    "tf.reset_default_graph()\n",
    "\n",
    "learning_rate1 = 0.001\n",
    "learning_rate2 = 0.001\n",
    "n_hidden = 128\n",
    "\n",
    "inputs = tf.placeholder(tf.float32, shape=[None, 256, 256, 3])\n",
    "with tf.variable_scope('auto_encoder'):\n",
    "    net = tf.layers.conv2d(inputs, 32, [5,5], strides=2, padding='SAME')\n",
    "    net = tf.layers.conv2d(net, 8, [5,5], strides=2, padding='SAME')\n",
    "    middle = tf.layers.conv2d(net, 4, [5,5], strides=2, padding='SAME')\n",
    "    net = tf.layers.conv2d_transpose(middle, 8, [5,5], strides=2, padding='SAME')\n",
    "    net = tf.layers.conv2d_transpose(net, 32, [5,5], strides=2, padding='SAME')\n",
    "    outputs = tf.layers.conv2d_transpose(net, 3, [5,5], strides=2, padding='SAME')\n",
    "\n",
    "loss = tf.reduce_mean(tf.square(outputs - inputs))\n",
    "train_op = tf.train.AdamOptimizer(learning_rate1).minimize(loss)"
   ]
  },
  {
   "cell_type": "code",
   "execution_count": 102,
   "metadata": {},
   "outputs": [
    {
     "data": {
      "text/plain": [
       "<tf.Tensor 'auto_encoder/conv2d_2/BiasAdd:0' shape=(?, 32, 32, 4) dtype=float32>"
      ]
     },
     "execution_count": 102,
     "metadata": {},
     "output_type": "execute_result"
    }
   ],
   "source": [
    "middle"
   ]
  },
  {
   "cell_type": "code",
   "execution_count": 103,
   "metadata": {},
   "outputs": [],
   "source": [
    "flatten = tf.layers.flatten(middle)\n",
    "\n",
    "with tf.variable_scope('hashtag'):\n",
    "    tag_output = tf.placeholder(tf.float32, shape=(None, n_tags))\n",
    "    hidden1 = tf.layers.dense(flatten, 256, activation=tf.nn.sigmoid)\n",
    "    hidden2 = tf.layers.dense(hidden1, 256, activation=tf.nn.sigmoid)\n",
    "    hidden3 = tf.layers.dense(hidden2, 256, activation=tf.nn.sigmoid)\n",
    "    outputs = tf.layers.dense(hidden3, n_tags, activation=None)\n",
    "\n",
    "loss2 = tf.reduce_mean(tf.nn.sigmoid_cross_entropy_with_logits(logits = outputs, labels = tag_output))\n",
    "var_list = tf.get_collection(tf.GraphKeys.TRAINABLE_VARIABLES, scope='hashtag')\n",
    "train_op2 = tf.train.AdamOptimizer(learning_rate2).minimize(loss2, var_list=var_list)\n",
    "train_op2_fine = tf.train.AdamOptimizer(learning_rate2).minimize(loss2)"
   ]
  },
  {
   "cell_type": "code",
   "execution_count": 104,
   "metadata": {},
   "outputs": [
    {
     "name": "stdout",
     "output_type": "stream",
     "text": [
      "Device mapping:\n",
      "/job:localhost/replica:0/task:0/device:XLA_CPU:0 -> device: XLA_CPU device\n",
      "/job:localhost/replica:0/task:0/device:XLA_GPU:0 -> device: XLA_GPU device\n",
      "/job:localhost/replica:0/task:0/device:GPU:0 -> device: 0, name: GeForce RTX 2080 Ti, pci bus id: 0000:68:00.0, compute capability: 7.5\n",
      "\n"
     ]
    }
   ],
   "source": [
    "with tf.device('/gpu:0'):\n",
    "    sess = tf.Session(config=tf.ConfigProto(allow_soft_placement=True, \n",
    "                                            log_device_placement=True))\n",
    "    sess.run(tf.global_variables_initializer())"
   ]
  },
  {
   "cell_type": "code",
   "execution_count": 105,
   "metadata": {
    "scrolled": true
   },
   "outputs": [
    {
     "name": "stderr",
     "output_type": "stream",
     "text": [
      "100%|██████████| 49/49 [00:35<00:00,  1.37it/s]\n",
      "  0%|          | 0/49 [00:00<?, ?it/s]"
     ]
    },
    {
     "name": "stdout",
     "output_type": "stream",
     "text": [
      "[Epoch: 1] cost = 5393.984, valid cost = 1712.024\n"
     ]
    },
    {
     "name": "stderr",
     "output_type": "stream",
     "text": [
      "100%|██████████| 49/49 [00:35<00:00,  1.37it/s]\n",
      "  0%|          | 0/49 [00:00<?, ?it/s]"
     ]
    },
    {
     "name": "stdout",
     "output_type": "stream",
     "text": [
      "[Epoch: 2] cost = 1346.154, valid cost = 1253.117\n"
     ]
    },
    {
     "name": "stderr",
     "output_type": "stream",
     "text": [
      "100%|██████████| 49/49 [00:35<00:00,  1.37it/s]\n",
      "  0%|          | 0/49 [00:00<?, ?it/s]"
     ]
    },
    {
     "name": "stdout",
     "output_type": "stream",
     "text": [
      "[Epoch: 3] cost = 1135.809, valid cost = 1169.896\n"
     ]
    },
    {
     "name": "stderr",
     "output_type": "stream",
     "text": [
      "100%|██████████| 49/49 [00:35<00:00,  1.37it/s]\n",
      "  0%|          | 0/49 [00:00<?, ?it/s]"
     ]
    },
    {
     "name": "stdout",
     "output_type": "stream",
     "text": [
      "[Epoch: 4] cost = 894.175, valid cost = 767.133\n"
     ]
    },
    {
     "name": "stderr",
     "output_type": "stream",
     "text": [
      "100%|██████████| 49/49 [00:35<00:00,  1.36it/s]\n",
      "  0%|          | 0/49 [00:00<?, ?it/s]"
     ]
    },
    {
     "name": "stdout",
     "output_type": "stream",
     "text": [
      "[Epoch: 5] cost = 673.769, valid cost = 675.394\n"
     ]
    },
    {
     "name": "stderr",
     "output_type": "stream",
     "text": [
      "100%|██████████| 49/49 [00:35<00:00,  1.36it/s]\n",
      "  0%|          | 0/49 [00:00<?, ?it/s]"
     ]
    },
    {
     "name": "stdout",
     "output_type": "stream",
     "text": [
      "[Epoch: 6] cost = 612.414, valid cost = 630.838\n"
     ]
    },
    {
     "name": "stderr",
     "output_type": "stream",
     "text": [
      "100%|██████████| 49/49 [00:35<00:00,  1.37it/s]\n",
      "  0%|          | 0/49 [00:00<?, ?it/s]"
     ]
    },
    {
     "name": "stdout",
     "output_type": "stream",
     "text": [
      "[Epoch: 7] cost = 599.502, valid cost = 602.798\n"
     ]
    },
    {
     "name": "stderr",
     "output_type": "stream",
     "text": [
      "100%|██████████| 49/49 [00:35<00:00,  1.37it/s]\n",
      "  0%|          | 0/49 [00:00<?, ?it/s]"
     ]
    },
    {
     "name": "stdout",
     "output_type": "stream",
     "text": [
      "[Epoch: 8] cost = 553.498, valid cost = 576.558\n"
     ]
    },
    {
     "name": "stderr",
     "output_type": "stream",
     "text": [
      "100%|██████████| 49/49 [00:35<00:00,  1.38it/s]\n",
      "  0%|          | 0/49 [00:00<?, ?it/s]"
     ]
    },
    {
     "name": "stdout",
     "output_type": "stream",
     "text": [
      "[Epoch: 9] cost = 533.309, valid cost = 557.215\n"
     ]
    },
    {
     "name": "stderr",
     "output_type": "stream",
     "text": [
      "100%|██████████| 49/49 [00:35<00:00,  1.37it/s]\n",
      "  0%|          | 0/49 [00:00<?, ?it/s]"
     ]
    },
    {
     "name": "stdout",
     "output_type": "stream",
     "text": [
      "[Epoch: 10] cost = 516.324, valid cost = 540.184\n"
     ]
    },
    {
     "name": "stderr",
     "output_type": "stream",
     "text": [
      "100%|██████████| 49/49 [00:35<00:00,  1.38it/s]\n",
      "  0%|          | 0/49 [00:00<?, ?it/s]"
     ]
    },
    {
     "name": "stdout",
     "output_type": "stream",
     "text": [
      "[Epoch: 11] cost = 507.197, valid cost = 526.753\n"
     ]
    },
    {
     "name": "stderr",
     "output_type": "stream",
     "text": [
      "100%|██████████| 49/49 [00:35<00:00,  1.37it/s]\n",
      "  0%|          | 0/49 [00:00<?, ?it/s]"
     ]
    },
    {
     "name": "stdout",
     "output_type": "stream",
     "text": [
      "[Epoch: 12] cost = 490.331, valid cost = 512.112\n"
     ]
    },
    {
     "name": "stderr",
     "output_type": "stream",
     "text": [
      "100%|██████████| 49/49 [00:35<00:00,  1.36it/s]\n",
      "  0%|          | 0/49 [00:00<?, ?it/s]"
     ]
    },
    {
     "name": "stdout",
     "output_type": "stream",
     "text": [
      "[Epoch: 13] cost = 477.377, valid cost = 564.741\n"
     ]
    },
    {
     "name": "stderr",
     "output_type": "stream",
     "text": [
      "100%|██████████| 49/49 [00:35<00:00,  1.38it/s]\n",
      "  0%|          | 0/49 [00:00<?, ?it/s]"
     ]
    },
    {
     "name": "stdout",
     "output_type": "stream",
     "text": [
      "[Epoch: 14] cost = 490.334, valid cost = 491.166\n"
     ]
    },
    {
     "name": "stderr",
     "output_type": "stream",
     "text": [
      "100%|██████████| 49/49 [00:35<00:00,  1.38it/s]\n",
      "  0%|          | 0/49 [00:00<?, ?it/s]"
     ]
    },
    {
     "name": "stdout",
     "output_type": "stream",
     "text": [
      "[Epoch: 15] cost = 457.417, valid cost = 480.926\n"
     ]
    },
    {
     "name": "stderr",
     "output_type": "stream",
     "text": [
      "100%|██████████| 49/49 [00:35<00:00,  1.37it/s]\n",
      "  0%|          | 0/49 [00:00<?, ?it/s]"
     ]
    },
    {
     "name": "stdout",
     "output_type": "stream",
     "text": [
      "[Epoch: 16] cost = 448.829, valid cost = 472.388\n"
     ]
    },
    {
     "name": "stderr",
     "output_type": "stream",
     "text": [
      "100%|██████████| 49/49 [00:35<00:00,  1.38it/s]\n",
      "  0%|          | 0/49 [00:00<?, ?it/s]"
     ]
    },
    {
     "name": "stdout",
     "output_type": "stream",
     "text": [
      "[Epoch: 17] cost = 441.115, valid cost = 465.209\n"
     ]
    },
    {
     "name": "stderr",
     "output_type": "stream",
     "text": [
      "100%|██████████| 49/49 [00:35<00:00,  1.37it/s]\n",
      "  0%|          | 0/49 [00:00<?, ?it/s]"
     ]
    },
    {
     "name": "stdout",
     "output_type": "stream",
     "text": [
      "[Epoch: 18] cost = 449.623, valid cost = 458.071\n"
     ]
    },
    {
     "name": "stderr",
     "output_type": "stream",
     "text": [
      "100%|██████████| 49/49 [00:35<00:00,  1.37it/s]\n",
      "  0%|          | 0/49 [00:00<?, ?it/s]"
     ]
    },
    {
     "name": "stdout",
     "output_type": "stream",
     "text": [
      "[Epoch: 19] cost = 428.101, valid cost = 451.137\n"
     ]
    },
    {
     "name": "stderr",
     "output_type": "stream",
     "text": [
      "100%|██████████| 49/49 [00:35<00:00,  1.37it/s]\n"
     ]
    },
    {
     "name": "stdout",
     "output_type": "stream",
     "text": [
      "[Epoch: 20] cost = 421.833, valid cost = 444.888\n"
     ]
    }
   ],
   "source": [
    "batch_size = 700\n",
    "n_epoch = 20\n",
    "n_batch = n_train // batch_size\n",
    "\n",
    "for epoch in range(n_epoch):\n",
    "    total_loss = 0\n",
    "    for batch in tqdm(range(n_batch)):\n",
    "        batch_img = image_data[batch*batch_size:(batch+1)*batch_size]\n",
    "        _, c = sess.run([train_op, loss], feed_dict={inputs:batch_img})\n",
    "        total_loss += c\n",
    "        \n",
    "    c = sess.run(loss, feed_dict={inputs:image_valid})\n",
    "    \n",
    "    print('[Epoch: %s] cost = %.3f, valid cost = %.3f' %(epoch+1, total_loss / n_batch, c))"
   ]
  },
  {
   "cell_type": "code",
   "execution_count": 106,
   "metadata": {
    "scrolled": true
   },
   "outputs": [
    {
     "name": "stderr",
     "output_type": "stream",
     "text": [
      "100%|██████████| 49/49 [00:23<00:00,  2.12it/s]\n"
     ]
    },
    {
     "ename": "NameError",
     "evalue": "name 'valid_hashtag' is not defined",
     "output_type": "error",
     "traceback": [
      "\u001b[0;31m---------------------------------------------------------------------------\u001b[0m",
      "\u001b[0;31mNameError\u001b[0m                                 Traceback (most recent call last)",
      "\u001b[0;32m<ipython-input-106-4e990ad31ea5>\u001b[0m in \u001b[0;36m<module>\u001b[0;34m\u001b[0m\n\u001b[1;32m     13\u001b[0m \u001b[0;34m\u001b[0m\u001b[0m\n\u001b[1;32m     14\u001b[0m     c = sess.run(loss2, feed_dict={inputs:image_valid, \n\u001b[0;32m---> 15\u001b[0;31m                                    tag_output:valid_hashtag})\n\u001b[0m\u001b[1;32m     16\u001b[0m     \u001b[0mprint\u001b[0m\u001b[0;34m(\u001b[0m\u001b[0;34m'[Epoch %s] cost = %.3f, valid cost = %.3f'\u001b[0m \u001b[0;34m%\u001b[0m\u001b[0;34m(\u001b[0m\u001b[0mepoch\u001b[0m\u001b[0;34m+\u001b[0m\u001b[0;36m1\u001b[0m\u001b[0;34m,\u001b[0m \u001b[0mtotal_loss\u001b[0m \u001b[0;34m/\u001b[0m \u001b[0mn_batch\u001b[0m\u001b[0;34m,\u001b[0m \u001b[0mc\u001b[0m\u001b[0;34m)\u001b[0m\u001b[0;34m)\u001b[0m\u001b[0;34m\u001b[0m\u001b[0;34m\u001b[0m\u001b[0m\n",
      "\u001b[0;31mNameError\u001b[0m: name 'valid_hashtag' is not defined"
     ]
    }
   ],
   "source": [
    "batch_size = 700\n",
    "n_epoch = 50\n",
    "n_batch = n_train // batch_size\n",
    "\n",
    "for epoch in range(n_epoch):\n",
    "    total_loss = 0\n",
    "    for batch in tqdm(range(n_batch)):\n",
    "        batch_img = image_data[batch*batch_size:(batch+1)*batch_size]\n",
    "        batch_tag_out = y_hashtag[batch*batch_size:(batch+1)*batch_size]\n",
    "        _, c = sess.run([train_op2, loss2], feed_dict={inputs:batch_img, \n",
    "                                                       tag_output:batch_tag_out})\n",
    "        total_loss += c\n",
    "    \n",
    "    c = sess.run(loss2, feed_dict={inputs:image_valid, \n",
    "                                   tag_output:valid_hashtag})\n",
    "    print('[Epoch %s] cost = %.3f, valid cost = %.3f' %(epoch+1, total_loss / n_batch, c))"
   ]
  },
  {
   "cell_type": "code",
   "execution_count": null,
   "metadata": {
    "scrolled": true
   },
   "outputs": [],
   "source": [
    "batch_size = 700\n",
    "n_epoch = 50\n",
    "n_batch = n_train // batch_size\n",
    "\n",
    "for epoch in range(n_epoch):\n",
    "    total_loss = 0\n",
    "    for batch in tqdm(range(n_batch)):\n",
    "        batch_img = image_data[batch*batch_size:(batch+1)*batch_size]\n",
    "        batch_tag_out = y_hashtag[batch*batch_size:(batch+1)*batch_size]\n",
    "        _, c = sess.run([train_op2_fine, loss2], feed_dict={inputs:batch_img, \n",
    "                                                       tag_output:batch_tag_out})\n",
    "        total_loss += c\n",
    "    \n",
    "    c = sess.run(loss2, feed_dict={inputs:image_valid, \n",
    "                                   tag_output:valid_hashtag})\n",
    "    print('[Epoch %s] cost = %.3f, valid cost = %.3f' %(epoch+1, total_loss / n_batch, c))"
   ]
  },
  {
   "cell_type": "code",
   "execution_count": 158,
   "metadata": {},
   "outputs": [
    {
     "data": {
      "text/plain": [
       "'./ver15'"
      ]
     },
     "execution_count": 158,
     "metadata": {},
     "output_type": "execute_result"
    }
   ],
   "source": [
    "saver = tf.train.Saver()\n",
    "saver.save(sess, './ver16')"
   ]
  },
  {
   "cell_type": "code",
   "execution_count": 159,
   "metadata": {},
   "outputs": [
    {
     "name": "stdout",
     "output_type": "stream",
     "text": [
      "INFO:tensorflow:Restoring parameters from ./ver15\n"
     ]
    }
   ],
   "source": [
    "saver = tf.train.import_meta_graph('ver15.meta')\n",
    "\n",
    "saver.restore(sess, tf.train.latest_checkpoint('./'))"
   ]
  },
  {
   "cell_type": "code",
   "execution_count": null,
   "metadata": {},
   "outputs": [],
   "source": [
    "    c = sess.run('dense/BiasAdd:0', feed_dict={inputs:image_valid, \n",
    "                                   dec_input:dec_input_valid,\n",
    "                                   dec_output:dec_output_valid})"
   ]
  },
  {
   "cell_type": "code",
   "execution_count": 171,
   "metadata": {},
   "outputs": [
    {
     "name": "stdout",
     "output_type": "stream",
     "text": [
      "Variable              Type                    Data/Info\n",
      "-------------------------------------------------------\n",
      "Komoran               type                    <class 'konlpy.tag._komoran.Komoran'>\n",
      "Word2Vec              type                    <class 'gensim.models.word2vec.Word2Vec'>\n",
      "batch                 int                     18\n",
      "batch_dec_in          ndarray                 700x256x1865: 334208000 elems, type `float64`, 2673664000 bytes (2549.8046875 Mb)\n",
      "batch_dec_out         ndarray                 700x256: 179200 elems, type `float64`, 1433600 bytes (1.3671875 Mb)\n",
      "batch_img             ndarray                 700x256x256x3: 137625600 elems, type `uint8`, 137625600 bytes (131.25 Mb)\n",
      "batch_size            int                     700\n",
      "c                     float32                 2.3351858\n",
      "dec_cell              DropoutWrapper          <tensorflow.python.keras.<...>object at 0x7f66fe4a5890>\n",
      "dec_in_data           ndarray                 13300x256x1864: 6346547200 elems, type `float64`, 50772377600 bytes (48420.3125 Mb)\n",
      "dec_input             Tensor                  Tensor(\"Placeholder_1:0\",<...>56, 1865), dtype=float32)\n",
      "dec_input_data        ndarray                 13300x256x1865: 6349952000 elems, type `float64`, 50799616000 bytes (48446.2890625 Mb)\n",
      "dec_input_valid       ndarray                 700x256x1865: 334208000 elems, type `float64`, 2673664000 bytes (2549.8046875 Mb)\n",
      "dec_out_data          ndarray                 13300x256x1864: 6346547200 elems, type `float64`, 50772377600 bytes (48420.3125 Mb)\n",
      "dec_output            Tensor                  Tensor(\"Placeholder_2:0\",<...>pe=(?, 256), dtype=int32)\n",
      "dec_output_data       ndarray                 13300x256: 3404800 elems, type `float64`, 27238400 bytes (25.9765625 Mb)\n",
      "dec_output_valid      ndarray                 700x256: 179200 elems, type `float64`, 1433600 bytes (1.3671875 Mb)\n",
      "dec_states            Tensor                  Tensor(\"generator_dec/rnn<...>=(?, 128), dtype=float32)\n",
      "enc_cell              DropoutWrapper          <tensorflow.python.keras.<...>object at 0x7f66b2ab61d0>\n",
      "enc_input             Tensor                  Tensor(\"Reshape:0\", shape<...> 256, 16), dtype=float32)\n",
      "enc_states            Tensor                  Tensor(\"generator_enc/rnn<...>=(?, 128), dtype=float32)\n",
      "epoch                 int                     49\n",
      "file_name             str                     data_256_cat2.pkl\n",
      "hashtag_data          ndarray                 13300: 13300 elems, type `object`, 106400 bytes (103.90625 kb)\n",
      "hashtag_valid         ndarray                 700: 700 elems, type `object`, 5600 bytes\n",
      "i                     int                     699\n",
      "idx                   int                     90\n",
      "image_data            ndarray                 13300x256x256x3: 2614886400 elems, type `uint8`, 2614886400 bytes (2493.75 Mb)\n",
      "image_valid           ndarray                 700x256x256x3: 137625600 elems, type `uint8`, 137625600 bytes (131.25 Mb)\n",
      "indices               ndarray                 14000: 14000 elems, type `int64`, 112000 bytes (109.375 kb)\n",
      "inputs                Tensor                  Tensor(\"Placeholder:0\", s<...>, 256, 3), dtype=float32)\n",
      "j                     int                     210\n",
      "komoran               Komoran                 <konlpy.tag._komoran.Komo<...>object at 0x7f609c1c4310>\n",
      "learning_rate1        float                   0.001\n",
      "learning_rate2        float                   0.001\n",
      "loaded_data           list                    n=2\n",
      "loss                  Tensor                  Tensor(\"Mean:0\", shape=(), dtype=float32)\n",
      "loss2                 Tensor                  Tensor(\"Mean_1:0\", shape=(), dtype=float32)\n",
      "max_n                 int                     2\n",
      "max_seq_length        int                     256\n",
      "metadata              DataFrame                      index             <...>[13300 rows x 15 columns]\n",
      "metadata_valid        DataFrame                      index             <...>\\n[700 rows x 15 columns]\n",
      "middle                Tensor                  Tensor(\"auto_encoder/conv<...>2, 32, 4), dtype=float32)\n",
      "n_batch               int                     19\n",
      "n_chars               int                     1865\n",
      "n_epoch               int                     50\n",
      "n_hidden              int                     128\n",
      "n_total               int                     14000\n",
      "n_train               int                     13300\n",
      "n_valid               int                     700\n",
      "n_words               int                     1644\n",
      "net                   Tensor                  Tensor(\"auto_encoder/conv<...> 128, 32), dtype=float32)\n",
      "new_w2v               Word2VecKeyedVectors    <gensim.models.keyedvecto<...>object at 0x7f609fa89c90>\n",
      "np                    module                  <module 'numpy' from '/ho<...>kages/numpy/__init__.py'>\n",
      "os                    module                  <module 'os' from '/usr/lib/python3.7/os.py'>\n",
      "output_chars          list                    n=1865\n",
      "output_dict           dict                    n=1865\n",
      "output_words          list                    n=1644\n",
      "outputs               Tensor                  Tensor(\"dense/BiasAdd:0\",<...>56, 1865), dtype=float32)\n",
      "partial               type                    <class 'functools.partial'>\n",
      "pd                    module                  <module 'pandas' from '/h<...>ages/pandas/__init__.py'>\n",
      "pickle                module                  <module 'pickle' from '/u<...>lib/python3.7/pickle.py'>\n",
      "s                     str                     \t바론신상입고공지 뉴 해리스냅자켓 색상 검정 <...>서 판매되고 있는 제품만 선보이고 있습니다\\n\n",
      "saver                 Saver                   <tensorflow.python.traini<...>object at 0x7f678139ca50>\n",
      "sentence_data         ndarray                 13300: 13300 elems, type `object`, 106400 bytes (103.90625 kb)\n",
      "sentence_tags         ndarray                 13300: 13300 elems, type `object`, 106400 bytes (103.90625 kb)\n",
      "sentence_tags_valid   ndarray                 700: 700 elems, type `object`, 5600 bytes\n",
      "sentence_valid        ndarray                 700: 700 elems, type `object`, 5600 bytes\n",
      "sequences             list                    n=46640\n",
      "sess                  Session                 <tensorflow.python.client<...>object at 0x7f5c4116a6d0>\n",
      "sys                   module                  <module 'sys' (built-in)>\n",
      "t                     str                     \\n\n",
      "tags                  str                     \t대롱대롱 위험하게 놀지요 딸만넷 똥 손 사진이 다 흩날림이쁘니들 미안\\n\n",
      "tf                    module                  <module 'tensorflow.compa<...>2/compat/v1/__init__.py'>\n",
      "total_data            list                    n=5\n",
      "total_loss            float64                 13.38144439458847\n",
      "tqdm                  type                    <class 'tqdm.std.tqdm'>\n",
      "train_idx             ndarray                 13300: 13300 elems, type `int64`, 106400 bytes (103.90625 kb)\n",
      "train_op              Operation               name: \"Adam\"\\nop: \"NoOp\"\\<...>input: \"^Adam/Assign_1\"\\n\n",
      "train_op2             Operation               name: \"Adam_1\"\\nop: \"NoOp<...>put: \"^Adam_1/Assign_1\"\\n\n",
      "train_op2_fine        Operation               name: \"Adam_2\"\\nop: \"NoOp<...>put: \"^Adam_2/Assign_1\"\\n\n",
      "train_tags            ndarray                 34300: 34300 elems, type `object`, 274400 bytes (267.96875 kb)\n",
      "translate             function                <function translate at 0x7f67806ecef0>\n",
      "valid_idx             ndarray                 700: 700 elems, type `int64`, 5600 bytes\n",
      "valid_tags            ndarray                 700: 700 elems, type `object`, 5600 bytes\n",
      "var_list              list                    n=8\n",
      "w2v_tags              list                    n=867737\n"
     ]
    }
   ],
   "source": [
    "whos"
   ]
  },
  {
   "cell_type": "code",
   "execution_count": 163,
   "metadata": {
    "scrolled": true
   },
   "outputs": [
    {
     "ename": "InvalidArgumentError",
     "evalue": "2 root error(s) found.\n  (0) Invalid argument: You must feed a value for placeholder tensor 'Placeholder' with dtype float and shape [?,256,256,3]\n\t [[node Placeholder (defined at <ipython-input-138-328e441e7177>:7) ]]\n\t [[dense/BiasAdd/_887]]\n  (1) Invalid argument: You must feed a value for placeholder tensor 'Placeholder' with dtype float and shape [?,256,256,3]\n\t [[node Placeholder (defined at <ipython-input-138-328e441e7177>:7) ]]\n0 successful operations.\n0 derived errors ignored.\n\nOriginal stack trace for 'Placeholder':\n  File \"/usr/lib/python3.7/runpy.py\", line 193, in _run_module_as_main\n    \"__main__\", mod_spec)\n  File \"/usr/lib/python3.7/runpy.py\", line 85, in _run_code\n    exec(code, run_globals)\n  File \"/home/svclaw2000/venv_capstone/lib/python3.7/site-packages/ipykernel_launcher.py\", line 16, in <module>\n    app.launch_new_instance()\n  File \"/home/svclaw2000/venv_capstone/lib/python3.7/site-packages/traitlets/config/application.py\", line 845, in launch_instance\n    app.start()\n  File \"/home/svclaw2000/venv_capstone/lib/python3.7/site-packages/ipykernel/kernelapp.py\", line 612, in start\n    self.io_loop.start()\n  File \"/home/svclaw2000/venv_capstone/lib/python3.7/site-packages/tornado/platform/asyncio.py\", line 199, in start\n    self.asyncio_loop.run_forever()\n  File \"/usr/lib/python3.7/asyncio/base_events.py\", line 534, in run_forever\n    self._run_once()\n  File \"/usr/lib/python3.7/asyncio/base_events.py\", line 1771, in _run_once\n    handle._run()\n  File \"/usr/lib/python3.7/asyncio/events.py\", line 88, in _run\n    self._context.run(self._callback, *self._args)\n  File \"/home/svclaw2000/venv_capstone/lib/python3.7/site-packages/tornado/ioloop.py\", line 688, in <lambda>\n    lambda f: self._run_callback(functools.partial(callback, future))\n  File \"/home/svclaw2000/venv_capstone/lib/python3.7/site-packages/tornado/ioloop.py\", line 741, in _run_callback\n    ret = callback()\n  File \"/home/svclaw2000/venv_capstone/lib/python3.7/site-packages/tornado/gen.py\", line 814, in inner\n    self.ctx_run(self.run)\n  File \"/home/svclaw2000/venv_capstone/lib/python3.7/site-packages/tornado/gen.py\", line 775, in run\n    yielded = self.gen.send(value)\n  File \"/home/svclaw2000/venv_capstone/lib/python3.7/site-packages/ipykernel/kernelbase.py\", line 365, in process_one\n    yield gen.maybe_future(dispatch(*args))\n  File \"/home/svclaw2000/venv_capstone/lib/python3.7/site-packages/tornado/gen.py\", line 234, in wrapper\n    yielded = ctx_run(next, result)\n  File \"/home/svclaw2000/venv_capstone/lib/python3.7/site-packages/ipykernel/kernelbase.py\", line 268, in dispatch_shell\n    yield gen.maybe_future(handler(stream, idents, msg))\n  File \"/home/svclaw2000/venv_capstone/lib/python3.7/site-packages/tornado/gen.py\", line 234, in wrapper\n    yielded = ctx_run(next, result)\n  File \"/home/svclaw2000/venv_capstone/lib/python3.7/site-packages/ipykernel/kernelbase.py\", line 545, in execute_request\n    user_expressions, allow_stdin,\n  File \"/home/svclaw2000/venv_capstone/lib/python3.7/site-packages/tornado/gen.py\", line 234, in wrapper\n    yielded = ctx_run(next, result)\n  File \"/home/svclaw2000/venv_capstone/lib/python3.7/site-packages/ipykernel/ipkernel.py\", line 306, in do_execute\n    res = shell.run_cell(code, store_history=store_history, silent=silent)\n  File \"/home/svclaw2000/venv_capstone/lib/python3.7/site-packages/ipykernel/zmqshell.py\", line 536, in run_cell\n    return super(ZMQInteractiveShell, self).run_cell(*args, **kwargs)\n  File \"/home/svclaw2000/venv_capstone/lib/python3.7/site-packages/IPython/core/interactiveshell.py\", line 2878, in run_cell\n    raw_cell, store_history, silent, shell_futures)\n  File \"/home/svclaw2000/venv_capstone/lib/python3.7/site-packages/IPython/core/interactiveshell.py\", line 2923, in _run_cell\n    return runner(coro)\n  File \"/home/svclaw2000/venv_capstone/lib/python3.7/site-packages/IPython/core/async_helpers.py\", line 68, in _pseudo_sync_runner\n    coro.send(None)\n  File \"/home/svclaw2000/venv_capstone/lib/python3.7/site-packages/IPython/core/interactiveshell.py\", line 3147, in run_cell_async\n    interactivity=interactivity, compiler=compiler, result=result)\n  File \"/home/svclaw2000/venv_capstone/lib/python3.7/site-packages/IPython/core/interactiveshell.py\", line 3338, in run_ast_nodes\n    if (await self.run_code(code, result,  async_=asy)):\n  File \"/home/svclaw2000/venv_capstone/lib/python3.7/site-packages/IPython/core/interactiveshell.py\", line 3418, in run_code\n    exec(code_obj, self.user_global_ns, self.user_ns)\n  File \"<ipython-input-138-328e441e7177>\", line 7, in <module>\n    inputs = tf.placeholder(tf.float32, shape=[None, 256, 256, 3])\n  File \"/home/svclaw2000/venv_capstone/lib/python3.7/site-packages/tensorflow/python/ops/array_ops.py\", line 3100, in placeholder\n    return gen_array_ops.placeholder(dtype=dtype, shape=shape, name=name)\n  File \"/home/svclaw2000/venv_capstone/lib/python3.7/site-packages/tensorflow/python/ops/gen_array_ops.py\", line 6809, in placeholder\n    \"Placeholder\", dtype=dtype, shape=shape, name=name)\n  File \"/home/svclaw2000/venv_capstone/lib/python3.7/site-packages/tensorflow/python/framework/op_def_library.py\", line 744, in _apply_op_helper\n    attrs=attr_protos, op_def=op_def)\n  File \"/home/svclaw2000/venv_capstone/lib/python3.7/site-packages/tensorflow/python/framework/ops.py\", line 3485, in _create_op_internal\n    op_def=op_def)\n  File \"/home/svclaw2000/venv_capstone/lib/python3.7/site-packages/tensorflow/python/framework/ops.py\", line 1949, in __init__\n    self._traceback = tf_stack.extract_stack()\n",
     "output_type": "error",
     "traceback": [
      "\u001b[0;31m---------------------------------------------------------------------------\u001b[0m",
      "\u001b[0;31mInvalidArgumentError\u001b[0m                      Traceback (most recent call last)",
      "\u001b[0;32m~/venv_capstone/lib/python3.7/site-packages/tensorflow/python/client/session.py\u001b[0m in \u001b[0;36m_do_call\u001b[0;34m(self, fn, *args)\u001b[0m\n\u001b[1;32m   1364\u001b[0m     \u001b[0;32mtry\u001b[0m\u001b[0;34m:\u001b[0m\u001b[0;34m\u001b[0m\u001b[0;34m\u001b[0m\u001b[0m\n\u001b[0;32m-> 1365\u001b[0;31m       \u001b[0;32mreturn\u001b[0m \u001b[0mfn\u001b[0m\u001b[0;34m(\u001b[0m\u001b[0;34m*\u001b[0m\u001b[0margs\u001b[0m\u001b[0;34m)\u001b[0m\u001b[0;34m\u001b[0m\u001b[0;34m\u001b[0m\u001b[0m\n\u001b[0m\u001b[1;32m   1366\u001b[0m     \u001b[0;32mexcept\u001b[0m \u001b[0merrors\u001b[0m\u001b[0;34m.\u001b[0m\u001b[0mOpError\u001b[0m \u001b[0;32mas\u001b[0m \u001b[0me\u001b[0m\u001b[0;34m:\u001b[0m\u001b[0;34m\u001b[0m\u001b[0;34m\u001b[0m\u001b[0m\n",
      "\u001b[0;32m~/venv_capstone/lib/python3.7/site-packages/tensorflow/python/client/session.py\u001b[0m in \u001b[0;36m_run_fn\u001b[0;34m(feed_dict, fetch_list, target_list, options, run_metadata)\u001b[0m\n\u001b[1;32m   1349\u001b[0m       return self._call_tf_sessionrun(options, feed_dict, fetch_list,\n\u001b[0;32m-> 1350\u001b[0;31m                                       target_list, run_metadata)\n\u001b[0m\u001b[1;32m   1351\u001b[0m \u001b[0;34m\u001b[0m\u001b[0m\n",
      "\u001b[0;32m~/venv_capstone/lib/python3.7/site-packages/tensorflow/python/client/session.py\u001b[0m in \u001b[0;36m_call_tf_sessionrun\u001b[0;34m(self, options, feed_dict, fetch_list, target_list, run_metadata)\u001b[0m\n\u001b[1;32m   1442\u001b[0m                                             \u001b[0mfetch_list\u001b[0m\u001b[0;34m,\u001b[0m \u001b[0mtarget_list\u001b[0m\u001b[0;34m,\u001b[0m\u001b[0;34m\u001b[0m\u001b[0;34m\u001b[0m\u001b[0m\n\u001b[0;32m-> 1443\u001b[0;31m                                             run_metadata)\n\u001b[0m\u001b[1;32m   1444\u001b[0m \u001b[0;34m\u001b[0m\u001b[0m\n",
      "\u001b[0;31mInvalidArgumentError\u001b[0m: 2 root error(s) found.\n  (0) Invalid argument: You must feed a value for placeholder tensor 'Placeholder' with dtype float and shape [?,256,256,3]\n\t [[{{node Placeholder}}]]\n\t [[dense/BiasAdd/_887]]\n  (1) Invalid argument: You must feed a value for placeholder tensor 'Placeholder' with dtype float and shape [?,256,256,3]\n\t [[{{node Placeholder}}]]\n0 successful operations.\n0 derived errors ignored.",
      "\nDuring handling of the above exception, another exception occurred:\n",
      "\u001b[0;31mInvalidArgumentError\u001b[0m                      Traceback (most recent call last)",
      "\u001b[0;32m<ipython-input-163-a3eb6b852e4f>\u001b[0m in \u001b[0;36m<module>\u001b[0;34m\u001b[0m\n\u001b[0;32m----> 1\u001b[0;31m \u001b[0msess\u001b[0m\u001b[0;34m.\u001b[0m\u001b[0mrun\u001b[0m\u001b[0;34m(\u001b[0m\u001b[0;34m'dense/BiasAdd:0'\u001b[0m\u001b[0;34m)\u001b[0m\u001b[0;34m\u001b[0m\u001b[0;34m\u001b[0m\u001b[0m\n\u001b[0m",
      "\u001b[0;32m~/venv_capstone/lib/python3.7/site-packages/tensorflow/python/client/session.py\u001b[0m in \u001b[0;36mrun\u001b[0;34m(self, fetches, feed_dict, options, run_metadata)\u001b[0m\n\u001b[1;32m    956\u001b[0m     \u001b[0;32mtry\u001b[0m\u001b[0;34m:\u001b[0m\u001b[0;34m\u001b[0m\u001b[0;34m\u001b[0m\u001b[0m\n\u001b[1;32m    957\u001b[0m       result = self._run(None, fetches, feed_dict, options_ptr,\n\u001b[0;32m--> 958\u001b[0;31m                          run_metadata_ptr)\n\u001b[0m\u001b[1;32m    959\u001b[0m       \u001b[0;32mif\u001b[0m \u001b[0mrun_metadata\u001b[0m\u001b[0;34m:\u001b[0m\u001b[0;34m\u001b[0m\u001b[0;34m\u001b[0m\u001b[0m\n\u001b[1;32m    960\u001b[0m         \u001b[0mproto_data\u001b[0m \u001b[0;34m=\u001b[0m \u001b[0mtf_session\u001b[0m\u001b[0;34m.\u001b[0m\u001b[0mTF_GetBuffer\u001b[0m\u001b[0;34m(\u001b[0m\u001b[0mrun_metadata_ptr\u001b[0m\u001b[0;34m)\u001b[0m\u001b[0;34m\u001b[0m\u001b[0;34m\u001b[0m\u001b[0m\n",
      "\u001b[0;32m~/venv_capstone/lib/python3.7/site-packages/tensorflow/python/client/session.py\u001b[0m in \u001b[0;36m_run\u001b[0;34m(self, handle, fetches, feed_dict, options, run_metadata)\u001b[0m\n\u001b[1;32m   1179\u001b[0m     \u001b[0;32mif\u001b[0m \u001b[0mfinal_fetches\u001b[0m \u001b[0;32mor\u001b[0m \u001b[0mfinal_targets\u001b[0m \u001b[0;32mor\u001b[0m \u001b[0;34m(\u001b[0m\u001b[0mhandle\u001b[0m \u001b[0;32mand\u001b[0m \u001b[0mfeed_dict_tensor\u001b[0m\u001b[0;34m)\u001b[0m\u001b[0;34m:\u001b[0m\u001b[0;34m\u001b[0m\u001b[0;34m\u001b[0m\u001b[0m\n\u001b[1;32m   1180\u001b[0m       results = self._do_run(handle, final_targets, final_fetches,\n\u001b[0;32m-> 1181\u001b[0;31m                              feed_dict_tensor, options, run_metadata)\n\u001b[0m\u001b[1;32m   1182\u001b[0m     \u001b[0;32melse\u001b[0m\u001b[0;34m:\u001b[0m\u001b[0;34m\u001b[0m\u001b[0;34m\u001b[0m\u001b[0m\n\u001b[1;32m   1183\u001b[0m       \u001b[0mresults\u001b[0m \u001b[0;34m=\u001b[0m \u001b[0;34m[\u001b[0m\u001b[0;34m]\u001b[0m\u001b[0;34m\u001b[0m\u001b[0;34m\u001b[0m\u001b[0m\n",
      "\u001b[0;32m~/venv_capstone/lib/python3.7/site-packages/tensorflow/python/client/session.py\u001b[0m in \u001b[0;36m_do_run\u001b[0;34m(self, handle, target_list, fetch_list, feed_dict, options, run_metadata)\u001b[0m\n\u001b[1;32m   1357\u001b[0m     \u001b[0;32mif\u001b[0m \u001b[0mhandle\u001b[0m \u001b[0;32mis\u001b[0m \u001b[0;32mNone\u001b[0m\u001b[0;34m:\u001b[0m\u001b[0;34m\u001b[0m\u001b[0;34m\u001b[0m\u001b[0m\n\u001b[1;32m   1358\u001b[0m       return self._do_call(_run_fn, feeds, fetches, targets, options,\n\u001b[0;32m-> 1359\u001b[0;31m                            run_metadata)\n\u001b[0m\u001b[1;32m   1360\u001b[0m     \u001b[0;32melse\u001b[0m\u001b[0;34m:\u001b[0m\u001b[0;34m\u001b[0m\u001b[0;34m\u001b[0m\u001b[0m\n\u001b[1;32m   1361\u001b[0m       \u001b[0;32mreturn\u001b[0m \u001b[0mself\u001b[0m\u001b[0;34m.\u001b[0m\u001b[0m_do_call\u001b[0m\u001b[0;34m(\u001b[0m\u001b[0m_prun_fn\u001b[0m\u001b[0;34m,\u001b[0m \u001b[0mhandle\u001b[0m\u001b[0;34m,\u001b[0m \u001b[0mfeeds\u001b[0m\u001b[0;34m,\u001b[0m \u001b[0mfetches\u001b[0m\u001b[0;34m)\u001b[0m\u001b[0;34m\u001b[0m\u001b[0;34m\u001b[0m\u001b[0m\n",
      "\u001b[0;32m~/venv_capstone/lib/python3.7/site-packages/tensorflow/python/client/session.py\u001b[0m in \u001b[0;36m_do_call\u001b[0;34m(self, fn, *args)\u001b[0m\n\u001b[1;32m   1382\u001b[0m                     \u001b[0;34m'\\nsession_config.graph_options.rewrite_options.'\u001b[0m\u001b[0;34m\u001b[0m\u001b[0;34m\u001b[0m\u001b[0m\n\u001b[1;32m   1383\u001b[0m                     'disable_meta_optimizer = True')\n\u001b[0;32m-> 1384\u001b[0;31m       \u001b[0;32mraise\u001b[0m \u001b[0mtype\u001b[0m\u001b[0;34m(\u001b[0m\u001b[0me\u001b[0m\u001b[0;34m)\u001b[0m\u001b[0;34m(\u001b[0m\u001b[0mnode_def\u001b[0m\u001b[0;34m,\u001b[0m \u001b[0mop\u001b[0m\u001b[0;34m,\u001b[0m \u001b[0mmessage\u001b[0m\u001b[0;34m)\u001b[0m\u001b[0;34m\u001b[0m\u001b[0;34m\u001b[0m\u001b[0m\n\u001b[0m\u001b[1;32m   1385\u001b[0m \u001b[0;34m\u001b[0m\u001b[0m\n\u001b[1;32m   1386\u001b[0m   \u001b[0;32mdef\u001b[0m \u001b[0m_extend_graph\u001b[0m\u001b[0;34m(\u001b[0m\u001b[0mself\u001b[0m\u001b[0;34m)\u001b[0m\u001b[0;34m:\u001b[0m\u001b[0;34m\u001b[0m\u001b[0;34m\u001b[0m\u001b[0m\n",
      "\u001b[0;31mInvalidArgumentError\u001b[0m: 2 root error(s) found.\n  (0) Invalid argument: You must feed a value for placeholder tensor 'Placeholder' with dtype float and shape [?,256,256,3]\n\t [[node Placeholder (defined at <ipython-input-138-328e441e7177>:7) ]]\n\t [[dense/BiasAdd/_887]]\n  (1) Invalid argument: You must feed a value for placeholder tensor 'Placeholder' with dtype float and shape [?,256,256,3]\n\t [[node Placeholder (defined at <ipython-input-138-328e441e7177>:7) ]]\n0 successful operations.\n0 derived errors ignored.\n\nOriginal stack trace for 'Placeholder':\n  File \"/usr/lib/python3.7/runpy.py\", line 193, in _run_module_as_main\n    \"__main__\", mod_spec)\n  File \"/usr/lib/python3.7/runpy.py\", line 85, in _run_code\n    exec(code, run_globals)\n  File \"/home/svclaw2000/venv_capstone/lib/python3.7/site-packages/ipykernel_launcher.py\", line 16, in <module>\n    app.launch_new_instance()\n  File \"/home/svclaw2000/venv_capstone/lib/python3.7/site-packages/traitlets/config/application.py\", line 845, in launch_instance\n    app.start()\n  File \"/home/svclaw2000/venv_capstone/lib/python3.7/site-packages/ipykernel/kernelapp.py\", line 612, in start\n    self.io_loop.start()\n  File \"/home/svclaw2000/venv_capstone/lib/python3.7/site-packages/tornado/platform/asyncio.py\", line 199, in start\n    self.asyncio_loop.run_forever()\n  File \"/usr/lib/python3.7/asyncio/base_events.py\", line 534, in run_forever\n    self._run_once()\n  File \"/usr/lib/python3.7/asyncio/base_events.py\", line 1771, in _run_once\n    handle._run()\n  File \"/usr/lib/python3.7/asyncio/events.py\", line 88, in _run\n    self._context.run(self._callback, *self._args)\n  File \"/home/svclaw2000/venv_capstone/lib/python3.7/site-packages/tornado/ioloop.py\", line 688, in <lambda>\n    lambda f: self._run_callback(functools.partial(callback, future))\n  File \"/home/svclaw2000/venv_capstone/lib/python3.7/site-packages/tornado/ioloop.py\", line 741, in _run_callback\n    ret = callback()\n  File \"/home/svclaw2000/venv_capstone/lib/python3.7/site-packages/tornado/gen.py\", line 814, in inner\n    self.ctx_run(self.run)\n  File \"/home/svclaw2000/venv_capstone/lib/python3.7/site-packages/tornado/gen.py\", line 775, in run\n    yielded = self.gen.send(value)\n  File \"/home/svclaw2000/venv_capstone/lib/python3.7/site-packages/ipykernel/kernelbase.py\", line 365, in process_one\n    yield gen.maybe_future(dispatch(*args))\n  File \"/home/svclaw2000/venv_capstone/lib/python3.7/site-packages/tornado/gen.py\", line 234, in wrapper\n    yielded = ctx_run(next, result)\n  File \"/home/svclaw2000/venv_capstone/lib/python3.7/site-packages/ipykernel/kernelbase.py\", line 268, in dispatch_shell\n    yield gen.maybe_future(handler(stream, idents, msg))\n  File \"/home/svclaw2000/venv_capstone/lib/python3.7/site-packages/tornado/gen.py\", line 234, in wrapper\n    yielded = ctx_run(next, result)\n  File \"/home/svclaw2000/venv_capstone/lib/python3.7/site-packages/ipykernel/kernelbase.py\", line 545, in execute_request\n    user_expressions, allow_stdin,\n  File \"/home/svclaw2000/venv_capstone/lib/python3.7/site-packages/tornado/gen.py\", line 234, in wrapper\n    yielded = ctx_run(next, result)\n  File \"/home/svclaw2000/venv_capstone/lib/python3.7/site-packages/ipykernel/ipkernel.py\", line 306, in do_execute\n    res = shell.run_cell(code, store_history=store_history, silent=silent)\n  File \"/home/svclaw2000/venv_capstone/lib/python3.7/site-packages/ipykernel/zmqshell.py\", line 536, in run_cell\n    return super(ZMQInteractiveShell, self).run_cell(*args, **kwargs)\n  File \"/home/svclaw2000/venv_capstone/lib/python3.7/site-packages/IPython/core/interactiveshell.py\", line 2878, in run_cell\n    raw_cell, store_history, silent, shell_futures)\n  File \"/home/svclaw2000/venv_capstone/lib/python3.7/site-packages/IPython/core/interactiveshell.py\", line 2923, in _run_cell\n    return runner(coro)\n  File \"/home/svclaw2000/venv_capstone/lib/python3.7/site-packages/IPython/core/async_helpers.py\", line 68, in _pseudo_sync_runner\n    coro.send(None)\n  File \"/home/svclaw2000/venv_capstone/lib/python3.7/site-packages/IPython/core/interactiveshell.py\", line 3147, in run_cell_async\n    interactivity=interactivity, compiler=compiler, result=result)\n  File \"/home/svclaw2000/venv_capstone/lib/python3.7/site-packages/IPython/core/interactiveshell.py\", line 3338, in run_ast_nodes\n    if (await self.run_code(code, result,  async_=asy)):\n  File \"/home/svclaw2000/venv_capstone/lib/python3.7/site-packages/IPython/core/interactiveshell.py\", line 3418, in run_code\n    exec(code_obj, self.user_global_ns, self.user_ns)\n  File \"<ipython-input-138-328e441e7177>\", line 7, in <module>\n    inputs = tf.placeholder(tf.float32, shape=[None, 256, 256, 3])\n  File \"/home/svclaw2000/venv_capstone/lib/python3.7/site-packages/tensorflow/python/ops/array_ops.py\", line 3100, in placeholder\n    return gen_array_ops.placeholder(dtype=dtype, shape=shape, name=name)\n  File \"/home/svclaw2000/venv_capstone/lib/python3.7/site-packages/tensorflow/python/ops/gen_array_ops.py\", line 6809, in placeholder\n    \"Placeholder\", dtype=dtype, shape=shape, name=name)\n  File \"/home/svclaw2000/venv_capstone/lib/python3.7/site-packages/tensorflow/python/framework/op_def_library.py\", line 744, in _apply_op_helper\n    attrs=attr_protos, op_def=op_def)\n  File \"/home/svclaw2000/venv_capstone/lib/python3.7/site-packages/tensorflow/python/framework/ops.py\", line 3485, in _create_op_internal\n    op_def=op_def)\n  File \"/home/svclaw2000/venv_capstone/lib/python3.7/site-packages/tensorflow/python/framework/ops.py\", line 1949, in __init__\n    self._traceback = tf_stack.extract_stack()\n"
     ]
    }
   ],
   "source": [
    "sess.run('dense/BiasAdd:0', feed_dict={''})"
   ]
  },
  {
   "cell_type": "code",
   "execution_count": 166,
   "metadata": {},
   "outputs": [],
   "source": [
    "def translate(image):\n",
    "    dec_inp = np.zeros(shape=(1, max_seq_length, n_chars), dtype='float32')\n",
    "    dec_inp[0,0,output_dict['\\t']] = 1.\n",
    "    result = sess.run('dense/BiasAdd:0', \n",
    "                      feed_dict={inputs: [image],\n",
    "                                 dec_input: dec_inp})\n",
    "    result = np.argmax(result, axis=2)\n",
    "    decoded = [output_chars[i] for i in result[0]]\n",
    "    end = decoded.index('\\n') if '\\n' in decoded else len(decoded)\n",
    "    translated = ''.join(decoded[:end])\n",
    "    return translated"
   ]
  },
  {
   "cell_type": "code",
   "execution_count": 172,
   "metadata": {},
   "outputs": [],
   "source": [
    "pickle.dump([\n",
    "        max_seq_length,\n",
    "        n_chars,\n",
    "        output_dict,\n",
    "        output_chars\n",
    "], open('seqlen_nchar_outdict_outchar.pkl', 'wb'))"
   ]
  },
  {
   "cell_type": "code",
   "execution_count": 170,
   "metadata": {},
   "outputs": [
    {
     "data": {
      "text/plain": [
       "'2.3.1'"
      ]
     },
     "execution_count": 170,
     "metadata": {},
     "output_type": "execute_result"
    }
   ],
   "source": [
    "tf.__version__"
   ]
  },
  {
   "cell_type": "code",
   "execution_count": 167,
   "metadata": {},
   "outputs": [
    {
     "name": "stdout",
     "output_type": "stream",
     "text": [
      "\t버버리 카톡문의 카드결제 가능 정품과 헷갈릴정도의 최상급만 취급 제품 출고영상 확인가능해요 배송기간 일 잡아주세요 풀구성 배송 피드에 없는 제품도 찾아드려요 제품문의는 프로필 상단 링크로 꾸욱\n",
      "\n"
     ]
    },
    {
     "data": {
      "text/plain": [
       "'오이     \\t\\t\\t\\t\\t\\t\\t\\t\\t\\t\\t\\t\\t\\t\\t\\t\\t\\t\\t\\t\\t\\t\\t\\t\\t\\t\\t\\t\\t\\t\\t\\t\\t\\t\\t\\t\\t\\t\\t\\t\\t\\t\\t\\t\\t\\t\\t\\t\\t\\t\\t\\t\\t\\t\\t\\t\\t\\t\\t\\t\\t\\t\\t\\t\\t\\t\\t\\t\\t\\t\\t\\t\\t\\t\\t\\t\\t\\t\\t\\t\\t\\t\\t\\t\\t\\t\\t\\t\\t\\t\\t\\t\\t\\t\\t\\t\\t\\t\\t\\t\\t\\t\\t\\t\\t\\t\\t\\t\\t\\t\\t\\t\\t\\t\\t\\t\\t\\t\\t\\t\\t\\t\\t\\t\\t\\t\\t\\t\\t\\t\\t\\t\\t\\t\\t\\t\\t\\t\\t\\t\\t\\t\\t\\t\\t\\t\\t\\t\\t\\t\\t\\t\\t\\t\\t\\t\\t\\t\\t\\t\\t\\t\\t\\t\\t\\t\\t\\t\\t\\t\\t\\t\\t\\t\\t\\t\\t\\t\\t\\t\\t\\t\\t\\t\\t\\t\\t\\t\\t\\t\\t\\t\\t\\t\\t\\t\\t\\t\\t\\t\\t\\t\\t\\t\\t\\t\\t\\t\\t\\t\\t\\t\\t\\t\\t\\t\\t\\t\\t\\t\\t\\t\\t\\t\\t\\t\\t\\t\\t\\t\\t\\t\\t\\t\\t\\t\\t\\t\\t\\t\\t\\t\\t\\t\\t\\t\\t\\t\\t'"
      ]
     },
     "execution_count": 167,
     "metadata": {},
     "output_type": "execute_result"
    }
   ],
   "source": [
    "idx = 90\n",
    "print(sentence_data[idx])\n",
    "translate(image_data[idx])"
   ]
  },
  {
   "cell_type": "code",
   "execution_count": 79,
   "metadata": {},
   "outputs": [],
   "source": [
    "from PIL import Image\n",
    "import matplotlib.pyplot as plt"
   ]
  },
  {
   "cell_type": "code",
   "execution_count": 98,
   "metadata": {},
   "outputs": [],
   "source": [
    "def translate(image):\n",
    "    prediction = tf.argmax(outputs2, 2)\n",
    "    dec_inp = np.zeros(shape=(1, max_seq_length, dict_len), dtype='float32')\n",
    "    dec_inp[0,:,output_dict['\\t']] = 1.\n",
    "    # dec_out = np.eye(dict_len)[dec_out]\n",
    "    result = sess.run(prediction, \n",
    "                      feed_dict={inputs: [image],\n",
    "                                 dec_inputs: dec_inp})\n",
    "    decoded = [output_chars[i] for i in result[0]]\n",
    "    end = decoded.index('\\n') if '\\n' in decoded else len(decoded)\n",
    "    translated = ''.join(decoded[:end])\n",
    "    return translated"
   ]
  },
  {
   "cell_type": "code",
   "execution_count": 103,
   "metadata": {},
   "outputs": [
    {
     "data": {
      "text/plain": [
       "'오<UNK><UNK>'"
      ]
     },
     "execution_count": 103,
     "metadata": {},
     "output_type": "execute_result"
    }
   ],
   "source": [
    "translate(image_data[50])"
   ]
  },
  {
   "cell_type": "code",
   "execution_count": 80,
   "metadata": {
    "scrolled": true
   },
   "outputs": [
    {
     "ename": "InvalidArgumentError",
     "evalue": "2 root error(s) found.\n  (0) Invalid argument: You must feed a value for placeholder tensor 'Placeholder_1' with dtype float and shape [?,256,2069]\n\t [[node Placeholder_1 (defined at <ipython-input-70-42deb1a72a5c>:19) ]]\n\t [[generation_dec/dense/BiasAdd/_167]]\n  (1) Invalid argument: You must feed a value for placeholder tensor 'Placeholder_1' with dtype float and shape [?,256,2069]\n\t [[node Placeholder_1 (defined at <ipython-input-70-42deb1a72a5c>:19) ]]\n0 successful operations.\n0 derived errors ignored.\n\nOriginal stack trace for 'Placeholder_1':\n  File \"/usr/lib/python3.7/runpy.py\", line 193, in _run_module_as_main\n    \"__main__\", mod_spec)\n  File \"/usr/lib/python3.7/runpy.py\", line 85, in _run_code\n    exec(code, run_globals)\n  File \"/home/svclaw2000/venv_capstone/lib/python3.7/site-packages/ipykernel_launcher.py\", line 16, in <module>\n    app.launch_new_instance()\n  File \"/home/svclaw2000/venv_capstone/lib/python3.7/site-packages/traitlets/config/application.py\", line 845, in launch_instance\n    app.start()\n  File \"/home/svclaw2000/venv_capstone/lib/python3.7/site-packages/ipykernel/kernelapp.py\", line 612, in start\n    self.io_loop.start()\n  File \"/home/svclaw2000/venv_capstone/lib/python3.7/site-packages/tornado/platform/asyncio.py\", line 199, in start\n    self.asyncio_loop.run_forever()\n  File \"/usr/lib/python3.7/asyncio/base_events.py\", line 534, in run_forever\n    self._run_once()\n  File \"/usr/lib/python3.7/asyncio/base_events.py\", line 1771, in _run_once\n    handle._run()\n  File \"/usr/lib/python3.7/asyncio/events.py\", line 88, in _run\n    self._context.run(self._callback, *self._args)\n  File \"/home/svclaw2000/venv_capstone/lib/python3.7/site-packages/tornado/ioloop.py\", line 688, in <lambda>\n    lambda f: self._run_callback(functools.partial(callback, future))\n  File \"/home/svclaw2000/venv_capstone/lib/python3.7/site-packages/tornado/ioloop.py\", line 741, in _run_callback\n    ret = callback()\n  File \"/home/svclaw2000/venv_capstone/lib/python3.7/site-packages/tornado/gen.py\", line 814, in inner\n    self.ctx_run(self.run)\n  File \"/home/svclaw2000/venv_capstone/lib/python3.7/site-packages/tornado/gen.py\", line 775, in run\n    yielded = self.gen.send(value)\n  File \"/home/svclaw2000/venv_capstone/lib/python3.7/site-packages/ipykernel/kernelbase.py\", line 365, in process_one\n    yield gen.maybe_future(dispatch(*args))\n  File \"/home/svclaw2000/venv_capstone/lib/python3.7/site-packages/tornado/gen.py\", line 234, in wrapper\n    yielded = ctx_run(next, result)\n  File \"/home/svclaw2000/venv_capstone/lib/python3.7/site-packages/ipykernel/kernelbase.py\", line 268, in dispatch_shell\n    yield gen.maybe_future(handler(stream, idents, msg))\n  File \"/home/svclaw2000/venv_capstone/lib/python3.7/site-packages/tornado/gen.py\", line 234, in wrapper\n    yielded = ctx_run(next, result)\n  File \"/home/svclaw2000/venv_capstone/lib/python3.7/site-packages/ipykernel/kernelbase.py\", line 545, in execute_request\n    user_expressions, allow_stdin,\n  File \"/home/svclaw2000/venv_capstone/lib/python3.7/site-packages/tornado/gen.py\", line 234, in wrapper\n    yielded = ctx_run(next, result)\n  File \"/home/svclaw2000/venv_capstone/lib/python3.7/site-packages/ipykernel/ipkernel.py\", line 306, in do_execute\n    res = shell.run_cell(code, store_history=store_history, silent=silent)\n  File \"/home/svclaw2000/venv_capstone/lib/python3.7/site-packages/ipykernel/zmqshell.py\", line 536, in run_cell\n    return super(ZMQInteractiveShell, self).run_cell(*args, **kwargs)\n  File \"/home/svclaw2000/venv_capstone/lib/python3.7/site-packages/IPython/core/interactiveshell.py\", line 2878, in run_cell\n    raw_cell, store_history, silent, shell_futures)\n  File \"/home/svclaw2000/venv_capstone/lib/python3.7/site-packages/IPython/core/interactiveshell.py\", line 2923, in _run_cell\n    return runner(coro)\n  File \"/home/svclaw2000/venv_capstone/lib/python3.7/site-packages/IPython/core/async_helpers.py\", line 68, in _pseudo_sync_runner\n    coro.send(None)\n  File \"/home/svclaw2000/venv_capstone/lib/python3.7/site-packages/IPython/core/interactiveshell.py\", line 3147, in run_cell_async\n    interactivity=interactivity, compiler=compiler, result=result)\n  File \"/home/svclaw2000/venv_capstone/lib/python3.7/site-packages/IPython/core/interactiveshell.py\", line 3338, in run_ast_nodes\n    if (await self.run_code(code, result,  async_=asy)):\n  File \"/home/svclaw2000/venv_capstone/lib/python3.7/site-packages/IPython/core/interactiveshell.py\", line 3418, in run_code\n    exec(code_obj, self.user_global_ns, self.user_ns)\n  File \"<ipython-input-70-42deb1a72a5c>\", line 19, in <module>\n    dec_inputs = tf.placeholder(tf.float32, shape=[None, max_seq_length, dict_len])\n  File \"/home/svclaw2000/venv_capstone/lib/python3.7/site-packages/tensorflow/python/ops/array_ops.py\", line 3100, in placeholder\n    return gen_array_ops.placeholder(dtype=dtype, shape=shape, name=name)\n  File \"/home/svclaw2000/venv_capstone/lib/python3.7/site-packages/tensorflow/python/ops/gen_array_ops.py\", line 6809, in placeholder\n    \"Placeholder\", dtype=dtype, shape=shape, name=name)\n  File \"/home/svclaw2000/venv_capstone/lib/python3.7/site-packages/tensorflow/python/framework/op_def_library.py\", line 744, in _apply_op_helper\n    attrs=attr_protos, op_def=op_def)\n  File \"/home/svclaw2000/venv_capstone/lib/python3.7/site-packages/tensorflow/python/framework/ops.py\", line 3485, in _create_op_internal\n    op_def=op_def)\n  File \"/home/svclaw2000/venv_capstone/lib/python3.7/site-packages/tensorflow/python/framework/ops.py\", line 1949, in __init__\n    self._traceback = tf_stack.extract_stack()\n",
     "output_type": "error",
     "traceback": [
      "\u001b[0;31m---------------------------------------------------------------------------\u001b[0m",
      "\u001b[0;31mInvalidArgumentError\u001b[0m                      Traceback (most recent call last)",
      "\u001b[0;32m~/venv_capstone/lib/python3.7/site-packages/tensorflow/python/client/session.py\u001b[0m in \u001b[0;36m_do_call\u001b[0;34m(self, fn, *args)\u001b[0m\n\u001b[1;32m   1364\u001b[0m     \u001b[0;32mtry\u001b[0m\u001b[0;34m:\u001b[0m\u001b[0;34m\u001b[0m\u001b[0;34m\u001b[0m\u001b[0m\n\u001b[0;32m-> 1365\u001b[0;31m       \u001b[0;32mreturn\u001b[0m \u001b[0mfn\u001b[0m\u001b[0;34m(\u001b[0m\u001b[0;34m*\u001b[0m\u001b[0margs\u001b[0m\u001b[0;34m)\u001b[0m\u001b[0;34m\u001b[0m\u001b[0;34m\u001b[0m\u001b[0m\n\u001b[0m\u001b[1;32m   1366\u001b[0m     \u001b[0;32mexcept\u001b[0m \u001b[0merrors\u001b[0m\u001b[0;34m.\u001b[0m\u001b[0mOpError\u001b[0m \u001b[0;32mas\u001b[0m \u001b[0me\u001b[0m\u001b[0;34m:\u001b[0m\u001b[0;34m\u001b[0m\u001b[0;34m\u001b[0m\u001b[0m\n",
      "\u001b[0;32m~/venv_capstone/lib/python3.7/site-packages/tensorflow/python/client/session.py\u001b[0m in \u001b[0;36m_run_fn\u001b[0;34m(feed_dict, fetch_list, target_list, options, run_metadata)\u001b[0m\n\u001b[1;32m   1349\u001b[0m       return self._call_tf_sessionrun(options, feed_dict, fetch_list,\n\u001b[0;32m-> 1350\u001b[0;31m                                       target_list, run_metadata)\n\u001b[0m\u001b[1;32m   1351\u001b[0m \u001b[0;34m\u001b[0m\u001b[0m\n",
      "\u001b[0;32m~/venv_capstone/lib/python3.7/site-packages/tensorflow/python/client/session.py\u001b[0m in \u001b[0;36m_call_tf_sessionrun\u001b[0;34m(self, options, feed_dict, fetch_list, target_list, run_metadata)\u001b[0m\n\u001b[1;32m   1442\u001b[0m                                             \u001b[0mfetch_list\u001b[0m\u001b[0;34m,\u001b[0m \u001b[0mtarget_list\u001b[0m\u001b[0;34m,\u001b[0m\u001b[0;34m\u001b[0m\u001b[0;34m\u001b[0m\u001b[0m\n\u001b[0;32m-> 1443\u001b[0;31m                                             run_metadata)\n\u001b[0m\u001b[1;32m   1444\u001b[0m \u001b[0;34m\u001b[0m\u001b[0m\n",
      "\u001b[0;31mInvalidArgumentError\u001b[0m: 2 root error(s) found.\n  (0) Invalid argument: You must feed a value for placeholder tensor 'Placeholder_1' with dtype float and shape [?,256,2069]\n\t [[{{node Placeholder_1}}]]\n\t [[generation_dec/dense/BiasAdd/_167]]\n  (1) Invalid argument: You must feed a value for placeholder tensor 'Placeholder_1' with dtype float and shape [?,256,2069]\n\t [[{{node Placeholder_1}}]]\n0 successful operations.\n0 derived errors ignored.",
      "\nDuring handling of the above exception, another exception occurred:\n",
      "\u001b[0;31mInvalidArgumentError\u001b[0m                      Traceback (most recent call last)",
      "\u001b[0;32m<ipython-input-80-7c7c8dbc6866>\u001b[0m in \u001b[0;36m<module>\u001b[0;34m\u001b[0m\n\u001b[1;32m      1\u001b[0m \u001b[0mstart_idx\u001b[0m\u001b[0;34m,\u001b[0m \u001b[0mend_idx\u001b[0m \u001b[0;34m=\u001b[0m \u001b[0;36m50\u001b[0m\u001b[0;34m,\u001b[0m \u001b[0;36m100\u001b[0m\u001b[0;34m\u001b[0m\u001b[0;34m\u001b[0m\u001b[0m\n\u001b[1;32m      2\u001b[0m \u001b[0;34m\u001b[0m\u001b[0m\n\u001b[0;32m----> 3\u001b[0;31m \u001b[0mresults\u001b[0m \u001b[0;34m=\u001b[0m \u001b[0msess\u001b[0m\u001b[0;34m.\u001b[0m\u001b[0mrun\u001b[0m\u001b[0;34m(\u001b[0m\u001b[0moutputs2\u001b[0m\u001b[0;34m,\u001b[0m \u001b[0mfeed_dict\u001b[0m\u001b[0;34m=\u001b[0m\u001b[0;34m{\u001b[0m\u001b[0minputs\u001b[0m\u001b[0;34m:\u001b[0m\u001b[0mimage_data\u001b[0m\u001b[0;34m[\u001b[0m\u001b[0mstart_idx\u001b[0m\u001b[0;34m:\u001b[0m\u001b[0mend_idx\u001b[0m\u001b[0;34m]\u001b[0m\u001b[0;34m}\u001b[0m\u001b[0;34m)\u001b[0m\u001b[0;34m\u001b[0m\u001b[0;34m\u001b[0m\u001b[0m\n\u001b[0m\u001b[1;32m      4\u001b[0m \u001b[0mprint\u001b[0m\u001b[0;34m(\u001b[0m\u001b[0;34m'정답 예측'\u001b[0m\u001b[0;34m)\u001b[0m\u001b[0;34m\u001b[0m\u001b[0;34m\u001b[0m\u001b[0m\n\u001b[1;32m      5\u001b[0m \u001b[0;34m\u001b[0m\u001b[0m\n",
      "\u001b[0;32m~/venv_capstone/lib/python3.7/site-packages/tensorflow/python/client/session.py\u001b[0m in \u001b[0;36mrun\u001b[0;34m(self, fetches, feed_dict, options, run_metadata)\u001b[0m\n\u001b[1;32m    956\u001b[0m     \u001b[0;32mtry\u001b[0m\u001b[0;34m:\u001b[0m\u001b[0;34m\u001b[0m\u001b[0;34m\u001b[0m\u001b[0m\n\u001b[1;32m    957\u001b[0m       result = self._run(None, fetches, feed_dict, options_ptr,\n\u001b[0;32m--> 958\u001b[0;31m                          run_metadata_ptr)\n\u001b[0m\u001b[1;32m    959\u001b[0m       \u001b[0;32mif\u001b[0m \u001b[0mrun_metadata\u001b[0m\u001b[0;34m:\u001b[0m\u001b[0;34m\u001b[0m\u001b[0;34m\u001b[0m\u001b[0m\n\u001b[1;32m    960\u001b[0m         \u001b[0mproto_data\u001b[0m \u001b[0;34m=\u001b[0m \u001b[0mtf_session\u001b[0m\u001b[0;34m.\u001b[0m\u001b[0mTF_GetBuffer\u001b[0m\u001b[0;34m(\u001b[0m\u001b[0mrun_metadata_ptr\u001b[0m\u001b[0;34m)\u001b[0m\u001b[0;34m\u001b[0m\u001b[0;34m\u001b[0m\u001b[0m\n",
      "\u001b[0;32m~/venv_capstone/lib/python3.7/site-packages/tensorflow/python/client/session.py\u001b[0m in \u001b[0;36m_run\u001b[0;34m(self, handle, fetches, feed_dict, options, run_metadata)\u001b[0m\n\u001b[1;32m   1179\u001b[0m     \u001b[0;32mif\u001b[0m \u001b[0mfinal_fetches\u001b[0m \u001b[0;32mor\u001b[0m \u001b[0mfinal_targets\u001b[0m \u001b[0;32mor\u001b[0m \u001b[0;34m(\u001b[0m\u001b[0mhandle\u001b[0m \u001b[0;32mand\u001b[0m \u001b[0mfeed_dict_tensor\u001b[0m\u001b[0;34m)\u001b[0m\u001b[0;34m:\u001b[0m\u001b[0;34m\u001b[0m\u001b[0;34m\u001b[0m\u001b[0m\n\u001b[1;32m   1180\u001b[0m       results = self._do_run(handle, final_targets, final_fetches,\n\u001b[0;32m-> 1181\u001b[0;31m                              feed_dict_tensor, options, run_metadata)\n\u001b[0m\u001b[1;32m   1182\u001b[0m     \u001b[0;32melse\u001b[0m\u001b[0;34m:\u001b[0m\u001b[0;34m\u001b[0m\u001b[0;34m\u001b[0m\u001b[0m\n\u001b[1;32m   1183\u001b[0m       \u001b[0mresults\u001b[0m \u001b[0;34m=\u001b[0m \u001b[0;34m[\u001b[0m\u001b[0;34m]\u001b[0m\u001b[0;34m\u001b[0m\u001b[0;34m\u001b[0m\u001b[0m\n",
      "\u001b[0;32m~/venv_capstone/lib/python3.7/site-packages/tensorflow/python/client/session.py\u001b[0m in \u001b[0;36m_do_run\u001b[0;34m(self, handle, target_list, fetch_list, feed_dict, options, run_metadata)\u001b[0m\n\u001b[1;32m   1357\u001b[0m     \u001b[0;32mif\u001b[0m \u001b[0mhandle\u001b[0m \u001b[0;32mis\u001b[0m \u001b[0;32mNone\u001b[0m\u001b[0;34m:\u001b[0m\u001b[0;34m\u001b[0m\u001b[0;34m\u001b[0m\u001b[0m\n\u001b[1;32m   1358\u001b[0m       return self._do_call(_run_fn, feeds, fetches, targets, options,\n\u001b[0;32m-> 1359\u001b[0;31m                            run_metadata)\n\u001b[0m\u001b[1;32m   1360\u001b[0m     \u001b[0;32melse\u001b[0m\u001b[0;34m:\u001b[0m\u001b[0;34m\u001b[0m\u001b[0;34m\u001b[0m\u001b[0m\n\u001b[1;32m   1361\u001b[0m       \u001b[0;32mreturn\u001b[0m \u001b[0mself\u001b[0m\u001b[0;34m.\u001b[0m\u001b[0m_do_call\u001b[0m\u001b[0;34m(\u001b[0m\u001b[0m_prun_fn\u001b[0m\u001b[0;34m,\u001b[0m \u001b[0mhandle\u001b[0m\u001b[0;34m,\u001b[0m \u001b[0mfeeds\u001b[0m\u001b[0;34m,\u001b[0m \u001b[0mfetches\u001b[0m\u001b[0;34m)\u001b[0m\u001b[0;34m\u001b[0m\u001b[0;34m\u001b[0m\u001b[0m\n",
      "\u001b[0;32m~/venv_capstone/lib/python3.7/site-packages/tensorflow/python/client/session.py\u001b[0m in \u001b[0;36m_do_call\u001b[0;34m(self, fn, *args)\u001b[0m\n\u001b[1;32m   1382\u001b[0m                     \u001b[0;34m'\\nsession_config.graph_options.rewrite_options.'\u001b[0m\u001b[0;34m\u001b[0m\u001b[0;34m\u001b[0m\u001b[0m\n\u001b[1;32m   1383\u001b[0m                     'disable_meta_optimizer = True')\n\u001b[0;32m-> 1384\u001b[0;31m       \u001b[0;32mraise\u001b[0m \u001b[0mtype\u001b[0m\u001b[0;34m(\u001b[0m\u001b[0me\u001b[0m\u001b[0;34m)\u001b[0m\u001b[0;34m(\u001b[0m\u001b[0mnode_def\u001b[0m\u001b[0;34m,\u001b[0m \u001b[0mop\u001b[0m\u001b[0;34m,\u001b[0m \u001b[0mmessage\u001b[0m\u001b[0;34m)\u001b[0m\u001b[0;34m\u001b[0m\u001b[0;34m\u001b[0m\u001b[0m\n\u001b[0m\u001b[1;32m   1385\u001b[0m \u001b[0;34m\u001b[0m\u001b[0m\n\u001b[1;32m   1386\u001b[0m   \u001b[0;32mdef\u001b[0m \u001b[0m_extend_graph\u001b[0m\u001b[0;34m(\u001b[0m\u001b[0mself\u001b[0m\u001b[0;34m)\u001b[0m\u001b[0;34m:\u001b[0m\u001b[0;34m\u001b[0m\u001b[0;34m\u001b[0m\u001b[0m\n",
      "\u001b[0;31mInvalidArgumentError\u001b[0m: 2 root error(s) found.\n  (0) Invalid argument: You must feed a value for placeholder tensor 'Placeholder_1' with dtype float and shape [?,256,2069]\n\t [[node Placeholder_1 (defined at <ipython-input-70-42deb1a72a5c>:19) ]]\n\t [[generation_dec/dense/BiasAdd/_167]]\n  (1) Invalid argument: You must feed a value for placeholder tensor 'Placeholder_1' with dtype float and shape [?,256,2069]\n\t [[node Placeholder_1 (defined at <ipython-input-70-42deb1a72a5c>:19) ]]\n0 successful operations.\n0 derived errors ignored.\n\nOriginal stack trace for 'Placeholder_1':\n  File \"/usr/lib/python3.7/runpy.py\", line 193, in _run_module_as_main\n    \"__main__\", mod_spec)\n  File \"/usr/lib/python3.7/runpy.py\", line 85, in _run_code\n    exec(code, run_globals)\n  File \"/home/svclaw2000/venv_capstone/lib/python3.7/site-packages/ipykernel_launcher.py\", line 16, in <module>\n    app.launch_new_instance()\n  File \"/home/svclaw2000/venv_capstone/lib/python3.7/site-packages/traitlets/config/application.py\", line 845, in launch_instance\n    app.start()\n  File \"/home/svclaw2000/venv_capstone/lib/python3.7/site-packages/ipykernel/kernelapp.py\", line 612, in start\n    self.io_loop.start()\n  File \"/home/svclaw2000/venv_capstone/lib/python3.7/site-packages/tornado/platform/asyncio.py\", line 199, in start\n    self.asyncio_loop.run_forever()\n  File \"/usr/lib/python3.7/asyncio/base_events.py\", line 534, in run_forever\n    self._run_once()\n  File \"/usr/lib/python3.7/asyncio/base_events.py\", line 1771, in _run_once\n    handle._run()\n  File \"/usr/lib/python3.7/asyncio/events.py\", line 88, in _run\n    self._context.run(self._callback, *self._args)\n  File \"/home/svclaw2000/venv_capstone/lib/python3.7/site-packages/tornado/ioloop.py\", line 688, in <lambda>\n    lambda f: self._run_callback(functools.partial(callback, future))\n  File \"/home/svclaw2000/venv_capstone/lib/python3.7/site-packages/tornado/ioloop.py\", line 741, in _run_callback\n    ret = callback()\n  File \"/home/svclaw2000/venv_capstone/lib/python3.7/site-packages/tornado/gen.py\", line 814, in inner\n    self.ctx_run(self.run)\n  File \"/home/svclaw2000/venv_capstone/lib/python3.7/site-packages/tornado/gen.py\", line 775, in run\n    yielded = self.gen.send(value)\n  File \"/home/svclaw2000/venv_capstone/lib/python3.7/site-packages/ipykernel/kernelbase.py\", line 365, in process_one\n    yield gen.maybe_future(dispatch(*args))\n  File \"/home/svclaw2000/venv_capstone/lib/python3.7/site-packages/tornado/gen.py\", line 234, in wrapper\n    yielded = ctx_run(next, result)\n  File \"/home/svclaw2000/venv_capstone/lib/python3.7/site-packages/ipykernel/kernelbase.py\", line 268, in dispatch_shell\n    yield gen.maybe_future(handler(stream, idents, msg))\n  File \"/home/svclaw2000/venv_capstone/lib/python3.7/site-packages/tornado/gen.py\", line 234, in wrapper\n    yielded = ctx_run(next, result)\n  File \"/home/svclaw2000/venv_capstone/lib/python3.7/site-packages/ipykernel/kernelbase.py\", line 545, in execute_request\n    user_expressions, allow_stdin,\n  File \"/home/svclaw2000/venv_capstone/lib/python3.7/site-packages/tornado/gen.py\", line 234, in wrapper\n    yielded = ctx_run(next, result)\n  File \"/home/svclaw2000/venv_capstone/lib/python3.7/site-packages/ipykernel/ipkernel.py\", line 306, in do_execute\n    res = shell.run_cell(code, store_history=store_history, silent=silent)\n  File \"/home/svclaw2000/venv_capstone/lib/python3.7/site-packages/ipykernel/zmqshell.py\", line 536, in run_cell\n    return super(ZMQInteractiveShell, self).run_cell(*args, **kwargs)\n  File \"/home/svclaw2000/venv_capstone/lib/python3.7/site-packages/IPython/core/interactiveshell.py\", line 2878, in run_cell\n    raw_cell, store_history, silent, shell_futures)\n  File \"/home/svclaw2000/venv_capstone/lib/python3.7/site-packages/IPython/core/interactiveshell.py\", line 2923, in _run_cell\n    return runner(coro)\n  File \"/home/svclaw2000/venv_capstone/lib/python3.7/site-packages/IPython/core/async_helpers.py\", line 68, in _pseudo_sync_runner\n    coro.send(None)\n  File \"/home/svclaw2000/venv_capstone/lib/python3.7/site-packages/IPython/core/interactiveshell.py\", line 3147, in run_cell_async\n    interactivity=interactivity, compiler=compiler, result=result)\n  File \"/home/svclaw2000/venv_capstone/lib/python3.7/site-packages/IPython/core/interactiveshell.py\", line 3338, in run_ast_nodes\n    if (await self.run_code(code, result,  async_=asy)):\n  File \"/home/svclaw2000/venv_capstone/lib/python3.7/site-packages/IPython/core/interactiveshell.py\", line 3418, in run_code\n    exec(code_obj, self.user_global_ns, self.user_ns)\n  File \"<ipython-input-70-42deb1a72a5c>\", line 19, in <module>\n    dec_inputs = tf.placeholder(tf.float32, shape=[None, max_seq_length, dict_len])\n  File \"/home/svclaw2000/venv_capstone/lib/python3.7/site-packages/tensorflow/python/ops/array_ops.py\", line 3100, in placeholder\n    return gen_array_ops.placeholder(dtype=dtype, shape=shape, name=name)\n  File \"/home/svclaw2000/venv_capstone/lib/python3.7/site-packages/tensorflow/python/ops/gen_array_ops.py\", line 6809, in placeholder\n    \"Placeholder\", dtype=dtype, shape=shape, name=name)\n  File \"/home/svclaw2000/venv_capstone/lib/python3.7/site-packages/tensorflow/python/framework/op_def_library.py\", line 744, in _apply_op_helper\n    attrs=attr_protos, op_def=op_def)\n  File \"/home/svclaw2000/venv_capstone/lib/python3.7/site-packages/tensorflow/python/framework/ops.py\", line 3485, in _create_op_internal\n    op_def=op_def)\n  File \"/home/svclaw2000/venv_capstone/lib/python3.7/site-packages/tensorflow/python/framework/ops.py\", line 1949, in __init__\n    self._traceback = tf_stack.extract_stack()\n"
     ]
    }
   ],
   "source": [
    "start_idx, end_idx = 50, 100\n",
    "\n",
    "results = sess.run(outputs2, feed_dict={inputs:image_data[start_idx:end_idx]})\n",
    "print('정답 예측')\n",
    "\n",
    "for l, p, img in zip(y_train[start_idx:end_idx], l_label[np.argmax(results, axis=1)], image_data[start_idx:end_idx]):\n",
    "    print([l==p, l, p])\n",
    "    plt.imshow(img)\n",
    "    plt.show()"
   ]
  },
  {
   "cell_type": "code",
   "execution_count": 52,
   "metadata": {
    "scrolled": true
   },
   "outputs": [
    {
     "name": "stdout",
     "output_type": "stream",
     "text": [
      "정답 예측\n"
     ]
    },
    {
     "data": {
      "text/plain": [
       "[[False, '애완동물', '여행'],\n",
       " [False, '일상', '여행'],\n",
       " [False, '애완동물', '여행'],\n",
       " [False, '셀카', '패션'],\n",
       " [False, '여행', '셀카'],\n",
       " [False, '여행', '연애'],\n",
       " [False, '애완동물', '음식'],\n",
       " [False, '음식', '여행'],\n",
       " [False, '패션', '여행'],\n",
       " [True, '애완동물', '애완동물'],\n",
       " [False, '일상', '애완동물'],\n",
       " [False, '여행', '애완동물'],\n",
       " [False, '패션', '연애'],\n",
       " [True, '패션', '패션'],\n",
       " [False, '음식', '여행'],\n",
       " [False, '여행', '음식'],\n",
       " [False, '음식', '여행'],\n",
       " [False, '패션', '애완동물'],\n",
       " [False, '음식', '셀카'],\n",
       " [False, '애완동물', '연애'],\n",
       " [False, '일상', '음식'],\n",
       " [True, '여행', '여행'],\n",
       " [False, '음식', '패션'],\n",
       " [False, '연애', '셀카'],\n",
       " [False, '셀카', '음식'],\n",
       " [False, '음식', '패션'],\n",
       " [False, '애완동물', '연애'],\n",
       " [False, '패션', '일상'],\n",
       " [False, '셀카', '애완동물'],\n",
       " [False, '일상', '패션'],\n",
       " [False, '음식', '여행'],\n",
       " [True, '패션', '패션'],\n",
       " [False, '패션', '일상'],\n",
       " [False, '일상', '연애'],\n",
       " [True, '연애', '연애'],\n",
       " [False, '애완동물', '패션'],\n",
       " [False, '일상', '연애'],\n",
       " [False, '애완동물', '패션'],\n",
       " [False, '애완동물', '패션'],\n",
       " [False, '연애', '여행'],\n",
       " [False, '셀카', '여행'],\n",
       " [True, '음식', '음식'],\n",
       " [False, '여행', '애완동물'],\n",
       " [True, '애완동물', '애완동물'],\n",
       " [False, '셀카', '패션'],\n",
       " [False, '일상', '셀카'],\n",
       " [False, '여행', '패션'],\n",
       " [False, '여행', '음식'],\n",
       " [True, '셀카', '셀카'],\n",
       " [False, '음식', '여행']]"
      ]
     },
     "execution_count": 52,
     "metadata": {},
     "output_type": "execute_result"
    }
   ],
   "source": [
    "start_idx, end_idx = 0, 50\n",
    "\n",
    "results = sess.run(outputs2, feed_dict={inputs:image_valid[start_idx:end_idx]})\n",
    "print('정답 예측')\n",
    "[[l==p, l, p] for l, p in zip(y_train[start_idx:end_idx], l_label[np.argmax(results, axis=1)])]"
   ]
  },
  {
   "cell_type": "code",
   "execution_count": null,
   "metadata": {},
   "outputs": [],
   "source": []
  }
 ],
 "metadata": {
  "kernelspec": {
   "display_name": "Keich Capstone",
   "language": "python",
   "name": "venv_capstone"
  },
  "language_info": {
   "codemirror_mode": {
    "name": "ipython",
    "version": 3
   },
   "file_extension": ".py",
   "mimetype": "text/x-python",
   "name": "python",
   "nbconvert_exporter": "python",
   "pygments_lexer": "ipython3",
   "version": "3.7.5"
  }
 },
 "nbformat": 4,
 "nbformat_minor": 2
}
