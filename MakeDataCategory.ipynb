{
 "cells": [
  {
   "cell_type": "code",
   "execution_count": 1,
   "metadata": {},
   "outputs": [],
   "source": [
    "import pickle\n",
    "import numpy as np\n",
    "from tqdm import tqdm\n",
    "from PIL import Image\n",
    "import json"
   ]
  },
  {
   "cell_type": "code",
   "execution_count": 2,
   "metadata": {
    "scrolled": true
   },
   "outputs": [
    {
     "name": "stderr",
     "output_type": "stream",
     "text": [
      "355164it [00:32, 11073.25it/s]\n"
     ]
    },
    {
     "name": "stdout",
     "output_type": "stream",
     "text": [
      "[82167, 48382, 76784, 18710, 98109, 8838, 22162]\n"
     ]
    },
    {
     "name": "stderr",
     "output_type": "stream",
     "text": [
      "100%|██████████| 7000/7000 [03:28<00:00, 33.62it/s]\n"
     ]
    }
   ],
   "source": [
    "## 피클파일 없을 때 실행\n",
    "\n",
    "# 메타데이터 및 텍스트 데이터 로드\n",
    "\n",
    "file_name = 'data_256_cat5.pkl'\n",
    "train_path = './data/%s'\n",
    "metadata = pickle.load(open('./data/preprocessed.pkl', 'rb'))\n",
    "\n",
    "target_size = 256\n",
    "\n",
    "# clean_text에 시작, 끝 추가\n",
    "# clean_text 기준 256글자 넘지 않도록 필터링\n",
    "# 각 감정 클래스가 최대한 균등하도록 샘플 추출\n",
    "# 학습 5000, 검증 1000, 테스트 1000\n",
    "\n",
    "metadata['clean_text'] = metadata['clean_text'].apply(lambda x: '\\t%s\\n' %x.strip())\n",
    "metadata = metadata[metadata['clean_text'].map(len) > 2]\n",
    "metadata = metadata[metadata['hashtag'].map(len) > 2]\n",
    "metadata = metadata[metadata['clean_text'].str.len() <= 256]\n",
    "metadata = metadata.reset_index()\n",
    "\n",
    "hashtag_data = []\n",
    "for i, row in tqdm(metadata.iterrows()):\n",
    "    _hash = row['hashtag'].replace(\"'\", '\"')\n",
    "    pos = _hash.find('\\\\U')\n",
    "    while pos != -1:\n",
    "        _hash = _hash.replace(_hash[pos:pos+10], chr(int(_hash[pos+2:pos+10], 16)))\n",
    "        pos = _hash.find('\\\\U')\n",
    "    hashtag_data.append(json.loads(_hash))\n",
    "\n",
    "metadata['hashtag'] = hashtag_data\n",
    "del hashtag_data\n",
    "metadata = metadata[metadata['hashtag'].map(len) <= 100]\n",
    "    \n",
    "sentiment_indices = [metadata[metadata['category1'] == cat].index for cat in metadata['category1'].unique()]\n",
    "data_indices = []\n",
    "\n",
    "print([len(x) for x in sentiment_indices])\n",
    "\n",
    "start_idx = 28000\n",
    "n_idx = 7000\n",
    "\n",
    "i = 0\n",
    "condition = True\n",
    "while condition:\n",
    "    for senti in sentiment_indices:\n",
    "        if len(set(data_indices)) < (start_idx+n_idx):\n",
    "            data_indices.append(senti[i])\n",
    "        else:\n",
    "            condition = False\n",
    "            break\n",
    "    i += 1\n",
    "\n",
    "data_indices = data_indices[start_idx:]\n",
    "metadata = metadata.iloc[sorted(list(set(data_indices)))]\n",
    "\n",
    "def get_image_from_path(path):\n",
    "    image = Image.open(train_path %path)\n",
    "    size = image.size\n",
    "\n",
    "    if size[0] <= size[1]:\n",
    "        scaled_size = (target_size, int(size[1]/size[0]*target_size))\n",
    "        crop_area = (0, int((scaled_size[1]-target_size)/2), target_size, int((scaled_size[1]+target_size)/2))\n",
    "    else:\n",
    "        scaled_size = (int(size[0]/size[1]*target_size), target_size)\n",
    "        crop_area = (int((scaled_size[0]-target_size)/2), 0, int((scaled_size[0]+target_size)/2), target_size)\n",
    "\n",
    "    image = image.resize(scaled_size)\n",
    "    image = image.crop(crop_area)\n",
    "    return image\n",
    "\n",
    "def get_array_from_path(path):\n",
    "    return np.asarray(get_image_from_path(path))\n",
    "\n",
    "# 이미지 불러와서 데이터셋 생성\n",
    "image_list = [get_array_from_path(path) for path in tqdm(metadata['image_path'])]\n",
    "image_data = np.array(image_list)\n",
    "del image_list\n",
    "sentence_data = np.array(metadata['clean_text'])\n",
    "hashtag_data = np.array(metadata['hashtag'])"
   ]
  },
  {
   "cell_type": "code",
   "execution_count": 3,
   "metadata": {},
   "outputs": [
    {
     "name": "stdout",
     "output_type": "stream",
     "text": [
      "(7000, 256, 256, 3)\n",
      "(7000,)\n",
      "(7000,)\n"
     ]
    }
   ],
   "source": [
    "print(image_data.shape)\n",
    "print(sentence_data.shape)\n",
    "print(hashtag_data.shape)"
   ]
  },
  {
   "cell_type": "code",
   "execution_count": 4,
   "metadata": {
    "scrolled": false
   },
   "outputs": [
    {
     "name": "stderr",
     "output_type": "stream",
     "text": [
      "100%|██████████| 7000/7000 [00:38<00:00, 182.15it/s]\n",
      "100%|██████████| 7000/7000 [00:01<00:00, 5189.72it/s]\n"
     ]
    }
   ],
   "source": [
    "from konlpy.tag import Komoran\n",
    "\n",
    "komoran = Komoran()\n",
    "use_tags = ['V', 'N', 'M', 'IC', 'XR']\n",
    "\n",
    "original_tags = [komoran.pos(s) for s in tqdm(sentence_data)]\n",
    "sentence_tags = []\n",
    "\n",
    "for tags in tqdm(original_tags):\n",
    "    sentence_tag = []\n",
    "    for tag in tags:\n",
    "        for use_tag in use_tags:\n",
    "            if tag[1].startswith(use_tag):\n",
    "                sentence_tag.append(tag)\n",
    "    sentence_tags.append(sentence_tag)"
   ]
  },
  {
   "cell_type": "code",
   "execution_count": 5,
   "metadata": {
    "scrolled": false
   },
   "outputs": [],
   "source": [
    "pickle.dump([['image_data', 'sentence_data', 'sentence_tags', 'hashtag_data', 'metadata'], [image_data, sentence_data, sentence_tags, hashtag_data, metadata]], open(file_name, 'wb'))"
   ]
  },
  {
   "cell_type": "code",
   "execution_count": null,
   "metadata": {},
   "outputs": [],
   "source": []
  }
 ],
 "metadata": {
  "kernelspec": {
   "display_name": "Keich Capstone",
   "language": "python",
   "name": "venv_capstone"
  },
  "language_info": {
   "codemirror_mode": {
    "name": "ipython",
    "version": 3
   },
   "file_extension": ".py",
   "mimetype": "text/x-python",
   "name": "python",
   "nbconvert_exporter": "python",
   "pygments_lexer": "ipython3",
   "version": "3.5.2"
  }
 },
 "nbformat": 4,
 "nbformat_minor": 2
}
