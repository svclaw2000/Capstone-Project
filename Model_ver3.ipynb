{
 "cells": [
  {
   "cell_type": "code",
   "execution_count": 132,
   "metadata": {},
   "outputs": [],
   "source": [
    "import pickle\n",
    "from PIL import Image\n",
    "import numpy as np\n",
    "from tqdm import tqdm\n",
    "from konlpy.tag import Komoran"
   ]
  },
  {
   "cell_type": "code",
   "execution_count": 133,
   "metadata": {},
   "outputs": [],
   "source": [
    "target_size = 256\n",
    "image_data, sentiment_data, sentence_data = pickle.load(open('data.pkl', 'rb'))"
   ]
  },
  {
   "cell_type": "code",
   "execution_count": 134,
   "metadata": {
    "scrolled": true
   },
   "outputs": [
    {
     "name": "stdout",
     "output_type": "stream",
     "text": [
      "(7000, 256, 256, 3)\n",
      "(7000, 4)\n",
      "(7000,)\n"
     ]
    }
   ],
   "source": [
    "print(image_data.shape)\n",
    "print(sentiment_data.shape)\n",
    "print(sentence_data.shape)"
   ]
  },
  {
   "cell_type": "code",
   "execution_count": 135,
   "metadata": {},
   "outputs": [],
   "source": [
    "komoran = Komoran()\n",
    "output_tags = [komoran.pos(text, join=True) for text in sentence_data]\n",
    "output_tags = [[tag.split('/')[0] for tag in tags] for tags in output_tags]\n",
    "\n",
    "valid_idx = []\n",
    "temp = []\n",
    "for i, tags in enumerate(output_tags):\n",
    "    tags.insert(0, '\\t')\n",
    "    tags.append('\\n')\n",
    "    if len(tags) <= 60:\n",
    "        valid_idx.append(i)\n",
    "        temp.append(tags)\n",
    "        \n",
    "image_data = image_data[valid_idx]\n",
    "sentiment_data = sentiment_data[valid_idx]\n",
    "sentence_data = sentence_data[valid_idx]\n",
    "output_tags = temp"
   ]
  },
  {
   "cell_type": "code",
   "execution_count": 136,
   "metadata": {
    "scrolled": true
   },
   "outputs": [
    {
     "data": {
      "text/plain": [
       "OrderedDict([(3, 7),\n",
       "             (4, 63),\n",
       "             (5, 157),\n",
       "             (6, 205),\n",
       "             (7, 204),\n",
       "             (8, 197),\n",
       "             (9, 210),\n",
       "             (10, 209),\n",
       "             (11, 167),\n",
       "             (12, 191),\n",
       "             (13, 176),\n",
       "             (14, 149),\n",
       "             (15, 151),\n",
       "             (16, 144),\n",
       "             (17, 131),\n",
       "             (18, 138),\n",
       "             (19, 95),\n",
       "             (20, 101),\n",
       "             (21, 97),\n",
       "             (22, 93),\n",
       "             (23, 96),\n",
       "             (24, 99),\n",
       "             (25, 100),\n",
       "             (26, 87),\n",
       "             (27, 76),\n",
       "             (28, 76),\n",
       "             (29, 79),\n",
       "             (30, 88),\n",
       "             (31, 87),\n",
       "             (32, 81),\n",
       "             (33, 78),\n",
       "             (34, 67),\n",
       "             (35, 52),\n",
       "             (36, 55),\n",
       "             (37, 64),\n",
       "             (38, 61),\n",
       "             (39, 76),\n",
       "             (40, 72),\n",
       "             (41, 56),\n",
       "             (42, 70),\n",
       "             (43, 67),\n",
       "             (44, 65),\n",
       "             (45, 50),\n",
       "             (46, 55),\n",
       "             (47, 38),\n",
       "             (48, 46),\n",
       "             (49, 80),\n",
       "             (50, 56),\n",
       "             (51, 45),\n",
       "             (52, 38),\n",
       "             (53, 38),\n",
       "             (54, 42),\n",
       "             (55, 72),\n",
       "             (56, 37),\n",
       "             (57, 57),\n",
       "             (58, 34),\n",
       "             (59, 38),\n",
       "             (60, 44)])"
      ]
     },
     "execution_count": 136,
     "metadata": {},
     "output_type": "execute_result"
    }
   ],
   "source": [
    "from collections import OrderedDict\n",
    "\n",
    "len_dict = {}\n",
    "for i in map(len, output_tags):\n",
    "    if i in len_dict:\n",
    "        len_dict[i] += 1\n",
    "    else:\n",
    "        len_dict[i] = 1\n",
    "len_dict = OrderedDict(sorted(len_dict.items()))\n",
    "len_dict"
   ]
  },
  {
   "cell_type": "code",
   "execution_count": 156,
   "metadata": {},
   "outputs": [],
   "source": [
    "# RNN 준비과정\n",
    "\n",
    "output_words = set()\n",
    "for tags in output_tags:\n",
    "    for word in tags:\n",
    "        if word not in output_words:\n",
    "            output_words.add(word)\n",
    "            \n",
    "output_words = sorted(list(output_words))\n",
    "output_words[0], output_words[1] = output_words[1], output_words[0]\n",
    "num_decoder_tokens = len(output_words)\n",
    "max_decoder_seq_length = max(map(len, output_tags))\n",
    "\n",
    "output_token_index = {w: i for i, w in enumerate(output_words)}\n",
    "reverse_output_char_index = dict((i, w) for w, i in output_token_index.items())\n",
    "\n",
    "# decoder_output_data = np.zeros(shape=(7000, max_decoder_seq_length, num_decoder_tokens), dtype='float32')\n",
    "decoder_output_data = np.zeros(shape=(sentence_data.shape[0], max_decoder_seq_length), dtype='float32')\n",
    "\n",
    "for i, s in enumerate(output_tags):\n",
    "    for j, c in enumerate(s):\n",
    "        if j > 0:\n",
    "            decoder_output_data[i, j-1] = output_token_index[c]"
   ]
  },
  {
   "cell_type": "code",
   "execution_count": 138,
   "metadata": {},
   "outputs": [],
   "source": [
    "import tensorflow.compat.v1 as tf\n",
    "tf.disable_v2_behavior()\n",
    "\n",
    "tf.reset_default_graph()"
   ]
  },
  {
   "cell_type": "code",
   "execution_count": 139,
   "metadata": {},
   "outputs": [],
   "source": [
    "# 이미지 (CNN)\n",
    "\n",
    "X = tf.placeholder(tf.float32, shape=[None, target_size, target_size, 3])\n",
    "\n",
    "n_conv_1 = 64\n",
    "k_conv_1 = 5\n",
    "W_conv_1 = tf.Variable(tf.truncated_normal(shape=[k_conv_1,k_conv_1,3,n_conv_1], stddev=5e-2))\n",
    "b_conv_1 = tf.Variable(tf.constant(0.1, shape=[n_conv_1]))\n",
    "h_conv_1 = tf.nn.relu(tf.nn.conv2d(X, W_conv_1, strides=[1,1,1,1], padding='SAME') + b_conv_1)\n",
    "h_pool_1 = tf.nn.max_pool(h_conv_1, ksize=[1,3,3,1], strides=[1,2,2,1], padding='SAME')\n",
    "\n",
    "n_conv_2 = 64\n",
    "k_conv_2 = 5\n",
    "W_conv_2 = tf.Variable(tf.truncated_normal(shape=[k_conv_2,k_conv_2,n_conv_1,n_conv_2], stddev=5e-2))\n",
    "b_conv_2 = tf.Variable(tf.constant(0.1, shape=[n_conv_2]))\n",
    "h_conv_2 = tf.nn.relu(tf.nn.conv2d(h_pool_1, W_conv_2, strides=[1,1,1,1], padding='SAME') + b_conv_2)\n",
    "h_pool_2 = tf.nn.max_pool(h_conv_2, ksize=[1,3,3,1], strides=[1,2,2,1], padding='SAME')\n",
    "\n",
    "n_conv_3 = 128\n",
    "k_conv_3 = 3\n",
    "W_conv_3 = tf.Variable(tf.truncated_normal(shape=[k_conv_3,k_conv_3,n_conv_2,n_conv_3], stddev=5e-2))\n",
    "b_conv_3 = tf.Variable(tf.constant(0.1, shape=[n_conv_3]))\n",
    "h_conv_3 = tf.nn.relu(tf.nn.conv2d(h_pool_2, W_conv_3, strides=[1,1,1,1], padding='SAME') + b_conv_3)\n",
    "h_pool_3 = tf.nn.max_pool(h_conv_3, ksize=[1,3,3,1], strides=[1,2,2,1], padding='SAME')\n",
    "\n",
    "n_conv_4 = 128\n",
    "k_conv_4 = 3\n",
    "W_conv_4 = tf.Variable(tf.truncated_normal(shape=[k_conv_4,k_conv_4,n_conv_3,n_conv_4], stddev=5e-2))\n",
    "b_conv_4 = tf.Variable(tf.constant(0.1, shape=[n_conv_4]))\n",
    "h_conv_4 = tf.nn.relu(tf.nn.conv2d(h_pool_3, W_conv_4, strides=[1,1,1,1], padding='SAME') + b_conv_4)\n",
    "\n",
    "n_conv_5 = 128\n",
    "k_conv_5 = 3\n",
    "W_conv_5 = tf.Variable(tf.truncated_normal(shape=[k_conv_5,k_conv_5,n_conv_4,n_conv_5], stddev=5e-2))\n",
    "b_conv_5 = tf.Variable(tf.constant(0.1, shape=[n_conv_5]))\n",
    "h_conv_5 = tf.nn.relu(tf.nn.conv2d(h_conv_4, W_conv_5, strides=[1,1,1,1], padding='SAME') + b_conv_5)\n",
    "h_conv_5_flat = tf.reshape(h_conv_5, [-1, h_conv_5.shape[1]*h_conv_5.shape[2]*h_conv_5.shape[3]])\n",
    "\n",
    "n_fc_1 = max_decoder_seq_length * 5\n",
    "k_conv_1 = 5\n",
    "W_fc_1 = tf.Variable(tf.truncated_normal(shape=[h_conv_5_flat.shape[1], n_fc_1], stddev=5e-2))\n",
    "b_fc_1 = tf.Variable(tf.constant(0.1, shape=[n_fc_1]))\n",
    "h_fc_1 = tf.nn.relu(tf.matmul(h_conv_5_flat, W_fc_1) + b_fc_1)\n",
    "\n",
    "h_fc_1_drop = tf.nn.dropout(h_fc_1, 0.8)"
   ]
  },
  {
   "cell_type": "code",
   "execution_count": 140,
   "metadata": {},
   "outputs": [],
   "source": [
    "# 감정\n",
    "\n",
    "# n_senti = 4\n",
    "\n",
    "# S = tf.placeholder(tf.float32, shape=[None, n_senti])\n",
    "\n",
    "# h_pre_s = tf.tile(h_fc_1_drop, [1, n_senti]) * tf.repeat(S, n_fc_1, axis=1)\n",
    "\n",
    "# n_final = 256\n",
    "# W_final = tf.Variable(tf.truncated_normal(shape=[n_senti*n_fc_1, n_final]))\n",
    "# b_final = tf.Variable(tf.constant(0.1, shape=[n_final]))\n",
    "# h_final = tf.matmul(h_pre_s, W_final) + b_final"
   ]
  },
  {
   "cell_type": "code",
   "execution_count": 141,
   "metadata": {
    "scrolled": true
   },
   "outputs": [],
   "source": [
    "# 문장 생성 (RNN)\n",
    "\n",
    "learning_rate = 1e-2\n",
    "n_hidden = 1024\n",
    "n_class = n_input = num_decoder_tokens\n",
    "\n",
    "# enc_input = tf.reshape(h_final, [-1, n_final, 1])\n",
    "enc_input = tf.reshape(h_fc_1_drop, [-1, max_decoder_seq_length, 5])\n",
    "dec_output = tf.placeholder(tf.int64, [None, max_decoder_seq_length])\n",
    "\n",
    "dec_cell = tf.nn.rnn_cell.BasicRNNCell(n_hidden)\n",
    "dec_cell = tf.nn.rnn_cell.DropoutWrapper(dec_cell, output_keep_prob=0.8)\n",
    "outputs, dec_states = tf.nn.dynamic_rnn(dec_cell, enc_input, dtype=tf.float32,\n",
    "                                        scope='decoder')\n",
    "\n",
    "model = tf.layers.dense(outputs, n_class, activation=None)\n",
    "cost = tf.reduce_mean(tf.nn.sparse_softmax_cross_entropy_with_logits(logits=model, labels=dec_output))\n",
    "optimizer = tf.train.AdamOptimizer(learning_rate).minimize(cost)"
   ]
  },
  {
   "cell_type": "code",
   "execution_count": 142,
   "metadata": {
    "scrolled": true
   },
   "outputs": [
    {
     "data": {
      "text/plain": [
       "(<tf.Tensor 'dense/BiasAdd:0' shape=(?, 60, 9682) dtype=float32>,\n",
       " <tf.Tensor 'Placeholder_1:0' shape=(?, 60) dtype=int64>)"
      ]
     },
     "execution_count": 142,
     "metadata": {},
     "output_type": "execute_result"
    }
   ],
   "source": [
    "model, dec_output"
   ]
  },
  {
   "cell_type": "code",
   "execution_count": 202,
   "metadata": {},
   "outputs": [
    {
     "data": {
      "text/plain": [
       "OrderedDict([(1, 4724),\n",
       "             (2, 1433),\n",
       "             (3, 714),\n",
       "             (4, 407),\n",
       "             (5, 328),\n",
       "             (6, 241),\n",
       "             (7, 197),\n",
       "             (8, 138),\n",
       "             (9, 119),\n",
       "             (10, 110),\n",
       "             (11, 92),\n",
       "             (12, 79),\n",
       "             (13, 68),\n",
       "             (14, 49),\n",
       "             (15, 54),\n",
       "             (16, 55),\n",
       "             (17, 35),\n",
       "             (18, 27),\n",
       "             (19, 30),\n",
       "             (20, 37),\n",
       "             (21, 39),\n",
       "             (22, 35),\n",
       "             (23, 15),\n",
       "             (24, 25),\n",
       "             (25, 24),\n",
       "             (26, 31),\n",
       "             (27, 13),\n",
       "             (28, 17),\n",
       "             (29, 12),\n",
       "             (30, 13),\n",
       "             (31, 19),\n",
       "             (32, 12),\n",
       "             (33, 19),\n",
       "             (34, 9),\n",
       "             (35, 6),\n",
       "             (36, 13),\n",
       "             (37, 12),\n",
       "             (38, 7),\n",
       "             (39, 7),\n",
       "             (40, 6),\n",
       "             (41, 14),\n",
       "             (42, 11),\n",
       "             (43, 14),\n",
       "             (44, 15),\n",
       "             (45, 10),\n",
       "             (46, 8),\n",
       "             (47, 3),\n",
       "             (48, 6),\n",
       "             (49, 7),\n",
       "             (50, 5),\n",
       "             (51, 3),\n",
       "             (52, 11),\n",
       "             (53, 4),\n",
       "             (54, 2),\n",
       "             (55, 3),\n",
       "             (56, 6),\n",
       "             (57, 8),\n",
       "             (58, 8),\n",
       "             (59, 4),\n",
       "             (60, 2),\n",
       "             (61, 3),\n",
       "             (62, 8),\n",
       "             (63, 4),\n",
       "             (64, 4),\n",
       "             (65, 6),\n",
       "             (66, 5),\n",
       "             (67, 3),\n",
       "             (68, 2),\n",
       "             (69, 3),\n",
       "             (70, 6),\n",
       "             (71, 2),\n",
       "             (72, 2),\n",
       "             (73, 1),\n",
       "             (74, 5),\n",
       "             (75, 3),\n",
       "             (76, 4),\n",
       "             (77, 5),\n",
       "             (79, 4),\n",
       "             (80, 3),\n",
       "             (83, 2),\n",
       "             (84, 3),\n",
       "             (85, 1),\n",
       "             (87, 4),\n",
       "             (88, 1),\n",
       "             (90, 4),\n",
       "             (91, 1),\n",
       "             (92, 2),\n",
       "             (93, 3),\n",
       "             (94, 2),\n",
       "             (96, 1),\n",
       "             (97, 1),\n",
       "             (98, 2),\n",
       "             (99, 1),\n",
       "             (100, 4),\n",
       "             (101, 1),\n",
       "             (103, 2),\n",
       "             (104, 1),\n",
       "             (105, 1),\n",
       "             (106, 2),\n",
       "             (107, 3),\n",
       "             (108, 1),\n",
       "             (109, 1),\n",
       "             (110, 1),\n",
       "             (111, 2),\n",
       "             (112, 1),\n",
       "             (113, 1),\n",
       "             (114, 1),\n",
       "             (115, 1),\n",
       "             (116, 2),\n",
       "             (118, 6),\n",
       "             (119, 1),\n",
       "             (121, 2),\n",
       "             (122, 1),\n",
       "             (123, 2),\n",
       "             (124, 1),\n",
       "             (126, 1),\n",
       "             (127, 1),\n",
       "             (130, 1),\n",
       "             (131, 1),\n",
       "             (132, 2),\n",
       "             (134, 2),\n",
       "             (135, 1),\n",
       "             (136, 2),\n",
       "             (137, 2),\n",
       "             (139, 1),\n",
       "             (142, 1),\n",
       "             (143, 2),\n",
       "             (144, 1),\n",
       "             (146, 3),\n",
       "             (147, 1),\n",
       "             (150, 1),\n",
       "             (152, 2),\n",
       "             (156, 1),\n",
       "             (157, 2),\n",
       "             (159, 1),\n",
       "             (161, 1),\n",
       "             (162, 1),\n",
       "             (165, 2),\n",
       "             (170, 1),\n",
       "             (171, 2),\n",
       "             (174, 1),\n",
       "             (175, 1),\n",
       "             (179, 3),\n",
       "             (182, 1),\n",
       "             (188, 1),\n",
       "             (191, 1),\n",
       "             (192, 1),\n",
       "             (196, 1),\n",
       "             (198, 1),\n",
       "             (210, 2),\n",
       "             (212, 1),\n",
       "             (213, 1),\n",
       "             (222, 1),\n",
       "             (225, 1),\n",
       "             (226, 1),\n",
       "             (229, 1),\n",
       "             (230, 2),\n",
       "             (232, 1),\n",
       "             (240, 1),\n",
       "             (242, 1),\n",
       "             (245, 1),\n",
       "             (248, 1),\n",
       "             (260, 1),\n",
       "             (262, 1),\n",
       "             (263, 1),\n",
       "             (268, 1),\n",
       "             (270, 1),\n",
       "             (283, 1),\n",
       "             (291, 1),\n",
       "             (298, 1),\n",
       "             (317, 1),\n",
       "             (319, 1),\n",
       "             (321, 1),\n",
       "             (324, 1),\n",
       "             (325, 1),\n",
       "             (339, 1),\n",
       "             (346, 1),\n",
       "             (353, 1),\n",
       "             (358, 1),\n",
       "             (361, 1),\n",
       "             (364, 1),\n",
       "             (365, 1),\n",
       "             (387, 1),\n",
       "             (389, 1),\n",
       "             (395, 3),\n",
       "             (397, 1),\n",
       "             (399, 1),\n",
       "             (408, 1),\n",
       "             (422, 1),\n",
       "             (433, 1),\n",
       "             (442, 1),\n",
       "             (483, 1),\n",
       "             (484, 1),\n",
       "             (623, 1),\n",
       "             (630, 1),\n",
       "             (632, 1),\n",
       "             (637, 1),\n",
       "             (642, 1),\n",
       "             (643, 1),\n",
       "             (671, 1),\n",
       "             (712, 1),\n",
       "             (719, 1),\n",
       "             (721, 1),\n",
       "             (746, 1),\n",
       "             (756, 1),\n",
       "             (851, 1),\n",
       "             (852, 1),\n",
       "             (947, 1),\n",
       "             (978, 1),\n",
       "             (1147, 1),\n",
       "             (1150, 1),\n",
       "             (1153, 1),\n",
       "             (1440, 1),\n",
       "             (1464, 1),\n",
       "             (1535, 1),\n",
       "             (1549, 1),\n",
       "             (1578, 1),\n",
       "             (1708, 1),\n",
       "             (1849, 1),\n",
       "             (1980, 1),\n",
       "             (2517, 1),\n",
       "             (2992, 1),\n",
       "             (3183, 1),\n",
       "             (4170, 1),\n",
       "             (199984, 1)])"
      ]
     },
     "execution_count": 202,
     "metadata": {},
     "output_type": "execute_result"
    }
   ],
   "source": [
    "from collections import OrderedDict\n",
    "\n",
    "len_dict = {}\n",
    "for s in decoder_output_data:\n",
    "    for i in s:\n",
    "        if i in len_dict:\n",
    "            len_dict[i] += 1\n",
    "        else:\n",
    "            len_dict[i] = 1\n",
    "len_dict = OrderedDict(sorted(len_dict.items()))\n",
    "len_dict2 = {}\n",
    "count = 0\n",
    "for i, n in len_dict.items():\n",
    "    if n in len_dict2:\n",
    "        len_dict2[n] += 1\n",
    "    else:\n",
    "        len_dict2[n] = 1\n",
    "len_dict2 = OrderedDict(sorted(len_dict2.items()))\n",
    "len_dict2"
   ]
  },
  {
   "cell_type": "code",
   "execution_count": 197,
   "metadata": {},
   "outputs": [
    {
     "data": {
      "text/plain": [
       "'ㅂ니다요'"
      ]
     },
     "execution_count": 197,
     "metadata": {},
     "output_type": "execute_result"
    }
   ],
   "source": [
    "output_words[51]"
   ]
  },
  {
   "cell_type": "code",
   "execution_count": 144,
   "metadata": {},
   "outputs": [
    {
     "data": {
      "text/plain": [
       "[<tf.Variable 'Variable:0' shape=(5, 5, 3, 64) dtype=float32_ref>,\n",
       " <tf.Variable 'Variable_1:0' shape=(64,) dtype=float32_ref>,\n",
       " <tf.Variable 'Variable_2:0' shape=(5, 5, 64, 64) dtype=float32_ref>,\n",
       " <tf.Variable 'Variable_3:0' shape=(64,) dtype=float32_ref>,\n",
       " <tf.Variable 'Variable_4:0' shape=(3, 3, 64, 128) dtype=float32_ref>,\n",
       " <tf.Variable 'Variable_5:0' shape=(128,) dtype=float32_ref>,\n",
       " <tf.Variable 'Variable_6:0' shape=(3, 3, 128, 128) dtype=float32_ref>,\n",
       " <tf.Variable 'Variable_7:0' shape=(128,) dtype=float32_ref>,\n",
       " <tf.Variable 'Variable_8:0' shape=(3, 3, 128, 128) dtype=float32_ref>,\n",
       " <tf.Variable 'Variable_9:0' shape=(128,) dtype=float32_ref>,\n",
       " <tf.Variable 'Variable_10:0' shape=(131072, 300) dtype=float32_ref>,\n",
       " <tf.Variable 'Variable_11:0' shape=(300,) dtype=float32_ref>,\n",
       " <tf.Variable 'decoder/basic_rnn_cell/kernel:0' shape=(1029, 1024) dtype=float32_ref>,\n",
       " <tf.Variable 'decoder/basic_rnn_cell/bias:0' shape=(1024,) dtype=float32_ref>,\n",
       " <tf.Variable 'dense/kernel:0' shape=(1024, 9682) dtype=float32_ref>,\n",
       " <tf.Variable 'dense/bias:0' shape=(9682,) dtype=float32_ref>]"
      ]
     },
     "execution_count": 144,
     "metadata": {},
     "output_type": "execute_result"
    }
   ],
   "source": [
    "tf.trainable_variables()"
   ]
  },
  {
   "cell_type": "code",
   "execution_count": 145,
   "metadata": {
    "scrolled": true
   },
   "outputs": [
    {
     "name": "stdout",
     "output_type": "stream",
     "text": [
      "Device mapping:\n",
      "/job:localhost/replica:0/task:0/device:XLA_CPU:0 -> device: XLA_CPU device\n",
      "/job:localhost/replica:0/task:0/device:XLA_GPU:0 -> device: XLA_GPU device\n",
      "/job:localhost/replica:0/task:0/device:GPU:0 -> device: 0, name: GeForce RTX 2080 Ti, pci bus id: 0000:68:00.0, compute capability: 7.5\n",
      "\n"
     ]
    }
   ],
   "source": [
    "with tf.device('/gpu:0'):\n",
    "    sess = tf.Session(config=tf.ConfigProto(allow_soft_placement=True, \n",
    "                                            log_device_placement=True))\n",
    "    sess.run(tf.global_variables_initializer())"
   ]
  },
  {
   "cell_type": "code",
   "execution_count": 146,
   "metadata": {},
   "outputs": [
    {
     "data": {
      "text/plain": [
       "TensorShape([Dimension(5), Dimension(5), Dimension(3), Dimension(64)])"
      ]
     },
     "execution_count": 146,
     "metadata": {},
     "output_type": "execute_result"
    }
   ],
   "source": [
    "W_conv_1.shape"
   ]
  },
  {
   "cell_type": "code",
   "execution_count": 154,
   "metadata": {
    "scrolled": true
   },
   "outputs": [
    {
     "name": "stderr",
     "output_type": "stream",
     "text": [
      "100%|██████████| 10/10 [00:03<00:00,  2.98it/s]\n",
      "  0%|          | 0/10 [00:00<?, ?it/s]"
     ]
    },
    {
     "name": "stdout",
     "output_type": "stream",
     "text": [
      "Epoch: 0001 Cost: 3.852855 Valid Cost: 4.574734\n"
     ]
    },
    {
     "name": "stderr",
     "output_type": "stream",
     "text": [
      "100%|██████████| 10/10 [00:03<00:00,  3.03it/s]\n",
      "  0%|          | 0/10 [00:00<?, ?it/s]"
     ]
    },
    {
     "name": "stdout",
     "output_type": "stream",
     "text": [
      "Epoch: 0002 Cost: 3.750632 Valid Cost: 4.551154\n"
     ]
    },
    {
     "name": "stderr",
     "output_type": "stream",
     "text": [
      "100%|██████████| 10/10 [00:03<00:00,  3.09it/s]\n",
      "  0%|          | 0/10 [00:00<?, ?it/s]"
     ]
    },
    {
     "name": "stdout",
     "output_type": "stream",
     "text": [
      "Epoch: 0003 Cost: 3.677361 Valid Cost: 4.523855\n"
     ]
    },
    {
     "name": "stderr",
     "output_type": "stream",
     "text": [
      "100%|██████████| 10/10 [00:03<00:00,  3.05it/s]\n",
      "  0%|          | 0/10 [00:00<?, ?it/s]"
     ]
    },
    {
     "name": "stdout",
     "output_type": "stream",
     "text": [
      "Epoch: 0004 Cost: 3.642731 Valid Cost: 4.466210\n"
     ]
    },
    {
     "name": "stderr",
     "output_type": "stream",
     "text": [
      "100%|██████████| 10/10 [00:03<00:00,  3.07it/s]\n",
      "  0%|          | 0/10 [00:00<?, ?it/s]"
     ]
    },
    {
     "name": "stdout",
     "output_type": "stream",
     "text": [
      "Epoch: 0005 Cost: 3.606441 Valid Cost: 4.427769\n"
     ]
    },
    {
     "name": "stderr",
     "output_type": "stream",
     "text": [
      "100%|██████████| 10/10 [00:03<00:00,  3.09it/s]\n",
      "  0%|          | 0/10 [00:00<?, ?it/s]"
     ]
    },
    {
     "name": "stdout",
     "output_type": "stream",
     "text": [
      "Epoch: 0006 Cost: 3.594151 Valid Cost: 4.466855\n"
     ]
    },
    {
     "name": "stderr",
     "output_type": "stream",
     "text": [
      "100%|██████████| 10/10 [00:03<00:00,  3.08it/s]\n",
      "  0%|          | 0/10 [00:00<?, ?it/s]"
     ]
    },
    {
     "name": "stdout",
     "output_type": "stream",
     "text": [
      "Epoch: 0007 Cost: 3.586591 Valid Cost: 4.505631\n"
     ]
    },
    {
     "name": "stderr",
     "output_type": "stream",
     "text": [
      "100%|██████████| 10/10 [00:03<00:00,  3.06it/s]\n",
      "  0%|          | 0/10 [00:00<?, ?it/s]"
     ]
    },
    {
     "name": "stdout",
     "output_type": "stream",
     "text": [
      "Epoch: 0008 Cost: 3.612759 Valid Cost: 4.534418\n"
     ]
    },
    {
     "name": "stderr",
     "output_type": "stream",
     "text": [
      "100%|██████████| 10/10 [00:03<00:00,  3.05it/s]\n",
      "  0%|          | 0/10 [00:00<?, ?it/s]"
     ]
    },
    {
     "name": "stdout",
     "output_type": "stream",
     "text": [
      "Epoch: 0009 Cost: 3.592960 Valid Cost: 4.459018\n"
     ]
    },
    {
     "name": "stderr",
     "output_type": "stream",
     "text": [
      "100%|██████████| 10/10 [00:03<00:00,  3.08it/s]\n",
      "  0%|          | 0/10 [00:00<?, ?it/s]"
     ]
    },
    {
     "name": "stdout",
     "output_type": "stream",
     "text": [
      "Epoch: 0010 Cost: 3.575979 Valid Cost: 4.481247\n"
     ]
    },
    {
     "name": "stderr",
     "output_type": "stream",
     "text": [
      "100%|██████████| 10/10 [00:03<00:00,  3.09it/s]\n",
      "  0%|          | 0/10 [00:00<?, ?it/s]"
     ]
    },
    {
     "name": "stdout",
     "output_type": "stream",
     "text": [
      "Epoch: 0011 Cost: 3.600131 Valid Cost: 4.507346\n"
     ]
    },
    {
     "name": "stderr",
     "output_type": "stream",
     "text": [
      "100%|██████████| 10/10 [00:03<00:00,  3.10it/s]\n",
      "  0%|          | 0/10 [00:00<?, ?it/s]"
     ]
    },
    {
     "name": "stdout",
     "output_type": "stream",
     "text": [
      "Epoch: 0012 Cost: 3.603113 Valid Cost: 4.507889\n"
     ]
    },
    {
     "name": "stderr",
     "output_type": "stream",
     "text": [
      "100%|██████████| 10/10 [00:03<00:00,  3.10it/s]\n",
      "  0%|          | 0/10 [00:00<?, ?it/s]"
     ]
    },
    {
     "name": "stdout",
     "output_type": "stream",
     "text": [
      "Epoch: 0013 Cost: 3.565425 Valid Cost: 4.436664\n"
     ]
    },
    {
     "name": "stderr",
     "output_type": "stream",
     "text": [
      "100%|██████████| 10/10 [00:03<00:00,  3.09it/s]\n",
      "  0%|          | 0/10 [00:00<?, ?it/s]"
     ]
    },
    {
     "name": "stdout",
     "output_type": "stream",
     "text": [
      "Epoch: 0014 Cost: 3.543914 Valid Cost: 4.447268\n"
     ]
    },
    {
     "name": "stderr",
     "output_type": "stream",
     "text": [
      "100%|██████████| 10/10 [00:03<00:00,  3.06it/s]\n",
      "  0%|          | 0/10 [00:00<?, ?it/s]"
     ]
    },
    {
     "name": "stdout",
     "output_type": "stream",
     "text": [
      "Epoch: 0015 Cost: 3.544770 Valid Cost: 4.460028\n"
     ]
    },
    {
     "name": "stderr",
     "output_type": "stream",
     "text": [
      "100%|██████████| 10/10 [00:03<00:00,  3.02it/s]\n",
      "  0%|          | 0/10 [00:00<?, ?it/s]"
     ]
    },
    {
     "name": "stdout",
     "output_type": "stream",
     "text": [
      "Epoch: 0016 Cost: 3.564687 Valid Cost: 4.479894\n"
     ]
    },
    {
     "name": "stderr",
     "output_type": "stream",
     "text": [
      "100%|██████████| 10/10 [00:03<00:00,  3.03it/s]\n",
      "  0%|          | 0/10 [00:00<?, ?it/s]"
     ]
    },
    {
     "name": "stdout",
     "output_type": "stream",
     "text": [
      "Epoch: 0017 Cost: 3.564055 Valid Cost: 4.532333\n"
     ]
    },
    {
     "name": "stderr",
     "output_type": "stream",
     "text": [
      "100%|██████████| 10/10 [00:03<00:00,  3.07it/s]\n",
      "  0%|          | 0/10 [00:00<?, ?it/s]"
     ]
    },
    {
     "name": "stdout",
     "output_type": "stream",
     "text": [
      "Epoch: 0018 Cost: 3.605959 Valid Cost: 4.602822\n"
     ]
    },
    {
     "name": "stderr",
     "output_type": "stream",
     "text": [
      "100%|██████████| 10/10 [00:03<00:00,  3.11it/s]\n",
      "  0%|          | 0/10 [00:00<?, ?it/s]"
     ]
    },
    {
     "name": "stdout",
     "output_type": "stream",
     "text": [
      "Epoch: 0019 Cost: 3.645497 Valid Cost: 4.504800\n"
     ]
    },
    {
     "name": "stderr",
     "output_type": "stream",
     "text": [
      "100%|██████████| 10/10 [00:03<00:00,  3.10it/s]\n",
      "  0%|          | 0/10 [00:00<?, ?it/s]"
     ]
    },
    {
     "name": "stdout",
     "output_type": "stream",
     "text": [
      "Epoch: 0020 Cost: 3.780551 Valid Cost: 5.047887\n"
     ]
    },
    {
     "name": "stderr",
     "output_type": "stream",
     "text": [
      "100%|██████████| 10/10 [00:03<00:00,  3.04it/s]\n",
      "  0%|          | 0/10 [00:00<?, ?it/s]"
     ]
    },
    {
     "name": "stdout",
     "output_type": "stream",
     "text": [
      "Epoch: 0021 Cost: 4.022379 Valid Cost: 5.104511\n"
     ]
    },
    {
     "name": "stderr",
     "output_type": "stream",
     "text": [
      "100%|██████████| 10/10 [00:03<00:00,  3.04it/s]\n",
      "  0%|          | 0/10 [00:00<?, ?it/s]"
     ]
    },
    {
     "name": "stdout",
     "output_type": "stream",
     "text": [
      "Epoch: 0022 Cost: 3.946934 Valid Cost: 4.888358\n"
     ]
    },
    {
     "name": "stderr",
     "output_type": "stream",
     "text": [
      "100%|██████████| 10/10 [00:03<00:00,  3.08it/s]\n",
      "  0%|          | 0/10 [00:00<?, ?it/s]"
     ]
    },
    {
     "name": "stdout",
     "output_type": "stream",
     "text": [
      "Epoch: 0023 Cost: 3.882468 Valid Cost: 4.942994\n"
     ]
    },
    {
     "name": "stderr",
     "output_type": "stream",
     "text": [
      "100%|██████████| 10/10 [00:03<00:00,  3.08it/s]\n",
      "  0%|          | 0/10 [00:00<?, ?it/s]"
     ]
    },
    {
     "name": "stdout",
     "output_type": "stream",
     "text": [
      "Epoch: 0024 Cost: 3.896066 Valid Cost: 4.893317\n"
     ]
    },
    {
     "name": "stderr",
     "output_type": "stream",
     "text": [
      "100%|██████████| 10/10 [00:03<00:00,  3.03it/s]\n",
      "  0%|          | 0/10 [00:00<?, ?it/s]"
     ]
    },
    {
     "name": "stdout",
     "output_type": "stream",
     "text": [
      "Epoch: 0025 Cost: 3.836720 Valid Cost: 4.699174\n"
     ]
    },
    {
     "name": "stderr",
     "output_type": "stream",
     "text": [
      "100%|██████████| 10/10 [00:03<00:00,  3.03it/s]\n",
      "  0%|          | 0/10 [00:00<?, ?it/s]"
     ]
    },
    {
     "name": "stdout",
     "output_type": "stream",
     "text": [
      "Epoch: 0026 Cost: 3.757929 Valid Cost: 4.747177\n"
     ]
    },
    {
     "name": "stderr",
     "output_type": "stream",
     "text": [
      "100%|██████████| 10/10 [00:03<00:00,  3.06it/s]\n",
      "  0%|          | 0/10 [00:00<?, ?it/s]"
     ]
    },
    {
     "name": "stdout",
     "output_type": "stream",
     "text": [
      "Epoch: 0027 Cost: 3.903977 Valid Cost: 4.857930\n"
     ]
    },
    {
     "name": "stderr",
     "output_type": "stream",
     "text": [
      "100%|██████████| 10/10 [00:03<00:00,  3.04it/s]\n",
      "  0%|          | 0/10 [00:00<?, ?it/s]"
     ]
    },
    {
     "name": "stdout",
     "output_type": "stream",
     "text": [
      "Epoch: 0028 Cost: 3.953364 Valid Cost: 4.874235\n"
     ]
    },
    {
     "name": "stderr",
     "output_type": "stream",
     "text": [
      "100%|██████████| 10/10 [00:03<00:00,  3.09it/s]\n",
      "  0%|          | 0/10 [00:00<?, ?it/s]"
     ]
    },
    {
     "name": "stdout",
     "output_type": "stream",
     "text": [
      "Epoch: 0029 Cost: 4.059391 Valid Cost: 4.884851\n"
     ]
    },
    {
     "name": "stderr",
     "output_type": "stream",
     "text": [
      "100%|██████████| 10/10 [00:03<00:00,  3.07it/s]\n",
      "  0%|          | 0/10 [00:00<?, ?it/s]"
     ]
    },
    {
     "name": "stdout",
     "output_type": "stream",
     "text": [
      "Epoch: 0030 Cost: 4.147798 Valid Cost: 5.041074\n"
     ]
    },
    {
     "name": "stderr",
     "output_type": "stream",
     "text": [
      "100%|██████████| 10/10 [00:03<00:00,  3.07it/s]\n",
      "  0%|          | 0/10 [00:00<?, ?it/s]"
     ]
    },
    {
     "name": "stdout",
     "output_type": "stream",
     "text": [
      "Epoch: 0031 Cost: 4.164222 Valid Cost: 5.288204\n"
     ]
    },
    {
     "name": "stderr",
     "output_type": "stream",
     "text": [
      "100%|██████████| 10/10 [00:03<00:00,  3.06it/s]\n",
      "  0%|          | 0/10 [00:00<?, ?it/s]"
     ]
    },
    {
     "name": "stdout",
     "output_type": "stream",
     "text": [
      "Epoch: 0032 Cost: 4.742825 Valid Cost: 6.178304\n"
     ]
    },
    {
     "name": "stderr",
     "output_type": "stream",
     "text": [
      "100%|██████████| 10/10 [00:03<00:00,  3.05it/s]\n",
      "  0%|          | 0/10 [00:00<?, ?it/s]"
     ]
    },
    {
     "name": "stdout",
     "output_type": "stream",
     "text": [
      "Epoch: 0033 Cost: 5.231601 Valid Cost: 5.935236\n"
     ]
    },
    {
     "name": "stderr",
     "output_type": "stream",
     "text": [
      "100%|██████████| 10/10 [00:03<00:00,  3.10it/s]\n",
      "  0%|          | 0/10 [00:00<?, ?it/s]"
     ]
    },
    {
     "name": "stdout",
     "output_type": "stream",
     "text": [
      "Epoch: 0034 Cost: 4.835660 Valid Cost: 5.573873\n"
     ]
    },
    {
     "name": "stderr",
     "output_type": "stream",
     "text": [
      "100%|██████████| 10/10 [00:03<00:00,  3.08it/s]\n",
      "  0%|          | 0/10 [00:00<?, ?it/s]"
     ]
    },
    {
     "name": "stdout",
     "output_type": "stream",
     "text": [
      "Epoch: 0035 Cost: 4.432260 Valid Cost: 5.463119\n"
     ]
    },
    {
     "name": "stderr",
     "output_type": "stream",
     "text": [
      "100%|██████████| 10/10 [00:03<00:00,  3.02it/s]\n",
      "  0%|          | 0/10 [00:00<?, ?it/s]"
     ]
    },
    {
     "name": "stdout",
     "output_type": "stream",
     "text": [
      "Epoch: 0036 Cost: 4.297223 Valid Cost: 5.265390\n"
     ]
    },
    {
     "name": "stderr",
     "output_type": "stream",
     "text": [
      "100%|██████████| 10/10 [00:03<00:00,  3.06it/s]\n",
      "  0%|          | 0/10 [00:00<?, ?it/s]"
     ]
    },
    {
     "name": "stdout",
     "output_type": "stream",
     "text": [
      "Epoch: 0037 Cost: 4.254016 Valid Cost: 5.157465\n"
     ]
    },
    {
     "name": "stderr",
     "output_type": "stream",
     "text": [
      "100%|██████████| 10/10 [00:03<00:00,  3.08it/s]\n",
      "  0%|          | 0/10 [00:00<?, ?it/s]"
     ]
    },
    {
     "name": "stdout",
     "output_type": "stream",
     "text": [
      "Epoch: 0038 Cost: 4.109703 Valid Cost: 4.991505\n"
     ]
    },
    {
     "name": "stderr",
     "output_type": "stream",
     "text": [
      "100%|██████████| 10/10 [00:03<00:00,  3.02it/s]\n",
      "  0%|          | 0/10 [00:00<?, ?it/s]"
     ]
    },
    {
     "name": "stdout",
     "output_type": "stream",
     "text": [
      "Epoch: 0039 Cost: 3.940747 Valid Cost: 4.692515\n"
     ]
    },
    {
     "name": "stderr",
     "output_type": "stream",
     "text": [
      "100%|██████████| 10/10 [00:03<00:00,  3.06it/s]\n",
      "  0%|          | 0/10 [00:00<?, ?it/s]"
     ]
    },
    {
     "name": "stdout",
     "output_type": "stream",
     "text": [
      "Epoch: 0040 Cost: 3.764933 Valid Cost: 4.738506\n"
     ]
    },
    {
     "name": "stderr",
     "output_type": "stream",
     "text": [
      "100%|██████████| 10/10 [00:03<00:00,  3.05it/s]\n",
      "  0%|          | 0/10 [00:00<?, ?it/s]"
     ]
    },
    {
     "name": "stdout",
     "output_type": "stream",
     "text": [
      "Epoch: 0041 Cost: 3.814705 Valid Cost: 4.707369\n"
     ]
    },
    {
     "name": "stderr",
     "output_type": "stream",
     "text": [
      "100%|██████████| 10/10 [00:03<00:00,  3.06it/s]\n",
      "  0%|          | 0/10 [00:00<?, ?it/s]"
     ]
    },
    {
     "name": "stdout",
     "output_type": "stream",
     "text": [
      "Epoch: 0042 Cost: 3.807227 Valid Cost: 4.663939\n"
     ]
    },
    {
     "name": "stderr",
     "output_type": "stream",
     "text": [
      "100%|██████████| 10/10 [00:03<00:00,  3.05it/s]\n"
     ]
    },
    {
     "ename": "KeyboardInterrupt",
     "evalue": "",
     "output_type": "error",
     "traceback": [
      "\u001b[0;31m---------------------------------------------------------------------------\u001b[0m",
      "\u001b[0;31mKeyboardInterrupt\u001b[0m                         Traceback (most recent call last)",
      "\u001b[0;32m<ipython-input-154-55eb91b33317>\u001b[0m in \u001b[0;36m<module>\u001b[0;34m\u001b[0m\n\u001b[1;32m     43\u001b[0m         valid_loss = sess.run(cost, feed_dict={\n\u001b[1;32m     44\u001b[0m             \u001b[0mX\u001b[0m\u001b[0;34m:\u001b[0m \u001b[0mvalid_image\u001b[0m\u001b[0;34m[\u001b[0m\u001b[0mbatch_size\u001b[0m\u001b[0;34m*\u001b[0m\u001b[0mbatch\u001b[0m\u001b[0;34m:\u001b[0m\u001b[0mbatch_size\u001b[0m\u001b[0;34m*\u001b[0m\u001b[0;34m(\u001b[0m\u001b[0mbatch\u001b[0m\u001b[0;34m+\u001b[0m\u001b[0;36m1\u001b[0m\u001b[0;34m)\u001b[0m\u001b[0;34m]\u001b[0m\u001b[0;34m,\u001b[0m\u001b[0;34m\u001b[0m\u001b[0;34m\u001b[0m\u001b[0m\n\u001b[0;32m---> 45\u001b[0;31m             \u001b[0mdec_output\u001b[0m\u001b[0;34m:\u001b[0m \u001b[0mvalid_output_data\u001b[0m\u001b[0;34m[\u001b[0m\u001b[0mbatch_size\u001b[0m\u001b[0;34m*\u001b[0m\u001b[0mbatch\u001b[0m\u001b[0;34m:\u001b[0m\u001b[0mbatch_size\u001b[0m\u001b[0;34m*\u001b[0m\u001b[0;34m(\u001b[0m\u001b[0mbatch\u001b[0m\u001b[0;34m+\u001b[0m\u001b[0;36m1\u001b[0m\u001b[0;34m)\u001b[0m\u001b[0;34m]\u001b[0m\u001b[0;34m\u001b[0m\u001b[0;34m\u001b[0m\u001b[0m\n\u001b[0m\u001b[1;32m     46\u001b[0m         })\n\u001b[1;32m     47\u001b[0m         \u001b[0mtotal_valid_loss\u001b[0m \u001b[0;34m+=\u001b[0m \u001b[0mvalid_loss\u001b[0m\u001b[0;34m\u001b[0m\u001b[0;34m\u001b[0m\u001b[0m\n",
      "\u001b[0;32m~/venv_capstone/lib/python3.7/site-packages/tensorflow/python/client/session.py\u001b[0m in \u001b[0;36mrun\u001b[0;34m(self, fetches, feed_dict, options, run_metadata)\u001b[0m\n\u001b[1;32m    956\u001b[0m     \u001b[0;32mtry\u001b[0m\u001b[0;34m:\u001b[0m\u001b[0;34m\u001b[0m\u001b[0;34m\u001b[0m\u001b[0m\n\u001b[1;32m    957\u001b[0m       result = self._run(None, fetches, feed_dict, options_ptr,\n\u001b[0;32m--> 958\u001b[0;31m                          run_metadata_ptr)\n\u001b[0m\u001b[1;32m    959\u001b[0m       \u001b[0;32mif\u001b[0m \u001b[0mrun_metadata\u001b[0m\u001b[0;34m:\u001b[0m\u001b[0;34m\u001b[0m\u001b[0;34m\u001b[0m\u001b[0m\n\u001b[1;32m    960\u001b[0m         \u001b[0mproto_data\u001b[0m \u001b[0;34m=\u001b[0m \u001b[0mtf_session\u001b[0m\u001b[0;34m.\u001b[0m\u001b[0mTF_GetBuffer\u001b[0m\u001b[0;34m(\u001b[0m\u001b[0mrun_metadata_ptr\u001b[0m\u001b[0;34m)\u001b[0m\u001b[0;34m\u001b[0m\u001b[0;34m\u001b[0m\u001b[0m\n",
      "\u001b[0;32m~/venv_capstone/lib/python3.7/site-packages/tensorflow/python/client/session.py\u001b[0m in \u001b[0;36m_run\u001b[0;34m(self, handle, fetches, feed_dict, options, run_metadata)\u001b[0m\n\u001b[1;32m   1179\u001b[0m     \u001b[0;32mif\u001b[0m \u001b[0mfinal_fetches\u001b[0m \u001b[0;32mor\u001b[0m \u001b[0mfinal_targets\u001b[0m \u001b[0;32mor\u001b[0m \u001b[0;34m(\u001b[0m\u001b[0mhandle\u001b[0m \u001b[0;32mand\u001b[0m \u001b[0mfeed_dict_tensor\u001b[0m\u001b[0;34m)\u001b[0m\u001b[0;34m:\u001b[0m\u001b[0;34m\u001b[0m\u001b[0;34m\u001b[0m\u001b[0m\n\u001b[1;32m   1180\u001b[0m       results = self._do_run(handle, final_targets, final_fetches,\n\u001b[0;32m-> 1181\u001b[0;31m                              feed_dict_tensor, options, run_metadata)\n\u001b[0m\u001b[1;32m   1182\u001b[0m     \u001b[0;32melse\u001b[0m\u001b[0;34m:\u001b[0m\u001b[0;34m\u001b[0m\u001b[0;34m\u001b[0m\u001b[0m\n\u001b[1;32m   1183\u001b[0m       \u001b[0mresults\u001b[0m \u001b[0;34m=\u001b[0m \u001b[0;34m[\u001b[0m\u001b[0;34m]\u001b[0m\u001b[0;34m\u001b[0m\u001b[0;34m\u001b[0m\u001b[0m\n",
      "\u001b[0;32m~/venv_capstone/lib/python3.7/site-packages/tensorflow/python/client/session.py\u001b[0m in \u001b[0;36m_do_run\u001b[0;34m(self, handle, target_list, fetch_list, feed_dict, options, run_metadata)\u001b[0m\n\u001b[1;32m   1357\u001b[0m     \u001b[0;32mif\u001b[0m \u001b[0mhandle\u001b[0m \u001b[0;32mis\u001b[0m \u001b[0;32mNone\u001b[0m\u001b[0;34m:\u001b[0m\u001b[0;34m\u001b[0m\u001b[0;34m\u001b[0m\u001b[0m\n\u001b[1;32m   1358\u001b[0m       return self._do_call(_run_fn, feeds, fetches, targets, options,\n\u001b[0;32m-> 1359\u001b[0;31m                            run_metadata)\n\u001b[0m\u001b[1;32m   1360\u001b[0m     \u001b[0;32melse\u001b[0m\u001b[0;34m:\u001b[0m\u001b[0;34m\u001b[0m\u001b[0;34m\u001b[0m\u001b[0m\n\u001b[1;32m   1361\u001b[0m       \u001b[0;32mreturn\u001b[0m \u001b[0mself\u001b[0m\u001b[0;34m.\u001b[0m\u001b[0m_do_call\u001b[0m\u001b[0;34m(\u001b[0m\u001b[0m_prun_fn\u001b[0m\u001b[0;34m,\u001b[0m \u001b[0mhandle\u001b[0m\u001b[0;34m,\u001b[0m \u001b[0mfeeds\u001b[0m\u001b[0;34m,\u001b[0m \u001b[0mfetches\u001b[0m\u001b[0;34m)\u001b[0m\u001b[0;34m\u001b[0m\u001b[0;34m\u001b[0m\u001b[0m\n",
      "\u001b[0;32m~/venv_capstone/lib/python3.7/site-packages/tensorflow/python/client/session.py\u001b[0m in \u001b[0;36m_do_call\u001b[0;34m(self, fn, *args)\u001b[0m\n\u001b[1;32m   1363\u001b[0m   \u001b[0;32mdef\u001b[0m \u001b[0m_do_call\u001b[0m\u001b[0;34m(\u001b[0m\u001b[0mself\u001b[0m\u001b[0;34m,\u001b[0m \u001b[0mfn\u001b[0m\u001b[0;34m,\u001b[0m \u001b[0;34m*\u001b[0m\u001b[0margs\u001b[0m\u001b[0;34m)\u001b[0m\u001b[0;34m:\u001b[0m\u001b[0;34m\u001b[0m\u001b[0;34m\u001b[0m\u001b[0m\n\u001b[1;32m   1364\u001b[0m     \u001b[0;32mtry\u001b[0m\u001b[0;34m:\u001b[0m\u001b[0;34m\u001b[0m\u001b[0;34m\u001b[0m\u001b[0m\n\u001b[0;32m-> 1365\u001b[0;31m       \u001b[0;32mreturn\u001b[0m \u001b[0mfn\u001b[0m\u001b[0;34m(\u001b[0m\u001b[0;34m*\u001b[0m\u001b[0margs\u001b[0m\u001b[0;34m)\u001b[0m\u001b[0;34m\u001b[0m\u001b[0;34m\u001b[0m\u001b[0m\n\u001b[0m\u001b[1;32m   1366\u001b[0m     \u001b[0;32mexcept\u001b[0m \u001b[0merrors\u001b[0m\u001b[0;34m.\u001b[0m\u001b[0mOpError\u001b[0m \u001b[0;32mas\u001b[0m \u001b[0me\u001b[0m\u001b[0;34m:\u001b[0m\u001b[0;34m\u001b[0m\u001b[0;34m\u001b[0m\u001b[0m\n\u001b[1;32m   1367\u001b[0m       \u001b[0mmessage\u001b[0m \u001b[0;34m=\u001b[0m \u001b[0mcompat\u001b[0m\u001b[0;34m.\u001b[0m\u001b[0mas_text\u001b[0m\u001b[0;34m(\u001b[0m\u001b[0me\u001b[0m\u001b[0;34m.\u001b[0m\u001b[0mmessage\u001b[0m\u001b[0;34m)\u001b[0m\u001b[0;34m\u001b[0m\u001b[0;34m\u001b[0m\u001b[0m\n",
      "\u001b[0;32m~/venv_capstone/lib/python3.7/site-packages/tensorflow/python/client/session.py\u001b[0m in \u001b[0;36m_run_fn\u001b[0;34m(feed_dict, fetch_list, target_list, options, run_metadata)\u001b[0m\n\u001b[1;32m   1348\u001b[0m       \u001b[0mself\u001b[0m\u001b[0;34m.\u001b[0m\u001b[0m_extend_graph\u001b[0m\u001b[0;34m(\u001b[0m\u001b[0;34m)\u001b[0m\u001b[0;34m\u001b[0m\u001b[0;34m\u001b[0m\u001b[0m\n\u001b[1;32m   1349\u001b[0m       return self._call_tf_sessionrun(options, feed_dict, fetch_list,\n\u001b[0;32m-> 1350\u001b[0;31m                                       target_list, run_metadata)\n\u001b[0m\u001b[1;32m   1351\u001b[0m \u001b[0;34m\u001b[0m\u001b[0m\n\u001b[1;32m   1352\u001b[0m     \u001b[0;32mdef\u001b[0m \u001b[0m_prun_fn\u001b[0m\u001b[0;34m(\u001b[0m\u001b[0mhandle\u001b[0m\u001b[0;34m,\u001b[0m \u001b[0mfeed_dict\u001b[0m\u001b[0;34m,\u001b[0m \u001b[0mfetch_list\u001b[0m\u001b[0;34m)\u001b[0m\u001b[0;34m:\u001b[0m\u001b[0;34m\u001b[0m\u001b[0;34m\u001b[0m\u001b[0m\n",
      "\u001b[0;32m~/venv_capstone/lib/python3.7/site-packages/tensorflow/python/client/session.py\u001b[0m in \u001b[0;36m_call_tf_sessionrun\u001b[0;34m(self, options, feed_dict, fetch_list, target_list, run_metadata)\u001b[0m\n\u001b[1;32m   1441\u001b[0m     return tf_session.TF_SessionRun_wrapper(self._session, options, feed_dict,\n\u001b[1;32m   1442\u001b[0m                                             \u001b[0mfetch_list\u001b[0m\u001b[0;34m,\u001b[0m \u001b[0mtarget_list\u001b[0m\u001b[0;34m,\u001b[0m\u001b[0;34m\u001b[0m\u001b[0;34m\u001b[0m\u001b[0m\n\u001b[0;32m-> 1443\u001b[0;31m                                             run_metadata)\n\u001b[0m\u001b[1;32m   1444\u001b[0m \u001b[0;34m\u001b[0m\u001b[0m\n\u001b[1;32m   1445\u001b[0m   \u001b[0;32mdef\u001b[0m \u001b[0m_call_tf_sessionprun\u001b[0m\u001b[0;34m(\u001b[0m\u001b[0mself\u001b[0m\u001b[0;34m,\u001b[0m \u001b[0mhandle\u001b[0m\u001b[0;34m,\u001b[0m \u001b[0mfeed_dict\u001b[0m\u001b[0;34m,\u001b[0m \u001b[0mfetch_list\u001b[0m\u001b[0;34m)\u001b[0m\u001b[0;34m:\u001b[0m\u001b[0;34m\u001b[0m\u001b[0;34m\u001b[0m\u001b[0m\n",
      "\u001b[0;31mKeyboardInterrupt\u001b[0m: "
     ]
    }
   ],
   "source": [
    "total_epoch = 100\n",
    "train_size = 1000\n",
    "valid_size = 200\n",
    "batch_size = 100\n",
    "n_batch = train_size // batch_size\n",
    "n_valid_batch = valid_size // batch_size\n",
    "\n",
    "valid_image = image_data[train_size:train_size+valid_size]\n",
    "valid_sentiments = sentiment_data[train_size:train_size+valid_size]\n",
    "valid_input_data = np.zeros(shape=(valid_size, max_decoder_seq_length))\n",
    "valid_output_data = np.zeros(shape=(valid_size, max_decoder_seq_length))\n",
    "\n",
    "for i, s in enumerate(output_tags[train_size:train_size+valid_size]):\n",
    "    for j, c in enumerate(s):\n",
    "        if j > 0:\n",
    "            valid_output_data[i, j-1] = output_token_index[c]\n",
    "            \n",
    "dec_output_data = np.zeros(shape=(train_size, max_decoder_seq_length))\n",
    "\n",
    "for i, s in enumerate(output_tags[:train_size]):\n",
    "    for j, c in enumerate(s):\n",
    "        if j > 0:\n",
    "            dec_output_data[i, j-1] = output_token_index[c]\n",
    "\n",
    "for epoch in range(total_epoch):\n",
    "    total_loss = 0\n",
    "    for batch in tqdm(range(n_batch)):\n",
    "        batch_images = image_data[batch_size*batch:batch_size*(batch+1)]\n",
    "        batch_sentiments = sentiment_data[batch_size*batch:batch_size*(batch+1)]\n",
    "        batch_dec_outputs = dec_output_data[batch_size*batch:batch_size*(batch+1)]\n",
    "\n",
    "        _, loss = sess.run([optimizer, cost], feed_dict={\n",
    "            X: batch_images,\n",
    "            dec_output: batch_dec_outputs\n",
    "        })\n",
    "\n",
    "        total_loss += loss\n",
    "        \n",
    "    total_valid_loss = 0\n",
    "    for batch in range(n_valid_batch):\n",
    "        valid_inp = [output_token_index['\\t']] + [output_token_index['\\n']]*(max_decoder_seq_length-1)\n",
    "        valid_inp = np.array([np.eye(num_decoder_tokens)[valid_inp]] * n_batch)\n",
    "        valid_loss = sess.run(cost, feed_dict={\n",
    "            X: valid_image[batch_size*batch:batch_size*(batch+1)],\n",
    "            dec_output: valid_output_data[batch_size*batch:batch_size*(batch+1)]\n",
    "        })\n",
    "        total_valid_loss += valid_loss\n",
    "        \n",
    "\n",
    "    print('Epoch: %04d Cost: %.6f Valid Cost: %.6f' %(epoch + 1, total_loss / n_batch, valid_loss))"
   ]
  },
  {
   "cell_type": "code",
   "execution_count": 153,
   "metadata": {},
   "outputs": [
    {
     "data": {
      "text/plain": [
       "array([], shape=(0, 60), dtype=float64)"
      ]
     },
     "execution_count": 153,
     "metadata": {},
     "output_type": "execute_result"
    }
   ],
   "source": [
    "valid_output_data[batch_size*batch:batch_size*(batch+1)]"
   ]
  },
  {
   "cell_type": "code",
   "execution_count": 150,
   "metadata": {},
   "outputs": [
    {
     "data": {
      "text/plain": [
       "(100, 60)"
      ]
     },
     "execution_count": 150,
     "metadata": {},
     "output_type": "execute_result"
    }
   ],
   "source": [
    "batch_dec_outputs.shape"
   ]
  },
  {
   "cell_type": "code",
   "execution_count": 174,
   "metadata": {},
   "outputs": [],
   "source": [
    "def translate(image, senti):\n",
    "    prediction = tf.argmax(model, 2)\n",
    "    # dec_out = [output_token_index['\\t']*(max_decoder_seq_length-1) + output_token_index['']]\n",
    "    # dec_out = np.eye(dict_len)[dec_out]\n",
    "    result = sess.run(prediction, \n",
    "                      feed_dict={X: image})\n",
    "    decoded = [output_words[i] for i in result[0]]\n",
    "    end = decoded.index('\\n') if '\\n' in decoded else len(decoded)\n",
    "    translated = ''.join(decoded[:end])\n",
    "    return translated"
   ]
  },
  {
   "cell_type": "code",
   "execution_count": 175,
   "metadata": {},
   "outputs": [
    {
     "name": "stdout",
     "output_type": "stream",
     "text": [
      "['\\t나쁜에너지를 내뿜는 사람들을 끊어내라 많은 사람을 곁에 두려 하지 말고 긍정적인 사람들을 곁에 두려 노력하라 좋은사람에게만 좋은사람이면돼에서\\n']\n",
      "오늘\n",
      "['\\t따뜻한가요\\n']\n",
      "오늘\n",
      "['\\t맛집 오늘의 포인트 이없다는거\\n']\n",
      "오늘\n",
      "['\\t기억 안에선 가장 맑은 하늘\\n']\n",
      "오늘\n",
      "['\\t오늘 하늘 너무 이쁘다\\n']\n",
      "오늘\n",
      "['\\t우오오오오옹 전역 일차 날씨 짱좋다아아아아\\n']\n",
      "날씨\n",
      "['\\t하늘이너무이쁘다\\n']\n",
      "오늘\n",
      "['\\t하늘이 맑고 푸르다\\n']\n",
      "오늘\n",
      "['\\t얼마만에 이런 하늘이야 넘 좋다\\n']\n",
      "오늘ㄴ\n",
      "['\\t오랜만에 맑은 하늘\\n']\n",
      "오늘\n"
     ]
    }
   ],
   "source": [
    "for idx in range(10):\n",
    "    print(sentence_data[idx:idx+1])\n",
    "    print(translate(image_data[idx:idx+1], sentiment_data[idx:idx+1]))"
   ]
  },
  {
   "cell_type": "code",
   "execution_count": 81,
   "metadata": {},
   "outputs": [
    {
     "data": {
      "text/plain": [
       "array([[1045,    2,    2, ...,    0,    0,    0],\n",
       "       [1045,    2,    2, ...,    0,    0,    0],\n",
       "       [1045,    2,    2, ...,    0,    0,    0],\n",
       "       ...,\n",
       "       [1045,    2,    2, ...,    0,    0,    0],\n",
       "       [1045,    2,    2, ...,    0,    0,    0],\n",
       "       [1045,    2,    2, ...,    0,    0,    0]])"
      ]
     },
     "execution_count": 81,
     "metadata": {},
     "output_type": "execute_result"
    }
   ],
   "source": [
    "prediction = tf.argmax(model, 2)\n",
    "sess.run(prediction, feed_dict={X: image_data[:10]})"
   ]
  },
  {
   "cell_type": "code",
   "execution_count": null,
   "metadata": {},
   "outputs": [],
   "source": []
  }
 ],
 "metadata": {
  "kernelspec": {
   "display_name": "Keich Capstone",
   "language": "python",
   "name": "venv_capstone"
  },
  "language_info": {
   "codemirror_mode": {
    "name": "ipython",
    "version": 3
   },
   "file_extension": ".py",
   "mimetype": "text/x-python",
   "name": "python",
   "nbconvert_exporter": "python",
   "pygments_lexer": "ipython3",
   "version": "3.7.5"
  }
 },
 "nbformat": 4,
 "nbformat_minor": 2
}
