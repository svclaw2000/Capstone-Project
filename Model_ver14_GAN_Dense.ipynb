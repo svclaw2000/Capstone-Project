{
 "cells": [
  {
   "cell_type": "code",
   "execution_count": 1,
   "metadata": {
    "scrolled": true
   },
   "outputs": [],
   "source": [
    "import pickle\n",
    "import numpy as np\n",
    "from tqdm import tqdm\n",
    "from functools import partial\n",
    "import pandas as pd\n",
    "from konlpy.tag import Komoran\n",
    "import os\n",
    "from gensim.models import Word2Vec"
   ]
  },
  {
   "cell_type": "code",
   "execution_count": 2,
   "metadata": {
    "scrolled": true
   },
   "outputs": [],
   "source": [
    "# preprocessed = pickle.load(open('preprocessed.pkl', 'rb'))"
   ]
  },
  {
   "cell_type": "code",
   "execution_count": 2,
   "metadata": {},
   "outputs": [],
   "source": [
    "max_n = 5\n",
    "total_data = [[], [], [], [], []]\n",
    "for i in range(1, max_n + 1):\n",
    "    file_name = 'data_256_cat%s.pkl' %i\n",
    "    loaded_data = pickle.load(open(file_name, 'rb'))\n",
    "\n",
    "    _image_data, _sentence_data, _sentence_tags, _hashtag_data, _metadata = loaded_data[1]\n",
    "\n",
    "    _sentence_tags = np.array(_sentence_tags)\n",
    "    _hashtag_data = np.array(_hashtag_data)\n",
    "    \n",
    "    total_data[0].append(_image_data)\n",
    "    total_data[1].append(_sentence_data)\n",
    "    total_data[2].append(_sentence_tags)\n",
    "    total_data[3].append(_hashtag_data)\n",
    "    total_data[4].append(_metadata)"
   ]
  },
  {
   "cell_type": "code",
   "execution_count": 3,
   "metadata": {},
   "outputs": [],
   "source": [
    "_image_data = np.concatenate(total_data[0])\n",
    "_sentence_data = np.concatenate(total_data[1])\n",
    "_sentence_tags = np.concatenate(total_data[2])\n",
    "_hashtag_data = np.concatenate(total_data[3])\n",
    "_metadata = pd.concat(total_data[4])"
   ]
  },
  {
   "cell_type": "code",
   "execution_count": 4,
   "metadata": {},
   "outputs": [],
   "source": [
    "np.random.seed(1234)\n",
    "n_valid = 700\n",
    "n_train = _image_data.shape[0] - n_valid\n",
    "n_total = n_train + n_valid\n",
    "indices = np.random.choice(np.arange(_image_data.shape[0]), n_total, replace=False)\n",
    "train_idx = indices[:n_train]\n",
    "valid_idx = indices[n_train:]"
   ]
  },
  {
   "cell_type": "code",
   "execution_count": 5,
   "metadata": {},
   "outputs": [],
   "source": [
    "image_data = _image_data[train_idx]\n",
    "sentence_data = _sentence_data[train_idx]\n",
    "sentence_tags = _sentence_tags[train_idx]\n",
    "hashtag_data = _hashtag_data[train_idx]\n",
    "metadata = _metadata.iloc[train_idx]"
   ]
  },
  {
   "cell_type": "code",
   "execution_count": 6,
   "metadata": {},
   "outputs": [],
   "source": [
    "image_valid = _image_data[valid_idx]\n",
    "sentence_valid = _sentence_data[valid_idx]\n",
    "sentence_tags_valid = _sentence_tags[valid_idx]\n",
    "hashtag_valid = _hashtag_data[valid_idx]\n",
    "metadata_valid = _metadata.iloc[valid_idx]"
   ]
  },
  {
   "cell_type": "code",
   "execution_count": 7,
   "metadata": {
    "scrolled": true
   },
   "outputs": [
    {
     "ename": "NameError",
     "evalue": "name 'preprocessed' is not defined",
     "output_type": "error",
     "traceback": [
      "\u001b[0;31m---------------------------------------------------------------------------\u001b[0m",
      "\u001b[0;31mNameError\u001b[0m                                 Traceback (most recent call last)",
      "\u001b[0;32m<ipython-input-7-f9d2dfbb8647>\u001b[0m in \u001b[0;36m<module>\u001b[0;34m\u001b[0m\n\u001b[1;32m      1\u001b[0m \u001b[0mkomoran\u001b[0m \u001b[0;34m=\u001b[0m \u001b[0mKomoran\u001b[0m\u001b[0;34m(\u001b[0m\u001b[0;34m)\u001b[0m\u001b[0;34m\u001b[0m\u001b[0;34m\u001b[0m\u001b[0m\n\u001b[0;32m----> 2\u001b[0;31m \u001b[0mw2v_tags\u001b[0m \u001b[0;34m=\u001b[0m \u001b[0;34m[\u001b[0m\u001b[0;34m[\u001b[0m\u001b[0mt\u001b[0m\u001b[0;34m[\u001b[0m\u001b[0;36m0\u001b[0m\u001b[0;34m]\u001b[0m \u001b[0;32mfor\u001b[0m \u001b[0mt\u001b[0m \u001b[0;32min\u001b[0m \u001b[0mkomoran\u001b[0m\u001b[0;34m.\u001b[0m\u001b[0mpos\u001b[0m\u001b[0;34m(\u001b[0m\u001b[0ms\u001b[0m\u001b[0;34m)\u001b[0m\u001b[0;34m]\u001b[0m \u001b[0;32mfor\u001b[0m \u001b[0ms\u001b[0m \u001b[0;32min\u001b[0m \u001b[0mtqdm\u001b[0m\u001b[0;34m(\u001b[0m\u001b[0mpreprocessed\u001b[0m\u001b[0;34m[\u001b[0m\u001b[0;34m'clean_text'\u001b[0m\u001b[0;34m]\u001b[0m\u001b[0;34m)\u001b[0m\u001b[0;34m]\u001b[0m\u001b[0;34m\u001b[0m\u001b[0;34m\u001b[0m\u001b[0m\n\u001b[0m",
      "\u001b[0;31mNameError\u001b[0m: name 'preprocessed' is not defined"
     ]
    }
   ],
   "source": [
    "komoran = Komoran()\n",
    "w2v_tags = [[t[0] for t in komoran.pos(s)] for s in tqdm(preprocessed['clean_text'])]"
   ]
  },
  {
   "cell_type": "code",
   "execution_count": 67,
   "metadata": {},
   "outputs": [],
   "source": [
    "# pickle.dump(w2v_tags, open('w2v_tags.pkl', 'wb'))"
   ]
  },
  {
   "cell_type": "code",
   "execution_count": 9,
   "metadata": {},
   "outputs": [],
   "source": [
    "w2v_tags = pickle.load(open('w2v_tags.pkl', 'rb'))"
   ]
  },
  {
   "cell_type": "code",
   "execution_count": 10,
   "metadata": {
    "scrolled": true
   },
   "outputs": [],
   "source": [
    "new_w2v = Word2Vec(\n",
    "    w2v_tags,\n",
    "    workers=os.cpu_count(),\n",
    "    size=200,\n",
    "    window=5,\n",
    "    min_count=50,\n",
    "    sample=1e-3\n",
    ").wv"
   ]
  },
  {
   "cell_type": "code",
   "execution_count": 11,
   "metadata": {
    "scrolled": false
   },
   "outputs": [
    {
     "name": "stdout",
     "output_type": "stream",
     "text": [
      "(34300, 256, 256, 3)\n",
      "(34300,)\n",
      "(34300,)\n",
      "(34300,)\n",
      "(34300, 15)\n"
     ]
    }
   ],
   "source": [
    "print(image_data.shape)\n",
    "print(sentence_data.shape)\n",
    "print(sentence_tags.shape)\n",
    "print(hashtag_data.shape)\n",
    "print(metadata.shape)"
   ]
  },
  {
   "cell_type": "code",
   "execution_count": 12,
   "metadata": {
    "scrolled": true
   },
   "outputs": [
    {
     "name": "stderr",
     "output_type": "stream",
     "text": [
      "100%|██████████| 34300/34300 [00:43<00:00, 779.61it/s] \n"
     ]
    }
   ],
   "source": [
    "komoran = Komoran()\n",
    "all_tags = np.array([[t[0] for t in komoran.pos(s)] for s in tqdm(sentence_data)])\n",
    "\n",
    "train_indices = [i for i,n in enumerate(map(len, all_tags)) if 0 < n <= 100]\n",
    "train_imgs = image_data[train_indices]\n",
    "train_tags = all_tags[train_indices]\n",
    "train_sens = sentence_data[train_indices]"
   ]
  },
  {
   "cell_type": "code",
   "execution_count": 13,
   "metadata": {},
   "outputs": [
    {
     "name": "stderr",
     "output_type": "stream",
     "text": [
      "100%|██████████| 700/700 [00:01<00:00, 670.78it/s] \n"
     ]
    }
   ],
   "source": [
    "valid_imgs = image_valid\n",
    "valid_tags = np.array([[t[0] for t in komoran.pos(s)] for s in tqdm(sentence_valid)])\n",
    "valid_sens = sentence_valid"
   ]
  },
  {
   "cell_type": "code",
   "execution_count": 14,
   "metadata": {},
   "outputs": [],
   "source": [
    "# len_dict = {}\n",
    "# for i in map(len, all_tags):\n",
    "#     if i not in len_dict:\n",
    "#         len_dict[i] = 1\n",
    "#     else:\n",
    "#         len_dict[i] += 1\n",
    "        \n",
    "# for i, n in sorted(len_dict.items()):\n",
    "#     print(i, '\\t', n)"
   ]
  },
  {
   "cell_type": "code",
   "execution_count": 15,
   "metadata": {},
   "outputs": [],
   "source": [
    "max_seq_length = max(map(len, train_tags))\n",
    "gensim_data = np.zeros(shape=(len(train_tags), max_seq_length, 200))\n",
    "\n",
    "for i, tags in enumerate(train_tags):\n",
    "    for j, tag in enumerate([t for t in tags if t in new_w2v]):\n",
    "        gensim_data[i, j] = new_w2v[tag]\n",
    "        \n",
    "gensim_valid = np.zeros(shape=(len(valid_tags), max_seq_length, 200))\n",
    "\n",
    "for i, tags in enumerate(valid_tags):\n",
    "    for j, tag in enumerate([t for t in tags if t in new_w2v][:100]):\n",
    "        gensim_valid[i, j] = new_w2v[tag]"
   ]
  },
  {
   "cell_type": "code",
   "execution_count": 16,
   "metadata": {},
   "outputs": [
    {
     "name": "stdout",
     "output_type": "stream",
     "text": [
      "WARNING:tensorflow:From /home/svclaw2000/venv_capstone/lib/python3.7/site-packages/tensorflow/python/compat/v2_compat.py:96: disable_resource_variables (from tensorflow.python.ops.variable_scope) is deprecated and will be removed in a future version.\n",
      "Instructions for updating:\n",
      "non-resource variables are not supported in the long term\n"
     ]
    }
   ],
   "source": [
    "import tensorflow.compat.v1 as tf\n",
    "tf.disable_v2_behavior()"
   ]
  },
  {
   "cell_type": "code",
   "execution_count": 26,
   "metadata": {},
   "outputs": [],
   "source": [
    "n_noise = 256*256*3\n",
    "n_input = max_seq_length * 200\n",
    "n_hidden = 256\n",
    "n_output = 200\n",
    "\n",
    "def generator(images, labels=None):\n",
    "    with tf.variable_scope('generator'):\n",
    "        hidden1 = tf.layers.dense(images, n_hidden, activation=tf.nn.relu)\n",
    "        hidden2 = tf.layers.dense(hidden1, n_hidden, activation=tf.nn.relu)\n",
    "        output = tf.layers.dense(hidden2, n_input, activation=tf.nn.sigmoid)\n",
    "    return output\n",
    "\n",
    "def discriminator(inputs, labels=None, reuse=None):\n",
    "    with tf.variable_scope('discriminator') as scope:\n",
    "        if reuse:\n",
    "            scope.reuse_variables()\n",
    "        hidden1 = tf.layers.dense(inputs, n_hidden, activation=tf.nn.relu)\n",
    "        hidden2 = tf.layers.dense(hidden1, n_hidden, activation=tf.nn.relu)\n",
    "        output = tf.layers.dense(hidden2, 1, activation=None)\n",
    "    return output\n",
    "\n",
    "tf.reset_default_graph()\n",
    "\n",
    "X = tf.placeholder(tf.float32, [None, n_noise])\n",
    "Y = tf.placeholder(tf.float32, [None, n_input])\n",
    "\n",
    "G = generator(X)\n",
    "D_real = discriminator(Y)\n",
    "D_gene = discriminator(G, reuse=True)\n",
    "\n",
    "loss_D_real = tf.reduce_mean(tf.nn.sigmoid_cross_entropy_with_logits(logits=D_real, labels=tf.ones_like(D_real)))\n",
    "loss_D_gene = tf.reduce_mean(tf.nn.sigmoid_cross_entropy_with_logits(logits=D_gene, labels=tf.zeros_like(D_gene)))\n",
    "loss_D = (loss_D_real + loss_D_gene) * 0.7\n",
    "loss_G = tf.reduce_mean(tf.nn.sigmoid_cross_entropy_with_logits(logits=D_gene, labels=tf.ones_like(D_gene)))\n",
    "\n",
    "vars_D = tf.get_collection(tf.GraphKeys.TRAINABLE_VARIABLES, scope='discriminator')\n",
    "vars_G = tf.get_collection(tf.GraphKeys.TRAINABLE_VARIABLES, scope='generator')\n",
    "\n",
    "train_D = tf.train.AdamOptimizer().minimize(loss_D, var_list=vars_D)\n",
    "train_G = tf.train.AdamOptimizer().minimize(loss_G, var_list=vars_G)"
   ]
  },
  {
   "cell_type": "code",
   "execution_count": 27,
   "metadata": {},
   "outputs": [
    {
     "name": "stdout",
     "output_type": "stream",
     "text": [
      "Device mapping:\n",
      "/job:localhost/replica:0/task:0/device:XLA_CPU:0 -> device: XLA_CPU device\n",
      "/job:localhost/replica:0/task:0/device:XLA_GPU:0 -> device: XLA_GPU device\n",
      "/job:localhost/replica:0/task:0/device:GPU:0 -> device: 0, name: GeForce RTX 2080 Ti, pci bus id: 0000:68:00.0, compute capability: 7.5\n",
      "\n"
     ]
    }
   ],
   "source": [
    "with tf.device('/gpu:0'):\n",
    "    sess = tf.Session(config=tf.ConfigProto(allow_soft_placement=True, \n",
    "                                            log_device_placement=True))\n",
    "    sess.run(tf.global_variables_initializer())"
   ]
  },
  {
   "cell_type": "code",
   "execution_count": 33,
   "metadata": {
    "scrolled": true
   },
   "outputs": [
    {
     "name": "stderr",
     "output_type": "stream",
     "text": [
      "100%|██████████| 5/5 [00:35<00:00,  7.02s/it]\n",
      "  0%|          | 0/5 [00:00<?, ?it/s]"
     ]
    },
    {
     "name": "stdout",
     "output_type": "stream",
     "text": [
      "[Epoch: 1] loss_D = 0.033, loss_G = 65.508, loss_valid_D = 0.027, loss_valid_G = 69.897\n"
     ]
    },
    {
     "name": "stderr",
     "output_type": "stream",
     "text": [
      "100%|██████████| 5/5 [00:35<00:00,  7.06s/it]\n",
      "  0%|          | 0/5 [00:00<?, ?it/s]"
     ]
    },
    {
     "name": "stdout",
     "output_type": "stream",
     "text": [
      "[Epoch: 2] loss_D = 0.020, loss_G = 70.139, loss_valid_D = 0.019, loss_valid_G = 68.694\n"
     ]
    },
    {
     "name": "stderr",
     "output_type": "stream",
     "text": [
      "100%|██████████| 5/5 [00:35<00:00,  7.07s/it]\n",
      "  0%|          | 0/5 [00:00<?, ?it/s]"
     ]
    },
    {
     "name": "stdout",
     "output_type": "stream",
     "text": [
      "[Epoch: 3] loss_D = 0.015, loss_G = 65.625, loss_valid_D = 0.015, loss_valid_G = 61.358\n"
     ]
    },
    {
     "name": "stderr",
     "output_type": "stream",
     "text": [
      "100%|██████████| 5/5 [00:35<00:00,  7.06s/it]\n",
      "  0%|          | 0/5 [00:00<?, ?it/s]"
     ]
    },
    {
     "name": "stdout",
     "output_type": "stream",
     "text": [
      "[Epoch: 4] loss_D = 0.012, loss_G = 55.779, loss_valid_D = 0.012, loss_valid_G = 47.945\n"
     ]
    },
    {
     "name": "stderr",
     "output_type": "stream",
     "text": [
      "100%|██████████| 5/5 [00:35<00:00,  7.04s/it]\n",
      "  0%|          | 0/5 [00:00<?, ?it/s]"
     ]
    },
    {
     "name": "stdout",
     "output_type": "stream",
     "text": [
      "[Epoch: 5] loss_D = 0.010, loss_G = 38.368, loss_valid_D = 0.011, loss_valid_G = 24.687\n"
     ]
    },
    {
     "name": "stderr",
     "output_type": "stream",
     "text": [
      "100%|██████████| 5/5 [00:35<00:00,  7.06s/it]\n",
      "  0%|          | 0/5 [00:00<?, ?it/s]"
     ]
    },
    {
     "name": "stdout",
     "output_type": "stream",
     "text": [
      "[Epoch: 6] loss_D = 0.010, loss_G = 20.413, loss_valid_D = 0.010, loss_valid_G = 33.277\n"
     ]
    },
    {
     "name": "stderr",
     "output_type": "stream",
     "text": [
      "100%|██████████| 5/5 [00:35<00:00,  7.04s/it]\n",
      "  0%|          | 0/5 [00:00<?, ?it/s]"
     ]
    },
    {
     "name": "stdout",
     "output_type": "stream",
     "text": [
      "[Epoch: 7] loss_D = 0.009, loss_G = 29.616, loss_valid_D = 0.009, loss_valid_G = 17.078\n"
     ]
    },
    {
     "name": "stderr",
     "output_type": "stream",
     "text": [
      "100%|██████████| 5/5 [00:35<00:00,  7.04s/it]\n",
      "  0%|          | 0/5 [00:00<?, ?it/s]"
     ]
    },
    {
     "name": "stdout",
     "output_type": "stream",
     "text": [
      "[Epoch: 8] loss_D = 0.009, loss_G = 15.091, loss_valid_D = 0.009, loss_valid_G = 15.402\n"
     ]
    },
    {
     "name": "stderr",
     "output_type": "stream",
     "text": [
      "100%|██████████| 5/5 [00:35<00:00,  7.03s/it]\n",
      "  0%|          | 0/5 [00:00<?, ?it/s]"
     ]
    },
    {
     "name": "stdout",
     "output_type": "stream",
     "text": [
      "[Epoch: 9] loss_D = 0.007, loss_G = 13.877, loss_valid_D = 0.008, loss_valid_G = 14.056\n"
     ]
    },
    {
     "name": "stderr",
     "output_type": "stream",
     "text": [
      "100%|██████████| 5/5 [00:35<00:00,  7.05s/it]\n",
      "  0%|          | 0/5 [00:00<?, ?it/s]"
     ]
    },
    {
     "name": "stdout",
     "output_type": "stream",
     "text": [
      "[Epoch: 10] loss_D = 0.007, loss_G = 14.661, loss_valid_D = 0.007, loss_valid_G = 13.917\n"
     ]
    },
    {
     "name": "stderr",
     "output_type": "stream",
     "text": [
      "100%|██████████| 5/5 [00:35<00:00,  7.06s/it]\n",
      "  0%|          | 0/5 [00:00<?, ?it/s]"
     ]
    },
    {
     "name": "stdout",
     "output_type": "stream",
     "text": [
      "[Epoch: 11] loss_D = 0.006, loss_G = 12.405, loss_valid_D = 0.007, loss_valid_G = 10.776\n"
     ]
    },
    {
     "name": "stderr",
     "output_type": "stream",
     "text": [
      "100%|██████████| 5/5 [00:35<00:00,  7.04s/it]\n",
      "  0%|          | 0/5 [00:00<?, ?it/s]"
     ]
    },
    {
     "name": "stdout",
     "output_type": "stream",
     "text": [
      "[Epoch: 12] loss_D = 0.006, loss_G = 10.590, loss_valid_D = 0.006, loss_valid_G = 10.324\n"
     ]
    },
    {
     "name": "stderr",
     "output_type": "stream",
     "text": [
      "100%|██████████| 5/5 [00:35<00:00,  7.03s/it]\n",
      "  0%|          | 0/5 [00:00<?, ?it/s]"
     ]
    },
    {
     "name": "stdout",
     "output_type": "stream",
     "text": [
      "[Epoch: 13] loss_D = 0.005, loss_G = 9.932, loss_valid_D = 0.006, loss_valid_G = 9.807\n"
     ]
    },
    {
     "name": "stderr",
     "output_type": "stream",
     "text": [
      "100%|██████████| 5/5 [00:35<00:00,  7.04s/it]\n",
      "  0%|          | 0/5 [00:00<?, ?it/s]"
     ]
    },
    {
     "name": "stdout",
     "output_type": "stream",
     "text": [
      "[Epoch: 14] loss_D = 0.005, loss_G = 9.178, loss_valid_D = 0.005, loss_valid_G = 9.222\n"
     ]
    },
    {
     "name": "stderr",
     "output_type": "stream",
     "text": [
      "100%|██████████| 5/5 [00:35<00:00,  7.03s/it]\n",
      "  0%|          | 0/5 [00:00<?, ?it/s]"
     ]
    },
    {
     "name": "stdout",
     "output_type": "stream",
     "text": [
      "[Epoch: 15] loss_D = 0.004, loss_G = 8.814, loss_valid_D = 0.005, loss_valid_G = 8.577\n"
     ]
    },
    {
     "name": "stderr",
     "output_type": "stream",
     "text": [
      "100%|██████████| 5/5 [00:35<00:00,  7.04s/it]\n",
      "  0%|          | 0/5 [00:00<?, ?it/s]"
     ]
    },
    {
     "name": "stdout",
     "output_type": "stream",
     "text": [
      "[Epoch: 16] loss_D = 0.005, loss_G = 7.823, loss_valid_D = 0.005, loss_valid_G = 7.884\n"
     ]
    },
    {
     "name": "stderr",
     "output_type": "stream",
     "text": [
      "100%|██████████| 5/5 [00:35<00:00,  7.06s/it]\n",
      "  0%|          | 0/5 [00:00<?, ?it/s]"
     ]
    },
    {
     "name": "stdout",
     "output_type": "stream",
     "text": [
      "[Epoch: 17] loss_D = 0.004, loss_G = 8.063, loss_valid_D = 0.005, loss_valid_G = 7.872\n"
     ]
    },
    {
     "name": "stderr",
     "output_type": "stream",
     "text": [
      "100%|██████████| 5/5 [00:35<00:00,  7.00s/it]\n",
      "  0%|          | 0/5 [00:00<?, ?it/s]"
     ]
    },
    {
     "name": "stdout",
     "output_type": "stream",
     "text": [
      "[Epoch: 18] loss_D = 0.003, loss_G = 8.258, loss_valid_D = 0.004, loss_valid_G = 7.968\n"
     ]
    },
    {
     "name": "stderr",
     "output_type": "stream",
     "text": [
      "100%|██████████| 5/5 [00:35<00:00,  7.06s/it]\n",
      "  0%|          | 0/5 [00:00<?, ?it/s]"
     ]
    },
    {
     "name": "stdout",
     "output_type": "stream",
     "text": [
      "[Epoch: 19] loss_D = 0.004, loss_G = 7.637, loss_valid_D = 0.004, loss_valid_G = 7.756\n"
     ]
    },
    {
     "name": "stderr",
     "output_type": "stream",
     "text": [
      "100%|██████████| 5/5 [00:35<00:00,  7.04s/it]\n",
      "  0%|          | 0/5 [00:00<?, ?it/s]"
     ]
    },
    {
     "name": "stdout",
     "output_type": "stream",
     "text": [
      "[Epoch: 20] loss_D = 0.003, loss_G = 7.692, loss_valid_D = 0.003, loss_valid_G = 7.688\n"
     ]
    },
    {
     "name": "stderr",
     "output_type": "stream",
     "text": [
      "100%|██████████| 5/5 [00:35<00:00,  7.03s/it]\n",
      "  0%|          | 0/5 [00:00<?, ?it/s]"
     ]
    },
    {
     "name": "stdout",
     "output_type": "stream",
     "text": [
      "[Epoch: 21] loss_D = 0.003, loss_G = 7.416, loss_valid_D = 0.004, loss_valid_G = 6.918\n"
     ]
    },
    {
     "name": "stderr",
     "output_type": "stream",
     "text": [
      "100%|██████████| 5/5 [00:35<00:00,  7.03s/it]\n",
      "  0%|          | 0/5 [00:00<?, ?it/s]"
     ]
    },
    {
     "name": "stdout",
     "output_type": "stream",
     "text": [
      "[Epoch: 22] loss_D = 0.003, loss_G = 6.976, loss_valid_D = 0.004, loss_valid_G = 6.727\n"
     ]
    },
    {
     "name": "stderr",
     "output_type": "stream",
     "text": [
      "100%|██████████| 5/5 [00:35<00:00,  7.04s/it]\n",
      "  0%|          | 0/5 [00:00<?, ?it/s]"
     ]
    },
    {
     "name": "stdout",
     "output_type": "stream",
     "text": [
      "[Epoch: 23] loss_D = 0.004, loss_G = 6.757, loss_valid_D = 0.003, loss_valid_G = 7.020\n"
     ]
    },
    {
     "name": "stderr",
     "output_type": "stream",
     "text": [
      "100%|██████████| 5/5 [00:35<00:00,  7.02s/it]\n",
      "  0%|          | 0/5 [00:00<?, ?it/s]"
     ]
    },
    {
     "name": "stdout",
     "output_type": "stream",
     "text": [
      "[Epoch: 24] loss_D = 0.003, loss_G = 6.817, loss_valid_D = 0.003, loss_valid_G = 6.957\n"
     ]
    },
    {
     "name": "stderr",
     "output_type": "stream",
     "text": [
      "100%|██████████| 5/5 [00:35<00:00,  7.02s/it]\n",
      "  0%|          | 0/5 [00:00<?, ?it/s]"
     ]
    },
    {
     "name": "stdout",
     "output_type": "stream",
     "text": [
      "[Epoch: 25] loss_D = 0.004, loss_G = 6.385, loss_valid_D = 0.003, loss_valid_G = 7.046\n"
     ]
    },
    {
     "name": "stderr",
     "output_type": "stream",
     "text": [
      "100%|██████████| 5/5 [00:35<00:00,  7.05s/it]\n",
      "  0%|          | 0/5 [00:00<?, ?it/s]"
     ]
    },
    {
     "name": "stdout",
     "output_type": "stream",
     "text": [
      "[Epoch: 26] loss_D = 0.003, loss_G = 7.054, loss_valid_D = 0.002, loss_valid_G = 7.417\n"
     ]
    },
    {
     "name": "stderr",
     "output_type": "stream",
     "text": [
      "100%|██████████| 5/5 [00:35<00:00,  7.01s/it]\n",
      "  0%|          | 0/5 [00:00<?, ?it/s]"
     ]
    },
    {
     "name": "stdout",
     "output_type": "stream",
     "text": [
      "[Epoch: 27] loss_D = 0.006, loss_G = 6.383, loss_valid_D = 0.008, loss_valid_G = 5.370\n"
     ]
    },
    {
     "name": "stderr",
     "output_type": "stream",
     "text": [
      "100%|██████████| 5/5 [00:35<00:00,  7.06s/it]\n",
      "  0%|          | 0/5 [00:00<?, ?it/s]"
     ]
    },
    {
     "name": "stdout",
     "output_type": "stream",
     "text": [
      "[Epoch: 28] loss_D = 0.023, loss_G = 4.488, loss_valid_D = 0.019, loss_valid_G = 4.457\n"
     ]
    },
    {
     "name": "stderr",
     "output_type": "stream",
     "text": [
      "100%|██████████| 5/5 [00:35<00:00,  7.06s/it]\n",
      "  0%|          | 0/5 [00:00<?, ?it/s]"
     ]
    },
    {
     "name": "stdout",
     "output_type": "stream",
     "text": [
      "[Epoch: 29] loss_D = 0.083, loss_G = 3.324, loss_valid_D = 0.039, loss_valid_G = 3.710\n"
     ]
    },
    {
     "name": "stderr",
     "output_type": "stream",
     "text": [
      "100%|██████████| 5/5 [00:35<00:00,  7.05s/it]\n",
      "  0%|          | 0/5 [00:00<?, ?it/s]"
     ]
    },
    {
     "name": "stdout",
     "output_type": "stream",
     "text": [
      "[Epoch: 30] loss_D = 0.020, loss_G = 4.631, loss_valid_D = 0.009, loss_valid_G = 5.436\n"
     ]
    },
    {
     "name": "stderr",
     "output_type": "stream",
     "text": [
      "100%|██████████| 5/5 [00:35<00:00,  7.06s/it]\n",
      "  0%|          | 0/5 [00:00<?, ?it/s]"
     ]
    },
    {
     "name": "stdout",
     "output_type": "stream",
     "text": [
      "[Epoch: 31] loss_D = 0.008, loss_G = 5.750, loss_valid_D = 0.008, loss_valid_G = 5.703\n"
     ]
    },
    {
     "name": "stderr",
     "output_type": "stream",
     "text": [
      "100%|██████████| 5/5 [00:35<00:00,  7.05s/it]\n",
      "  0%|          | 0/5 [00:00<?, ?it/s]"
     ]
    },
    {
     "name": "stdout",
     "output_type": "stream",
     "text": [
      "[Epoch: 32] loss_D = 0.006, loss_G = 6.290, loss_valid_D = 0.005, loss_valid_G = 6.864\n"
     ]
    },
    {
     "name": "stderr",
     "output_type": "stream",
     "text": [
      "100%|██████████| 5/5 [00:35<00:00,  7.05s/it]\n",
      "  0%|          | 0/5 [00:00<?, ?it/s]"
     ]
    },
    {
     "name": "stdout",
     "output_type": "stream",
     "text": [
      "[Epoch: 33] loss_D = 0.010, loss_G = 5.219, loss_valid_D = 0.060, loss_valid_G = 3.293\n"
     ]
    },
    {
     "name": "stderr",
     "output_type": "stream",
     "text": [
      "100%|██████████| 5/5 [00:35<00:00,  7.05s/it]\n",
      "  0%|          | 0/5 [00:00<?, ?it/s]"
     ]
    },
    {
     "name": "stdout",
     "output_type": "stream",
     "text": [
      "[Epoch: 34] loss_D = 0.057, loss_G = 3.569, loss_valid_D = 0.105, loss_valid_G = 3.152\n"
     ]
    },
    {
     "name": "stderr",
     "output_type": "stream",
     "text": [
      "100%|██████████| 5/5 [00:35<00:00,  7.03s/it]\n",
      "  0%|          | 0/5 [00:00<?, ?it/s]"
     ]
    },
    {
     "name": "stdout",
     "output_type": "stream",
     "text": [
      "[Epoch: 35] loss_D = 0.139, loss_G = 3.087, loss_valid_D = 0.062, loss_valid_G = 3.937\n"
     ]
    },
    {
     "name": "stderr",
     "output_type": "stream",
     "text": [
      "100%|██████████| 5/5 [00:35<00:00,  7.04s/it]\n",
      "  0%|          | 0/5 [00:00<?, ?it/s]"
     ]
    },
    {
     "name": "stdout",
     "output_type": "stream",
     "text": [
      "[Epoch: 36] loss_D = 0.043, loss_G = 4.845, loss_valid_D = 0.038, loss_valid_G = 5.690\n"
     ]
    },
    {
     "name": "stderr",
     "output_type": "stream",
     "text": [
      "100%|██████████| 5/5 [00:35<00:00,  7.04s/it]\n",
      "  0%|          | 0/5 [00:00<?, ?it/s]"
     ]
    },
    {
     "name": "stdout",
     "output_type": "stream",
     "text": [
      "[Epoch: 37] loss_D = 0.034, loss_G = 5.669, loss_valid_D = 0.044, loss_valid_G = 5.165\n"
     ]
    },
    {
     "name": "stderr",
     "output_type": "stream",
     "text": [
      "100%|██████████| 5/5 [00:35<00:00,  7.05s/it]\n",
      "  0%|          | 0/5 [00:00<?, ?it/s]"
     ]
    },
    {
     "name": "stdout",
     "output_type": "stream",
     "text": [
      "[Epoch: 38] loss_D = 0.027, loss_G = 6.679, loss_valid_D = 0.026, loss_valid_G = 7.869\n"
     ]
    },
    {
     "name": "stderr",
     "output_type": "stream",
     "text": [
      "100%|██████████| 5/5 [00:35<00:00,  7.04s/it]\n",
      "  0%|          | 0/5 [00:00<?, ?it/s]"
     ]
    },
    {
     "name": "stdout",
     "output_type": "stream",
     "text": [
      "[Epoch: 39] loss_D = 0.019, loss_G = 7.703, loss_valid_D = 0.018, loss_valid_G = 7.948\n"
     ]
    },
    {
     "name": "stderr",
     "output_type": "stream",
     "text": [
      "100%|██████████| 5/5 [00:35<00:00,  7.05s/it]\n",
      "  0%|          | 0/5 [00:00<?, ?it/s]"
     ]
    },
    {
     "name": "stdout",
     "output_type": "stream",
     "text": [
      "[Epoch: 40] loss_D = 0.012, loss_G = 7.607, loss_valid_D = 0.011, loss_valid_G = 7.900\n"
     ]
    },
    {
     "name": "stderr",
     "output_type": "stream",
     "text": [
      "100%|██████████| 5/5 [00:35<00:00,  7.06s/it]\n",
      "  0%|          | 0/5 [00:00<?, ?it/s]"
     ]
    },
    {
     "name": "stdout",
     "output_type": "stream",
     "text": [
      "[Epoch: 41] loss_D = 0.007, loss_G = 8.399, loss_valid_D = 0.007, loss_valid_G = 8.143\n"
     ]
    },
    {
     "name": "stderr",
     "output_type": "stream",
     "text": [
      "100%|██████████| 5/5 [00:35<00:00,  7.08s/it]\n",
      "  0%|          | 0/5 [00:00<?, ?it/s]"
     ]
    },
    {
     "name": "stdout",
     "output_type": "stream",
     "text": [
      "[Epoch: 42] loss_D = 0.005, loss_G = 8.250, loss_valid_D = 0.004, loss_valid_G = 9.886\n"
     ]
    },
    {
     "name": "stderr",
     "output_type": "stream",
     "text": [
      "100%|██████████| 5/5 [00:35<00:00,  7.04s/it]\n",
      "  0%|          | 0/5 [00:00<?, ?it/s]"
     ]
    },
    {
     "name": "stdout",
     "output_type": "stream",
     "text": [
      "[Epoch: 43] loss_D = 0.003, loss_G = 10.201, loss_valid_D = 0.003, loss_valid_G = 11.063\n"
     ]
    },
    {
     "name": "stderr",
     "output_type": "stream",
     "text": [
      "100%|██████████| 5/5 [00:35<00:00,  7.03s/it]\n",
      "  0%|          | 0/5 [00:00<?, ?it/s]"
     ]
    },
    {
     "name": "stdout",
     "output_type": "stream",
     "text": [
      "[Epoch: 44] loss_D = 0.002, loss_G = 10.457, loss_valid_D = 0.002, loss_valid_G = 10.937\n"
     ]
    },
    {
     "name": "stderr",
     "output_type": "stream",
     "text": [
      "100%|██████████| 5/5 [00:35<00:00,  7.03s/it]\n",
      "  0%|          | 0/5 [00:00<?, ?it/s]"
     ]
    },
    {
     "name": "stdout",
     "output_type": "stream",
     "text": [
      "[Epoch: 45] loss_D = 0.002, loss_G = 10.702, loss_valid_D = 0.002, loss_valid_G = 14.078\n"
     ]
    },
    {
     "name": "stderr",
     "output_type": "stream",
     "text": [
      "100%|██████████| 5/5 [00:35<00:00,  7.02s/it]\n",
      "  0%|          | 0/5 [00:00<?, ?it/s]"
     ]
    },
    {
     "name": "stdout",
     "output_type": "stream",
     "text": [
      "[Epoch: 46] loss_D = 0.001, loss_G = 15.454, loss_valid_D = 0.001, loss_valid_G = 15.584\n"
     ]
    },
    {
     "name": "stderr",
     "output_type": "stream",
     "text": [
      "100%|██████████| 5/5 [00:35<00:00,  7.02s/it]\n",
      "  0%|          | 0/5 [00:00<?, ?it/s]"
     ]
    },
    {
     "name": "stdout",
     "output_type": "stream",
     "text": [
      "[Epoch: 47] loss_D = 0.001, loss_G = 13.787, loss_valid_D = 0.001, loss_valid_G = 10.505\n"
     ]
    },
    {
     "name": "stderr",
     "output_type": "stream",
     "text": [
      "100%|██████████| 5/5 [00:35<00:00,  7.05s/it]\n",
      "  0%|          | 0/5 [00:00<?, ?it/s]"
     ]
    },
    {
     "name": "stdout",
     "output_type": "stream",
     "text": [
      "[Epoch: 48] loss_D = 0.005, loss_G = 19.091, loss_valid_D = 0.001, loss_valid_G = 27.756\n"
     ]
    },
    {
     "name": "stderr",
     "output_type": "stream",
     "text": [
      "100%|██████████| 5/5 [00:35<00:00,  7.04s/it]\n",
      "  0%|          | 0/5 [00:00<?, ?it/s]"
     ]
    },
    {
     "name": "stdout",
     "output_type": "stream",
     "text": [
      "[Epoch: 49] loss_D = 0.001, loss_G = 30.863, loss_valid_D = 0.001, loss_valid_G = 33.621\n"
     ]
    },
    {
     "name": "stderr",
     "output_type": "stream",
     "text": [
      "100%|██████████| 5/5 [00:35<00:00,  7.05s/it]\n",
      "  0%|          | 0/5 [00:00<?, ?it/s]"
     ]
    },
    {
     "name": "stdout",
     "output_type": "stream",
     "text": [
      "[Epoch: 50] loss_D = 0.001, loss_G = 34.539, loss_valid_D = 0.001, loss_valid_G = 35.140\n"
     ]
    },
    {
     "name": "stderr",
     "output_type": "stream",
     "text": [
      "100%|██████████| 5/5 [00:35<00:00,  7.03s/it]\n",
      "  0%|          | 0/5 [00:00<?, ?it/s]"
     ]
    },
    {
     "name": "stdout",
     "output_type": "stream",
     "text": [
      "[Epoch: 51] loss_D = 0.001, loss_G = 32.548, loss_valid_D = 0.001, loss_valid_G = 25.108\n"
     ]
    },
    {
     "name": "stderr",
     "output_type": "stream",
     "text": [
      "100%|██████████| 5/5 [00:35<00:00,  7.05s/it]\n",
      "  0%|          | 0/5 [00:00<?, ?it/s]"
     ]
    },
    {
     "name": "stdout",
     "output_type": "stream",
     "text": [
      "[Epoch: 52] loss_D = 0.009, loss_G = 26.315, loss_valid_D = 0.001, loss_valid_G = 51.107\n"
     ]
    },
    {
     "name": "stderr",
     "output_type": "stream",
     "text": [
      "100%|██████████| 5/5 [00:35<00:00,  7.05s/it]\n",
      "  0%|          | 0/5 [00:00<?, ?it/s]"
     ]
    },
    {
     "name": "stdout",
     "output_type": "stream",
     "text": [
      "[Epoch: 53] loss_D = 0.002, loss_G = 67.840, loss_valid_D = 0.002, loss_valid_G = 80.593\n"
     ]
    },
    {
     "name": "stderr",
     "output_type": "stream",
     "text": [
      "100%|██████████| 5/5 [00:35<00:00,  7.02s/it]\n",
      "  0%|          | 0/5 [00:00<?, ?it/s]"
     ]
    },
    {
     "name": "stdout",
     "output_type": "stream",
     "text": [
      "[Epoch: 54] loss_D = 0.003, loss_G = 87.341, loss_valid_D = 0.002, loss_valid_G = 92.269\n"
     ]
    },
    {
     "name": "stderr",
     "output_type": "stream",
     "text": [
      "100%|██████████| 5/5 [00:35<00:00,  7.05s/it]\n",
      "  0%|          | 0/5 [00:00<?, ?it/s]"
     ]
    },
    {
     "name": "stdout",
     "output_type": "stream",
     "text": [
      "[Epoch: 55] loss_D = 0.002, loss_G = 88.647, loss_valid_D = 0.002, loss_valid_G = 84.952\n"
     ]
    },
    {
     "name": "stderr",
     "output_type": "stream",
     "text": [
      "100%|██████████| 5/5 [00:35<00:00,  7.07s/it]\n",
      "  0%|          | 0/5 [00:00<?, ?it/s]"
     ]
    },
    {
     "name": "stdout",
     "output_type": "stream",
     "text": [
      "[Epoch: 56] loss_D = 0.002, loss_G = 77.947, loss_valid_D = 0.002, loss_valid_G = 74.797\n"
     ]
    },
    {
     "name": "stderr",
     "output_type": "stream",
     "text": [
      "100%|██████████| 5/5 [00:35<00:00,  7.03s/it]\n",
      "  0%|          | 0/5 [00:00<?, ?it/s]"
     ]
    },
    {
     "name": "stdout",
     "output_type": "stream",
     "text": [
      "[Epoch: 57] loss_D = 0.001, loss_G = 68.721, loss_valid_D = 0.002, loss_valid_G = 61.851\n"
     ]
    },
    {
     "name": "stderr",
     "output_type": "stream",
     "text": [
      "100%|██████████| 5/5 [00:35<00:00,  7.04s/it]\n",
      "  0%|          | 0/5 [00:00<?, ?it/s]"
     ]
    },
    {
     "name": "stdout",
     "output_type": "stream",
     "text": [
      "[Epoch: 58] loss_D = 0.001, loss_G = 56.006, loss_valid_D = 0.001, loss_valid_G = 51.098\n"
     ]
    },
    {
     "name": "stderr",
     "output_type": "stream",
     "text": [
      "100%|██████████| 5/5 [00:35<00:00,  7.05s/it]\n",
      "  0%|          | 0/5 [00:00<?, ?it/s]"
     ]
    },
    {
     "name": "stdout",
     "output_type": "stream",
     "text": [
      "[Epoch: 59] loss_D = 0.001, loss_G = 46.739, loss_valid_D = 0.001, loss_valid_G = 43.107\n"
     ]
    },
    {
     "name": "stderr",
     "output_type": "stream",
     "text": [
      "100%|██████████| 5/5 [00:35<00:00,  7.05s/it]\n",
      "  0%|          | 0/5 [00:00<?, ?it/s]"
     ]
    },
    {
     "name": "stdout",
     "output_type": "stream",
     "text": [
      "[Epoch: 60] loss_D = 0.001, loss_G = 33.721, loss_valid_D = 0.001, loss_valid_G = 26.006\n"
     ]
    },
    {
     "name": "stderr",
     "output_type": "stream",
     "text": [
      "100%|██████████| 5/5 [00:35<00:00,  7.02s/it]\n",
      "  0%|          | 0/5 [00:00<?, ?it/s]"
     ]
    },
    {
     "name": "stdout",
     "output_type": "stream",
     "text": [
      "[Epoch: 61] loss_D = 0.002, loss_G = 30.837, loss_valid_D = 0.001, loss_valid_G = 51.636\n"
     ]
    },
    {
     "name": "stderr",
     "output_type": "stream",
     "text": [
      "100%|██████████| 5/5 [00:35<00:00,  7.04s/it]\n",
      "  0%|          | 0/5 [00:00<?, ?it/s]"
     ]
    },
    {
     "name": "stdout",
     "output_type": "stream",
     "text": [
      "[Epoch: 62] loss_D = 0.001, loss_G = 62.455, loss_valid_D = 0.001, loss_valid_G = 66.626\n"
     ]
    },
    {
     "name": "stderr",
     "output_type": "stream",
     "text": [
      "100%|██████████| 5/5 [00:35<00:00,  7.08s/it]\n",
      "  0%|          | 0/5 [00:00<?, ?it/s]"
     ]
    },
    {
     "name": "stdout",
     "output_type": "stream",
     "text": [
      "[Epoch: 63] loss_D = 0.001, loss_G = 69.386, loss_valid_D = 0.001, loss_valid_G = 69.088\n"
     ]
    },
    {
     "name": "stderr",
     "output_type": "stream",
     "text": [
      "100%|██████████| 5/5 [00:35<00:00,  7.05s/it]\n",
      "  0%|          | 0/5 [00:00<?, ?it/s]"
     ]
    },
    {
     "name": "stdout",
     "output_type": "stream",
     "text": [
      "[Epoch: 64] loss_D = 0.001, loss_G = 65.810, loss_valid_D = 0.001, loss_valid_G = 58.621\n"
     ]
    },
    {
     "name": "stderr",
     "output_type": "stream",
     "text": [
      "100%|██████████| 5/5 [00:35<00:00,  7.04s/it]\n",
      "  0%|          | 0/5 [00:00<?, ?it/s]"
     ]
    },
    {
     "name": "stdout",
     "output_type": "stream",
     "text": [
      "[Epoch: 65] loss_D = 0.001, loss_G = 48.351, loss_valid_D = 0.001, loss_valid_G = 35.941\n"
     ]
    },
    {
     "name": "stderr",
     "output_type": "stream",
     "text": [
      "100%|██████████| 5/5 [00:35<00:00,  7.05s/it]\n",
      "  0%|          | 0/5 [00:00<?, ?it/s]"
     ]
    },
    {
     "name": "stdout",
     "output_type": "stream",
     "text": [
      "[Epoch: 66] loss_D = 0.001, loss_G = 37.130, loss_valid_D = 0.001, loss_valid_G = 79.042\n"
     ]
    },
    {
     "name": "stderr",
     "output_type": "stream",
     "text": [
      "100%|██████████| 5/5 [00:35<00:00,  7.03s/it]\n",
      "  0%|          | 0/5 [00:00<?, ?it/s]"
     ]
    },
    {
     "name": "stdout",
     "output_type": "stream",
     "text": [
      "[Epoch: 67] loss_D = 0.001, loss_G = 108.338, loss_valid_D = 0.001, loss_valid_G = 128.942\n"
     ]
    },
    {
     "name": "stderr",
     "output_type": "stream",
     "text": [
      "100%|██████████| 5/5 [00:35<00:00,  7.05s/it]\n",
      "  0%|          | 0/5 [00:00<?, ?it/s]"
     ]
    },
    {
     "name": "stdout",
     "output_type": "stream",
     "text": [
      "[Epoch: 68] loss_D = 0.001, loss_G = 141.165, loss_valid_D = 0.001, loss_valid_G = 147.896\n"
     ]
    },
    {
     "name": "stderr",
     "output_type": "stream",
     "text": [
      "100%|██████████| 5/5 [00:35<00:00,  7.01s/it]\n",
      "  0%|          | 0/5 [00:00<?, ?it/s]"
     ]
    },
    {
     "name": "stdout",
     "output_type": "stream",
     "text": [
      "[Epoch: 69] loss_D = 0.001, loss_G = 148.838, loss_valid_D = 0.001, loss_valid_G = 148.137\n"
     ]
    },
    {
     "name": "stderr",
     "output_type": "stream",
     "text": [
      "100%|██████████| 5/5 [00:35<00:00,  7.04s/it]\n",
      "  0%|          | 0/5 [00:00<?, ?it/s]"
     ]
    },
    {
     "name": "stdout",
     "output_type": "stream",
     "text": [
      "[Epoch: 70] loss_D = 0.001, loss_G = 144.925, loss_valid_D = 0.001, loss_valid_G = 139.644\n"
     ]
    },
    {
     "name": "stderr",
     "output_type": "stream",
     "text": [
      "100%|██████████| 5/5 [00:35<00:00,  7.07s/it]\n",
      "  0%|          | 0/5 [00:00<?, ?it/s]"
     ]
    },
    {
     "name": "stdout",
     "output_type": "stream",
     "text": [
      "[Epoch: 71] loss_D = 0.001, loss_G = 132.965, loss_valid_D = 0.001, loss_valid_G = 124.828\n"
     ]
    },
    {
     "name": "stderr",
     "output_type": "stream",
     "text": [
      "100%|██████████| 5/5 [00:35<00:00,  7.06s/it]\n",
      "  0%|          | 0/5 [00:00<?, ?it/s]"
     ]
    },
    {
     "name": "stdout",
     "output_type": "stream",
     "text": [
      "[Epoch: 72] loss_D = 0.000, loss_G = 114.772, loss_valid_D = 0.001, loss_valid_G = 101.766\n"
     ]
    },
    {
     "name": "stderr",
     "output_type": "stream",
     "text": [
      "100%|██████████| 5/5 [00:35<00:00,  7.05s/it]\n",
      "  0%|          | 0/5 [00:00<?, ?it/s]"
     ]
    },
    {
     "name": "stdout",
     "output_type": "stream",
     "text": [
      "[Epoch: 73] loss_D = 0.000, loss_G = 85.020, loss_valid_D = 0.001, loss_valid_G = 72.711\n"
     ]
    },
    {
     "name": "stderr",
     "output_type": "stream",
     "text": [
      "100%|██████████| 5/5 [00:35<00:00,  7.05s/it]\n",
      "  0%|          | 0/5 [00:00<?, ?it/s]"
     ]
    },
    {
     "name": "stdout",
     "output_type": "stream",
     "text": [
      "[Epoch: 74] loss_D = 0.000, loss_G = 59.679, loss_valid_D = 0.000, loss_valid_G = 48.164\n"
     ]
    },
    {
     "name": "stderr",
     "output_type": "stream",
     "text": [
      "100%|██████████| 5/5 [00:35<00:00,  7.05s/it]\n",
      "  0%|          | 0/5 [00:00<?, ?it/s]"
     ]
    },
    {
     "name": "stdout",
     "output_type": "stream",
     "text": [
      "[Epoch: 75] loss_D = 0.000, loss_G = 34.512, loss_valid_D = 0.000, loss_valid_G = 15.429\n"
     ]
    },
    {
     "name": "stderr",
     "output_type": "stream",
     "text": [
      "100%|██████████| 5/5 [00:35<00:00,  7.06s/it]\n",
      "  0%|          | 0/5 [00:00<?, ?it/s]"
     ]
    },
    {
     "name": "stdout",
     "output_type": "stream",
     "text": [
      "[Epoch: 76] loss_D = 0.024, loss_G = 54.686, loss_valid_D = 0.002, loss_valid_G = 70.370\n"
     ]
    },
    {
     "name": "stderr",
     "output_type": "stream",
     "text": [
      "100%|██████████| 5/5 [00:35<00:00,  7.06s/it]\n",
      "  0%|          | 0/5 [00:00<?, ?it/s]"
     ]
    },
    {
     "name": "stdout",
     "output_type": "stream",
     "text": [
      "[Epoch: 77] loss_D = 0.010, loss_G = 70.193, loss_valid_D = 0.004, loss_valid_G = 67.220\n"
     ]
    },
    {
     "name": "stderr",
     "output_type": "stream",
     "text": [
      "100%|██████████| 5/5 [00:35<00:00,  7.03s/it]\n",
      "  0%|          | 0/5 [00:00<?, ?it/s]"
     ]
    },
    {
     "name": "stdout",
     "output_type": "stream",
     "text": [
      "[Epoch: 78] loss_D = 0.003, loss_G = 59.464, loss_valid_D = 0.002, loss_valid_G = 48.290\n"
     ]
    },
    {
     "name": "stderr",
     "output_type": "stream",
     "text": [
      "100%|██████████| 5/5 [00:35<00:00,  7.04s/it]\n",
      "  0%|          | 0/5 [00:00<?, ?it/s]"
     ]
    },
    {
     "name": "stdout",
     "output_type": "stream",
     "text": [
      "[Epoch: 79] loss_D = 0.001, loss_G = 40.954, loss_valid_D = 0.001, loss_valid_G = 35.981\n"
     ]
    },
    {
     "name": "stderr",
     "output_type": "stream",
     "text": [
      "100%|██████████| 5/5 [00:35<00:00,  7.06s/it]\n",
      "  0%|          | 0/5 [00:00<?, ?it/s]"
     ]
    },
    {
     "name": "stdout",
     "output_type": "stream",
     "text": [
      "[Epoch: 80] loss_D = 0.001, loss_G = 29.183, loss_valid_D = 0.001, loss_valid_G = 25.346\n"
     ]
    },
    {
     "name": "stderr",
     "output_type": "stream",
     "text": [
      "100%|██████████| 5/5 [00:35<00:00,  7.02s/it]\n",
      "  0%|          | 0/5 [00:00<?, ?it/s]"
     ]
    },
    {
     "name": "stdout",
     "output_type": "stream",
     "text": [
      "[Epoch: 81] loss_D = 0.001, loss_G = 19.461, loss_valid_D = 0.001, loss_valid_G = 13.989\n"
     ]
    },
    {
     "name": "stderr",
     "output_type": "stream",
     "text": [
      "100%|██████████| 5/5 [00:35<00:00,  7.04s/it]\n",
      "  0%|          | 0/5 [00:00<?, ?it/s]"
     ]
    },
    {
     "name": "stdout",
     "output_type": "stream",
     "text": [
      "[Epoch: 82] loss_D = 0.001, loss_G = 11.870, loss_valid_D = 0.001, loss_valid_G = 11.764\n"
     ]
    },
    {
     "name": "stderr",
     "output_type": "stream",
     "text": [
      "100%|██████████| 5/5 [00:35<00:00,  7.05s/it]\n",
      "  0%|          | 0/5 [00:00<?, ?it/s]"
     ]
    },
    {
     "name": "stdout",
     "output_type": "stream",
     "text": [
      "[Epoch: 83] loss_D = 0.001, loss_G = 13.006, loss_valid_D = 0.001, loss_valid_G = 12.545\n"
     ]
    },
    {
     "name": "stderr",
     "output_type": "stream",
     "text": [
      "100%|██████████| 5/5 [00:35<00:00,  7.08s/it]\n",
      "  0%|          | 0/5 [00:00<?, ?it/s]"
     ]
    },
    {
     "name": "stdout",
     "output_type": "stream",
     "text": [
      "[Epoch: 84] loss_D = 0.001, loss_G = 11.201, loss_valid_D = 0.001, loss_valid_G = 9.910\n"
     ]
    },
    {
     "name": "stderr",
     "output_type": "stream",
     "text": [
      "100%|██████████| 5/5 [00:35<00:00,  7.07s/it]\n",
      "  0%|          | 0/5 [00:00<?, ?it/s]"
     ]
    },
    {
     "name": "stdout",
     "output_type": "stream",
     "text": [
      "[Epoch: 85] loss_D = 0.001, loss_G = 13.763, loss_valid_D = 0.001, loss_valid_G = 16.131\n"
     ]
    },
    {
     "name": "stderr",
     "output_type": "stream",
     "text": [
      "100%|██████████| 5/5 [00:35<00:00,  7.06s/it]\n",
      "  0%|          | 0/5 [00:00<?, ?it/s]"
     ]
    },
    {
     "name": "stdout",
     "output_type": "stream",
     "text": [
      "[Epoch: 86] loss_D = 0.000, loss_G = 17.024, loss_valid_D = 0.001, loss_valid_G = 17.652\n"
     ]
    },
    {
     "name": "stderr",
     "output_type": "stream",
     "text": [
      "100%|██████████| 5/5 [00:35<00:00,  7.07s/it]\n",
      "  0%|          | 0/5 [00:00<?, ?it/s]"
     ]
    },
    {
     "name": "stdout",
     "output_type": "stream",
     "text": [
      "[Epoch: 87] loss_D = 0.000, loss_G = 16.976, loss_valid_D = 0.000, loss_valid_G = 14.805\n"
     ]
    },
    {
     "name": "stderr",
     "output_type": "stream",
     "text": [
      "100%|██████████| 5/5 [00:35<00:00,  7.07s/it]\n",
      "  0%|          | 0/5 [00:00<?, ?it/s]"
     ]
    },
    {
     "name": "stdout",
     "output_type": "stream",
     "text": [
      "[Epoch: 88] loss_D = 0.000, loss_G = 11.776, loss_valid_D = 0.000, loss_valid_G = 14.212\n"
     ]
    },
    {
     "name": "stderr",
     "output_type": "stream",
     "text": [
      "100%|██████████| 5/5 [00:35<00:00,  7.06s/it]\n",
      "  0%|          | 0/5 [00:00<?, ?it/s]"
     ]
    },
    {
     "name": "stdout",
     "output_type": "stream",
     "text": [
      "[Epoch: 89] loss_D = 0.000, loss_G = 15.771, loss_valid_D = 0.000, loss_valid_G = 15.511\n"
     ]
    },
    {
     "name": "stderr",
     "output_type": "stream",
     "text": [
      "100%|██████████| 5/5 [00:35<00:00,  7.06s/it]\n",
      "  0%|          | 0/5 [00:00<?, ?it/s]"
     ]
    },
    {
     "name": "stdout",
     "output_type": "stream",
     "text": [
      "[Epoch: 90] loss_D = 0.000, loss_G = 13.463, loss_valid_D = 0.000, loss_valid_G = 13.917\n"
     ]
    },
    {
     "name": "stderr",
     "output_type": "stream",
     "text": [
      "100%|██████████| 5/5 [00:35<00:00,  7.06s/it]\n",
      "  0%|          | 0/5 [00:00<?, ?it/s]"
     ]
    },
    {
     "name": "stdout",
     "output_type": "stream",
     "text": [
      "[Epoch: 91] loss_D = 0.000, loss_G = 14.074, loss_valid_D = 0.000, loss_valid_G = 13.796\n"
     ]
    },
    {
     "name": "stderr",
     "output_type": "stream",
     "text": [
      "100%|██████████| 5/5 [00:35<00:00,  7.07s/it]\n",
      "  0%|          | 0/5 [00:00<?, ?it/s]"
     ]
    },
    {
     "name": "stdout",
     "output_type": "stream",
     "text": [
      "[Epoch: 92] loss_D = 0.000, loss_G = 13.690, loss_valid_D = 0.000, loss_valid_G = 16.156\n"
     ]
    },
    {
     "name": "stderr",
     "output_type": "stream",
     "text": [
      "100%|██████████| 5/5 [00:35<00:00,  7.07s/it]\n",
      "  0%|          | 0/5 [00:00<?, ?it/s]"
     ]
    },
    {
     "name": "stdout",
     "output_type": "stream",
     "text": [
      "[Epoch: 93] loss_D = 0.000, loss_G = 17.447, loss_valid_D = 0.000, loss_valid_G = 15.742\n"
     ]
    },
    {
     "name": "stderr",
     "output_type": "stream",
     "text": [
      "100%|██████████| 5/5 [00:35<00:00,  7.09s/it]\n",
      "  0%|          | 0/5 [00:00<?, ?it/s]"
     ]
    },
    {
     "name": "stdout",
     "output_type": "stream",
     "text": [
      "[Epoch: 94] loss_D = 0.000, loss_G = 17.201, loss_valid_D = 0.000, loss_valid_G = 16.583\n"
     ]
    },
    {
     "name": "stderr",
     "output_type": "stream",
     "text": [
      "100%|██████████| 5/5 [00:35<00:00,  7.06s/it]\n",
      "  0%|          | 0/5 [00:00<?, ?it/s]"
     ]
    },
    {
     "name": "stdout",
     "output_type": "stream",
     "text": [
      "[Epoch: 95] loss_D = 0.000, loss_G = 19.606, loss_valid_D = 0.000, loss_valid_G = 23.340\n"
     ]
    },
    {
     "name": "stderr",
     "output_type": "stream",
     "text": [
      "100%|██████████| 5/5 [00:35<00:00,  7.06s/it]\n",
      "  0%|          | 0/5 [00:00<?, ?it/s]"
     ]
    },
    {
     "name": "stdout",
     "output_type": "stream",
     "text": [
      "[Epoch: 96] loss_D = 0.000, loss_G = 21.306, loss_valid_D = 0.000, loss_valid_G = 17.336\n"
     ]
    },
    {
     "name": "stderr",
     "output_type": "stream",
     "text": [
      "100%|██████████| 5/5 [00:35<00:00,  7.07s/it]\n",
      "  0%|          | 0/5 [00:00<?, ?it/s]"
     ]
    },
    {
     "name": "stdout",
     "output_type": "stream",
     "text": [
      "[Epoch: 97] loss_D = 0.000, loss_G = 15.874, loss_valid_D = 0.000, loss_valid_G = 17.710\n"
     ]
    },
    {
     "name": "stderr",
     "output_type": "stream",
     "text": [
      " 40%|████      | 2/5 [00:17<00:26,  8.90s/it]\n"
     ]
    },
    {
     "ename": "KeyboardInterrupt",
     "evalue": "",
     "output_type": "error",
     "traceback": [
      "\u001b[0;31m---------------------------------------------------------------------------\u001b[0m",
      "\u001b[0;31mKeyboardInterrupt\u001b[0m                         Traceback (most recent call last)",
      "\u001b[0;32m<ipython-input-33-9143be9326a8>\u001b[0m in \u001b[0;36m<module>\u001b[0;34m\u001b[0m\n\u001b[1;32m     10\u001b[0m         \u001b[0mbatch_tag\u001b[0m \u001b[0;34m=\u001b[0m \u001b[0mgensim_data\u001b[0m\u001b[0;34m[\u001b[0m\u001b[0mbatch\u001b[0m\u001b[0;34m*\u001b[0m\u001b[0mbatch_size\u001b[0m\u001b[0;34m:\u001b[0m\u001b[0;34m(\u001b[0m\u001b[0mbatch\u001b[0m\u001b[0;34m+\u001b[0m\u001b[0;36m1\u001b[0m\u001b[0;34m)\u001b[0m\u001b[0;34m*\u001b[0m\u001b[0mbatch_size\u001b[0m\u001b[0;34m]\u001b[0m\u001b[0;34m.\u001b[0m\u001b[0mreshape\u001b[0m\u001b[0;34m(\u001b[0m\u001b[0;34m-\u001b[0m\u001b[0;36m1\u001b[0m\u001b[0;34m,\u001b[0m \u001b[0mn_input\u001b[0m\u001b[0;34m)\u001b[0m\u001b[0;34m\u001b[0m\u001b[0;34m\u001b[0m\u001b[0m\n\u001b[1;32m     11\u001b[0m \u001b[0;34m\u001b[0m\u001b[0m\n\u001b[0;32m---> 12\u001b[0;31m         \u001b[0m_\u001b[0m\u001b[0;34m,\u001b[0m \u001b[0mloss_val_D\u001b[0m \u001b[0;34m=\u001b[0m \u001b[0msess\u001b[0m\u001b[0;34m.\u001b[0m\u001b[0mrun\u001b[0m\u001b[0;34m(\u001b[0m\u001b[0;34m[\u001b[0m\u001b[0mtrain_D\u001b[0m\u001b[0;34m,\u001b[0m \u001b[0mloss_D\u001b[0m\u001b[0;34m]\u001b[0m\u001b[0;34m,\u001b[0m \u001b[0mfeed_dict\u001b[0m\u001b[0;34m=\u001b[0m\u001b[0;34m{\u001b[0m\u001b[0mX\u001b[0m\u001b[0;34m:\u001b[0m\u001b[0mbatch_img\u001b[0m\u001b[0;34m,\u001b[0m \u001b[0mY\u001b[0m\u001b[0;34m:\u001b[0m\u001b[0mbatch_tag\u001b[0m\u001b[0;34m}\u001b[0m\u001b[0;34m)\u001b[0m\u001b[0;34m\u001b[0m\u001b[0;34m\u001b[0m\u001b[0m\n\u001b[0m\u001b[1;32m     13\u001b[0m         \u001b[0m_\u001b[0m\u001b[0;34m,\u001b[0m \u001b[0mloss_val_G\u001b[0m \u001b[0;34m=\u001b[0m \u001b[0msess\u001b[0m\u001b[0;34m.\u001b[0m\u001b[0mrun\u001b[0m\u001b[0;34m(\u001b[0m\u001b[0;34m[\u001b[0m\u001b[0mtrain_G\u001b[0m\u001b[0;34m,\u001b[0m \u001b[0mloss_G\u001b[0m\u001b[0;34m]\u001b[0m\u001b[0;34m,\u001b[0m \u001b[0mfeed_dict\u001b[0m\u001b[0;34m=\u001b[0m\u001b[0;34m{\u001b[0m\u001b[0mX\u001b[0m\u001b[0;34m:\u001b[0m\u001b[0mbatch_img\u001b[0m\u001b[0;34m}\u001b[0m\u001b[0;34m)\u001b[0m\u001b[0;34m\u001b[0m\u001b[0;34m\u001b[0m\u001b[0m\n\u001b[1;32m     14\u001b[0m \u001b[0;34m\u001b[0m\u001b[0m\n",
      "\u001b[0;32m~/venv_capstone/lib/python3.7/site-packages/tensorflow/python/client/session.py\u001b[0m in \u001b[0;36mrun\u001b[0;34m(self, fetches, feed_dict, options, run_metadata)\u001b[0m\n\u001b[1;32m    956\u001b[0m     \u001b[0;32mtry\u001b[0m\u001b[0;34m:\u001b[0m\u001b[0;34m\u001b[0m\u001b[0;34m\u001b[0m\u001b[0m\n\u001b[1;32m    957\u001b[0m       result = self._run(None, fetches, feed_dict, options_ptr,\n\u001b[0;32m--> 958\u001b[0;31m                          run_metadata_ptr)\n\u001b[0m\u001b[1;32m    959\u001b[0m       \u001b[0;32mif\u001b[0m \u001b[0mrun_metadata\u001b[0m\u001b[0;34m:\u001b[0m\u001b[0;34m\u001b[0m\u001b[0;34m\u001b[0m\u001b[0m\n\u001b[1;32m    960\u001b[0m         \u001b[0mproto_data\u001b[0m \u001b[0;34m=\u001b[0m \u001b[0mtf_session\u001b[0m\u001b[0;34m.\u001b[0m\u001b[0mTF_GetBuffer\u001b[0m\u001b[0;34m(\u001b[0m\u001b[0mrun_metadata_ptr\u001b[0m\u001b[0;34m)\u001b[0m\u001b[0;34m\u001b[0m\u001b[0;34m\u001b[0m\u001b[0m\n",
      "\u001b[0;32m~/venv_capstone/lib/python3.7/site-packages/tensorflow/python/client/session.py\u001b[0m in \u001b[0;36m_run\u001b[0;34m(self, handle, fetches, feed_dict, options, run_metadata)\u001b[0m\n\u001b[1;32m   1179\u001b[0m     \u001b[0;32mif\u001b[0m \u001b[0mfinal_fetches\u001b[0m \u001b[0;32mor\u001b[0m \u001b[0mfinal_targets\u001b[0m \u001b[0;32mor\u001b[0m \u001b[0;34m(\u001b[0m\u001b[0mhandle\u001b[0m \u001b[0;32mand\u001b[0m \u001b[0mfeed_dict_tensor\u001b[0m\u001b[0;34m)\u001b[0m\u001b[0;34m:\u001b[0m\u001b[0;34m\u001b[0m\u001b[0;34m\u001b[0m\u001b[0m\n\u001b[1;32m   1180\u001b[0m       results = self._do_run(handle, final_targets, final_fetches,\n\u001b[0;32m-> 1181\u001b[0;31m                              feed_dict_tensor, options, run_metadata)\n\u001b[0m\u001b[1;32m   1182\u001b[0m     \u001b[0;32melse\u001b[0m\u001b[0;34m:\u001b[0m\u001b[0;34m\u001b[0m\u001b[0;34m\u001b[0m\u001b[0m\n\u001b[1;32m   1183\u001b[0m       \u001b[0mresults\u001b[0m \u001b[0;34m=\u001b[0m \u001b[0;34m[\u001b[0m\u001b[0;34m]\u001b[0m\u001b[0;34m\u001b[0m\u001b[0;34m\u001b[0m\u001b[0m\n",
      "\u001b[0;32m~/venv_capstone/lib/python3.7/site-packages/tensorflow/python/client/session.py\u001b[0m in \u001b[0;36m_do_run\u001b[0;34m(self, handle, target_list, fetch_list, feed_dict, options, run_metadata)\u001b[0m\n\u001b[1;32m   1357\u001b[0m     \u001b[0;32mif\u001b[0m \u001b[0mhandle\u001b[0m \u001b[0;32mis\u001b[0m \u001b[0;32mNone\u001b[0m\u001b[0;34m:\u001b[0m\u001b[0;34m\u001b[0m\u001b[0;34m\u001b[0m\u001b[0m\n\u001b[1;32m   1358\u001b[0m       return self._do_call(_run_fn, feeds, fetches, targets, options,\n\u001b[0;32m-> 1359\u001b[0;31m                            run_metadata)\n\u001b[0m\u001b[1;32m   1360\u001b[0m     \u001b[0;32melse\u001b[0m\u001b[0;34m:\u001b[0m\u001b[0;34m\u001b[0m\u001b[0;34m\u001b[0m\u001b[0m\n\u001b[1;32m   1361\u001b[0m       \u001b[0;32mreturn\u001b[0m \u001b[0mself\u001b[0m\u001b[0;34m.\u001b[0m\u001b[0m_do_call\u001b[0m\u001b[0;34m(\u001b[0m\u001b[0m_prun_fn\u001b[0m\u001b[0;34m,\u001b[0m \u001b[0mhandle\u001b[0m\u001b[0;34m,\u001b[0m \u001b[0mfeeds\u001b[0m\u001b[0;34m,\u001b[0m \u001b[0mfetches\u001b[0m\u001b[0;34m)\u001b[0m\u001b[0;34m\u001b[0m\u001b[0;34m\u001b[0m\u001b[0m\n",
      "\u001b[0;32m~/venv_capstone/lib/python3.7/site-packages/tensorflow/python/client/session.py\u001b[0m in \u001b[0;36m_do_call\u001b[0;34m(self, fn, *args)\u001b[0m\n\u001b[1;32m   1363\u001b[0m   \u001b[0;32mdef\u001b[0m \u001b[0m_do_call\u001b[0m\u001b[0;34m(\u001b[0m\u001b[0mself\u001b[0m\u001b[0;34m,\u001b[0m \u001b[0mfn\u001b[0m\u001b[0;34m,\u001b[0m \u001b[0;34m*\u001b[0m\u001b[0margs\u001b[0m\u001b[0;34m)\u001b[0m\u001b[0;34m:\u001b[0m\u001b[0;34m\u001b[0m\u001b[0;34m\u001b[0m\u001b[0m\n\u001b[1;32m   1364\u001b[0m     \u001b[0;32mtry\u001b[0m\u001b[0;34m:\u001b[0m\u001b[0;34m\u001b[0m\u001b[0;34m\u001b[0m\u001b[0m\n\u001b[0;32m-> 1365\u001b[0;31m       \u001b[0;32mreturn\u001b[0m \u001b[0mfn\u001b[0m\u001b[0;34m(\u001b[0m\u001b[0;34m*\u001b[0m\u001b[0margs\u001b[0m\u001b[0;34m)\u001b[0m\u001b[0;34m\u001b[0m\u001b[0;34m\u001b[0m\u001b[0m\n\u001b[0m\u001b[1;32m   1366\u001b[0m     \u001b[0;32mexcept\u001b[0m \u001b[0merrors\u001b[0m\u001b[0;34m.\u001b[0m\u001b[0mOpError\u001b[0m \u001b[0;32mas\u001b[0m \u001b[0me\u001b[0m\u001b[0;34m:\u001b[0m\u001b[0;34m\u001b[0m\u001b[0;34m\u001b[0m\u001b[0m\n\u001b[1;32m   1367\u001b[0m       \u001b[0mmessage\u001b[0m \u001b[0;34m=\u001b[0m \u001b[0mcompat\u001b[0m\u001b[0;34m.\u001b[0m\u001b[0mas_text\u001b[0m\u001b[0;34m(\u001b[0m\u001b[0me\u001b[0m\u001b[0;34m.\u001b[0m\u001b[0mmessage\u001b[0m\u001b[0;34m)\u001b[0m\u001b[0;34m\u001b[0m\u001b[0;34m\u001b[0m\u001b[0m\n",
      "\u001b[0;32m~/venv_capstone/lib/python3.7/site-packages/tensorflow/python/client/session.py\u001b[0m in \u001b[0;36m_run_fn\u001b[0;34m(feed_dict, fetch_list, target_list, options, run_metadata)\u001b[0m\n\u001b[1;32m   1348\u001b[0m       \u001b[0mself\u001b[0m\u001b[0;34m.\u001b[0m\u001b[0m_extend_graph\u001b[0m\u001b[0;34m(\u001b[0m\u001b[0;34m)\u001b[0m\u001b[0;34m\u001b[0m\u001b[0;34m\u001b[0m\u001b[0m\n\u001b[1;32m   1349\u001b[0m       return self._call_tf_sessionrun(options, feed_dict, fetch_list,\n\u001b[0;32m-> 1350\u001b[0;31m                                       target_list, run_metadata)\n\u001b[0m\u001b[1;32m   1351\u001b[0m \u001b[0;34m\u001b[0m\u001b[0m\n\u001b[1;32m   1352\u001b[0m     \u001b[0;32mdef\u001b[0m \u001b[0m_prun_fn\u001b[0m\u001b[0;34m(\u001b[0m\u001b[0mhandle\u001b[0m\u001b[0;34m,\u001b[0m \u001b[0mfeed_dict\u001b[0m\u001b[0;34m,\u001b[0m \u001b[0mfetch_list\u001b[0m\u001b[0;34m)\u001b[0m\u001b[0;34m:\u001b[0m\u001b[0;34m\u001b[0m\u001b[0;34m\u001b[0m\u001b[0m\n",
      "\u001b[0;32m~/venv_capstone/lib/python3.7/site-packages/tensorflow/python/client/session.py\u001b[0m in \u001b[0;36m_call_tf_sessionrun\u001b[0;34m(self, options, feed_dict, fetch_list, target_list, run_metadata)\u001b[0m\n\u001b[1;32m   1441\u001b[0m     return tf_session.TF_SessionRun_wrapper(self._session, options, feed_dict,\n\u001b[1;32m   1442\u001b[0m                                             \u001b[0mfetch_list\u001b[0m\u001b[0;34m,\u001b[0m \u001b[0mtarget_list\u001b[0m\u001b[0;34m,\u001b[0m\u001b[0;34m\u001b[0m\u001b[0;34m\u001b[0m\u001b[0m\n\u001b[0;32m-> 1443\u001b[0;31m                                             run_metadata)\n\u001b[0m\u001b[1;32m   1444\u001b[0m \u001b[0;34m\u001b[0m\u001b[0m\n\u001b[1;32m   1445\u001b[0m   \u001b[0;32mdef\u001b[0m \u001b[0m_call_tf_sessionprun\u001b[0m\u001b[0;34m(\u001b[0m\u001b[0mself\u001b[0m\u001b[0;34m,\u001b[0m \u001b[0mhandle\u001b[0m\u001b[0;34m,\u001b[0m \u001b[0mfeed_dict\u001b[0m\u001b[0;34m,\u001b[0m \u001b[0mfetch_list\u001b[0m\u001b[0;34m)\u001b[0m\u001b[0;34m:\u001b[0m\u001b[0;34m\u001b[0m\u001b[0;34m\u001b[0m\u001b[0m\n",
      "\u001b[0;31mKeyboardInterrupt\u001b[0m: "
     ]
    }
   ],
   "source": [
    "batch_size = 6000\n",
    "n_epoch = 100\n",
    "n_batch = train_imgs.shape[0] // batch_size\n",
    "\n",
    "for epoch in range(n_epoch):\n",
    "    total_loss_D = 0\n",
    "    total_loss_G = 0\n",
    "    for batch in tqdm(range(n_batch)):\n",
    "        batch_img = train_imgs[batch*batch_size:(batch+1)*batch_size].reshape(-1, n_noise)\n",
    "        batch_tag = gensim_data[batch*batch_size:(batch+1)*batch_size].reshape(-1, n_input)\n",
    "        \n",
    "        _, loss_val_D = sess.run([train_D, loss_D], feed_dict={X:batch_img, Y:batch_tag})\n",
    "        _, loss_val_G = sess.run([train_G, loss_G], feed_dict={X:batch_img})\n",
    "        \n",
    "        total_loss_D += loss_val_D\n",
    "        total_loss_G += loss_val_G\n",
    "        \n",
    "#         print('[Epoch: %s Batch: %s] loss_D = %.3f, loss_G = %.3f' %(epoch+1, batch+1, loss_val_D, loss_val_G))\n",
    "        \n",
    "    _, loss_val_D = sess.run([train_D, loss_D], feed_dict={X:valid_imgs.reshape(-1, n_noise), Y:gensim_valid.reshape(-1, n_input)})\n",
    "    _, loss_val_G = sess.run([train_G, loss_G], feed_dict={X:valid_imgs.reshape(-1, n_noise)})\n",
    "    \n",
    "    print('[Epoch: %s] loss_D = %.3f, loss_G = %.3f, loss_valid_D = %.3f, loss_valid_G = %.3f' %(epoch+1, total_loss_D / n_batch, total_loss_G / n_batch, loss_val_D, loss_val_G))"
   ]
  },
  {
   "cell_type": "code",
   "execution_count": 34,
   "metadata": {},
   "outputs": [
    {
     "name": "stdout",
     "output_type": "stream",
     "text": [
      "실버커플링중 언벨런스느낌과 독특한면이 독보이는 디자인입니다 남자반지는 유광무광으로 고급스러움을 살림 커플링입니다 홈페이지 카카오톡문의 고객센터 대한민국에서 제일 저렴한 쥬얼리쇼핑몰 검색창에 피카커플링을 검색해주세요 오프라인매장 종로가역 번출구 앞 조흥상가층\n",
      "\n",
      "이탈 이정 원래 웨이팅 시크 쌀국수 으시 그러 웨이팅 다는 배우 맛있 평일 비주얼 정가 계란찜 순대 물량 계산 배 일거 근거리 정식 이유 비오 녹차 미러 보따리 신어 졸이 능 과메기 에 산 질투 너무너무 협찬 접근성 유지 소백산 기부 한번 번 우시 대체로 비싸 흉 초 퀄리티로 아트 진통 예약 꽃 가요 죄다 대포동 사이즈 황금 커플룩 아웃백 내일 터 냉큼 드리 ㄴ다는데 신상 요청 마다 김치찌개 소백산 공짜 계세 드라이버 주말 메모 받아먹 퀄리티불만족시 필수템 드라이버 소백산 소백산 다단계 예 한두 처럼 탕 간지럽 눈썹 소백산 소백산 소백산 소백산 소백산 소백산 소백산 소백산 소백산 잔인 소백산 소백산 소백산\n",
      "\n",
      "\n",
      "우지혁 하이\n",
      "\n",
      "이탈 이정 원래 웨이팅 시크 쌀국수 으시 그러 웨이팅 다는 배우 맛있 평일 비주얼 정가 계란찜 순대 물량 계산 배 일거 근거리 정식 이유 비오 녹차 미러 보따리 신어 졸이 능 과메기 에 산 질투 너무너무 협찬 접근성 유지 소백산 기부 한번 번 우시 대체로 비싸 흉 초 퀄리티로 아트 진통 예약 꽃 가요 죄다 대포동 사이즈 황금 커플룩 아웃백 내일 터 냉큼 드리 ㄴ다는데 신상 요청 마다 김치찌개 소백산 공짜 계세 드라이버 주말 메모 받아먹 퀄리티불만족시 필수템 드라이버 소백산 소백산 다단계 예 한두 처럼 탕 간지럽 눈썹 소백산 소백산 소백산 소백산 소백산 소백산 소백산 소백산 소백산 잔인 소백산 소백산 소백산\n",
      "\n",
      "\n",
      "어흥 눈뜨면 아침이고 월요일인가하면 벌써 주말이고 월초인가하면 어느새 월말을 향하고 세월이 빠른건지 내가 급한건지 아니면 삶이 짧아진건지 마음속의 나는 그대로인데 거울속의 나는 어느덧 늙어있네\n",
      "\n",
      "이탈 이정 원래 웨이팅 시크 쌀국수 으시 그러 웨이팅 다는 배우 맛있 평일 비주얼 정가 계란찜 순대 물량 계산 배 일거 근거리 정식 이유 비오 녹차 미러 보따리 신어 졸이 능 과메기 에 산 질투 너무너무 협찬 접근성 유지 소백산 기부 한번 번 우시 대체로 비싸 흉 초 퀄리티로 아트 진통 예약 꽃 가요 죄다 대포동 사이즈 황금 커플룩 아웃백 내일 터 냉큼 드리 ㄴ다는데 신상 요청 마다 김치찌개 소백산 공짜 계세 드라이버 주말 메모 받아먹 퀄리티불만족시 필수템 드라이버 소백산 소백산 다단계 예 한두 처럼 탕 간지럽 눈썹 소백산 소백산 소백산 소백산 소백산 소백산 소백산 소백산 소백산 잔인 소백산 소백산 소백산\n",
      "\n",
      "\n",
      "남자 포인트 라인 배색 오버핏 자가드 니트 가디건\n",
      "\n",
      "이탈 이정 원래 웨이팅 시크 쌀국수 으시 그러 웨이팅 다는 배우 맛있 평일 비주얼 정가 계란찜 순대 물량 계산 배 일거 근거리 정식 이유 비오 녹차 미러 보따리 신어 졸이 능 과메기 에 산 질투 너무너무 협찬 접근성 유지 소백산 기부 한번 번 우시 대체로 비싸 흉 초 퀄리티로 아트 진통 예약 꽃 가요 죄다 대포동 사이즈 황금 커플룩 아웃백 내일 터 냉큼 드리 ㄴ다는데 신상 요청 마다 김치찌개 소백산 공짜 계세 드라이버 주말 메모 받아먹 퀄리티불만족시 필수템 드라이버 소백산 소백산 다단계 예 한두 처럼 탕 간지럽 눈썹 소백산 소백산 소백산 소백산 소백산 소백산 소백산 소백산 소백산 잔인 소백산 소백산 소백산\n",
      "\n",
      "\n",
      "나 원래 옷안입는거 알지 옷사떠\n",
      "\n",
      "이탈 이정 원래 웨이팅 시크 쌀국수 으시 그러 웨이팅 다는 배우 맛있 평일 비주얼 정가 계란찜 순대 물량 계산 배 일거 근거리 정식 이유 비오 녹차 미러 보따리 신어 졸이 능 과메기 에 산 질투 너무너무 협찬 접근성 유지 소백산 기부 한번 번 우시 대체로 비싸 흉 초 퀄리티로 아트 진통 예약 꽃 가요 죄다 대포동 사이즈 황금 커플룩 아웃백 내일 터 냉큼 드리 ㄴ다는데 신상 요청 마다 김치찌개 소백산 공짜 계세 드라이버 주말 메모 받아먹 퀄리티불만족시 필수템 드라이버 소백산 소백산 다단계 예 한두 처럼 탕 간지럽 눈썹 소백산 소백산 소백산 소백산 소백산 소백산 소백산 소백산 소백산 잔인 소백산 소백산 소백산\n",
      "\n",
      "\n",
      "스너그 퍼 자켓 다크그레이 블랙\n",
      "\n",
      "이탈 이정 원래 웨이팅 시크 쌀국수 으시 그러 웨이팅 다는 배우 맛있 평일 비주얼 정가 계란찜 순대 물량 계산 배 일거 근거리 정식 이유 비오 녹차 미러 보따리 신어 졸이 능 과메기 에 산 질투 너무너무 협찬 접근성 유지 소백산 기부 한번 번 우시 대체로 비싸 흉 초 퀄리티로 아트 진통 예약 꽃 가요 죄다 대포동 사이즈 황금 커플룩 아웃백 내일 터 냉큼 드리 ㄴ다는데 신상 요청 마다 김치찌개 소백산 공짜 계세 드라이버 주말 메모 받아먹 퀄리티불만족시 필수템 드라이버 소백산 소백산 다단계 예 한두 처럼 탕 간지럽 눈썹 소백산 소백산 소백산 소백산 소백산 소백산 소백산 소백산 소백산 잔인 소백산 소백산 소백산\n",
      "\n",
      "\n",
      "너없이 어떻게 살지\n",
      "\n",
      "이탈 이정 원래 웨이팅 시크 쌀국수 으시 그러 웨이팅 다는 배우 맛있 평일 비주얼 정가 계란찜 순대 물량 계산 배 일거 근거리 정식 이유 비오 녹차 미러 보따리 신어 졸이 능 과메기 에 산 질투 너무너무 협찬 접근성 유지 소백산 기부 한번 번 우시 대체로 비싸 흉 초 퀄리티로 아트 진통 예약 꽃 가요 죄다 대포동 사이즈 황금 커플룩 아웃백 내일 터 냉큼 드리 ㄴ다는데 신상 요청 마다 김치찌개 소백산 공짜 계세 드라이버 주말 메모 받아먹 퀄리티불만족시 필수템 드라이버 소백산 소백산 다단계 예 한두 처럼 탕 간지럽 눈썹 소백산 소백산 소백산 소백산 소백산 소백산 소백산 소백산 소백산 잔인 소백산 소백산 소백산\n",
      "\n",
      "\n",
      "깔깔\n",
      "\n",
      "이탈 이정 원래 웨이팅 시크 쌀국수 으시 그러 웨이팅 다는 배우 맛있 평일 비주얼 정가 계란찜 순대 물량 계산 배 일거 근거리 정식 이유 비오 녹차 미러 보따리 신어 졸이 능 과메기 에 산 질투 너무너무 협찬 접근성 유지 소백산 기부 한번 번 우시 대체로 비싸 흉 초 퀄리티로 아트 진통 예약 꽃 가요 죄다 대포동 사이즈 황금 커플룩 아웃백 내일 터 냉큼 드리 ㄴ다는데 신상 요청 마다 김치찌개 소백산 공짜 계세 드라이버 주말 메모 받아먹 퀄리티불만족시 필수템 드라이버 소백산 소백산 다단계 예 한두 처럼 탕 간지럽 눈썹 소백산 소백산 소백산 소백산 소백산 소백산 소백산 소백산 소백산 잔인 소백산 소백산 소백산\n",
      "\n",
      "\n",
      "벌써 월 마지막 금욜이라뇨\n",
      "\n",
      "이탈 이정 원래 웨이팅 시크 쌀국수 으시 그러 웨이팅 다는 배우 맛있 평일 비주얼 정가 계란찜 순대 물량 계산 배 일거 근거리 정식 이유 비오 녹차 미러 보따리 신어 졸이 능 과메기 에 산 질투 너무너무 협찬 접근성 유지 소백산 기부 한번 번 우시 대체로 비싸 흉 초 퀄리티로 아트 진통 예약 꽃 가요 죄다 대포동 사이즈 황금 커플룩 아웃백 내일 터 냉큼 드리 ㄴ다는데 신상 요청 마다 김치찌개 소백산 공짜 계세 드라이버 주말 메모 받아먹 퀄리티불만족시 필수템 드라이버 소백산 소백산 다단계 예 한두 처럼 탕 간지럽 눈썹 소백산 소백산 소백산 소백산 소백산 소백산 소백산 소백산 소백산 잔인 소백산 소백산 소백산\n",
      "\n",
      "\n",
      "엥\n",
      "\n",
      "이탈 이정 원래 웨이팅 시크 쌀국수 으시 그러 웨이팅 다는 배우 맛있 평일 비주얼 정가 계란찜 순대 물량 계산 배 일거 근거리 정식 이유 비오 녹차 미러 보따리 신어 졸이 능 과메기 에 산 질투 너무너무 협찬 접근성 유지 소백산 기부 한번 번 우시 대체로 비싸 흉 초 퀄리티로 아트 진통 예약 꽃 가요 죄다 대포동 사이즈 황금 커플룩 아웃백 내일 터 냉큼 드리 ㄴ다는데 신상 요청 마다 김치찌개 소백산 공짜 계세 드라이버 주말 메모 받아먹 퀄리티불만족시 필수템 드라이버 소백산 소백산 다단계 예 한두 처럼 탕 간지럽 눈썹 소백산 소백산 소백산 소백산 소백산 소백산 소백산 소백산 소백산 잔인 소백산 소백산 소백산\n",
      "\n",
      "\n"
     ]
    }
   ],
   "source": [
    "results = sess.run(G, feed_dict={X: train_imgs[:10].reshape(-1, n_noise)}).reshape(-1, max_seq_length, 200)\n",
    "\n",
    "for i, result in enumerate(results):\n",
    "    print(train_sens[i][1:-1])\n",
    "    print()\n",
    "    print(' '.join([new_w2v.most_similar([v])[0][0] for v in result]))\n",
    "    print()\n",
    "    print()"
   ]
  },
  {
   "cell_type": "code",
   "execution_count": 79,
   "metadata": {},
   "outputs": [],
   "source": [
    "from PIL import Image\n",
    "import matplotlib.pyplot as plt"
   ]
  },
  {
   "cell_type": "code",
   "execution_count": 98,
   "metadata": {},
   "outputs": [],
   "source": [
    "def translate(image):\n",
    "    prediction = tf.argmax(outputs2, 2)\n",
    "    dec_inp = np.zeros(shape=(1, max_seq_length, dict_len), dtype='float32')\n",
    "    dec_inp[0,:,output_dict['\\t']] = 1.\n",
    "    # dec_out = np.eye(dict_len)[dec_out]\n",
    "    result = sess.run(prediction, \n",
    "                      feed_dict={inputs: [image],\n",
    "                                 dec_inputs: dec_inp})\n",
    "    decoded = [output_chars[i] for i in result[0]]\n",
    "    end = decoded.index('\\n') if '\\n' in decoded else len(decoded)\n",
    "    translated = ''.join(decoded[:end])\n",
    "    return translated"
   ]
  },
  {
   "cell_type": "code",
   "execution_count": 103,
   "metadata": {},
   "outputs": [
    {
     "data": {
      "text/plain": [
       "'오<UNK><UNK>'"
      ]
     },
     "execution_count": 103,
     "metadata": {},
     "output_type": "execute_result"
    }
   ],
   "source": [
    "translate(image_data[50])"
   ]
  },
  {
   "cell_type": "code",
   "execution_count": 80,
   "metadata": {
    "scrolled": true
   },
   "outputs": [
    {
     "ename": "InvalidArgumentError",
     "evalue": "2 root error(s) found.\n  (0) Invalid argument: You must feed a value for placeholder tensor 'Placeholder_1' with dtype float and shape [?,256,2069]\n\t [[node Placeholder_1 (defined at <ipython-input-70-42deb1a72a5c>:19) ]]\n\t [[generation_dec/dense/BiasAdd/_167]]\n  (1) Invalid argument: You must feed a value for placeholder tensor 'Placeholder_1' with dtype float and shape [?,256,2069]\n\t [[node Placeholder_1 (defined at <ipython-input-70-42deb1a72a5c>:19) ]]\n0 successful operations.\n0 derived errors ignored.\n\nOriginal stack trace for 'Placeholder_1':\n  File \"/usr/lib/python3.7/runpy.py\", line 193, in _run_module_as_main\n    \"__main__\", mod_spec)\n  File \"/usr/lib/python3.7/runpy.py\", line 85, in _run_code\n    exec(code, run_globals)\n  File \"/home/svclaw2000/venv_capstone/lib/python3.7/site-packages/ipykernel_launcher.py\", line 16, in <module>\n    app.launch_new_instance()\n  File \"/home/svclaw2000/venv_capstone/lib/python3.7/site-packages/traitlets/config/application.py\", line 845, in launch_instance\n    app.start()\n  File \"/home/svclaw2000/venv_capstone/lib/python3.7/site-packages/ipykernel/kernelapp.py\", line 612, in start\n    self.io_loop.start()\n  File \"/home/svclaw2000/venv_capstone/lib/python3.7/site-packages/tornado/platform/asyncio.py\", line 199, in start\n    self.asyncio_loop.run_forever()\n  File \"/usr/lib/python3.7/asyncio/base_events.py\", line 534, in run_forever\n    self._run_once()\n  File \"/usr/lib/python3.7/asyncio/base_events.py\", line 1771, in _run_once\n    handle._run()\n  File \"/usr/lib/python3.7/asyncio/events.py\", line 88, in _run\n    self._context.run(self._callback, *self._args)\n  File \"/home/svclaw2000/venv_capstone/lib/python3.7/site-packages/tornado/ioloop.py\", line 688, in <lambda>\n    lambda f: self._run_callback(functools.partial(callback, future))\n  File \"/home/svclaw2000/venv_capstone/lib/python3.7/site-packages/tornado/ioloop.py\", line 741, in _run_callback\n    ret = callback()\n  File \"/home/svclaw2000/venv_capstone/lib/python3.7/site-packages/tornado/gen.py\", line 814, in inner\n    self.ctx_run(self.run)\n  File \"/home/svclaw2000/venv_capstone/lib/python3.7/site-packages/tornado/gen.py\", line 775, in run\n    yielded = self.gen.send(value)\n  File \"/home/svclaw2000/venv_capstone/lib/python3.7/site-packages/ipykernel/kernelbase.py\", line 365, in process_one\n    yield gen.maybe_future(dispatch(*args))\n  File \"/home/svclaw2000/venv_capstone/lib/python3.7/site-packages/tornado/gen.py\", line 234, in wrapper\n    yielded = ctx_run(next, result)\n  File \"/home/svclaw2000/venv_capstone/lib/python3.7/site-packages/ipykernel/kernelbase.py\", line 268, in dispatch_shell\n    yield gen.maybe_future(handler(stream, idents, msg))\n  File \"/home/svclaw2000/venv_capstone/lib/python3.7/site-packages/tornado/gen.py\", line 234, in wrapper\n    yielded = ctx_run(next, result)\n  File \"/home/svclaw2000/venv_capstone/lib/python3.7/site-packages/ipykernel/kernelbase.py\", line 545, in execute_request\n    user_expressions, allow_stdin,\n  File \"/home/svclaw2000/venv_capstone/lib/python3.7/site-packages/tornado/gen.py\", line 234, in wrapper\n    yielded = ctx_run(next, result)\n  File \"/home/svclaw2000/venv_capstone/lib/python3.7/site-packages/ipykernel/ipkernel.py\", line 306, in do_execute\n    res = shell.run_cell(code, store_history=store_history, silent=silent)\n  File \"/home/svclaw2000/venv_capstone/lib/python3.7/site-packages/ipykernel/zmqshell.py\", line 536, in run_cell\n    return super(ZMQInteractiveShell, self).run_cell(*args, **kwargs)\n  File \"/home/svclaw2000/venv_capstone/lib/python3.7/site-packages/IPython/core/interactiveshell.py\", line 2878, in run_cell\n    raw_cell, store_history, silent, shell_futures)\n  File \"/home/svclaw2000/venv_capstone/lib/python3.7/site-packages/IPython/core/interactiveshell.py\", line 2923, in _run_cell\n    return runner(coro)\n  File \"/home/svclaw2000/venv_capstone/lib/python3.7/site-packages/IPython/core/async_helpers.py\", line 68, in _pseudo_sync_runner\n    coro.send(None)\n  File \"/home/svclaw2000/venv_capstone/lib/python3.7/site-packages/IPython/core/interactiveshell.py\", line 3147, in run_cell_async\n    interactivity=interactivity, compiler=compiler, result=result)\n  File \"/home/svclaw2000/venv_capstone/lib/python3.7/site-packages/IPython/core/interactiveshell.py\", line 3338, in run_ast_nodes\n    if (await self.run_code(code, result,  async_=asy)):\n  File \"/home/svclaw2000/venv_capstone/lib/python3.7/site-packages/IPython/core/interactiveshell.py\", line 3418, in run_code\n    exec(code_obj, self.user_global_ns, self.user_ns)\n  File \"<ipython-input-70-42deb1a72a5c>\", line 19, in <module>\n    dec_inputs = tf.placeholder(tf.float32, shape=[None, max_seq_length, dict_len])\n  File \"/home/svclaw2000/venv_capstone/lib/python3.7/site-packages/tensorflow/python/ops/array_ops.py\", line 3100, in placeholder\n    return gen_array_ops.placeholder(dtype=dtype, shape=shape, name=name)\n  File \"/home/svclaw2000/venv_capstone/lib/python3.7/site-packages/tensorflow/python/ops/gen_array_ops.py\", line 6809, in placeholder\n    \"Placeholder\", dtype=dtype, shape=shape, name=name)\n  File \"/home/svclaw2000/venv_capstone/lib/python3.7/site-packages/tensorflow/python/framework/op_def_library.py\", line 744, in _apply_op_helper\n    attrs=attr_protos, op_def=op_def)\n  File \"/home/svclaw2000/venv_capstone/lib/python3.7/site-packages/tensorflow/python/framework/ops.py\", line 3485, in _create_op_internal\n    op_def=op_def)\n  File \"/home/svclaw2000/venv_capstone/lib/python3.7/site-packages/tensorflow/python/framework/ops.py\", line 1949, in __init__\n    self._traceback = tf_stack.extract_stack()\n",
     "output_type": "error",
     "traceback": [
      "\u001b[0;31m---------------------------------------------------------------------------\u001b[0m",
      "\u001b[0;31mInvalidArgumentError\u001b[0m                      Traceback (most recent call last)",
      "\u001b[0;32m~/venv_capstone/lib/python3.7/site-packages/tensorflow/python/client/session.py\u001b[0m in \u001b[0;36m_do_call\u001b[0;34m(self, fn, *args)\u001b[0m\n\u001b[1;32m   1364\u001b[0m     \u001b[0;32mtry\u001b[0m\u001b[0;34m:\u001b[0m\u001b[0;34m\u001b[0m\u001b[0;34m\u001b[0m\u001b[0m\n\u001b[0;32m-> 1365\u001b[0;31m       \u001b[0;32mreturn\u001b[0m \u001b[0mfn\u001b[0m\u001b[0;34m(\u001b[0m\u001b[0;34m*\u001b[0m\u001b[0margs\u001b[0m\u001b[0;34m)\u001b[0m\u001b[0;34m\u001b[0m\u001b[0;34m\u001b[0m\u001b[0m\n\u001b[0m\u001b[1;32m   1366\u001b[0m     \u001b[0;32mexcept\u001b[0m \u001b[0merrors\u001b[0m\u001b[0;34m.\u001b[0m\u001b[0mOpError\u001b[0m \u001b[0;32mas\u001b[0m \u001b[0me\u001b[0m\u001b[0;34m:\u001b[0m\u001b[0;34m\u001b[0m\u001b[0;34m\u001b[0m\u001b[0m\n",
      "\u001b[0;32m~/venv_capstone/lib/python3.7/site-packages/tensorflow/python/client/session.py\u001b[0m in \u001b[0;36m_run_fn\u001b[0;34m(feed_dict, fetch_list, target_list, options, run_metadata)\u001b[0m\n\u001b[1;32m   1349\u001b[0m       return self._call_tf_sessionrun(options, feed_dict, fetch_list,\n\u001b[0;32m-> 1350\u001b[0;31m                                       target_list, run_metadata)\n\u001b[0m\u001b[1;32m   1351\u001b[0m \u001b[0;34m\u001b[0m\u001b[0m\n",
      "\u001b[0;32m~/venv_capstone/lib/python3.7/site-packages/tensorflow/python/client/session.py\u001b[0m in \u001b[0;36m_call_tf_sessionrun\u001b[0;34m(self, options, feed_dict, fetch_list, target_list, run_metadata)\u001b[0m\n\u001b[1;32m   1442\u001b[0m                                             \u001b[0mfetch_list\u001b[0m\u001b[0;34m,\u001b[0m \u001b[0mtarget_list\u001b[0m\u001b[0;34m,\u001b[0m\u001b[0;34m\u001b[0m\u001b[0;34m\u001b[0m\u001b[0m\n\u001b[0;32m-> 1443\u001b[0;31m                                             run_metadata)\n\u001b[0m\u001b[1;32m   1444\u001b[0m \u001b[0;34m\u001b[0m\u001b[0m\n",
      "\u001b[0;31mInvalidArgumentError\u001b[0m: 2 root error(s) found.\n  (0) Invalid argument: You must feed a value for placeholder tensor 'Placeholder_1' with dtype float and shape [?,256,2069]\n\t [[{{node Placeholder_1}}]]\n\t [[generation_dec/dense/BiasAdd/_167]]\n  (1) Invalid argument: You must feed a value for placeholder tensor 'Placeholder_1' with dtype float and shape [?,256,2069]\n\t [[{{node Placeholder_1}}]]\n0 successful operations.\n0 derived errors ignored.",
      "\nDuring handling of the above exception, another exception occurred:\n",
      "\u001b[0;31mInvalidArgumentError\u001b[0m                      Traceback (most recent call last)",
      "\u001b[0;32m<ipython-input-80-7c7c8dbc6866>\u001b[0m in \u001b[0;36m<module>\u001b[0;34m\u001b[0m\n\u001b[1;32m      1\u001b[0m \u001b[0mstart_idx\u001b[0m\u001b[0;34m,\u001b[0m \u001b[0mend_idx\u001b[0m \u001b[0;34m=\u001b[0m \u001b[0;36m50\u001b[0m\u001b[0;34m,\u001b[0m \u001b[0;36m100\u001b[0m\u001b[0;34m\u001b[0m\u001b[0;34m\u001b[0m\u001b[0m\n\u001b[1;32m      2\u001b[0m \u001b[0;34m\u001b[0m\u001b[0m\n\u001b[0;32m----> 3\u001b[0;31m \u001b[0mresults\u001b[0m \u001b[0;34m=\u001b[0m \u001b[0msess\u001b[0m\u001b[0;34m.\u001b[0m\u001b[0mrun\u001b[0m\u001b[0;34m(\u001b[0m\u001b[0moutputs2\u001b[0m\u001b[0;34m,\u001b[0m \u001b[0mfeed_dict\u001b[0m\u001b[0;34m=\u001b[0m\u001b[0;34m{\u001b[0m\u001b[0minputs\u001b[0m\u001b[0;34m:\u001b[0m\u001b[0mimage_data\u001b[0m\u001b[0;34m[\u001b[0m\u001b[0mstart_idx\u001b[0m\u001b[0;34m:\u001b[0m\u001b[0mend_idx\u001b[0m\u001b[0;34m]\u001b[0m\u001b[0;34m}\u001b[0m\u001b[0;34m)\u001b[0m\u001b[0;34m\u001b[0m\u001b[0;34m\u001b[0m\u001b[0m\n\u001b[0m\u001b[1;32m      4\u001b[0m \u001b[0mprint\u001b[0m\u001b[0;34m(\u001b[0m\u001b[0;34m'정답 예측'\u001b[0m\u001b[0;34m)\u001b[0m\u001b[0;34m\u001b[0m\u001b[0;34m\u001b[0m\u001b[0m\n\u001b[1;32m      5\u001b[0m \u001b[0;34m\u001b[0m\u001b[0m\n",
      "\u001b[0;32m~/venv_capstone/lib/python3.7/site-packages/tensorflow/python/client/session.py\u001b[0m in \u001b[0;36mrun\u001b[0;34m(self, fetches, feed_dict, options, run_metadata)\u001b[0m\n\u001b[1;32m    956\u001b[0m     \u001b[0;32mtry\u001b[0m\u001b[0;34m:\u001b[0m\u001b[0;34m\u001b[0m\u001b[0;34m\u001b[0m\u001b[0m\n\u001b[1;32m    957\u001b[0m       result = self._run(None, fetches, feed_dict, options_ptr,\n\u001b[0;32m--> 958\u001b[0;31m                          run_metadata_ptr)\n\u001b[0m\u001b[1;32m    959\u001b[0m       \u001b[0;32mif\u001b[0m \u001b[0mrun_metadata\u001b[0m\u001b[0;34m:\u001b[0m\u001b[0;34m\u001b[0m\u001b[0;34m\u001b[0m\u001b[0m\n\u001b[1;32m    960\u001b[0m         \u001b[0mproto_data\u001b[0m \u001b[0;34m=\u001b[0m \u001b[0mtf_session\u001b[0m\u001b[0;34m.\u001b[0m\u001b[0mTF_GetBuffer\u001b[0m\u001b[0;34m(\u001b[0m\u001b[0mrun_metadata_ptr\u001b[0m\u001b[0;34m)\u001b[0m\u001b[0;34m\u001b[0m\u001b[0;34m\u001b[0m\u001b[0m\n",
      "\u001b[0;32m~/venv_capstone/lib/python3.7/site-packages/tensorflow/python/client/session.py\u001b[0m in \u001b[0;36m_run\u001b[0;34m(self, handle, fetches, feed_dict, options, run_metadata)\u001b[0m\n\u001b[1;32m   1179\u001b[0m     \u001b[0;32mif\u001b[0m \u001b[0mfinal_fetches\u001b[0m \u001b[0;32mor\u001b[0m \u001b[0mfinal_targets\u001b[0m \u001b[0;32mor\u001b[0m \u001b[0;34m(\u001b[0m\u001b[0mhandle\u001b[0m \u001b[0;32mand\u001b[0m \u001b[0mfeed_dict_tensor\u001b[0m\u001b[0;34m)\u001b[0m\u001b[0;34m:\u001b[0m\u001b[0;34m\u001b[0m\u001b[0;34m\u001b[0m\u001b[0m\n\u001b[1;32m   1180\u001b[0m       results = self._do_run(handle, final_targets, final_fetches,\n\u001b[0;32m-> 1181\u001b[0;31m                              feed_dict_tensor, options, run_metadata)\n\u001b[0m\u001b[1;32m   1182\u001b[0m     \u001b[0;32melse\u001b[0m\u001b[0;34m:\u001b[0m\u001b[0;34m\u001b[0m\u001b[0;34m\u001b[0m\u001b[0m\n\u001b[1;32m   1183\u001b[0m       \u001b[0mresults\u001b[0m \u001b[0;34m=\u001b[0m \u001b[0;34m[\u001b[0m\u001b[0;34m]\u001b[0m\u001b[0;34m\u001b[0m\u001b[0;34m\u001b[0m\u001b[0m\n",
      "\u001b[0;32m~/venv_capstone/lib/python3.7/site-packages/tensorflow/python/client/session.py\u001b[0m in \u001b[0;36m_do_run\u001b[0;34m(self, handle, target_list, fetch_list, feed_dict, options, run_metadata)\u001b[0m\n\u001b[1;32m   1357\u001b[0m     \u001b[0;32mif\u001b[0m \u001b[0mhandle\u001b[0m \u001b[0;32mis\u001b[0m \u001b[0;32mNone\u001b[0m\u001b[0;34m:\u001b[0m\u001b[0;34m\u001b[0m\u001b[0;34m\u001b[0m\u001b[0m\n\u001b[1;32m   1358\u001b[0m       return self._do_call(_run_fn, feeds, fetches, targets, options,\n\u001b[0;32m-> 1359\u001b[0;31m                            run_metadata)\n\u001b[0m\u001b[1;32m   1360\u001b[0m     \u001b[0;32melse\u001b[0m\u001b[0;34m:\u001b[0m\u001b[0;34m\u001b[0m\u001b[0;34m\u001b[0m\u001b[0m\n\u001b[1;32m   1361\u001b[0m       \u001b[0;32mreturn\u001b[0m \u001b[0mself\u001b[0m\u001b[0;34m.\u001b[0m\u001b[0m_do_call\u001b[0m\u001b[0;34m(\u001b[0m\u001b[0m_prun_fn\u001b[0m\u001b[0;34m,\u001b[0m \u001b[0mhandle\u001b[0m\u001b[0;34m,\u001b[0m \u001b[0mfeeds\u001b[0m\u001b[0;34m,\u001b[0m \u001b[0mfetches\u001b[0m\u001b[0;34m)\u001b[0m\u001b[0;34m\u001b[0m\u001b[0;34m\u001b[0m\u001b[0m\n",
      "\u001b[0;32m~/venv_capstone/lib/python3.7/site-packages/tensorflow/python/client/session.py\u001b[0m in \u001b[0;36m_do_call\u001b[0;34m(self, fn, *args)\u001b[0m\n\u001b[1;32m   1382\u001b[0m                     \u001b[0;34m'\\nsession_config.graph_options.rewrite_options.'\u001b[0m\u001b[0;34m\u001b[0m\u001b[0;34m\u001b[0m\u001b[0m\n\u001b[1;32m   1383\u001b[0m                     'disable_meta_optimizer = True')\n\u001b[0;32m-> 1384\u001b[0;31m       \u001b[0;32mraise\u001b[0m \u001b[0mtype\u001b[0m\u001b[0;34m(\u001b[0m\u001b[0me\u001b[0m\u001b[0;34m)\u001b[0m\u001b[0;34m(\u001b[0m\u001b[0mnode_def\u001b[0m\u001b[0;34m,\u001b[0m \u001b[0mop\u001b[0m\u001b[0;34m,\u001b[0m \u001b[0mmessage\u001b[0m\u001b[0;34m)\u001b[0m\u001b[0;34m\u001b[0m\u001b[0;34m\u001b[0m\u001b[0m\n\u001b[0m\u001b[1;32m   1385\u001b[0m \u001b[0;34m\u001b[0m\u001b[0m\n\u001b[1;32m   1386\u001b[0m   \u001b[0;32mdef\u001b[0m \u001b[0m_extend_graph\u001b[0m\u001b[0;34m(\u001b[0m\u001b[0mself\u001b[0m\u001b[0;34m)\u001b[0m\u001b[0;34m:\u001b[0m\u001b[0;34m\u001b[0m\u001b[0;34m\u001b[0m\u001b[0m\n",
      "\u001b[0;31mInvalidArgumentError\u001b[0m: 2 root error(s) found.\n  (0) Invalid argument: You must feed a value for placeholder tensor 'Placeholder_1' with dtype float and shape [?,256,2069]\n\t [[node Placeholder_1 (defined at <ipython-input-70-42deb1a72a5c>:19) ]]\n\t [[generation_dec/dense/BiasAdd/_167]]\n  (1) Invalid argument: You must feed a value for placeholder tensor 'Placeholder_1' with dtype float and shape [?,256,2069]\n\t [[node Placeholder_1 (defined at <ipython-input-70-42deb1a72a5c>:19) ]]\n0 successful operations.\n0 derived errors ignored.\n\nOriginal stack trace for 'Placeholder_1':\n  File \"/usr/lib/python3.7/runpy.py\", line 193, in _run_module_as_main\n    \"__main__\", mod_spec)\n  File \"/usr/lib/python3.7/runpy.py\", line 85, in _run_code\n    exec(code, run_globals)\n  File \"/home/svclaw2000/venv_capstone/lib/python3.7/site-packages/ipykernel_launcher.py\", line 16, in <module>\n    app.launch_new_instance()\n  File \"/home/svclaw2000/venv_capstone/lib/python3.7/site-packages/traitlets/config/application.py\", line 845, in launch_instance\n    app.start()\n  File \"/home/svclaw2000/venv_capstone/lib/python3.7/site-packages/ipykernel/kernelapp.py\", line 612, in start\n    self.io_loop.start()\n  File \"/home/svclaw2000/venv_capstone/lib/python3.7/site-packages/tornado/platform/asyncio.py\", line 199, in start\n    self.asyncio_loop.run_forever()\n  File \"/usr/lib/python3.7/asyncio/base_events.py\", line 534, in run_forever\n    self._run_once()\n  File \"/usr/lib/python3.7/asyncio/base_events.py\", line 1771, in _run_once\n    handle._run()\n  File \"/usr/lib/python3.7/asyncio/events.py\", line 88, in _run\n    self._context.run(self._callback, *self._args)\n  File \"/home/svclaw2000/venv_capstone/lib/python3.7/site-packages/tornado/ioloop.py\", line 688, in <lambda>\n    lambda f: self._run_callback(functools.partial(callback, future))\n  File \"/home/svclaw2000/venv_capstone/lib/python3.7/site-packages/tornado/ioloop.py\", line 741, in _run_callback\n    ret = callback()\n  File \"/home/svclaw2000/venv_capstone/lib/python3.7/site-packages/tornado/gen.py\", line 814, in inner\n    self.ctx_run(self.run)\n  File \"/home/svclaw2000/venv_capstone/lib/python3.7/site-packages/tornado/gen.py\", line 775, in run\n    yielded = self.gen.send(value)\n  File \"/home/svclaw2000/venv_capstone/lib/python3.7/site-packages/ipykernel/kernelbase.py\", line 365, in process_one\n    yield gen.maybe_future(dispatch(*args))\n  File \"/home/svclaw2000/venv_capstone/lib/python3.7/site-packages/tornado/gen.py\", line 234, in wrapper\n    yielded = ctx_run(next, result)\n  File \"/home/svclaw2000/venv_capstone/lib/python3.7/site-packages/ipykernel/kernelbase.py\", line 268, in dispatch_shell\n    yield gen.maybe_future(handler(stream, idents, msg))\n  File \"/home/svclaw2000/venv_capstone/lib/python3.7/site-packages/tornado/gen.py\", line 234, in wrapper\n    yielded = ctx_run(next, result)\n  File \"/home/svclaw2000/venv_capstone/lib/python3.7/site-packages/ipykernel/kernelbase.py\", line 545, in execute_request\n    user_expressions, allow_stdin,\n  File \"/home/svclaw2000/venv_capstone/lib/python3.7/site-packages/tornado/gen.py\", line 234, in wrapper\n    yielded = ctx_run(next, result)\n  File \"/home/svclaw2000/venv_capstone/lib/python3.7/site-packages/ipykernel/ipkernel.py\", line 306, in do_execute\n    res = shell.run_cell(code, store_history=store_history, silent=silent)\n  File \"/home/svclaw2000/venv_capstone/lib/python3.7/site-packages/ipykernel/zmqshell.py\", line 536, in run_cell\n    return super(ZMQInteractiveShell, self).run_cell(*args, **kwargs)\n  File \"/home/svclaw2000/venv_capstone/lib/python3.7/site-packages/IPython/core/interactiveshell.py\", line 2878, in run_cell\n    raw_cell, store_history, silent, shell_futures)\n  File \"/home/svclaw2000/venv_capstone/lib/python3.7/site-packages/IPython/core/interactiveshell.py\", line 2923, in _run_cell\n    return runner(coro)\n  File \"/home/svclaw2000/venv_capstone/lib/python3.7/site-packages/IPython/core/async_helpers.py\", line 68, in _pseudo_sync_runner\n    coro.send(None)\n  File \"/home/svclaw2000/venv_capstone/lib/python3.7/site-packages/IPython/core/interactiveshell.py\", line 3147, in run_cell_async\n    interactivity=interactivity, compiler=compiler, result=result)\n  File \"/home/svclaw2000/venv_capstone/lib/python3.7/site-packages/IPython/core/interactiveshell.py\", line 3338, in run_ast_nodes\n    if (await self.run_code(code, result,  async_=asy)):\n  File \"/home/svclaw2000/venv_capstone/lib/python3.7/site-packages/IPython/core/interactiveshell.py\", line 3418, in run_code\n    exec(code_obj, self.user_global_ns, self.user_ns)\n  File \"<ipython-input-70-42deb1a72a5c>\", line 19, in <module>\n    dec_inputs = tf.placeholder(tf.float32, shape=[None, max_seq_length, dict_len])\n  File \"/home/svclaw2000/venv_capstone/lib/python3.7/site-packages/tensorflow/python/ops/array_ops.py\", line 3100, in placeholder\n    return gen_array_ops.placeholder(dtype=dtype, shape=shape, name=name)\n  File \"/home/svclaw2000/venv_capstone/lib/python3.7/site-packages/tensorflow/python/ops/gen_array_ops.py\", line 6809, in placeholder\n    \"Placeholder\", dtype=dtype, shape=shape, name=name)\n  File \"/home/svclaw2000/venv_capstone/lib/python3.7/site-packages/tensorflow/python/framework/op_def_library.py\", line 744, in _apply_op_helper\n    attrs=attr_protos, op_def=op_def)\n  File \"/home/svclaw2000/venv_capstone/lib/python3.7/site-packages/tensorflow/python/framework/ops.py\", line 3485, in _create_op_internal\n    op_def=op_def)\n  File \"/home/svclaw2000/venv_capstone/lib/python3.7/site-packages/tensorflow/python/framework/ops.py\", line 1949, in __init__\n    self._traceback = tf_stack.extract_stack()\n"
     ]
    }
   ],
   "source": [
    "start_idx, end_idx = 50, 100\n",
    "\n",
    "results = sess.run(outputs2, feed_dict={inputs:image_data[start_idx:end_idx]})\n",
    "print('정답 예측')\n",
    "\n",
    "for l, p, img in zip(y_train[start_idx:end_idx], l_label[np.argmax(results, axis=1)], image_data[start_idx:end_idx]):\n",
    "    print([l==p, l, p])\n",
    "    plt.imshow(img)\n",
    "    plt.show()"
   ]
  },
  {
   "cell_type": "code",
   "execution_count": 52,
   "metadata": {
    "scrolled": true
   },
   "outputs": [
    {
     "name": "stdout",
     "output_type": "stream",
     "text": [
      "정답 예측\n"
     ]
    },
    {
     "data": {
      "text/plain": [
       "[[False, '애완동물', '여행'],\n",
       " [False, '일상', '여행'],\n",
       " [False, '애완동물', '여행'],\n",
       " [False, '셀카', '패션'],\n",
       " [False, '여행', '셀카'],\n",
       " [False, '여행', '연애'],\n",
       " [False, '애완동물', '음식'],\n",
       " [False, '음식', '여행'],\n",
       " [False, '패션', '여행'],\n",
       " [True, '애완동물', '애완동물'],\n",
       " [False, '일상', '애완동물'],\n",
       " [False, '여행', '애완동물'],\n",
       " [False, '패션', '연애'],\n",
       " [True, '패션', '패션'],\n",
       " [False, '음식', '여행'],\n",
       " [False, '여행', '음식'],\n",
       " [False, '음식', '여행'],\n",
       " [False, '패션', '애완동물'],\n",
       " [False, '음식', '셀카'],\n",
       " [False, '애완동물', '연애'],\n",
       " [False, '일상', '음식'],\n",
       " [True, '여행', '여행'],\n",
       " [False, '음식', '패션'],\n",
       " [False, '연애', '셀카'],\n",
       " [False, '셀카', '음식'],\n",
       " [False, '음식', '패션'],\n",
       " [False, '애완동물', '연애'],\n",
       " [False, '패션', '일상'],\n",
       " [False, '셀카', '애완동물'],\n",
       " [False, '일상', '패션'],\n",
       " [False, '음식', '여행'],\n",
       " [True, '패션', '패션'],\n",
       " [False, '패션', '일상'],\n",
       " [False, '일상', '연애'],\n",
       " [True, '연애', '연애'],\n",
       " [False, '애완동물', '패션'],\n",
       " [False, '일상', '연애'],\n",
       " [False, '애완동물', '패션'],\n",
       " [False, '애완동물', '패션'],\n",
       " [False, '연애', '여행'],\n",
       " [False, '셀카', '여행'],\n",
       " [True, '음식', '음식'],\n",
       " [False, '여행', '애완동물'],\n",
       " [True, '애완동물', '애완동물'],\n",
       " [False, '셀카', '패션'],\n",
       " [False, '일상', '셀카'],\n",
       " [False, '여행', '패션'],\n",
       " [False, '여행', '음식'],\n",
       " [True, '셀카', '셀카'],\n",
       " [False, '음식', '여행']]"
      ]
     },
     "execution_count": 52,
     "metadata": {},
     "output_type": "execute_result"
    }
   ],
   "source": [
    "start_idx, end_idx = 0, 50\n",
    "\n",
    "results = sess.run(outputs2, feed_dict={inputs:image_valid[start_idx:end_idx]})\n",
    "print('정답 예측')\n",
    "[[l==p, l, p] for l, p in zip(y_train[start_idx:end_idx], l_label[np.argmax(results, axis=1)])]"
   ]
  },
  {
   "cell_type": "code",
   "execution_count": null,
   "metadata": {},
   "outputs": [],
   "source": []
  }
 ],
 "metadata": {
  "kernelspec": {
   "display_name": "Keich Capstone",
   "language": "python",
   "name": "venv_capstone"
  },
  "language_info": {
   "codemirror_mode": {
    "name": "ipython",
    "version": 3
   },
   "file_extension": ".py",
   "mimetype": "text/x-python",
   "name": "python",
   "nbconvert_exporter": "python",
   "pygments_lexer": "ipython3",
   "version": "3.7.5"
  }
 },
 "nbformat": 4,
 "nbformat_minor": 2
}
