{
 "cells": [
  {
   "cell_type": "code",
   "execution_count": 1,
   "metadata": {},
   "outputs": [],
   "source": [
    "import pickle\n",
    "import numpy as np\n",
    "from tqdm import tqdm"
   ]
  },
  {
   "cell_type": "code",
   "execution_count": 2,
   "metadata": {},
   "outputs": [],
   "source": [
    "file_name = 'data_256.pkl'\n",
    "image_data, sentiment_data, sentence_data, sentence_tags, hashtag_data = pickle.load(open(file_name, 'rb'))"
   ]
  },
  {
   "cell_type": "code",
   "execution_count": 3,
   "metadata": {},
   "outputs": [],
   "source": [
    "size = 1500\n",
    "\n",
    "image_data = image_data[:size]\n",
    "sentiment_data = sentiment_data[:size]\n",
    "sentence_data = sentence_data[:size]\n",
    "sentence_tags = sentence_tags[:size]\n",
    "hashtag_data = hashtag_data[:size]"
   ]
  },
  {
   "cell_type": "code",
   "execution_count": 4,
   "metadata": {
    "scrolled": false
   },
   "outputs": [
    {
     "name": "stdout",
     "output_type": "stream",
     "text": [
      "(1500, 256, 256, 3)\n",
      "(1500, 4)\n",
      "(1500,)\n",
      "1500\n"
     ]
    }
   ],
   "source": [
    "print(image_data.shape)\n",
    "print(sentiment_data.shape)\n",
    "print(sentence_data.shape)\n",
    "print(len(sentence_tags))"
   ]
  },
  {
   "cell_type": "code",
   "execution_count": 5,
   "metadata": {},
   "outputs": [
    {
     "name": "stderr",
     "output_type": "stream",
     "text": [
      "100%|██████████| 1500/1500 [00:01<00:00, 1116.14it/s]\n"
     ]
    }
   ],
   "source": [
    "from konlpy.tag import Komoran\n",
    "\n",
    "komoran = Komoran()\n",
    "\n",
    "output_tags = [[p[0] for p in komoran.pos(s)] for s in tqdm(sentence_data)]"
   ]
  },
  {
   "cell_type": "code",
   "execution_count": 6,
   "metadata": {},
   "outputs": [],
   "source": [
    "image_words = set()\n",
    "for tags in sentence_tags:\n",
    "    for tag in tags:\n",
    "        if tag[0] not in image_words:\n",
    "            image_words.add(tag[0])\n",
    "            \n",
    "image_words = sorted(list(image_words))\n",
    "n_image_words = len(image_words)\n",
    "\n",
    "w2i_image = {w:i for i, w in enumerate(image_words)}\n",
    "\n",
    "image_word_data = np.zeros(shape=(len(sentence_tags), n_image_words), dtype='float32')\n",
    "\n",
    "for i, tags in enumerate(sentence_tags):\n",
    "    for tag in tags:\n",
    "        image_word_data[i, w2i_image[tag[0]]] += 1"
   ]
  },
  {
   "cell_type": "code",
   "execution_count": 7,
   "metadata": {},
   "outputs": [],
   "source": [
    "output_words = set()\n",
    "for tags in output_tags:\n",
    "    tags.insert(0, '\\t')\n",
    "    tags.append('\\n')\n",
    "    for tag in tags:\n",
    "        if tag not in output_words:\n",
    "            output_words.add(tag)\n",
    "            \n",
    "output_words = sorted(list(output_words))\n",
    "output_words[0], output_words[1] = output_words[1], output_words[0]\n",
    "n_output_words = len(output_words)\n",
    "max_seq_length = max(map(len, output_tags))\n",
    "\n",
    "w2i_output = {w:i for i, w in enumerate(output_words)}\n",
    "\n",
    "input_data = np.zeros(shape=(len(output_tags), max_seq_length, n_output_words), dtype='float32')\n",
    "output_data = np.zeros(shape=(len(output_tags), max_seq_length), dtype='float32')\n",
    "\n",
    "for i, tags in enumerate(output_tags):\n",
    "    for j, tag in enumerate(tags):\n",
    "        input_data[i, j, w2i_output[tag]] = 1.\n",
    "        if j > 0:\n",
    "            output_data[i, j-1] = w2i_output[tag]"
   ]
  },
  {
   "cell_type": "code",
   "execution_count": 8,
   "metadata": {},
   "outputs": [],
   "source": [
    "learning_rate = 1e-2\n",
    "target_size = image_data.shape[1]"
   ]
  },
  {
   "cell_type": "code",
   "execution_count": 9,
   "metadata": {},
   "outputs": [],
   "source": [
    "train_size = 1000\n",
    "valid_size = 200\n",
    "batch_size = 100\n",
    "n_batch = train_size // batch_size\n",
    "n_valid = valid_size // batch_size"
   ]
  },
  {
   "cell_type": "code",
   "execution_count": 10,
   "metadata": {},
   "outputs": [],
   "source": [
    "train_words = image_word_data[:train_size]\n",
    "train_inputs = input_data[:train_size]\n",
    "train_outputs = output_data[:train_size]\n",
    "valid_words = image_word_data[train_size:train_size+valid_size]\n",
    "valid_inputs = np.zeros(shape=(valid_size, max_seq_length, n_output_words), dtype='float32')\n",
    "valid_inputs[:, 0, w2i_output['\\t']] = 1.\n",
    "valid_outputs = output_data[train_size:train_size+valid_size]"
   ]
  },
  {
   "cell_type": "code",
   "execution_count": 11,
   "metadata": {},
   "outputs": [
    {
     "name": "stdout",
     "output_type": "stream",
     "text": [
      "WARNING:tensorflow:From /home/svclaw2000/venv_capstone/lib/python3.7/site-packages/tensorflow/python/compat/v2_compat.py:96: disable_resource_variables (from tensorflow.python.ops.variable_scope) is deprecated and will be removed in a future version.\n",
      "Instructions for updating:\n",
      "non-resource variables are not supported in the long term\n"
     ]
    }
   ],
   "source": [
    "import tensorflow.compat.v1 as tf\n",
    "tf.disable_v2_behavior()"
   ]
  },
  {
   "cell_type": "code",
   "execution_count": 24,
   "metadata": {
    "scrolled": true
   },
   "outputs": [],
   "source": [
    "tf.reset_default_graph()\n",
    "\n",
    "n_hidden = 256\n",
    "n_input_depth = 128\n",
    "\n",
    "enc_words = tf.placeholder(tf.float32, [None, n_image_words])\n",
    "dec_inputs = tf.placeholder(tf.float32, [None, max_seq_length, n_output_words])\n",
    "dec_outputs = tf.placeholder(tf.int32, [None, max_seq_length])\n",
    "\n",
    "W = tf.Variable(tf.truncated_normal(shape=[n_image_words, max_seq_length * n_input_depth], stddev=5e-2))\n",
    "b = tf.Variable(tf.constant(0.1, shape=[max_seq_length * n_input_depth]))\n",
    "# enc_inputs = tf.nn.relu(tf.matmul(enc_words, W) + b)\n",
    "enc_inputs = tf.matmul(enc_words, W) + b\n",
    "enc_inputs = tf.reshape(enc_inputs, [-1, max_seq_length, n_input_depth])\n",
    "\n",
    "enc_cell = tf.nn.rnn_cell.LSTMCell(n_hidden)\n",
    "enc_cell = tf.nn.rnn_cell.DropoutWrapper(enc_cell, output_keep_prob=0.8)\n",
    "outputs, enc_states = tf.nn.dynamic_rnn(enc_cell, enc_inputs, \n",
    "                                        dtype=tf.float32, scope='encoder')\n",
    "\n",
    "dec_cell = tf.nn.rnn_cell.LSTMCell(n_hidden)\n",
    "dec_cell = tf.nn.rnn_cell.DropoutWrapper(dec_cell, output_keep_prob=0.8)\n",
    "outputs, dec_states = tf.nn.dynamic_rnn(dec_cell, dec_inputs,\n",
    "                                       initial_state=enc_states,\n",
    "                                       dtype=tf.float32, scope='decoder')\n",
    "\n",
    "model = tf.layers.dense(outputs, n_output_words, activation=None)\n",
    "cost = tf.reduce_mean(tf.nn.sparse_softmax_cross_entropy_with_logits(logits=model, labels=dec_outputs))\n",
    "optimizer = tf.train.AdamOptimizer(learning_rate).minimize(cost)\n",
    "\n",
    "prediction = tf.argmax(model, 2)"
   ]
  },
  {
   "cell_type": "code",
   "execution_count": 25,
   "metadata": {},
   "outputs": [
    {
     "name": "stdout",
     "output_type": "stream",
     "text": [
      "Device mapping:\n",
      "/job:localhost/replica:0/task:0/device:XLA_CPU:0 -> device: XLA_CPU device\n",
      "/job:localhost/replica:0/task:0/device:XLA_GPU:0 -> device: XLA_GPU device\n",
      "/job:localhost/replica:0/task:0/device:GPU:0 -> device: 0, name: GeForce RTX 2080 Ti, pci bus id: 0000:68:00.0, compute capability: 7.5\n",
      "\n"
     ]
    }
   ],
   "source": [
    "with tf.device('/gpu:0'):\n",
    "    sess = tf.Session(config=tf.ConfigProto(allow_soft_placement=True, \n",
    "                                            log_device_placement=True))\n",
    "    sess.run(tf.global_variables_initializer())"
   ]
  },
  {
   "cell_type": "code",
   "execution_count": 26,
   "metadata": {
    "scrolled": true
   },
   "outputs": [
    {
     "name": "stderr",
     "output_type": "stream",
     "text": [
      "  1%|          | 1/100 [00:06<10:07,  6.13s/it]"
     ]
    },
    {
     "name": "stdout",
     "output_type": "stream",
     "text": [
      "Epoch: 0001 Cost: 4.537679 Valid Cost: 2.710578\n"
     ]
    },
    {
     "name": "stderr",
     "output_type": "stream",
     "text": [
      "\r",
      "  2%|▏         | 2/100 [00:11<09:28,  5.80s/it]"
     ]
    },
    {
     "name": "stdout",
     "output_type": "stream",
     "text": [
      "Epoch: 0002 Cost: 2.495208 Valid Cost: 2.903804\n"
     ]
    },
    {
     "name": "stderr",
     "output_type": "stream",
     "text": [
      "\r",
      "  3%|▎         | 3/100 [00:16<08:59,  5.56s/it]"
     ]
    },
    {
     "name": "stdout",
     "output_type": "stream",
     "text": [
      "Epoch: 0003 Cost: 2.428848 Valid Cost: 2.323812\n"
     ]
    },
    {
     "name": "stderr",
     "output_type": "stream",
     "text": [
      "\r",
      "  4%|▍         | 4/100 [00:21<08:37,  5.39s/it]"
     ]
    },
    {
     "name": "stdout",
     "output_type": "stream",
     "text": [
      "Epoch: 0004 Cost: 2.195560 Valid Cost: 2.320459\n"
     ]
    },
    {
     "name": "stderr",
     "output_type": "stream",
     "text": [
      "\r",
      "  5%|▌         | 5/100 [00:26<08:18,  5.25s/it]"
     ]
    },
    {
     "name": "stdout",
     "output_type": "stream",
     "text": [
      "Epoch: 0005 Cost: 2.070413 Valid Cost: 2.273549\n"
     ]
    },
    {
     "name": "stderr",
     "output_type": "stream",
     "text": [
      "\r",
      "  6%|▌         | 6/100 [00:31<08:06,  5.18s/it]"
     ]
    },
    {
     "name": "stdout",
     "output_type": "stream",
     "text": [
      "Epoch: 0006 Cost: 2.056234 Valid Cost: 2.219811\n"
     ]
    },
    {
     "name": "stderr",
     "output_type": "stream",
     "text": [
      "\r",
      "  7%|▋         | 7/100 [00:36<07:54,  5.10s/it]"
     ]
    },
    {
     "name": "stdout",
     "output_type": "stream",
     "text": [
      "Epoch: 0007 Cost: 2.009572 Valid Cost: 2.191288\n"
     ]
    },
    {
     "name": "stderr",
     "output_type": "stream",
     "text": [
      "\r",
      "  8%|▊         | 8/100 [00:40<07:43,  5.04s/it]"
     ]
    },
    {
     "name": "stdout",
     "output_type": "stream",
     "text": [
      "Epoch: 0008 Cost: 1.963011 Valid Cost: 2.193039\n"
     ]
    },
    {
     "name": "stderr",
     "output_type": "stream",
     "text": [
      "\r",
      "  9%|▉         | 9/100 [00:45<07:38,  5.04s/it]"
     ]
    },
    {
     "name": "stdout",
     "output_type": "stream",
     "text": [
      "Epoch: 0009 Cost: 1.931836 Valid Cost: 2.187342\n"
     ]
    },
    {
     "name": "stderr",
     "output_type": "stream",
     "text": [
      "\r",
      " 10%|█         | 10/100 [00:50<07:30,  5.00s/it]"
     ]
    },
    {
     "name": "stdout",
     "output_type": "stream",
     "text": [
      "Epoch: 0010 Cost: 1.902837 Valid Cost: 2.194168\n"
     ]
    },
    {
     "name": "stderr",
     "output_type": "stream",
     "text": [
      "\r",
      " 11%|█         | 11/100 [00:55<07:28,  5.04s/it]"
     ]
    },
    {
     "name": "stdout",
     "output_type": "stream",
     "text": [
      "Epoch: 0011 Cost: 1.869778 Valid Cost: 2.207337\n"
     ]
    },
    {
     "name": "stderr",
     "output_type": "stream",
     "text": [
      "\r",
      " 12%|█▏        | 12/100 [01:01<07:23,  5.04s/it]"
     ]
    },
    {
     "name": "stdout",
     "output_type": "stream",
     "text": [
      "Epoch: 0012 Cost: 1.849351 Valid Cost: 2.228504\n"
     ]
    },
    {
     "name": "stderr",
     "output_type": "stream",
     "text": [
      "\r",
      " 13%|█▎        | 13/100 [01:05<07:15,  5.01s/it]"
     ]
    },
    {
     "name": "stdout",
     "output_type": "stream",
     "text": [
      "Epoch: 0013 Cost: 1.817666 Valid Cost: 2.218534\n"
     ]
    },
    {
     "name": "stderr",
     "output_type": "stream",
     "text": [
      "\r",
      " 14%|█▍        | 14/100 [01:11<07:13,  5.04s/it]"
     ]
    },
    {
     "name": "stdout",
     "output_type": "stream",
     "text": [
      "Epoch: 0014 Cost: 1.790494 Valid Cost: 2.224317\n"
     ]
    },
    {
     "name": "stderr",
     "output_type": "stream",
     "text": [
      "\r",
      " 15%|█▌        | 15/100 [01:16<07:06,  5.02s/it]"
     ]
    },
    {
     "name": "stdout",
     "output_type": "stream",
     "text": [
      "Epoch: 0015 Cost: 1.753443 Valid Cost: 2.311090\n"
     ]
    },
    {
     "name": "stderr",
     "output_type": "stream",
     "text": [
      "\r",
      " 16%|█▌        | 16/100 [01:21<07:02,  5.02s/it]"
     ]
    },
    {
     "name": "stdout",
     "output_type": "stream",
     "text": [
      "Epoch: 0016 Cost: 1.727011 Valid Cost: 2.331962\n"
     ]
    },
    {
     "name": "stderr",
     "output_type": "stream",
     "text": [
      "\r",
      " 17%|█▋        | 17/100 [01:26<06:57,  5.03s/it]"
     ]
    },
    {
     "name": "stdout",
     "output_type": "stream",
     "text": [
      "Epoch: 0017 Cost: 1.693985 Valid Cost: 2.241990\n"
     ]
    },
    {
     "name": "stderr",
     "output_type": "stream",
     "text": [
      "\r",
      " 18%|█▊        | 18/100 [01:31<06:51,  5.01s/it]"
     ]
    },
    {
     "name": "stdout",
     "output_type": "stream",
     "text": [
      "Epoch: 0018 Cost: 1.655812 Valid Cost: 2.302171\n"
     ]
    },
    {
     "name": "stderr",
     "output_type": "stream",
     "text": [
      "\r",
      " 19%|█▉        | 19/100 [01:36<06:44,  5.00s/it]"
     ]
    },
    {
     "name": "stdout",
     "output_type": "stream",
     "text": [
      "Epoch: 0019 Cost: 1.610767 Valid Cost: 2.337394\n"
     ]
    },
    {
     "name": "stderr",
     "output_type": "stream",
     "text": [
      "\r",
      " 20%|██        | 20/100 [01:41<06:38,  4.98s/it]"
     ]
    },
    {
     "name": "stdout",
     "output_type": "stream",
     "text": [
      "Epoch: 0020 Cost: 1.562901 Valid Cost: 2.302282\n"
     ]
    },
    {
     "name": "stderr",
     "output_type": "stream",
     "text": [
      "\r",
      " 21%|██        | 21/100 [01:45<06:33,  4.98s/it]"
     ]
    },
    {
     "name": "stdout",
     "output_type": "stream",
     "text": [
      "Epoch: 0021 Cost: 1.507827 Valid Cost: 2.322005\n"
     ]
    },
    {
     "name": "stderr",
     "output_type": "stream",
     "text": [
      "\r",
      " 22%|██▏       | 22/100 [01:51<06:30,  5.01s/it]"
     ]
    },
    {
     "name": "stdout",
     "output_type": "stream",
     "text": [
      "Epoch: 0022 Cost: 1.453040 Valid Cost: 2.330817\n"
     ]
    },
    {
     "name": "stderr",
     "output_type": "stream",
     "text": [
      "\r",
      " 23%|██▎       | 23/100 [01:56<06:24,  4.99s/it]"
     ]
    },
    {
     "name": "stdout",
     "output_type": "stream",
     "text": [
      "Epoch: 0023 Cost: 1.407552 Valid Cost: 2.384758\n"
     ]
    },
    {
     "name": "stderr",
     "output_type": "stream",
     "text": [
      "\r",
      " 24%|██▍       | 24/100 [02:01<06:20,  5.01s/it]"
     ]
    },
    {
     "name": "stdout",
     "output_type": "stream",
     "text": [
      "Epoch: 0024 Cost: 1.362559 Valid Cost: 2.430629\n"
     ]
    },
    {
     "name": "stderr",
     "output_type": "stream",
     "text": [
      "\r",
      " 25%|██▌       | 25/100 [02:06<06:15,  5.01s/it]"
     ]
    },
    {
     "name": "stdout",
     "output_type": "stream",
     "text": [
      "Epoch: 0025 Cost: 1.324882 Valid Cost: 2.420540\n"
     ]
    },
    {
     "name": "stderr",
     "output_type": "stream",
     "text": [
      "\r",
      " 26%|██▌       | 26/100 [02:11<06:12,  5.03s/it]"
     ]
    },
    {
     "name": "stdout",
     "output_type": "stream",
     "text": [
      "Epoch: 0026 Cost: 1.278512 Valid Cost: 2.484603\n"
     ]
    },
    {
     "name": "stderr",
     "output_type": "stream",
     "text": [
      "\r",
      " 27%|██▋       | 27/100 [02:16<06:06,  5.02s/it]"
     ]
    },
    {
     "name": "stdout",
     "output_type": "stream",
     "text": [
      "Epoch: 0027 Cost: 1.230081 Valid Cost: 2.493507\n"
     ]
    },
    {
     "name": "stderr",
     "output_type": "stream",
     "text": [
      "\r",
      " 28%|██▊       | 28/100 [02:21<06:02,  5.03s/it]"
     ]
    },
    {
     "name": "stdout",
     "output_type": "stream",
     "text": [
      "Epoch: 0028 Cost: 1.180731 Valid Cost: 2.451525\n"
     ]
    },
    {
     "name": "stderr",
     "output_type": "stream",
     "text": [
      "\r",
      " 29%|██▉       | 29/100 [02:26<05:56,  5.02s/it]"
     ]
    },
    {
     "name": "stdout",
     "output_type": "stream",
     "text": [
      "Epoch: 0029 Cost: 1.130821 Valid Cost: 2.463256\n"
     ]
    },
    {
     "name": "stderr",
     "output_type": "stream",
     "text": [
      "\r",
      " 30%|███       | 30/100 [02:31<05:49,  4.99s/it]"
     ]
    },
    {
     "name": "stdout",
     "output_type": "stream",
     "text": [
      "Epoch: 0030 Cost: 1.077986 Valid Cost: 2.504548\n"
     ]
    },
    {
     "name": "stderr",
     "output_type": "stream",
     "text": [
      "\r",
      " 31%|███       | 31/100 [02:36<05:43,  4.98s/it]"
     ]
    },
    {
     "name": "stdout",
     "output_type": "stream",
     "text": [
      "Epoch: 0031 Cost: 1.023788 Valid Cost: 2.527731\n"
     ]
    },
    {
     "name": "stderr",
     "output_type": "stream",
     "text": [
      "\r",
      " 32%|███▏      | 32/100 [02:41<05:38,  4.97s/it]"
     ]
    },
    {
     "name": "stdout",
     "output_type": "stream",
     "text": [
      "Epoch: 0032 Cost: 0.978001 Valid Cost: 2.478438\n"
     ]
    },
    {
     "name": "stderr",
     "output_type": "stream",
     "text": [
      "\r",
      " 33%|███▎      | 33/100 [02:46<05:36,  5.02s/it]"
     ]
    },
    {
     "name": "stdout",
     "output_type": "stream",
     "text": [
      "Epoch: 0033 Cost: 0.929187 Valid Cost: 2.538872\n"
     ]
    },
    {
     "name": "stderr",
     "output_type": "stream",
     "text": [
      "\r",
      " 34%|███▍      | 34/100 [02:51<05:30,  5.01s/it]"
     ]
    },
    {
     "name": "stdout",
     "output_type": "stream",
     "text": [
      "Epoch: 0034 Cost: 0.882871 Valid Cost: 2.569458\n"
     ]
    },
    {
     "name": "stderr",
     "output_type": "stream",
     "text": [
      "\r",
      " 35%|███▌      | 35/100 [02:56<05:26,  5.02s/it]"
     ]
    },
    {
     "name": "stdout",
     "output_type": "stream",
     "text": [
      "Epoch: 0035 Cost: 0.839550 Valid Cost: 2.569548\n"
     ]
    },
    {
     "name": "stderr",
     "output_type": "stream",
     "text": [
      "\r",
      " 36%|███▌      | 36/100 [03:01<05:19,  5.00s/it]"
     ]
    },
    {
     "name": "stdout",
     "output_type": "stream",
     "text": [
      "Epoch: 0036 Cost: 0.795879 Valid Cost: 2.656309\n"
     ]
    },
    {
     "name": "stderr",
     "output_type": "stream",
     "text": [
      "\r",
      " 37%|███▋      | 37/100 [03:06<05:15,  5.01s/it]"
     ]
    },
    {
     "name": "stdout",
     "output_type": "stream",
     "text": [
      "Epoch: 0037 Cost: 0.753791 Valid Cost: 2.632141\n"
     ]
    },
    {
     "name": "stderr",
     "output_type": "stream",
     "text": [
      "\r",
      " 38%|███▊      | 38/100 [03:11<05:12,  5.04s/it]"
     ]
    },
    {
     "name": "stdout",
     "output_type": "stream",
     "text": [
      "Epoch: 0038 Cost: 0.714785 Valid Cost: 2.667636\n"
     ]
    },
    {
     "name": "stderr",
     "output_type": "stream",
     "text": [
      "\r",
      " 39%|███▉      | 39/100 [03:16<05:07,  5.04s/it]"
     ]
    },
    {
     "name": "stdout",
     "output_type": "stream",
     "text": [
      "Epoch: 0039 Cost: 0.680231 Valid Cost: 2.673405\n"
     ]
    },
    {
     "name": "stderr",
     "output_type": "stream",
     "text": [
      "\r",
      " 40%|████      | 40/100 [03:21<05:01,  5.03s/it]"
     ]
    },
    {
     "name": "stdout",
     "output_type": "stream",
     "text": [
      "Epoch: 0040 Cost: 0.647523 Valid Cost: 2.625843\n"
     ]
    },
    {
     "name": "stderr",
     "output_type": "stream",
     "text": [
      "\r",
      " 41%|████      | 41/100 [03:26<04:56,  5.03s/it]"
     ]
    },
    {
     "name": "stdout",
     "output_type": "stream",
     "text": [
      "Epoch: 0041 Cost: 0.622146 Valid Cost: 2.671972\n"
     ]
    },
    {
     "name": "stderr",
     "output_type": "stream",
     "text": [
      "\r",
      " 42%|████▏     | 42/100 [03:31<04:52,  5.05s/it]"
     ]
    },
    {
     "name": "stdout",
     "output_type": "stream",
     "text": [
      "Epoch: 0042 Cost: 0.599610 Valid Cost: 2.783919\n"
     ]
    },
    {
     "name": "stderr",
     "output_type": "stream",
     "text": [
      "\r",
      " 43%|████▎     | 43/100 [03:36<04:47,  5.04s/it]"
     ]
    },
    {
     "name": "stdout",
     "output_type": "stream",
     "text": [
      "Epoch: 0043 Cost: 0.575368 Valid Cost: 2.714195\n"
     ]
    },
    {
     "name": "stderr",
     "output_type": "stream",
     "text": [
      "\r",
      " 44%|████▍     | 44/100 [03:41<04:42,  5.05s/it]"
     ]
    },
    {
     "name": "stdout",
     "output_type": "stream",
     "text": [
      "Epoch: 0044 Cost: 0.547874 Valid Cost: 2.699688\n"
     ]
    },
    {
     "name": "stderr",
     "output_type": "stream",
     "text": [
      "\r",
      " 45%|████▌     | 45/100 [03:46<04:36,  5.03s/it]"
     ]
    },
    {
     "name": "stdout",
     "output_type": "stream",
     "text": [
      "Epoch: 0045 Cost: 0.531776 Valid Cost: 2.713120\n"
     ]
    },
    {
     "name": "stderr",
     "output_type": "stream",
     "text": [
      "\r",
      " 46%|████▌     | 46/100 [03:51<04:31,  5.02s/it]"
     ]
    },
    {
     "name": "stdout",
     "output_type": "stream",
     "text": [
      "Epoch: 0046 Cost: 0.514789 Valid Cost: 2.748631\n"
     ]
    },
    {
     "name": "stderr",
     "output_type": "stream",
     "text": [
      "\r",
      " 47%|████▋     | 47/100 [03:56<04:25,  5.01s/it]"
     ]
    },
    {
     "name": "stdout",
     "output_type": "stream",
     "text": [
      "Epoch: 0047 Cost: 0.486696 Valid Cost: 2.704825\n"
     ]
    },
    {
     "name": "stderr",
     "output_type": "stream",
     "text": [
      "\r",
      " 48%|████▊     | 48/100 [04:01<04:20,  5.01s/it]"
     ]
    },
    {
     "name": "stdout",
     "output_type": "stream",
     "text": [
      "Epoch: 0048 Cost: 0.459748 Valid Cost: 2.697806\n"
     ]
    },
    {
     "name": "stderr",
     "output_type": "stream",
     "text": [
      "\r",
      " 49%|████▉     | 49/100 [04:06<04:16,  5.02s/it]"
     ]
    },
    {
     "name": "stdout",
     "output_type": "stream",
     "text": [
      "Epoch: 0049 Cost: 0.431420 Valid Cost: 2.690160\n"
     ]
    },
    {
     "name": "stderr",
     "output_type": "stream",
     "text": [
      "\r",
      " 50%|█████     | 50/100 [04:11<04:10,  5.01s/it]"
     ]
    },
    {
     "name": "stdout",
     "output_type": "stream",
     "text": [
      "Epoch: 0050 Cost: 0.413183 Valid Cost: 2.652492\n"
     ]
    },
    {
     "name": "stderr",
     "output_type": "stream",
     "text": [
      "\r",
      " 51%|█████     | 51/100 [04:16<04:05,  5.01s/it]"
     ]
    },
    {
     "name": "stdout",
     "output_type": "stream",
     "text": [
      "Epoch: 0051 Cost: 0.401151 Valid Cost: 2.732603\n"
     ]
    },
    {
     "name": "stderr",
     "output_type": "stream",
     "text": [
      "\r",
      " 52%|█████▏    | 52/100 [04:21<03:59,  5.00s/it]"
     ]
    },
    {
     "name": "stdout",
     "output_type": "stream",
     "text": [
      "Epoch: 0052 Cost: 0.394100 Valid Cost: 2.751656\n"
     ]
    },
    {
     "name": "stderr",
     "output_type": "stream",
     "text": [
      "\r",
      " 53%|█████▎    | 53/100 [04:26<03:56,  5.04s/it]"
     ]
    },
    {
     "name": "stdout",
     "output_type": "stream",
     "text": [
      "Epoch: 0053 Cost: 0.385948 Valid Cost: 2.756887\n"
     ]
    },
    {
     "name": "stderr",
     "output_type": "stream",
     "text": [
      "\r",
      " 54%|█████▍    | 54/100 [04:31<03:50,  5.01s/it]"
     ]
    },
    {
     "name": "stdout",
     "output_type": "stream",
     "text": [
      "Epoch: 0054 Cost: 0.376640 Valid Cost: 2.802795\n"
     ]
    },
    {
     "name": "stderr",
     "output_type": "stream",
     "text": [
      "\r",
      " 55%|█████▌    | 55/100 [04:36<03:45,  5.01s/it]"
     ]
    },
    {
     "name": "stdout",
     "output_type": "stream",
     "text": [
      "Epoch: 0055 Cost: 0.362331 Valid Cost: 2.894803\n"
     ]
    },
    {
     "name": "stderr",
     "output_type": "stream",
     "text": [
      "\r",
      " 56%|█████▌    | 56/100 [04:41<03:40,  5.00s/it]"
     ]
    },
    {
     "name": "stdout",
     "output_type": "stream",
     "text": [
      "Epoch: 0056 Cost: 0.344284 Valid Cost: 2.870238\n"
     ]
    },
    {
     "name": "stderr",
     "output_type": "stream",
     "text": [
      "\r",
      " 57%|█████▋    | 57/100 [04:46<03:36,  5.03s/it]"
     ]
    },
    {
     "name": "stdout",
     "output_type": "stream",
     "text": [
      "Epoch: 0057 Cost: 0.318821 Valid Cost: 2.908674\n"
     ]
    },
    {
     "name": "stderr",
     "output_type": "stream",
     "text": [
      "\r",
      " 58%|█████▊    | 58/100 [04:51<03:30,  5.01s/it]"
     ]
    },
    {
     "name": "stdout",
     "output_type": "stream",
     "text": [
      "Epoch: 0058 Cost: 0.304381 Valid Cost: 2.975864\n"
     ]
    },
    {
     "name": "stderr",
     "output_type": "stream",
     "text": [
      "\r",
      " 59%|█████▉    | 59/100 [04:56<03:24,  4.99s/it]"
     ]
    },
    {
     "name": "stdout",
     "output_type": "stream",
     "text": [
      "Epoch: 0059 Cost: 0.290208 Valid Cost: 3.042708\n"
     ]
    },
    {
     "name": "stderr",
     "output_type": "stream",
     "text": [
      "\r",
      " 60%|██████    | 60/100 [05:01<03:19,  4.98s/it]"
     ]
    },
    {
     "name": "stdout",
     "output_type": "stream",
     "text": [
      "Epoch: 0060 Cost: 0.266869 Valid Cost: 2.969642\n"
     ]
    },
    {
     "name": "stderr",
     "output_type": "stream",
     "text": [
      "\r",
      " 61%|██████    | 61/100 [05:06<03:15,  5.01s/it]"
     ]
    },
    {
     "name": "stdout",
     "output_type": "stream",
     "text": [
      "Epoch: 0061 Cost: 0.247810 Valid Cost: 2.994132\n"
     ]
    },
    {
     "name": "stderr",
     "output_type": "stream",
     "text": [
      "\r",
      " 62%|██████▏   | 62/100 [05:11<03:10,  5.02s/it]"
     ]
    },
    {
     "name": "stdout",
     "output_type": "stream",
     "text": [
      "Epoch: 0062 Cost: 0.230513 Valid Cost: 3.036820\n"
     ]
    },
    {
     "name": "stderr",
     "output_type": "stream",
     "text": [
      "\r",
      " 63%|██████▎   | 63/100 [05:16<03:05,  5.03s/it]"
     ]
    },
    {
     "name": "stdout",
     "output_type": "stream",
     "text": [
      "Epoch: 0063 Cost: 0.217696 Valid Cost: 3.048887\n"
     ]
    },
    {
     "name": "stderr",
     "output_type": "stream",
     "text": [
      "\r",
      " 64%|██████▍   | 64/100 [05:21<03:01,  5.04s/it]"
     ]
    },
    {
     "name": "stdout",
     "output_type": "stream",
     "text": [
      "Epoch: 0064 Cost: 0.203034 Valid Cost: 3.081883\n"
     ]
    },
    {
     "name": "stderr",
     "output_type": "stream",
     "text": [
      "\r",
      " 65%|██████▌   | 65/100 [05:26<02:56,  5.05s/it]"
     ]
    },
    {
     "name": "stdout",
     "output_type": "stream",
     "text": [
      "Epoch: 0065 Cost: 0.189649 Valid Cost: 3.090470\n"
     ]
    },
    {
     "name": "stderr",
     "output_type": "stream",
     "text": [
      "\r",
      " 66%|██████▌   | 66/100 [05:31<02:50,  5.01s/it]"
     ]
    },
    {
     "name": "stdout",
     "output_type": "stream",
     "text": [
      "Epoch: 0066 Cost: 0.180405 Valid Cost: 3.100707\n"
     ]
    },
    {
     "name": "stderr",
     "output_type": "stream",
     "text": [
      "\r",
      " 67%|██████▋   | 67/100 [05:36<02:46,  5.05s/it]"
     ]
    },
    {
     "name": "stdout",
     "output_type": "stream",
     "text": [
      "Epoch: 0067 Cost: 0.171307 Valid Cost: 3.052402\n"
     ]
    },
    {
     "name": "stderr",
     "output_type": "stream",
     "text": [
      "\r",
      " 68%|██████▊   | 68/100 [05:41<02:41,  5.05s/it]"
     ]
    },
    {
     "name": "stdout",
     "output_type": "stream",
     "text": [
      "Epoch: 0068 Cost: 0.163648 Valid Cost: 3.049339\n"
     ]
    },
    {
     "name": "stderr",
     "output_type": "stream",
     "text": [
      "\r",
      " 69%|██████▉   | 69/100 [05:47<02:36,  5.05s/it]"
     ]
    },
    {
     "name": "stdout",
     "output_type": "stream",
     "text": [
      "Epoch: 0069 Cost: 0.162306 Valid Cost: 3.047116\n"
     ]
    },
    {
     "name": "stderr",
     "output_type": "stream",
     "text": [
      "\r",
      " 70%|███████   | 70/100 [05:52<02:31,  5.06s/it]"
     ]
    },
    {
     "name": "stdout",
     "output_type": "stream",
     "text": [
      "Epoch: 0070 Cost: 0.156791 Valid Cost: 3.069417\n"
     ]
    },
    {
     "name": "stderr",
     "output_type": "stream",
     "text": [
      "\r",
      " 71%|███████   | 71/100 [05:57<02:26,  5.04s/it]"
     ]
    },
    {
     "name": "stdout",
     "output_type": "stream",
     "text": [
      "Epoch: 0071 Cost: 0.149478 Valid Cost: 3.166391\n"
     ]
    },
    {
     "name": "stderr",
     "output_type": "stream",
     "text": [
      "\r",
      " 72%|███████▏  | 72/100 [06:02<02:21,  5.05s/it]"
     ]
    },
    {
     "name": "stdout",
     "output_type": "stream",
     "text": [
      "Epoch: 0072 Cost: 0.142082 Valid Cost: 3.115261\n"
     ]
    },
    {
     "name": "stderr",
     "output_type": "stream",
     "text": [
      "\r",
      " 73%|███████▎  | 73/100 [06:07<02:16,  5.05s/it]"
     ]
    },
    {
     "name": "stdout",
     "output_type": "stream",
     "text": [
      "Epoch: 0073 Cost: 0.131240 Valid Cost: 3.201330\n"
     ]
    },
    {
     "name": "stderr",
     "output_type": "stream",
     "text": [
      "\r",
      " 74%|███████▍  | 74/100 [06:12<02:10,  5.03s/it]"
     ]
    },
    {
     "name": "stdout",
     "output_type": "stream",
     "text": [
      "Epoch: 0074 Cost: 0.121224 Valid Cost: 3.246518\n"
     ]
    },
    {
     "name": "stderr",
     "output_type": "stream",
     "text": [
      "\r",
      " 75%|███████▌  | 75/100 [06:17<02:06,  5.05s/it]"
     ]
    },
    {
     "name": "stdout",
     "output_type": "stream",
     "text": [
      "Epoch: 0075 Cost: 0.112649 Valid Cost: 3.275853\n"
     ]
    },
    {
     "name": "stderr",
     "output_type": "stream",
     "text": [
      "\r",
      " 76%|███████▌  | 76/100 [06:22<02:01,  5.06s/it]"
     ]
    },
    {
     "name": "stdout",
     "output_type": "stream",
     "text": [
      "Epoch: 0076 Cost: 0.107144 Valid Cost: 3.322739\n"
     ]
    },
    {
     "name": "stderr",
     "output_type": "stream",
     "text": [
      "\r",
      " 77%|███████▋  | 77/100 [06:27<01:56,  5.06s/it]"
     ]
    },
    {
     "name": "stdout",
     "output_type": "stream",
     "text": [
      "Epoch: 0077 Cost: 0.101242 Valid Cost: 3.317588\n"
     ]
    },
    {
     "name": "stderr",
     "output_type": "stream",
     "text": [
      "\r",
      " 78%|███████▊  | 78/100 [06:32<01:50,  5.03s/it]"
     ]
    },
    {
     "name": "stdout",
     "output_type": "stream",
     "text": [
      "Epoch: 0078 Cost: 0.099351 Valid Cost: 3.217247\n"
     ]
    },
    {
     "name": "stderr",
     "output_type": "stream",
     "text": [
      "\r",
      " 79%|███████▉  | 79/100 [06:37<01:45,  5.01s/it]"
     ]
    },
    {
     "name": "stdout",
     "output_type": "stream",
     "text": [
      "Epoch: 0079 Cost: 0.095486 Valid Cost: 3.173998\n"
     ]
    },
    {
     "name": "stderr",
     "output_type": "stream",
     "text": [
      "\r",
      " 80%|████████  | 80/100 [06:42<01:40,  5.00s/it]"
     ]
    },
    {
     "name": "stdout",
     "output_type": "stream",
     "text": [
      "Epoch: 0080 Cost: 0.091534 Valid Cost: 3.267820\n"
     ]
    },
    {
     "name": "stderr",
     "output_type": "stream",
     "text": [
      "\r",
      " 81%|████████  | 81/100 [06:47<01:34,  4.98s/it]"
     ]
    },
    {
     "name": "stdout",
     "output_type": "stream",
     "text": [
      "Epoch: 0081 Cost: 0.085868 Valid Cost: 3.374350\n"
     ]
    },
    {
     "name": "stderr",
     "output_type": "stream",
     "text": [
      "\r",
      " 82%|████████▏ | 82/100 [06:52<01:29,  5.00s/it]"
     ]
    },
    {
     "name": "stdout",
     "output_type": "stream",
     "text": [
      "Epoch: 0082 Cost: 0.080938 Valid Cost: 3.422236\n"
     ]
    },
    {
     "name": "stderr",
     "output_type": "stream",
     "text": [
      "\r",
      " 83%|████████▎ | 83/100 [06:57<01:25,  5.01s/it]"
     ]
    },
    {
     "name": "stdout",
     "output_type": "stream",
     "text": [
      "Epoch: 0083 Cost: 0.076570 Valid Cost: 3.317605\n"
     ]
    },
    {
     "name": "stderr",
     "output_type": "stream",
     "text": [
      "\r",
      " 84%|████████▍ | 84/100 [07:02<01:19,  4.98s/it]"
     ]
    },
    {
     "name": "stdout",
     "output_type": "stream",
     "text": [
      "Epoch: 0084 Cost: 0.072340 Valid Cost: 3.364313\n"
     ]
    },
    {
     "name": "stderr",
     "output_type": "stream",
     "text": [
      "\r",
      " 85%|████████▌ | 85/100 [07:07<01:15,  5.02s/it]"
     ]
    },
    {
     "name": "stdout",
     "output_type": "stream",
     "text": [
      "Epoch: 0085 Cost: 0.068695 Valid Cost: 3.358400\n"
     ]
    },
    {
     "name": "stderr",
     "output_type": "stream",
     "text": [
      "\r",
      " 86%|████████▌ | 86/100 [07:12<01:10,  5.01s/it]"
     ]
    },
    {
     "name": "stdout",
     "output_type": "stream",
     "text": [
      "Epoch: 0086 Cost: 0.063778 Valid Cost: 3.351352\n"
     ]
    },
    {
     "name": "stderr",
     "output_type": "stream",
     "text": [
      "\r",
      " 87%|████████▋ | 87/100 [07:17<01:04,  5.00s/it]"
     ]
    },
    {
     "name": "stdout",
     "output_type": "stream",
     "text": [
      "Epoch: 0087 Cost: 0.059845 Valid Cost: 3.392723\n"
     ]
    },
    {
     "name": "stderr",
     "output_type": "stream",
     "text": [
      "\r",
      " 88%|████████▊ | 88/100 [07:22<00:59,  4.99s/it]"
     ]
    },
    {
     "name": "stdout",
     "output_type": "stream",
     "text": [
      "Epoch: 0088 Cost: 0.056299 Valid Cost: 3.437612\n"
     ]
    },
    {
     "name": "stderr",
     "output_type": "stream",
     "text": [
      "\r",
      " 89%|████████▉ | 89/100 [07:27<00:54,  5.00s/it]"
     ]
    },
    {
     "name": "stdout",
     "output_type": "stream",
     "text": [
      "Epoch: 0089 Cost: 0.054614 Valid Cost: 3.507993\n"
     ]
    },
    {
     "name": "stderr",
     "output_type": "stream",
     "text": [
      "\r",
      " 90%|█████████ | 90/100 [07:32<00:49,  5.00s/it]"
     ]
    },
    {
     "name": "stdout",
     "output_type": "stream",
     "text": [
      "Epoch: 0090 Cost: 0.052189 Valid Cost: 3.467216\n"
     ]
    },
    {
     "name": "stderr",
     "output_type": "stream",
     "text": [
      "\r",
      " 91%|█████████ | 91/100 [07:37<00:44,  4.98s/it]"
     ]
    },
    {
     "name": "stdout",
     "output_type": "stream",
     "text": [
      "Epoch: 0091 Cost: 0.048914 Valid Cost: 3.481700\n"
     ]
    },
    {
     "name": "stderr",
     "output_type": "stream",
     "text": [
      "\r",
      " 92%|█████████▏| 92/100 [07:42<00:39,  4.99s/it]"
     ]
    },
    {
     "name": "stdout",
     "output_type": "stream",
     "text": [
      "Epoch: 0092 Cost: 0.046967 Valid Cost: 3.486640\n"
     ]
    },
    {
     "name": "stderr",
     "output_type": "stream",
     "text": [
      "\r",
      " 93%|█████████▎| 93/100 [07:47<00:34,  5.00s/it]"
     ]
    },
    {
     "name": "stdout",
     "output_type": "stream",
     "text": [
      "Epoch: 0093 Cost: 0.043549 Valid Cost: 3.483391\n"
     ]
    },
    {
     "name": "stderr",
     "output_type": "stream",
     "text": [
      "\r",
      " 94%|█████████▍| 94/100 [07:52<00:29,  5.00s/it]"
     ]
    },
    {
     "name": "stdout",
     "output_type": "stream",
     "text": [
      "Epoch: 0094 Cost: 0.041389 Valid Cost: 3.502135\n"
     ]
    },
    {
     "name": "stderr",
     "output_type": "stream",
     "text": [
      "\r",
      " 95%|█████████▌| 95/100 [07:57<00:25,  5.01s/it]"
     ]
    },
    {
     "name": "stdout",
     "output_type": "stream",
     "text": [
      "Epoch: 0095 Cost: 0.038689 Valid Cost: 3.557838\n"
     ]
    },
    {
     "name": "stderr",
     "output_type": "stream",
     "text": [
      "\r",
      " 96%|█████████▌| 96/100 [08:02<00:19,  5.00s/it]"
     ]
    },
    {
     "name": "stdout",
     "output_type": "stream",
     "text": [
      "Epoch: 0096 Cost: 0.036798 Valid Cost: 3.584446\n"
     ]
    },
    {
     "name": "stderr",
     "output_type": "stream",
     "text": [
      "\r",
      " 97%|█████████▋| 97/100 [08:07<00:15,  5.00s/it]"
     ]
    },
    {
     "name": "stdout",
     "output_type": "stream",
     "text": [
      "Epoch: 0097 Cost: 0.035382 Valid Cost: 3.577834\n"
     ]
    },
    {
     "name": "stderr",
     "output_type": "stream",
     "text": [
      "\r",
      " 98%|█████████▊| 98/100 [08:12<00:10,  5.03s/it]"
     ]
    },
    {
     "name": "stdout",
     "output_type": "stream",
     "text": [
      "Epoch: 0098 Cost: 0.034811 Valid Cost: 3.507264\n"
     ]
    },
    {
     "name": "stderr",
     "output_type": "stream",
     "text": [
      "\r",
      " 99%|█████████▉| 99/100 [08:17<00:05,  5.01s/it]"
     ]
    },
    {
     "name": "stdout",
     "output_type": "stream",
     "text": [
      "Epoch: 0099 Cost: 0.033423 Valid Cost: 3.511145\n"
     ]
    },
    {
     "name": "stderr",
     "output_type": "stream",
     "text": [
      "100%|██████████| 100/100 [08:22<00:00,  5.02s/it]"
     ]
    },
    {
     "name": "stdout",
     "output_type": "stream",
     "text": [
      "Epoch: 0100 Cost: 0.031300 Valid Cost: 3.642672\n"
     ]
    },
    {
     "name": "stderr",
     "output_type": "stream",
     "text": [
      "\n"
     ]
    }
   ],
   "source": [
    "total_epoch = 100\n",
    "\n",
    "for epoch in tqdm(range(total_epoch)):\n",
    "    total_loss = 0\n",
    "#     for batch in tqdm(range(n_batch)):\n",
    "    for batch in range(n_batch):\n",
    "        batch_enc_inputs = train_words[batch*batch_size:(batch+1)*batch_size]\n",
    "        batch_dec_inputs = train_inputs[batch*batch_size:(batch+1)*batch_size]\n",
    "        batch_dec_outputs = train_outputs[batch*batch_size:(batch+1)*batch_size]\n",
    "        \n",
    "        _, loss = sess.run([optimizer, cost], feed_dict={\n",
    "                enc_words: batch_enc_inputs,\n",
    "                dec_inputs: batch_dec_inputs,\n",
    "                dec_outputs: batch_dec_outputs\n",
    "            })\n",
    "        \n",
    "        total_loss += loss\n",
    "    \n",
    "    total_valid_loss = 0\n",
    "    for batch in range(n_valid):\n",
    "        val_enc_inputs = valid_words[batch*batch_size:(batch+1)*batch_size]\n",
    "        val_dec_inputs = valid_inputs[batch*batch_size:(batch+1)*batch_size]\n",
    "        val_dec_outputs = valid_outputs[batch*batch_size:(batch+1)*batch_size]\n",
    "        \n",
    "        val_loss = sess.run(cost, feed_dict={\n",
    "                enc_words: val_enc_inputs,\n",
    "                dec_inputs: val_dec_inputs,\n",
    "                dec_outputs: val_dec_outputs\n",
    "            })\n",
    "        total_valid_loss += val_loss\n",
    "    \n",
    "    print('Epoch: %04d Cost: %.6f Valid Cost: %.6f' %(epoch + 1, total_loss / n_batch, total_valid_loss / n_valid))"
   ]
  },
  {
   "cell_type": "code",
   "execution_count": 80,
   "metadata": {},
   "outputs": [],
   "source": [
    "from konlpy.tag import Komoran\n",
    "\n",
    "komoran = Komoran()\n",
    "use_tags = ['V', 'N', 'M', 'IC', 'XR']\n",
    "\n",
    "def translate(sentences):\n",
    "    original_tags = [komoran.pos(s) for s in sentences]\n",
    "    sentence_tags = []\n",
    "    \n",
    "    for tags in original_tags:\n",
    "        sentence_tag = []\n",
    "        for tag in tags:\n",
    "            for use_tag in use_tags:\n",
    "                if tag[1].startswith(use_tag):\n",
    "                    sentence_tag.append(tag)\n",
    "        sentence_tags.append(sentence_tag)\n",
    "        \n",
    "    enc_in = np.zeros(shape=(len(sentence_tags), n_image_words), dtype='float32')\n",
    "\n",
    "    for i, tags in enumerate(sentence_tags):\n",
    "        for tag in tags:\n",
    "            enc_in[i, w2i_image[tag[0]]] += 1\n",
    "            \n",
    "    dec_in = np.zeros(shape=(len(sentence_tags), max_seq_length, n_output_words), dtype='float32')\n",
    "    dec_in[:, 0, w2i_output['\\t']] = 1.\n",
    "    \n",
    "    results = sess.run(prediction,\n",
    "                      feed_dict={enc_words: enc_in,\n",
    "                                 dec_inputs: dec_in})\n",
    "    \n",
    "    decoded = [[output_words[i] for i in result] for result in results]\n",
    "    translated = []\n",
    "    for result in decoded:\n",
    "        end = result.index('\\n') if '\\n' in result else len(result)\n",
    "        translated.append(' '.join(result[:end]))\n",
    "    return translated"
   ]
  },
  {
   "cell_type": "code",
   "execution_count": 105,
   "metadata": {
    "scrolled": true
   },
   "outputs": [
    {
     "name": "stdout",
     "output_type": "stream",
     "text": [
      "원본\n",
      "맛집 오늘의 포인트 이없다는거\n",
      "[('맛집', 'NNG'), ('오늘', 'NNG'), ('포인트', 'NNP'), ('이', 'NP'), ('없', 'VA'), ('거', 'NNB')]\n",
      "결과\n",
      "역시 꽤 끝 랑 뭐 너무\n",
      "\n",
      "원본\n",
      "오늘 하늘 너무 이쁘다\n",
      "[('오늘', 'NNG'), ('하늘', 'NNG'), ('너무', 'MAG'), ('이쁘', 'VA')]\n",
      "결과\n",
      "오늘 하늘 너무\n",
      "\n",
      "원본\n",
      "우오오오오옹 전역 일차 날씨 짱좋다아아아아\n",
      "[('우', 'NNP'), ('오오', 'NNP'), ('오오', 'NNP'), ('옹', 'NNB'), ('전역', 'NNP'), ('일차', 'NNG'), ('날씨', 'NNP'), ('짱', 'MAG'), ('좋', 'VA'), ('아아', 'NNG'), ('아아', 'NNP')]\n",
      "결과\n",
      "우 우 복의 사람 전역 이 전역 쓰 어도 아아 아아\n",
      "\n",
      "원본\n",
      "하늘이너무이쁘다\n",
      "[('하늘', 'NNG'), ('너무', 'MAG'), ('이쁘', 'VA')]\n",
      "결과\n",
      "하늘 이 하늘\n",
      "\n",
      "원본\n",
      "하늘이 맑고 푸르다\n",
      "[('하늘', 'NNG'), ('맑', 'VA'), ('푸르', 'VA')]\n",
      "결과\n",
      "오랜만 하늘 맑 푸르\n",
      "\n",
      "원본\n",
      "얼마만에 이런 하늘이야 넘 좋다\n",
      "[('얼마', 'NNG'), ('이런', 'MM'), ('하늘', 'NNG'), ('넘', 'NNG'), ('좋', 'VA')]\n",
      "결과\n",
      "얼마 쌀쌀 이야 파티 ㄴ 엄마 어\n",
      "\n",
      "원본\n",
      "오랜만에 맑은 하늘\n",
      "[('오랜만', 'NNG'), ('맑', 'VA'), ('하늘', 'NNG')]\n",
      "결과\n",
      "오랜만 하늘 맑 고\n",
      "\n",
      "원본\n",
      "오우 오늘 무슨일 이쁘다증말 잠시김밥사러 산책 쫌만걸어도배가너무땡겨\n",
      "[('오우', 'NNP'), ('오늘', 'NNG'), ('무슨', 'MM'), ('일', 'NNP'), ('이쁘', 'VA'), ('증말', 'NNG'), ('잠시', 'NNG'), ('김밥', 'NNP'), ('살', 'VV'), ('산책', 'NNP'), ('쪼', 'VV'), ('걸', 'VV'), ('어도', 'NNP'), ('배가', 'NNG'), ('너무', 'MAG'), ('땡기', 'VV')]\n",
      "결과\n",
      "오우 오우 끼 높 나 다 어도 고 좋 내려가 김밥 들 ㄹ 역시 던지 로 형 어도 듯\n",
      "\n",
      "원본\n",
      "오늘 하늘이 너무 이뻐서 시간차로 계속 찍게되네\n",
      "[('오늘', 'NNG'), ('하늘', 'NNG'), ('너무', 'MAG'), ('이쁘', 'VA'), ('시간', 'NNG'), ('차로', 'NNP'), ('계속', 'MAG'), ('찍', 'VV'), ('되', 'VV')]\n",
      "결과\n",
      "오늘 등원 이야 쉬 이쁘 너무 지만 그래도 도 네 해 다 네\n",
      "\n",
      "원본\n",
      "아니 이게 무슨일이야 이렇게 맑을 수 있어 산이란 산은 내눈에 다보이고 하늘에 떠있는 저 수많은 구름들은 솜사탕 같아서 다 찢어서 먹고 싶어 생각만해도 달콤달콤 최고의 날씨\n",
      "[('아니', 'MAG'), ('이', 'VV'), ('무슨', 'MM'), ('일', 'NNP'), ('이렇', 'VA'), ('맑', 'VA'), ('수', 'NNB'), ('있', 'VV'), ('산', 'NNG'), ('산', 'NNG'), ('내', 'NP'), ('눈', 'NNG'), ('다', 'MAG'), ('보이', 'VV'), ('하늘', 'NNG'), ('뜨', 'VV'), ('있', 'VX'), ('저', 'MM'), ('수많', 'VA'), ('구름', 'NNG'), ('솜사탕', 'NNP'), ('같', 'VA'), ('다', 'MAG'), ('찢', 'VV'), ('먹', 'VV'), ('싶', 'VX'), ('생각', 'NNG'), ('만해', 'NNP'), ('달콤', 'XR'), ('달콤', 'XR'), ('최고', 'NNG'), ('날씨', 'NNP')]\n",
      "결과\n",
      "아니 아니 휴가 쉬 나 의 하루하루 스럽 와 도 주 어 시간 이 세 가족 은 함께 그래도 은 함께 어 이 어 내내 에 없 에 내 어 은 어도 지금 날 ㄹ 지금 너무 너무 한 너무 지금 ㄴ 지금 너무 는 는 지금 지금 너무 지금 지금 도\n",
      "\n"
     ]
    }
   ],
   "source": [
    "sentences = sentence_data[0:10]\n",
    "    \n",
    "for i, (s, p) in enumerate(zip(sentences, translate(sentences))):\n",
    "    print('원본')\n",
    "    print(s[1:-1])\n",
    "    print(sentence_tags[i])\n",
    "    print('결과')\n",
    "    print(p)\n",
    "    print()"
   ]
  },
  {
   "cell_type": "code",
   "execution_count": 44,
   "metadata": {
    "scrolled": true
   },
   "outputs": [
    {
     "data": {
      "text/plain": [
       "array(['\\t맛집 오늘의 포인트 이없다는거\\n'], dtype=object)"
      ]
     },
     "execution_count": 44,
     "metadata": {},
     "output_type": "execute_result"
    }
   ],
   "source": [
    "sentences"
   ]
  },
  {
   "cell_type": "code",
   "execution_count": 39,
   "metadata": {},
   "outputs": [
    {
     "data": {
      "text/plain": [
       "'가'"
      ]
     },
     "execution_count": 39,
     "metadata": {},
     "output_type": "execute_result"
    }
   ],
   "source": []
  },
  {
   "cell_type": "code",
   "execution_count": 13,
   "metadata": {},
   "outputs": [],
   "source": [
    "sess.close()"
   ]
  },
  {
   "cell_type": "code",
   "execution_count": 16,
   "metadata": {},
   "outputs": [
    {
     "data": {
      "text/plain": [
       "(1, 14991)"
      ]
     },
     "execution_count": 16,
     "metadata": {},
     "output_type": "execute_result"
    }
   ],
   "source": [
    "enc_in.shape"
   ]
  },
  {
   "cell_type": "code",
   "execution_count": null,
   "metadata": {},
   "outputs": [],
   "source": []
  },
  {
   "cell_type": "code",
   "execution_count": 21,
   "metadata": {
    "scrolled": true
   },
   "outputs": [],
   "source": [
    "sentences = sentence_data[:1]\n",
    "\n",
    "original_tags = [komoran.pos(s) for s in sentences]\n",
    "sentence_tags = []\n",
    "\n",
    "for tags in original_tags:\n",
    "    sentence_tag = []\n",
    "    for tag in tags:\n",
    "        for use_tag in use_tags:\n",
    "            if tag[1].startswith(use_tag):\n",
    "                sentence_tag.append(tag)\n",
    "    sentence_tags.append(sentence_tag)\n",
    "\n",
    "enc_in = np.zeros(shape=(len(sentence_tags), n_image_words), dtype='float32')\n",
    "\n",
    "for i, tags in enumerate(sentence_tags):\n",
    "    for tag in tags:\n",
    "        enc_in[i, w2i_image[tag[0]]] += 1\n",
    "\n",
    "dec_in = np.zeros(shape=(len(sentence_tags), max_seq_length, n_output_chars), dtype='float32')\n",
    "dec_in[:, 0, c2i['\\t']] = 1.\n",
    "\n",
    "results = sess.run(model,\n",
    "                  feed_dict={enc_words: enc_in,\n",
    "                             dec_inputs: dec_in})\n",
    "\n",
    "# decoded = [[c2i[i] for i in result] for result in results]\n",
    "# translated = []\n",
    "# for result in decoded:\n",
    "#     end = result.index['\\n'] if '\\n' in result else len(result)\n",
    "#     translated.append(''.join(result[:end]))\n",
    "# translated"
   ]
  },
  {
   "cell_type": "code",
   "execution_count": 21,
   "metadata": {},
   "outputs": [
    {
     "ename": "InternalError",
     "evalue": "2 root error(s) found.\n  (0) Internal: Dst tensor is not initialized.\n\t [[{{node _arg_Placeholder_1_0_1}}]]\n  (1) Internal: Dst tensor is not initialized.\n\t [[{{node _arg_Placeholder_1_0_1}}]]\n\t [[ArgMax_1/_149]]\n0 successful operations.\n0 derived errors ignored.",
     "output_type": "error",
     "traceback": [
      "\u001b[0;31m---------------------------------------------------------------------------\u001b[0m",
      "\u001b[0;31mInternalError\u001b[0m                             Traceback (most recent call last)",
      "\u001b[0;32m~/venv_capstone/lib/python3.7/site-packages/tensorflow/python/client/session.py\u001b[0m in \u001b[0;36m_do_call\u001b[0;34m(self, fn, *args)\u001b[0m\n\u001b[1;32m   1364\u001b[0m     \u001b[0;32mtry\u001b[0m\u001b[0;34m:\u001b[0m\u001b[0;34m\u001b[0m\u001b[0;34m\u001b[0m\u001b[0m\n\u001b[0;32m-> 1365\u001b[0;31m       \u001b[0;32mreturn\u001b[0m \u001b[0mfn\u001b[0m\u001b[0;34m(\u001b[0m\u001b[0;34m*\u001b[0m\u001b[0margs\u001b[0m\u001b[0;34m)\u001b[0m\u001b[0;34m\u001b[0m\u001b[0;34m\u001b[0m\u001b[0m\n\u001b[0m\u001b[1;32m   1366\u001b[0m     \u001b[0;32mexcept\u001b[0m \u001b[0merrors\u001b[0m\u001b[0;34m.\u001b[0m\u001b[0mOpError\u001b[0m \u001b[0;32mas\u001b[0m \u001b[0me\u001b[0m\u001b[0;34m:\u001b[0m\u001b[0;34m\u001b[0m\u001b[0;34m\u001b[0m\u001b[0m\n",
      "\u001b[0;32m~/venv_capstone/lib/python3.7/site-packages/tensorflow/python/client/session.py\u001b[0m in \u001b[0;36m_run_fn\u001b[0;34m(feed_dict, fetch_list, target_list, options, run_metadata)\u001b[0m\n\u001b[1;32m   1349\u001b[0m       return self._call_tf_sessionrun(options, feed_dict, fetch_list,\n\u001b[0;32m-> 1350\u001b[0;31m                                       target_list, run_metadata)\n\u001b[0m\u001b[1;32m   1351\u001b[0m \u001b[0;34m\u001b[0m\u001b[0m\n",
      "\u001b[0;32m~/venv_capstone/lib/python3.7/site-packages/tensorflow/python/client/session.py\u001b[0m in \u001b[0;36m_call_tf_sessionrun\u001b[0;34m(self, options, feed_dict, fetch_list, target_list, run_metadata)\u001b[0m\n\u001b[1;32m   1442\u001b[0m                                             \u001b[0mfetch_list\u001b[0m\u001b[0;34m,\u001b[0m \u001b[0mtarget_list\u001b[0m\u001b[0;34m,\u001b[0m\u001b[0;34m\u001b[0m\u001b[0;34m\u001b[0m\u001b[0m\n\u001b[0;32m-> 1443\u001b[0;31m                                             run_metadata)\n\u001b[0m\u001b[1;32m   1444\u001b[0m \u001b[0;34m\u001b[0m\u001b[0m\n",
      "\u001b[0;31mInternalError\u001b[0m: 2 root error(s) found.\n  (0) Internal: Dst tensor is not initialized.\n\t [[{{node _arg_Placeholder_1_0_1}}]]\n  (1) Internal: Dst tensor is not initialized.\n\t [[{{node _arg_Placeholder_1_0_1}}]]\n\t [[ArgMax_1/_149]]\n0 successful operations.\n0 derived errors ignored.",
      "\nDuring handling of the above exception, another exception occurred:\n",
      "\u001b[0;31mInternalError\u001b[0m                             Traceback (most recent call last)",
      "\u001b[0;32m<ipython-input-21-871e2a818f6a>\u001b[0m in \u001b[0;36m<module>\u001b[0;34m\u001b[0m\n\u001b[0;32m----> 1\u001b[0;31m \u001b[0msess\u001b[0m\u001b[0;34m.\u001b[0m\u001b[0mrun\u001b[0m\u001b[0;34m(\u001b[0m\u001b[0mprediction\u001b[0m\u001b[0;34m,\u001b[0m \u001b[0mfeed_dict\u001b[0m\u001b[0;34m=\u001b[0m\u001b[0;34m{\u001b[0m\u001b[0menc_words\u001b[0m\u001b[0;34m:\u001b[0m \u001b[0menc_in\u001b[0m\u001b[0;34m,\u001b[0m \u001b[0mdec_inputs\u001b[0m\u001b[0;34m:\u001b[0m \u001b[0mdec_in\u001b[0m\u001b[0;34m}\u001b[0m\u001b[0;34m)\u001b[0m\u001b[0;34m\u001b[0m\u001b[0;34m\u001b[0m\u001b[0m\n\u001b[0m",
      "\u001b[0;32m~/venv_capstone/lib/python3.7/site-packages/tensorflow/python/client/session.py\u001b[0m in \u001b[0;36mrun\u001b[0;34m(self, fetches, feed_dict, options, run_metadata)\u001b[0m\n\u001b[1;32m    956\u001b[0m     \u001b[0;32mtry\u001b[0m\u001b[0;34m:\u001b[0m\u001b[0;34m\u001b[0m\u001b[0;34m\u001b[0m\u001b[0m\n\u001b[1;32m    957\u001b[0m       result = self._run(None, fetches, feed_dict, options_ptr,\n\u001b[0;32m--> 958\u001b[0;31m                          run_metadata_ptr)\n\u001b[0m\u001b[1;32m    959\u001b[0m       \u001b[0;32mif\u001b[0m \u001b[0mrun_metadata\u001b[0m\u001b[0;34m:\u001b[0m\u001b[0;34m\u001b[0m\u001b[0;34m\u001b[0m\u001b[0m\n\u001b[1;32m    960\u001b[0m         \u001b[0mproto_data\u001b[0m \u001b[0;34m=\u001b[0m \u001b[0mtf_session\u001b[0m\u001b[0;34m.\u001b[0m\u001b[0mTF_GetBuffer\u001b[0m\u001b[0;34m(\u001b[0m\u001b[0mrun_metadata_ptr\u001b[0m\u001b[0;34m)\u001b[0m\u001b[0;34m\u001b[0m\u001b[0;34m\u001b[0m\u001b[0m\n",
      "\u001b[0;32m~/venv_capstone/lib/python3.7/site-packages/tensorflow/python/client/session.py\u001b[0m in \u001b[0;36m_run\u001b[0;34m(self, handle, fetches, feed_dict, options, run_metadata)\u001b[0m\n\u001b[1;32m   1179\u001b[0m     \u001b[0;32mif\u001b[0m \u001b[0mfinal_fetches\u001b[0m \u001b[0;32mor\u001b[0m \u001b[0mfinal_targets\u001b[0m \u001b[0;32mor\u001b[0m \u001b[0;34m(\u001b[0m\u001b[0mhandle\u001b[0m \u001b[0;32mand\u001b[0m \u001b[0mfeed_dict_tensor\u001b[0m\u001b[0;34m)\u001b[0m\u001b[0;34m:\u001b[0m\u001b[0;34m\u001b[0m\u001b[0;34m\u001b[0m\u001b[0m\n\u001b[1;32m   1180\u001b[0m       results = self._do_run(handle, final_targets, final_fetches,\n\u001b[0;32m-> 1181\u001b[0;31m                              feed_dict_tensor, options, run_metadata)\n\u001b[0m\u001b[1;32m   1182\u001b[0m     \u001b[0;32melse\u001b[0m\u001b[0;34m:\u001b[0m\u001b[0;34m\u001b[0m\u001b[0;34m\u001b[0m\u001b[0m\n\u001b[1;32m   1183\u001b[0m       \u001b[0mresults\u001b[0m \u001b[0;34m=\u001b[0m \u001b[0;34m[\u001b[0m\u001b[0;34m]\u001b[0m\u001b[0;34m\u001b[0m\u001b[0;34m\u001b[0m\u001b[0m\n",
      "\u001b[0;32m~/venv_capstone/lib/python3.7/site-packages/tensorflow/python/client/session.py\u001b[0m in \u001b[0;36m_do_run\u001b[0;34m(self, handle, target_list, fetch_list, feed_dict, options, run_metadata)\u001b[0m\n\u001b[1;32m   1357\u001b[0m     \u001b[0;32mif\u001b[0m \u001b[0mhandle\u001b[0m \u001b[0;32mis\u001b[0m \u001b[0;32mNone\u001b[0m\u001b[0;34m:\u001b[0m\u001b[0;34m\u001b[0m\u001b[0;34m\u001b[0m\u001b[0m\n\u001b[1;32m   1358\u001b[0m       return self._do_call(_run_fn, feeds, fetches, targets, options,\n\u001b[0;32m-> 1359\u001b[0;31m                            run_metadata)\n\u001b[0m\u001b[1;32m   1360\u001b[0m     \u001b[0;32melse\u001b[0m\u001b[0;34m:\u001b[0m\u001b[0;34m\u001b[0m\u001b[0;34m\u001b[0m\u001b[0m\n\u001b[1;32m   1361\u001b[0m       \u001b[0;32mreturn\u001b[0m \u001b[0mself\u001b[0m\u001b[0;34m.\u001b[0m\u001b[0m_do_call\u001b[0m\u001b[0;34m(\u001b[0m\u001b[0m_prun_fn\u001b[0m\u001b[0;34m,\u001b[0m \u001b[0mhandle\u001b[0m\u001b[0;34m,\u001b[0m \u001b[0mfeeds\u001b[0m\u001b[0;34m,\u001b[0m \u001b[0mfetches\u001b[0m\u001b[0;34m)\u001b[0m\u001b[0;34m\u001b[0m\u001b[0;34m\u001b[0m\u001b[0m\n",
      "\u001b[0;32m~/venv_capstone/lib/python3.7/site-packages/tensorflow/python/client/session.py\u001b[0m in \u001b[0;36m_do_call\u001b[0;34m(self, fn, *args)\u001b[0m\n\u001b[1;32m   1382\u001b[0m                     \u001b[0;34m'\\nsession_config.graph_options.rewrite_options.'\u001b[0m\u001b[0;34m\u001b[0m\u001b[0;34m\u001b[0m\u001b[0m\n\u001b[1;32m   1383\u001b[0m                     'disable_meta_optimizer = True')\n\u001b[0;32m-> 1384\u001b[0;31m       \u001b[0;32mraise\u001b[0m \u001b[0mtype\u001b[0m\u001b[0;34m(\u001b[0m\u001b[0me\u001b[0m\u001b[0;34m)\u001b[0m\u001b[0;34m(\u001b[0m\u001b[0mnode_def\u001b[0m\u001b[0;34m,\u001b[0m \u001b[0mop\u001b[0m\u001b[0;34m,\u001b[0m \u001b[0mmessage\u001b[0m\u001b[0;34m)\u001b[0m\u001b[0;34m\u001b[0m\u001b[0;34m\u001b[0m\u001b[0m\n\u001b[0m\u001b[1;32m   1385\u001b[0m \u001b[0;34m\u001b[0m\u001b[0m\n\u001b[1;32m   1386\u001b[0m   \u001b[0;32mdef\u001b[0m \u001b[0m_extend_graph\u001b[0m\u001b[0;34m(\u001b[0m\u001b[0mself\u001b[0m\u001b[0;34m)\u001b[0m\u001b[0;34m:\u001b[0m\u001b[0;34m\u001b[0m\u001b[0;34m\u001b[0m\u001b[0m\n",
      "\u001b[0;31mInternalError\u001b[0m: 2 root error(s) found.\n  (0) Internal: Dst tensor is not initialized.\n\t [[{{node _arg_Placeholder_1_0_1}}]]\n  (1) Internal: Dst tensor is not initialized.\n\t [[{{node _arg_Placeholder_1_0_1}}]]\n\t [[ArgMax_1/_149]]\n0 successful operations.\n0 derived errors ignored."
     ]
    }
   ],
   "source": [
    "sess.run(prediction, feed_dict={enc_words: enc_in, dec_inputs: dec_in})"
   ]
  },
  {
   "cell_type": "code",
   "execution_count": 14,
   "metadata": {},
   "outputs": [
    {
     "name": "stdout",
     "output_type": "stream",
     "text": [
      "WARNING:tensorflow:From /home/svclaw2000/venv_capstone/lib/python3.7/site-packages/tensorflow/python/compat/v2_compat.py:96: disable_resource_variables (from tensorflow.python.ops.variable_scope) is deprecated and will be removed in a future version.\n",
      "Instructions for updating:\n",
      "non-resource variables are not supported in the long term\n"
     ]
    }
   ],
   "source": [
    "import tensorflow.compat.v1 as tf\n",
    "tf.disable_v2_behavior()\n",
    "\n",
    "tf.reset_default_graph()"
   ]
  },
  {
   "cell_type": "code",
   "execution_count": 28,
   "metadata": {},
   "outputs": [],
   "source": [
    "train_image = image_data[:train_size]\n",
    "train_words = image_word_data[:train_size]\n",
    "valid_image = image_data[train_size:train_size+valid_size]\n",
    "valid_words = image_word_data[train_size:train_size+valid_size]"
   ]
  },
  {
   "cell_type": "code",
   "execution_count": 20,
   "metadata": {},
   "outputs": [
    {
     "name": "stdout",
     "output_type": "stream",
     "text": [
      "Device mapping:\n",
      "/job:localhost/replica:0/task:0/device:XLA_CPU:0 -> device: XLA_CPU device\n",
      "/job:localhost/replica:0/task:0/device:XLA_GPU:0 -> device: XLA_GPU device\n",
      "/job:localhost/replica:0/task:0/device:GPU:0 -> device: 0, name: GeForce RTX 2080 Ti, pci bus id: 0000:68:00.0, compute capability: 7.5\n",
      "\n"
     ]
    }
   ],
   "source": [
    "with tf.device('/gpu:0'):\n",
    "    sess = tf.Session(config=tf.ConfigProto(allow_soft_placement=True, \n",
    "                                            log_device_placement=True))\n",
    "    sess.run(tf.global_variables_initializer())"
   ]
  },
  {
   "cell_type": "code",
   "execution_count": 17,
   "metadata": {},
   "outputs": [
    {
     "name": "stdout",
     "output_type": "stream",
     "text": [
      "WARNING:tensorflow:From /home/svclaw2000/venv_capstone/lib/python3.7/site-packages/tensorflow/python/util/dispatch.py:201: calling dropout (from tensorflow.python.ops.nn_ops) with keep_prob is deprecated and will be removed in a future version.\n",
      "Instructions for updating:\n",
      "Please use `rate` instead of `keep_prob`. Rate should be set to `rate = 1 - keep_prob`.\n"
     ]
    }
   ],
   "source": [
    "# 이미지 (CNN)\n",
    "\n",
    "X = tf.placeholder(tf.float32, shape=[None, target_size, target_size, 3])\n",
    "Y = tf.placeholder(tf.float32, shape=[None, n_image_words])\n",
    "\n",
    "n_conv_1 = 64\n",
    "k_conv_1 = 5\n",
    "W_conv_1 = tf.Variable(tf.truncated_normal(shape=[k_conv_1,k_conv_1,3,n_conv_1], stddev=5e-2))\n",
    "b_conv_1 = tf.Variable(tf.constant(0.1, shape=[n_conv_1]))\n",
    "h_conv_1 = tf.nn.relu(tf.nn.conv2d(X, W_conv_1, strides=[1,1,1,1], padding='SAME') + b_conv_1)\n",
    "h_pool_1 = tf.nn.max_pool(h_conv_1, ksize=[1,4,4,1], strides=[1,4,4,1], padding='SAME')\n",
    "\n",
    "n_conv_2 = 64\n",
    "k_conv_2 = 5\n",
    "W_conv_2 = tf.Variable(tf.truncated_normal(shape=[k_conv_2,k_conv_2,n_conv_1,n_conv_2], stddev=5e-2))\n",
    "b_conv_2 = tf.Variable(tf.constant(0.1, shape=[n_conv_2]))\n",
    "h_conv_2 = tf.nn.relu(tf.nn.conv2d(h_pool_1, W_conv_2, strides=[1,1,1,1], padding='SAME') + b_conv_2)\n",
    "h_pool_2 = tf.nn.max_pool(h_conv_2, ksize=[1,4,4,1], strides=[1,4,4,1], padding='SAME')\n",
    "\n",
    "n_conv_3 = 128\n",
    "k_conv_3 = 3\n",
    "W_conv_3 = tf.Variable(tf.truncated_normal(shape=[k_conv_3,k_conv_3,n_conv_2,n_conv_3], stddev=5e-2))\n",
    "b_conv_3 = tf.Variable(tf.constant(0.1, shape=[n_conv_3]))\n",
    "h_conv_3 = tf.nn.relu(tf.nn.conv2d(h_pool_2, W_conv_3, strides=[1,1,1,1], padding='SAME') + b_conv_3)\n",
    "h_pool_3 = tf.nn.max_pool(h_conv_3, ksize=[1,4,4,1], strides=[1,4,4,1], padding='SAME')\n",
    "\n",
    "n_conv_4 = 128\n",
    "k_conv_4 = 3\n",
    "W_conv_4 = tf.Variable(tf.truncated_normal(shape=[k_conv_4,k_conv_4,n_conv_3,n_conv_4], stddev=5e-2))\n",
    "b_conv_4 = tf.Variable(tf.constant(0.1, shape=[n_conv_4]))\n",
    "h_conv_4 = tf.nn.relu(tf.nn.conv2d(h_pool_3, W_conv_4, strides=[1,1,1,1], padding='SAME') + b_conv_4)\n",
    "\n",
    "n_conv_5 = 128\n",
    "k_conv_5 = 3\n",
    "W_conv_5 = tf.Variable(tf.truncated_normal(shape=[k_conv_5,k_conv_5,n_conv_4,n_conv_5], stddev=5e-2))\n",
    "b_conv_5 = tf.Variable(tf.constant(0.1, shape=[n_conv_5]))\n",
    "h_conv_5 = tf.nn.relu(tf.nn.conv2d(h_conv_4, W_conv_5, strides=[1,1,1,1], padding='SAME') + b_conv_5)\n",
    "h_conv_5_flat = tf.reshape(h_conv_5, [-1, h_conv_5.shape[1]*h_conv_5.shape[2]*h_conv_5.shape[3]])\n",
    "\n",
    "n_fc_1 = 256\n",
    "k_conv_1 = 5\n",
    "W_fc_1 = tf.Variable(tf.truncated_normal(shape=[h_conv_5_flat.shape[1], n_fc_1], stddev=5e-2))\n",
    "b_fc_1 = tf.Variable(tf.constant(0.1, shape=[n_fc_1]))\n",
    "h_fc_1 = tf.nn.relu(tf.matmul(h_conv_5_flat, W_fc_1) + b_fc_1)\n",
    "\n",
    "h_fc_1_drop = tf.nn.dropout(h_fc_1, 0.8)\n",
    "\n",
    "W_final = tf.Variable(tf.truncated_normal(shape=[n_fc_1, n_image_words], stddev=5e-2))\n",
    "b_final = tf.Variable(tf.constant(0.1, shape=[n_image_words]))\n",
    "model = tf.nn.relu(tf.matmul(h_fc_1_drop, W_final) + b_final)\n",
    "\n",
    "cost = tf.reduce_mean(tf.square(model - Y))\n",
    "optimizer = tf.train.AdamOptimizer(learning_rate).minimize(cost)"
   ]
  },
  {
   "cell_type": "code",
   "execution_count": 44,
   "metadata": {
    "scrolled": true
   },
   "outputs": [
    {
     "name": "stdout",
     "output_type": "stream",
     "text": [
      "Epoch: 0001 Cost: 0.005442 Valid Cost: 0.005904\n",
      "Epoch: 0002 Cost: 0.005441 Valid Cost: 0.005902\n",
      "Epoch: 0003 Cost: 0.005439 Valid Cost: 0.005900\n",
      "Epoch: 0004 Cost: 0.005437 Valid Cost: 0.005898\n",
      "Epoch: 0005 Cost: 0.005435 Valid Cost: 0.005897\n",
      "Epoch: 0006 Cost: 0.005434 Valid Cost: 0.005895\n",
      "Epoch: 0007 Cost: 0.005432 Valid Cost: 0.005893\n",
      "Epoch: 0008 Cost: 0.005430 Valid Cost: 0.005891\n",
      "Epoch: 0009 Cost: 0.005428 Valid Cost: 0.005890\n",
      "Epoch: 0010 Cost: 0.005426 Valid Cost: 0.005888\n",
      "Epoch: 0011 Cost: 0.005425 Valid Cost: 0.005886\n",
      "Epoch: 0012 Cost: 0.005423 Valid Cost: 0.005884\n",
      "Epoch: 0013 Cost: 0.005421 Valid Cost: 0.005883\n",
      "Epoch: 0014 Cost: 0.005419 Valid Cost: 0.005881\n",
      "Epoch: 0015 Cost: 0.005418 Valid Cost: 0.005879\n",
      "Epoch: 0016 Cost: 0.005416 Valid Cost: 0.005877\n",
      "Epoch: 0017 Cost: 0.005414 Valid Cost: 0.005876\n",
      "Epoch: 0018 Cost: 0.005413 Valid Cost: 0.005874\n",
      "Epoch: 0019 Cost: 0.005411 Valid Cost: 0.005872\n",
      "Epoch: 0020 Cost: 0.005409 Valid Cost: 0.005871\n",
      "Epoch: 0021 Cost: 0.005407 Valid Cost: 0.005869\n",
      "Epoch: 0022 Cost: 0.005406 Valid Cost: 0.005867\n",
      "Epoch: 0023 Cost: 0.005404 Valid Cost: 0.005865\n",
      "Epoch: 0024 Cost: 0.005402 Valid Cost: 0.005864\n",
      "Epoch: 0025 Cost: 0.005401 Valid Cost: 0.005862\n",
      "Epoch: 0026 Cost: 0.005399 Valid Cost: 0.005860\n",
      "Epoch: 0027 Cost: 0.005397 Valid Cost: 0.005859\n",
      "Epoch: 0028 Cost: 0.005396 Valid Cost: 0.005857\n",
      "Epoch: 0029 Cost: 0.005394 Valid Cost: 0.005855\n",
      "Epoch: 0030 Cost: 0.005392 Valid Cost: 0.005854\n",
      "Epoch: 0031 Cost: 0.005391 Valid Cost: 0.005852\n",
      "Epoch: 0032 Cost: 0.005389 Valid Cost: 0.005850\n",
      "Epoch: 0033 Cost: 0.005387 Valid Cost: 0.005849\n",
      "Epoch: 0034 Cost: 0.005386 Valid Cost: 0.005847\n",
      "Epoch: 0035 Cost: 0.005384 Valid Cost: 0.005846\n",
      "Epoch: 0036 Cost: 0.005382 Valid Cost: 0.005844\n",
      "Epoch: 0037 Cost: 0.005381 Valid Cost: 0.005842\n",
      "Epoch: 0038 Cost: 0.005379 Valid Cost: 0.005841\n",
      "Epoch: 0039 Cost: 0.005378 Valid Cost: 0.005839\n",
      "Epoch: 0040 Cost: 0.005376 Valid Cost: 0.005838\n",
      "Epoch: 0041 Cost: 0.005374 Valid Cost: 0.005836\n",
      "Epoch: 0042 Cost: 0.005373 Valid Cost: 0.005834\n",
      "Epoch: 0043 Cost: 0.005371 Valid Cost: 0.005833\n",
      "Epoch: 0044 Cost: 0.005370 Valid Cost: 0.005831\n",
      "Epoch: 0045 Cost: 0.005368 Valid Cost: 0.005830\n",
      "Epoch: 0046 Cost: 0.005367 Valid Cost: 0.005828\n",
      "Epoch: 0047 Cost: 0.005365 Valid Cost: 0.005827\n",
      "Epoch: 0048 Cost: 0.005363 Valid Cost: 0.005825\n",
      "Epoch: 0049 Cost: 0.005362 Valid Cost: 0.005823\n",
      "Epoch: 0050 Cost: 0.005360 Valid Cost: 0.005822\n",
      "Epoch: 0051 Cost: 0.005359 Valid Cost: 0.005820\n",
      "Epoch: 0052 Cost: 0.005357 Valid Cost: 0.005819\n",
      "Epoch: 0053 Cost: 0.005356 Valid Cost: 0.005817\n",
      "Epoch: 0054 Cost: 0.005354 Valid Cost: 0.005816\n",
      "Epoch: 0055 Cost: 0.005353 Valid Cost: 0.005814\n",
      "Epoch: 0056 Cost: 0.005351 Valid Cost: 0.005813\n",
      "Epoch: 0057 Cost: 0.005350 Valid Cost: 0.005811\n",
      "Epoch: 0058 Cost: 0.005348 Valid Cost: 0.005810\n",
      "Epoch: 0059 Cost: 0.005347 Valid Cost: 0.005808\n",
      "Epoch: 0060 Cost: 0.005345 Valid Cost: 0.005807\n",
      "Epoch: 0061 Cost: 0.005344 Valid Cost: 0.005805\n",
      "Epoch: 0062 Cost: 0.005342 Valid Cost: 0.005804\n",
      "Epoch: 0063 Cost: 0.005341 Valid Cost: 0.005803\n",
      "Epoch: 0064 Cost: 0.005339 Valid Cost: 0.005801\n",
      "Epoch: 0065 Cost: 0.005338 Valid Cost: 0.005800\n",
      "Epoch: 0066 Cost: 0.005336 Valid Cost: 0.005798\n",
      "Epoch: 0067 Cost: 0.005335 Valid Cost: 0.005797\n",
      "Epoch: 0068 Cost: 0.005333 Valid Cost: 0.005795\n",
      "Epoch: 0069 Cost: 0.005332 Valid Cost: 0.005794\n",
      "Epoch: 0070 Cost: 0.005331 Valid Cost: 0.005792\n",
      "Epoch: 0071 Cost: 0.005329 Valid Cost: 0.005791\n",
      "Epoch: 0072 Cost: 0.005328 Valid Cost: 0.005790\n",
      "Epoch: 0073 Cost: 0.005326 Valid Cost: 0.005788\n",
      "Epoch: 0074 Cost: 0.005325 Valid Cost: 0.005787\n",
      "Epoch: 0075 Cost: 0.005324 Valid Cost: 0.005785\n",
      "Epoch: 0076 Cost: 0.005322 Valid Cost: 0.005784\n",
      "Epoch: 0077 Cost: 0.005321 Valid Cost: 0.005783\n",
      "Epoch: 0078 Cost: 0.005319 Valid Cost: 0.005781\n",
      "Epoch: 0079 Cost: 0.005318 Valid Cost: 0.005780\n",
      "Epoch: 0080 Cost: 0.005317 Valid Cost: 0.005778\n",
      "Epoch: 0081 Cost: 0.005315 Valid Cost: 0.005777\n",
      "Epoch: 0082 Cost: 0.005314 Valid Cost: 0.005776\n",
      "Epoch: 0083 Cost: 0.005312 Valid Cost: 0.005774\n",
      "Epoch: 0084 Cost: 0.005311 Valid Cost: 0.005773\n",
      "Epoch: 0085 Cost: 0.005310 Valid Cost: 0.005772\n",
      "Epoch: 0086 Cost: 0.005308 Valid Cost: 0.005770\n",
      "Epoch: 0087 Cost: 0.005307 Valid Cost: 0.005769\n",
      "Epoch: 0088 Cost: 0.005306 Valid Cost: 0.005768\n",
      "Epoch: 0089 Cost: 0.005304 Valid Cost: 0.005766\n",
      "Epoch: 0090 Cost: 0.005303 Valid Cost: 0.005765\n",
      "Epoch: 0091 Cost: 0.005302 Valid Cost: 0.005764\n",
      "Epoch: 0092 Cost: 0.005300 Valid Cost: 0.005762\n",
      "Epoch: 0093 Cost: 0.005299 Valid Cost: 0.005761\n",
      "Epoch: 0094 Cost: 0.005298 Valid Cost: 0.005760\n",
      "Epoch: 0095 Cost: 0.005296 Valid Cost: 0.005759\n",
      "Epoch: 0096 Cost: 0.005295 Valid Cost: 0.005757\n",
      "Epoch: 0097 Cost: 0.005294 Valid Cost: 0.005756\n"
     ]
    },
    {
     "ename": "KeyboardInterrupt",
     "evalue": "",
     "output_type": "error",
     "traceback": [
      "\u001b[0;31m---------------------------------------------------------------------------\u001b[0m",
      "\u001b[0;31mKeyboardInterrupt\u001b[0m                         Traceback (most recent call last)",
      "\u001b[0;32m<ipython-input-44-cc6c44a830a7>\u001b[0m in \u001b[0;36m<module>\u001b[0;34m\u001b[0m\n\u001b[1;32m     19\u001b[0m         valid_loss = sess.run(cost, feed_dict={\n\u001b[1;32m     20\u001b[0m                 \u001b[0mX\u001b[0m\u001b[0;34m:\u001b[0m \u001b[0mbatch_image\u001b[0m\u001b[0;34m,\u001b[0m\u001b[0;34m\u001b[0m\u001b[0;34m\u001b[0m\u001b[0m\n\u001b[0;32m---> 21\u001b[0;31m                 \u001b[0mY\u001b[0m\u001b[0;34m:\u001b[0m \u001b[0mbatch_words\u001b[0m\u001b[0;34m\u001b[0m\u001b[0;34m\u001b[0m\u001b[0m\n\u001b[0m\u001b[1;32m     22\u001b[0m             })\n\u001b[1;32m     23\u001b[0m         \u001b[0mtotal_valid_loss\u001b[0m \u001b[0;34m+=\u001b[0m \u001b[0mvalid_loss\u001b[0m\u001b[0;34m\u001b[0m\u001b[0;34m\u001b[0m\u001b[0m\n",
      "\u001b[0;32m~/venv_capstone/lib/python3.7/site-packages/tensorflow/python/client/session.py\u001b[0m in \u001b[0;36mrun\u001b[0;34m(self, fetches, feed_dict, options, run_metadata)\u001b[0m\n\u001b[1;32m    956\u001b[0m     \u001b[0;32mtry\u001b[0m\u001b[0;34m:\u001b[0m\u001b[0;34m\u001b[0m\u001b[0;34m\u001b[0m\u001b[0m\n\u001b[1;32m    957\u001b[0m       result = self._run(None, fetches, feed_dict, options_ptr,\n\u001b[0;32m--> 958\u001b[0;31m                          run_metadata_ptr)\n\u001b[0m\u001b[1;32m    959\u001b[0m       \u001b[0;32mif\u001b[0m \u001b[0mrun_metadata\u001b[0m\u001b[0;34m:\u001b[0m\u001b[0;34m\u001b[0m\u001b[0;34m\u001b[0m\u001b[0m\n\u001b[1;32m    960\u001b[0m         \u001b[0mproto_data\u001b[0m \u001b[0;34m=\u001b[0m \u001b[0mtf_session\u001b[0m\u001b[0;34m.\u001b[0m\u001b[0mTF_GetBuffer\u001b[0m\u001b[0;34m(\u001b[0m\u001b[0mrun_metadata_ptr\u001b[0m\u001b[0;34m)\u001b[0m\u001b[0;34m\u001b[0m\u001b[0;34m\u001b[0m\u001b[0m\n",
      "\u001b[0;32m~/venv_capstone/lib/python3.7/site-packages/tensorflow/python/client/session.py\u001b[0m in \u001b[0;36m_run\u001b[0;34m(self, handle, fetches, feed_dict, options, run_metadata)\u001b[0m\n\u001b[1;32m   1179\u001b[0m     \u001b[0;32mif\u001b[0m \u001b[0mfinal_fetches\u001b[0m \u001b[0;32mor\u001b[0m \u001b[0mfinal_targets\u001b[0m \u001b[0;32mor\u001b[0m \u001b[0;34m(\u001b[0m\u001b[0mhandle\u001b[0m \u001b[0;32mand\u001b[0m \u001b[0mfeed_dict_tensor\u001b[0m\u001b[0;34m)\u001b[0m\u001b[0;34m:\u001b[0m\u001b[0;34m\u001b[0m\u001b[0;34m\u001b[0m\u001b[0m\n\u001b[1;32m   1180\u001b[0m       results = self._do_run(handle, final_targets, final_fetches,\n\u001b[0;32m-> 1181\u001b[0;31m                              feed_dict_tensor, options, run_metadata)\n\u001b[0m\u001b[1;32m   1182\u001b[0m     \u001b[0;32melse\u001b[0m\u001b[0;34m:\u001b[0m\u001b[0;34m\u001b[0m\u001b[0;34m\u001b[0m\u001b[0m\n\u001b[1;32m   1183\u001b[0m       \u001b[0mresults\u001b[0m \u001b[0;34m=\u001b[0m \u001b[0;34m[\u001b[0m\u001b[0;34m]\u001b[0m\u001b[0;34m\u001b[0m\u001b[0;34m\u001b[0m\u001b[0m\n",
      "\u001b[0;32m~/venv_capstone/lib/python3.7/site-packages/tensorflow/python/client/session.py\u001b[0m in \u001b[0;36m_do_run\u001b[0;34m(self, handle, target_list, fetch_list, feed_dict, options, run_metadata)\u001b[0m\n\u001b[1;32m   1357\u001b[0m     \u001b[0;32mif\u001b[0m \u001b[0mhandle\u001b[0m \u001b[0;32mis\u001b[0m \u001b[0;32mNone\u001b[0m\u001b[0;34m:\u001b[0m\u001b[0;34m\u001b[0m\u001b[0;34m\u001b[0m\u001b[0m\n\u001b[1;32m   1358\u001b[0m       return self._do_call(_run_fn, feeds, fetches, targets, options,\n\u001b[0;32m-> 1359\u001b[0;31m                            run_metadata)\n\u001b[0m\u001b[1;32m   1360\u001b[0m     \u001b[0;32melse\u001b[0m\u001b[0;34m:\u001b[0m\u001b[0;34m\u001b[0m\u001b[0;34m\u001b[0m\u001b[0m\n\u001b[1;32m   1361\u001b[0m       \u001b[0;32mreturn\u001b[0m \u001b[0mself\u001b[0m\u001b[0;34m.\u001b[0m\u001b[0m_do_call\u001b[0m\u001b[0;34m(\u001b[0m\u001b[0m_prun_fn\u001b[0m\u001b[0;34m,\u001b[0m \u001b[0mhandle\u001b[0m\u001b[0;34m,\u001b[0m \u001b[0mfeeds\u001b[0m\u001b[0;34m,\u001b[0m \u001b[0mfetches\u001b[0m\u001b[0;34m)\u001b[0m\u001b[0;34m\u001b[0m\u001b[0;34m\u001b[0m\u001b[0m\n",
      "\u001b[0;32m~/venv_capstone/lib/python3.7/site-packages/tensorflow/python/client/session.py\u001b[0m in \u001b[0;36m_do_call\u001b[0;34m(self, fn, *args)\u001b[0m\n\u001b[1;32m   1363\u001b[0m   \u001b[0;32mdef\u001b[0m \u001b[0m_do_call\u001b[0m\u001b[0;34m(\u001b[0m\u001b[0mself\u001b[0m\u001b[0;34m,\u001b[0m \u001b[0mfn\u001b[0m\u001b[0;34m,\u001b[0m \u001b[0;34m*\u001b[0m\u001b[0margs\u001b[0m\u001b[0;34m)\u001b[0m\u001b[0;34m:\u001b[0m\u001b[0;34m\u001b[0m\u001b[0;34m\u001b[0m\u001b[0m\n\u001b[1;32m   1364\u001b[0m     \u001b[0;32mtry\u001b[0m\u001b[0;34m:\u001b[0m\u001b[0;34m\u001b[0m\u001b[0;34m\u001b[0m\u001b[0m\n\u001b[0;32m-> 1365\u001b[0;31m       \u001b[0;32mreturn\u001b[0m \u001b[0mfn\u001b[0m\u001b[0;34m(\u001b[0m\u001b[0;34m*\u001b[0m\u001b[0margs\u001b[0m\u001b[0;34m)\u001b[0m\u001b[0;34m\u001b[0m\u001b[0;34m\u001b[0m\u001b[0m\n\u001b[0m\u001b[1;32m   1366\u001b[0m     \u001b[0;32mexcept\u001b[0m \u001b[0merrors\u001b[0m\u001b[0;34m.\u001b[0m\u001b[0mOpError\u001b[0m \u001b[0;32mas\u001b[0m \u001b[0me\u001b[0m\u001b[0;34m:\u001b[0m\u001b[0;34m\u001b[0m\u001b[0;34m\u001b[0m\u001b[0m\n\u001b[1;32m   1367\u001b[0m       \u001b[0mmessage\u001b[0m \u001b[0;34m=\u001b[0m \u001b[0mcompat\u001b[0m\u001b[0;34m.\u001b[0m\u001b[0mas_text\u001b[0m\u001b[0;34m(\u001b[0m\u001b[0me\u001b[0m\u001b[0;34m.\u001b[0m\u001b[0mmessage\u001b[0m\u001b[0;34m)\u001b[0m\u001b[0;34m\u001b[0m\u001b[0;34m\u001b[0m\u001b[0m\n",
      "\u001b[0;32m~/venv_capstone/lib/python3.7/site-packages/tensorflow/python/client/session.py\u001b[0m in \u001b[0;36m_run_fn\u001b[0;34m(feed_dict, fetch_list, target_list, options, run_metadata)\u001b[0m\n\u001b[1;32m   1348\u001b[0m       \u001b[0mself\u001b[0m\u001b[0;34m.\u001b[0m\u001b[0m_extend_graph\u001b[0m\u001b[0;34m(\u001b[0m\u001b[0;34m)\u001b[0m\u001b[0;34m\u001b[0m\u001b[0;34m\u001b[0m\u001b[0m\n\u001b[1;32m   1349\u001b[0m       return self._call_tf_sessionrun(options, feed_dict, fetch_list,\n\u001b[0;32m-> 1350\u001b[0;31m                                       target_list, run_metadata)\n\u001b[0m\u001b[1;32m   1351\u001b[0m \u001b[0;34m\u001b[0m\u001b[0m\n\u001b[1;32m   1352\u001b[0m     \u001b[0;32mdef\u001b[0m \u001b[0m_prun_fn\u001b[0m\u001b[0;34m(\u001b[0m\u001b[0mhandle\u001b[0m\u001b[0;34m,\u001b[0m \u001b[0mfeed_dict\u001b[0m\u001b[0;34m,\u001b[0m \u001b[0mfetch_list\u001b[0m\u001b[0;34m)\u001b[0m\u001b[0;34m:\u001b[0m\u001b[0;34m\u001b[0m\u001b[0;34m\u001b[0m\u001b[0m\n",
      "\u001b[0;32m~/venv_capstone/lib/python3.7/site-packages/tensorflow/python/client/session.py\u001b[0m in \u001b[0;36m_call_tf_sessionrun\u001b[0;34m(self, options, feed_dict, fetch_list, target_list, run_metadata)\u001b[0m\n\u001b[1;32m   1441\u001b[0m     return tf_session.TF_SessionRun_wrapper(self._session, options, feed_dict,\n\u001b[1;32m   1442\u001b[0m                                             \u001b[0mfetch_list\u001b[0m\u001b[0;34m,\u001b[0m \u001b[0mtarget_list\u001b[0m\u001b[0;34m,\u001b[0m\u001b[0;34m\u001b[0m\u001b[0;34m\u001b[0m\u001b[0m\n\u001b[0;32m-> 1443\u001b[0;31m                                             run_metadata)\n\u001b[0m\u001b[1;32m   1444\u001b[0m \u001b[0;34m\u001b[0m\u001b[0m\n\u001b[1;32m   1445\u001b[0m   \u001b[0;32mdef\u001b[0m \u001b[0m_call_tf_sessionprun\u001b[0m\u001b[0;34m(\u001b[0m\u001b[0mself\u001b[0m\u001b[0;34m,\u001b[0m \u001b[0mhandle\u001b[0m\u001b[0;34m,\u001b[0m \u001b[0mfeed_dict\u001b[0m\u001b[0;34m,\u001b[0m \u001b[0mfetch_list\u001b[0m\u001b[0;34m)\u001b[0m\u001b[0;34m:\u001b[0m\u001b[0;34m\u001b[0m\u001b[0;34m\u001b[0m\u001b[0m\n",
      "\u001b[0;31mKeyboardInterrupt\u001b[0m: "
     ]
    }
   ],
   "source": [
    "for epoch in range(total_epoch):\n",
    "    total_loss = 0\n",
    "    # for batch in tqdm(range(n_batch)):\n",
    "    for batch in range(n_batch):\n",
    "        batch_image = train_image[batch*batch_size:(batch+1)*batch_size]\n",
    "        batch_words = train_words[batch*batch_size:(batch+1)*batch_size]\n",
    "        \n",
    "        _, loss = sess.run([optimizer, cost], feed_dict={\n",
    "                X: batch_image,\n",
    "                Y: batch_words\n",
    "            })\n",
    "        \n",
    "        total_loss += loss\n",
    "    \n",
    "    total_valid_loss = 0\n",
    "    for batch in range(n_valid):\n",
    "        batch_image = valid_image[batch*batch_size:(batch+1)*batch_size]\n",
    "        batch_words = valid_words[batch*batch_size:(batch+1)*batch_size]\n",
    "        valid_loss = sess.run(cost, feed_dict={\n",
    "                X: batch_image,\n",
    "                Y: batch_words\n",
    "            })\n",
    "        total_valid_loss += valid_loss\n",
    "    \n",
    "    print('Epoch: %04d Cost: %.6f Valid Cost: %.6f' %(epoch + 1, total_loss / n_batch, valid_loss))"
   ]
  },
  {
   "cell_type": "code",
   "execution_count": 51,
   "metadata": {},
   "outputs": [],
   "source": [
    "def test(images, word_data):\n",
    "    pred_words = sess.run(model, feed_dict={\n",
    "            X: images\n",
    "        })\n",
    "    \n",
    "    y = [{image_words[i]: n for i, n in enumerate(words) if n > 0} for words in word_data]\n",
    "    p = [{image_words[i]: '%.3f' %n for i, n in enumerate(words) if n > 0} for words in pred_words]\n",
    "    \n",
    "    for _y, _p in zip(y, p):\n",
    "        print(_y)\n",
    "        print(_p)\n",
    "        print()"
   ]
  },
  {
   "cell_type": "code",
   "execution_count": 53,
   "metadata": {
    "scrolled": true
   },
   "outputs": [
    {
     "name": "stdout",
     "output_type": "stream",
     "text": [
      "{'가': 1.0, '가사': 1.0, '같': 1.0, '거리': 1.0, '격상': 1.0, '광주': 1.0, '구청': 1.0, '그대': 2.0, '기다리': 1.0, '기대': 1.0, '꼭': 1.0, '나무': 2.0, '내': 2.0, '단계': 1.0, '대교': 1.0, '되': 1.0, '되찾': 1.0, '두기': 1.0, '때': 1.0, '마스크': 1.0, '및': 1.0, '방역': 2.0, '보': 1.0, '사진': 1.0, '사회': 1.0, '수': 1.0, '수칙': 2.0, '쉬': 1.0, '양요섭': 1.0, '언제나': 1.0, '여기': 1.0, '여행': 1.0, '우리': 1.0, '위하': 1.0, '일상': 1.0, '있': 2.0, '잠시': 1.0, '전': 1.0, '주': 2.0, '준수': 2.0, '중': 1.0, '지키': 1.0, '착용': 1.0, '천주교': 1.0, '촬영': 1.0, '힘들': 1.0}\n",
      "{'ㄹ': '0.027', '가': '0.035', '가가': '0.044', '가게': '0.034', '가게웨이팅해서': '0.015', '가격': '0.034', '가계': '0.005', '가계부': '0.034', '가고싶옹': '0.002', '가고파': '0.033', '가공': '0.028', '가구': '0.029', '가까이': '0.034', '가까히': '0.008', '가깝': '0.034', '가꾸': '0.017', '가끔': '0.033', '가끔가다': '0.030', '가나': '0.027', '가나슈': '0.033', '가난': '0.015', '가념일': '0.030', '가느다랗': '0.018', '가늘': '0.034', '가늠': '0.034', '가능': '0.045', '가니': '0.034', '가니쉬': '0.034', '가도': '0.034', '가돈': '0.033', '가동': '0.033', '가두': '0.008', '가드': '0.034', '가드너스에': '0.001', '가득': '0.034', '가득가득': '0.033', '가디': '0.001', '가디건': '0.034', '가또블랑코': '0.032', '가또블랑코를': '0.025', '가또블랑코입니다': '0.034', '가라아게': '0.033', '가라앉': '0.034', '가락시장': '0.011', '가람': '0.032', '가랑비': '0.034', '가래떡': '0.034', '가량': '0.004', '가려놓으믄': '0.034', '가려움': '0.034', '가려움증': '0.034', '가렵': '0.032', '가로': '0.021', '가로등': '0.034', '가로세로': '0.009', '가로지르': '0.034', '가루': '0.034', '가르': '0.034', '가르보': '0.034', '가르치': '0.008', '가르침': '0.026', '가리': '0.025', '가리비': '0.031', '가리우': '0.034', '가리키': '0.034', '가마': '0.008', '가만': '0.011', '가만있': '0.034', '가만히': '0.009', '가망': '0.034', '가맹점': '0.044', '가면': '0.034', '가명': '0.030', '가물가물': '0.000', '가미': '0.011', '가발': '0.010', '가방': '0.027', '가변': '0.044', '가볍': '0.031', '가보': '0.031', '가보겠뜹니당': '0.025', '가봉': '0.005', '가부': '0.015', '가브리엘': '0.007', '가비엔제이': '0.034', '가쁘': '0.015', '가사': '0.002', '가사도': '0.023', '가상': '0.044', '가성': '0.031', '가세': '0.032', '가소롭': '0.011', '가속': '0.026', '가스': '0.034', '가슴': '0.017', '가슴둘레': '0.025', '가슴속': '0.034', '가슴팍': '0.020', '가습기': '0.030', '가시': '0.032', '가식': '0.034', '가실': '0.022', '가쓰오부시': '0.029', '가야': '0.044', '가야로': '0.032', '가야산': '0.032', '가약': '0.043', '가어': '0.034', '가역': '0.032', '가엽': '0.033', '가오': '0.033', '가오리': '0.034', '가오리핏으로': '0.031', '가와': '0.029', '가요': '0.033', '가요 에세이': '0.005', '가용': '0.020', '가우': '0.013', '가운': '0.030', '가운데': '0.024', '가위': '0.034', '가을': '0.031', '가을 여자': '0.027', '가을냄새날꺼같애': '0.034', '가을로': '0.033', '가을바람': '0.034', '가을밤': '0.014', '가을야상자켓': '0.034', '가을이 오네요': '0.034', '가을자켓으로': '0.029', '가을자켓촬영': '0.044', '가의': '0.034', '가이': '0.017', '가이드': '0.023', '가이드라인': '0.023', '가이드북': '0.034', '가이지': '0.010', '가인': '0.034', '가일': '0.034', '가입': '0.034', '가자': '0.033', '가자미': '0.033', '가장': '0.034', '가장자리': '0.000', '가재': '0.003', '가정': '0.019', '가져가': '0.016', '가져다주': '0.030', '가져오': '0.032', '가조도': '0.002', '가족': '0.003', '가죽': '0.034', '가죽자켓이': '0.034', '가즈아': '0.043', '가지': '0.034', '가지런': '0.007', '가지런히': '0.032', '가짜': '0.034', '가츠산도': '0.032', '가치': '0.032', '가치관': '0.032', '가택': '0.022', '가파르': '0.034', '가평': '0.003', '가평군': '0.034', '가평읍': '0.034', '가하': '0.012', '가화': '0.008', '각': '0.029', '각각': '0.034', '각광': '0.034', '각도': '0.019', '각박': '0.024', '각성': '0.034', '각암': '0.022', '각오': '0.044', '각인': '0.033', '각자': '0.033', '각종': '0.026', '각질': '0.029', '간': '0.026', '간간히': '0.034', '간격': '0.031', '간곡히': '0.016', '간과': '0.033', '간나': '0.005', '간다': '0.012', '간단': '0.034', '간단하죵': '0.028', '간단히': '0.032', '간도': '0.034', '간만': '0.032', '간반': '0.029', '간부': '0.030', '간사': '0.007', '간소': '0.029', '간식': '0.007', '간식비': '0.033', '간식쟁이러가요': '0.034', '간신히': '0.032', '간의': '0.028', '간이': '0.005', '간장': '0.032', '간적': '0.034', '간절': '0.026', '간절히': '0.034', '간접': '0.031', '간조': '0.028', '간지': '0.034', '간지럽': '0.033', '간직': '0.029', '간첩': '0.034', '간판': '0.021', '간편': '0.034', '간편히': '0.015', '간호사': '0.012', '간혹': '0.033', '갇히': '0.021', '갈': '0.044', '갈고': '0.002', '갈구': '0.033', '갈기': '0.017', '갈대': '0.033', '갈등': '0.033', '갈라': '0.034', '갈라지': '0.034', '갈래': '0.018', '갈리': '0.032', '갈릭쉬림프피자': '0.033', '갈림길': '0.034', '갈마': '0.034', '갈마동': '0.033', '갈망': '0.032', '갈매기': '0.034', '갈바': '0.034', '갈비': '0.031', '갈비살': '0.026', '갈비찜': '0.021', '갈비탕': '0.034', '갈빗대': '0.034', '갈색': '0.034', '갈수': '0.022', '갈수록': '0.031', '갈아입': '0.034', '갈아주': '0.032', '갈아타': '0.018', '갈아탔쪄여': '0.034', '갈이': '0.033', '갈치': '0.034', '갈팡질팡': '0.014', '감': '0.015', '감각': '0.034', '감격': '0.034', '감과': '0.019', '감귤': '0.019', '감금': '0.010', '감기': '0.032', '감기약': '0.032', '감당': '0.024', '감덩': '0.034', '감도': '0.004', '감독': '0.034', '감돌': '0.034', '감동': '0.034', '감면': '0.017', '감미': '0.034', '감미료': '0.034', '감사': '0.010', '감사감사드리옵니다이뿌게입으세용더베이지': '0.011', '감사제': '0.018', '감사하겟습니다': '0.023', '감사합니댱': '0.044', '감사히': '0.005', '감상': '0.033', '감성': '0.025', '감소': '0.032', '감수': '0.008', '감수성': '0.034', '감스에': '0.034', '감스에서의': '0.034', '감스와': '0.016', '감시': '0.033', '감싸': '0.017', '감안': '0.002', '감염': '0.034', '감자': '0.031', '감자빵': '0.034', '감자전': '0.034', '감자칩': '0.034', '감전': '0.037', '감정': '0.033', '감쨔넹': '0.033', '감쪽같이': '0.021', '감천': '0.033', '감초': '0.027', '감추': '0.031', '감칠맛': '0.033', '감탄': '0.044', '감태': '0.028', '감통': '0.016', '감퇴': '0.032', '감튀먹방': '0.034', '감화': '0.034', '감화력': '0.019', '감회': '0.034', '감히': '0.024', '갑': '0.012', '갑갑': '0.001', '갑니댜': '0.031', '갑니덩': '0.034', '갑부': '0.034', '갑상선': '0.008', '갑오징어': '0.033', '갑옷': '0.032', '갑인': '0.033', '갑자기': '0.023', '갑자년': '0.017', '갑작스럽': '0.021', '갑작스레': '0.009', '값': '0.018', '값어치': '0.034', '값지': '0.034', '갓': '0.044', '갓길': '0.025', '갔네뷰는': '0.034', '갔는뎁': '0.034', '갔는뒙직원분이흠그렇습니다': '0.031', '갔지롱다시': '0.028', '강': '0.034', '강건': '0.044', '강남': '0.021', '강남구': '0.034', '강남역': '0.034', '강낭콩': '0.015', '강냉이': '0.034', '강당': '0.005', '강도': '0.017', '강동': '0.026', '강력': '0.034', '강렬': '0.034', '강릉': '0.017', '강릉시': '0.034', '강림': '0.011', '강박': '0.034', '강변': '0.034', '강변로': '0.019', '강사': '0.001', '강사진': '0.026', '강산': '0.044', '강생': '0.012', '강수량': '0.033', '강습': '0.035', '강아지': '0.034', '강아지염색뭥미': '0.034', '강아지풀': '0.034', '강압': '0.031', '강연': '0.033', '강요': '0.032', '강우': '0.025', '강원': '0.034', '강원도': '0.034', '강의': '0.034', '강자': '0.034', '강정': '0.034', '강제': '0.032', '강조': '0.033', '강좌': '0.034', '강추템이랍니다': '0.007', '강츄': '0.030', '강츄입니댜': '0.042', '강하': '0.034', '강하나': '0.032', '강화': '0.004', '강화도': '0.027', '갖': '0.031', '갖가지': '0.034', '갖추': '0.015', '같': '0.034', '같아욤': '0.000', '같아지': '0.033', '같애': '0.034', '같이': '0.044', '갚': '0.031', '개': '0.024', '개강': '0.033', '개개인': '0.014', '개구리': '0.034', '개구쟁이': '0.034', '개그': '0.032', '개그우먼': '0.034', '개금역': '0.034', '개기': '0.032', '개념': '0.015', '개도': '0.017', '개떡': '0.034', '개똥': '0.005', '개똥벌레': '0.043', '개맛나게먹늠': '0.044', '개명': '0.032', '개미': '0.008', '개미핥기': '0.011', '개미핥기꺄항항': '0.044', '개발': '0.024', '개발새발': '0.025', '개별': '0.010', '개불': '0.006', '개빡친': '0.034', '개뻑뻣했는데': '0.008', '개뿔': '0.011', '개사': '0.032', '개선': '0.020', '개설': '0.034', '개성': '0.013', '개수': '0.008', '개시': '0.033', '개업': '0.025', '개운': '0.034', '개울가': '0.034', '개월': '0.032', '개이': '0.031', '개인': '0.030', '개인기': '0.034', '개인전': '0.020', '개인정보': '0.001', '개인차': '0.034', '개인화': '0.034', '개입': '0.034', '개장': '0.007', '개재': '0.034', '개체': '0.033', '개취': '0.017', '개취는': '0.034', '개통': '0.033', '개판': '0.034', '개학': '0.001', '개화기': '0.022', '객': '0.027', '객관': '0.033', '객실': '0.031', '갠츈': '0.032', '갤러리': '0.003', '갤럭시': '0.018', '갬덩': '0.008', '갬덩의': '0.033', '갭': '0.026', '갯벌': '0.031', '갯수': '0.026', '갱': '0.017', '갱신': '0.034', '갸': '0.033', '갸름': '0.034', '걍': '0.009', '걔': '0.034', '걔념도': '0.034', '거': '0.033', '거구': '0.033', '거기': '0.027', '거닐': '0.001', '거대': '0.033', '거덜': '0.034', '거도': '0.022', '거듭': '0.031', '거뜬': '0.030', '거뜬히': '0.021', '거란': '0.033', '거래': '0.016', '거래처': '0.025', '거룩': '0.033', '거르': '0.034', '거름': '0.001', '거리': '0.024', '거만': '0.033', '거미': '0.032', '거미줄': '0.020', '거부': '0.026', '거북이': '0.015', '거사': '0.019', '거세': '0.034', '거스르': '0.025', '거슬리': '0.022', '거실': '0.022', '거울': '0.034', '거의': '0.012', '거저': '0.007', '거절': '0.027', '거점': '0.033', '거제': '0.009', '거제도': '0.007', '거제시': '0.031', '거주': '0.012', '거즈': '0.034', '거지': '0.023', '거진': '0.027', '거짓': '0.034', '거짓말': '0.044', '거창': '0.034', '거치': '0.032', '거칠': '0.011', '거품': '0.025', '거하': '0.009', '거희': '0.034', '걱정': '0.023', '걱정스레': '0.034', '걱정하지마': '0.034', '건': '0.034', '건강': '0.034', '건강관리': '0.033', '건강보험': '0.034', '건강식품': '0.017', '건강하쟈': '0.033', '건강히': '0.034', '건과': '0.034', '건너': '0.033', '건너다보': '0.034', '건너오': '0.034', '건너편': '0.029', '건네': '0.022', '건더기': '0.022', '건드리': '0.011', '건물': '0.044', '건방지': '0.031', '건선': '0.014', '건설': '0.034', '건성': '0.034', '건우': '0.029', '건의': '0.035', '건전지': '0.000', '건조': '0.034', '건중': '0.038', '건지': '0.019', '건축물': '0.006', '걷': '0.035', '걷기': '0.014', '걷히': '0.001', '걸': '0.017', '걸레': '0.033', '걸리': '0.005', '걸맞': '0.019', '걸어가': '0.031', '걸어보렸네': '0.016', '걸어오': '0.018', '걸음': '0.007', '걸이': '0.034', '걸치': '0.013', '걸터앉': '0.034', '검': '0.010', '검거': '0.031', '검단산': '0.034', '검사': '0.034', '검색': '0.033', '검역': '0.030', '검은색': '0.010', '검정': '0.038', '검정색': '0.030', '검정자켓': '0.034', '검정치마': '0.010', '검증': '0.001', '검지': '0.027', '검진': '0.033', '검출': '0.006', '검토': '0.004', '겁': '0.034', '겁나': '0.044', '겁먹': '0.030', '겁쟁이': '0.031', '것': '0.035', '겉': '0.034', '겉돌': '0.010', '겉모습': '0.026', '겉보기': '0.034', '겉옷': '0.034', '겉절이': '0.030', '겉치레': '0.033', '게': '0.010', '게다가': '0.030', '게도': '0.034', '게딱지': '0.008', '게라': '0.034', '게로': '0.033', '게리': '0.012', '게살': '0.032', '게스트': '0.018', '게시': '0.034', '게시물': '0.032', '게시판': '0.034', '게으르': '0.014', '게으름': '0.034', '게을리': '0.034', '게이': '0.025', '게임': '0.013', '게장': '0.031', '게코': '0.034', '게토': '0.018', '겟': '0.033', '겟겟': '0.034', '겟하세요': '0.032', '겟했지': '0.034', '겨': '0.028', '겨를': '0.015', '겨우': '0.033', '겨울': '0.034', '겨울나': '0.025', '겨울밤': '0.005', '겨울철': '0.034', '겨자': '0.032', '격': '0.012', '격려': '0.007', '격렬히': '0.034', '격리': '0.010', '격상': '0.021', '격자': '0.024', '격정': '0.034', '격파': '0.034', '격하': '0.027', '겪': '0.034', '견': '0.034', '견고': '0.035', '견과': '0.021', '견디': '0.033', '견문': '0.044', '견인': '0.034', '견주': '0.034', '견해': '0.021', '결': '0.011', '결과': '0.019', '결과물': '0.032', '결국': '0.029', '결단': '0.033', '결론': '0.034', '결막염': '0.034', '결말': '0.031', '결박': '0.011', '결별': '0.034', '결성': '0.009', '결승': '0.034', '결승전': '0.034', '결식': '0.000', '결식아동': '0.032', '결심': '0.034', '결여': '0.034', '결재': '0.008', '결점': '0.034', '결정': '0.030', '결제': '0.026', '결코': '0.032', '결핍': '0.000', '결혼': '0.026', '결혼기념일': '0.032', '결혼듀': '0.034', '결혼식': '0.043', '결혼했어듀': '0.033', '겸': '0.034', '겸비': '0.033', '겸손': '0.008', '겹': '0.034', '겹쳐지': '0.033', '겹치': '0.025', '경': '0.013', '경건': '0.015', '경계': '0.034', '경고': '0.001', '경과': '0.034', '경관': '0.044', '경기': '0.021', '경기도': '0.016', '경기장': '0.044', '경기전': '0.034', '경남': '0.034', '경도': '0.014', '경량': '0.020', '경력': '0.043', '경력자': '0.011', '경련': '0.029', '경로': '0.010', '경매': '0.034', '경박': '0.034', '경보': '0.034', '경북': '0.014', '경북대학교': '0.034', '경비': '0.026', '경사': '0.031', '경사도': '0.034', '경산': '0.033', '경상': '0.032', '경상남도': '0.018', '경상도': '0.034', '경상북도': '0.034', '경색': '0.031', '경선': '0.009', '경성': '0.029', '경솔': '0.012', '경수': '0.026', '경시': '0.013', '경신': '0.011', '경양카츠': '0.001', '경오': '0.034', '경우': '0.033', '경의': '0.019', '경이': '0.005', '경인로': '0.031', '경쟁': '0.031', '경전철': '0.029', '경제': '0.034', '경조사': '0.034', '경주': '0.012', '경주마': '0.030', '경주시': '0.002', '경중': '0.034', '경찰': '0.005', '경찰서': '0.014', '경총': '0.032', '경치': '0.034', '경품': '0.021', '경향': '0.034', '경험': '0.014', '경험담': '0.032', '경험자': '0.030', '경험치': '0.028', '경화': '0.020', '경희대': '0.034', '곁': '0.005', '곁들이': '0.027', '계': '0.009', '계곡': '0.012', '계급': '0.019', '계기': '0.017', '계단': '0.034', '계란': '0.033', '계란말이': '0.018', '계란찜': '0.034', '계룡로': '0.029', '계룡산': '0.033', '계륵': '0.032', '계면': '0.028', '계면활성제': '0.034', '계발': '0.004', '계산': '0.033', '계산서': '0.034', '계세': '0.030', '계속': '0.034', '계시': '0.034', '계실': '0.000', '계약': '0.034', '계약금': '0.017', '계양': '0.034', '계양구': '0.014', '계양산': '0.018', '계열': '0.014', '계이름': '0.034', '계절': '0.026', '계정': '0.044', '계좌': '0.033', '고': '0.017', '고 온': '0.034', '고가': '0.034', '고갈': '0.034', '고개': '0.034', '고객': '0.014', '고건': '0.034', '고고': '0.009', '고고씽': '0.029', '고구': '0.028', '고구마': '0.033', '고급': '0.034', '고기': '0.023', '고기국수': '0.044', '고난': '0.009', '고누': '0.034', '고니': '0.016', '고단': '0.027', '고달프': '0.009', '고대': '0.024', '고도계': '0.034', '고되': '0.034', '고든': '0.033', '고등어': '0.016', '고등학교': '0.003', '고등학생': '0.021', '고디': '0.034', '고랑': '0.000', '고래': '0.024', '고래고래': '0.034', '고래상어': '0.043', '고량주': '0.034', '고려': '0.022', '고령': '0.028', '고로': '0.024', '고로케': '0.021', '고르': '0.005', '고르고': '0.034', '고르곤졸라': '0.003', '고르드': '0.035', '고리': '0.029', '고마': '0.044', '고마움': '0.030', '고마워요': '0.019', '고마웡': '0.033', '고만': '0.034', '고맙': '0.023', '고맙습니다': '0.030', '고맙습니당': '0.033', '고명': '0.034', '고모': '0.040', '고무': '0.012', '고무장갑': '0.001', '고무줄': '0.032', '고미': '0.034', '고민': '0.033', '고민거리': '0.015', '고민히다가': '0.029', '고백': '0.008', '고봉': '0.030', '고분': '0.032', '고비': '0.011', '고사': '0.034', '고사리': '0.034', '고사항': '0.034', '고산': '0.034', '고산병': '0.044', '고상': '0.016', '고생': '0.031', '고성': '0.034', '고소': '0.034', '고속도로': '0.015', '고속버스': '0.034', '고수': '0.034', '고스란히': '0.034', '고스트': '0.034', '고슬기': '0.034', '고심': '0.001', '고아': '0.033', '고야': '0.013', '고양': '0.032', '고양시': '0.013', '고양이': '0.032', '고양이 카페': '0.032', '고어텍스': '0.030', '고여': '0.034', '고영상': '0.029', '고영희': '0.034', '고오': '0.025', '고요': '0.030', '고요한': '0.027', '고용량': '0.000', '고운': '0.027', '고운동': '0.034', '고유': '0.034', '고의': '0.010', '고이': '0.034', '고인': '0.021', '고작': '0.034', '고장': '0.011', '고전': '0.003', '고정관념': '0.044', '고정리': '0.000', '고조': '0.023', '고즈넉': '0.028', '고증': '0.034', '고지': '0.025', '고지혈증': '0.027', '고진감래': '0.034', '고질병': '0.000', '고집': '0.001', '고체': '0.034', '고추': '0.034', '고추가': '0.034', '고추기름': '0.000', '고추냉이': '0.012', '고추장': '0.021', '고춧가루': '0.007', '고충': '0.025', '고층': '0.034', '고치': '0.034', '고카': '0.032', '고퀄': '0.006', '고퀄로만': '0.033', '고퀄리티': '0.022', '고퀄리티로': '0.011', '고퀄리티와': '0.034', '고퀄리티의': '0.034', '고퀄은': '0.004', '고퀄정품': '0.028', '고토': '0.000', '고통': '0.011', '고풍': '0.033', '고프': '0.006', '고해': '0.000', '고향': '0.025', '고혈압': '0.031', '고흐': '0.034', '곡': '0.031', '곡물': '0.034', '곡물맛쉐이크까지': '0.025', '곡산': '0.034', '곡성': '0.005', '곡식': '0.029', '곤': '0.026', '곤경': '0.034', '곤란': '0.028', '곤충': '0.032', '곧': '0.034', '곧바로': '0.032', '곧업뎃할께요': '0.000', '골': '0.005', '골격': '0.034', '골고루': '0.044', '골다공증': '0.034', '골대': '0.026', '골드': '0.034', '골드 바': '0.013', '골드킹콤보': '0.034', '골드킹콤보인데': '0.034', '골든': '0.034', '골든구스': '0.004', '골목': '0.003', '골목길': '0.008', '골뱅이': '0.015', '골인': '0.034', '골짜기': '0.033', '골탕': '0.015', '골프': '0.034', '골프장': '0.032', '곰': '0.034', '곰곰히': '0.015', '곰탕': '0.034', '곰탕쟁여두기는': '0.033', '곰팡이': '0.017', '곱': '0.034', '곱배기': '0.020', '곱씹': '0.023', '곱창': '0.027', '곱창전골': '0.032', '곳': '0.028', '곳곳': '0.034', '곳도': '0.033', '공': '0.034', '공간': '0.029', '공감': '0.006', '공감대': '0.034', '공개': '0.031', '공격': '0.034', '공공장소': '0.034', '공교롭': '0.034', '공구': '0.032', '공구까짛코로나에': '0.026', '공급': '0.040', '공기': '0.003', '공기 청정기': '0.007', '공놀이': '0.033', '공대': '0.033', '공도': '0.033', '공동': '0.034', '공동구매': '0.017', '공동체': '0.034', '공들': '0.031', '공들이': '0.040', '공략': '0.012', '공로': '0.034', '공룡': '0.028', '공룡같앜그와중에': '0.031', '공릉': '0.006', '공모': '0.033', '공모전': '0.044', '공방': '0.013', '공백': '0.034', '공복': '0.008', '공부': '0.022', '공부방': '0.034', '공사': '0.029', '공손': '0.013', '공수': '0.034', '공식': '0.034', '공신력': '0.033', '공업': '0.007', '공연': '0.030', '공영': '0.030', '공오': '0.025', '공용': '0.034', '공원': '0.021', '공유': '0.023', '공인': '0.034', '공자': '0.002', '공작': '0.028', '공장': '0.034', '공정': '0.029', '공주': '0.008', '공중': '0.034', '공중파': '0.034', '공지': '0.028', '공짜': '0.034', '공차': '0.011', '공책': '0.034', '공통': '0.033', '공통점': '0.033', '공판장': '0.034', '공평': '0.003', '공포': '0.034', '공항': '0.034', '공해': '0.034', '공허': '0.027', '공화국': '0.028', '공휴일': '0.032', '과': '0.007', '과감': '0.004', '과감히': '0.034', '과거': '0.008', '과격': '0.034', '과다': '0.034', '과목': '0.033', '과분': '0.034', '과세': '0.014', '과실': '0.034', '과언': '0.033', '과연': '0.011', '과일': '0.026', '과자': '0.013', '과정': '0.032', '과제': '0.034', '과즙': '0.033', '과학': '0.016', '과학기술': '0.034', '관': '0.034', '관객': '0.034', '관건': '0.032', '관계': '0.030', '관계없이': '0.007', '관공서': '0.022', '관광': '0.034', '관광객': '0.028', '관광지': '0.034', '관념': '0.027', '관람': '0.003', '관람객': '0.034', '관련': '0.034', '관리': '0.005', '관리도': '0.034', '관리법': '0.034', '관리실': '0.034', '관리자': '0.034', '관모봉': '0.033', '관세': '0.034', '관세청': '0.034', '관속': '0.034', '관심': '0.019', '관악': '0.034', '관악산': '0.032', '관여': '0.034', '관엽식물': '0.010', '관용': '0.010', '관음': '0.023', '관음봉': '0.034', '관이': '0.031', '관장': '0.005', '관절': '0.044', '관절염': '0.033', '관찰': '0.032', '관측': '0.034', '관하': '0.034', '광': '0.001', '광견병': '0.033', '광경': '0.019', '광고': '0.034', '광고비': '0.031', '광고판': '0.016', '광교': '0.025', '광교산': '0.017', '광대': '0.034', '광란': '0.034', '광명': '0.034', '광복': '0.022', '광산구': '0.028', '광선': '0.034', '광선치료': '0.030', '광속': '0.002', '광안대교': '0.034', '광안리': '0.028', '광야': '0.022', '광어': '0.041', '광저우': '0.029', '광주': '0.034', '광주광역시': '0.034', '광진구': '0.034', '광채': '0.009', '광천': '0.034', '광택': '0.021', '광풍': '0.034', '광합성': '0.020', '광화문': '0.034', '광화문광장': '0.023', '광화문역': '0.034', '광활': '0.031', '괘': '0.025', '괜시리': '0.008', '괜찮': '0.009', '괜찮아': '0.034', '괜챦더라구요': '0.034', '괜챦죠': '0.021', '괜하': '0.010', '괜히': '0.034', '괴': '0.005', '괴로움': '0.008', '괴로워하': '0.034', '괴롭': '0.007', '괴롭히': '0.009', '괴물': '0.033', '괴산': '0.033', '괴테': '0.034', '괴한': '0.034', '굉장해욤': '0.032', '굉장히': '0.033', '교': '0.020', '교감': '0.030', '교과': '0.034', '교과서': '0.034', '교구': '0.030', '교대': '0.034', '교대역': '0.002', '교류': '0.032', '교리': '0.040', '교묘': '0.034', '교무실': '0.033', '교배': '0.006', '교복': '0.044', '교사': '0.001', '교수': '0.033', '교시': '0.034', '교신': '0.034', '교실': '0.025', '교양': '0.018', '교육': '0.015', '교육 프로그램': '0.031', '교육과정': '0.030', '교자': '0.034', '교재': '0.025', '교정': '0.015', '교차': '0.032', '교차로': '0.001', '교체': '0.018', '교촌': '0.033', '교토': '0.030', '교통': '0.034', '교통사고': '0.015', '교하': '0.014', '교환': '0.034', '교회': '0.020', '교훈': '0.040', '굠찍하게': '0.010', '구': '0.034', '구가': '0.034', '구간': '0.030', '구겨지': '0.034', '구결': '0.022', '구경': '0.025', '구교동': '0.034', '구구': '0.034', '구구절절': '0.034', '구글': '0.029', '구김': '0.033', '구김살': '0.031', '구내염': '0.022', '구담봉': '0.034', '구덩이': '0.031', '구도': '0.011', '구독': '0.031', '구두': '0.038', '구라': '0.034', '구락': '0.018', '구럼': '0.034', '구렇니': '0.019', '구로': '0.014', '구르': '0.034', '구름': '0.027', '구름다리': '0.044', '구리': '0.034', '구마': '0.000', '구매': '0.026', '구매자': '0.007', '구멍': '0.018', '구미': '0.033', '구미시': '0.034', '구박': '0.034', '구별': '0.033', '구병산': '0.034', '구봉산': '0.001', '구분': '0.033', '구비': '0.034', '구석': '0.034', '구석구석': '0.014', '구석지': '0.033', '구성': '0.026', '구성원': '0.034', '구성은': '0.034', '구속': '0.034', '구수': '0.043', '구스': '0.017', '구슬': '0.044', '구시': '0.034', '구애': '0.009', '구약': '0.044', '구어': '0.034', '구역': '0.044', '구연동화': '0.005', '구오쩜육만의': '0.016', '구용': '0.012', '구원': '0.023', '구월': '0.009', '구월동': '0.034', '구이': '0.014', '구입': '0.032', '구절': '0.034', '구정': '0.016', '구제': '0.034', '구조': '0.034', '구조대': '0.009', '구조물': '0.026', '구조자': '0.013', '구좌읍': '0.005', '구지': '0.044', '구진': '0.034', '구찌': '0.030', '구청': '0.034', '구청 구': '0.033', '구체': '0.034', '구축': '0.010', '구태여': '0.034', '구토': '0.034', '구통': '0.034', '구하': '0.006', '구하기': '0.034', '구현': '0.013', '국': '0.044', '국가': '0.016', '국거리': '0.018', '국공립': '0.034', '국교': '0.015', '국그릇': '0.019', '국내': '0.032', '국내외': '0.034', '국도': '0.034', '국립공원': '0.034', '국립극장': '0.009', '국물': '0.026', '국민': '0.033', '국밥': '0.010', '국방부': '0.034', '국사봉': '0.009', '국산': '0.009', '국소': '0.034', '국수': '0.013', '국악': '0.024', '국어': '0.030', '국의': '0.033', '국자': '0.034', '국제': '0.034', '국제금융로': '0.001', '국제화랑': '0.003', '국화': '0.034', '국회의원': '0.012', '군': '0.033', '군가': '0.034', '군고구마': '0.018', '군단': '0.010', '군대': '0.033', '군더더기': '0.017', '군데': '0.033', '군락': '0.034', '군만두': '0.031', '군밤': '0.028', '군사': '0.034', '군산': '0.012', '군살': '0.035', '군인': '0.034', '군종': '0.004', '군침': '0.031', '군포': '0.000', '군포시': '0.032', '굳': '0.022', '굳건히': '0.028', '굳이': '0.044', '굳히': '0.034', '굴': '0.034', '굴곡지': '0.018', '굴라': '0.031', '굴러다니': '0.032', '굴리': '0.001', '굴비': '0.009', '굴하': '0.033', '굵': '0.034', '굵기': '0.023', '굶': '0.025', '굶기': '0.001', '굽': '0.033', '굿': '0.034', '굿똥닝': '0.034', '굿모닝': '0.033', '굿즈': '0.007', '궁': '0.013', '궁굼하시다면': '0.033', '궁궐': '0.034', '궁극': '0.029', '궁금': '0.034', '궁금증': '0.031', '궁뎅이': '0.044', '궁둥이펫둥이': '0.034', '궁중': '0.032', '궁합': '0.034', '궂': '0.001', '궈녜슬': '0.019', '권': '0.012', '권당': '0.015', '권력': '0.025', '권선': '0.034', '권선구': '0.034', '권유': '0.034', '권장': '0.032', '권진아': '0.034', '권태': '0.000', '궤도': '0.000', '귀': '0.007', '귀가': '0.020', '귀감': '0.018', '귀금속': '0.021', '귀도': '0.044', '귀때기': '0.011', '귀때기청봉': '0.013', '귀리': '0.034', '귀신': '0.034', '귀여운짘': '0.030', '귀여움': '0.006', '귀여워': '0.028', '귀여워하': '0.034', '귀여웡': '0.034', '귀염': '0.002', '귀염뎅이': '0.034', '귀염뽀쨕': '0.033', '귀엽': '0.034', '귀엽닼': '0.034', '귀욤귀욤': '0.034', '귀욤둥이들아': '0.037', '귀중': '0.020', '귀차니즘': '0.014', '귀찮': '0.015', '귀찮더라구욬': '0.002', '귀하': '0.034', '귓': '0.026', '귓속': '0.033', '규': '0.033', '규격': '0.044', '규댕옵이랑': '0.002', '규모': '0.034', '규범': '0.033', '규슐랭가이드': '0.034', '규욤규욤': '0.034', '규칙': '0.003', '균': '0.033', '균형': '0.013', '귤': '0.044', '귤색': '0.033', '귯귯': '0.024', '그': '0.037', '그 후': '0.033', '그간': '0.034', '그것': '0.024', '그곳': '0.034', '그깟': '0.034', '그나마': '0.034', '그나저나': '0.013', '그날': '0.034', '그날들': '0.016', '그냥': '0.032', '그네': '0.009', '그녀': '0.005', '그놈': '0.033', '그늘': '0.011', '그니': '0.034', '그다지': '0.034', '그대': '0.025', '그대로': '0.012', '그대에게': '0.008', '그동안': '0.031', '그득': '0.030', '그딴': '0.023', '그때': '0.034', '그때그때': '0.041', '그라스': '0.016', '그라운드': '0.031', '그라인더': '0.010', '그랑': '0.034', '그래': '0.021', '그래놀라': '0.020', '그래도': '0.033', '그래두': '0.034', '그래서': '0.034', '그래야': '0.013', '그래요': '0.032', '그래퍼': '0.023', '그래픽': '0.001', '그래픽 디자인': '0.010', '그램': '0.025', '그랬닼': '0.018', '그러': '0.010', '그러나': '0.033', '그러니': '0.021', '그러니까': '0.034', '그러다가': '0.034', '그러면': '0.018', '그러면서': '0.034', '그러므로': '0.023', '그러자': '0.031', '그런': '0.028', '그런데': '0.033', '그런지': '0.034', '그럴싸': '0.015', '그럼': '0.034', '그럼에도 불구하고': '0.034', '그렇': '0.017', '그렇지만': '0.034', '그레이': '0.027', '그루': '0.034', '그루밍': '0.033', '그루밍을': '0.034', '그루밍하는거': '0.033', '그루밍하다가': '0.034', '그룹': '0.032', '그르': '0.034', '그릇': '0.030', '그리': '0.008', '그리고': '0.034', '그리구': '0.020', '그리니': '0.034', '그리도': '0.033', '그리스도': '0.012', '그리스도인': '0.018', '그리움': '0.027', '그리워': '0.034', '그리워하': '0.015', '그릭': '0.034', '그린': '0.016', '그린백': '0.034', '그린포인트': '0.034', '그릴': '0.006', '그림': '0.028', '그림인짘': '0.034', '그림자': '0.034', '그림책': '0.012', '그립': '0.034', '그만': '0.034', '그만두': '0.001', '그만큼': '0.017', '그분': '0.012', '그새': '0.034', '그쌤': '0.001', '그야말로': '0.034', '그윽': '0.000', '그저': '0.033', '그저께': '0.034', '그전': '0.034', '그제': '0.033', '그제서야': '0.022', '그중': '0.006', '그지': '0.024', '그쪽': '0.008', '그쵸': '0.034', '그치': '0.034', '그토록': '0.032', '극': '0.033', '극단': '0.033', '극대': '0.001', '극락': '0.034', '극복': '0.031', '극상': '0.034', '극소량': '0.026', '극장': '0.016', '극정': '0.034', '극찬': '0.034', '극치': '0.034', '극한': '0.034', '극한 직업': '0.033', '근': '0.032', '근거리': '0.028', '근교': '0.002', '근대': '0.030', '근데': '0.031', '근래': '0.007', '근력': '0.028', '근무': '0.034', '근본': '0.034', '근사': '0.034', '근심': '0.032', '근원': '0.034', '근육': '0.001', '근접': '0.023', '근질근질': '0.033', '근처': '0.034', '근황': '0.032', '글': '0.016', '글귀': '0.034', '글라스': '0.034', '글램': '0.009', '글로리': '0.031', '글로벌': '0.025', '글쎄요': '0.037', '글쓰기': '0.031', '글자': '0.001', '긁': '0.032', '긁혔을꼬': '0.033', '금': '0.026', '금가면': '0.034', '금강': '0.034', '금강로': '0.034', '금고': '0.032', '금구': '0.012', '금당사': '0.034', '금물': '0.007', '금방': '0.034', '금보': '0.034', '금빛': '0.034', '금산': '0.017', '금상첨화': '0.034', '금새': '0.027', '금세': '0.027', '금수산': '0.016', '금식': '0.011', '금액': '0.043', '금오름': '0.020', '금요': '0.034', '금요일': '0.021', '금융': '0.034', '금일': '0.005', '금잔디': '0.008', '금장': '0.034', '금전': '0.014', '금정': '0.011', '금정구': '0.034', '금주': '0.030', '금줄': '0.010', '금지': '0.034', '금쪽같': '0.034', '금천': '0.034', '금표': '0.034', '금하': '0.033', '금호': '0.033', '금화': '0.034', '급': '0.034', '급격': '0.026', '급경사': '0.032', '급벙으로': '0.031', '급상승': '0.034', '급성장': '0.032', '급식': '0.009', '급여': '0.034', '급조': '0.033', '급진': '0.031', '급하': '0.004', '급히': '0.034', '긋': '0.034', '긍정': '0.034', '긍휼과': '0.031', '긔엽자나': '0.034', '긔엽지만': '0.033', '기': '0.044', '기가': '0.034', '기가바이트': '0.033', '기간': '0.017', '기개': '0.032', '기겁': '0.000', '기계': '0.034', '기관지': '0.033', '기관지염': '0.034', '기괴': '0.034', '기교': '0.033', '기구': '0.023', '기기': '0.031', '기기괴괴': '0.034', '기꺼이': '0.005', '기껏': '0.034', '기나길': '0.002', '기내식': '0.009', '기네스': '0.001', '기념': '0.044', '기념사진': '0.012', '기념일': '0.034', '기념품': '0.029', '기능': '0.006', '기니': '0.034', '기니피그': '0.008', '기다리': '0.026', '기다리셨죵': '0.001', '기대': '0.003', '기대감': '0.008', '기대되욧': '0.000', '기대치': '0.003', '기대해봅니당': '0.034', '기대해주세욤': '0.026', '기도': '0.019', '기독교': '0.006', '기동': '0.015', '기둥': '0.032', '기똥차': '0.014', '기력': '0.010', '기로': '0.034', '기록': '0.021', '기록사진': '0.034', '기록해봅니당': '0.034', '기르': '0.034', '기름': '0.034', '기름기': '0.009', '기름지': '0.034', '기름칠': '0.012', '기리': '0.034', '기린': '0.034', '기말': '0.033', '기말고사': '0.033', '기모': '0.023', '기미': '0.001', '기반': '0.012', '기법': '0.034', '기별': '0.006', '기보': '0.011', '기본': '0.026', '기부': '0.034', '기분': '0.030', '기분 좋은 날': '0.034', '기쁘': '0.019', '기쁜 소식': '0.034', '기쁨': '0.014', '기사': '0.033', '기상': '0.023', '기상천외': '0.034', '기선': '0.034', '기성': '0.034', '기세': '0.033', '기소': '0.033', '기숙사': '0.032', '기술': '0.003', '기승': '0.023', '기암괴석': '0.029', '기압': '0.030', '기약': '0.015', '기어': '0.034', '기어가': '0.033', '기어오르': '0.033', '기어이': '0.000', '기어코': '0.029', '기억': '0.034', '기억나': '0.034', '기업': '0.030', '기여워': '0.034', '기여웠따': '0.044', '기염탱이': '0.034', '기영웡': '0.034', '기온': '0.044', '기와': '0.033', '기왕': '0.034', '기요': '0.034', '기요워': '0.034', '기우뚱': '0.032', '기운': '0.034', '기울이': '0.023', '기원': '0.032', '기이': '0.025', '기장': '0.033', '기재': '0.030', '기저': '0.006', '기저귀': '0.034', '기적': '0.034', '기적처럼': '0.033', '기전': '0.034', '기절': '0.034', '기절초풍': '0.034', '기점': '0.034', '기존': '0.019', '기종': '0.034', '기준': '0.034', '기지개': '0.034', '기진맥진': '0.034', '기차': '0.025', '기철': '0.025', '기초': '0.033', '기치': '0.033', '기침': '0.001', '기타': '0.034', '기특': '0.019', '기프': '0.034', '기한': '0.034', '기형아': '0.035', '기호': '0.033', '기호식품': '0.007', '기회': '0.028', '기획': '0.011', '기후': '0.003', '기후 변화': '0.033', '긴가민가': '0.033', '긴급': '0.031', '긴급히': '0.034', '긴장': '0.034', '긴장감': '0.034', '긴장도': '0.017', '긴팔': '0.003', '길': '0.023', '길 위에서': '0.008', '길가': '0.034', '길거리': '0.034', '길고양이': '0.034', '길다랗': '0.011', '길들이': '0.034', '길목': '0.033', '길었돠': '0.009', '길이': '0.027', '길흉': '0.020', '김': '0.034', '김가정쌤': '0.032', '김가푱': '0.029', '김가푱띠': '0.034', '김건': '0.015', '김광석': '0.034', '김나영': '0.034', '김누렁씨': '0.034', '김단희': '0.003', '김도현': '0.034', '김류': '0.029', '김미경': '0.015', '김민경': '0.033', '김민석': '0.034', '김밥': '0.030', '김밥싸긔': '0.034', '김밥천국': '0.043', '김선중': '0.029', '김성중': '0.004', '김수로': '0.012', '김엶': '0.023', '김우석': '0.022', '김원': '0.001', '김윤지': '0.034', '김이지': '0.033', '김인선': '0.034', '김인욱': '0.026', '김자영': '0.044', '김장': '0.034', '김제': '0.034', '김주현': '0.033', '김지호': '0.043', '김질': '0.032', '김쪼롱': '0.031', '김치': '0.044', '김치볶음밥': '0.007', '김치전': '0.034', '김치찌개': '0.009', '김태원': '0.017', '김태희': '0.034', '김포': '0.034', '김포공항': '0.044', '김하영': '0.020', '김해': '0.034', '김해시': '0.032', '김현미': '0.007', '김현수': '0.034', '김형기': '0.016', '김희영': '0.015', '깃': '0.033', '깃대봉': '0.033', '깃들': '0.010', '깃발': '0.032', '깃털': '0.029', '깅엄체크': '0.006', '깊': '0.019', '깊숙': '0.026', '깊이': '0.034', '까': '0.015', '까까': '0.034', '까꿍': '0.034', '까다롭': '0.033', '까딱': '0.033', '까르띠에': '0.034', '까르르': '0.031', '까르멜릿': '0.034', '까마귀': '0.002', '까마득': '0.034', '까망': '0.000', '까맣': '0.020', '까먹': '0.034', '까먹지말쟈': '0.034', '까불': '0.034', '까지': '0.034', '까치': '0.034', '까치발': '0.035', '까칠': '0.028', '까페': '0.034', '까페도': '0.030', '깍': '0.033', '깍두기': '0.032', '깍지': '0.009', '깎': '0.008', '깎아내리': '0.033', '깎이': '0.034', '깐': '0.004', '깐깐': '0.034', '깐풍기': '0.034', '깔': '0.012', '깔깔깔': '0.032', '깔깔대': '0.034', '깔깔이': '0.026', '깔끄미해서': '0.008', '깔끔': '0.033', '깔끔히': '0.034', '깔리': '0.026', '깜깜': '0.034', '깜박': '0.012', '깜박거리': '0.034', '깜빡': '0.005', '깜빡이': '0.014', '깜짝': '0.033', '깜짝깜짝': '0.000', '깜짝놀랫지유': '0.033', '깜쨕놀래서': '0.031', '깜찍': '0.008', '깝치다': '0.034', '깠을틴디': '0.033', '깡': '0.033', '깡패': '0.031', '깨': '0.034', '깨끗': '0.034', '깨끗히': '0.031', '깨끗히는': '0.044', '깨닫': '0.015', '깨달음': '0.031', '깨알': '0.034', '깨어나': '0.019', '깨우': '0.008', '깨지': '0.025', '깻잎': '0.037', '꺄': '0.031', '꺄도라에먹': '0.033', '꺄루르륵': '0.031', '꺄르르': '0.007', '꺄아아': '0.033', '꺄앙': '0.024', '꺄욜구름파도를': '0.034', '꺄하': '0.034', '꺅': '0.005', '꺅꺅대는': '0.040', '꺼': '0.025', '꺼내': '0.006', '꺼리': '0.006', '꺼지': '0.028', '꺾': '0.034', '꺾이': '0.044', '껀': '0.016', '껄껄': '0.026', '껌': '0.013', '껍데기': '0.032', '껍질': '0.034', '껴안': '0.030', '껴입': '0.010', '꼬': '0.034', '꼬꼬': '0.034', '꼬끄브라우니': '0.032', '꼬끄후레이크': '0.010', '꼬들꼬들': '0.020', '꼬로나때메': '0.034', '꼬롬하니': '0.003', '꼬르륵': '0.011', '꼬리곰탕': '0.033', '꼬마': '0.034', '꼬마워요': '0.033', '꼬막': '0.031', '꼬맹이': '0.044', '꼬맹이가': '0.024', '꼬맹이들': '0.026', '꼬미': '0.021', '꼬미님': '0.005', '꼬박': '0.034', '꼬박꼬박': '0.032', '꼬북칩': '0.001', '꼬북칩초코츄러스맛': '0.034', '꼬불꼬불': '0.030', '꼬숩한': '0.033', '꼬시': '0.001', '꼬옥': '0.034', '꼬이': '0.034', '꼬지': '0.033', '꼬추': '0.034', '꼬치': '0.032', '꼬치구이': '0.000', '꼭': '0.018', '꼭가쟈': '0.030', '꼭꼭': '0.034', '꼭지': '0.033', '꼰대': '0.034', '꼴': '0.012', '꼴찌': '0.034', '꼼꼼': '0.024', '꼼꼼히': '0.024', '꼼수': '0.034', '꼼작': '0.018', '꼼짝': '0.034', '꼽': '0.034', '꼽사리': '0.034', '꼽히': '0.027', '꽁꽁': '0.023', '꽁냥꽁냥': '0.016', '꽁상뜨레': '0.034', '꽁치': '0.034', '꽂': '0.034', '꽂히': '0.033', '꽃': '0.034', '꽃게': '0.034', '꽃다발': '0.000', '꽃바구니': '0.034', '꽃밭': '0.016', '꽃집': '0.033', '꽃향기': '0.005', '꽈': '0.034', '꽈리': '0.027', '꽈배기': '0.003', '꽉': '0.034', '꽉꽉': '0.034', '꽉꽉꽉푸왁': '0.000', '꽝': '0.033', '꽤': '0.024', '꾀': '0.030', '꾜': '0.007', '꾸': '0.034', '꾸깃꾸깃': '0.028', '꾸덕꾸덕': '0.018', '꾸덕꾸덕오네요': '0.027', '꾸덕꾸덕이': '0.019', '꾸덕꾸덕하고': '0.007', '꾸덕꾸덕하면서': '0.000', '꾸덕꾸덕한': '0.033', '꾸덕꾸덕함이': '0.034', '꾸덕이랑': '0.007', '꾸덕짱': '0.033', '꾸덕쫀득': '0.022', '꾸덕초코': '0.009', '꾸덕촉촉브라우니같은': '0.013', '꾸덕치덕해': '0.001', '꾸덕하고': '0.044', '꾸덕하지만': '0.033', '꾸덕한': '0.044', '꾸덕함': '0.019', '꾸덕해요': '0.029', '꾸덕해지고': '0.029', '꾸러기': '0.034', '꾸르맛': '0.034', '꾸미': '0.020', '꾸버도': '0.021', '꾸벅꾸벅': '0.034', '꾸베표': '0.042', '꾸역꾸역': '0.044', '꾸욱': '0.031', '꾸욱꾸욱': '0.013', '꾸준': '0.034', '꾸준히': '0.022', '꾹': '0.021', '꾹꾹': '0.007', '꾹꾹이골골송춉춉해요': '0.034', '꿀': '0.044', '꿀꺽': '0.030', '꿀꿀': '0.033', '꿀맛': '0.034', '꿀물': '0.029', '꿀밤': '0.010', '꿀잠쟈': '0.031', '꿀템이': '0.010', '꿀템이였다는': '0.024', '꿈': '0.034', '꿈꾸': '0.034', '꿈속': '0.017', '꿈틀거리': '0.034', '꿈틀꿈틀': '0.034', '꿉꿉한': '0.018', '꿉꿉해서': '0.034', '꿋꿋': '0.034', '꿍실꿍실': '0.044', '꿍탈레를': '0.012', '뀨우': '0.010', '끄': '0.030', '끄덕': '0.030', '끄떡': '0.010', '끄떡없': '0.044', '끄으읕': '0.034', '끄읕': '0.034', '끄읕해서': '0.028', '끄집': '0.026', '끈': '0.034', '끈기': '0.043', '끈적': '0.006', '끈적이': '0.033', '끊': '0.017', '끊기': '0.028', '끊어지': '0.032', '끊이': '0.029', '끊임없이': '0.024', '끌': '0.034', '끌려오': '0.019', '끌리': '0.022', '끌어내': '0.044', '끌어안': '0.021', '끌어올리': '0.034', '끓': '0.041', '끓어오르': '0.044', '끓이': '0.024', '끔': '0.015', '끔찍': '0.013', '끔찍히': '0.033', '끗': '0.034', '끙': '0.028', '끙끙': '0.019', '끙차': '0.020', '끝': '0.027', '끝과 시작': '0.033', '끝나': '0.012', '끝내': '0.041', '끝마치': '0.005', '끝없': '0.034', '끝없이': '0.034', '끝이없쥬그게': '0.034', '끝판': '0.034', '끼': '0.034', '끼니': '0.034', '끼우': '0.021', '끼치': '0.034', '낄낄': '0.023', '낌새': '0.028', '낑낑': '0.034', '낑낑낑': '0.032', '낑낑대': '0.032', '나': '0.036', '나가': '0.034', '나가는즁': '0.033', '나가사키': '0.006', '나가야': '0.011', '나경': '0.025', '나고야': '0.034', '나그': '0.034', '나그네': '0.033', '나기': '0.033', '나나': '0.026', '나날': '0.044', '나날이': '0.033', '나누': '0.012', '나눙': '0.044', '나뉘': '0.034', '나는 자연인이다': '0.034', '나는데욯': '0.034', '나니': '0.034', '나다니': '0.012', '나돌': '0.017', '나돌아다니': '0.021', '나들': '0.011', '나들이': '0.034', '나라': '0.032', '나란히': '0.034', '나로': '0.026', '나르': '0.034', '나른': '0.023', '나름': '0.014', '나리': '0.034', '나리타': '0.034', '나마': '0.014', '나말': '0.023', '나머지': '0.044', '나몰라라': '0.033', '나무': '0.043', '나무가지': '0.032', '나무숲': '0.015', '나물': '0.017', '나뭇가지': '0.034', '나뭇잎': '0.034', '나방': '0.018', '나보이': '0.029', '나비': '0.025', '나빠지': '0.034', '나쁘': '0.031', '나쁘지 않아': '0.024', '나산': '0.029', '나서': '0.009', '나소': '0.017', '나슐랭': '0.034', '나스': '0.034', '나시': '0.042', '나신': '0.031', '나아가': '0.028', '나아지': '0.010', '나야': '0.026', '나약': '0.034', '나열': '0.034', '나오': '0.034', '나왔는뎈': '0.034', '나왔다닝': '0.017', '나왔써요': '0.034', '나왔움': '0.034', '나우': '0.032', '나위': '0.029', '나은': '0.034', '나의 어머니': '0.044', '나이': '0.020', '나이스': '0.030', '나이키': '0.033', '나이테': '0.000', '나이트': '0.034', '나인': '0.025', '나인페': '0.034', '나일': '0.004', '나일론': '0.044', '나자빠지': '0.034', '나좀봐주지흘산아': '0.031', '나중': '0.006', '나진': '0.034', '나쵸를': '0.016', '나침반': '0.034', '나타': '0.011', '나타나': '0.034', '나타내': '0.016', '나트륨': '0.005', '나팔': '0.025', '나팔꽃': '0.026', '나현': '0.022', '낙': '0.021', '낙관': '0.017', '낙동강': '0.013', '낙동정맥': '0.033', '낙산': '0.015', '낙성대': '0.034', '낙성대역': '0.020', '낙안면': '0.034', '낙안읍성': '0.030', '낙엽': '0.022', '낙원': '0.034', '낙지': '0.017', '낙천': '0.034', '낙하': '0.000', '낚': '0.034', '낚시': '0.034', '낚시터': '0.028', '난': '0.002', '난 구': '0.026', '난 주': '0.000', '난간': '0.034', '난감': '0.033', '난관': '0.008', '난국': '0.034', '난나': '0.034', '난도': '0.000', '난동': '0.034', '난릐난릐': '0.011', '난리': '0.008', '난무': '0.012', '난바': '0.034', '난생처음': '0.034', '난이도': '0.009', '난잡': '0.034', '난장판': '0.034', '난쟁이': '0.033', '난초': '0.034', '난한': '0.034', '날': '0.076', '날개': '0.034', '날뛰': '0.034', '날라리': '0.034', '날로': '0.034', '날리': '0.011', '날벼락': '0.034', '날수': '0.033', '날씨': '0.044', '날씬': '0.013', '날씬핏으로': '0.013', '날아가': '0.008', '날아다니': '0.032', '날아오': '0.044', '날으': '0.034', '날인': '0.024', '날자': '0.034', '날짜': '0.034', '날짜아닙니당': '0.000', '날치': '0.016', '날파리': '0.034', '낡': '0.033', '남': '0.034', '남겨야겠쭁': '0.034', '남관': '0.031', '남구': '0.013', '남기': '0.036', '남기쟈': '0.034', '남김없이': '0.006', '남녀': '0.034', '남녀노소': '0.025', '남다르': '0.034', '남대문시장': '0.023', '남동구': '0.044', '남동생': '0.044', '남매': '0.034', '남매탑': '0.025', '남몰래': '0.034', '남문로': '0.018', '남방': '0.018', '남부': '0.019', '남부면': '0.034', '남북전쟁': '0.034', '남사': '0.038', '남산': '0.023', '남성': '0.034', '남성복': '0.015', '남성트렌치자켓': '0.012', '남신': '0.034', '남아': '0.034', '남양주시': '0.011', '남여': '0.034', '남영': '0.034', '남우': '0.022', '남은': '0.018', '남이': '0.034', '남이섬': '0.014', '남인': '0.021', '남일': '0.033', '남자': '0.032', '남자들': '0.030', '남자라면': '0.001', '남자친구': '0.026', '남지': '0.024', '남쪽': '0.034', '남편': '0.030', '남포동': '0.023', '남한강': '0.031', '남해': '0.019', '남해금산': '0.033', '납': '0.008', '납득': '0.011', '납입': '0.034', '납작': '0.023', '납치': '0.031', '납품': '0.033', '낫': '0.017', '낫샤': '0.030', '낭': '0.034', '낭낭쓰바로': '0.017', '낭떠러지': '0.033', '낭만': '0.011', '낭만쭈꾸미': '0.012', '낭비': '0.034', '낭시': '0.004', '낭패': '0.001', '낮': '0.033', '낮술': '0.033', '낮잠': '0.023', '낮추': '0.015', '낯': '0.034', '낯간지럽': '0.033', '낯선': '0.022', '낯선 사람': '0.034', '낯설': '0.028', '낱개': '0.034', '낳': '0.005', '내': '0.091', '내 마음 속에': '0.032', '내 사랑': '0.034', '내 손을 잡아': '0.034', '내가 사랑하는 사람': '0.033', '내가보인댜': '0.034', '내과': '0.034', '내구': '0.006', '내기': '0.034', '내나라': '0.022', '내내': '0.022', '내년': '0.034', '내놓': '0.005', '내동': '0.034', '내듀': '0.034', '내드리': '0.034', '내딛': '0.029', '내려가': '0.044', '내려놓': '0.044', '내려놓음': '0.034', '내려다보': '0.033', '내려오': '0.033', '내려지': '0.034', '내력': '0.008', '내리': '0.027', '내리치': '0.000', '내면': '0.034', '내몰': '0.034', '내몰리': '0.034', '내밀': '0.034', '내방': '0.001', '내방객': '0.026', '내뱉': '0.013', '내버리': '0.043', '내번': '0.009', '내보': '0.034', '내보내': '0.034', '내부': '0.036', '내뿜': '0.020', '내사': '0.034', '내사랑': '0.031', '내상': '0.031', '내새꾸를': '0.034', '내성': '0.044', '내세': '0.034', '내수': '0.034', '내슈빌': '0.029', '내시': '0.034', '내시는즁': '0.034', '내식': '0.034', '내신': '0.034', '내실': '0.011', '내야': '0.034', '내역': '0.034', '내연산': '0.034', '내외': '0.026', '내용': '0.020', '내원': '0.034', '내음': '0.011', '내의': '0.008', '내일': '0.033', '내일로': '0.034', '내장': '0.016', '내장산': '0.012', '내전': '0.044', '내점': '0.034', '내주': '0.034', '내지': '0.034', '내진': '0.001', '내추럴': '0.034', '내츄럴': '0.029', '내혼자': '0.012', '낵': '0.026', '낼름': '0.005', '냄비': '0.031', '냄새': '0.034', '냇가': '0.034', '냉': '0.034', '냉국': '0.029', '냉기': '0.033', '냉동': '0.034', '냉동실': '0.032', '냉면': '0.012', '냉장': '0.034', '냉장고': '0.031', '냉정': '0.033', '냉증': '0.034', '냉철': '0.034', '냉큼': '0.044', '냉포': '0.011', '냐': '0.044', '냠': '0.034', '냠냠': '0.010', '냠냠냠': '0.034', '냥': '0.028', '너': '0.022', '너구리': '0.016', '너그러히': '0.019', '너그럽': '0.044', '너넼': '0.043', '너는': '0.020', '너덜너덜': '0.033', '너라고': '0.034', '너를 사랑해': '0.034', '너머': '0.034', '너무': '0.196', '너무귀염뽀짝': '0.008', '너무나': '0.034', '너무너무': '0.009', '너무이뻐요': '0.034', '너무좋으당': '0.031', '너뮤좋아': '0.006', '너므나도': '0.029', '너므너므': '0.034', '너비': '0.034', '너에게': '0.030', '너와 나': '0.032', '너왜그랰': '0.034', '너의 결혼식': '0.034', '너저분': '0.003', '너희': '0.031', '넉넉': '0.028', '넉넉히': '0.021', '넋': '0.034', '넌': '0.019', '널': '0.033', '널리': '0.004', '널찍': '0.034', '넓': '0.021', '넓이': '0.031', '넓찍한': '0.013', '넓히': '0.029', '넖어보이는': '0.034', '넘': '0.034', '넘고생했댜': '0.034', '넘기': '0.034', '넘나빡쳐서': '0.019', '넘나행벅해': '0.000', '넘넘': '0.026', '넘맛존맛이었구욤': '0.027', '넘버': '0.012', '넘보': '0.034', '넘어가': '0.026', '넘어가닝': '0.009', '넘어뜨리': '0.035', '넘어서': '0.034', '넘어오': '0.011', '넘이쁴다': '0.031', '넘쳐흐느는': '0.030', '넘쳐흐르': '0.034', '넘치': '0.033', '넘흐': '0.034', '넘흐넘흐': '0.027', '넙적당면으로': '0.034', '넛츠휘낭시에': '0.034', '넣': '0.029', '넣어줬어욧': '0.014', '네': '0.034', '네가 좋아': '0.020', '네네츀힌': '0.031', '네덜란드': '0.044', '네로': '0.015', '네마': '0.034', '네스': '0.017', '네오': '0.004', '네온': '0.002', '네이버': '0.034', '네이버 지도': '0.022', '네이션': '0.000', '네이처': '0.013', '네이키드': '0.031', '네일': '0.034', '네일샵': '0.034', '네츄럴': '0.043', '네츄럴코어의': '0.032', '네츄럴한': '0.011', '네트': '0.028', '넥': '0.034', '넥디자인이': '0.034', '넥라인': '0.034', '넥이랑': '0.016', '넥카라': '0.034', '넥카라를': '0.023', '넥카라하고': '0.034', '넬': '0.034', '넬리': '0.032', '넷': '0.023', '넷플릭스': '0.042', '녀': '0.034', '녀석': '0.034', '년': '0.034', '년대': '0.025', '년차': '0.034', '녜': '0.027', '노': '0.033', '노가다': '0.034', '노고': '0.000', '노곤': '0.034', '노글루펌': '0.034', '노니': '0.034', '노닥거리': '0.034', '노동': '0.034', '노동자': '0.034', '노라': '0.034', '노랑': '0.033', '노랗': '0.034', '노래': '0.034', '노래방': '0.034', '노랫말': '0.028', '노랭이': '0.033', '노량진': '0.030', '노려보': '0.032', '노력': '0.033', '노령': '0.033', '노령산맥': '0.034', '노로바이러스': '0.034', '노루': '0.017', '노르딕': '0.034', '노른자': '0.034', '노릇': '0.012', '노리': '0.034', '노릿꼬릿한': '0.012', '노마': '0.032', '노멀': '0.034', '노무': '0.034', '노바': '0.034', '노블': '0.044', '노스페이스': '0.034', '노심초사': '0.038', '노아': '0.034', '노약자': '0.032', '노엘': '0.029', '노여움': '0.015', '노예': '0.032', '노을': '0.042', '노이로제': '0.026', '노인': '0.033', '노적봉': '0.027', '노점': '0.016', '노점상': '0.032', '노즈밤': '0.032', '노즈워크': '0.018', '노즈워크가': '0.016', '노즈워크부분에': '0.017', '노즈워크에': '0.034', '노초': '0.034', '노출': '0.034', '노트': '0.022', '노트북': '0.017', '노하우': '0.034', '노화': '0.032', '노후': '0.034', '노희경': '0.009', '녹': '0.005', '녹겟네': '0.012', '녹두': '0.043', '녹록': '0.035', '녹색': '0.019', '녹스': '0.034', '녹용': '0.033', '녹음': '0.011', '녹음실': '0.033', '녹이': '0.031', '녹진': '0.031', '녹차': '0.029', '녹차초코크럼블': '0.034', '녹차팥밤크럼블': '0.003', '논': '0.034', '논거같으': '0.033', '논란': '0.031', '논리': '0.044', '논문': '0.012', '논픽션': '0.029', '논현': '0.017', '논현동': '0.034', '논현로': '0.031', '놀': '0.034', '놀고싶따': '0.018', '놀라': '0.034', '놀랍': '0.034', '놀랐닼나랑': '0.027', '놀래': '0.004', '놀래기': '0.034', '놀러가쟈': '0.034', '놀리': '0.030', '놀이': '0.026', '놀이감': '0.028', '놀이공원': '0.034', '놀이기구': '0.007', '놀이터': '0.025', '놀이학습': '0.011', '놈': '0.043', '놉': '0.034', '농': '0.034', '농담': '0.034', '농도': '0.034', '농부': '0.017', '농약': '0.003', '농장': '0.034', '농촌': '0.019', '농축': '0.034', '농협': '0.034', '높': '0.034', '높이': '0.025', '놓': '0.026', '놓아두': '0.009', '놓아주': '0.034', '놓으셔도': '0.030', '놓이': '0.006', '놓치': '0.034', '뇌': '0.018', '뇌경색': '0.030', '뇌물': '0.031', '뇌파': '0.034', '뇌피셜뇽쓰를': '0.022', '뇨': '0.034', '뇸뇸': '0.018', '뇽쓰가': '0.001', '뇽쓰랑': '0.007', '뇽쓰앞으로도': '0.015', '뇽쓰의': '0.034', '뇽이는': '0.034', '뇽이도': '0.034', '뇽이쫄라서': '0.026', '누': '0.034', '누가': '0.028', '누구': '0.044', '누그러지': '0.001', '누나': '0.013', '누난 너무 예뻐': '0.044', '누누': '0.030', '누님': '0.034', '누드': '0.033', '누락': '0.011', '누룩': '0.028', '누룽아': '0.024', '누룽지': '0.020', '누르': '0.033', '누릉지': '0.034', '누리': '0.030', '누비': '0.012', '누수': '0.034', '누에': '0.013', '누웠눙데': '0.034', '누적': '0.034', '누텔라': '0.002', '눅눅': '0.021', '눅진': '0.033', '눈가': '0.018', '눈감': '0.011', '눈금': '0.034', '눈길': '0.033', '눈꺼풀': '0.019', '눈높이': '0.034', '눈동자': '0.034', '눈두덩이': '0.016', '눈뜨': '0.025', '눈매': '0.033', '눈물': '0.034', '눈물겹': '0.034', '눈물샘': '0.034', '눈물짓': '0.029', '눈밭': '0.034', '눈부시': '0.005', '눈부심': '0.009', '눈빛': '0.034', '눈썹': '0.032', '눈알': '0.032', '눈앞': '0.022', '눈여겨보': '0.043', '눈여기': '0.034', '눈웃음': '0.034', '눈치': '0.016', '눈치잔소리가없캬캬': '0.019', '눈코': '0.034', '눈팅과': '0.013', '눈팅밤팅': '0.025', '눌리': '0.033', '눕': '0.033', '눕눕중': '0.034', '눕방시쟉': '0.025', '눕히': '0.029', '눙무리': '0.034', '눙물의': '0.010', '뉘': '0.017', '뉴': '0.034', '뉴스': '0.034', '뉴에비카츠동을': '0.034', '뉴에비카츠인지': '0.033', '뉴욕': '0.044', '뉴잉글랜드': '0.009', '뉴질랜드': '0.034', '뉴트리션': '0.015', '뉴페': '0.004', '느': '0.030', '느긋': '0.034', '느긋이': '0.034', '느껴지는마싯당': '0.034', '느끼': '0.033', '느낌': '0.017', '느리': '0.025', '느릿느릿': '0.026', '느즈막히': '0.015', '느타리': '0.000', '느타리버섯': '0.044', '늑김': '0.028', '늘': '0.034', '늘리': '0.033', '늘어나': '0.034', '늘어놓': '0.022', '늘어지': '0.010', '늙': '0.020', '늠': '0.001', '늠름': '0.034', '능': '0.034', '능구렁이': '0.027', '능동': '0.026', '능력': '0.017', '능선': '0.034', '늦': '0.018', '늦여름': '0.015', '늦잠': '0.015', '늦추': '0.034', '늪': '0.034', '늬': '0.005', '니': '0.012', '니나': '0.011', '니나노': '0.034', '니다': '0.022', '니드라이': '0.034', '니들': '0.034', '니스': '0.000', '니시무라': '0.004', '니야': '0.032', '니어': '0.034', '니엘': '0.022', '니요': '0.034', '니즈': '0.034', '니지': '0.000', '니코': '0.000', '니트': '0.034', '니트웨어': '0.031', '닉': '0.014', '닊김을': '0.010', '닌자': '0.034', '닌지': '0.034', '닐': '0.003', '님': '0.034', '님과 함께': '0.033', '님다': '0.022', '닛신': '0.003', '닝겐': '0.034', '닝겐들': '0.033', '닢': '0.032', '다': '0.035', '다가가': '0.027', '다가오': '0.011', '다각형': '0.032', '다구': '0.033', '다구리': '0.033', '다그': '0.010', '다그렁가유': '0.003', '다그치': '0.004', '다기': '0.034', '다나': '0.034', '다녀가': '0.030', '다녀오': '0.025', '다녔었넹': '0.011', '다누': '0.022', '다니': '0.034', '다다랐는데': '0.028', '다단계': '0.031', '다대기': '0.034', '다독이': '0.035', '다됬다': '0.034', '다듬': '0.034', '다라': '0.034', '다락': '0.027', '다람쥐': '0.009', '다래끼': '0.034', '다루': '0.030', '다르': '0.021', '다른': '0.031', '다른 나라에서': '0.021', '다른샵에': '0.032', '다리': '0.023', '다린': '0.010', '다림': '0.026', '다만': '0.006', '다발': '0.013', '다발프레쉬몰의': '0.020', '다방': '0.014', '다보': '0.008', '다비': '0.034', '다뽀록나지만': '0.034', '다사': '0.034', '다사다난': '0.003', '다산': '0.033', '다산동': '0.034', '다섯': '0.017', '다소': '0.033', '다솔사': '0.034', '다솜': '0.019', '다수': '0.034', '다스리': '0.034', '다슬기': '0.023', '다시': '0.053', '다시 구': '0.033', '다시 만날 때까지': '0.000', '다시 시작해': '0.007', '다시금': '0.034', '다시마': '0.033', '다실': '0.016', '다양': '0.034', '다양성': '0.010', '다예': '0.034', '다오': '0.000', '다온쨩': '0.004', '다와': '0.034', '다용도': '0.027', '다용도실': '0.030', '다우': '0.033', '다운': '0.012', '다운로드': '0.034', '다운펌': '0.031', '다원': '0.033', '다윗': '0.029', '다음': '0.019', '다음날': '0.031', '다음달쯔음': '0.032', '다음번': '0.030', '다이': '0.017', '다이노': '0.034', '다이렉': '0.022', '다이렉트로': '0.033', '다이렉트를': '0.027', '다이버': '0.034', '다이브': '0.034', '다이빙': '0.033', '다이소': '0.025', '다이아': '0.034', '다이아몬드': '0.018', '다이어리': '0.033', '다이어터': '0.015', '다이어트': '0.017', '다이얼': '0.034', '다인': '0.027', '다임': '0.034', '다정': '0.034', '다지': '0.020', '다짐': '0.033', '다채': '0.012', '다치': '0.013', '다카': '0.019', '다쿠아즈': '0.034', '다쿠아즈다크초코뽀또죠리퐁앙버터인절미': '0.034', '다크': '0.027', '다투': '0.000', '다툼': '0.024', '다하겠씁니다': '0.019', '다합': '0.001', '다해줘쒀요': '0.008', '다행': '0.009', '다행이': '0.034', '다행히': '0.043', '다회': '0.015', '다희': '0.027', '닥스': '0.034', '닥쳐오': '0.013', '닥치': '0.034', '닥터': '0.011', '닥터리브': '0.030', '닥터스': '0.013', '닦': '0.019', '닦이': '0.028', '단': '0.026', '단 하나의 사랑': '0.006', '단가': '0.021', '단걸음에': '0.034', '단계': '0.024', '단골': '0.011', '단골손님': '0.022', '단골집': '0.026', '단국아벱은': '0.000', '단기': '0.044', '단기간': '0.009', '단단': '0.034', '단단히': '0.029', '단당류': '0.032', '단독': '0.034', '단돈': '0.020', '단련': '0.000', '단맛': '0.030', '단면': '0.007', '단발': '0.031', '단백': '0.017', '단백질': '0.012', '단번에': '0.018', '단벌': '0.034', '단비': '0.030', '단상': '0.034', '단속': '0.024', '단순': '0.032', '단순히': '0.034', '단숨에': '0.009', '단식': '0.034', '단아': '0.008', '단양': '0.034', '단어': '0.002', '단언': '0.030', '단연': '0.033', '단열': '0.034', '단우': '0.032', '단위': '0.034', '단일': '0.033', '단자': '0.034', '단절': '0.033', '단점': '0.014', '단정': '0.022', '단조': '0.034', '단조롭': '0.043', '단죄': '0.034', '단주': '0.025', '단지': '0.034', '단짝': '0.034', '단짠새콤의': '0.031', '단체': '0.013', '단촐': '0.034', '단추': '0.032', '단축': '0.033', '단타': '0.019', '단풍': '0.034', '단풍샵': '0.018', '단호': '0.030', '닫': '0.009', '달': '0.031', '달걀': '0.034', '달고': '0.033', '달구벌대로': '0.024', '달기': '0.034', '달달': '0.044', '달닼': '0.025', '달동': '0.042', '달라': '0.002', '달라붙': '0.017', '달라지': '0.033', '달래': '0.034', '달려가': '0.023', '달려들': '0.008', '달려오': '0.004', '달려와': '0.029', '달리': '0.034', '달리기': '0.024', '달마': '0.030', '달밤': '0.031', '달빛': '0.034', '달서구': '0.034', '달성': '0.034', '달아나': '0.001', '달의 연인': '0.003', '달인': '0.034', '달짝지근': '0.034', '달콤': '0.025', '달콤매콤': '0.034', '달콤새콤': '0.043', '달콥': '0.034', '달팽이': '0.034', '달하': '0.034', '닭': '0.014', '닭가슴살스테이크맥반석계란아몬드주먹밥그릭요거비트잼히비자몽': '0.036', '닭갈비': '0.026', '닭강정': '0.034', '닭고기': '0.033', '닭꼬치': '0.034', '닭다리': '0.028', '닭똥집': '0.009', '닭발': '0.034', '닭살': '0.044', '닭새우': '0.028', '닭장': '0.022', '닭튀김': '0.030', '닮': '0.034', '닮아쬬': '0.014', '닮은꼴': '0.033', '닮음': '0.005', '닳': '0.034', '담구': '0.029', '담그': '0.033', '담기': '0.026', '담담': '0.033', '담당': '0.034', '담당자': '0.013', '담배': '0.023', '담백': '0.034', '담백꼬숩': '0.032', '담아내': '0.007', '담양': '0.034', '담요': '0.022', '담쮸는': '0.033', '담합': '0.044', '답': '0.028', '답답': '0.043', '답닺하셔도': '0.044', '답례품': '0.003', '답방': '0.034', '답변': '0.020', '답신': '0.017', '답장': '0.013', '답해드릴게욤': '0.034', '닷': '0.007', '닷지': '0.034', '당': '0.033', '당골': '0.033', '당국': '0.031', '당근': '0.031', '당김': '0.033', '당당': '0.033', '당당히': '0.004', '당도': '0.034', '당돌': '0.034', '당량': '0.027', '당면': '0.031', '당부': '0.034', '당분간': '0.034', '당사항': '0.000', '당산': '0.044', '당수': '0.009', '당시': '0.022', '당신': '0.034', '당신은 나': '0.034', '당연': '0.044', '당연히': '0.034', '당일치기': '0.028', '당장': '0.038', '당진': '0.032', '당첨': '0.024', '당첨자': '0.031', '당초': '0.028', '당포성지': '0.025', '당하': '0.034', '당황': '0.015', '닿': '0.031', '대': '0.034', '대가': '0.034', '대가리': '0.030', '대가면': '0.034', '대강': '0.033', '대개': '0.012', '대거': '0.034', '대게': '0.034', '대견': '0.026', '대결': '0.043', '대공': '0.031', '대관': '0.025', '대관령': '0.026', '대교': '0.034', '대구': '0.032', '대구광역시': '0.006', '대구백화점': '0.016', '대국': '0.034', '대기': '0.034', '대기업': '0.032', '대낮': '0.034', '대놓고': '0.034', '대는걸롱': '0.034', '대다수': '0.030', '대단': '0.021', '대단히': '0.032', '대답': '0.012', '대대': '0.034', '대도': '0.012', '대동맥': '0.018', '대동문': '0.032', '대두': '0.010', '대두스탠딩입니다': '0.034', '대둔산': '0.011', '대들': '0.034', '대란': '0.034', '대량': '0.034', '대로': '0.032', '대루': '0.016', '대릉': '0.032', '대리': '0.029', '대리석': '0.033', '대리인': '0.031', '대마도': '0.032', '대만': '0.033', '대면': '0.034', '대명': '0.034', '대명사': '0.012', '대목': '0.034', '대문': '0.001', '대물': '0.021', '대바구니': '0.031', '대박': '0.034', '대박조합이졍': '0.034', '대보': '0.034', '대본': '0.007', '대본집': '0.005', '대봉': '0.034', '대부도': '0.024', '대부분': '0.004', '대비': '0.034', '대사': '0.033', '대사해보깈': '0.031', '대상': '0.019', '대상포진': '0.034', '대서': '0.034', '대성': '0.024', '대성통곡': '0.034', '대세': '0.034', '대수롭': '0.031', '대승령': '0.003', '대식': '0.009', '대신': '0.034', '대신동': '0.005', '대안': '0.034', '대야': '0.030', '대야산': '0.009', '대양': '0.034', '대여': '0.009', '대연': '0.034', '대연동': '0.034', '대왕': '0.015', '대외': '0.028', '대용량': '0.033', '대우': '0.012', '대원': '0.032', '대위': '0.000', '대음순': '0.034', '대응': '0.034', '대의': '0.022', '대장': '0.033', '대장균': '0.015', '대장내시경': '0.034', '대전': '0.031', '대전핫플': '0.026', '대접': '0.015', '대조': '0.034', '대중': '0.008', '대중교통': '0.012', '대지': '0.015', '대차': '0.034', '대창': '0.019', '대책': '0.023', '대처': '0.001', '대천': '0.026', '대천동': '0.041', '대천벙': '0.034', '대천해수욕장': '0.034', '대첩': '0.032', '대체': '0.032', '대체로': '0.034', '대추': '0.004', '대충': '0.034', '대충대충': '0.006', '대파': '0.034', '대판': '0.034', '대패': '0.023', '대표': '0.033', '대피소': '0.033', '대하': '0.034', '대학': '0.027', '대학교': '0.043', '대학로': '0.030', '대학생': '0.032', '대학원': '0.033', '대한': '0.034', '대한민국': '0.034', '대한통운': '0.012', '대합': '0.034', '대행': '0.026', '대행업체': '0.001', '대형': '0.008', '대호수': '0.034', '대화': '0.031', '대회': '0.033', '대흥동': '0.015', '댄스': '0.035', '댇이누룽': '0.034', '댐': '0.034', '댓': '0.034', '댓가': '0.034', '댓글': '0.033', '댓바람': '0.034', '댕': '0.034', '댕기': '0.034', '댕츄러스': '0.032', '댕프화이트': '0.034', '더 가까이': '0.034', '더 파이팅': '0.034', '더구나': '0.033', '더군다나': '0.033', '더더': '0.034', '더더욱': '0.006', '더디': '0.033', '더럽': '0.022', '더럽히': '0.032', '더부룩': '0.033', '더불': '0.034', '더블': '0.000', '더블에스': '0.026', '더블치즈조개롱': '0.033', '더빙': '0.010', '더샵하예': '0.008', '더스트': '0.034', '더없이': '0.032', '더욱': '0.034', '더욱더': '0.023', '더위': '0.034', '더위사냥': '0.027', '더치 커피': '0.009', '더티': '0.034', '더티노프': '0.044', '더픽처스': '0.034', '더하': '0.034', '덕': '0.014', '덕목': '0.000', '덕배': '0.032', '덕분': '0.032', '덕분이엌습니다': '0.034', '덕수궁': '0.033', '덕숭산': '0.007', '덕이': '0.021', '덕지덕지': '0.028', '덕치': '0.006', '덕희': '0.033', '덕희가': '0.010', '던지': '0.034', '던지기': '0.031', '던킨': '0.013', '덜': '0.034', '덜덜': '0.033', '덜컥': '0.034', '덜하': '0.044', '덤': '0.034', '덤덤': '0.007', '덤덤히': '0.022', '덤불': '0.044', '덤블': '0.022', '덤블보아': '0.034', '덤비': '0.034', '덥': '0.034', '덥따': '0.034', '덧': '0.031', '덧나': '0.044', '덧바르': '0.024', '덧씌우': '0.011', '덧없': '0.031', '덩그러니': '0.034', '덩말': '0.034', '덩싸고': '0.012', '덩어리': '0.034', '덩이': '0.025', '덩치': '0.034', '덩크': '0.034', '덮': '0.013', '덮밥': '0.024', '덮이': '0.034', '덮히': '0.015', '데': '0.034', '데꼬': '0.032', '데님': '0.028', '데드리프트': '0.034', '데려가': '0.034', '데려가줭': '0.034', '데려오': '0.033', '데리': '0.034', '데리야': '0.034', '데미안': '0.034', '데스': '0.002', '데스크': '0.044', '데시': '0.034', '데우': '0.017', '데이': '0.034', '데이지': '0.034', '데이터': '0.034', '데이트': '0.033', '데인': '0.029', '데일': '0.034', '데일리': '0.033', '데일리자켓베이지': '0.027', '데일리자켓은': '0.034', '데치': '0.034', '뎀뵤': '0.034', '뎡말': '0.029', '뎡말사진': '0.016', '도': '0.021', '도가': '0.014', '도가니': '0.013', '도감': '0.002', '도구': '0.030', '도금': '0.018', '도깨비': '0.022', '도널드': '0.006', '도넛': '0.022', '도다': '0.031', '도달': '0.033', '도대체': '0.033', '도덕': '0.033', '도도': '0.034', '도둑': '0.033', '도라': '0.034', '도라에몽': '0.008', '도라지': '0.009', '도래': '0.034', '도량': '0.034', '도레미': '0.018', '도려내': '0.032', '도로': '0.011', '도로로': '0.034', '도로시': '0.034', '도리': '0.028', '도마': '0.034', '도망': '0.007', '도망가': '0.034', '도망치': '0.021', '도매': '0.012', '도매가격': '0.034', '도매상': '0.034', '도면': '0.034', '도미노피자': '0.005', '도박': '0.034', '도배': '0.014', '도보': '0.034', '도봉': '0.034', '도봉산': '0.004', '도브': '0.023', '도사': '0.021', '도산': '0.034', '도색': '0.028', '도서': '0.006', '도소매': '0.034', '도수': '0.015', '도슨팅': '0.034', '도시': '0.030', '도시락': '0.034', '도심': '0.034', '도안': '0.010', '도약': '0.015', '도어': '0.018', '도열': '0.022', '도오': '0.032', '도와주': '0.032', '도용': '0.032', '도우': '0.033', '도우미': '0.011', '도움': '0.012', '도윤': '0.014', '도입': '0.034', '도자': '0.000', '도자기': '0.033', '도장': '0.025', '도저히': '0.034', '도전': '0.025', '도전장': '0.044', '도제': '0.034', '도중': '0.034', '도즈언': '0.034', '도착': '0.019', '도청': '0.030', '도촬하지': '0.034', '도축': '0.034', '도쿄': '0.013', '도키': '0.030', '도태': '0.034', '도토': '0.033', '도토리': '0.032', '도톰': '0.033', '도통': '0.033', '도프': '0.034', '도플갱어': '0.034', '도피': '0.033', '도하': '0.021', '독': '0.033', '독감': '0.032', '독경': '0.033', '독립': '0.034', '독보': '0.032', '독서': '0.018', '독설': '0.028', '독소': '0.024', '독수공방': '0.013', '독일': '0.009', '독자': '0.029', '독제': '0.034', '독주': '0.034', '독특': '0.028', '독하': '0.034', '독하게': '0.033', '독학': '0.034', '독해': '0.033', '돈': '0.020', '돈가스': '0.000', '돈까스': '0.022', '돈까스가': '0.033', '돈까스김치볶음밥': '0.034', '돈까스냉모밀': '0.023', '돈까스랑': '0.033', '돈까스로': '0.002', '돈까스소스': '0.034', '돈까스에': '0.016', '돈까스육즙': '0.034', '돈까스의': '0.034', '돈까스집': '0.010', '돈까스함박크림파스타': '0.019', '돈뜨레': '0.034', '돈벌이': '0.031', '돈부리': '0.021', '돈워메코는요': '0.010', '돈줄': '0.015', '돈코츠': '0.034', '돈코츠라멘과': '0.034', '돋': '0.020', '돋구': '0.043', '돋보기': '0.003', '돋보이': '0.001', '돌': '0.003', '돌고': '0.001', '돌다리': '0.012', '돌담': '0.004', '돌돌': '0.044', '돌돔': '0.020', '돌려받': '0.028', '돌려보내': '0.033', '돌려주': '0.030', '돌리': '0.018', '돌리네': '0.032', '돌리지': '0.020', '돌멩들이': '0.002', '돌멩이': '0.022', '돌보': '0.034', '돌상': '0.028', '돌쇠': '0.000', '돌아가': '0.044', '돌아다니': '0.021', '돌아보': '0.034', '돌아서': '0.007', '돌아오': '0.034', '돌아오는 길': '0.029', '돌아올겡': '0.000', '돌이': '0.034', '돌이키': '0.017', '돌이킬 수 없는': '0.034', '돌잔치': '0.016', '돌잡이': '0.032', '돌집': '0.034', '돌출': '0.034', '돌파': '0.030', '돌핀': '0.034', '돔': '0.034', '돕': '0.031', '돗': '0.034', '돗자리': '0.034', '동': '0.030', '동거': '0.015', '동결': '0.027', '동공': '0.004', '동구': '0.001', '동굴': '0.017', '동그라미': '0.032', '동그랗': '0.021', '동글': '0.019', '동글동글': '0.034', '동기': '0.030', '동기 부여': '0.034', '동남아': '0.044', '동네': '0.022', '동네방네': '0.022', '동대문': '0.009', '동대문구': '0.018', '동도': '0.028', '동동': '0.008', '동동거리': '0.034', '동동주': '0.029', '동등': '0.024', '동료': '0.003', '동맥': '0.001', '동명': '0.033', '동문': '0.018', '동물': '0.020', '동물원': '0.034', '동물학대': '0.034', '동반': '0.021', '동반자': '0.032', '동백': '0.019', '동백나무': '0.029', '동복': '0.031', '동봉': '0.034', '동부': '0.044', '동사': '0.019', '동산': '0.033', '동생': '0.034', '동서': '0.034', '동석': '0.033', '동성로': '0.033', '동시': '0.009', '동심': '0.011', '동아': '0.034', '동안': '0.009', '동암': '0.030', '동양': '0.034', '동영상': '0.025', '동요': '0.034', '동우': '0.030', '동원': '0.032', '동의': '0.034', '동이': '0.015', '동일': '0.020', '동작': '0.006', '동장': '0.009', '동전': '0.010', '동점': '0.034', '동정': '0.009', '동정심': '0.033', '동조': '0.033', '동지': '0.005', '동진': '0.024', '동쪽': '0.004', '동참': '0.029', '동치미': '0.033', '동탄': '0.030', '동탄신도시': '0.022', '동트': '0.033', '동파육': '0.034', '동편': '0.034', '동학사': '0.019', '동해': '0.034', '동해안': '0.034', '동행': '0.030', '동호': '0.034', '동화': '0.044', '돝고기': '0.034', '돼지': '0.017', '돼지고기': '0.025', '돼지국밥': '0.008', '돼지바': '0.034', '되': '0.036', '되겠땬': '0.000', '되돌': '0.034', '되돌리': '0.010', '되돌아가': '0.026', '되돌아보': '0.034', '되새': '0.034', '되새기': '0.019', '되짚': '0.034', '되찾': '0.034', '된장': '0.024', '된장찌개': '0.034', '됩니당': '0.031', '됩니둥': '0.003', '됫는데': '0.033', '됬는데': '0.034', '됬다': '0.005', '됬다고': '0.021', '됬다구': '0.011', '됬다는': '0.016', '됬지': '0.021', '두': '0.032', '두 아들': '0.032', '두고두고': '0.013', '두그': '0.021', '두근두근': '0.034', '두기': '0.041', '두꺼비': '0.044', '두껍': '0.005', '두께': '0.011', '두뇌': '0.034', '두두': '0.034', '두둑히': '0.034', '두둠입쭐': '0.013', '두드러기': '0.034', '두드러지': '0.034', '두드리': '0.034', '두들기': '0.024', '두려움': '0.028', '두려워하': '0.009', '두렵': '0.007', '두루': '0.034', '두루두루': '0.034', '두루마기': '0.002', '두르': '0.032', '두리': '0.034', '두리번거리': '0.034', '두마': '0.033', '두말': '0.033', '두물머리': '0.034', '두발': '0.034', '두번째펌': '0.033', '두보': '0.031', '두부': '0.011', '두부김치': '0.033', '두부탕': '0.034', '두상': '0.022', '두서없이': '0.011', '두세': '0.002', '두아': '0.034', '두어': '0.034', '두유': '0.030', '두절': '0.031', '두지': '0.009', '두텁': '0.034', '두통': '0.006', '두툼': '0.034', '두피': '0.033', '둔하': '0.034', '둘': '0.034', '둘둘': '0.020', '둘러보': '0.000', '둘러싸': '0.017', '둘레': '0.003', '둘레길': '0.029', '둘리': '0.029', '둘이': '0.004', '둘째': '0.016', '둡찡': '0.023', '둥': '0.034', '둥글': '0.025', '둥글둥글': '0.034', '둥둥': '0.044', '둥지': '0.017', '뒈져라고': '0.034', '뒈졌다가': '0.024', '뒈지는': '0.009', '뒈질뻔했어요': '0.031', '뒤': '0.015', '뒤꿈치': '0.033', '뒤늦': '0.034', '뒤덮': '0.034', '뒤돌': '0.017', '뒤돌아보': '0.033', '뒤따르': '0.006', '뒤떨어지': '0.034', '뒤로하': '0.034', '뒤롴창문': '0.008', '뒤섞이': '0.033', '뒤숭숭': '0.034', '뒤적거리': '0.008', '뒤적이': '0.030', '뒤죽박죽': '0.033', '뒤지': '0.005', '뒤집': '0.019', '뒤집기': '0.031', '뒤집히': '0.007', '뒤쪽': '0.026', '뒤쫒아': '0.023', '뒤척이': '0.031', '뒤쳐지': '0.000', '뒤통수': '0.031', '뒤틀리': '0.023', '뒤흔들': '0.031', '뒷': '0.014', '뒷늦게': '0.012', '뒷다리': '0.018', '뒷담': '0.019', '뒷머리': '0.034', '뒷면': '0.034', '뒷모습': '0.034', '뒷바라지': '0.034', '뒷발': '0.026', '뒷배경': '0.022', '뒷밴딩힙': '0.023', '뒷부분': '0.044', '뒷산': '0.024', '뒷자리': '0.033', '뒷전': '0.030', '뒷정리': '0.030', '뒷주머니': '0.006', '뒷편': '0.023', '뒹굴': '0.021', '듀얼': '0.019', '듀얼코어로': '0.025', '듀엣': '0.027', '듀오': '0.019', '듀크': '0.034', '드': '0.034', '드까르멜릿': '0.030', '드나들': '0.013', '드넓': '0.019', '드노': '0.034', '드뎌': '0.021', '드디어': '0.034', '드라마': '0.025', '드라이': '0.009', '드라이버': '0.010', '드라이브': '0.019', '드라이브 인': '0.034', '드라이빙': '0.008', '드랍해드립니다': '0.026', '드래곤': '0.034', '드러나': '0.034', '드러내': '0.033', '드러눕': '0.033', '드럽': '0.029', '드레스': '0.038', '드레싱': '0.005', '드려욧': '0.034', '드로잉': '0.004', '드롭핏': '0.020', '드릅게': '0.034', '드리': '0.120', '드리프트': '0.034', '드릴': '0.025', '드림': '0.033', '드립 커피': '0.015', '드링크': '0.030', '드문드문': '0.032', '드물': '0.032', '드세': '0.030', '드윽': '0.033', '득': '0.034', '득실거리': '0.033', '득점': '0.018', '득템': '0.030', '득템찬스': '0.029', '득템하세유': '0.034', '득템하실': '0.031', '득템해서': '0.034', '득표': '0.018', '든든': '0.019', '든든히': '0.023', '듣': '0.034', '듣기': '0.033', '들': '0.043', '들개': '0.022', '들거워떠여': '0.015', '들기름': '0.018', '들깨': '0.034', '들꽃': '0.034', '들녘': '0.010', '들뜨': '0.044', '들락날락': '0.044', '들려오': '0.034', '들려주': '0.044', '들로': '0.011', '들르': '0.029', '들리': '0.006', '들머리': '0.017', '들보': '0.034', '들쑥날쑥': '0.034', '들어가': '0.044', '들어오': '0.044', '들어주': '0.018', '들어차': '0.028', '들여다보': '0.019', '들여오': '0.034', '들오': '0.002', '들이': '0.034', '들이대': '0.010', '들이마시': '0.034', '들이켜': '0.006', '들추': '0.034', '들치': '0.006', '들키': '0.030', '듬뿍': '0.004', '듬뿍듬뿍': '0.034', '듬성듬성': '0.034', '듯': '0.033', '듯이': '0.034', '등': '0.027', '등각류': '0.034', '등골': '0.034', '등교': '0.016', '등극': '0.034', '등급': '0.044', '등등': '0.034', '등록': '0.034', '등록금': '0.004', '등반': '0.034', '등불': '0.029', '등산': '0.016', '등산가': '0.034', '등산객': '0.010', '등산고고씽': '0.004', '등산로': '0.028', '등산화': '0.018', '등수': '0.034', '등신': '0.034', '등심': '0.034', '등심돈까스닭다리김치볶음밥': '0.032', '등원': '0.000', '등장': '0.034', '등지': '0.034', '등짐': '0.003', '등판': '0.028', '등하교': '0.034', '디': '0.019', '디너': '0.034', '디데이': '0.034', '디도': '0.034', '디룩디룩': '0.008', '디스': '0.044', '디스코': '0.022', '디스크': '0.033', '디아': '0.011', '디어': '0.033', '디엠': '0.034', '디엠댓글': '0.029', '디엠들도': '0.034', '디엠에': '0.022', '디엠으로': '0.034', '디엠으루': '0.034', '디엠은': '0.030', '디엠이나': '0.020', '디엠주세요': '0.034', '디엠할': '0.043', '디엠해': '0.027', '디엠해주세요': '0.001', '디오': '0.034', '디자이너': '0.034', '디자이너쌤들이': '0.034', '디자인': '0.027', '디자인면타프예요': '0.042', '디쟈인': '0.030', '디저트': '0.034', '디제이': '0.034', '디져트로': '0.021', '디져트맛집': '0.031', '디즈': '0.024', '디즈니': '0.033', '디지털': '0.034', '디테일': '0.022', '디톡스': '0.001', '딘': '0.033', '딜라이트플': '0.030', '딜로': '0.034', '딜리': '0.034', '딥': '0.034', '딥그린컬러가': '0.000', '딥브라운와이드슬랙스와': '0.034', '딥슬립': '0.034', '딥슬립하시는': '0.016', '딩': '0.015', '딩굴': '0.032', '딩동댕': '0.044', '따': '0.044', '따갑': '0.034', '따끈': '0.006', '따끈따끈': '0.032', '따님': '0.000', '따듯': '0.009', '따땃': '0.034', '따뜻': '0.028', '따뜻한 말 한마디': '0.033', '따라가': '0.034', '따라다니': '0.034', '따라서': '0.001', '따라오': '0.017', '따로': '0.020', '따르': '0.030', '따름': '0.034', '따먹': '0.034', '따분': '0.034', '따사': '0.033', '따스': '0.033', '따오': '0.034', '따위': '0.023', '따지': '0.034', '따흐흐규': '0.034', '딱': '0.019', '딱딱': '0.034', '딱새': '0.034', '딱지': '0.023', '딱하': '0.032', '딱히': '0.034', '딴': '0.031', '딴딴': '0.033', '딸': '0.028', '딸기': '0.017', '딸기쉐이크': '0.010', '딸기우유': '0.012', '딸기콘': '0.029', '딸랑딸랑': '0.034', '딸리': '0.009', '딸아': '0.017', '딸아이': '0.028', '땀': '0.034', '땀나': '0.015', '땀범벅': '0.028', '땅끄부부승모근스트레칭': '0.030', '땅끄부부유산소': '0.034', '땅끄부부유산소매운맛': '0.000', '땅따먹기': '0.027', '땅콩': '0.031', '땋': '0.034', '때': '0.028', '때려치우': '0.003', '때로': '0.009', '때마침': '0.026', '때문': '0.020', '때뭉이다': '0.034', '때우': '0.013', '땜': '0.003', '땜시': '0.034', '땡기': '0.032', '땡땡': '0.034', '땡땡이': '0.019', '땡큐': '0.010', '떄문일까': '0.031', '떠가': '0.023', '떠나': '0.010', '떠나가': '0.034', '떠나보내': '0.028', '떠나오': '0.033', '떠다니': '0.031', '떠들': '0.044', '떠맡기': '0.026', '떠먹': '0.031', '떠받치': '0.031', '떠보닝': '0.025', '떠오르': '0.038', '떠올리': '0.034', '떠지': '0.034', '떡': '0.012', '떡갈비': '0.034', '떡갈비카츠': '0.034', '떡값': '0.033', '떡국': '0.026', '떡두꺼비': '0.006', '떡볶이': '0.033', '떡집': '0.032', '떨': '0.003', '떨궈서': '0.012', '떨기': '0.033', '떨리': '0.016', '떨어뜨리': '0.034', '떨어지': '0.033', '떨어트리': '0.028', '떨치': '0.034', '떰': '0.001', '떳떳': '0.000', '떵구름한자교실': '0.021', '떼': '0.034', '떼거짘': '0.034', '떼쓰': '0.033', '떼이': '0.044', '뗏목': '0.031', '또': '0.034', '또가자꿍': '0.015', '또는': '0.033', '또다시': '0.034', '또래': '0.026', '또렷': '0.032', '또롱이가': '0.021', '또르륵': '0.007', '또한': '0.013', '똑': '0.034', '똑같': '0.013', '똑같이': '0.044', '똑똑': '0.019', '똑바로': '0.032', '똘아깽이랑': '0.022', '똠얌꿍': '0.010', '똥': '0.032', '똥꼬로': '0.039', '똥꾸렁냄시가': '0.034', '똥자루': '0.033', '똬리': '0.033', '똭': '0.034', '뚀륵': '0.034', '뚁땽한데': '0.034', '뚜': '0.016', '뚜껑': '0.029', '뚜레주르': '0.034', '뚜레쥬르': '0.034', '뚜렷': '0.044', '뚜벅이는': '0.034', '뚜벅이도': '0.019', '뚜벅이라': '0.010', '뚜벅이란': '0.010', '뚝': '0.007', '뚝딱': '0.030', '뚝뚝': '0.034', '뚝썸프렌치': '0.034', '뚫': '0.034', '뚫리': '0.034', '뚫어지': '0.000', '뚱': '0.023', '뚱뚱': '0.024', '뚱보': '0.034', '뚱스': '0.034', '뚱이': '0.034', '뚱카롱': '0.031', '뚱카롱까지': '0.034', '뛰': '0.033', '뛰놀': '0.033', '뛰어가': '0.034', '뛰어나': '0.034', '뛰어나가': '0.033', '뛰어놀': '0.034', '뛰어다니': '0.034', '뛰어들': '0.034', '뛰어오': '0.034', '뛰치': '0.034', '뜨': '0.034', '뜨개': '0.003', '뜨개질': '0.034', '뜨거워욥': '0.012', '뜨겁': '0.028', '뜨게질': '0.028', '뜨끈': '0.033', '뜨내기': '0.013', '뜨뜨미찌근': '0.032', '뜨뜻': '0.022', '뜨락': '0.011', '뜨른': '0.034', '뜨리': '0.019', '뜯': '0.034', '뜯뜯은멈출수없뜨아': '0.010', '뜯어먹': '0.003', '뜰': '0.034', '뜸': '0.007', '뜸하': '0.013', '뜻': '0.016', '뜻대로': '0.034', '뜻밖': '0.033', '띄': '0.034', '띠': '0.019', '띡': '0.034', '띵동': '0.009', '띵똥': '0.029', '라': '0.033', '라 주': '0.034', '라고': '0.013', '라구': '0.034', '라끄로': '0.032', '라나': '0.034', '라다': '0.034', '라도': '0.008', '라드': '0.034', '라따뚜이': '0.017', '라떼아이슈페너': '0.019', '라라': '0.033', '라리': '0.034', '라마': '0.014', '라마다': '0.034', '라메': '0.026', '라멘': '0.033', '라면': '0.034', '라무네': '0.000', '라무스': '0.032', '라미': '0.034', '라바': '0.020', '라벨': '0.004', '라보': '0.012', '라부르켓도': '0.034', '라비': '0.032', '라사압소': '0.034', '라슈트': '0.034', '라스트': '0.026', '라씨': '0.000', '라에': '0.010', '라오': '0.028', '라온': '0.000', '라용': '0.033', '라운드': '0.020', '라운드넥': '0.015', '라운드넥으로': '0.012', '라운드넥의': '0.034', '라운딩': '0.006', '라이': '0.034', '라이드': '0.024', '라이머': '0.021', '라이브': '0.016', '라이브러리': '0.022', '라이스': '0.004', '라이언': '0.033', '라이트': '0.029', '라이프': '0.032', '라이프자켓을': '0.009', '라인': '0.034', '라인업': '0.000', '라일락': '0.033', '라임': '0.026', '라자냐': '0.033', '라장스': '0.002', '라즈베리': '0.034', '라진': '0.008', '라켈': '0.025', '라코스트': '0.034', '라코타': '0.031', '라쿤': '0.011', '라타': '0.034', '라테': '0.034', '라피': '0.030', '라하': '0.034', '라희': '0.022', '락': '0.011', '락사': '0.012', '락앤락': '0.013', '란': '0.020', '란 온라인': '0.000', '랄': '0.033', '랄랄라': '0.044', '람람이': '0.032', '람보르기니': '0.033', '람부르스코': '0.034', '람쥐오빠랑': '0.022', '랍스타랑': '0.034', '랍스터': '0.034', '랑': '0.034', '랑랑': '0.034', '랑스': '0.019', '래': '0.044', '래미': '0.041', '래시': '0.015', '랜덤': '0.032', '랜드': '0.010', '랜스': '0.044', '램': '0.008', '램프': '0.031', '랩': '0.034', '랩자켓원피스': '0.032', '랭고': '0.031', '랭크': '0.016', '량': '0.034', '러': '0.021', '러너': '0.028', '러닝': '0.022', '러버': '0.002', '러브 스토리': '0.029', '러스트': '0.034', '러신': '0.034', '럭비': '0.034', '럭셔리패션샵': '0.034', '럭스': '0.013', '럭져리하게': '0.034', '럭키븐': '0.028', '런': '0.022', '런닝': '0.034', '런닝맨': '0.021', '런던': '0.012', '런칭기념으로': '0.001', '런칭을': '0.043', '런칭입고': '0.005', '런플렛': '0.018', '럼': '0.027', '레': '0.043', '레게': '0.034', '레고': '0.013', '레그 프레스': '0.034', '레깅스': '0.033', '레놀라': '0.017', '레드': '0.024', '레드문': '0.012', '레드벨벳': '0.034', '레몬': '0.029', '레미': '0.013', '레밍': '0.031', '레베카': '0.026', '레벨': '0.016', '레볼루션': '0.014', '레스': '0.034', '레스토랑': '0.033', '레시': '0.014', '레알': '0.033', '레알트루임': '0.005', '레어': '0.031', '레오': '0.018', '레옹': '0.029', '레우스': '0.019', '레이': '0.001', '레이디': '0.023', '레이몬드': '0.023', '레이서': '0.029', '레이스': '0.034', '레이아웃': '0.023', '레이어': '0.015', '레이온': '0.034', '레이저': '0.029', '레이즈': '0.024', '레이크': '0.003', '레인': '0.034', '레인보우': '0.024', '레일': '0.008', '레저': '0.026', '레전드': '0.011', '레지던스': '0.034', '레터': '0.034', '레트로': '0.034', '레프': '0.012', '레플리카': '0.033', '렉사': '0.034', '렉스': '0.017', '렌즈': '0.027', '렌탈료': '0.029', '렌트': '0.034', '렌트카': '0.009', '렛미인': '0.010', '력': '0.007', '로': '0.034', '로고': '0.034', '로그': '0.022', '로나': '0.034', '로더': '0.017', '로드': '0.026', '로디': '0.033', '로라': '0.023', '로렉스': '0.018', '로렌': '0.004', '로마': '0.011', '로만': '0.031', '로망': '0.028', '로망스': '0.004', '로맨스': '0.018', '로맨틱': '0.032', '로메': '0.034', '로버츠': '0.028', '로버트': '0.028', '로봇': '0.034', '로브': '0.014', '로브스터피자': '0.018', '로비': '0.013', '로빈': '0.009', '로사': '0.031', '로션': '0.034', '로스': '0.033', '로스트': '0.034', '로시': '0.034', '로아커': '0.018', '로앙': '0.033', '로얄': '0.034', '로열': '0.028', '로우': '0.034', '로이': '0.006', '로이드': '0.032', '로이스': '0.018', '로이워즈타워': '0.034', '로즈': '0.034', '로즈마리': '0.034', '로직': '0.043', '로치': '0.004', '로컬': '0.034', '로켓': '0.024', '로코': '0.005', '로타': '0.019', '로투스': '0.001', '로투스시럽으로': '0.012', '로투스커피과자로': '0.033', '로튜스케이크': '0.022', '로하': '0.033', '로한': '0.033', '로희': '0.024', '로희이름지을때도': '0.028', '록': '0.029', '록키': '0.029', '론': '0.023', '론도': '0.034', '롤': '0.030', '롤러코스터': '0.032', '롤리': '0.033', '롤링': '0.015', '롤빵': '0.010', '롤케이크': '0.012', '롬': '0.033', '롭': '0.027', '롭스': '0.034', '롯': '0.043', '롯데': '0.033', '롯데리아': '0.013', '롯데마트': '0.033', '롯데백화점': '0.027', '롯데아울렛': '0.028', '롯데월드': '0.034', '롱': '0.034', '롱기장에서': '0.034', '롱기장입니다': '0.031', '롱다리': '0.033', '롱런하는': '0.027', '롱블랙': '0.034', '롱셔츠꽈배기니트조끼': '0.032', '롱셔츠예요': '0.033', '롱스커트': '0.027', '롱슬리브': '0.030', '롱슬리브가': '0.011', '롱코트': '0.034', '롱패딩': '0.033', '롱하게': '0.033', '롱한': '0.001', '롱허리': '0.029', '롸': '0.001', '료이': '0.040', '루': '0.034', '루가': '0.034', '루두스바람둥이': '0.033', '루마': '0.005', '루미너스': '0.025', '루민': '0.034', '루바': '0.032', '루비': '0.034', '루비 반지': '0.034', '루아': '0.034', '루이': '0.018', '루이비통': '0.017', '루이스': '0.031', '루즈': '0.034', '루즈핏': '0.041', '루즈핏도': '0.034', '루즈핏으로': '0.044', '루즈핏이': '0.027', '루즈한핏에': '0.007', '루지': '0.044', '루킹': '0.024', '루트': '0.034', '루프': '0.005', '루피': '0.022', '룩': '0.018', '룰': '0.015', '룰루': '0.034', '룰루랄라': '0.029', '룸': '0.011', '룽고': '0.023', '룽이': '0.010', '룽지의': '0.028', '뤼': '0.015', '류': '0.011', '륜': '0.034', '르': '0.005', '르마': '0.044', '르와': '0.001', '르페셰미뇽': '0.034', '르퐁': '0.034', '릉': '0.033', '리': '0.034', '리가': '0.033', '리그': '0.034', '리나': '0.019', '리다': '0.034', '리단': '0.034', '리더': '0.027', '리더스': '0.044', '리더스부터': '0.025', '리더스와': '0.033', '리도': '0.041', '리드': '0.033', '리듬': '0.005', '리딩': '0.030', '리라': '0.024', '리릭': '0.032', '리만': '0.033', '리모컨': '0.021', '리모컨득템': '0.034', '리미트': '0.034', '리버': '0.034', '리버사이드': '0.034', '리본': '0.024', '리본뮬이예요': '0.009', '리뷰': '0.034', '리사': '0.031', '리셋': '0.031', '리스': '0.007', '리스닝': '0.034', '리스크': '0.033', '리스트': '0.013', '리아': '0.034', '리안': '0.021', '리어': '0.034', '리얼': '0.016', '리에': '0.044', '리오': '0.034', '리옹': '0.022', '리우': '0.009', '리움네일은': '0.034', '리저': '0.027', '리지': '0.034', '리진': '0.023', '리차': '0.016', '리츠': '0.006', '리치': '0.033', '리코': '0.044', '리크': '0.019', '리터': '0.010', '리트리버': '0.029', '리틀': '0.029', '리틀넥': '0.043', '리파': '0.031', '리페어': '0.013', '리프': '0.033', '리피': '0.008', '리필': '0.033', '리한': '0.034', '릭': '0.034', '린': '0.034', '린날': '0.009', '린네': '0.032', '린아': '0.012', '린지': '0.016', '릴': '0.021', '릴레이': '0.033', '릴리': '0.033', '릴리움의': '0.021', '림': '0.012', '림프': '0.034', '립': '0.011', '립스틱': '0.034', '링': '0.030', '링거': '0.022', '링겔': '0.028', '링고': '0.030', '링웜이나': '0.034', '링크': '0.034', '마': '0.026', '마가': '0.025', '마가렛': '0.034', '마감': '0.033', '마감일': '0.001', '마감처리실밥본드기스': '0.011', '마고': '0.016', '마구': '0.006', '마구마구': '0.014', '마구마구팅팅': '0.033', '마구잡이': '0.028', '마그네슘': '0.034', '마눌': '0.020', '마뉴': '0.034', '마늘': '0.032', '마늘쫑면이랑': '0.034', '마니': '0.034', '마니산': '0.033', '마니아': '0.016', '마니왔오용이뿌니들': '0.032', '마다': '0.017', '마당': '0.032', '마도': '0.008', '마도로스': '0.034', '마드라스': '0.017', '마들렌': '0.021', '마디': '0.033', '마땅': '0.034', '마땅히': '0.034', '마라': '0.020', '마라샹궈': '0.018', '마라탕': '0.016', '마랑': '0.005', '마련': '0.006', '마로': '0.027', '마루': '0.016', '마루 밑 아리에티': '0.029', '마르': '0.000', '마르고': '0.018', '마르지': '0.035', '마리': '0.018', '마리나': '0.015', '마리오': '0.025', '마리화나': '0.031', '마마': '0.011', '마모': '0.034', '마무': '0.031', '마무리': '0.023', '마미': '0.032', '마법': '0.034', '마법사': '0.032', '마블': '0.008', '마블링': '0.034', '마사지': '0.034', '마산만': '0.034', '마산회원구': '0.002', '마살라': '0.034', '마상': '0.006', '마성': '0.022', '마소': '0.032', '마스': '0.015', '마스코트': '0.028', '마스크': '0.034', '마슥흐를': '0.008', '마시': '0.032', '마시기': '0.021', '마시멜로': '0.034', '마시쏭': '0.034', '마실': '0.041', '마싯냉': '0.031', '마싯는': '0.034', '마싯씀': '0.020', '마싯었고요': '0.033', '마싯었어요': '0.032', '마싯었오': '0.034', '마야': '0.021', '마약': '0.030', '마연': '0.034', '마오': '0.013', '마왕': '0.028', '마요네즈': '0.034', '마우스': '0.032', '마운틴': '0.034', '마웅': '0.022', '마을': '0.008', '마을버스': '0.034', '마음': '0.031', '마음고생': '0.027', '마음껏': '0.026', '마음먹': '0.030', '마음속': '0.033', '마음씨': '0.044', '마의': '0.033', '마이': '0.025', '마이산': '0.016', '마이어': '0.030', '마이크': '0.032', '마이크로': '0.032', '마인드': '0.021', '마인드라곸': '0.034', '마일': '0.034', '마일리': '0.033', '마저': '0.034', '마정': '0.007', '마제': '0.034', '마주': '0.034', '마주치': '0.026', '마중': '0.033', '마지노선': '0.034', '마지막': '0.033', '마지막 수업': '0.034', '마지못하': '0.034', '마진': '0.026', '마차': '0.034', '마찬가지': '0.042', '마창대교': '0.032', '마천': '0.034', '마취': '0.033', '마치': '0.032', '마침': '0.034', '마침내': '0.034', '마카': '0.034', '마카다미아': '0.010', '마카롱': '0.034', '마케팅 전략': '0.016', '마켓': '0.028', '마코': '0.034', '마크': '0.001', '마크 트웨인': '0.034', '마크스필착하신후': '0.003', '마크제이콥스': '0.013', '마태': '0.034', '마테': '0.034', '마토': '0.034', '마티스': '0.021', '마틴': '0.009', '마틸다': '0.003', '마포': '0.026', '마포구': '0.027', '마플샵을': '0.032', '마흔': '0.018', '막': '0.033', '막강': '0.018', '막걸리': '0.011', '막국수': '0.028', '막내': '0.034', '막대': '0.030', '막대기': '0.034', '막도': '0.000', '막론': '0.029', '막막': '0.032', '막바지': '0.025', '막상': '0.034', '막장': '0.034', '막차': '0.001', '막판': '0.034', '막히': '0.034', '만': '0.033', '만감': '0.018', '만개': '0.033', '만국': '0.033', '만기': '0.030', '만끽': '0.013', '만나': '0.057', '만난 사람': '0.034', '만남': '0.034', '만도': '0.034', '만두': '0.034', '만들': '0.034', '만만': '0.035', '만물': '0.029', '만발': '0.034', '만병통치약': '0.032', '만사': '0.030', '만삭': '0.034', '만석': '0.020', '만성': '0.034', '만세': '0.034', '만신': '0.027', '만신창이': '0.034', '만안': '0.005', '만약': '0.032', '만연': '0.034', '만요': '0.037', '만원': '0.017', '만월': '0.001', '만인': '0.033', '만일': '0.030', '만점': '0.030', '만져볼텨': '0.033', '만족': '0.032', '만족감': '0.002', '만족도': '0.034', '만죡쓰': '0.032', '만지': '0.034', '만지작거리': '0.034', '만찬': '0.034', '만큼': '0.034', '만탸여기': '0.006', '만포': '0.020', '만해': '0.032', '만화': '0.008', '많': '0.095', '많다웨이팅있음': '0.034', '많으닷': '0.013', '많으셔': '0.024', '많이': '0.047', '맏형': '0.011', '말': '0.034', '말귀': '0.033', '말기': '0.031', '말끔히': '0.030', '말대꾸': '0.003', '말대답': '0.033', '말도': '0.034', '말똥': '0.000', '말라': '0.034', '말라가': '0.034', '말랑': '0.004', '말랑말랑': '0.034', '말레샤': '0.034', '말레샤에서': '0.033', '말로': '0.034', '말리': '0.012', '말복': '0.006', '말세': '0.034', '말썽': '0.033', '말씀': '0.031', '말아먹': '0.011', '말아주심헿': '0.044', '말없이': '0.027', '말이': '0.026', '말이넹출처페북오드리': '0.016', '말장난': '0.032', '말차': '0.000', '말투': '0.024', '말티즈': '0.013', '말티츄지': '0.034', '말풍선': '0.034', '말하자면': '0.017', '말할게욤': '0.034', '말해쨔나': '0.017', '맑': '0.025', '맘': '0.007', '맘껏': '0.034', '맘마': '0.004', '맘먹': '0.013', '맘스': '0.003', '맘스터치': '0.033', '맛': '0.034', '맛깔': '0.015', '맛나': '0.034', '맛보': '0.034', '맛살': '0.033', '맛없': '0.034', '맛이에욬': '0.003', '맛있': '0.034', '맛있겠쮸': '0.019', '맛있긩살살녹는다': '0.034', '맛있냥': '0.033', '맛있닭': '0.034', '맛있닼': '0.034', '맛있댜': '0.033', '맛있더': '0.044', '맛있뎌글구': '0.032', '맛있어땸': '0.044', '맛있졍': '0.034', '맛조개': '0.034', '맛집': '0.016', '맛탕': '0.032', '맛탱이가': '0.009', '망': '0.027', '망가뜨리': '0.031', '망가졌구나싶어쓔': '0.034', '망가지': '0.034', '망고': '0.018', '망고퓨레가': '0.021', '망나뇽': '0.022', '망나니': '0.034', '망망대해': '0.020', '망설이': '0.034', '망설임': '0.034', '망울': '0.034', '망원동': '0.034', '망이': '0.034', '망치': '0.010', '망태기': '0.005', '망하': '0.014', '맞': '0.034', '맞닥뜨리': '0.028', '맞대': '0.032', '맞벌이': '0.029', '맞서': '0.004', '맞아들이': '0.034', '맞아떨어지': '0.002', '맞이': '0.007', '맞잡': '0.021', '맞쥬': '0.020', '맞추': '0.034', '맞춤': '0.034', '맟추는': '0.000', '맡': '0.034', '맡기': '0.004', '맡네욬': '0.006', '맡아보': '0.033', '매': '0.040', '매개': '0.034', '매거진': '0.034', '매끄럽': '0.034', '매끈': '0.034', '매너': '0.034', '매년': '0.029', '매니아': '0.017', '매달': '0.028', '매달리': '0.014', '매력': '0.044', '매매': '0.006', '매미': '0.001', '매번': '0.015', '매사': '0.025', '매섭': '0.034', '매시': '0.034', '매실': '0.002', '매우': '0.033', '매운돈코츠라멘': '0.016', '매운맛': '0.009', '매운탕': '0.034', '매워': '0.032', '매워도': '0.002', '매워서': '0.034', '매워용': '0.029', '매월': '0.034', '매웠지만': '0.034', '매일': '0.025', '매입': '0.034', '매장': '0.012', '매점': '0.033', '매정': '0.031', '매주': '0.034', '매지': '0.005', '매직': '0.030', '매직셋팅': '0.034', '매진': '0.036', '매출': '0.034', '매츄어': '0.008', '매치': '0.005', '매칭': '0.025', '매칭해': '0.018', '매콤': '0.034', '매트': '0.000', '매표소': '0.015', '매하': '0.031', '맥': '0.034', '맥도날드': '0.033', '맥락': '0.030', '맥북': '0.033', '맥스': '0.044', '맥시멀': '0.034', '맥심': '0.034', '맥주': '0.009', '맨': '0.034', '맨날': '0.034', '맨손': '0.020', '맨즈샵더블에스': '0.012', '맨투맨': '0.034', '맨해튼': '0.031', '맬함좋겟다': '0.006', '맴': '0.019', '맴돌': '0.030', '맴찢퇴근하고': '0.015', '맵': '0.031', '맵슐랭은': '0.017', '맵슐랭이라는': '0.028', '맹': '0.008', '맹목': '0.018', '맹수': '0.034', '맹주': '0.000', '맺': '0.017', '머': '0.007', '머금': '0.025', '머나멀': '0.034', '머니': '0.027', '머랭': '0.008', '머루': '0.009', '머리': '0.017', '머리 주': '0.002', '머리카락': '0.023', '머리핀': '0.033', '머릿결': '0.034', '머릿속': '0.032', '머무르': '0.034', '머물': '0.031', '머뭇거리': '0.016', '머스캣': '0.024', '머스타드': '0.026', '머스탙케요네즈딸기잼이': '0.018', '머슬핏': '0.034', '머신': '0.034', '머싯는': '0.021', '머쓱': '0.034', '머즐이': '0.034', '머지않': '0.019', '먹': '0.047', '먹거리': '0.028', '먹고살': '0.034', '먹구름': '0.006', '먹깅': '0.017', '먹꼬싶어': '0.030', '먹먹': '0.034', '먹물': '0.034', '먹방': '0.034', '먹성': '0.019', '먹어버렸어욤': '0.034', '먹어보긔': '0.012', '먹어보쟈': '0.017', '먹었으몃': '0.034', '먹음롸': '0.034', '먹이': '0.044', '먹치크럼블': '0.034', '먹킷이었던': '0.034', '먹튀방지': '0.017', '먼저': '0.016', '먼지': '0.007', '멀': '0.023', '멀뚱': '0.034', '멀뚱히': '0.034', '멀리': '0.024', '멀리멀리': '0.011', '멀미': '0.013', '멀쩡': '0.033', '멀티': '0.019', '멈머가': '0.033', '멈추': '0.042', '멋': '0.027', '멋대로': '0.030', '멋있': '0.034', '멋쟁이': '0.034', '멋지': '0.031', '멋쩍': '0.010', '멍': '0.010', '멍게': '0.030', '멍멍': '0.034', '멍멍이': '0.025', '멍뭉이': '0.034', '멍뭉이들도': '0.000', '멍에': '0.030', '멍청': '0.034', '멍하니': '0.034', '메': '0.034', '메가': '0.034', '메가스터디': '0.034', '메가톤': '0.026', '메뉴': '0.032', '메니': '0.007', '메두사': '0.034', '메디컬': '0.007', '메라': '0.031', '메로': '0.029', '메로나': '0.021', '메롱메롱도': '0.017', '메를로': '0.033', '메리': '0.043', '메리노': '0.027', '메리엠입니다': '0.028', '메리트': '0.034', '메마르': '0.013', '메모': '0.033', '메모리': '0.032', '메밀': '0.026', '메밀전': '0.033', '메세지': '0.034', '메시': '0.022', '메시지': '0.018', '메신저': '0.005', '메신저백': '0.034', '메이': '0.016', '메이드': '0.034', '메이슨': '0.013', '메이저': '0.025', '메이커': '0.015', '메이크업': '0.028', '메이트': '0.033', '메이플': '0.034', '메인': '0.012', '메인로고찡내부각인스트랩찡다이아퀄팅스트랩고정': '0.043', '메인터넌스': '0.033', '메일': '0.020', '메종드': '0.034', '메추리': '0.030', '메카': '0.010', '메티스': '0.021', '멕시칸': '0.042', '멕시코': '0.034', '멕이': '0.012', '멘': '0.031', '멘보샤': '0.030', '멘보샤까지': '0.023', '멘보샤는': '0.032', '멘보샤맛': '0.034', '멘보샤맛은': '0.034', '멘보샤맛이': '0.034', '멘붕': '0.034', '멘탈': '0.034', '멘트': '0.034', '멜': '0.034', '멜라': '0.021', '멜라토닌': '0.034', '멜란지': '0.034', '멜론': '0.024', '멜롱이': '0.038', '멜롱이네': '0.034', '멜빵': '0.033', '멜빵입기듀': '0.034', '멤버': '0.033', '며느리': '0.017', '며칠': '0.043', '면': '0.034', '면도': '0.023', '면목': '0.034', '면목로': '0.034', '면사': '0.034', '면상': '0.034', '면수': '0.034', '면역': '0.016', '면역력': '0.024', '면유': '0.025', '면접': '0.022', '면허': '0.033', '면회': '0.031', '멸종': '0.033', '멸치': '0.034', '명': '0.044', '명단': '0.034', '명당': '0.044', '명당자리': '0.018', '명대사': '0.017', '명도': '0.025', '명동': '0.034', '명란': '0.034', '명란돈까스와': '0.033', '명란젓': '0.033', '명랑': '0.033', '명량': '0.034', '명령어': '0.034', '명료': '0.000', '명륜로': '0.034', '명리': '0.034', '명문': '0.029', '명복': '0.034', '명부': '0.025', '명불허전': '0.030', '명산': '0.035', '명상': '0.034', '명색': '0.034', '명소': '0.016', '명신': '0.032', '명언': '0.026', '명예': '0.009', '명의': '0.034', '명작': '0.032', '명장': '0.034', '명절': '0.034', '명절날': '0.033', '명지대': '0.013', '명쾌': '0.013', '명품': '0.044', '명품샵': '0.034', '명품샵에서': '0.034', '명품샵을': '0.030', '명품신발샵': '0.012', '명함': '0.010', '명확': '0.014', '명확히': '0.028', '명희하리': '0.034', '명희하리코치': '0.034', '몇': '0.034', '몇 번을': '0.004', '몇몇': '0.034', '몇일': '0.034', '모': '0.019', '모가지': '0.034', '모곡': '0.034', '모공': '0.022', '모굑해따': '0.034', '모금': '0.030', '모기장': '0.022', '모나미': '0.015', '모네': '0.030', '모녀': '0.044', '모노': '0.034', '모노그램': '0.034', '모니터': '0.034', '모닝': '0.011', '모닥불': '0.026', '모던': '0.013', '모델': '0.014', '모델링': '0.021', '모도': '0.028', '모두': '0.037', '모드': '0.034', '모든': '0.044', '모듬': '0.034', '모라': '0.033', '모란': '0.034', '모랑': '0.027', '모래': '0.034', '모래사장': '0.034', '모래성': '0.009', '모레': '0.014', '모레아': '0.034', '모로': '0.034', '모르': '0.038', '모르겠늬': '0.034', '모름': '0.044', '모름지기': '0.023', '모리': '0.029', '모먼트': '0.034', '모모': '0.016', '모바일': '0.000', '모발': '0.034', '모방': '0.034', '모빌': '0.034', '모사': '0.034', '모서리': '0.022', '모세': '0.034', '모순': '0.025', '모스': '0.029', '모습': '0.035', '모시': '0.017', '모아': '0.009', '모아나': '0.024', '모야': '0.017', '모양': '0.034', '모양새': '0.034', '모어': '0.024', '모유': '0.032', '모으': '0.027', '모의': '0.012', '모이': '0.033', '모임': '0.034', '모자': '0.003', '모자라': '0.044', '모자람': '0.032', '모조리': '0.032', '모진': '0.017', '모질': '0.034', '모집': '0.019', '모집인': '0.022', '모쪼록': '0.009', '모찌': '0.030', '모처럼': '0.034', '모츠나베': '0.008', '모카': '0.030', '모카크럼블파운드': '0.032', '모캉스를': '0.033', '모코샤틴머메': '0.032', '모태': '0.034', '모터': '0.034', '모트': '0.005', '모티브': '0.044', '모하메드': '0.034', '모험': '0.034', '모히또': '0.033', '목': '0.034', '목걸이': '0.034', '목격': '0.034', '목구녕까지': '0.002', '목구멍': '0.020', '목돈': '0.014', '목록': '0.017', '목마': '0.005', '목마름': '0.030', '목말맀으며': '0.034', '목매': '0.031', '목사': '0.034', '목살': '0.027', '목소리': '0.004', '목수': '0.009', '목숨': '0.012', '목심': '0.033', '목요일': '0.034', '목욕': '0.034', '목이': '0.009', '목자': '0.034', '목장': '0.021', '목재': '0.032', '목적': '0.031', '목적지': '0.018', '목줄': '0.031', '목줄헥헥': '0.015', '목포': '0.014', '목포시': '0.026', '목표': '0.027', '목표물': '0.018', '몫': '0.016', '몬': '0.013', '몬순': '0.031', '몬스터': '0.023', '몰': '0.033', '몰겟다': '0.033', '몰겟당': '0.023', '몰골': '0.002', '몰두': '0.022', '몰라주': '0.017', '몰랑몰랑': '0.034', '몰래': '0.034', '몰래카메라': '0.032', '몰리': '0.018', '몰밧': '0.034', '몰상식': '0.034', '몰아치': '0.034', '몰입': '0.027', '몰타': '0.034', '몰티져스': '0.038', '몸': '0.016', '몸뚱아리': '0.034', '몸뚱이': '0.034', '몸매': '0.034', '몸무': '0.034', '몸무게': '0.030', '몸살': '0.034', '몸통': '0.007', '몹시': '0.032', '못': '0.035', '못가': '0.033', '못나': '0.032', '못난이': '0.034', '못되': '0.034', '못된샤람이': '0.011', '못살': '0.032', '못생기': '0.024', '못쓰': '0.009', '못지않': '0.020', '못짝었어용': '0.009', '못하': '0.032', '못하곹': '0.030', '못할거같애': '0.033', '못할거얔': '0.019', '몽': '0.033', '몽땅': '0.004', '몽모랑시': '0.019', '몽블랑': '0.014', '몽지람': '0.030', '몽테': '0.044', '몽테뉴': '0.029', '몽환': '0.034', '뫄뫄야': '0.001', '묘미': '0.028', '묘사': '0.034', '묘하': '0.004', '무': '0.034', '무가': '0.031', '무겁': '0.034', '무게': '0.034', '무관': '0.031', '무광': '0.031', '무국': '0.030', '무궁무진': '0.034', '무기': '0.034', '무기력증': '0.033', '무기질': '0.034', '무김치': '0.033', '무나물': '0.034', '무난': '0.032', '무난히': '0.033', '무너지': '0.034', '무녀도': '0.033', '무념': '0.030', '무늬': '0.016', '무당벌레': '0.010', '무대': '0.034', '무더위': '0.026', '무던히': '0.021', '무덥': '0.010', '무드': '0.011', '무디': '0.019', '무뚝뚝': '0.007', '무럭무럭': '0.032', '무려': '0.034', '무력': '0.034', '무렵': '0.034', '무례': '0.033', '무료': '0.033', '무르': '0.034', '무릅쓰': '0.034', '무릇': '0.014', '무릎': '0.033', '무릎보호대': '0.034', '무리': '0.033', '무방': '0.002', '무법자': '0.000', '무브먼트': '0.034', '무사히': '0.018', '무상': '0.034', '무색': '0.013', '무서움': '0.002', '무서워하': '0.034', '무선': '0.022', '무섭': '0.004', '무수': '0.022', '무스': '0.022', '무스탕': '0.005', '무슨': '0.030', '무시': '0.013', '무식': '0.033', '무심': '0.015', '무심코': '0.044', '무아': '0.034', '무어': '0.034', '무언': '0.044', '무엇': '0.033', '무었인지': '0.002', '무우': '0.033', '무의식': '0.034', '무인': '0.033', '무인샵이라': '0.008', '무임승차': '0.019', '무작위': '0.032', '무장': '0.000', '무적': '0.021', '무제': '0.034', '무조': '0.034', '무조건': '0.020', '무주': '0.034', '무지': '0.017', '무지개': '0.016', '무진': '0.034', '무채색': '0.034', '무척': '0.009', '무침': '0.043', '무통': '0.029', '무트': '0.034', '무한': '0.015', '무한대': '0.017', '무합성보존료로': '0.034', '무화과': '0.014', '묵': '0.034', '묵공': '0.012', '묵도': '0.032', '묵묵히': '0.034', '묵상': '0.021', '묵음': '0.007', '묵직': '0.021', '묵히': '0.004', '묶': '0.030', '묶어봤는뎈': '0.034', '묶이': '0.002', '문': '0.034', '문 강': '0.018', '문건': '0.019', '문경': '0.030', '문교': '0.010', '문구': '0.015', '문도': '0.034', '문득': '0.025', '문득문득': '0.034', '문뜩': '0.034', '문맥': '0.034', '문명': '0.034', '문방구': '0.034', '문법': '0.011', '문서': '0.034', '문솝': '0.013', '문수암': '0.005', '문신': '0.033', '문안': '0.033', '문양식': '0.000', '문어': '0.034', '문의': '0.044', '문자': '0.028', '문장': '0.034', '문정': '0.006', '문제': '0.031', '문제없': '0.034', '문제작': '0.025', '문체': '0.000', '문턱': '0.034', '문학': '0.034', '문헌': '0.034', '문화': '0.033', '문화재': '0.034', '묻': '0.034', '묻어나': '0.034', '묻히': '0.025', '물': '0.034', '물가': '0.034', '물감': '0.031', '물개': '0.011', '물건': '0.033', '물걸레': '0.033', '물결': '0.034', '물고기': '0.033', '물그릇': '0.029', '물기': '0.012', '물끄러미': '0.008', '물난리': '0.023', '물놀이': '0.034', '물들': '0.031', '물들이': '0.033', '물량': '0.034', '물러가': '0.027', '물러가랏': '0.033', '물려받': '0.030', '물려주': '0.012', '물론': '0.031', '물류': '0.034', '물리': '0.031', '물먹': '0.044', '물밀': '0.021', '물방울': '0.032', '물봉': '0.003', '물부추': '0.027', '물소리': '0.022', '물속': '0.033', '물씬': '0.034', '물어': '0.037', '물어뜯': '0.033', '물어물어': '0.029', '물어보': '0.003', '물음': '0.034', '물음표': '0.011', '물이': '0.034', '물줄기': '0.034', '물질': '0.001', '물컹': '0.013', '물탱크': '0.031', '물통': '0.012', '물티슈': '0.027', '물품': '0.034', '뭇': '0.034', '뭉개': '0.034', '뭉게구름': '0.034', '뭉글뭉글': '0.012', '뭉챠': '0.013', '뭉치': '0.033', '뭉크': '0.034', '뭉클': '0.025', '뭍': '0.009', '뭐': '0.008', '뭐람': '0.021', '뭔': '0.032', '뭘': '0.031', '뭣': '0.033', '뭣하': '0.032', '뮈먹고': '0.025', '뮤즈': '0.008', '뮤지': '0.034', '뮤지컬': '0.017', '뮤직': '0.003', '뮬': '0.034', '뮬리': '0.034', '므': '0.021', '믈': '0.033', '미': '0.014', '미가': '0.000', '미각': '0.006', '미간': '0.034', '미결': '0.004', '미경쌤이': '0.034', '미국': '0.033', '미국인': '0.034', '미군': '0.006', '미궁': '0.033', '미금': '0.007', '미끄덩': '0.044', '미끄덩할줄': '0.000', '미끄러지': '0.003', '미끄럼': '0.032', '미끄럽': '0.033', '미끼': '0.021', '미나리': '0.034', '미네랄': '0.034', '미니': '0.030', '미니쭈디': '0.033', '미달': '0.034', '미대': '0.019', '미도': '0.017', '미듐사이즈': '0.024', '미드나잇': '0.002', '미드나잇무브': '0.034', '미디움': '0.023', '미뗬음': '0.014', '미라': '0.007', '미래': '0.024', '미러': '0.033', '미러급최고퀄': '0.033', '미련': '0.030', '미로': '0.034', '미루': '0.027', '미리': '0.028', '미림': '0.043', '미만': '0.034', '미모': '0.023', '미묘': '0.003', '미미': '0.034', '미백': '0.034', '미쁘': '0.032', '미사': '0.033', '미사일': '0.033', '미성년자': '0.029', '미세': '0.028', '미세먼지': '0.033', '미션': '0.032', '미소': '0.033', '미숙아': '0.034', '미술': '0.034', '미술관': '0.020', '미숫가루': '0.034', '미쉐린': '0.027', '미슐랭': '0.021', '미스': '0.034', '미스터': '0.015', '미스트': '0.044', '미시시피': '0.025', '미식가': '0.021', '미쏘': '0.032', '미쓰로': '0.028', '미아': '0.027', '미안': '0.034', '미애': '0.033', '미야': '0.015', '미어지': '0.034', '미역': '0.034', '미역국': '0.034', '미열': '0.034', '미온수': '0.030', '미와': '0.034', '미용': '0.032', '미용사': '0.034', '미용실': '0.044', '미우': '0.034', '미워하': '0.034', '미음': '0.044', '미인': '0.034', '미저리': '0.000', '미정': '0.025', '미지': '0.034', '미지근': '0.022', '미진': '0.020', '미쯔가': '0.033', '미쯔라고': '0.034', '미쯔랑': '0.043', '미쯔를': '0.034', '미처': '0.034', '미췬듯이': '0.009', '미치': '0.044', '미치겠움': '0.023', '미친 사랑': '0.044', '미친년': '0.034', '미친놈': '0.004', '미칫다이런게': '0.015', '미키': '0.034', '미터': '0.033', '미텨떠': '0.001', '미토': '0.018', '미트': '0.034', '미트볼': '0.034', '미팅': '0.034', '미행': '0.034', '미흡': '0.009', '믹': '0.033', '믹서': '0.023', '믹스': '0.031', '민': '0.004', '민간인': '0.034', '민간자격증': '0.003', '민감': '0.027', '민구쌤이': '0.007', '민낯': '0.031', '민달팽이': '0.001', '민망': '0.034', '민먕쓰': '0.034', '민성': '0.023', '민아': '0.032', '민요': '0.034', '민음사': '0.018', '민이': '0.022', '민정': '0.007', '민족': '0.033', '민족주의': '0.034', '민주': '0.033', '민지': '0.013', '민초': '0.032', '민치': '0.031', '민트': '0.034', '민폐': '0.034', '민하': '0.034', '민혁': '0.018', '민호': '0.032', '민희': '0.025', '믿': '0.012', '믿겨지지가': '0.033', '믿겨지지도': '0.006', '믿음': '0.022', '믿음직': '0.034', '밀': '0.033', '밀가루': '0.025', '밀고': '0.033', '밀도': '0.003', '밀라': '0.033', '밀라노': '0.033', '밀러': '0.000', '밀려가': '0.010', '밀려나': '0.033', '밀려들': '0.034', '밀려오': '0.011', '밀리': '0.002', '밀면': '0.034', '밀양': '0.034', '밀어': '0.021', '밀어주': '0.034', '밀입국': '0.032', '밀집': '0.029', '밀착': '0.028', '밀치': '0.014', '밀크': '0.030', '밀크쉐이크': '0.033', '밀크티': '0.032', '밀크티먀약콘옥수수순수우유크림브뤨레돼지바티라미수크림치즈오레오황치즈인절미': '0.001', '밀키스': '0.034', '밀폐': '0.034', '밀푀유': '0.018', '밉': '0.023', '밋밋': '0.034', '밍밍쓰': '0.034', '밍밍이': '0.027', '밍밍하지': '0.015', '밍밍한듯': '0.034', '밍쟈': '0.013', '밍크': '0.007', '밎': '0.021', '및': '0.025', '밑': '0.031', '밑거름': '0.033', '밑단': '0.005', '밑반찬': '0.034', '밑창': '0.022', '바': '0.030', '바가': '0.034', '바게트': '0.031', '바구니': '0.034', '바깥': '0.032', '바깥세상': '0.017', '바깥채': '0.034', '바꼈눼': '0.007', '바꾸': '0.007', '바꾸워': '0.011', '바뀌': '0.006', '바나나': '0.034', '바느질': '0.033', '바늘': '0.030', '바닐라': '0.033', '바닐라 아이스': '0.032', '바닐라리럽을': '0.029', '바닐라솔티드카라멜프레첼트위스트쿠키앤크림롸키로드중에': '0.034', '바다': '0.033', '바다뷰': '0.034', '바다뷰맛집카페': '0.044', '바다색': '0.034', '바닥': '0.005', '바닷': '0.034', '바닷가': '0.031', '바닷길': '0.026', '바닷물': '0.044', '바닷바람': '0.031', '바닷속': '0.009', '바둑이': '0.034', '바라': '0.034', '바라보': '0.034', '바라지': '0.034', '바락': '0.034', '바랄': '0.001', '바람': '0.033', '바람막이': '0.034', '바람이 되어': '0.029', '바람이 불어오는 곳': '0.008', '바래': '0.035', '바래다주': '0.029', '바로': '0.033', '바로바로': '0.034', '바로잡': '0.018', '바르': '0.023', '바른': '0.033', '바리': '0.010', '바리스타': '0.014', '바바': '0.024', '바바리': '0.034', '바버': '0.032', '바버샵': '0.034', '바벨': '0.006', '바벨탑': '0.033', '바보': '0.032', '바비큐': '0.005', '바쁘': '0.034', '바삐': '0.002', '바사': '0.034', '바삭': '0.033', '바삭꼬끄후레이크': '0.017', '바삭바삭': '0.034', '바쉬펫으로': '0.034', '바스': '0.034', '바스라': '0.033', '바스락': '0.014', '바스락원피스자켓': '0.034', '바스크': '0.034', '바싹': '0.014', '바운스': '0.041', '바위': '0.034', '바위산': '0.033', '바이': '0.034', '바이러스': '0.002', '바이블': '0.033', '바이오': '0.033', '바이올렛': '0.004', '바이크': '0.028', '바이킹': '0.034', '바이트': '0.034', '바인': '0.024', '바조': '0.011', '바지': '0.034', '바지락': '0.009', '바지핏감이네요': '0.016', '바질': '0.033', '바짝': '0.007', '바치': '0.021', '바쿠': '0.017', '바퀴': '0.034', '바클라바': '0.034', '바탕': '0.034', '바트': '0.010', '박': '0.033', '박나래': '0.027', '박도': '0.017', '박람회': '0.030', '박만': '0.020', '박물관': '0.034', '박박': '0.034', '박병권': '0.034', '박보검': '0.034', '박봉': '0.031', '박사': '0.044', '박살': '0.034', '박성환': '0.007', '박수': '0.030', '박수진': '0.033', '박스': '0.017', '박스 세트': '0.031', '박스핏이라': '0.019', '박시핏이라': '0.029', '박일': '0.013', '박제': '0.033', '박젴': '0.008', '박종철': '0.034', '박준': '0.034', '박준영': '0.034', '박탈감': '0.009', '밖': '0.027', '반': '0.034', '반 호': '0.030', '반갑': '0.012', '반값': '0.012', '반개': '0.032', '반기': '0.015', '반납': '0.034', '반년': '0.034', '반달': '0.002', '반대': '0.034', '반대쪽': '0.007', '반도': '0.009', '반드시': '0.023', '반딧불': '0.034', '반란': '0.034', '반려': '0.017', '반면': '0.022', '반목': '0.025', '반미': '0.012', '반바지': '0.034', '반박': '0.012', '반반': '0.017', '반복': '0.034', '반사': '0.034', '반상': '0.033', '반상회': '0.044', '반성': '0.024', '반송동': '0.034', '반스': '0.024', '반신': '0.019', '반신반의': '0.033', '반야봉': '0.034', '반영': '0.019', '반영구': '0.016', '반은': '0.017', '반응': '0.019', '반장': '0.034', '반절': '0.010', '반주': '0.033', '반죽': '0.034', '반지': '0.008', '반짝': '0.030', '반짝반짝': '0.034', '반짝반짝 빛나는': '0.034', '반짝이': '0.034', '반짝임': '0.034', '반쪽': '0.034', '반찬': '0.032', '반추': '0.034', '반칙': '0.034', '반코트': '0.034', '반팔': '0.034', '반포': '0.034', '반품': '0.029', '반하': '0.034', '반합': '0.008', '반항': '0.013', '반환': '0.022', '받': '0.022', '받아들이': '0.033', '받아보시긔': '0.002', '받아치': '0.029', '받았어욤': '0.034', '받으로': '0.033', '받이': '0.033', '받치': '0.010', '받침': '0.015', '발': '0.034', '발가락': '0.029', '발걸음': '0.033', '발견': '0.032', '발광': '0.019', '발굽': '0.003', '발급': '0.034', '발길': '0.022', '발단': '0.020', '발달': '0.034', '발도': '0.017', '발동': '0.033', '발등': '0.000', '발라': '0.027', '발라내': '0.033', '발라드': '0.034', '발란스가': '0.001', '발랄': '0.032', '발레': '0.034', '발렌시아가': '0.020', '발렌티노': '0.032', '발로': '0.034', '발리': '0.000', '발린': '0.034', '발림': '0.034', '발맞추': '0.034', '발매': '0.034', '발명': '0.017', '발목': '0.021', '발바닥': '0.033', '발사': '0.034', '발산': '0.030', '발생': '0.022', '발소리': '0.013', '발송': '0.018', '발아래': '0.009', '발악': '0.011', '발언': '0.034', '발열': '0.010', '발원': '0.020', '발음': '0.024', '발자국': '0.019', '발자취': '0.033', '발작': '0.034', '발전': '0.017', '발제': '0.013', '발주': '0.028', '발진': '0.011', '발짓': '0.024', '발치': '0.034', '발카롱': '0.034', '발카롱의': '0.004', '발톱': '0.034', '발판': '0.030', '발표': '0.044', '발행': '0.017', '발효': '0.031', '발휘': '0.025', '밝': '0.006', '밝기': '0.034', '밝았넹': '0.017', '밝히': '0.007', '밟': '0.033', '밟히': '0.034', '밤': '0.044', '밤거리': '0.029', '밤공기': '0.034', '밤구신브이넥티셔츠하루랑하나': '0.017', '밤길': '0.019', '밤나무': '0.007', '밤낮': '0.034', '밤늦': '0.003', '밤새': '0.006', '밤색': '0.007', '밤수유텀시간': '0.004', '밤잠': '0.024', '밤중': '0.034', '밤톨': '0.034', '밤하늘': '0.043', '밥': '0.030', '밥그릇': '0.027', '밥상': '0.008', '밥솥': '0.008', '밥슥슥': '0.026', '밥알': '0.024', '밥집': '0.034', '밧데리': '0.034', '밧줄': '0.009', '밨어욤': '0.033', '방': '0.034', '방가웟어요': '0.029', '방구석': '0.044', '방금': '0.034', '방긋': '0.033', '방기': '0.034', '방대': '0.043', '방도': '0.026', '방망이': '0.019', '방면': '0.022', '방명록': '0.028', '방문': '0.015', '방문객': '0.034', '방문기': '0.010', '방배동': '0.012', '방법': '0.034', '방부제': '0.034', '방비': '0.033', '방석': '0.032', '방송': '0.007', '방수': '0.027', '방식': '0.019', '방심': '0.034', '방아': '0.000', '방안': '0.000', '방어선': '0.031', '방언': '0.034', '방역': '0.005', '방영': '0.019', '방울': '0.034', '방울토마토': '0.019', '방장': '0.034', '방전': '0.033', '방지': '0.034', '방촌동': '0.033', '방추': '0.023', '방출': '0.011', '방치': '0.024', '방콕': '0.034', '방학': '0.012', '방한': '0.034', '방해': '0.036', '방향': '0.032', '방향성': '0.016', '방황': '0.034', '밭': '0.032', '배': '0.034', '배가': '0.018', '배강': '0.032', '배경': '0.026', '배고프': '0.034', '배구': '0.009', '배그루밍하는것': '0.001', '배기': '0.023', '배낚시': '0.003', '배낭': '0.044', '배달': '0.041', '배달앱이': '0.032', '배려': '0.011', '배로': '0.043', '배멀미': '0.012', '배민정': '0.034', '배변': '0.019', '배변훈련': '0.002', '배부르': '0.033', '배사': '0.007', '배색': '0.034', '배서': '0.034', '배설': '0.034', '배소': '0.005', '배송지': '0.044', '배스': '0.034', '배신': '0.025', '배신감': '0.032', '배우': '0.021', '배우자': '0.006', '배웅': '0.034', '배전': '0.034', '배점': '0.032', '배제': '0.007', '배지': '0.034', '배척': '0.034', '배추': '0.041', '배추김치': '0.034', '배출': '0.017', '배치': '0.034', '배타': '0.022', '배탈': '0.025', '배터리': '0.026', '배트': '0.019', '배틀': '0.034', '배합': '0.044', '백': '0.034', '백구': '0.032', '백김치': '0.031', '백날': '0.001', '백도': '0.015', '백두대간': '0.034', '백령도': '0.019', '백록담': '0.032', '백립': '0.034', '백마': '0.026', '백만': '0.034', '백만장자': '0.033', '백미': '0.011', '백반': '0.034', '백사장': '0.034', '백색': '0.034', '백서': '0.001', '백설': '0.014', '백수': '0.030', '백숙': '0.034', '백신': '0.034', '백양산': '0.008', '백억': '0.031', '백운대': '0.026', '백운로': '0.033', '백운호수': '0.026', '백이': '0.034', '백일': '0.003', '백제고분로': '0.034', '백종원': '0.029', '백주': '0.033', '백패': '0.032', '백프로': '0.033', '백화': '0.034', '백화점': '0.034', '밴': '0.005', '밴드': '0.007', '밴밧올리거울밴밧플레이아치모빌에': '0.022', '밸런스': '0.029', '밸로넹': '0.034', '뱃': '0.032', '뱃살': '0.031', '뱃속': '0.029', '뱃심': '0.011', '뱃지': '0.034', '뱅': '0.022', '뱉': '0.008', '뱌이뱌이': '0.012', '버': '0.004', '버거': '0.034', '버거웠다': '0.042', '버거킹': '0.004', '버건디': '0.034', '버겁': '0.003', '버금가': '0.034', '버닝데이': '0.033', '버드': '0.032', '버들': '0.034', '버디': '0.011', '버라이어티': '0.021', '버럭': '0.034', '버릇': '0.034', '버리': '0.030', '버림': '0.022', '버무리': '0.022', '버버리': '0.022', '버블': '0.028', '버섯': '0.034', '버스': '0.030', '버전': '0.032', '버즈': '0.026', '버클': '0.034', '버킷리스트': '0.008', '버킷리스트가': '0.034', '버킷리스트겸': '0.032', '버킷리스트를': '0.006', '버킷리스트였는데': '0.000', '버킷리스트중': '0.034', '버킷백': '0.030', '버킷백을': '0.013', '버킷햇으로': '0.005', '버터': '0.017', '버터크림': '0.007', '버튼': '0.010', '버티': '0.033', '버티고': '0.002', '벅차': '0.033', '번': '0.036', '번갈': '0.028', '번개': '0.034', '번거롭': '0.030', '번건': '0.033', '번뇌': '0.019', '번식': '0.044', '번안': '0.012', '번역': '0.005', '번외': '0.034', '번주': '0.018', '번지': '0.034', '번쩍': '0.034', '번창': '0.034', '번핏이': '0.034', '번호': '0.002', '벌': '0.034', '벌레': '0.034', '벌리': '0.029', '벌써': '0.034', '벌어지': '0.034', '벌이': '0.019', '벌집': '0.016', '벌컥': '0.009', '벌컥벌컥': '0.012', '벌크포장사올껄': '0.027', '벌판': '0.014', '범': '0.033', '범내골역': '0.019', '범벅': '0.031', '범용': '0.005', '범위': '0.034', '범천동': '0.034', '범퍼': '0.034', '법': '0.034', '법당': '0.034', '법석': '0.000', '법인': '0.032', '벗': '0.028', '벗겨지': '0.020', '벗기': '0.034', '벗어나': '0.034', '벙거지': '0.024', '벙커': '0.033', '벚': '0.033', '벚꽃': '0.030', '베개': '0.031', '베네딕트': '0.014', '베란다': '0.032', '베레': '0.033', '베르': '0.003', '베르타': '0.031', '베리': '0.004', '베베': '0.034', '베베럽': '0.032', '베샤멜소스': '0.014', '베샤멜은': '0.033', '베스킨라빈스': '0.034', '베스트': '0.026', '베스트셀러': '0.023', '베스틓혹시': '0.044', '베어': '0.003', '베이': '0.006', '베이글': '0.034', '베이비': '0.034', '베이스': '0.019', '베이지': '0.019', '베이지색': '0.034', '베이직': '0.026', '베이징': '0.034', '베이커리': '0.006', '베이컨': '0.013', '베이킹': '0.034', '베인': '0.033', '베일': '0.033', '베키': '0.032', '베트남': '0.014', '베트멍': '0.012', '베풀': '0.032', '베프는': '0.007', '베프를': '0.031', '벤': '0.044', '벤츠': '0.023', '벤치': '0.044', '벤치마킹': '0.034', '벤트': '0.034', '벨': '0.008', '벨라': '0.034', '벨리': '0.044', '벨벳': '0.012', '벨뷰': '0.003', '벨트': '0.034', '벼': '0.012', '벼르': '0.032', '벽': '0.034', '벽면': '0.018', '벽지': '0.034', '변': '0.019', '변경': '0.033', '변기': '0.025', '변덕': '0.021', '변도': '0.034', '변동': '0.003', '변명': '0.034', '변비': '0.034', '변산': '0.034', '변소': '0.044', '변수': '0.024', '변신': '0.020', '변심': '0.006', '변이': '0.031', '변질': '0.032', '변칙': '0.044', '변하': '0.007', '변한': '0.032', '변함없': '0.018', '변함없이': '0.025', '변형': '0.013', '변화': '0.033', '변화무쌍': '0.032', '별': '0.012', '별개': '0.034', '별거': '0.034', '별다르': '0.019', '별도': '0.034', '별따기': '0.011', '별로': '0.034', '별루': '0.033', '별미': '0.000', '별별': '0.024', '별이': '0.015', '별일': '0.034', '별자리': '0.029', '별점': '0.005', '별처럼': '0.012', '병': '0.020', '병들': '0.034', '병명': '0.033', '병수': '0.034', '병실': '0.005', '병아리': '0.033', '병역': '0.012', '병우': '0.033', '병원': '0.016', '병장': '0.024', '병점역': '0.001', '병풍': '0.031', '병행': '0.034', '볕': '0.019', '보': '0.035', '보 주': '0.034', '보강': '0.033', '보건': '0.028', '보건소': '0.034', '보겟다고': '0.023', '보경사': '0.034', '보고': '0.044', '보고 싶다': '0.031', '보고 싶은 밤': '0.018', '보고서': '0.034', '보고싶다': '0.009', '보관': '0.010', '보관소': '0.018', '보구': '0.031', '보급': '0.034', '보기': '0.032', '보나': '0.034', '보내': '0.044', '보내기': '0.034', '보내드리겠숨돵': '0.034', '보내오': '0.016', '보너스': '0.001', '보는뎅': '0.002', '보니': '0.028', '보다': '0.034', '보답': '0.034', '보더': '0.007', '보덕암': '0.034', '보도': '0.034', '보드': '0.031', '보드랍': '0.009', '보듬': '0.034', '보따리': '0.018', '보라': '0.034', '보라매공원': '0.006', '보라색': '0.034', '보람': '0.034', '보람차': '0.034', '보령시': '0.033', '보로': '0.010', '보루': '0.034', '보류': '0.004', '보르': '0.031', '보름달': '0.009', '보리': '0.034', '보리밥': '0.034', '보리차': '0.017', '보릿자루같은': '0.034', '보미': '0.018', '보배': '0.030', '보복': '0.018', '보살피': '0.034', '보상': '0.003', '보석': '0.019', '보석함': '0.034', '보성': '0.034', '보세': '0.031', '보소': '0.002', '보스': '0.034', '보습': '0.034', '보습력': '0.033', '보신': '0.044', '보심': '0.018', '보쌈': '0.000', '보아': '0.034', '보아주': '0.002', '보안': '0.034', '보약': '0.032', '보양': '0.034', '보에': '0.002', '보였는뎅': '0.013', '보오': '0.034', '보온': '0.015', '보온병': '0.034', '보완': '0.001', '보원': '0.034', '보유': '0.033', '보육': '0.034', '보이': '0.015', '보이시': '0.042', '보이핏이': '0.019', '보이핏한': '0.034', '보일': '0.033', '보임': '0.032', '보잉': '0.023', '보자기': '0.034', '보장': '0.010', '보전': '0.033', '보정': '0.034', '보조': '0.034', '보조개': '0.033', '보존': '0.034', '보증서': '0.015', '보지': '0.012', '보채': '0.034', '보충': '0.034', '보태': '0.006', '보톡스': '0.033', '보통': '0.033', '보트': '0.033', '보트넥으로': '0.034', '보팅이라니': '0.034', '보풀': '0.033', '보행': '0.033', '보험': '0.008', '보험료': '0.033', '보험사': '0.033', '보험업': '0.034', '보험의': '0.015', '보호': '0.028', '보호막': '0.016', '보호소': '0.003', '보호자': '0.031', '복': '0.034', '복고': '0.044', '복구': '0.034', '복권': '0.024', '복귀': '0.030', '복근': '0.026', '복도': '0.033', '복부': '0.034', '복사': '0.034', '복숭아': '0.021', '복습': '0.012', '복어': '0.030', '복용': '0.034', '복원력': '0.034', '복음': '0.034', '복의': '0.024', '복이': '0.034', '복잡': '0.027', '복장': '0.034', '복제': '0.034', '복지': '0.011', '복직': '0.008', '복합': '0.034', '복희': '0.034', '볶': '0.006', '볶음': '0.034', '볶음밥': '0.033', '본': '0.019', '본가': '0.034', '본건': '0.027', '본건있으가': '0.014', '본격': '0.032', '본능': '0.034', '본드': '0.034', '본디': '0.033', '본래': '0.021', '본문': '0.034', '본부': '0.015', '본분': '0.013', '본사': '0.018', '본성': '0.034', '본업': '0.001', '본연': '0.015', '본원': '0.019', '본의': '0.030', '본인': '0.022', '본적': '0.027', '본점': '0.033', '본질': '0.017', '본파': '0.016', '본품브랜포장': '0.034', '볼': '0.034', '볼거리': '0.033', '볼레로': '0.004', '볼록': '0.003', '볼륨': '0.032', '볼링': '0.021', '볼일': '0.034', '볼케이노': '0.001', '볼풀': '0.033', '볼품없': '0.034', '봄': '0.031', '봄가을': '0.043', '봄비': '0.034', '봄여름': '0.034', '봄여름가을겨울': '0.034', '봄이': '0.034', '봅니당': '0.032', '봉': '0.034', '봉 주': '0.017', '봉고': '0.033', '봉봉': '0.012', '봉사': '0.025', '봉수': '0.034', '봉우리': '0.024', '봉지': '0.034', '봉투': '0.016', '봉향': '0.004', '봐주세욧': '0.019', '뵈': '0.034', '뵙': '0.044', '부': '0.034', '부가': '0.034', '부각': '0.032', '부결': '0.030', '부계': '0.019', '부고': '0.008', '부과': '0.001', '부기': '0.034', '부끄러움': '0.034', '부끄럼': '0.012', '부끄럽': '0.044', '부끄부끄': '0.018', '부다': '0.001', '부단히': '0.034', '부담': '0.034', '부담감': '0.033', '부담금': '0.029', '부당': '0.007', '부대': '0.034', '부대시설': '0.020', '부대찌개': '0.034', '부더': '0.034', '부동': '0.031', '부두': '0.034', '부드러운중샤샤로': '0.032', '부드럽': '0.034', '부득이': '0.003', '부들': '0.044', '부들부들': '0.034', '부디': '0.026', '부라보콘': '0.027', '부라타': '0.034', '부랴부랴': '0.034', '부럽': '0.034', '부럽그고': '0.033', '부럽다부러눠': '0.034', '부려보긔': '0.034', '부록': '0.034', '부르': '0.021', '부르스': '0.008', '부릉부릉': '0.013', '부리': '0.034', '부리나케': '0.004', '부리면': '0.031', '부모': '0.033', '부문': '0.003', '부부': '0.025', '부부간': '0.013', '부분': '0.034', '부비': '0.034', '부사장': '0.034', '부산': '0.018', '부산광역시': '0.034', '부산대': '0.034', '부산시': '0.034', '부산파충류전문샵': '0.034', '부상': '0.015', '부서지': '0.034', '부소': '0.030', '부속': '0.034', '부스': '0.034', '부스럭': '0.019', '부스스': '0.025', '부스터': '0.034', '부스트': '0.015', '부시': '0.001', '부시맨': '0.033', '부실': '0.020', '부아': '0.021', '부안': '0.034', '부업': '0.016', '부엉이': '0.006', '부엌': '0.008', '부여': '0.034', '부여군': '0.034', '부여잡': '0.034', '부워서': '0.033', '부워있는데': '0.033', '부위': '0.007', '부인': '0.025', '부자': '0.034', '부자재': '0.010', '부작': '0.032', '부작용': '0.025', '부재': '0.034', '부적': '0.005', '부정': '0.033', '부족': '0.034', '부종': '0.023', '부지런': '0.034', '부지런히': '0.027', '부지점장': '0.044', '부직포': '0.013', '부질없': '0.034', '부쩍': '0.033', '부착': '0.033', '부채': '0.033', '부채살': '0.028', '부처': '0.008', '부처님 오신 날': '0.008', '부천': '0.010', '부천시': '0.024', '부천역': '0.034', '부추': '0.034', '부츠': '0.014', '부치': '0.033', '부침': '0.028', '부침개': '0.031', '부탁': '0.032', '부평': '0.030', '부풀': '0.019', '부풀리': '0.034', '부품': '0.032', '부피': '0.034', '부하': '0.029', '부합': '0.034', '부활': '0.006', '부활의 노래': '0.034', '북': '0.038', '북경': '0.034', '북경돈까스': '0.016', '북구': '0.022', '북극': '0.034', '북극성': '0.034', '북부': '0.027', '북스': '0.034', '북악산': '0.034', '북웨건도': '0.028', '북웨건으로의': '0.034', '북적': '0.034', '북쪽': '0.034', '북카페': '0.034', '북한': '0.010', '북한강': '0.034', '북한산': '0.034', '북한산성': '0.034', '북해': '0.021', '분': '0.034', '분갈이': '0.011', '분과': '0.033', '분기': '0.034', '분기점': '0.028', '분노': '0.014', '분당': '0.016', '분당구': '0.027', '분도': '0.034', '분량': '0.015', '분류': '0.034', '분리': '0.003', '분리수거': '0.034', '분만': '0.034', '분말': '0.000', '분명': '0.014', '분명히': '0.029', '분모': '0.034', '분발': '0.033', '분분': '0.003', '분사': '0.034', '분산': '0.015', '분석': '0.034', '분수': '0.034', '분식': '0.034', '분식집': '0.033', '분신': '0.033', '분안': '0.031', '분야': '0.005', '분양': '0.035', '분위기': '0.034', '분유': '0.026', '분이': '0.023', '분자': '0.033', '분전': '0.027', '분조장': '0.031', '분주': '0.034', '분통': '0.002', '분포': '0.013', '분하': '0.040', '분해': '0.025', '분홍': '0.024', '불': '0.026', '불가리': '0.015', '불가피': '0.029', '불가항력': '0.021', '불경기': '0.034', '불고기': '0.031', '불과': '0.033', '불광': '0.020', '불광역': '0.034', '불교': '0.034', '불구': '0.034', '불굴': '0.033', '불규칙': '0.034', '불균형': '0.033', '불길': '0.021', '불꽃': '0.020', '불꽃놀이': '0.034', '불끈': '0.030', '불나': '0.034', '불닭': '0.034', '불닭볶음면': '0.021', '불독': '0.032', '불량': '0.032', '불러오': '0.033', '불로': '0.004', '불리': '0.025', '불만': '0.027', '불면증': '0.034', '불목': '0.021', '불문': '0.034', '불법': '0.027', '불빛': '0.004', '불순물': '0.014', '불심': '0.026', '불쌍': '0.034', '불쑥': '0.034', '불쑥불쑥': '0.029', '불안': '0.034', '불안감': '0.013', '불안정': '0.034', '불암산': '0.034', '불어': '0.034', '불어나': '0.034', '불어넣': '0.043', '불어오': '0.034', '불우': '0.028', '불웅령을': '0.032', '불이': '0.034', '불청객': '0.007', '불쾌': '0.027', '불타': '0.034', '불타오르': '0.034', '불태우': '0.034', '불펌금지': '0.025', '불펌을': '0.004', '불편': '0.024', '불편감': '0.018', '불편해보이넹': '0.031', '불필요': '0.034', '불행': '0.033', '불허': '0.034', '붉': '0.044', '붉은기': '0.031', '붉은빛': '0.009', '붐비': '0.030', '붓': '0.034', '붓기템들': '0.011', '붓카케': '0.015', '붔언니': '0.033', '붕': '0.027', '붕괴': '0.020', '붕붕': '0.029', '붕어빵': '0.034', '붙': '0.025', '붙들': '0.030', '붙이': '0.032', '붙임머리': '0.033', '붙잡': '0.033', '붙히고': '0.034', '붙힌': '0.034', '뷔스티에': '0.034', '뷔페': '0.034', '뷰': '0.013', '뷰가': '0.011', '뷰는': '0.023', '뷰도': '0.034', '뷰랑': '0.033', '뷰러는': '0.034', '뷰리플': '0.034', '뷰맛집': '0.004', '뷰맛집이예요': '0.015', '뷰보구': '0.033', '뷰이스온': '0.034', '뷰클랜드': '0.034', '뷰티': '0.034', '뷰파인더': '0.021', '뷴': '0.013', '브금대통령': '0.007', '브라가': '0.032', '브라더스': '0.034', '브라우니': '0.034', '브라우스': '0.007', '브라운': '0.034', '브라운스톤': '0.000', '브라운자켓': '0.033', '브라운자켓보다': '0.044', '브라운자켓코디': '0.034', '브라이': '0.011', '브라이덜샤워': '0.034', '브라이덜샵': '0.034', '브라이트닝': '0.034', '브란슈': '0.033', '브랜드': '0.033', '브러쉬': '0.023', '브런치': '0.014', '브런치까페': '0.019', '브레드': '0.034', '브레스트': '0.030', '브레이크': '0.034', '브로': '0.032', '브로마이드': '0.005', '브로치': '0.013', '브로콜리': '0.034', '브루나이': '0.019', '브루잉': '0.007', '브리': '0.036', '브리즈를': '0.034', '브릭': '0.033', '브릿지': '0.044', '브릿지로': '0.013', '브이': '0.023', '브이넥': '0.019', '브이넥니트': '0.000', '브이넥에': '0.034', '브이넥으로': '0.034', '브이스탁': '0.033', '브페하가': '0.008', '블': '0.007', '블라': '0.034', '블라세아': '0.001', '블라우스': '0.034', '블랑': '0.034', '블랙': '0.033', '블랙야크': '0.034', '블랙자켓': '0.033', '블랙타이거슈림프는': '0.031', '블랙타이거슈림프블랙앵거스스테이크피자입니다': '0.034', '블랙홀': '0.044', '블랜디': '0.034', '블랜딩': '0.031', '블랭킷': '0.034', '블랭킷과': '0.019', '블러드': '0.007', '블럭': '0.027', '블레이드': '0.033', '블레이져': '0.031', '블렌딩': '0.038', '블로거': '0.019', '블로그': '0.011', '블록': '0.020', '블루': '0.033', '블루머': '0.034', '블루베리': '0.029', '블루베리크럼블': '0.020', '블루투스': '0.034', '블리': '0.034', '블리가': '0.034', '블리도': '0.034', '블리보다': '0.034', '블리야': '0.030', '블리의': '0.025', '블링펌': '0.044', '블핑의': '0.034', '비': '0.032', '비가': '0.028', '비검': '0.026', '비결': '0.007', '비계': '0.044', '비공': '0.030', '비교': '0.013', '비굴': '0.004', '비긴': '0.034', '비뇨기과': '0.044', '비누': '0.034', '비니': '0.031', '비닐': '0.032', '비닐봉투': '0.034', '비대': '0.034', '비대칭': '0.034', '비도': '0.030', '비디오': '0.022', '비란': '0.033', '비례': '0.011', '비로봉': '0.034', '비로소': '0.011', '비록': '0.044', '비롯': '0.007', '비리': '0.034', '비린내': '0.034', '비릿': '0.033', '비만': '0.006', '비명': '0.020', '비밀': '0.031', '비바': '0.034', '비바람': '0.024', '비백': '0.034', '비법': '0.032', '비봉': '0.033', '비비': '0.024', '비비고': '0.033', '비비드': '0.031', '비빔국수': '0.044', '비빔밥': '0.034', '비상': '0.034', '비상금': '0.034', '비상사태': '0.033', '비소': '0.034', '비숑': '0.019', '비스켓이랑': '0.016', '비스큐파스타': '0.028', '비스페놀': '0.034', '비슷': '0.010', '비싸': '0.009', '비아': '0.034', '비애': '0.016', '비야': '0.023', '비어': '0.034', '비엔나': '0.002', '비염': '0.032', '비오': '0.030', '비옥': '0.027', '비와': '0.025', '비용': '0.020', '비우': '0.002', '비운': '0.033', '비원': '0.020', '비위': '0.033', '비유': '0.000', '비율': '0.000', '비적': '0.032', '비전': '0.032', '비조': '0.034', '비주얼': '0.014', '비중': '0.034', '비쥬': '0.043', '비즈': '0.004', '비즈니스': '0.033', '비지': '0.031', '비지니스': '0.032', '비집': '0.034', '비창': '0.033', '비추': '0.031', '비추가': '0.034', '비축': '0.030', '비치': '0.023', '비크': '0.030', '비키': '0.032', '비키니': '0.009', '비타민': '0.034', '비타펭형': '0.031', '비타펭형을': '0.034', '비탈': '0.044', '비텐': '0.033', '비토': '0.012', '비톼오봬액': '0.011', '비투비': '0.030', '비트': '0.034', '비트 세대': '0.025', '비티': '0.031', '비파': '0.031', '비포': '0.034', '비프': '0.034', '비프스테이크': '0.034', '비하': '0.031', '비행': '0.019', '비행기': '0.022', '비호': '0.034', '빅': '0.033', '빅뱅': '0.016', '빅사': '0.030', '빅사이즈버킷': '0.034', '빅챤스이런기회': '0.023', '빅캣리더스': '0.013', '빅캣퓨처팩': '0.028', '빅캣퓨처팩으로': '0.034', '빅토르 위고': '0.029', '빅토리아': '0.016', '빈': '0.034', '빈곤': '0.030', '빈대떡': '0.034', '빈도': '0.034', '빈손': '0.034', '빈스쇼룸은': '0.031', '빈쌤은': '0.021', '빈자리': '0.008', '빈정거리': '0.001', '빈칸': '0.034', '빈틈': '0.020', '빈티지': '0.033', '빈티지샵도': '0.034', '빈티지샵이': '0.031', '빈혈': '0.034', '빌': '0.032', '빌게이츠': '0.034', '빌딩': '0.009', '빌라도': '0.000', '빌리': '0.005', '빌어': '0.028', '빌어먹': '0.008', '빔': '0.011', '빕스': '0.011', '빗': '0.003', '빗소리': '0.009', '빗속': '0.034', '빙': '0.002', '빙고': '0.025', '빙그레': '0.034', '빙수': '0.034', '빙의': '0.026', '빙하': '0.006', '빚': '0.009', '빚어내': '0.031', '빛': '0.034', '빛깔': '0.004', '빛나': '0.022', '빛으로': '0.041', '빠': '0.010', '빠듯': '0.031', '빠뜨리': '0.034', '빠르': '0.031', '빠방': '0.033', '빠빠빠': '0.034', '빠샤': '0.044', '빠이': '0.034', '빠이팅': '0.011', '빠져나오': '0.034', '빠지': '0.005', '빠짐없이': '0.033', '빠트렸다면': '0.010', '빠트리': '0.028', '빡빡': '0.005', '빡세게': '0.008', '빡세네요': '0.034', '빡세더라': '0.033', '빡센': '0.044', '빡센운동으로': '0.027', '빡센자리여서': '0.014', '빡센하루': '0.020', '빡셈도': '0.034', '빡시게': '0.028', '빡심': '0.034', '빡쎄게': '0.028', '빡치네': '0.034', '빡침게이지': '0.034', '빤쮸만': '0.027', '빤히': '0.015', '빨': '0.034', '빨간색': '0.027', '빨강': '0.033', '빨갛': '0.031', '빨대': '0.003', '빨래': '0.002', '빨리': '0.029', '빨리빨리': '0.001', '빨리와': '0.034', '빨아먹': '0.018', '빵': '0.007', '빵가루': '0.003', '빵굽과카몰리스크렘블치폴레마요볶양파풀베이컨카야잼덮콘스프시즈닝': '0.005', '빵긋빵긋': '0.034', '빵꾸': '0.034', '빵끗빵끗': '0.001', '빵됴': '0.034', '빵됴는': '0.033', '빵빵': '0.029', '빵이샵': '0.025', '빵이샵에': '0.034', '빵집': '0.013', '빼': '0.044', '빼곡': '0.033', '빼기': '0.023', '빼내': '0.034', '빼놓': '0.044', '빼먹': '0.033', '빼앗': '0.030', '빼이': '0.007', '빽': '0.040', '빽빽': '0.034', '뺏': '0.024', '뺏기': '0.032', '뺑오쇼콜라가': '0.034', '뺨': '0.044', '뺨치': '0.018', '뻐근': '0.016', '뻑': '0.034', '뻔': '0.043', '뻔뻔': '0.041', '뻔하': '0.034', '뻗': '0.009', '뻗대': '0.033', '뻘뻘': '0.033', '뻣뻣': '0.001', '뻤어': '0.033', '뻥': '0.019', '뼈': '0.012', '뼈대': '0.020', '뼉따구하나': '0.034', '뽀': '0.044', '뽀개': '0.032', '뽀글뽀글': '0.034', '뽀글이주머니빽': '0.029', '뽀독뽀독': '0.043', '뽀또': '0.024', '뽀미옷장은': '0.014', '뽀뽀': '0.021', '뽀샵하기': '0.018', '뽀송하게': '0.037', '뽀숑이': '0.010', '뽀숑이는': '0.034', '뽀스': '0.033', '뽀앤츄': '0.034', '뽀얗': '0.032', '뽀쨕쿠': '0.004', '뽁': '0.034', '뽐내': '0.020', '뽑': '0.034', '뽑기': '0.034', '뽑아내': '0.034', '뽕': '0.027', '뽕뽕': '0.023', '뽕짝': '0.010', '뾰루지': '0.004', '뾰루퉁': '0.034', '뾰족': '0.029', '뿅': '0.010', '뿌는': '0.034', '뿌듯': '0.034', '뿌뜻하네요': '0.000', '뿌리': '0.034', '뿌리치': '0.027', '뿌셔뿌셔': '0.028', '뿌셔쀼셔': '0.034', '뿌셨다': '0.022', '뿌시고': '0.034', '뿌시러': '0.034', '뿌어버린': '0.034', '뿌옇': '0.007', '뿌이': '0.031', '뿐': '0.032', '뿔': '0.008', '뿜': '0.033', '뿨리는': '0.014', '쀼에서': '0.034', '쁘게': '0.034', '쁘띠': '0.034', '쁘띠남친': '0.010', '쁘띠디저트': '0.034', '쁘띠따쉬': '0.034', '쁘띠랑': '0.027', '쁘띠목도리': '0.032', '쁘리마쥬태열키트열이많은아가라': '0.034', '쁘아송다브릴': '0.034', '쁘아송다브릴은': '0.034', '삐': '0.031', '삐걱거리': '0.034', '삐끗': '0.033', '삐딱': '0.033', '삐뚤': '0.024', '삐밍이': '0.030', '삐밍이로': '0.034', '삐밍툰': '0.010', '삐밍툰으로': '0.034', '삐밍툰은': '0.031', '삐밍툰이었다고': '0.033', '삐삐': '0.033', '삐죽': '0.034', '삐죽이': '0.014', '삑': '0.000', '사': '0.021', '사가': '0.033', '사각': '0.019', '사각지대': '0.034', '사각형': '0.015', '사간': '0.030', '사거리': '0.012', '사건': '0.020', '사격': '0.016', '사겼고': '0.026', '사경': '0.034', '사계절': '0.033', '사고': '0.009', '사고뭉치': '0.042', '사고방식': '0.027', '사골': '0.034', '사과': '0.034', '사귀': '0.003', '사그라들': '0.032', '사기': '0.033', '사나': '0.034', '사나이': '0.029', '사납': '0.027', '사냥': '0.034', '사냥감': '0.034', '사놓': '0.000', '사누키': '0.033', '사다': '0.021', '사다리': '0.011', '사단': '0.034', '사당': '0.021', '사당역': '0.034', '사도': '0.034', '사돈': '0.022', '사두': '0.034', '사드': '0.034', '사들이': '0.034', '사디': '0.002', '사라': '0.015', '사라져줭': '0.034', '사라지': '0.033', '사람': '0.036', '사람과': '0.000', '사람의 마음': '0.025', '사랑': '0.035', '사랑과 결혼': '0.033', '사랑과 이별': '0.008', '사랑과 평화': '0.033', '사랑스럽': '0.034', '사랑으로': '0.034', '사랑은': '0.032', '사랑이란': '0.033', '사랑이야': '0.021', '사랑하고 싶다': '0.001', '사랑하는 당신': '0.032', '사랑하니까': '0.031', '사랑할거야': '0.033', '사랑합니다': '0.001', '사랑해': '0.034', '사랑해달라구녓': '0.016', '사랑해요': '0.026', '사럄들과': '0.022', '사량': '0.011', '사량도': '0.007', '사려': '0.044', '사려니 숲길': '0.034', '사례': '0.005', '사롸있네': '0.033', '사료': '0.009', '사룽한당': '0.001', '사류': '0.034', '사르르': '0.000', '사르르르륵': '0.029', '사리': '0.034', '사립학교': '0.034', '사마귀': '0.044', '사막': '0.007', '사만': '0.034', '사망': '0.034', '사망률': '0.028', '사망자': '0.026', '사면': '0.011', '사명': '0.032', '사모': '0.031', '사모님': '0.024', '사무실': '0.021', '사무직': '0.034', '사문': '0.012', '사물': '0.034', '사바': '0.001', '사발': '0.028', '사방': '0.029', '사본': '0.034', '사봇': '0.006', '사부': '0.009', '사비': '0.004', '사빠': '0.018', '사사': '0.030', '사사건건': '0.013', '사사롭': '0.022', '사상': '0.034', '사상가': '0.005', '사색': '0.034', '사생팬': '0.034', '사서': '0.028', '사선': '0.034', '사섴좁은집에서': '0.027', '사세': '0.008', '사소': '0.034', '사수': '0.011', '사슴': '0.034', '사시': '0.033', '사시미': '0.034', '사실': '0.034', '사실 나는': '0.023', '사심': '0.021', '사십': '0.034', '사악': '0.017', '사안': '0.034', '사양': '0.023', '사업': '0.034', '사업가': '0.020', '사업자': '0.031', '사업장': '0.011', '사연': '0.034', '사오': '0.027', '사오정': '0.034', '사온': '0.034', '사와': '0.034', '사용': '0.014', '사용량': '0.025', '사용자': '0.029', '사우나': '0.034', '사우스': '0.044', '사우스차이나모닝포스트': '0.034', '사운드': '0.034', '사위': '0.029', '사유': '0.033', '사육장': '0.029', '사은품': '0.034', '사이': '0.029', '사이다': '0.002', '사이드': '0.034', '사이러스': '0.034', '사이버대학': '0.044', '사이비': '0.023', '사이사이': '0.009', '사이에서': '0.033', '사이좋': '0.034', '사이즈': '0.033', '사이코패스': '0.034', '사이클': '0.022', '사이트': '0.022', '사인': '0.031', '사입': '0.033', '사자': '0.033', '사장': '0.034', '사재기': '0.034', '사전': '0.016', '사절': '0.030', '사정': '0.034', '사정없이': '0.033', '사주': '0.011', '사준': '0.017', '사쥔눼에': '0.014', '사지': '0.032', '사직여기는아지트아무도모르쵸': '0.034', '사진': '0.038', '사진관': '0.016', '사진기': '0.014', '사진사': '0.034', '사진이없넹': '0.026', '사진이지만소재퀄리티의': '0.021', '사진작가': '0.020', '사진찍어주깅': '0.008', '사진첩': '0.008', '사진촬용': '0.013', '사진촬용했습니다': '0.032', '사찰': '0.034', '사창동': '0.011', '사천': '0.044', '사천시': '0.016', '사체': '0.034', '사촌': '0.034', '사칭': '0.033', '사카': '0.004', '사카이': '0.034', '사쿠라': '0.013', '사탕': '0.020', '사탕수수': '0.031', '사태': '0.034', '사파리': '0.022', '사팡팔방으로': '0.001', '사패산': '0.032', '사표': '0.034', '사피엔스': '0.034', '사하': '0.008', '사하구': '0.034', '사항': '0.034', '사해': '0.031', '사향': '0.034', '사회': '0.031', '사회복지사': '0.031', '사회생활': '0.005', '사회심리학자': '0.034', '사후': '0.020', '삭': '0.033', '삭감': '0.033', '삭막': '0.025', '삭스': '0.032', '삭제': '0.034', '산': '0.020', '산 현': '0.013', '산간': '0.034', '산거': '0.032', '산골': '0.014', '산기슭': '0.033', '산길': '0.020', '산낙지': '0.034', '산다': '0.033', '산더미': '0.034', '산도': '0.013', '산들': '0.016', '산뜻': '0.032', '산림': '0.034', '산만': '0.034', '산맥': '0.034', '산물': '0.007', '산미': '0.028', '산발': '0.032', '산방산': '0.033', '산본': '0.005', '산부인과': '0.019', '산불': '0.034', '산사': '0.032', '산사태': '0.029', '산성': '0.034', '산세': '0.044', '산소': '0.034', '산속': '0.017', '산수화': '0.032', '산스장': '0.033', '산스장에': '0.026', '산신령': '0.034', '산악인': '0.007', '산악회': '0.033', '산야': '0.000', '산양': '0.033', '산양유': '0.022', '산업': '0.017', '산이': '0.022', '산자락': '0.034', '산재': '0.034', '산지': '0.015', '산짐승': '0.034', '산차': '0.033', '산책': '0.033', '산책로': '0.025', '산책인스탁스': '0.025', '산타': '0.008', '산행': '0.019', '산후조리': '0.026', '살': '0.034', '살 시': '0.024', '살결': '0.034', '살균': '0.017', '살금살금': '0.033', '살기': '0.026', '살길': '0.017', '살다가': '0.034', '살랑': '0.015', '살로': '0.018', '살롱': '0.034', '살리': '0.027', '살림': '0.034', '살림집': '0.033', '살벌': '0.004', '살살': '0.034', '살수': '0.021', '살아가': '0.032', '살아나': '0.025', '살아남': '0.030', '살아남기': '0.004', '살아오': '0.034', '살얼음': '0.030', '살인': '0.030', '살인자': '0.014', '살짝': '0.014', '살짝살짝': '0.007', '살찌': '0.034', '살차': '0.027', '살펴보': '0.033', '삶': '0.022', '삶기': '0.013', '삼': '0.008', '삼가': '0.006', '삼각': '0.038', '삼각김밥': '0.034', '삼각대': '0.000', '삼각지': '0.034', '삼거리': '0.032', '삼겹살': '0.012', '삼계탕': '0.034', '삼고': '0.024', '삼국유사': '0.030', '삼나무': '0.027', '삼단': '0.034', '삼대': '0.032', '삼덕동': '0.038', '삼류': '0.013', '삼막사': '0.034', '삼만': '0.032', '삼매': '0.034', '삼박자': '0.020', '삼보': '0.004', '삼불봉': '0.034', '삼사': '0.023', '삼산동': '0.032', '삼색': '0.029', '삼성': '0.034', '삼송역': '0.030', '삼시세끼': '0.030', '삼실': '0.031', '삼십': '0.034', '삼양': '0.033', '삼양라면': '0.033', '삼엄': '0.023', '삼일': '0.030', '삼일동': '0.034', '삼종': '0.033', '삼척': '0.034', '삼천포': '0.019', '삼초': '0.019', '삼촌': '0.025', '삼키': '0.015', '삼키기': '0.034', '삽': '0.029', '삽입': '0.027', '상': '0.044', '상가': '0.044', '상가 주': '0.044', '상견례': '0.026', '상공로': '0.014', '상관': '0.029', '상관없': '0.034', '상관없이': '0.034', '상권': '0.033', '상근': '0.000', '상금': '0.034', '상급': '0.009', '상급퀄리티부터': '0.032', '상꼬맹이는': '0.033', '상남자': '0.032', '상단': '0.031', '상담': '0.030', '상담실': '0.000', '상당': '0.034', '상당구': '0.034', '상당로': '0.034', '상당히': '0.033', '상대': '0.034', '상대방': '0.013', '상도': '0.043', '상동': '0.000', '상록구': '0.033', '상림': '0.009', '상모': '0.006', '상무지구': '0.017', '상반기': '0.034', '상병': '0.039', '상보': '0.005', '상봉': '0.007', '상사': '0.034', '상사화': '0.034', '상산': '0.034', '상상': '0.033', '상상력': '0.026', '상생': '0.002', '상세': '0.021', '상속': '0.034', '상승': '0.025', '상승효과': '0.032', '상시': '0.032', '상식': '0.041', '상실': '0.044', '상실감': '0.032', '상심': '0.014', '상아': '0.000', '상암동': '0.034', '상어': '0.034', '상온': '0.034', '상왕': '0.015', '상위': '0.033', '상의': '0.025', '상이': '0.026', '상인': '0.033', '상자': '0.044', '상전': '0.024', '상점': '0.022', '상주': '0.034', '상차림': '0.034', '상처': '0.034', '상천': '0.010', '상천리': '0.024', '상체': '0.013', '상추': '0.021', '상추튀김': '0.030', '상콤터지는': '0.025', '상콤하더람': '0.032', '상콤한걸': '0.034', '상쾌': '0.033', '상쾌한 아침': '0.012', '상큼': '0.034', '상태': '0.014', '상투': '0.026', '상판': '0.009', '상품': '0.034', '상품권': '0.013', '상품명': '0.034', '상품명플레져스': '0.025', '상품최고퀄로': '0.033', '상피': '0.007', '상하': '0.033', '상하의': '0.034', '상하이': '0.016', '상한': '0.034', '상해': '0.034', '상현': '0.030', '상현역': '0.020', '상호': '0.033', '상황': '0.033', '새': '0.033', '새기': '0.013', '새길': '0.011', '새까매지': '0.034', '새끼': '0.021', '새끼손가락': '0.034', '새내기': '0.011', '새로': '0.001', '새로이': '0.021', '새롭': '0.027', '새마을': '0.031', '새벽': '0.034', '새별': '0.016', '새볔': '0.034', '새빨갛': '0.033', '새삼': '0.033', '새삼스레': '0.031', '새소리': '0.034', '새송이': '0.034', '새순': '0.034', '새싹': '0.034', '새엄마': '0.034', '새우': '0.034', '새집': '0.044', '새침': '0.032', '새콤달콤': '0.034', '새콤달콤한': '0.032', '새콤한': '0.006', '새콤했는데': '0.002', '새틴': '0.009', '새파랗': '0.034', '새하얗': '0.031', '새해': '0.025', '색': '0.034', '색감': '0.042', '색깔': '0.011', '색다르': '0.032', '색도': '0.034', '색동': '0.034', '색상': '0.044', '색소': '0.027', '색조화': '0.009', '색종이': '0.034', '색채': '0.004', '색칠': '0.015', '샌드위치': '0.044', '샌디': '0.029', '샐러드': '0.034', '샘': '0.033', '샘플': '0.033', '샘플링': '0.023', '샛길': '0.033', '샛노랗': '0.024', '생': '0.017', '생각': '0.026', '생각나': '0.034', '생각두안남뻥이욬그래도': '0.034', '생각하는 사람': '0.034', '생각해보면': '0.033', '생강': '0.033', '생겨나': '0.030', '생기': '0.032', '생김새': '0.004', '생년월일': '0.032', '생동감': '0.034', '생략': '0.034', '생로랑': '0.032', '생리': '0.031', '생맥주': '0.006', '생명': '0.017', '생명력': '0.033', '생명보험': '0.034', '생명체': '0.014', '생물': '0.017', '생물체': '0.031', '생방송 오늘 저녁': '0.034', '생산': '0.008', '생산성': '0.034', '생색': '0.032', '생생': '0.044', '생선': '0.033', '생선회': '0.033', '생소': '0.034', '생수': '0.042', '생신': '0.030', '생애': '0.031', '생일': '0.034', '생일날': '0.034', '생존': '0.011', '생채': '0.023', '생체': '0.034', '생태계': '0.034', '생화': '0.003', '생활': '0.034', '생활기스로부터': '0.000', '생활비': '0.033', '생활즁': '0.034', '생후': '0.033', '샤': '0.001', '샤네르': '0.005', '샤넬': '0.044', '샤로수길': '0.034', '샤룽': '0.034', '샤베트': '0.011', '샤베트랑': '0.034', '샤브샤브': '0.007', '샤샤가': '0.027', '샤샤삭': '0.004', '샤오': '0.008', '샤오츠': '0.000', '샤워': '0.034', '샤의': '0.028', '샤이니': '0.000', '샤인': '0.032', '샤인머스켓': '0.017', '샤인머스켓을': '0.027', '샤인머스켓이랑': '0.021', '샤크': '0.033', '샤토': '0.034', '샤틴꼬임블라우스': '0.034', '샤포랑': '0.034', '샬라샬라': '0.016', '샴페인': '0.044', '샴푸': '0.017', '샵': '0.034', '샵과': '0.031', '샵별로': '0.023', '샵에': '0.044', '샵에서': '0.001', '샵에서는': '0.033', '샵의': '0.034', '샷': '0.010', '샹': '0.030', '섀넌': '0.000', '서': '0.034', '서걱서걱한': '0.033', '서구': '0.010', '서귀포': '0.020', '서귀포시': '0.033', '서글프': '0.044', '서기': '0.021', '서너': '0.033', '서늘': '0.033', '서도': '0.032', '서동': '0.034', '서두르': '0.034', '서둔동': '0.034', '서랍': '0.034', '서러움': '0.013', '서럽': '0.003', '서로': '0.015', '서료영인생': '0.034', '서류': '0.019', '서류가방': '0.033', '서른': '0.026', '서리': '0.007', '서면': '0.033', '서명': '0.004', '서문': '0.033', '서문시장': '0.044', '서민': '0.028', '서방': '0.034', '서브': '0.034', '서브웨이': '0.034', '서비스': '0.034', '서빈': '0.002', '서빙': '0.044', '서산': '0.033', '서서': '0.027', '서서히': '0.034', '서성이': '0.033', '서소문로': '0.034', '서스펜더': '0.011', '서식': '0.004', '서양': '0.012', '서양식': '0.034', '서어': '0.032', '서연': '0.033', '서우': '0.034', '서운': '0.027', '서울': '0.023', '서울까지': '0.006', '서울대': '0.034', '서울대입구역': '0.034', '서울로': '0.032', '서울숲': '0.021', '서울시': '0.029', '서울역': '0.033', '서울특별시': '0.033', '서재': '0.032', '서적': '0.027', '서종': '0.012', '서주': '0.034', '서지': '0.013', '서진': '0.034', '서쪽': '0.033', '서초': '0.007', '서초구': '0.031', '서초동': '0.034', '서촌': '0.033', '서치': '0.016', '서클': '0.034', '서터': '0.011', '서투르': '0.033', '서툴': '0.010', '서평': '0.018', '서포면': '0.032', '서포터즈': '0.034', '서포터즈는': '0.034', '서포터즈로': '0.011', '서프라이즈': '0.008', '서핑': '0.034', '서하': '0.033', '서해': '0.033', '서현': '0.034', '석': '0.034', '석기': '0.034', '석류': '0.033', '석문': '0.013', '석사': '0.031', '석양': '0.032', '석이': '0.020', '석촌': '0.019', '섞': '0.034', '섞이': '0.020', '선': '0.005', '선결': '0.016', '선곡': '0.027', '선글라스': '0.005', '선녀': '0.034', '선명': '0.029', '선물': '0.035', '선미': '0.009', '선반': '0.008', '선발': '0.044', '선배': '0.000', '선별': '0.014', '선보이': '0.031', '선불': '0.034', '선사': '0.007', '선생': '0.006', '선생님': '0.029', '선선': '0.034', '선셋': '0.002', '선수': '0.034', '선영': '0.007', '선예': '0.034', '선우': '0.015', '선유도': '0.027', '선의': '0.012', '선입견': '0.016', '선점': '0.034', '선정': '0.002', '선조': '0.028', '선지': '0.024', '선지자': '0.034', '선진': '0.006', '선착순': '0.034', '선탠': '0.044', '선풍기': '0.005', '선하': '0.034', '선호': '0.034', '선호도': '0.000', '선회': '0.034', '선히': '0.004', '설': '0.020', '설거지': '0.034', '설겆이': '0.033', '설계': '0.033', '설계사': '0.034', '설날': '0.017', '설레': '0.034', '설레설레': '0.033', '설레이': '0.034', '설레임': '0.021', '설렜던': '0.026', '설마': '0.034', '설명': '0.031', '설명서': '0.032', '설명춉춉': '0.034', '설문': '0.009', '설빙': '0.017', '설사': '0.033', '설산': '0.013', '설악': '0.034', '설악산': '0.034', '설악산즐겼찌롱': '0.005', '설원': '0.013', '설정': '0.004', '설치': '0.034', '설탕': '0.018', '설화': '0.029', '섬': '0.029', '섬기': '0.018', '섬세': '0.025', '섬세한핏엔틱스러운단추': '0.013', '섬유': '0.032', '섬유질': '0.033', '섭': '0.012', '섭섭': '0.034', '섭외': '0.044', '섭취': '0.025', '섭취량': '0.034', '성': '0.004', '성격': '0.007', '성경': '0.033', '성공': '0.028', '성과': '0.014', '성기': '0.004', '성냥': '0.010', '성능': '0.000', '성당동': '0.004', '성덕': '0.004', '성도': '0.021', '성령': '0.034', '성립': '0.031', '성명': '0.034', '성민': '0.037', '성벽': '0.009', '성별': '0.018', '성병': '0.033', '성복': '0.001', '성부': '0.033', '성북동': '0.001', '성분': '0.017', '성불': '0.015', '성비': '0.010', '성산': '0.023', '성산읍': '0.033', '성삼재노고단고개돼지령임걸령노루목삼거리반야봉원점회귀': '0.033', '성서': '0.010', '성성': '0.025', '성수': '0.033', '성수기': '0.007', '성수동': '0.025', '성숙': '0.031', '성시경': '0.026', '성실': '0.034', '성아': '0.007', '성애': '0.034', '성어': '0.034', '성욕': '0.002', '성용': '0.024', '성운': '0.034', '성원': '0.012', '성읍': '0.034', '성의': '0.034', '성인': '0.034', '성인용품샵': '0.043', '성장': '0.033', '성장기': '0.034', '성주': '0.008', '성지': '0.032', '성질': '0.008', '성찰': '0.006', '성채': '0.034', '성취': '0.017', '성취감': '0.034', '성큼': '0.002', '성품': '0.034', '성하': '0.034', '성한': '0.002', '성함': '0.028', '성향': '0.033', '성현': '0.014', '성형': '0.011', '성형외과': '0.032', '성화': '0.008', '성희': '0.015', '세': '0.033', '세가 새턴': '0.015', '세경': '0.034', '세계': '0.034', '세계 인구': '0.000', '세계보건기구': '0.044', '세관': '0.033', '세금': '0.030', '세기': '0.034', '세끼': '0.000', '세뇌': '0.021', '세니': '0.027', '세단': '0.034', '세대': '0.031', '세라': '0.033', '세러': '0.032', '세럼': '0.034', '세럼을': '0.014', '세련': '0.002', '세령서아와': '0.002', '세로': '0.000', '세리': '0.010', '세면대': '0.019', '세문': '0.029', '세미': '0.033', '세미나': '0.000', '세미부츠컷슬랙스': '0.023', '세미부츠컷슬랙스호피': '0.034', '세미오버핏': '0.003', '세밀': '0.034', '세배': '0.016', '세번': '0.034', '세부': '0.034', '세분': '0.025', '세븐': '0.034', '세븐일레븐': '0.034', '세사': '0.034', '세상': '0.034', '세상사': '0.013', '세상은 넓다': '0.034', '세상이뻐하는': '0.044', '세상일': '0.030', '세상존경스럽': '0.031', '세세': '0.043', '세션': '0.026', '세수': '0.033', '세심': '0.034', '세안': '0.034', '세우': '0.026', '세월': '0.013', '세이버': '0.003', '세이브': '0.034', '세이블': '0.012', '세이지': '0.034', '세일': '0.034', '세재': '0.033', '세종': '0.014', '세차': '0.034', '세차장': '0.020', '세척': '0.034', '세컨드': '0.014', '세탁': '0.008', '세트': '0.031', '세팅': '0.031', '세포': '0.034', '섹스': '0.034', '섹시': '0.013', '센': '0.034', '센서': '0.016', '센스': '0.023', '센치': '0.008', '센타': '0.031', '센터': '0.033', '센트럴': '0.033', '센티': '0.007', '셀': '0.034', '셀러': '0.034', '셀럽같아': '0.025', '셀럽들의': '0.009', '셀럽들이': '0.034', '셀렉': '0.009', '셀렉에': '0.025', '셀렉에서': '0.018', '셀렉은': '0.040', '셀린': '0.000', '셀카봉': '0.034', '셀프': '0.011', '셈': '0.006', '셉템버': '0.034', '셋': '0.030', '셋업': '0.029', '셋째': '0.034', '셋트': '0.034', '셋팅': '0.028', '셋팅까지': '0.026', '셋팅하고': '0.033', '셋팅하는데': '0.005', '셔벗': '0.015', '셔츠': '0.022', '셔츠스웻셔츠': '0.033', '셔츠슬랙스': '0.034', '셔츠슬랙스네요': '0.034', '셔터': '0.029', '셔틀': '0.030', '션': '0.031', '셜록': '0.019', '셰이크': '0.006', '셰프': '0.009', '소': '0.034', '소가': '0.034', '소감': '0.016', '소개': '0.034', '소개서': '0.025', '소개팅': '0.044', '소견': '0.044', '소고기': '0.034', '소곤소곤': '0.016', '소구': '0.033', '소극': '0.002', '소금': '0.019', '소금구이': '0.034', '소기': '0.001', '소나': '0.019', '소나기': '0.027', '소나무': '0.042', '소낙비': '0.000', '소녀': '0.032', '소년': '0.009', '소니': '0.031', '소닉': '0.003', '소다': '0.033', '소도': '0.007', '소독': '0.031', '소동': '0.032', '소듕한': '0.013', '소듕해': '0.023', '소듕했던': '0.033', '소득': '0.005', '소라': '0.011', '소란': '0.034', '소래산': '0.005', '소래포구': '0.000', '소량': '0.033', '소르베': '0.043', '소름': '0.001', '소리': '0.023', '소리소리': '0.021', '소망': '0.022', '소매': '0.034', '소매업': '0.034', '소면': '0.026', '소멸': '0.044', '소모': '0.034', '소문': '0.034', '소문나': '0.004', '소미핏고관절스트레칭': '0.034', '소민': '0.034', '소바': '0.031', '소박': '0.034', '소방': '0.034', '소방차': '0.031', '소백산': '0.012', '소백산맥': '0.028', '소변': '0.034', '소보': '0.027', '소비': '0.034', '소비자': '0.015', '소사': '0.010', '소사도': '0.031', '소상': '0.012', '소설': '0.022', '소성': '0.009', '소세지': '0.028', '소소': '0.033', '소속': '0.021', '소속감': '0.015', '소수': '0.027', '소수인': '0.019', '소스': '0.039', '소시지': '0.032', '소식': '0.034', '소심': '0.032', '소아': '0.001', '소아과': '0.034', '소액': '0.014', '소양': '0.032', '소여': '0.003', '소요': '0.034', '소용': '0.030', '소용없': '0.034', '소울': '0.007', '소원': '0.034', '소월': '0.008', '소위': '0.000', '소유': '0.034', '소유주': '0.034', '소율': '0.017', '소음': '0.016', '소음순': '0.019', '소의': '0.034', '소이': '0.034', '소장': '0.044', '소재': '0.034', '소정': '0.019', '소제': '0.003', '소종': '0.031', '소주': '0.012', '소주병': '0.007', '소주잔': '0.033', '소중': '0.042', '소중히': '0.008', '소질': '0.023', '소집': '0.034', '소통': '0.034', '소통포토샵일상사진': '0.028', '소파': '0.031', '소품': '0.034', '소품샵': '0.034', '소풍': '0.005', '소프': '0.030', '소프트': '0.034', '소함': '0.034', '소형': '0.002', '소호': '0.034', '소홀': '0.004', '소화': '0.034', '소화기': '0.034', '소화도': '0.034', '소화력': '0.005', '소환': '0.034', '소회': '0.014', '속': '0.045', '속껍질': '0.021', '속눈썹': '0.032', '속눈썹펌': '0.031', '속담': '0.032', '속도': '0.034', '속도감': '0.019', '속력': '0.033', '속마음': '0.022', '속바지': '0.044', '속사정': '0.035', '속삭이': '0.028', '속삭임': '0.004', '속살': '0.006', '속상': '0.007', '속상하': '0.033', '속세': '0.034', '속앓이': '0.034', '속옷': '0.034', '속이': '0.034', '속전속결': '0.012', '속지': '0.034', '속초': '0.034', '속초시': '0.012', '속하': '0.012', '손': '0.033', '손가락': '0.034', '손길': '0.034', '손끝': '0.034', '손님': '0.015', '손등': '0.034', '손맛': '0.034', '손목': '0.002', '손바닥': '0.034', '손발': '0.040', '손발톱': '0.034', '손비': '0.026', '손상': '0.023', '손색': '0.000', '손소독': '0.007', '손수': '0.034', '손쉽': '0.033', '손실': '0.019', '손쓰': '0.027', '손은': '0.034', '손의': '0.015', '손자': '0.034', '손잡': '0.033', '손잡이': '0.026', '손주': '0.016', '손질': '0.002', '손짓': '0.034', '손톱': '0.027', '손해': '0.005', '손해보험': '0.005', '손흥민': '0.031', '솔': '0.008', '솔꾸옷장': '0.034', '솔라': '0.030', '솔로': '0.003', '솔루션': '0.006', '솔방': '0.025', '솔솔': '0.004', '솔잎': '0.012', '솔직': '0.034', '솔직히': '0.021', '솔트': '0.018', '솔트캬라멜': '0.025', '솔티캬라멜더블초코앙버터': '0.028', '솜': '0.000', '솜사탕': '0.005', '솜씨': '0.033', '솜털': '0.042', '솟': '0.027', '솟구치': '0.012', '솟아오르': '0.034', '송': '0.029', '송 원': '0.034', '송가': '0.034', '송계': '0.034', '송곳니': '0.034', '송금': '0.025', '송기': '0.002', '송도': '0.024', '송도동': '0.033', '송만': '0.023', '송상': '0.008', '송시': '0.034', '송아지': '0.034', '송어': '0.034', '송이': '0.012', '송이송이': '0.034', '송장': '0.011', '송전': '0.034', '송정': '0.030', '송천동': '0.034', '송크람': '0.009', '송파': '0.033', '송파구': '0.034', '송파위례점': '0.034', '송편': '0.034', '송한기': '0.032', '송해': '0.033', '송현': '0.020', '솥': '0.033', '솥뚜껑': '0.003', '쇄': '0.033', '쇄골': '0.034', '쇠고기': '0.009', '쇳덩이': '0.006', '쇼': '0.024', '쇼크': '0.034', '쇼파': '0.016', '쇼핑': '0.012', '쇼핑몰': '0.030', '쇼핑백': '0.017', '숄더백': '0.032', '숏': '0.034', '숏롱': '0.033', '숑숑': '0.026', '숑이랑': '0.034', '수': '0.036', '수건': '0.033', '수고': '0.030', '수고했옹': '0.034', '수공': '0.033', '수그리': '0.034', '수금': '0.018', '수급': '0.034', '수긍': '0.006', '수납': '0.005', '수납공간': '0.044', '수납장': '0.029', '수능': '0.033', '수능특강': '0.013', '수다': '0.032', '수당': '0.034', '수도': '0.033', '수도권': '0.034', '수돗물': '0.034', '수동': '0.002', '수락산': '0.001', '수량': '0.033', '수련': '0.014', '수령': '0.012', '수로': '0.005', '수록': '0.028', '수료': '0.043', '수리': '0.034', '수리비': '0.000', '수리산': '0.030', '수만': '0.034', '수많': '0.044', '수면': '0.031', '수면제': '0.043', '수명': '0.034', '수명 연장': '0.004', '수목': '0.025', '수목원': '0.033', '수박': '0.034', '수박화채': '0.044', '수발': '0.003', '수배': '0.022', '수백': '0.034', '수백만': '0.032', '수북': '0.034', '수북이': '0.002', '수분': '0.034', '수분공급됩니당': '0.007', '수비드': '0.007', '수사': '0.020', '수사진': '0.008', '수산': '0.032', '수상': '0.033', '수상자': '0.034', '수선': '0.019', '수성': '0.030', '수성구': '0.028', '수성당': '0.034', '수세미': '0.026', '수수료': '0.001', '수술': '0.032', '수술실': '0.010', '수시': '0.031', '수시로': '0.044', '수신': '0.016', '수신인': '0.023', '수십': '0.007', '수안': '0.029', '수액': '0.004', '수어': '0.034', '수업': '0.007', '수없': '0.026', '수없이': '0.034', '수여식': '0.023', '수연': '0.034', '수열': '0.034', '수염': '0.003', '수영': '0.012', '수영구': '0.034', '수영로': '0.032', '수영복': '0.003', '수영장': '0.029', '수완': '0.033', '수요': '0.034', '수요일': '0.025', '수원': '0.042', '수원시': '0.000', '수월': '0.000', '수위': '0.034', '수유': '0.015', '수유텀': '0.031', '수유텀시간에서': '0.006', '수육': '0.034', '수육카츠': '0.028', '수육카츠는': '0.032', '수의사': '0.014', '수이': '0.011', '수익': '0.003', '수익금': '0.034', '수익률': '0.034', '수익자': '0.034', '수인': '0.032', '수입': '0.032', '수입초고퀄리티': '0.014', '수작업': '0.001', '수장': '0.034', '수재샵': '0.031', '수재샵입니다': '0.034', '수저': '0.034', '수정': '0.006', '수정본': '0.033', '수제': '0.029', '수제돈까스': '0.034', '수제비': '0.008', '수족': '0.034', '수종사': '0.029', '수주': '0.006', '수준': '0.034', '수줍': '0.001', '수줍음': '0.034', '수지': '0.011', '수직': '0.033', '수집': '0.023', '수차': '0.031', '수차례': '0.023', '수천': '0.031', '수천만': '0.000', '수축': '0.020', '수치': '0.019', '수칙': '0.034', '수트': '0.034', '수평': '0.020', '수플레': '0.034', '수피': '0.034', '수학': '0.032', '수학여행': '0.018', '수해': '0.001', '수행': '0.008', '수험': '0.031', '수혈': '0.031', '수확': '0.001', '숙': '0.034', '숙고': '0.034', '숙녀': '0.006', '숙련': '0.030', '숙면': '0.034', '숙명': '0.031', '숙박': '0.034', '숙성': '0.026', '숙소': '0.034', '숙씨': '0.006', '숙이': '0.031', '숙제': '0.006', '숙주': '0.010', '숙지': '0.034', '숙취': '0.034', '순': '0.006', '순간': '0.034', '순간순간': '0.029', '순결': '0.005', '순나': '0.031', '순대': '0.034', '순돌이': '0.030', '순돌쨩': '0.033', '순두부': '0.033', '순사': '0.044', '순서': '0.019', '순수': '0.021', '순식간': '0.032', '순위': '0.034', '순응': '0.010', '순이': '0.034', '순종': '0.027', '순진': '0.031', '순진무구': '0.034', '순차': '0.033', '순창': '0.027', '순천': '0.034', '순천시': '0.034', '순탄': '0.020', '순하': '0.033', '순환': '0.033', '숟가락': '0.034', '숟갈': '0.019', '술': '0.027', '술술': '0.009', '술시': '0.034', '술안주': '0.034', '술자리': '0.030', '술주정': '0.007', '술집': '0.024', '숨': '0.008', '숨결': '0.034', '숨기': '0.032', '숨바꼭질': '0.034', '숨이슝슝': '0.034', '숨죽이': '0.034', '숨차': '0.011', '숩': '0.004', '숫가': '0.034', '숫게에': '0.030', '숫자': '0.010', '숭그미': '0.015', '숭덩숭덩': '0.034', '숯': '0.034', '숯불': '0.034', '숱': '0.012', '숲': '0.026', '숲길': '0.034', '쉐리': '0.008', '쉐이버가': '0.034', '쉐이크크킄킄': '0.014', '쉐입': '0.025', '쉐입으로': '0.026', '쉐입이': '0.034', '쉐프': '0.044', '쉑쉑버거': '0.034', '쉘터': '0.033', '쉬': '0.012', '쉬드': '0.034', '쉬림프': '0.034', '쉬림프랑': '0.034', '쉬림프반반': '0.034', '쉬엄쉬엄': '0.022', '쉼터': '0.034', '쉽': '0.032', '쉽사리': '0.021', '쉽죵': '0.033', '쉿': '0.020', '슈가': '0.006', '슈도': '0.034', '슈림프들그리고': '0.031', '슈와': '0.034', '슈우웅': '0.023', '슈즈': '0.023', '슈크림': '0.034', '슈타인': '0.033', '슈트': '0.004', '슈퍼': '0.025', '슈퍼마켓': '0.032', '슈퍼맨': '0.034', '슈퍼스타': '0.034', '슈프림': '0.007', '스끼다시다꼬야끼': '0.034', '스낵': '0.034', '스냅': '0.014', '스노': '0.034', '스노우': '0.022', '스노클링': '0.034', '스리': '0.032', '스리라차 소스': '0.007', '스릴': '0.033', '스마': '0.027', '스마일': '0.034', '스마일마스크스트랩': '0.034', '스마트': '0.029', '스마트폰': '0.032', '스며들': '0.034', '스모': '0.027', '스모키': '0.034', '스무': '0.011', '스무디': '0.032', '스무살': '0.014', '스무스하게': '0.033', '스물': '0.011', '스물스물': '0.014', '스벅쿠폰': '0.027', '스산': '0.033', '스스럼': '0.032', '스스로': '0.007', '스승': '0.030', '스시': '0.011', '스시나오는순간': '0.013', '스시는': '0.007', '스시만': '0.031', '스시아라타': '0.001', '스시인대관에': '0.034', '스시코스를': '0.034', '스앵님': '0.007', '스오이': '0.029', '스와': '0.000', '스와들업을': '0.034', '스와들업코코테일즈': '0.025', '스와로브스키': '0.012', '스왈로': '0.031', '스왑': '0.033', '스웁': '0.015', '스웨덴': '0.002', '스웨디시': '0.034', '스웨이드': '0.034', '스웨이드하프플리츠스커트베이지총장': '0.033', '스웨터': '0.034', '스웻셔츠': '0.021', '스웻셔츠와': '0.031', '스위스': '0.024', '스위스 공식': '0.022', '스위치': '0.034', '스위트': '0.034', '스위트글로브': '0.010', '스위트에': '0.032', '스위트하우스': '0.034', '스위티': '0.034', '스윗메이드': '0.031', '스윗메이드로': '0.034', '스윗미나잇': '0.034', '스윗한': '0.007', '스윗해서': '0.028', '스윙': '0.034', '스지': '0.024', '스쳐보': '0.020', '스치': '0.019', '스카이': '0.034', '스카프': '0.001', '스커트': '0.030', '스케일': '0.007', '스케줄': '0.031', '스케쥴': '0.033', '스케치': '0.033', '스코티': '0.012', '스콘': '0.030', '스콘말차크럼블스콘스트로베리': '0.044', '스콜': '0.034', '스콧': '0.033', '스쿠버': '0.033', '스쿨': '0.020', '스쿱에': '0.004', '스쿼트': '0.034', '스퀘어': '0.033', '스퀘어넥으로': '0.034', '스크래처': '0.029', '스크래쳐': '0.022', '스크래치': '0.044', '스크램블': '0.029', '스크럽': '0.011', '스크럽도': '0.034', '스크럽을': '0.034', '스크레치': '0.044', '스크린': '0.044', '스크린샷': '0.028', '스키': '0.034', '스키니핏': '0.004', '스킨': '0.000', '스킨쉽': '0.026', '스킨케어': '0.004', '스킨핏': '0.034', '스타': '0.026', '스타렉스': '0.034', '스타롱': '0.031', '스타롱연락처': '0.034', '스타벅스': '0.043', '스타스': '0.034', '스타워즈': '0.033', '스타일': '0.009', '스타일리시': '0.034', '스타트': '0.023', '스탁제품': '0.034', '스탈': '0.034', '스탠다드한': '0.034', '스탠딩': '0.010', '스탠딩액자가': '0.034', '스탠딩패키지의': '0.015', '스탭': '0.024', '스테이': '0.013', '스테이션': '0.009', '스테이크': '0.031', '스테이크하우스': '0.034', '스테인레스': '0.028', '스텐': '0.022', '스템': '0.033', '스텝': '0.016', '스텟이': '0.027', '스토리': '0.010', '스토리텔링': '0.020', '스토어': '0.014', '스토커': '0.034', '스톡': '0.028', '스톤': '0.010', '스퇄': '0.034', '스튜': '0.034', '스튜디오': '0.035', '스트': '0.034', '스트라이프': '0.034', '스트랩': '0.034', '스트랩가지색상': '0.033', '스트랩도': '0.033', '스트랩으로': '0.034', '스트랩입니다': '0.028', '스트랩추가': '0.003', '스트레스': '0.034', '스트레이트': '0.004', '스트레인': '0.034', '스트레치': '0.016', '스트레칭': '0.034', '스트로': '0.033', '스트림': '0.033', '스트릿': '0.006', '스트릿으로도': '0.033', '스트릿캐주얼': '0.033', '스트릿컷으로': '0.021', '스트릿코디에': '0.015', '스트링': '0.034', '스트링으로': '0.004', '스티': '0.008', '스티커': '0.015', '스틱': '0.017', '스틸': '0.033', '스팀': '0.033', '스팅': '0.034', '스파': '0.027', '스파게티': '0.005', '스파이': '0.031', '스파이크': '0.034', '스파크': '0.011', '스판': '0.034', '스팟': '0.034', '스패니얼': '0.034', '스팩학력': '0.034', '스팸': '0.034', '스펀지': '0.044', '스페샬': '0.032', '스페셀': '0.031', '스페셜': '0.034', '스페어파츠': '0.034', '스페인': '0.034', '스페인어': '0.034', '스펙': '0.034', '스포': '0.044', '스포츠': '0.030', '스포팅했는데': '0.006', '스폰서': '0.010', '스푼': '0.032', '스프': '0.033', '스프라이트': '0.034', '스프레이': '0.017', '스피드': '0.019', '스피크업': '0.033', '스피킹': '0.023', '스핀': '0.019', '슥슥': '0.034', '슬': '0.009', '슬그머니': '0.034', '슬금': '0.040', '슬금슬금': '0.023', '슬기': '0.008', '슬라이드': '0.034', '슬랙스': '0.032', '슬랙스그레이': '0.030', '슬랙스랑': '0.005', '슬럿': '0.012', '슬럿먹으러는': '0.034', '슬럿은': '0.018', '슬렉스': '0.001', '슬로': '0.044', '슬로건': '0.025', '슬롯': '0.034', '슬리브': '0.034', '슬리퍼': '0.003', '슬림': '0.032', '슬림핏': '0.034', '슬림핏입니다': '0.044', '슬링백': '0.033', '슬슬': '0.020', '슬쩍': '0.005', '슬퍼하': '0.028', '슬프': '0.032', '슬프개': '0.007', '슬픔': '0.008', '습': '0.034', '습관': '0.018', '습관화': '0.004', '습도': '0.032', '습진': '0.018', '습하': '0.034', '승': '0.034', '승객': '0.033', '승리자': '0.026', '승부': '0.033', '승식': '0.003', '승우': '0.034', '승인': '0.033', '승자': '0.025', '승쟈는': '0.038', '승주': '0.029', '승천': '0.018', '승학산': '0.034', '승현': '0.033', '승호': '0.033', '시': '0.035', '시가': '0.031', '시각': '0.034', '시간': '0.079', '시간대': '0.031', '시경': '0.032', '시계': '0.034', '시골': '0.034', '시공': '0.031', '시공간': '0.009', '시구': '0.034', '시국': '0.034', '시금치': '0.044', '시급': '0.034', '시기': '0.033', '시끄럽': '0.033', '시나': '0.000', '시내': '0.006', '시냇가': '0.000', '시너지': '0.034', '시네': '0.010', '시늉': '0.013', '시니': '0.006', '시다': '0.000', '시달리': '0.030', '시당': '0.033', '시대': '0.022', '시댁': '0.034', '시데레우스 눈치우스': '0.034', '시도': '0.017', '시드': '0.033', '시들': '0.006', '시럽': '0.033', '시렁': '0.034', '시력': '0.034', '시로': '0.030', '시롸소니': '0.000', '시루': '0.021', '시름': '0.034', '시리': '0.030', '시리얼': '0.025', '시리즈': '0.033', '시메': '0.032', '시무룩': '0.034', '시민': '0.034', '시바': '0.017', '시반': '0.033', '시밤': '0.034', '시범': '0.026', '시보': '0.007', '시부': '0.018', '시부모': '0.033', '시비': '0.001', '시사': '0.034', '시선': '0.007', '시설': '0.034', '시성': '0.020', '시술': '0.031', '시스': '0.014', '시스루': '0.034', '시스템': '0.007', '시승': '0.022', '시시': '0.014', '시시각각': '0.013', '시식': '0.032', '시아': '0.034', '시안': '0.034', '시애틀': '0.033', '시야': '0.034', '시어': '0.034', '시어머니': '0.034', '시엔': '0.025', '시엘': '0.033', '시오': '0.017', '시온': '0.006', '시원': '0.031', '시원시원': '0.034', '시월': '0.033', '시위': '0.044', '시은': '0.033', '시의': '0.034', '시일': '0.034', '시작': '0.034', '시작했는뎈': '0.003', '시장': '0.032', '시전': '0.031', '시절': '0.004', '시점': '0.034', '시정': '0.018', '시제': '0.034', '시종일관': '0.034', '시중': '0.034', '시중들': '0.023', '시즈': '0.016', '시즌': '0.011', '시지': '0.042', '시집': '0.029', '시집살이': '0.034', '시차': '0.034', '시청': '0.034', '시초': '0.022', '시츄': '0.034', '시침': '0.020', '시카고피자': '0.033', '시크': '0.034', '시크릿': '0.021', '시큰': '0.034', '시큰둥': '0.023', '시큼': '0.011', '시키': '0.021', '시킼': '0.002', '시트': '0.014', '시트롱파운드': '0.034', '시티': '0.034', '시판': '0.011', '시편': '0.031', '시프': '0.044', '시한부': '0.009', '시합': '0.020', '시행': '0.034', '시험': '0.032', '시험관': '0.003', '시흥': '0.032', '시흥시': '0.000', '식': '0.015', '식가뮤': '0.034', '식구': '0.034', '식기': '0.032', '식단': '0.001', '식당': '0.021', '식도': '0.017', '식물': '0.034', '식물성 고기': '0.034', '식별': '0.021', '식비': '0.010', '식빵': '0.019', '식사': '0.034', '식사 준비': '0.020', '식상': '0.005', '식습관': '0.034', '식욕': '0.032', '식욕이라도없겟죠': '0.013', '식용유': '0.034', '식육': '0.014', '식이': '0.033', '식인': '0.013', '식자': '0.019', '식장': '0.034', '식장산': '0.034', '식전': '0.044', '식초': '0.001', '식탁': '0.011', '식품': '0.034', '식품 첨가물': '0.008', '식품위생법': '0.034', '식혜': '0.002', '식후': '0.034', '신': '0.005', '신가': '0.034', '신간': '0.033', '신건': '0.034', '신경': '0.010', '신경과': '0.018', '신경외과': '0.009', '신고': '0.002', '신고자': '0.034', '신고합니다': '0.007', '신과함께': '0.034', '신규': '0.034', '신기': '0.012', '신기하': '0.022', '신나': '0.025', '신념': '0.010', '신당': '0.018', '신당동': '0.033', '신동': '0.021', '신라면': '0.031', '신라호텔': '0.020', '신랑': '0.034', '신령': '0.034', '신뢰': '0.034', '신림': '0.008', '신명': '0.044', '신문': '0.018', '신바이오틱스': '0.008', '신발': '0.004', '신발장': '0.034', '신병': '0.044', '신부': '0.012', '신분': '0.034', '신비': '0.028', '신사': '0.029', '신상': '0.034', '신상도': '0.016', '신상초': '0.030', '신상품': '0.008', '신새': '0.034', '신생': '0.034', '신생아': '0.034', '신생아실': '0.027', '신선': '0.011', '신선도': '0.034', '신설': '0.027', '신성': '0.004', '신세계': '0.034', '신속': '0.013', '신승': '0.028', '신아': '0.021', '신앙생활': '0.033', '신약': '0.034', '신어': '0.034', '신우': '0.019', '신원': '0.030', '신의': '0.034', '신의 존재': '0.034', '신의 한 수': '0.034', '신이': '0.025', '신입': '0.015', '신자': '0.034', '신작': '0.024', '신장': '0.034', '신재': '0.033', '신전': '0.033', '신정네거리역': '0.016', '신제주': '0.008', '신제품': '0.011', '신조': '0.034', '신종': '0.000', '신주': '0.034', '신중': '0.034', '신중히': '0.044', '신지': '0.033', '신천': '0.034', '신청': '0.017', '신청서': '0.044', '신체': '0.034', '신촌역': '0.034', '신축': '0.008', '신춘문예': '0.021', '신탁': '0.015', '신품': '0.011', '신학': '0.033', '신한': '0.011', '신한금융그룹': '0.017', '신한은행': '0.009', '신형': '0.034', '신호': '0.011', '신호등': '0.034', '신혼': '0.034', '신혼살림': '0.000', '신화': '0.034', '싣': '0.044', '실': '0.033', '실감': '0.032', '실기': '0.003', '실내': '0.033', '실눈': '0.034', '실력': '0.044', '실로': '0.034', '실루엣': '0.028', '실리': '0.006', '실리콘': '0.044', '실링': '0.028', '실마리': '0.017', '실망': '0.034', '실망감': '0.028', '실물': '0.014', '실밥': '0.030', '실버': '0.034', '실버넥크리스': '0.013', '실사': '0.034', '실색': '0.004', '실생활': '0.028', '실속': '0.034', '실수': '0.034', '실습': '0.021', '실시': '0.034', '실시간': '0.019', '실없': '0.043', '실연': '0.034', '실온': '0.030', '실외': '0.034', '실용': '0.034', '실은': '0.032', '실장': '0.034', '실전': '0.024', '실제': '0.015', '실제로': '0.034', '실종': '0.023', '실천': '0.033', '실측': '0.013', '실컷': '0.010', '실크': '0.019', '실패': '0.030', '실행': '0.032', '실험': '0.017', '실험실': '0.031', '실현': '0.040', '실화': '0.034', '싫': '0.018', '싫어하': '0.032', '심': '0.032', '심각': '0.003', '심각해지뮤': '0.023', '심근': '0.034', '심리': '0.015', '심리학': '0.008', '심리학자': '0.008', '심박수': '0.021', '심밨다아니': '0.033', '심부름': '0.033', '심사': '0.034', '심상': '0.000', '심술': '0.034', '심신': '0.024', '심심': '0.044', '심야': '0.044', '심야식당': '0.008', '심오': '0.011', '심의': '0.031', '심장': '0.033', '심장사상충': '0.034', '심정': '0.006', '심지어': '0.034', '심층': '0.011', '심통': '0.034', '심판': '0.030', '심픅하여': '0.034', '심플': '0.034', '심플힌': '0.003', '심하': '0.034', '심해': '0.034', '심호흡': '0.010', '십': '0.017', '십수': '0.034', '십자가': '0.032', '십자수': '0.030', '십장': '0.034', '십팔': '0.034', '싱': '0.031', '싱겁': '0.034', '싱글': '0.028', '싱글자켓': '0.034', '싱숭생숭': '0.034', '싱숭싱숭': '0.018', '싱싱': '0.012', '싱크': '0.005', '싱크대': '0.034', '싶': '0.034', '싶돠는': '0.031', '싶따': '0.034', '싸': '0.016', '싸가지': '0.033', '싸구려': '0.044', '싸대': '0.012', '싸리': '0.009', '싸우': '0.030', '싸움': '0.034', '싸이': '0.034', '싸이클': '0.031', '싸인': '0.033', '싹': '0.034', '싹싹': '0.034', '쌀': '0.019', '쌀과쟈는': '0.006', '쌀국수': '0.034', '쌀밥': '0.004', '쌀쌀': '0.044', '쌀알': '0.033', '쌈': '0.031', '쌈장': '0.034', '쌉': '0.032', '쌉가능일듯': '0.034', '쌉갑임': '0.002', '쌉싸름한': '0.044', '쌉쌀': '0.034', '쌉쏘롬한맛': '0.033', '쌍': '0.034', '쌍남쟈': '0.013', '쌍둥이': '0.033', '쌍방': '0.034', '쌍수': '0.033', '쌍책면': '0.031', '쌓': '0.034', '쌓이': '0.034', '쌔까매졌오': '0.010', '쌘': '0.034', '쌤': '0.023', '쌤도': '0.033', '쌤들': '0.034', '쌤이': '0.034', '쌤한테': '0.032', '쌩': '0.021', '쌩쌩히': '0.004', '써내': '0.034', '써먹': '0.028', '써밋리그': '0.000', '써보내욯': '0.034', '써브웨이': '0.034', '써비스': '0.003', '써클': '0.031', '썩': '0.029', '썩이': '0.027', '썬': '0.026', '썰': '0.034', '썰렁': '0.011', '썸남': '0.034', '썸에서': '0.030', '썸연': '0.004', '쎄': '0.021', '쎄오': '0.013', '쎄져': '0.034', '쏘': '0.026', '쏘둥아': '0.019', '쏘샤어머니': '0.032', '쏘옥': '0.028', '쏘이': '0.011', '쏘주': '0.013', '쏘쿨': '0.033', '쏘큐펫을': '0.043', '쏙': '0.034', '쏜다': '0.020', '쏟': '0.015', '쏟아지': '0.031', '쏠쏠': '0.034', '쏭': '0.034', '쏭아르미야': '0.034', '쐬': '0.033', '쑈': '0.001', '쑤': '0.027', '쑤뤠기': '0.034', '쑤시': '0.034', '쑤욱': '0.032', '쑥': '0.034', '쑥떡': '0.020', '쑥스럽': '0.029', '쑥쑥': '0.028', '쒸끼': '0.013', '쒼나게': '0.009', '쓕쓕해서': '0.027', '쓰': '0.022', '쓰기': '0.028', '쓰다듬': '0.007', '쓰라리': '0.041', '쓰러지': '0.023', '쓰레기': '0.026', '쓰리': '0.005', '쓰앵님': '0.034', '쓰읍': '0.031', '쓰이': '0.034', '쓰임': '0.034', '쓰촨': '0.006', '쓱': '0.016', '쓴맛': '0.034', '쓸': '0.034', '쓸데없': '0.034', '쓸데없이': '0.030', '쓸모': '0.005', '쓸모없': '0.012', '쓸쓸': '0.024', '쓸쓸히': '0.015', '씁쓸': '0.034', '씁쓸달달상콤꾸덕꾸덕': '0.034', '씌': '0.034', '씌우': '0.034', '씨': '0.011', '씨드': '0.034', '씨리얼': '0.034', '씨앗': '0.033', '씨엘샵': '0.028', '씨엘샵에서': '0.032', '씨엘샵은': '0.011', '씨엘샵이': '0.016', '씨티': '0.033', '씩': '0.027', '씩씩': '0.034', '씹': '0.034', '씹기': '0.043', '씹는밋도': '0.034', '씹히': '0.033', '씻': '0.028', '씻기': '0.033', '씽': '0.002', '씽씽': '0.009', '앀아': '0.032', '아': '0.044', '아가': '0.032', '아가다': '0.034', '아가뽀짝시절': '0.022', '아가야': '0.034', '아가페': '0.034', '아고': '0.034', '아귀': '0.000', '아그드': '0.024', '아기': '0.034', '아기자기': '0.019', '아까': '0.011', '아까워하': '0.025', '아깝': '0.019', '아깝겟지': '0.034', '아꼬': '0.018', '아끼': '0.033', '아끼다': '0.029', '아낌없': '0.028', '아낌없이': '0.014', '아나': '0.004', '아나지로': '0.031', '아난': '0.020', '아날로그': '0.027', '아내': '0.005', '아냐': '0.034', '아너': '0.006', '아넬라퓨레는': '0.021', '아넬라퓨레와': '0.034', '아늑': '0.033', '아는사라뮤': '0.032', '아니': '0.074', '아니꼽': '0.023', '아니냬': '0.034', '아니라귱': '0.011', '아니야': '0.006', '아니잖늬': '0.026', '아니하': '0.033', '아닌가싶다주륵자칭': '0.034', '아닙니닼개강해서': '0.034', '아다': '0.003', '아담': '0.034', '아대': '0.034', '아더': '0.031', '아데노신': '0.029', '아도': '0.032', '아동': '0.033', '아동복': '0.034', '아두': '0.034', '아드님': '0.005', '아득': '0.014', '아들': '0.033', '아들놈': '0.026', '아들러': '0.028', '아등바등': '0.033', '아디다스': '0.033', '아따': '0.016', '아라': '0.043', '아라라': '0.015', '아라비아': '0.034', '아람': '0.032', '아랍어': '0.022', '아랐지만': '0.034', '아랑': '0.034', '아래': '0.009', '아래쪽': '0.034', '아랫니': '0.034', '아랫배': '0.011', '아랫집': '0.034', '아랫층': '0.028', '아련': '0.021', '아령': '0.008', '아로': '0.033', '아롱사태에': '0.031', '아롸': '0.014', '아르': '0.033', '아른거리': '0.034', '아를': '0.034', '아름다운 비밀': '0.020', '아름다운 정원': '0.044', '아름답': '0.025', '아름답다': '0.034', '아름드리': '0.018', '아리': '0.033', '아리랑': '0.032', '아리엘': '0.034', '아마': '0.034', '아마노하시다테': '0.034', '아마도': '0.034', '아마듀': '0.032', '아마존': '0.044', '아메리카': '0.028', '아메리카노': '0.002', '아메리칸': '0.030', '아멘': '0.044', '아명': '0.034', '아몬드': '0.034', '아몬드꼬끄후레이크': '0.023', '아무': '0.034', '아무것': '0.003', '아무도': '0.011', '아무래도': '0.032', '아무런': '0.027', '아무렇': '0.034', '아무리': '0.002', '아무튼': '0.033', '아물': '0.034', '아뮤래도': '0.017', '아미노산': '0.013', '아바': '0.010', '아방핏': '0.015', '아버님': '0.034', '아버지': '0.009', '아벱과': '0.018', '아보카도': '0.044', '아뵤오': '0.019', '아부': '0.044', '아부지': '0.008', '아빠': '0.034', '아빠어딨지이러기도': '0.034', '아삭': '0.034', '아산': '0.023', '아상가': '0.033', '아서': '0.034', '아숩다용': '0.018', '아숩지만': '0.033', '아쉬움': '0.034', '아쉬워하': '0.033', '아쉽': '0.034', '아쉽슴': '0.034', '아쉽아쉽': '0.029', '아스': '0.010', '아슬아슬': '0.007', '아시': '0.009', '아시아나': '0.003', '아시안': '0.034', '아아': '0.032', '아악': '0.023', '아앙': '0.034', '아연': '0.034', '아영': '0.033', '아예': '0.034', '아옹': '0.032', '아우': '0.034', '아우라': '0.020', '아우성': '0.034', '아웃': '0.007', '아웃백': '0.034', '아워까지': '0.044', '아위움': '0.016', '아유': '0.031', '아육대': '0.000', '아이': '0.020', '아이고': '0.033', '아이구': '0.032', '아이덴티티': '0.033', '아이돌': '0.034', '아이들': '0.019', '아이디어': '0.033', '아이러니': '0.031', '아이롱펌': '0.026', '아이린': '0.032', '아이방': '0.029', '아이보리': '0.022', '아이스': '0.032', '아이스박스': '0.044', '아이스박스 케이크': '0.034', '아이스쵸코는': '0.034', '아이스크림': '0.034', '아이언맨': '0.033', '아이와': '0.034', '아이코': '0.032', '아이콘': '0.023', '아이쿠': '0.031', '아이템': '0.019', '아이폰': '0.034', '아인': '0.015', '아인슈페너': '0.014', '아인슈페너를': '0.032', '아인스': '0.034', '아일랜드': '0.008', '아일렛': '0.011', '아일렛펀칭원피스': '0.034', '아자': '0.033', '아자플젝': '0.012', '아잔': '0.033', '아저씨': '0.034', '아주': '0.021', '아주대': '0.022', '아주머니': '0.031', '아줌마': '0.027', '아중': '0.011', '아지': '0.024', '아지트': '0.004', '아직': '0.034', '아직이름없는신상자켓': '0.036', '아진': '0.034', '아찔': '0.034', '아차': '0.000', '아참': '0.044', '아치': '0.001', '아침': '0.034', '아침밥': '0.007', '아침저녁': '0.032', '아카리': '0.034', '아코디언': '0.034', '아쿠아': '0.029', '아쿠아리움': '0.026', '아크릴': '0.034', '아키': '0.029', '아킬레스건': '0.044', '아테': '0.001', '아토': '0.032', '아토샵': '0.034', '아토피': '0.026', '아트': '0.005', '아틀리에': '0.013', '아티스트': '0.034', '아파서': '0.034', '아파트': '0.034', '아파하': '0.027', '아프': '0.034', '아프니까 청춘이다': '0.034', '아프리카': '0.012', '아플랭': '0.015', '아픔': '0.018', '아하': '0.034', '아해': '0.034', '아현': '0.034', '아홉': '0.011', '아휴': '0.032', '악': '0.034', '악귀': '0.028', '악마룽': '0.034', '악몽': '0.032', '악물': '0.034', '악성': '0.033', '악세사리': '0.034', '악스': '0.008', '악쓰': '0.033', '악용': '0.001', '악의': '0.002', '악인': '0.034', '악조건': '0.034', '악취': '0.017', '안': '0.034', '안가던데욤': '0.028', '안감': '0.028', '안감큐프라': '0.011', '안개': '0.002', '안경': '0.034', '안경점': '0.021', '안고': '0.011', '안과': '0.008', '안구': '0.034', '안국역': '0.034', '안기': '0.034', '안길': '0.026', '안나': '0.034', '안나오길랰꿀잠자나': '0.033', '안남': '0.034', '안내': '0.029', '안냐하세욤': '0.034', '안녕': '0.000', '안녕하세요': '0.020', '안녕하십니까': '0.016', '안녕협재씨': '0.024', '안녕히': '0.034', '안늉': '0.034', '안다': '0.006', '안달': '0.034', '안덕면': '0.027', '안도': '0.023', '안동찜닭': '0.015', '안됐는뎨여': '0.033', '안되': '0.034', '안됩니당': '0.034', '안됬는데': '0.021', '안락': '0.004', '안매워요': '0.043', '안면': '0.032', '안면도': '0.044', '안면읍': '0.034', '안목': '0.014', '안받': '0.000', '안받습니당예약을': '0.034', '안방': '0.034', '안보': '0.021', '안부': '0.001', '안사면': '0.000', '안산': '0.030', '안산시': '0.003', '안성': '0.029', '안성맞춤': '0.034', '안심': '0.034', '안쓰럽': '0.034', '안약': '0.032', '안양': '0.007', '안양시': '0.034', '안오넹': '0.033', '안와': '0.006', '안이': '0.019', '안자': '0.005', '안장': '0.032', '안전': '0.022', '안전망': '0.034', '안전지대': '0.034', '안전하겠죵': '0.005', '안전히': '0.040', '안절부절': '0.034', '안정': '0.027', '안정감': '0.044', '안주': '0.034', '안중': '0.032', '안중근': '0.014', '안질리쟈냐': '0.034', '안쨨오저때': '0.024', '안쪽': '0.034', '안찍었넹': '0.013', '안채': '0.034', '안치': '0.007', '안타': '0.044', '안타깝': '0.022', '안토시아닌': '0.030', '안티': '0.028', '안하곸': '0.033', '안하무인': '0.023', '안할게욤': '0.001', '안할랭': '0.030', '안함': '0.034', '안해': '0.008', '안했슴': '0.013', '앉': '0.012', '앉히': '0.013', '않': '0.118', '않아섷처음에는': '0.019', '않으셔도': '0.039', '않희': '0.030', '알': '0.044', '알갱이': '0.014', '알게됬다': '0.033', '알겟자냐': '0.026', '알고리즘': '0.015', '알곡': '0.034', '알라뷰': '0.022', '알람': '0.034', '알래스카': '0.034', '알럽블랙': '0.027', '알레그': '0.034', '알레르기': '0.033', '알렉산더': '0.034', '알려주세욤': '0.034', '알로에': '0.034', '알록달록': '0.034', '알리': '0.017', '알맞': '0.010', '알맹': '0.034', '알맹이': '0.033', '알몸': '0.023', '알바': '0.033', '알베르 카뮈': '0.034', '알비노': '0.033', '알아내': '0.034', '알아듣': '0.019', '알아보': '0.038', '알아주': '0.033', '알아차리': '0.003', '알아채': '0.034', '알았는데아쉽아쉽': '0.019', '알짜': '0.034', '알차': '0.034', '알코': '0.034', '알코올': '0.017', '알콜': '0.031', '알타이': '0.033', '알티': '0.044', '알파카': '0.029', '알프스': '0.034', '앓': '0.044', '앓이': '0.018', '암': '0.033', '암기': '0.007', '암만': '0.034', '암말': '0.023', '암모니아': '0.034', '암반': '0.014', '암벽': '0.028', '암사': '0.005', '암산': '0.030', '암석': '0.034', '암송': '0.015', '암수': '0.034', '암시': '0.033', '암울': '0.012', '암웨이': '0.034', '암퇘지의': '0.012', '암호': '0.034', '압구정': '0.000', '압구정역': '0.004', '압도': '0.014', '압박': '0.018', '압은': '0.034', '압의': '0.020', '압이': '0.034', '압제': '0.012', '압출하여': '0.000', '앗': '0.026', '앙': '0.012', '앙고라': '0.033', '앙금': '0.000', '앙꼬': '0.033', '앙상': '0.012', '앙증맞': '0.014', '앙프': '0.030', '앙프렝뜨': '0.001', '앞': '0.034', '앞날': '0.001', '앞당기': '0.007', '앞두': '0.014', '앞뒤': '0.033', '앞마당': '0.003', '앞머리': '0.044', '앞면': '0.032', '앞바다': '0.025', '앞발': '0.031', '앞산': '0.002', '앞서': '0.027', '앞으로': '0.004', '앞일': '0.034', '앞자리': '0.007', '앞장서': '0.011', '앞집': '0.034', '앞쪽': '0.015', '앞치마': '0.031', '앞코': '0.029', '애': '0.034', '애가': '0.044', '애간장': '0.001', '애견': '0.007', '애교': '0.034', '애국': '0.005', '애기': '0.025', '애기같': '0.034', '애기야': '0.028', '애니': '0.033', '애니멀스': '0.033', '애달프': '0.034', '애댑토를': '0.022', '애도': '0.012', '애드': '0.020', '애드리브': '0.030', '애드펌킨': '0.034', '애매': '0.031', '애매모호': '0.001', '애비': '0.034', '애석': '0.032', '애쓰': '0.016', '애완': '0.034', '애완견': '0.033', '애완동물': '0.033', '애용': '0.025', '애월읍': '0.002', '애인': '0.016', '애절': '0.001', '애정': '0.034', '애증': '0.000', '애착': '0.034', '애처롭': '0.034', '애칭': '0.034', '애타': '0.034', '애틋': '0.016', '애프터': '0.011', '애플': '0.005', '애플파이': '0.029', '애하': '0.022', '액': '0.027', '액기스다': '0.034', '액땜': '0.003', '액상': '0.005', '액자': '0.034', '액정': '0.033', '액체': '0.034', '액티브': '0.034', '앤': '0.034', '앤더슨': '0.033', '앤드': '0.016', '앨범': '0.026', '앰배서더': '0.013', '앰버': '0.033', '앰프': '0.022', '앰플': '0.005', '앱': '0.026', '앱도': '0.033', '앱을': '0.034', '앵': '0.006', '앵거스': '0.018', '앵그리버드': '0.030', '앵글샵입니다': '0.034', '앵두': '0.034', '앵무새': '0.034', '앵앵': '0.034', '앵콜': '0.031', '야': '0.034', '야간': '0.034', '야경': '0.001', '야구': '0.033', '야근': '0.010', '야기': '0.034', '야드': '0.033', '야마': '0.034', '야무지': '0.002', '야미': '0.034', '야밤': '0.001', '야상자켓이에요': '0.010', '야생': '0.030', '야속': '0.033', '야시장': '0.028', '야식': '0.018', '야야': '0.034', '야외': '0.034', '야자수': '0.034', '야채': '0.015', '야키소바': '0.034', '야키토리': '0.034', '야하': '0.031', '야호': '0.034', '약': '0.034', '약간': '0.043', '약국': '0.007', '약사': '0.028', '약속': '0.034', '약수역': '0.000', '약시': '0.006', '약점': '0.034', '약주': '0.034', '약지': '0.026', '약초': '0.021', '약하': '0.031', '얄밉': '0.027', '얇': '0.034', '얌': '0.033', '얌전': '0.034', '얌전히': '0.012', '양': '0.016', '양고기': '0.004', '양과자': '0.031', '양군': '0.027', '양념': '0.022', '양념장': '0.029', '양념치킨': '0.033', '양도': '0.018', '양말': '0.034', '양면': '0.034', '양모': '0.034', '양반': '0.006', '양배추': '0.033', '양보': '0.032', '양분': '0.016', '양산': '0.033', '양산도': '0.034', '양소': '0.013', '양손': '0.008', '양송이': '0.023', '양수': '0.000', '양수리': '0.033', '양식': '0.010', '양식집': '0.034', '양심': '0.034', '양심껏': '0.027', '양양': '0.034', '양어깨': '0.033', '양옆': '0.034', '양요섭': '0.032', '양육': '0.001', '양은': '0.022', '양의': '0.034', '양이': '0.033', '양이신났개흘산이도': '0.033', '양인': '0.002', '양장': '0.023', '양재': '0.034', '양좀': '0.008', '양주': '0.029', '양지': '0.034', '양질': '0.029', '양쪽': '0.033', '양천구': '0.031', '양초': '0.029', '양치': '0.021', '양치질': '0.016', '양탄자': '0.032', '양털': '0.034', '양파': '0.011', '양평': '0.032', '양하': '0.030', '양해': '0.033', '양호': '0.025', '얕': '0.034', '얘': '0.026', '얘기': '0.034', '어': '0.034', '어간': '0.029', '어구': '0.034', '어글리': '0.026', '어긋나': '0.032', '어김없': '0.030', '어김없이': '0.034', '어깨': '0.034', '어네이티브': '0.034', '어느': '0.032', '어느 멋진 날': '0.025', '어느날': '0.034', '어느날 갑자기': '0.011', '어느덧': '0.034', '어느새': '0.034', '어느샵': '0.034', '어느샵이': '0.029', '어니스트': '0.034', '어니언': '0.027', '어댑터': '0.003', '어도': '0.003', '어두컴컴': '0.033', '어둑': '0.005', '어둑어둑': '0.044', '어둠': '0.030', '어둡': '0.024', '어디': '0.034', '어디루사라젔니': '0.034', '어딧는지': '0.034', '어딧어': '0.033', '어때욧': '0.020', '어떠': '0.032', '어떡하': '0.033', '어떡하지': '0.033', '어떤': '0.023', '어떻': '0.020', '어려움': '0.034', '어려워하': '0.008', '어렴풋': '0.034', '어렵': '0.034', '어로': '0.034', '어루만지': '0.011', '어르': '0.003', '어르신': '0.018', '어른': '0.019', '어리': '0.034', '어리석': '0.033', '어린': '0.034', '어린아이': '0.024', '어린애': '0.001', '어린이': '0.034', '어린이집': '0.034', '어림': '0.028', '어마어마': '0.017', '어머': '0.034', '어머니': '0.005', '어머님': '0.030', '어메이징': '0.001', '어묵': '0.034', '어뭉님들은': '0.018', '어뭉들': '0.034', '어미': '0.032', '어반스터프': '0.015', '어버이날': '0.034', '어벙한': '0.043', '어보': '0.034', '어부': '0.034', '어부가': '0.022', '어색': '0.034', '어서': '0.034', '어설프': '0.032', '어스': '0.044', '어어': '0.011', '어여쁘': '0.034', '어용': '0.031', '어우러지': '0.007', '어울리': '0.021', '어워즈에서': '0.034', '어웨이크': '0.034', '어의': '0.031', '어이': '0.034', '어이없': '0.034', '어장': '0.026', '어정쩡': '0.005', '어제': '0.034', '어제오늘': '0.034', '어젯밤': '0.007', '어줍잖': '0.019', '어중간': '0.033', '어지럽': '0.014', '어지르': '0.033', '어진': '0.016', '어질': '0.012', '어질어질': '0.005', '어째서': '0.034', '어쨋든': '0.008', '어쨌거나': '0.007', '어쨌든': '0.033', '어쨐': '0.013', '어쩌': '0.018', '어쩌다': '0.040', '어쩌면': '0.032', '어쩌쥬': '0.021', '어쩐지': '0.032', '어쩜': '0.030', '어찌': '0.004', '어찌나': '0.041', '어찌어찌': '0.044', '어차피': '0.030', '어처구니없': '0.034', '어치': '0.034', '어쿠루브': '0.034', '어택': '0.034', '어트케': '0.034', '어플보정포토샵을': '0.032', '어필': '0.005', '어학': '0.000', '어학연수': '0.034', '어항': '0.034', '어휘': '0.033', '어휴': '0.034', '억': '0.034', '억만': '0.044', '억새': '0.034', '억새풀': '0.034', '억압': '0.034', '억양': '0.043', '억울': '0.034', '억장': '0.032', '억제': '0.034', '억제제': '0.022', '억지로': '0.033', '언': '0.043', '언가': '0.011', '언급': '0.012', '언넝': '0.028', '언니': '0.028', '언니네': '0.034', '언니네쌸롱': '0.021', '언더': '0.034', '언덕': '0.037', '언덕길': '0.034', '언변': '0.005', '언스': '0.032', '언어': '0.007', '언저리': '0.044', '언제': '0.013', '언제가는하겟지': '0.034', '언제나': '0.034', '언제잘꼬햐': '0.029', '언젠가': '0.032', '언짢': '0.030', '얹': '0.033', '얻': '0.032', '얻어먹': '0.034', '얼': '0.007', '얼굴': '0.034', '얼떨결': '0.044', '얼라이언스': '0.031', '얼렁': '0.034', '얼룩': '0.034', '얼르': '0.034', '얼른': '0.016', '얼른얼른': '0.034', '얼리': '0.024', '얼마': '0.034', '얼마나': '0.019', '얼마큼': '0.024', '얼매나': '0.031', '얼얼': '0.015', '얼음': '0.014', '얼짱': '0.012', '얼추': '0.003', '얼큰': '0.003', '얼터밋썹': '0.005', '얼티밋': '0.034', '엄': '0.011', '엄격': '0.021', '엄격히': '0.034', '엄두': '0.033', '엄마': '0.034', '엄살': '0.034', '엄선': '0.034', '엄수': '0.025', '엄정': '0.034', '엄지': '0.007', '엄지손가락': '0.024', '엄청': '0.031', '엄청나': '0.018', '엄하': '0.029', '업': '0.005', '업계': '0.010', '업권': '0.019', '업그레이드': '0.030', '업데이트': '0.025', '업뎃': '0.034', '업뎃되었어요': '0.000', '업뎃예정이니까': '0.027', '업뎃예정입니다': '0.034', '업뎃이': '0.004', '업뎃제품중': '0.031', '업뎃하겠다고하고': '0.034', '업뎃하고': '0.021', '업뎃하구': '0.044', '업뎃해보리기': '0.034', '업뎃해봤어요': '0.033', '업뎃했어요내돈내산': '0.031', '업로드': '0.025', '업무': '0.034', '업신': '0.018', '업업업데헷': '0.018', '업자': '0.030', '업장': '0.032', '업적': '0.034', '업종': '0.034', '업체': '0.033', '업히': '0.007', '없': '0.035', '없겟주': '0.020', '없넹': '0.034', '없애': '0.001', '없어': '0.024', '없엌': '0.034', '없으시긔': '0.015', '없이': '0.034', '없죵': '0.042', '없쥬': '0.032', '엉': '0.033', '엉금엉금': '0.015', '엉기': '0.012', '엉덩방아': '0.034', '엉덩이': '0.034', '엉뚱': '0.000', '엉망': '0.034', '엉망진창': '0.034', '엉엉': '0.016', '엉키': '0.033', '엊그제': '0.034', '엊저녁': '0.034', '엎': '0.034', '엎드리': '0.000', '엎어지': '0.020', '에': '0.028', '에 산': '0.034', '에그': '0.031', '에그드랍': '0.034', '에그슬럿': '0.006', '에너자이저': '0.007', '에너지': '0.024', '에누리': '0.015', '에도': '0.034', '에두고': '0.033', '에드': '0.019', '에디': '0.008', '에디션': '0.034', '에디슨': '0.011', '에디터': '0.034', '에로스': '0.033', '에르': '0.034', '에르메스': '0.044', '에리': '0.004', '에메랄드': '0.034', '에미상': '0.005', '에바': '0.014', '에버': '0.044', '에버랜드': '0.034', '에베레스트': '0.031', '에보니': '0.010', '에쁘고': '0.012', '에선': '0.031', '에센셜': '0.034', '에센스': '0.034', '에스뽀와르': '0.042', '에스지코': '0.006', '에스지코로부터': '0.011', '에스터': '0.025', '에스테틱': '0.004', '에스프레소': '0.034', '에어': '0.008', '에어캐나다': '0.034', '에어컨': '0.032', '에어팟': '0.044', '에어프랑스': '0.019', '에이': '0.033', '에이드': '0.004', '에이미': '0.033', '에이블': '0.034', '에이에스가능': '0.032', '에이티즈': '0.034', '에이티즈는': '0.011', '에일': '0.034', '에조': '0.003', '에코': '0.024', '에프': '0.018', '에피': '0.022', '에피소드': '0.033', '에헤헤헤헤헿': '0.017', '엑설런트': '0.033', '엑셀': '0.035', '엑스': '0.034', '엑스레이': '0.034', '엔': '0.033', '엔 강': '0.034', '엔도르핀': '0.030', '엔드': '0.034', '엔제리너스': '0.031', '엔젤': '0.034', '엔젤스가든': '0.044', '엔젤스가든은': '0.032', '엔젤스가든입니다': '0.031', '엔진': '0.032', '엔초': '0.025', '엔쵸가': '0.033', '엔칠라다': '0.016', '엘': '0.030', '엘라': '0.032', '엘르': '0.034', '엘리브플레르': '0.034', '엘리트': '0.044', '엘사': '0.034', '엘에이': '0.021', '엠보쿠션감과': '0.032', '엥': '0.034', '여': '0.031', '여가': '0.033', '여개': '0.034', '여건': '0.034', '여과': '0.033', '여권': '0.034', '여기': '0.034', '여기산': '0.024', '여기저기': '0.034', '여느': '0.033', '여닫': '0.033', '여담': '0.034', '여덟': '0.034', '여동생': '0.032', '여드름': '0.010', '여러': '0.031', '여러모로': '0.033', '여러분': '0.044', '여러해살이': '0.034', '여럿': '0.021', '여력': '0.034', '여름': '0.033', '여름날': '0.034', '여름옷': '0.034', '여름휴가': '0.000', '여리': '0.026', '여명': '0.021', '여보': '0.027', '여부': '0.033', '여사': '0.034', '여생': '0.044', '여섯': '0.032', '여성': '0.023', '여성누빔자켓': '0.034', '여성성': '0.023', '여수': '0.034', '여신': '0.033', '여실히': '0.044', '여아': '0.011', '여왕': '0.036', '여우': '0.009', '여운': '0.034', '여울': '0.022', '여유': '0.034', '여유도': '0.034', '여의': '0.027', '여의도': '0.032', '여일': '0.030', '여자': '0.009', '여자여자': '0.007', '여자친구': '0.030', '여장': '0.007', '여전': '0.033', '여전히': '0.019', '여정': '0.031', '여제': '0.034', '여종': '0.031', '여주': '0.034', '여준': '0.021', '여지': '0.033', '여지껏': '0.021', '여진': '0.034', '여쭈': '0.027', '여쭙': '0.006', '여차': '0.022', '여천': '0.034', '여치': '0.006', '여타': '0.032', '여태': '0.034', '여파': '0.011', '여하튼': '0.034', '여행': '0.003', '여행가': '0.010', '여행가고싶따': '0.032', '여행기': '0.033', '여행자': '0.004', '여행지': '0.004', '여호와': '0.031', '역': '0.034', '역겹': '0.006', '역경': '0.016', '역광': '0.044', '역대': '0.034', '역량': '0.034', '역류': '0.034', '역방향': '0.018', '역사': '0.034', '역설': '0.034', '역시': '0.033', '역쒸': '0.031', '역전': '0.034', '역할': '0.034', '역활': '0.009', '엮이': '0.034', '연': '0.033', '연가': '0.043', '연간': '0.009', '연감': '0.043', '연결': '0.034', '연경': '0.014', '연계': '0.010', '연고': '0.032', '연골': '0.034', '연관': '0.044', '연광': '0.034', '연구': '0.000', '연구소': '0.034', '연극': '0.032', '연금': '0.034', '연기': '0.011', '연남동': '0.028', '연내': '0.034', '연년생': '0.034', '연대': '0.033', '연대기': '0.034', '연두': '0.018', '연등': '0.033', '연락': '0.034', '연락처': '0.025', '연령': '0.026', '연말': '0.022', '연미복': '0.033', '연발': '0.034', '연분홍': '0.030', '연산': '0.034', '연산동': '0.034', '연상': '0.000', '연서': '0.034', '연서로': '0.030', '연세': '0.033', '연세대': '0.034', '연속': '0.007', '연수': '0.005', '연수구': '0.008', '연습': '0.031', '연습장': '0.044', '연신내': '0.013', '연안부두': '0.024', '연애': '0.033', '연약': '0.031', '연어': '0.025', '연어알': '0.011', '연예인': '0.020', '연우': '0.012', '연유': '0.034', '연육': '0.018', '연인': '0.032', '연인들': '0.003', '연잇': '0.033', '연장': '0.034', '연주': '0.034', '연주대': '0.028', '연중무휴': '0.028', '연차': '0.031', '연천': '0.025', '연청': '0.034', '연출': '0.003', '연타': '0.007', '연탄': '0.034', '연탄불': '0.018', '연필': '0.034', '연하': '0.032', '연합': '0.028', '연화': '0.044', '연휴': '0.028', '연희': '0.003', '열': '0.044', '열광': '0.016', '열꽃': '0.034', '열나': '0.003', '열대': '0.044', '열댓': '0.006', '열도': '0.034', '열두': '0.001', '열라면': '0.004', '열리': '0.027', '열매': '0.034', '열무': '0.034', '열무김치': '0.034', '열쇠': '0.034', '열심히': '0.034', '열심히하겟습니다': '0.042', '열씨': '0.027', '열씸히': '0.003', '열어뷴': '0.024', '열여섯': '0.033', '열정': '0.034', '열처리': '0.035', '열탕': '0.034', '열화': '0.009', '열흘': '0.003', '염두': '0.033', '염려': '0.034', '염분': '0.034', '염색': '0.034', '염소': '0.011', '염원': '0.008', '염증': '0.023', '염지': '0.019', '염탐': '0.033', '엽': '0.033', '엽기': '0.034', '엽떡허콤': '0.034', '엽산': '0.027', '엽서': '0.018', '엿': '0.031', '영': '0.016', '영감': '0.021', '영광': '0.004', '영구': '0.010', '영국': '0.034', '영국사': '0.034', '영남': '0.044', '영대': '0.032', '영덕': '0.034', '영도': '0.006', '영도구': '0.034', '영동': '0.020', '영등포': '0.034', '영등포구': '0.034', '영롱': '0.013', '영리': '0.015', '영문': '0.034', '영미': '0.034', '영민': '0.030', '영산': '0.031', '영상': '0.023', '영상도찍곸': '0.010', '영상의학': '0.033', '영생': '0.034', '영세업자': '0.034', '영속': '0.031', '영수증': '0.034', '영시': '0.021', '영아': '0.010', '영안': '0.012', '영암': '0.034', '영양': '0.026', '영양가': '0.034', '영양소': '0.032', '영양제': '0.014', '영어': '0.022', '영어쌤': '0.031', '영업': '0.021', '영업시간': '0.008', '영업점': '0.030', '영역': '0.033', '영영': '0.030', '영원': '0.030', '영원히': '0.020', '영월': '0.034', '영유': '0.034', '영유아': '0.023', '영이': '0.034', '영자': '0.034', '영재': '0.034', '영접': '0.032', '영지': '0.044', '영천': '0.033', '영통': '0.034', '영한': '0.022', '영향': '0.033', '영향력': '0.020', '영혼': '0.043', '영화': '0.032', '영화관': '0.003', '영화에서처럼': '0.033', '영흥도': '0.015', '옅': '0.031', '옆': '0.034', '옆구리': '0.029', '옆머리': '0.034', '옆면': '0.044', '옆모습': '0.034', '옆집': '0.034', '옆쪽': '0.033', '예': '0.034', '예감': '0.020', '예고': '0.011', '예기': '0.031', '예나': '0.020', '예년': '0.034', '예림당': '0.006', '예민': '0.027', '예방': '0.007', '예방 접종': '0.000', '예배': '0.025', '예보': '0.030', '예봉산': '0.034', '예비': '0.034', '예뻐서': '0.011', '예뿌': '0.001', '예뿌다': '0.012', '예뿌쟈냐': '0.034', '예뿡걸로': '0.034', '예쀼네': '0.034', '예쁘': '0.159', '예쁘쥬': '0.033', '예쁠핏이예요': '0.034', '예상': '0.034', '예상외': '0.006', '예선': '0.034', '예선전': '0.034', '예수': '0.026', '예술': '0.032', '예술가': '0.005', '예스': '0.025', '예시': '0.034', '예식': '0.034', '예쓰예쓰': '0.032', '예약': '0.034', '예약금': '0.034', '예언': '0.044', '예언자': '0.022', '예외': '0.004', '예원': '0.034', '예은': '0.015', '예의': '0.001', '예적금': '0.030', '예전': '0.014', '예절': '0.031', '예정': '0.034', '예정입니돠히히': '0.026', '예정자': '0.033', '예주': '0.034', '예지': '0.021', '예지쌤도': '0.023', '예진': '0.002', '예찬': '0.023', '예체능': '0.033', '예측': '0.033', '옌지': '0.034', '옐로': '0.018', '옒': '0.044', '옛': '0.022', '옛날': '0.032', '오': '0.040', '오가': '0.025', '오구': '0.015', '오기': '0.022', '오너': '0.044', '오노': '0.034', '오늘': '0.049', '오늘가루첫생일이에욤': '0.033', '오늘밤': '0.034', '오늘은 왕': '0.034', '오늘이': '0.034', '오니': '0.015', '오니기리': '0.029', '오닉스': '0.034', '오대산': '0.034', '오덕': '0.033', '오뎅': '0.034', '오도': '0.031', '오도독': '0.034', '오독': '0.033', '오동': '0.033', '오들오들': '0.034', '오디': '0.034', '오디오': '0.034', '오디오북': '0.030', '오뚜기': '0.008', '오라': '0.021', '오락가락': '0.007', '오락실': '0.009', '오랑': '0.015', '오랑주': '0.000', '오래': '0.034', '오래가': '0.004', '오래간만': '0.033', '오래도록': '0.002', '오래되': '0.008', '오래오래': '0.014', '오랜': '0.008', '오랜만': '0.034', '오랫동안': '0.034', '오랫만': '0.034', '오레오': '0.018', '오레오조개롱': '0.023', '오렌지': '0.020', '오로라': '0.030', '오로지': '0.034', '오롯이': '0.000', '오류': '0.034', '오르': '0.012', '오르내리': '0.031', '오르락내리락': '0.034', '오르막': '0.032', '오른발': '0.030', '오른쪽': '0.033', '오른팔': '0.014', '오름': '0.001', '오름길': '0.034', '오리': '0.034', '오리무중': '0.001', '오리온': '0.014', '오리지날': '0.044', '오리지널': '0.028', '오마니캄솨합니닷': '0.023', '오마브의': '0.031', '오만': '0.034', '오말': '0.031', '오메': '0.034', '오메가': '0.009', '오목': '0.034', '오묘': '0.034', '오므라이스': '0.034', '오믈렛': '0.011', '오미': '0.032', '오미자': '0.000', '오바': '0.021', '오백': '0.003', '오버': '0.002', '오버레이': '0.034', '오버핏': '0.014', '오버핏루즈핏블랙다크민트그레이아이보리': '0.034', '오버핏에': '0.031', '오버핏으로': '0.034', '오버핏의': '0.011', '오버핏투버튼자켓': '0.004', '오버핏투버튼자켓이예용': '0.034', '오부': '0.032', '오브': '0.015', '오븐': '0.034', '오빠': '0.012', '오산': '0.001', '오산시': '0.034', '오색': '0.034', '오설록': '0.034', '오세': '0.004', '오션뷰': '0.034', '오션뷰에': '0.021', '오스': '0.025', '오스틴': '0.031', '오시': '0.033', '오신': '0.013', '오심': '0.034', '오싹': '0.020', '오아시스': '0.033', '오야': '0.034', '오야꼬동': '0.033', '오열': '0.033', '오염': '0.033', '오예': '0.034', '오오': '0.030', '오용': '0.033', '오우': '0.034', '오우야': '0.033', '오월': '0.040', '오이': '0.044', '오일': '0.032', '오일세럼이라고': '0.028', '오일세럼인데': '0.013', '오자': '0.034', '오전': '0.034', '오전동': '0.030', '오죽': '0.004', '오줌': '0.044', '오즈': '0.044', '오지': '0.033', '오지랍': '0.033', '오직': '0.024', '오질': '0.034', '오징어': '0.034', '오차': '0.034', '오카': '0.009', '오케이': '0.034', '오크': '0.034', '오키나와': '0.004', '오타': '0.030', '오토': '0.024', '오토바이': '0.024', '오트밀': '0.034', '오트밀데이츠크럼블': '0.035', '오팔': '0.009', '오프라인': '0.034', '오픈': '0.019', '오픈챗링크로': '0.001', '오피': '0.034', '오피셜': '0.034', '오피스': '0.028', '오해': '0.025', '오호': '0.033', '오후': '0.023', '오히려': '0.014', '옥': '0.021', '옥고': '0.034', '옥동자': '0.043', '옥뮤다': '0.034', '옥상': '0.032', '옥수': '0.009', '옥수수': '0.034', '옥순대교': '0.034', '옥순이': '0.034', '옥스포드': '0.029', '옥포': '0.033', '온': '0.033', '온갖': '0.034', '온건': '0.034', '온기': '0.032', '온대': '0.013', '온도': '0.012', '온도계': '0.034', '온라인': '0.017', '온라인 쇼핑몰': '0.034', '온몸': '0.034', '온수': '0.031', '온양': '0.007', '온유': '0.034', '온전': '0.015', '온전히': '0.034', '온종일': '0.004', '온찜질': '0.031', '온타리오': '0.030', '온택트로': '0.007', '온통': '0.009', '온화': '0.019', '올': '0.024', '올라가': '0.033', '올라앉': '0.009', '올라오': '0.034', '올라프': '0.034', '올레길': '0.023', '올려놓': '0.034', '올려다보': '0.027', '올리': '0.037', '올리브': '0.026', '올리비아': '0.004', '올린다': '0.034', '올릴겝숑': '0.006', '올림': '0.027', '올림픽공원': '0.031', '올림픽대로': '0.030', '올림픽로': '0.001', '올바르': '0.006', '올빼미': '0.010', '올여름': '0.016', '올텐': '0.019', '올해': '0.034', '옮기': '0.009', '옳': '0.008', '옴': '0.034', '옴뇸뇸': '0.034', '옴뇸뇸뇸': '0.044', '옴뇸뇸하는게': '0.008', '옵션': '0.034', '옵챗으로': '0.030', '옷': '0.034', '옷깃': '0.044', '옷소매': '0.033', '옷장': '0.034', '옷차림': '0.034', '옹': '0.014', '옹기종기': '0.034', '옹이': '0.034', '옻': '0.034', '옼케이': '0.034', '와': '0.025', '와나': '0.004', '와떠욬': '0.034', '와르르': '0.017', '와부읍': '0.034', '와서': '0.034', '와선': '0.038', '와썹': '0.034', '와아': '0.001', '와야': '0.033', '와온해변': '0.034', '와우산': '0.033', '와이': '0.003', '와이드': '0.032', '와이드핏이': '0.008', '와이프': '0.017', '와인': '0.033', '와일드': '0.034', '와중': '0.044', '와퍼': '0.014', '와플': '0.034', '와핵존맛탱': '0.022', '왁': '0.034', '완': '0.034', '완강': '0.034', '완결': '0.001', '완료': '0.028', '완룍': '0.025', '완만': '0.023', '완벽': '0.016', '완벽퀄리티입고': '0.033', '완벽히': '0.034', '완비': '0.034', '완산구': '0.033', '완성': '0.034', '완성도': '0.005', '완성해보세욤': '0.034', '완소템이에요': '0.024', '완수': '0.026', '완스엉': '0.010', '완장': '0.012', '완전': '0.034', '완전한 사랑': '0.034', '완전히': '0.032', '완제품': '0.028', '완주': '0.019', '완주해쩌여얼': '0.000', '완파': '0.032', '완화': '0.007', '왈': '0.026', '왈가왈부': '0.034', '왓슨': '0.018', '왓챠': '0.034', '왓챠랑': '0.034', '왓츤': '0.034', '왔넹그래도': '0.000', '왕': '0.044', '왕관': '0.017', '왕국': '0.027', '왕년': '0.033', '왕돈까스왕냉면': '0.043', '왕발': '0.034', '왕복': '0.029', '왕십리': '0.033', '왕이': '0.031', '왕창': '0.034', '왕초': '0.033', '왜': '0.034', '왜 나에게': '0.034', '왜관': '0.034', '왜냐면': '0.029', '왜냐하면': '0.034', '왜저럌': '0.031', '왜케웃겨': '0.034', '왠지': '0.033', '왤케': '0.030', '외': '0.044', '외갓집': '0.033', '외계인': '0.028', '외과': '0.012', '외관': '0.034', '외국': '0.018', '외국인': '0.033', '외대': '0.032', '외도': '0.033', '외동': '0.030', '외래': '0.013', '외려': '0.031', '외로움': '0.034', '외롭': '0.034', '외면': '0.044', '외모': '0.022', '외부': '0.002', '외식': '0.034', '외우': '0.034', '외음부': '0.033', '외적': '0.043', '외지': '0.026', '외출': '0.010', '외치': '0.008', '외투': '0.034', '외피': '0.034', '외할머니': '0.001', '외할아버지': '0.008', '외형': '0.033', '왼발': '0.016', '왼쪽': '0.034', '요': '0.029', '요가': '0.015', '요강': '0.015', '요거': '0.003', '요거트랑': '0.009', '요거트랑은': '0.018', '요거트를': '0.014', '요거트후르츠링': '0.008', '요건': '0.028', '요것': '0.002', '요괴': '0.031', '요구': '0.009', '요구르트': '0.034', '요금': '0.022', '요기': '0.034', '요긴': '0.023', '요늠들은': '0.025', '요다음': '0.034', '요도': '0.032', '요도염': '0.034', '요동': '0.034', '요동치': '0.033', '요란': '0.009', '요런': '0.019', '요렇': '0.033', '요렇케': '0.009', '요로': '0.005', '요리': '0.031', '요리사': '0.033', '요리조리': '0.044', '요맄': '0.034', '요망': '0.034', '요물': '0.033', '요미': '0.029', '요번': '0.021', '요법': '0.014', '요새': '0.034', '요소': '0.031', '요스': '0.017', '요시': '0.008', '요식': '0.034', '요약': '0.033', '요양': '0.001', '요염': '0.034', '요요': '0.022', '요인': '0.034', '요일': '0.034', '요정': '0.034', '요즘': '0.023', '요지': '0.034', '요청': '0.032', '요플레': '0.006', '요하': '0.034', '요한': '0.028', '욕': '0.017', '욕구': '0.034', '욕먹': '0.033', '욕실': '0.012', '욕심': '0.034', '욕심내': '0.033', '욕쟁이샵': '0.013', '욕조': '0.034', '욥': '0.014', '용': '0.026', '용감': '0.034', '용궁': '0.007', '용기': '0.003', '용도': '0.031', '용돈': '0.043', '용량': '0.005', '용맹': '0.033', '용모': '0.004', '용문산': '0.029', '용변': '0.032', '용산': '0.033', '용산구': '0.031', '용서': '0.014', '용어': '0.019', '용왕': '0.007', '용이': '0.004', '용인': '0.030', '용인시': '0.024', '용인쵸리': '0.014', '용출': '0.030', '용품': '0.033', '용해': '0.012', '우': '0.033', '우걱우걱': '0.033', '우기': '0.017', '우노': '0.022', '우당': '0.031', '우대': '0.034', '우도': '0.034', '우동': '0.034', '우듀듀듀듀듀': '0.020', '우드': '0.034', '우디': '0.032', '우뚝우뚝': '0.044', '우러나': '0.033', '우러나오': '0.024', '우렁': '0.034', '우렁각시': '0.032', '우렁차': '0.027', '우레탄': '0.033', '우려': '0.043', '우루루': '0.015', '우르': '0.026', '우르르': '0.033', '우리': '0.034', '우리 주': '0.034', '우리 형': '0.044', '우리나라': '0.034', '우리동네': '0.034', '우리들의': '0.016', '우리말': '0.034', '우리비숑이가': '0.029', '우리샤샤': '0.024', '우리은행': '0.033', '우리집': '0.032', '우마': '0.021', '우먼': '0.034', '우무': '0.034', '우물': '0.034', '우박': '0.029', '우보': '0.034', '우븐': '0.028', '우비': '0.033', '우산': '0.044', '우선': '0.011', '우선순위': '0.033', '우선시': '0.034', '우성': '0.012', '우소': '0.034', '우수': '0.033', '우수수': '0.034', '우숩게도': '0.044', '우스꽝스럽': '0.034', '우습': '0.028', '우승자': '0.029', '우시': '0.013', '우쒸': '0.011', '우아': '0.032', '우애': '0.033', '우어': '0.033', '우엉': '0.034', '우여곡절': '0.009', '우연': '0.033', '우연이': '0.034', '우연히': '0.031', '우왕': '0.027', '우왕좌왕': '0.033', '우울': '0.030', '우울증': '0.028', '우유': '0.006', '우음도': '0.033', '우이': '0.009', '우정': '0.031', '우정은': '0.022', '우주': '0.033', '우주복': '0.029', '우중산행안갯속을': '0.034', '우중충': '0.034', '우직': '0.034', '우짜': '0.034', '우째': '0.008', '우쭈쭈': '0.019', '우체국': '0.034', '우치': '0.031', '우편': '0.033', '우하': '0.034', '우회': '0.034', '욱': '0.034', '욱신거리': '0.007', '운': '0.031', '운길산': '0.034', '운당': '0.017', '운동': '0.013', '운동가': '0.031', '운동복': '0.034', '운동선수': '0.007', '운동장': '0.043', '운동화': '0.044', '운동회': '0.028', '운명': '0.011', '운보': '0.024', '운서': '0.003', '운세': '0.042', '운송': '0.032', '운악산': '0.034', '운영': '0.030', '운운': '0.033', '운율': '0.033', '운전': '0.013', '운전면허': '0.013', '운치': '0.004', '운행': '0.034', '울': '0.017', '울고불고': '0.034', '울도': '0.033', '울렁거리': '0.033', '울렁여서': '0.034', '울렁울렁거리긴': '0.032', '울렁이': '0.034', '울릉도': '0.033', '울리': '0.002', '울림': '0.044', '울면': '0.044', '울보': '0.034', '울부짖': '0.034', '울분': '0.034', '울산': '0.034', '울산광역시': '0.012', '울상': '0.034', '울엄먀': '0.009', '울움이': '0.003', '울음': '0.033', '울적': '0.031', '울지 않으리': '0.032', '울컥': '0.034', '울타리': '0.034', '울프': '0.032', '움': '0.032', '움직이': '0.034', '움직임': '0.038', '움찔': '0.029', '움찔거리': '0.034', '움췩힌': '0.009', '움켜쥐': '0.009', '웃': '0.032', '웃겨': '0.033', '웃겨드립니다': '0.000', '웃겨주고': '0.034', '웃겨죽었어요': '0.033', '웃곀': '0.034', '웃기': '0.034', '웃기냨': '0.033', '웃긴짘': '0.033', '웃농': '0.020', '웃으바웃어바웃짜': '0.001', '웃음': '0.034', '웃음꽃': '0.011', '웃음소리': '0.026', '웃픔': '0.034', '웅': '0.034', '웅성거리': '0.000', '웅이는': '0.033', '웅이팬이셔': '0.033', '웅장': '0.016', '웅진': '0.005', '워갯강구쩐다': '0.033', '워낙': '0.009', '워너': '0.002', '워니': '0.026', '워드': '0.034', '워리': '0.033', '워머기는': '0.034', '워머기들은': '0.020', '워머기키트': '0.011', '워밍업': '0.006', '워시셀프빨래방을': '0.033', '워십': '0.028', '워싱가공처리가': '0.034', '워싱가공처리되었어요': '0.034', '워싱공정과': '0.009', '워싱공정을': '0.019', '워싱된': '0.034', '워싱으로': '0.026', '워싱턴': '0.023', '워치': '0.033', '워커': '0.021', '워크': '0.019', '워킹': '0.034', '워킹맘': '0.033', '워터': '0.025', '워터파크': '0.006', '워터프루푸': '0.009', '웍질을': '0.001', '원': '0.034', '원 기호': '0.034', '원가': '0.027', '원격': '0.025', '원고료': '0.032', '원금': '0.031', '원기': '0.034', '원단': '0.034', '원대': '0.025', '원더': '0.032', '원더윅스': '0.034', '원더윅스가': '0.034', '원더윅스란': '0.012', '원더윅스에도': '0.033', '원더윅스입니다': '0.016', '원두': '0.044', '원료': '0.005', '원룸': '0.030', '원리': '0.029', '원망': '0.000', '원목': '0.021', '원문': '0.015', '원버튼체크크롭자켓베이지총장': '0.033', '원본': '0.034', '원봉': '0.015', '원사': '0.034', '원상': '0.034', '원서': '0.029', '원숭이': '0.034', '원액': '0.033', '원인': '0.026', '원장': '0.031', '원재료': '0.044', '원전': '0.028', '원점': '0.034', '원정': '0.026', '원조': '0.006', '원주': '0.034', '원주민': '0.024', '원천': '0.028', '원추': '0.031', '원칙': '0.028', '원통할쀼니구': '0.031', '원투': '0.023', '원평': '0.034', '원피스': '0.034', '원피쭈': '0.034', '원하': '0.026', '원한': '0.034', '원형': '0.001', '원활': '0.034', '원효': '0.033', '원효봉': '0.034', '원흥': '0.034', '월': '0.035', '월곶': '0.032', '월금': '0.007', '월급': '0.033', '월남쌈': '0.033', '월동': '0.032', '월드': '0.016', '월드콘': '0.025', '월래': '0.005', '월리': '0.012', '월말': '0.033', '월세': '0.034', '월악산': '0.034', '월영대': '0.001', '월요병': '0.044', '월요일': '0.027', '월요팅': '0.010', '월요팅하시고': '0.033', '월중': '0.026', '월차': '0.034', '월초': '0.025', '월출산': '0.034', '월화': '0.034', '웜모': '0.044', '웜업': '0.017', '웠지': '0.002', '웨': '0.019', '웨건태워서': '0.018', '웨딩': '0.033', '웨스턴': '0.034', '웨스트': '0.030', '웨어': '0.034', '웨이': '0.034', '웨이브': '0.033', '웨이팅': '0.034', '웨이팅까지': '0.024', '웨이팅도': '0.034', '웨이팅없이': '0.005', '웨이팅은': '0.034', '웨이팅을': '0.033', '웨이팅이': '0.032', '웨이팅하고': '0.021', '웨이팅하다가': '0.000', '웨일': '0.034', '웬': '0.001', '웬만': '0.034', '웬일': '0.018', '웰던이': '0.032', '웰시': '0.028', '웰컴': '0.034', '웰케': '0.000', '웹사이트': '0.023', '웹툰': '0.016', '위': '0.031', '위그': '0.025', '위기': '0.004', '위내시경': '0.009', '위니': '0.033', '위대': '0.007', '위드': '0.034', '위력': '0.007', '위로': '0.030', '위문': '0.027', '위생': '0.033', '위선': '0.034', '위성': '0.014', '위스키': '0.033', '위시': '0.031', '위아래': '0.034', '위안': '0.034', '위약금': '0.031', '위엄': '0.034', '위원': '0.012', '위인전': '0.034', '위장': '0.006', '위장약': '0.034', '위정자': '0.034', '위주': '0.008', '위즈웰': '0.034', '위쪽': '0.014', '위챗': '0.001', '위축': '0.034', '위치': '0.034', '위크': '0.034', '위하': '0.034', '위해': '0.033', '위험': '0.017', '위험수위': '0.044', '위협': '0.033', '윈덤': '0.023', '윈도': '0.030', '윈도우': '0.023', '윈윈': '0.024', '윗': '0.034', '윗니': '0.034', '윙': '0.016', '유': '0.013', '유가': '0.034', '유경': '0.034', '유광': '0.034', '유구': '0.028', '유급': '0.034', '유기': '0.034', '유기 화합물': '0.001', '유기농': '0.008', '유기물': '0.032', '유난': '0.031', '유난히': '0.034', '유노': '0.034', '유능': '0.030', '유니': '0.013', '유니온': '0.016', '유니콘': '0.034', '유니크': '0.034', '유니폼': '0.029', '유도': '0.034', '유독': '0.044', '유동': '0.034', '유동성': '0.034', '유라': '0.010', '유랑': '0.018', '유래': '0.026', '유량': '0.034', '유럽': '0.033', '유령': '0.033', '유로': '0.034', '유료': '0.034', '유리': '0.013', '유리막': '0.025', '유리병': '0.032', '유리창': '0.000', '유린': '0.033', '유머': '0.034', '유머러스': '0.033', '유명무실': '0.023', '유명산': '0.034', '유명세': '0.034', '유명한': '0.034', '유명한지몰랐는뎅': '0.030', '유모': '0.033', '유모차': '0.034', '유무': '0.034', '유물': '0.010', '유미': '0.034', '유발': '0.004', '유벤투스': '0.004', '유보': '0.034', '유부': '0.002', '유부초밥': '0.029', '유빈': '0.013', '유사': '0.044', '유산': '0.032', '유산균신바이오틱스를': '0.034', '유생': '0.010', '유선': '0.033', '유성': '0.034', '유시': '0.020', '유실': '0.000', '유실물': '0.001', '유심히': '0.010', '유아': '0.032', '유안': '0.044', '유압식': '0.034', '유연': '0.003', '유연성': '0.026', '유영': '0.009', '유용': '0.032', '유우': '0.011', '유의': '0.032', '유의하십셔': '0.016', '유이': '0.006', '유익': '0.044', '유인': '0.034', '유일': '0.034', '유일한': '0.033', '유입': '0.033', '유자': '0.034', '유자오미자체리레몬블루베리패션후르츠': '0.034', '유적지': '0.029', '유전자': '0.029', '유정': '0.010', '유종': '0.034', '유준': '0.034', '유지': '0.034', '유지력': '0.034', '유진': '0.033', '유치원': '0.033', '유칼립투스': '0.000', '유콘': '0.025', '유쾌': '0.031', '유통': '0.028', '유투브': '0.034', '유툽이': '0.031', '유튜버': '0.032', '유튜브': '0.028', '유튭': '0.008', '유튭을': '0.030', '유하': '0.034', '유학': '0.034', '유해': '0.020', '유행': '0.003', '유현지': '0.011', '유형': '0.033', '유혹': '0.034', '육': '0.034', '육개장': '0.018', '육군': '0.034', '육모': '0.024', '육박': '0.034', '육사': '0.004', '육수': '0.026', '육식': '0.034', '육아': '0.034', '육아템': '0.030', '육아팅': '0.016', '육아현실인거겠쬬': '0.015', '육안': '0.034', '육전': '0.034', '육지': '0.016', '육질': '0.006', '육체': '0.034', '육탕': '0.030', '육퇴': '0.035', '육퇴가': '0.010', '육퇴까지': '0.034', '육퇴해서': '0.033', '육포': '0.002', '육회': '0.002', '윤': '0.002', '윤곽': '0.034', '윤규': '0.017', '윤기': '0.004', '윤블리맘이': '0.028', '윤석이': '0.029', '윤스히얼입니다': '0.034', '윤슬': '0.003', '윤아': '0.022', '윤옥': '0.034', '윤정': '0.034', '윤희': '0.016', '율': '0.034', '율곡면': '0.044', '율도': '0.032', '율동': '0.016', '율법': '0.024', '율하동': '0.034', '융': '0.034', '으': '0.034', '으깬감자': '0.044', '으뜨케': '0.026', '으뜸': '0.034', '으르렁': '0.024', '으르렁으르렁대는거': '0.024', '으르르르르르르렁': '0.034', '으름': '0.034', '으름덩쿨속': '0.034', '으슥': '0.018', '으슬으슬해도': '0.044', '으쌰으쌰': '0.033', '으쓱': '0.028', '으아': '0.034', '으앙': '0.014', '으으흐흥': '0.024', '으음': '0.000', '으헤헤': '0.044', '윽': '0.013', '은': '0.044', '은근': '0.032', '은근히': '0.032', '은단': '0.034', '은미': '0.033', '은밀': '0.033', '은비': '0.031', '은사': '0.025', '은산면': '0.034', '은색': '0.034', '은신처': '0.034', '은영': '0.033', '은은': '0.044', '은장': '0.034', '은주': '0.020', '은지': '0.025', '은평구': '0.033', '은행': '0.031', '은행나무': '0.033', '은행동': '0.032', '은혜': '0.029', '을': '0.034', '을씨년': '0.030', '을지': '0.022', '을해': '0.032', '음료': '0.044', '음료수': '0.034', '음미': '0.031', '음서': '0.009', '음성': '0.013', '음슴': '0.032', '음식': '0.034', '음식사진': '0.034', '음악': '0.032', '음원': '0.033', '음절': '0.033', '음정': '0.029', '음주': '0.005', '음질': '0.015', '읍내': '0.000', '읍넹': '0.034', '읏추': '0.008', '응': '0.034', '응고': '0.018', '응급': '0.030', '응급실': '0.034', '응급처치': '0.034', '응답': '0.018', '응대': '0.032', '응뎅이가': '0.005', '응모': '0.033', '응시': '0.026', '응아': '0.034', '응용': '0.039', '응원': '0.030', '의': '0.034', '의거': '0.034', '의견': '0.033', '의경': '0.031', '의대': '0.003', '의도': '0.003', '의료': '0.034', '의료진': '0.006', '의류': '0.034', '의류업': '0.030', '의리': '0.006', '의무': '0.034', '의문': '0.025', '의미': '0.044', '의보': '0.029', '의복': '0.000', '의사': '0.031', '의사소통': '0.008', '의사쌤도': '0.033', '의사쌤이': '0.032', '의상': '0.004', '의성': '0.019', '의소': '0.017', '의식': '0.026', '의심': '0.034', '의약': '0.034', '의왕시': '0.003', '의외': '0.008', '의외로': '0.044', '의원': '0.031', '의인': '0.034', '의자': '0.021', '의젓': '0.020', '의정부': '0.044', '의제': '0.029', '의존': '0.034', '의주': '0.023', '의지': '0.023', '의치': '0.008', '의하': '0.040', '의학': '0.000', '의현': '0.044', '읭': '0.027', '이': '0.197', '이 노래': '0.033', '이감': '0.043', '이거': '0.034', '이건': '0.034', '이건여건저거궁굼한거': '0.023', '이것': '0.034', '이것저것': '0.023', '이고': '0.034', '이고은': '0.028', '이곳': '0.033', '이곳저곳': '0.012', '이구': '0.032', '이국': '0.044', '이그': '0.032', '이근': '0.034', '이글': '0.033', '이글스': '0.033', '이기': '0.034', '이기심': '0.034', '이끌': '0.034', '이나': '0.034', '이나 정': '0.034', '이난': '0.029', '이날': '0.026', '이내': '0.034', '이너뷰티템': '0.034', '이너컨츠': '0.034', '이너컨츠에': '0.034', '이노': '0.032', '이노센스': '0.002', '이놈': '0.023', '이눔': '0.034', '이닝': '0.031', '이다': '0.030', '이다 산': '0.009', '이다해': '0.033', '이다희': '0.025', '이단': '0.034', '이달': '0.029', '이당': '0.015', '이대': '0.034', '이대로': '0.034', '이도': '0.034', '이동': '0.003', '이동하': '0.034', '이드': '0.010', '이득': '0.030', '이디르': '0.034', '이따': '0.018', '이따가': '0.012', '이따금씩': '0.002', '이때': '0.005', '이또': '0.034', '이란': '0.034', '이랑': '0.034', '이래': '0.034', '이래저래': '0.033', '이러': '0.028', '이러셨었늕데': '0.000', '이런': '0.014', '이런다졸귀탱': '0.034', '이런저런': '0.021', '이렇': '0.034', '이렇코롬': '0.034', '이로': '0.007', '이론': '0.033', '이루': '0.030', '이루어지': '0.033', '이류': '0.043', '이륙': '0.014', '이르': '0.034', '이름': '0.031', '이름표': '0.013', '이리': '0.034', '이리저리': '0.033', '이마': '0.034', '이마이': '0.032', '이마트': '0.014', '이만': '0.033', '이만의': '0.034', '이만큼': '0.017', '이맘때': '0.008', '이면': '0.006', '이모': '0.034', '이모부': '0.032', '이모삼툔이랑': '0.033', '이모티콘': '0.034', '이목구비': '0.012', '이문동': '0.034', '이물': '0.034', '이물질': '0.007', '이미': '0.034', '이미지': '0.007', '이민혁': '0.032', '이민호': '0.033', '이밀': '0.022', '이반': '0.034', '이방': '0.010', '이백': '0.029', '이백일': '0.014', '이번': '0.034', '이벤트': '0.034', '이별': '0.024', '이병': '0.034', '이보': '0.043', '이봐': '0.034', '이분': '0.034', '이불': '0.031', '이브': '0.034', '이비': '0.005', '이빨': '0.034', '이뻐': '0.034', '이뻐도': '0.027', '이뻐요': '0.032', '이뻐져야': '0.029', '이뻐지고': '0.034', '이뻐할': '0.033', '이뻐해주고': '0.019', '이뻐해주세요': '0.034', '이뻐해주셔서': '0.032', '이뻐해주셨는데': '0.012', '이뻐해주시고': '0.031', '이뻐해줘서': '0.010', '이뻤어요': '0.026', '이뿌게': '0.034', '이뿌게봐줘용': '0.013', '이뿌고': '0.032', '이뿌기만': '0.033', '이뿌네요': '0.030', '이뿌니': '0.006', '이뿌다': '0.034', '이뿌당': '0.031', '이뿌더라구요': '0.007', '이뿌죠': '0.022', '이쁘': '0.034', '이쁘넹': '0.027', '이쁜핏과': '0.033', '이사': '0.017', '이사가야즤': '0.034', '이사진': '0.018', '이삭': '0.029', '이산가족': '0.001', '이상': '0.020', '이상구': '0.012', '이상은': '0.012', '이상인': '0.010', '이상해씨': '0.023', '이상향': '0.025', '이상형': '0.033', '이색': '0.034', '이생': '0.002', '이서': '0.034', '이서우': '0.034', '이성': '0.022', '이성당': '0.017', '이성현': '0.030', '이세상': '0.032', '이솝': '0.034', '이수': '0.033', '이수현': '0.012', '이스': '0.032', '이스트': '0.001', '이슬비': '0.044', '이승헌베이뷔': '0.034', '이시': '0.032', '이시다': '0.044', '이신': '0.033', '이심': '0.034', '이십': '0.036', '이아주': '0.026', '이안': '0.019', '이안이듀': '0.044', '이야기': '0.034', '이야아아아아압': '0.034', '이양': '0.009', '이어': '0.034', '이어도': '0.026', '이어서': '0.020', '이어지': '0.034', '이어폰': '0.022', '이언': '0.034', '이엄': '0.010', '이엉': '0.034', '이여': '0.032', '이염': '0.029', '이영상': '0.033', '이영진': '0.030', '이예': '0.029', '이예준': '0.006', '이오': '0.034', '이온': '0.034', '이왕': '0.034', '이왕이면': '0.033', '이외': '0.034', '이용': '0.028', '이용권': '0.034', '이용한': '0.025', '이웃': '0.044', '이웃집': '0.006', '이월드': '0.030', '이유': '0.034', '이유식': '0.005', '이음': '0.014', '이의': '0.029', '이이': '0.034', '이익': '0.032', '이인': '0.033', '이일': '0.033', '이입': '0.012', '이자': '0.034', '이자카야': '0.033', '이재': '0.034', '이전': '0.011', '이정': '0.021', '이정표': '0.034', '이제': '0.019', '이제서야': '0.032', '이젠 안녕': '0.030', '이젤': '0.031', '이종': '0.034', '이주': '0.034', '이주용': '0.021', '이준': '0.030', '이준기': '0.034', '이중': '0.034', '이즈': '0.034', '이즈 시': '0.034', '이지': '0.032', '이지스': '0.033', '이지오': '0.034', '이질': '0.034', '이집': '0.034', '이징': '0.034', '이쪽': '0.033', '이쯤': '0.034', '이참': '0.004', '이천': '0.016', '이천원': '0.033', '이철': '0.034', '이철우': '0.034', '이체': '0.002', '이초': '0.033', '이치': '0.011', '이케아': '0.034', '이크타': '0.034', '이키': '0.011', '이타': '0.000', '이탄': '0.012', '이탈': '0.034', '이탈리아': '0.034', '이탈리아 북부': '0.032', '이탈리안': '0.034', '이태': '0.044', '이태리': '0.031', '이태원': '0.034', '이토록': '0.032', '이튿날': '0.000', '이틀': '0.033', '이파': '0.011', '이포': '0.034', '이프': '0.042', '이하': '0.032', '이하원': '0.044', '이한': '0.004', '이해': '0.024', '이현이': '0.016', '이혼': '0.034', '이화리': '0.003', '이화여대': '0.033', '이효리': '0.020', '이후': '0.034', '이히힛': '0.034', '이힛': '0.030', '익': '0.008', '익산': '0.044', '익선동': '0.030', '익숙': '0.032', '익스': '0.007', '익일': '0.020', '익히': '0.006', '인': '0.033', '인가': '0.032', '인간': '0.034', '인간 관계': '0.044', '인간관계': '0.028', '인간도': '0.016', '인간미': '0.033', '인걸': '0.002', '인격': '0.034', '인계': '0.030', '인공': '0.020', '인공수정': '0.034', '인과': '0.034', '인구': '0.034', '인권': '0.041', '인근': '0.033', '인기': '0.025', '인기도': '0.032', '인나': '0.023', '인내': '0.034', '인내심': '0.004', '인당': '0.033', '인대': '0.021', '인더스': '0.034', '인덕션': '0.000', '인도': '0.034', '인동': '0.022', '인맥': '0.034', '인문': '0.012', '인물': '0.006', '인물사진': '0.033', '인물화': '0.009', '인바디': '0.034', '인복': '0.034', '인분': '0.003', '인사': '0.029', '인사동': '0.024', '인삼': '0.034', '인상': '0.033', '인색': '0.034', '인생': '0.027', '인샵이다보니': '0.043', '인샵이므로': '0.011', '인수봉': '0.032', '인스타그램': '0.016', '인스타유투브블로그': '0.034', '인스턴트': '0.014', '인스턴트 늪': '0.019', '인스팅트': '0.012', '인승': '0.008', '인식': '0.034', '인식표': '0.033', '인심': '0.003', '인연': '0.034', '인용': '0.032', '인원': '0.033', '인원수': '0.033', '인인': '0.017', '인자': '0.031', '인쟈': '0.020', '인적': '0.034', '인절미': '0.028', '인정': '0.044', '인정받': '0.021', '인정하게됬다': '0.034', '인제': '0.034', '인조': '0.023', '인종': '0.034', '인줄': '0.034', '인증': '0.014', '인지': '0.005', '인천': '0.034', '인천광역시': '0.034', '인체': '0.016', '인치': '0.032', '인큐베이터': '0.032', '인크레더블': '0.034', '인터넷': '0.034', '인터뷰': '0.034', '인터파크': '0.016', '인테리어': '0.020', '인트': '0.017', '인파': '0.030', '인프라': '0.033', '인플루엔자': '0.034', '인하': '0.013', '인해': '0.030', '인형': '0.006', '인형극': '0.034', '인화': '0.032', '일': '0.045', '일 강': '0.021', '일간': '0.005', '일거': '0.034', '일곱': '0.017', '일곱째': '0.006', '일관': '0.030', '일괄': '0.030', '일광욕': '0.033', '일교차': '0.031', '일기': '0.033', '일기장': '0.033', '일단': '0.020', '일대': '0.025', '일대일': '0.034', '일대일제작퀄리티만보내드립니다': '0.034', '일동': '0.033', '일등': '0.023', '일떵도': '0.034', '일렁였다': '0.032', '일렁이': '0.010', '일렉': '0.032', '일렬': '0.003', '일로': '0.044', '일리': '0.034', '일링': '0.034', '일만': '0.018', '일몰': '0.024', '일반': '0.014', '일반퀄리티': '0.044', '일반프린팅': '0.034', '일반화의 오류': '0.015', '일병': '0.033', '일본': '0.005', '일본어': '0.034', '일본의 문화': '0.030', '일본인': '0.033', '일부': '0.043', '일부러': '0.023', '일부분': '0.028', '일산': '0.031', '일상': '0.019', '일상생활': '0.034', '일생': '0.028', '일석삼조': '0.024', '일석이조': '0.022', '일수': '0.010', '일시': '0.033', '일쑤': '0.028', '일안': '0.033', '일어': '0.034', '일어나': '0.028', '일없': '0.034', '일연': '0.016', '일요': '0.034', '일요모오닝': '0.006', '일요일': '0.034', '일요일 아침': '0.039', '일월': '0.010', '일으키': '0.033', '일이': '0.010', '일인': '0.028', '일일': '0.006', '일일이': '0.023', '일임': '0.033', '일자': '0.008', '일자리': '0.026', '일전': '0.027', '일절': '0.034', '일정': '0.011', '일주': '0.034', '일주일': '0.034', '일찍': '0.029', '일차': '0.034', '일체': '0.034', '일출': '0.029', '일출봉': '0.018', '일치': '0.013', '일탈': '0.009', '일터': '0.002', '일평생': '0.034', '일해': '0.033', '일화': '0.034', '일환': '0.034', '일회': '0.005', '일회용품': '0.031', '일흔': '0.034', '읽': '0.034', '읽기': '0.009', '읽어보시긔': '0.034', '읽어본다웃픈': '0.010', '읽히': '0.034', '잃': '0.010', '잃어버리': '0.034', '잃었썽': '0.036', '임': '0.032', '임대': '0.020', '임무': '0.030', '임박': '0.001', '임부복': '0.034', '임산부': '0.033', '임상': '0.022', '임시': '0.034', '임신': '0.013', '임영웅': '0.011', '임자': '0.043', '임직원': '0.035', '임진': '0.044', '임차': '0.034', '임천면': '0.034', '임팩트': '0.023', '임플란트': '0.005', '임하': '0.010', '입': '0.035', '입가': '0.031', '입가심': '0.023', '입구': '0.023', '입금': '0.032', '입금자': '0.018', '입기핏': '0.034', '입는즁': '0.031', '입대': '0.014', '입덧': '0.034', '입력': '0.029', '입만움': '0.021', '입맛': '0.030', '입문': '0.034', '입상': '0.002', '입상작': '0.034', '입성': '0.020', '입수': '0.030', '입술': '0.034', '입술넥니트': '0.016', '입시': '0.000', '입안': '0.030', '입양': '0.010', '입양자': '0.025', '입어봐야죵': '0.034', '입영': '0.044', '입욕': '0.034', '입원': '0.011', '입자': '0.009', '입장': '0.032', '입장료': '0.007', '입주': '0.014', '입증': '0.015', '입질': '0.034', '입체': '0.034', '입체감': '0.034', '입학': '0.044', '입히': '0.009', '잇': '0.033', '잇달': '0.011', '잇몸': '0.034', '잇츠나라공구리스트': '0.018', '잇템': '0.031', '잇템이야': '0.022', '있': '0.035', '있겠쪼': '0.034', '있다': '0.024', '있렀는데': '0.044', '있습니당': '0.000', '있습니댜': '0.033', '있어라쪼금만': '0.009', '있어왔쥽': '0.023', '있어요홍헝': '0.034', '있어욤': '0.032', '있었넹': '0.034', '있으시겟어요': '0.003', '있읍니다콱쒸': '0.018', '있죸': '0.033', '있쬬오늘은': '0.033', '있흐흐': '0.034', '잉': '0.022', '잉글리시': '0.034', '잉웅': '0.031', '잉잉': '0.034', '잊': '0.034', '잊어버리': '0.033', '잊히': '0.026', '잌을': '0.000', '잎': '0.016', '잎사귀': '0.032', '자': '0.034', '자가': '0.034', '자각': '0.032', '자갈': '0.034', '자개': '0.034', '자게': '0.026', '자격': '0.030', '자격기본법': '0.034', '자격증': '0.034', '자격지심': '0.002', '자경쌤은': '0.034', '자고': '0.007', '자고로': '0.034', '자괴감': '0.034', '자구': '0.001', '자국': '0.034', '자궁': '0.032', '자그마': '0.034', '자극': '0.033', '자금': '0.031', '자기': '0.034', '자기만족': '0.017', '자기방어': '0.018', '자기애': '0.012', '자기주장': '0.019', '자꾸': '0.034', '자네': '0.033', '자녀': '0.005', '자니': '0.033', '자동': '0.023', '자동차': '0.028', '자동화': '0.007', '자두': '0.032', '자라': '0.006', '자라나': '0.034', '자락': '0.034', '자란': '0.002', '자랏겟고나': '0.034', '자랑': '0.034', '자랑거리죻': '0.016', '자랑스러웡': '0.022', '자로': '0.011', '자료': '0.034', '자르': '0.013', '자르고팡': '0.023', '자리': '0.012', '자리매김': '0.010', '자막': '0.024', '자만': '0.030', '자매': '0.008', '자매들': '0.010', '자메이카': '0.013', '자몽': '0.009', '자문': '0.032', '자발': '0.031', '자본': '0.013', '자본주의': '0.030', '자부': '0.012', '자부심': '0.032', '자비': '0.026', '자사': '0.032', '자산': '0.034', '자살': '0.034', '자샵': '0.034', '자샵제거': '0.018', '자서': '0.012', '자석': '0.033', '자선': '0.034', '자세히': '0.033', '자셐': '0.034', '자수': '0.044', '자스민': '0.034', '자습': '0.030', '자승': '0.033', '자시': '0.025', '자식': '0.034', '자신': '0.034', '자신감': '0.034', '자아': '0.019', '자야': '0.030', '자연': '0.033', '자연과학': '0.034', '자연눈썹콤보눈썹헤어라인아이라인입술속눈썹펌왁싱': '0.032', '자연물': '0.034', '자연스레': '0.034', '자연스로운': '0.034', '자연인': '0.032', '자영업자': '0.002', '자와': '0.028', '자외선': '0.034', '자욱': '0.033', '자원': '0.041', '자유': '0.033', '자유부인': '0.033', '자율': '0.016', '자이언트': '0.034', '자인': '0.034', '자임': '0.031', '자자': '0.042', '자작': '0.008', '자장가': '0.031', '자전거': '0.008', '자정': '0.028', '자제': '0.034', '자존': '0.034', '자존심': '0.034', '자주': '0.029', '자지러지': '0.034', '자질': '0.034', '자차': '0.024', '자책': '0.034', '자체': '0.007', '자취': '0.028', '자취방': '0.030', '자칫': '0.023', '자칭': '0.010', '자켓': '0.002', '자켓골드지퍼': '0.014', '자켓과는': '0.004', '자켓까지': '0.034', '자켓도': '0.019', '자켓들도': '0.021', '자켓들은': '0.030', '자켓보다': '0.026', '자켓안에': '0.031', '자켓으로': '0.034', '자켓은': '0.017', '자켓을': '0.028', '자켓이며': '0.044', '자켓이에요': '0.044', '자켓이예요': '0.033', '자켓입고': '0.033', '자켓입니다': '0.034', '자켓처럼': '0.032', '자켓청바지': '0.033', '자타': '0.014', '자택': '0.034', '자투리': '0.009', '자판기': '0.033', '자학': '0.013', '자화상': '0.024', '작': '0.034', '작가': '0.027', '작고': '0.005', '작곡': '0.034', '작년': '0.040', '작동': '0.010', '작명': '0.007', '작사': '0.006', '작성': '0.015', '작심': '0.020', '작아지': '0.034', '작업': '0.007', '작업실': '0.034', '작용': '0.022', '작은집': '0.011', '작작': '0.034', '작전': '0.034', '작정': '0.044', '작품': '0.009', '잔': '0.043', '잔가시': '0.034', '잔고': '0.034', '잔디': '0.030', '잔디밭': '0.034', '잔뜩': '0.032', '잔류': '0.034', '잔소리': '0.017', '잔여': '0.020', '잔인': '0.028', '잔잔': '0.033', '잔치': '0.033', '잔칫날': '0.012', '잔혹': '0.004', '잘': '0.035', '잘꾸버져서': '0.032', '잘나': '0.011', '잘나가': '0.032', '잘나와욤': '0.034', '잘리': '0.004', '잘맞는핏': '0.028', '잘먹었습니댜': '0.034', '잘먹으니정말좋다옴뇸뇸예뻐죽것어': '0.030', '잘못': '0.033', '잘살': '0.032', '잘생김아빠일찍오세요참깨삼칠일초롱초롱머털이참깨꿀잠자는참깨용쓰는건힘들어아빠품이쵝오얏아기천사참깨타이니는내친구': '0.010', '잘하셨겠죵꽃주문받아욤': '0.034', '잠': '0.034', '잠간': '0.018', '잠결': '0.005', '잠그': '0.034', '잠기': '0.034', '잠깐': '0.007', '잠꼬대': '0.031', '잠도': '0.044', '잠들': '0.034', '잠룡폭포': '0.044', '잠바': '0.005', '잠버릇': '0.034', '잠복기': '0.005', '잠수교': '0.024', '잠수함': '0.034', '잠시': '0.034', '잠식': '0.034', '잠실': '0.034', '잠실점': '0.034', '잠언': '0.044', '잠옷': '0.044', '잠자': '0.001', '잠자리': '0.034', '잠잠': '0.027', '잠재': '0.044', '잠재우': '0.034', '잠적': '0.044', '잠정': '0.004', '잠탱이': '0.013', '잡': '0.034', '잡곡': '0.033', '잡기': '0.031', '잡다': '0.033', '잡동사니': '0.007', '잡서': '0.034', '잡수시': '0.017', '잡숫': '0.034', '잡아당기': '0.034', '잡아줘': '0.031', '잡았닼': '0.013', '잡음': '0.003', '잡이': '0.034', '잡지': '0.044', '잡채': '0.012', '잡초': '0.033', '잡화': '0.019', '잡히': '0.015', '잣': '0.043', '장': '0.029', '장갑': '0.007', '장강명': '0.033', '장거리': '0.024', '장과': '0.034', '장관': '0.011', '장국': '0.025', '장군봉': '0.025', '장균': '0.021', '장기': '0.002', '장기간': '0.044', '장난': '0.006', '장난감': '0.034', '장난아니네욬': '0.027', '장난치': '0.034', '장내': '0.014', '장님': '0.034', '장단점': '0.022', '장담': '0.019', '장도': '0.033', '장락': '0.014', '장래': '0.005', '장르': '0.022', '장마': '0.044', '장만': '0.021', '장면': '0.034', '장모': '0.034', '장목면': '0.034', '장문': '0.033', '장미': '0.034', '장바구니': '0.028', '장벽': '0.044', '장보': '0.018', '장보고': '0.002', '장비': '0.019', '장사': '0.033', '장사진': '0.018', '장세': '0.012', '장소': '0.034', '장수': '0.043', '장수영': '0.019', '장시간': '0.032', '장식': '0.034', '장쑤': '0.034', '장안': '0.006', '장애': '0.009', '장애인': '0.000', '장양': '0.031', '장어': '0.034', '장엄': '0.034', '장열': '0.034', '장염': '0.033', '장옂': '0.039', '장옷': '0.034', '장용': '0.032', '장원': '0.034', '장이': '0.044', '장작': '0.000', '장장': '0.002', '장재': '0.043', '장점': '0.036', '장조림': '0.023', '장착': '0.022', '장착했는뎈진짜': '0.032', '장창': '0.034', '장충동': '0.034', '장치': '0.034', '장탄': '0.021', '장터': '0.034', '장판': '0.033', '장편': '0.008', '장학금': '0.033', '장항동': '0.034', '잦': '0.034', '재': '0.033', '재가': '0.034', '재개': '0.043', '재결합': '0.034', '재고': '0.025', '재구': '0.034', '재기': '0.032', '재난': '0.034', '재단': '0.023', '재료': '0.034', '재무': '0.034', '재미': '0.034', '재미나': '0.034', '재미없': '0.033', '재미있': '0.004', '재미있을꼬양': '0.034', '재미지게놀다왔넹': '0.005', '재믺는': '0.034', '재밋게': '0.033', '재밋었구': '0.019', '재밌': '0.007', '재밌었돠': '0.026', '재발': '0.034', '재배': '0.022', '재빨리': '0.033', '재사용': '0.034', '재생': '0.031', '재수': '0.034', '재야': '0.031', '재연': '0.034', '재우': '0.031', '재우쓰를': '0.016', '재인': '0.016', '재정': '0.034', '재주': '0.013', '재질': '0.034', '재채기': '0.034', '재촉': '0.018', '재킷': '0.010', '재탕': '0.044', '재택': '0.034', '재택근무': '0.034', '재테크': '0.034', '재현': '0.022', '재활': '0.012', '재회': '0.032', '잭 케루악': '0.027', '잭슨': '0.034', '잼썼눈뎅': '0.025', '쟁반': '0.024', '쟁여놓고': '0.009', '쟁여놓기': '0.034', '쟁여두고': '0.034', '쟁여뒀지요': '0.031', '쟈아': '0.026', '쟈켓은': '0.026', '쟈켓입니다': '0.034', '쟌슨빌': '0.016', '쟐': '0.034', '쟝': '0.031', '쟤': '0.033', '저': '0.033', '저가': '0.031', '저격': '0.034', '저구리': '0.018', '저급': '0.043', '저기': '0.029', '저녁': '0.033', '저도': '0.044', '저러': '0.033', '저런': '0.013', '저렇': '0.007', '저렴': '0.033', '저리': '0.009', '저릿해지는': '0.034', '저마다': '0.034', '저만큼': '0.031', '저물': '0.007', '저번': '0.034', '저분자': '0.032', '저상버스': '0.030', '저서': '0.034', '저세상': '0.002', '저수지': '0.034', '저스트': '0.030', '저스틴': '0.034', '저울': '0.011', '저위': '0.026', '저자': '0.004', '저작권': '0.034', '저장': '0.028', '저절로': '0.034', '저질': '0.030', '저퀄': '0.021', '저퀄리티싼마이': '0.034', '저퀄에': '0.017', '저하': '0.034', '저항': '0.016', '저혈압': '0.009', '저희': '0.040', '저희샵으로': '0.034', '저희샵을': '0.021', '적': '0.025', '적극': '0.034', '적금': '0.030', '적기': '0.032', '적당': '0.030', '적당히': '0.034', '적도': '0.034', '적립': '0.028', '적립금': '0.034', '적막': '0.029', '적발': '0.034', '적벽강': '0.034', '적시': '0.011', '적어도': '0.034', '적어지': '0.034', '적외선': '0.031', '적용': '0.034', '적응': '0.004', '적의': '0.010', '적인': '0.034', '적적': '0.022', '적절': '0.033', '적절히': '0.034', '적정': '0.034', '적출': '0.034', '적합': '0.031', '적혈구': '0.007', '적히': '0.034', '전': '0.026', '전가': '0.010', '전개': '0.034', '전격': '0.034', '전골': '0.023', '전과': '0.043', '전국': '0.017', '전국구': '0.031', '전권': '0.010', '전기': '0.034', '전기세': '0.030', '전날': '0.007', '전남': '0.008', '전남대': '0.028', '전년': '0.009', '전단지': '0.033', '전달': '0.032', '전담': '0.032', '전도': '0.034', '전도사': '0.033', '전라도': '0.034', '전라북도': '0.034', '전락': '0.013', '전란': '0.042', '전래': '0.044', '전략': '0.034', '전만': '0.014', '전망': '0.014', '전망대': '0.025', '전면': '0.034', '전문': '0.024', '전문가': '0.034', '전문의': '0.034', '전문점': '0.007', '전반': '0.034', '전방': '0.003', '전병': '0.027', '전복': '0.032', '전복죽': '0.034', '전봇대': '0.014', '전부': '0.033', '전북': '0.034', '전북대': '0.021', '전분': '0.034', '전사': '0.034', '전설': '0.033', '전세': '0.014', '전소민': '0.044', '전속': '0.034', '전수': '0.021', '전시': '0.032', '전시장': '0.010', '전시회': '0.034', '전식': '0.015', '전신': '0.032', '전야': '0.024', '전어': '0.034', '전역': '0.030', '전염': '0.016', '전용': '0.032', '전용세럼': '0.034', '전운': '0.034', '전원': '0.034', '전율': '0.033', '전이': '0.021', '전인': '0.034', '전자': '0.044', '전자레인지': '0.032', '전작': '0.032', '전쟁': '0.044', '전적': '0.009', '전주': '0.034', '전주시': '0.033', '전지': '0.032', '전집': '0.025', '전차': '0.042', '전채': '0.034', '전체': '0.034', '전통': '0.026', '전통주': '0.033', '전투': '0.027', '전파': '0.034', '전포': '0.009', '전폭': '0.033', '전하': '0.007', '전해': '0.034', '전혀': '0.034', '전형': '0.032', '전화': '0.034', '전화디엠': '0.034', '전화번호': '0.034', '전화통': '0.034', '전환': '0.034', '전환점': '0.033', '절': '0.034', '절감': '0.012', '절개': '0.033', '절기': '0.016', '절단': '0.007', '절대': '0.034', '절대로': '0.013', '절레절레': '0.033', '절망': '0.008', '절반': '0.034', '절벽': '0.031', '절실': '0.003', '절실히': '0.034', '절약': '0.001', '절정': '0.014', '절제': '0.034', '절차': '0.034', '절친': '0.009', '절편': '0.034', '젊': '0.033', '젊은 시절': '0.033', '젊은이': '0.032', '젊은이들': '0.009', '점': '0.021', '점검': '0.000', '점성': '0.034', '점수': '0.034', '점심': '0.030', '점심때': '0.032', '점심시간': '0.032', '점액질': '0.024', '점원': '0.017', '점장': '0.034', '점점': '0.011', '점치': '0.020', '점퍼': '0.034', '점포': '0.029', '점프': '0.005', '점프수트': '0.034', '점호': '0.007', '접': '0.034', '접근': '0.033', '접근성': '0.033', '접목': '0.033', '접선': '0.034', '접속': '0.031', '접수': '0.044', '접시': '0.029', '접어두쟈': '0.029', '접종': '0.006', '접착력': '0.032', '접촉': '0.017', '접하': '0.029', '젓': '0.007', '젓가락': '0.016', '젓갈': '0.034', '젔지만': '0.034', '정': '0.033', '정가': '0.030', '정갈': '0.034', '정감': '0.034', '정규': '0.027', '정글': '0.044', '정기': '0.034', '정답': '0.034', '정도': '0.021', '정돈': '0.018', '정동': '0.001', '정량': '0.004', '정력': '0.034', '정리': '0.020', '정리하는주웅': '0.043', '정말': '0.036', '정말로': '0.031', '정망': '0.034', '정맥': '0.031', '정맥류': '0.034', '정면': '0.031', '정문': '0.018', '정미': '0.030', '정민': '0.034', '정밀': '0.024', '정방': '0.010', '정보': '0.033', '정보력': '0.006', '정복': '0.028', '정복욕': '0.034', '정봉': '0.001', '정부': '0.032', '정비': '0.033', '정사': '0.030', '정상': '0.034', '정상부': '0.032', '정상인': '0.018', '정색': '0.044', '정서': '0.034', '정석': '0.033', '정선': '0.013', '정성': '0.034', '정성껏': '0.023', '정수기': '0.034', '정수리': '0.032', '정시': '0.019', '정식': '0.022', '정신': '0.027', '정신력': '0.033', '정신병': '0.026', '정신없': '0.007', '정신없이': '0.030', '정신이옶대': '0.034', '정신적 피해': '0.025', '정신증': '0.034', '정아': '0.009', '정양': '0.032', '정연': '0.034', '정열': '0.018', '정예': '0.034', '정왕': '0.034', '정우': '0.034', '정원': '0.034', '정원일': '0.034', '정육': '0.033', '정육점': '0.030', '정은': '0.033', '정읍': '0.015', '정의': '0.033', '정이': '0.017', '정이랑': '0.008', '정자': '0.033', '정작': '0.033', '정장': '0.020', '정적': '0.034', '정전기': '0.034', '정정': '0.026', '정제': '0.032', '정중히': '0.033', '정지': '0.032', '정직': '0.012', '정차': '0.018', '정착': '0.029', '정처': '0.044', '정철': '0.014', '정체': '0.029', '정체성': '0.018', '정취': '0.034', '정품': '0.034', '정하': '0.034', '정해': '0.031', '정해인': '0.006', '정해진': '0.033', '정현': '0.007', '정형외과': '0.018', '정호': '0.023', '정화': '0.034', '정확': '0.033', '정확히': '0.032', '젖': '0.033', '젖소': '0.033', '젖음': '0.016', '제': '0.026', '제가': '0.033', '제가다니던샵': '0.033', '제각각': '0.010', '제강': '0.033', '제거': '0.034', '제격': '0.033', '제공': '0.004', '제기': '0.033', '제기차기': '0.019', '제나': '0.033', '제단': '0.021', '제대로': '0.020', '제도': '0.002', '제라': '0.034', '제르': '0.034', '제리': '0.010', '제막': '0.034', '제맛': '0.034', '제명': '0.034', '제모': '0.009', '제목': '0.016', '제발': '0.001', '제법': '0.034', '제보': '0.034', '제보자': '0.026', '제사': '0.009', '제소': '0.001', '제수씨': '0.000', '제시': '0.034', '제아': '0.017', '제안': '0.033', '제압': '0.034', '제약': '0.022', '제어': '0.016', '제왕': '0.020', '제외': '0.033', '제원': '0.003', '제의': '0.028', '제이': '0.030', '제이슨': '0.034', '제인': '0.028', '제일': '0.034', '제일봉': '0.044', '제자': '0.034', '제자리': '0.024', '제작': '0.044', '제제': '0.020', '제조': '0.030', '제주': '0.033', '제주도': '0.025', '제주말차브파': '0.034', '제주시': '0.034', '제주흑돼지': '0.018', '제천국': '0.016', '제철': '0.003', '제청': '0.033', '제출': '0.032', '제치': '0.034', '제타': '0.033', '제트': '0.027', '제품': '0.035', '제품고퀄라인': '0.033', '제품군': '0.030', '제품력': '0.043', '제품이구요고퀄리티': '0.034', '제품퀄리티는': '0.015', '제하': '0.034', '제한': '0.034', '제휴': '0.034', '젝시믹스': '0.034', '젠': '0.003', '젠더': '0.034', '젤': '0.034', '젤라': '0.033', '젤라틴': '0.044', '젤로': '0.012', '젤리': '0.015', '젤페디': '0.031', '젭알': '0.028', '져니': '0.034', '졀': '0.025', '조': '0.034', '조가': '0.019', '조각': '0.034', '조개': '0.026', '조개롱은': '0.033', '조거': '0.033', '조건': '0.034', '조고': '0.033', '조공': '0.034', '조과': '0.034', '조국': '0.034', '조그만하': '0.033', '조그맣': '0.034', '조금': '0.032', '조금아쉽': '0.007', '조급': '0.018', '조기': '0.004', '조끼': '0.034', '조니': '0.034', '조던스투시': '0.034', '조디': '0.030', '조례': '0.005', '조롱': '0.002', '조르': '0.025', '조리': '0.034', '조리법': '0.029', '조리원': '0.022', '조리해': '0.034', '조림': '0.034', '조립': '0.034', '조마조마': '0.008', '조막': '0.034', '조만간': '0.007', '조망': '0.034', '조명': '0.033', '조목': '0.029', '조미': '0.032', '조사': '0.044', '조상': '0.007', '조선': '0.044', '조선통신': '0.033', '조성': '0.044', '조셉': '0.034', '조슈아': '0.034', '조식': '0.017', '조신': '0.034', '조심': '0.012', '조심스래': '0.030', '조언': '0.003', '조오': '0.023', '조와': '0.033', '조용': '0.009', '조용조용': '0.033', '조용히': '0.034', '조율': '0.033', '조은': '0.032', '조이': '0.034', '조잡': '0.025', '조절': '0.004', '조정': '0.014', '조종': '0.007', '조지': '0.034', '조직': '0.034', '조차': '0.011', '조찬': '0.015', '조천읍': '0.033', '조촐': '0.018', '조치': '0.013', '조카': '0.034', '조콤': '0.002', '조쿰': '0.020', '조쿰만': '0.043', '조통': '0.016', '조합': '0.034', '조형': '0.031', '조형물': '0.033', '조화': '0.007', '조황': '0.034', '조회': '0.033', '조흥': '0.016', '족': '0.005', '족도': '0.034', '족두리': '0.030', '족발': '0.028', '족욕': '0.000', '존': '0.010', '존경': '0.031', '존경심': '0.027', '존귀탱이잖아강아지': '0.034', '존맛탱': '0.034', '존맛탱이네요': '0.033', '존맛탱이다': '0.011', '존맛탱이었던곳': '0.033', '존스': '0.015', '존슨': '0.034', '존엄': '0.022', '존재': '0.031', '존중': '0.034', '졸': '0.034', '졸귀탱오': '0.015', '졸귀탱탱': '0.016', '졸리': '0.044', '졸맛탱': '0.044', '졸업': '0.034', '졸업식': '0.004', '졸이': '0.032', '졸졸': '0.034', '졸졸졸': '0.004', '좀': '0.034', '좀바': '0.034', '좀체': '0.009', '좁': '0.033', '좁디좁': '0.003', '좁히': '0.016', '좃또': '0.034', '종': '0.043', '종교': '0.020', '종근당': '0.032', '종로': '0.034', '종로구': '0.027', '종료': '0.031', '종류': '0.034', '종류클래식더블러볼속눈썹펌': '0.026', '종사자': '0.034', '종소리': '0.034', '종아리': '0.004', '종이': '0.034', '종이봉투': '0.028', '종이접기': '0.044', '종이컵': '0.034', '종이텍': '0.008', '종일': '0.026', '종종': '0.033', '종주': '0.022', '종지': '0.033', '종합': '0.034', '좇': '0.034', '좋': '0.200', '좋겠슴둥': '0.022', '좋다륭': '0.032', '좋더라구욤': '0.032', '좋습니당': '0.033', '좋아서': '0.034', '좋아욤욤욤욤': '0.034', '좋아져랏': '0.008', '좋아졌떠요': '0.002', '좋아졌죵': '0.010', '좋아하': '0.032', '좋아해줘': '0.044', '좋으네': '0.028', '좋으네요': '0.034', '좋으다': '0.034', '좋으셩': '0.002', '좋은 날': '0.031', '좋은 아침': '0.032', '좋은 주말': '0.034', '좋은 하루': '0.034', '좋은사람': '0.034', '좋은아침': '0.034', '좋은집': '0.011', '좋을것같아욤': '0.003', '좋코': '0.034', '좌': '0.000', '좌석': '0.031', '좌심실': '0.009', '좌표': '0.034', '좔좔': '0.034', '죄': '0.030', '죄다': '0.034', '죄송': '0.017', '죄송함돠': '0.034', '죄인': '0.034', '죄책감': '0.034', '죙일': '0.034', '죠리퐁': '0.034', '죠스': '0.034', '죠스떡볶이': '0.007', '죤': '0.021', '죨죠리죨죨죨': '0.009', '주': '0.049', '주 주': '0.009', '주가': '0.034', '주간': '0.033', '주거': '0.002', '주고 싶은 마음': '0.034', '주고받': '0.030', '주공': '0.011', '주관': '0.002', '주구': '0.003', '주기': '0.013', '주네': '0.003', '주년': '0.034', '주노': '0.033', '주니': '0.034', '주니어': '0.034', '주님': '0.034', '주당': '0.033', '주더': '0.021', '주도': '0.019', '주동': '0.019', '주되': '0.009', '주둥이': '0.033', '주러': '0.033', '주례': '0.044', '주로': '0.010', '주류': '0.034', '주름': '0.034', '주리': '0.034', '주립': '0.032', '주말': '0.034', '주머니': '0.033', '주먹': '0.034', '주먹밥': '0.031', '주목': '0.034', '주무': '0.032', '주무르': '0.044', '주무시': '0.021', '주문': '0.034', '주문자': '0.034', '주문주셔욤': '0.034', '주방': '0.018', '주변': '0.008', '주변공원뷰가': '0.032', '주부': '0.028', '주빈': '0.034', '주사': '0.034', '주사기': '0.034', '주산': '0.019', '주산지': '0.033', '주서': '0.034', '주선': '0.031', '주성': '0.018', '주세': '0.027', '주세욤': '0.032', '주소': '0.032', '주스': '0.029', '주시': '0.005', '주식': '0.034', '주식회사': '0.034', '주신': '0.002', '주심': '0.024', '주안': '0.044', '주야': '0.042', '주어': '0.034', '주어지': '0.034', '주얼': '0.030', '주얼리': '0.024', '주역': '0.033', '주왕산': '0.034', '주요': '0.034', '주원이': '0.033', '주원인': '0.003', '주위': '0.033', '주은': '0.034', '주의': '0.029', '주의보': '0.013', '주의자': '0.002', '주인': '0.034', '주인공': '0.025', '주인장': '0.023', '주일': '0.034', '주입식': '0.034', '주자': '0.033', '주작': '0.031', '주장': '0.034', '주저': '0.031', '주저앉': '0.034', '주전': '0.004', '주절주절': '0.034', '주정': '0.010', '주제': '0.030', '주제가': '0.008', '주제곡': '0.031', '주중': '0.004', '주지': '0.025', '주지훈': '0.034', '주차': '0.033', '주차공간': '0.007', '주차료': '0.002', '주차장': '0.034', '주책': '0.023', '주체': '0.034', '주최': '0.003', '주택': '0.032', '주택가': '0.030', '주토피아': '0.033', '주파': '0.034', '주파수': '0.034', '주하': '0.028', '주한': '0.033', '주행': '0.034', '주호': '0.033', '주환': '0.034', '주황': '0.006', '주황색': '0.033', '주흘산': '0.028', '죽': '0.010', '죽도': '0.013', '죽여주': '0.034', '죽음': '0.034', '죽이': '0.001', '죽지': '0.018', '준': '0.002', '준거': '0.008', '준공': '0.024', '준마': '0.031', '준비': '0.028', '준비물': '0.034', '준비해야죵': '0.012', '준수': '0.034', '준워니는': '0.034', '준워니도': '0.034', '준형': '0.031', '준희가': '0.034', '줄': '0.009', '줄곧': '0.034', '줄기': '0.004', '줄루': '0.032', '줄리': '0.017', '줄무늬': '0.033', '줄어들': '0.005', '줄이': '0.044', '줄줄': '0.030', '줄짓': '0.025', '줌': '0.011', '줍': '0.034', '줏대': '0.034', '중': '0.023', '중 현': '0.014', '중간': '0.034', '중간고사': '0.033', '중경': '0.033', '중계': '0.034', '중고': '0.008', '중고등': '0.034', '중고등학교': '0.004', '중구': '0.012', '중구난방': '0.033', '중국': '0.016', '중국산': '0.029', '중국어': '0.034', '중국인': '0.031', '중국집': '0.008', '중금속': '0.027', '중기': '0.019', '중단': '0.034', '중도금': '0.020', '중독': '0.034', '중독자': '0.032', '중동': '0.034', '중등': '0.003', '중랑구': '0.034', '중랑천': '0.030', '중략': '0.034', '중량': '0.020', '중력': '0.001', '중론': '0.019', '중반': '0.034', '중복': '0.034', '중봉': '0.033', '중산': '0.033', '중성': '0.026', '중순': '0.012', '중시': '0.034', '중식': '0.034', '중심': '0.034', '중앙': '0.024', '중앙대': '0.028', '중앙로': '0.032', '중앙선': '0.034', '중얼중얼': '0.014', '중요': '0.043', '중요시': '0.029', '중인': '0.017', '중전': '0.010', '중점': '0.010', '중증': '0.000', '중턱': '0.002', '중학교': '0.000', '중화': '0.001', '중화권': '0.034', '중화산동': '0.032', '줗겠어요': '0.003', '쥐': '0.002', '쥐꼬리': '0.005', '쥐띠': '0.034', '쥐어짜': '0.044', '쥐이': '0.033', '쥑이넹': '0.034', '쥬': '0.029', '쥬방스': '0.015', '쥬스': '0.032', '쥬얼리': '0.029', '쥽줍': '0.034', '즁': '0.024', '즈': '0.034', '즈음': '0.031', '즉': '0.034', '즉각': '0.013', '즉당히': '0.034', '즉석': '0.001', '즉시': '0.017', '즉흥': '0.032', '즌쯔': '0.023', '즐거븐': '0.034', '즐거운 오후': '0.034', '즐거운 인생': '0.033', '즐거운 하루': '0.016', '즐거움': '0.044', '즐거워하': '0.005', '즐거웠댜': '0.034', '즐겁': '0.034', '즐기': '0.026', '즐기는즁': '0.000', '즐비': '0.034', '즐주': '0.034', '즘': '0.034', '즙': '0.003', '증': '0.002', '증가': '0.007', '증거': '0.025', '증류주': '0.034', '증말': '0.034', '증말찐빵됫자노': '0.012', '증맿루': '0.012', '증명': '0.020', '증명사진': '0.034', '증상': '0.027', '증정': '0.026', '증진': '0.014', '증후군': '0.034', '즨짜': '0.016', '지': '0.046', '지각': '0.034', '지갑': '0.025', '지게': '0.004', '지겹': '0.030', '지경': '0.032', '지고': '0.034', '지구': '0.031', '지구본': '0.034', '지구의': '0.034', '지그': '0.013', '지그재그': '0.021', '지극히': '0.009', '지금': '0.028', '지금 이대로가 좋아': '0.028', '지금껏': '0.002', '지급': '0.010', '지긋이': '0.034', '지긋지긋': '0.005', '지기': '0.010', '지껄이': '0.003', '지나': '0.034', '지나가': '0.032', '지나오': '0.033', '지나치': '0.018', '지난날': '0.034', '지난달': '0.034', '지난번': '0.034', '지난주': '0.011', '지난해': '0.030', '지내': '0.014', '지내보': '0.022', '지내쟈': '0.027', '지능': '0.012', '지니': '0.033', '지다': '0.034', '지다롱': '0.028', '지대': '0.034', '지도': '0.034', '지도자': '0.034', '지독': '0.034', '지독히': '0.035', '지두': '0.034', '지드래곤': '0.044', '지렁이': '0.031', '지레': '0.000', '지력': '0.034', '지렸던날': '0.034', '지로': '0.020', '지루함': '0.014', '지르': '0.032', '지름': '0.011', '지름길': '0.012', '지름신': '0.034', '지리': '0.034', '지리산': '0.034', '지마': '0.034', '지만': '0.032', '지망': '0.025', '지목': '0.013', '지문': '0.016', '지미': '0.002', '지민': '0.023', '지바노프': '0.034', '지반': '0.034', '지방': '0.034', '지배': '0.024', '지번': '0.009', '지부': '0.044', '지불': '0.034', '지붕': '0.010', '지사': '0.030', '지상': '0.011', '지새우': '0.028', '지성': '0.034', '지속': '0.033', '지수': '0.034', '지시': '0.014', '지식': '0.013', '지아': '0.034', '지안': '0.001', '지애': '0.034', '지어내': '0.032', '지역': '0.034', '지연': '0.010', '지영': '0.044', '지오': '0.033', '지오다노': '0.034', '지옥': '0.034', '지옥철': '0.023', '지용': '0.011', '지우': '0.031', '지우다': '0.030', '지원': '0.010', '지원 활동': '0.044', '지원자': '0.034', '지유': '0.024', '지윤': '0.014', '지은쌤을': '0.041', '지은이': '0.034', '지의': '0.034', '지인': '0.003', '지자': '0.010', '지잔': '0.034', '지저분': '0.013', '지적': '0.031', '지점': '0.014', '지점토': '0.015', '지정': '0.022', '지져스': '0.034', '지존': '0.033', '지존샵': '0.034', '지주': '0.014', '지중해': '0.033', '지지': '0.033', '지진': '0.044', '지척': '0.002', '지체': '0.029', '지축': '0.034', '지치': '0.029', '지친': '0.033', '지침': '0.010', '지켜만봤었는뎁': '0.032', '지켜보': '0.034', '지켸보는': '0.009', '지코': '0.030', '지키': '0.033', '지킴이': '0.034', '지팡이': '0.034', '지퍼': '0.044', '지페포켓곳': '0.004', '지평선': '0.001', '지하실': '0.008', '지하철': '0.017', '지하층': '0.034', '지한': '0.034', '지향': '0.034', '지현이': '0.019', '지혜': '0.033', '지호': '0.031', '지화닠많이도': '0.033', '지환': '0.034', '지히': '0.011', '직': '0.034', '직각': '0.026', '직감': '0.030', '직거래': '0.034', '직경': '0.031', '직구': '0.030', '직급': '0.034', '직립': '0.013', '직선거리': '0.034', '직설': '0.033', '직수입': '0.030', '직업': '0.020', '직원': '0.009', '직장': '0.026', '직장인': '0.027', '직전': '0.008', '직접': '0.010', '직진': '0.007', '직항': '0.034', '직행': '0.033', '직후': '0.034', '진': '0.021', '진가': '0.033', '진공': '0.007', '진관': '0.034', '진구': '0.032', '진국': '0.034', '진급': '0.011', '진단': '0.034', '진도': '0.034', '진돗개': '0.030', '진동': '0.025', '진동수': '0.010', '진드기': '0.024', '진득': '0.032', '진땀': '0.003', '진라면': '0.032', '진로': '0.043', '진료': '0.004', '진료소': '0.026', '진리': '0.034', '진보': '0.034', '진부': '0.021', '진상': '0.033', '진서': '0.044', '진수': '0.034', '진시': '0.033', '진실': '0.019', '진심': '0.034', '진안': '0.034', '진영': '0.017', '진영읍': '0.002', '진영이': '0.034', '진입': '0.044', '진자': '0.006', '진작에': '0.033', '진재': '0.016', '진전': '0.029', '진절머리': '0.005', '진접': '0.034', '진정': '0.034', '진정제': '0.020', '진주': '0.016', '진즉에': '0.030', '진지': '0.034', '진짜': '0.034', '진짜진심레알참트루에요': '0.032', '진짜진짜': '0.032', '진쨔': '0.025', '진챠': '0.009', '진촤': '0.016', '진출': '0.030', '진통': '0.032', '진표': '0.012', '진하': '0.033', '진한': '0.024', '진해': '0.013', '진행': '0.040', '진혁': '0.033', '진화': '0.034', '질': '0.006', '질감': '0.044', '질기': '0.010', '질도': '0.034', '질라': '0.034', '질러가': '0.007', '질리': '0.034', '질문': '0.034', '질병': '0.005', '질색': '0.034', '질서': '0.034', '질액': '0.018', '질염': '0.032', '질의응답': '0.034', '질주': '0.016', '질질': '0.034', '질투': '0.021', '질투심': '0.033', '질퍽': '0.028', '질환': '0.034', '질환자': '0.034', '짐': '0.034', '짐벌': '0.021', '짐작': '0.034', '집': '0.034', '집게': '0.034', '집계': '0.001', '집기': '0.030', '집단': '0.013', '집밥주블리': '0.034', '집사': '0.034', '집안': '0.034', '집안일': '0.010', '집약': '0.032', '집어넣': '0.019', '집요': '0.033', '집으로': '0.034', '집주인': '0.032', '집중': '0.034', '집중력': '0.007', '집중세럼': '0.031', '집집': '0.019', '집착': '0.034', '집합': '0.034', '짓': '0.034', '짓눌리': '0.000', '징': '0.034', '징검다리': '0.034', '징그럽': '0.033', '징글': '0.034', '징역': '0.032', '징징': '0.033', '징징거렸더니': '0.024', '징징대': '0.015', '짖': '0.012', '짙은': '0.003', '짚': '0.033', '짚신': '0.007', '짚신벌레': '0.012', '짜': '0.033', '짜내': '0.034', '짜넬라퓨레': '0.034', '짜루': '0.029', '짜릿': '0.010', '짜식': '0.031', '짜임': '0.021', '짜장면': '0.012', '짜증': '0.032', '짜파게티': '0.033', '짝': '0.013', '짝꿍': '0.033', '짝눈': '0.035', '짝사랑': '0.016', '짝짜꿍': '0.034', '짝짝': '0.001', '짝짝이': '0.022', '짝하': '0.032', '짠맛': '0.034', '짤리': '0.032', '짦은머리': '0.034', '짧': '0.034', '짧아지': '0.015', '짬': '0.032', '짬뽕': '0.007', '짬프짬프는': '0.028', '짭조름함이': '0.029', '짭짤': '0.033', '짭쪼롬한': '0.012', '짭쪼릅하고': '0.033', '짭쫄음함과': '0.034', '짱': '0.028', '짱아찌': '0.033', '짱아치': '0.034', '짱존맛탱구리': '0.033', '째': '0.009', '째려보': '0.026', '쨋든': '0.034', '쨌든': '0.024', '쨍': '0.033', '쨘': '0.010', '쨜': '0.021', '쩅하지': '0.034', '쩌러쩌렄': '0.033', '쩌어': '0.028', '쩌저적': '0.034', '쩌저적의': '0.011', '쩍': '0.028', '쩔어': '0.034', '쩜': '0.033', '쩜쩜': '0.034', '쩜쩜쩜': '0.016', '쩜프': '0.008', '쩝쩝': '0.009', '쩡모아': '0.037', '쩡세아땜에': '0.034', '쩡이': '0.034', '쩡이가': '0.030', '쩨리도': '0.041', '쪼': '0.029', '쪼가리': '0.020', '쪼개': '0.034', '쪼굼씩': '0.044', '쪼금': '0.006', '쪼금씩': '0.026', '쪼꼬능': '0.031', '쪼꼬미': '0.007', '쪼꼬미가': '0.034', '쪼꼬미들': '0.033', '쪼꼬미랑': '0.008', '쪼꼬미로': '0.034', '쪼꼬미야': '0.037', '쪼끄맣': '0.021', '쪼끔': '0.033', '쪼록': '0.024', '쪼롱이는': '0.034', '쪼잔': '0.034', '쪽': '0.028', '쪽지': '0.021', '쪽파': '0.011', '쫀득꼬끄후레이크': '0.033', '쫀쫀톡톡한': '0.034', '쫀쫀하고': '0.032', '쫀쫀한': '0.034', '쫄': '0.034', '쫄깃': '0.037', '쫑긋': '0.001', '쫑알쫑알': '0.017', '쫒기': '0.034', '쫒아간다': '0.015', '쫒아갔다': '0.034', '쫒아옴': '0.020', '쫓기': '0.029', '쫓아가': '0.008', '쫓아내': '0.034', '쫘악': '0.019', '쫙': '0.034', '쫙쫙': '0.033', '쬐': '0.020', '쬐금': '0.033', '쬥김없었어용': '0.009', '쭈그리': '0.033', '쭈꾸미': '0.033', '쭈꾸미가': '0.010', '쭈꾸미는': '0.029', '쭈꾸미배': '0.033', '쭈노의': '0.018', '쭈룩이한테도': '0.032', '쭈리': '0.024', '쭈리라': '0.032', '쭈리면': '0.012', '쭈션': '0.032', '쭈야': '0.034', '쭈야도': '0.034', '쭈우욱': '0.005', '쭈욱': '0.034', '쭈욱함께하실': '0.034', '쭈쭈': '0.029', '쭉': '0.005', '쭉쭉': '0.034', '쮸리단추후드티': '0.034', '쮸쮸': '0.034', '쮸쮸애착이': '0.000', '쯔꾸네': '0.034', '쯤': '0.034', '찌': '0.019', '찌개': '0.031', '찌그러지': '0.001', '찌기': '0.000', '찌꺼기': '0.033', '찌르': '0.033', '찌아': '0.007', '찌지': '0.017', '찌질의 역사': '0.031', '찌푸리': '0.019', '찍': '0.033', '찍어봤댜': '0.034', '찍찍이': '0.004', '찍히': '0.032', '찐득찐득': '0.027', '찔끔': '0.031', '찔끔찔끔': '0.034', '찔러보': '0.034', '찔리': '0.031', '찜': '0.025', '찜질방': '0.016', '찜찜': '0.034', '찝찝하고': '0.034', '찝찝한': '0.026', '찝찝할': '0.033', '찡': '0.044', '찡그리': '0.005', '찡끗': '0.033', '찡찡거렸지만': '0.034', '찡하': '0.025', '찢': '0.044', '찢어지': '0.027', '찧': '0.033', '차': '0.026', '차감': '0.039', '차갑': '0.034', '차고': '0.034', '차곡차곡': '0.026', '차근차근': '0.042', '차단': '0.034', '차돌': '0.030', '차돌박이': '0.034', '차드': '0.019', '차라': '0.034', '차라리': '0.033', '차량': '0.034', '차려': '0.008', '차려입': '0.034', '차렷': '0.034', '차렷하랫드니': '0.023', '차례': '0.033', '차로': '0.044', '차리': '0.034', '차마': '0.034', '차바위': '0.034', '차별': '0.005', '차분': '0.034', '차비': '0.034', '차선': '0.030', '차선책': '0.010', '차오르': '0.000', '차용': '0.017', '차원': '0.007', '차이': '0.014', '차이점': '0.034', '차일': '0.034', '차있지만웨이팅': '0.031', '차장': '0.008', '차쟌해': '0.008', '차전': '0.020', '차전자': '0.034', '차지': '0.034', '차차': '0.034', '차카': '0.034', '차코': '0.002', '차트': '0.034', '착': '0.034', '착각': '0.033', '착륙': '0.031', '착붙템': '0.034', '착실': '0.030', '착오': '0.004', '착용': '0.034', '착용감': '0.019', '착잡': '0.031', '착하': '0.032', '찬': '0.015', '찬가': '0.015', '찬란': '0.015', '찬미': '0.000', '찬바람': '0.022', '찬스': '0.034', '찬양': '0.034', '찬우': '0.021', '찬장': '0.033', '찰나': '0.033', '찰떡': '0.017', '찰떡궁합이던뎁': '0.004', '찰또기': '0.034', '찰스': '0.029', '찰스 리': '0.002', '찰싹': '0.034', '찰옥수수': '0.000', '찰지': '0.011', '찰칵': '0.017', '찰흙': '0.034', '참': '0.034', '참가자': '0.031', '참게': '0.033', '참고': '0.028', '참고서': '0.033', '참고하세욤': '0.011', '참기름': '0.029', '참깨': '0.034', '참나물': '0.017', '참되': '0.034', '참마': '0.034', '참새': '0.034', '참석': '0.021', '참여': '0.034', '참여자': '0.030', '참으로': '0.039', '참을성': '0.002', '참이슬': '0.001', '참조': '0.034', '참치': '0.002', '참치맛줬더니안팅': '0.029', '찹스테이크랑': '0.000', '찹쌀': '0.016', '창': '0.016', '창가': '0.026', '창건': '0.044', '창고': '0.034', '창동': '0.009', '창문': '0.007', '창밖': '0.032', '창살': '0.034', '창설': '0.020', '창세기': '0.034', '창안': '0.034', '창업': '0.034', '창원': '0.006', '창원시': '0.034', '창의': '0.006', '창의력': '0.029', '창작': '0.020', '창조': '0.033', '창출': '0.030', '창피': '0.025', '창피해': '0.026', '창희': '0.034', '찾': '0.034', '찾아가': '0.028', '찾아내': '0.034', '찾아다니': '0.044', '찾아보': '0.014', '찾아뵈': '0.005', '찾아뵙': '0.019', '찾아오': '0.034', '찿았지만': '0.016', '채': '0.034', '채광': '0.034', '채끝': '0.028', '채널': '0.034', '채널검색코코멜팅': '0.005', '채무': '0.032', '채색': '0.034', '채선당': '0.016', '채소': '0.032', '채식': '0.034', '채용': '0.033', '채우': '0.021', '채운': '0.009', '채원': '0.034', '채점': '0.019', '채집': '0.033', '채찍': '0.013', '채택': '0.009', '채팅': '0.000', '채희가': '0.033', '책': '0.024', '책망': '0.034', '책방': '0.002', '책보': '0.034', '책상': '0.034', '책임': '0.028', '책임감': '0.033', '책임지': '0.034', '책장': '0.034', '챌린저': '0.034', '챔피언': '0.029', '챔피온': '0.034', '챕스': '0.034', '챙': '0.021', '챙겨드리게욤': '0.008', '챙기': '0.030', '챙피': '0.034', '챠니': '0.034', '챠니는': '0.034', '챠니랑': '0.034', '챠니파파는': '0.044', '챠밍챠밍': '0.023', '챠슈': '0.034', '챱챱': '0.008', '처': '0.031', '처갓집': '0.034', '처녀': '0.010', '처리': '0.021', '처방': '0.005', '처분': '0.034', '처연': '0.003', '처음': '0.022', '처지': '0.033', '처참': '0.034', '처치': '0.034', '척': '0.020', '척척': '0.031', '척추': '0.016', '천': '0.012', '천관산': '0.033', '천국': '0.011', '천년': '0.008', '천년만년': '0.009', '천둥': '0.016', '천둥소리': '0.000', '천리': '0.026', '천막': '0.026', '천만': '0.033', '천만다행': '0.034', '천보': '0.034', '천사': '0.023', '천상': '0.032', '천성': '0.034', '천수': '0.034', '천식': '0.034', '천안': '0.017', '천연': '0.017', '천연기념물': '0.003', '천연색': '0.009', '천왕': '0.032', '천왕봉': '0.002', '천원': '0.009', '천원전': '0.013', '천이': '0.009', '천일염': '0.034', '천장': '0.034', '천재': '0.034', '천주교': '0.034', '천지': '0.034', '천진난만': '0.015', '천천히': '0.018', '천하장사': '0.016', '천혜': '0.009', '철': '0.012', '철거': '0.034', '철도': '0.034', '철렁': '0.029', '철산': '0.019', '철수': '0.030', '철없': '0.034', '철이': '0.034', '철저': '0.025', '철저히': '0.034', '철조망': '0.034', '철철': '0.032', '철칙': '0.034', '철통': '0.011', '철학': '0.034', '철학관': '0.034', '첨': '0.034', '첨가': '0.020', '첨가제': '0.034', '첨단': '0.034', '첨부': '0.034', '첨성대': '0.034', '첩': '0.030', '첫': '0.031', '첫걸음': '0.034', '첫날': '0.029', '첫눈': '0.022', '첫돌': '0.027', '첫사랑': '0.028', '첫영성체': '0.004', '첫인상': '0.034', '첫째': '0.003', '청': '0.034', '청각': '0.030', '청개구리': '0.034', '청경채': '0.009', '청계산': '0.000', '청국장': '0.044', '청년': '0.004', '청덕면': '0.004', '청도': '0.034', '청량': '0.034', '청량감': '0.034', '청량사': '0.033', '청명': '0.010', '청바지': '0.034', '청백': '0.025', '청봉': '0.034', '청사': '0.034', '청소': '0.031', '청소기': '0.034', '청소년': '0.024', '청송': '0.025', '청순': '0.026', '청승맞': '0.032', '청아': '0.033', '청양': '0.034', '청양고추': '0.002', '청어': '0.006', '청연': '0.019', '청자켓': '0.034', '청자켓도': '0.034', '청자켓을': '0.023', '청자켓하나를': '0.032', '청정': '0.034', '청주': '0.012', '청주시': '0.009', '청진기': '0.032', '청첩장': '0.034', '청청': '0.032', '청춘': '0.032', '청평': '0.031', '청평면': '0.004', '청포도': '0.010', '청포도조개롱': '0.023', '청하': '0.015', '청해': '0.019', '청홍': '0.034', '청화가': '0.003', '체': '0.029', '체결': '0.030', '체계': '0.029', '체계화': '0.044', '체구': '0.029', '체내': '0.013', '체념': '0.021', '체럼': '0.034', '체력': '0.032', '체스트프레스': '0.034', '체스트프레스스미스기구': '0.022', '체온': '0.034', '체온계': '0.034', '체육': '0.032', '체육관': '0.015', '체인': '0.021', '체인스트랩': '0.032', '체인점': '0.034', '체인지': '0.034', '체제': '0.026', '체조': '0.034', '체중': '0.021', '체중계': '0.033', '체증': '0.024', '체지방': '0.034', '체질': '0.000', '체크': '0.034', '체크무늬': '0.034', '체크아웃': '0.034', '체크인': '0.021', '체하': '0.019', '체험': '0.033', '체험학습': '0.031', '체형': '0.008', '첵스오버남방': '0.022', '첼시': '0.012', '쳇바퀴': '0.033', '쳐내': '0.034', '쳐다보': '0.034', '쳐먹': '0.033', '쳐주': '0.020', '쳥결과': '0.033', '쳬형교정': '0.030', '초': '0.014', '초가': '0.030', '초겨울': '0.034', '초고': '0.034', '초고추장': '0.029', '초고퀄': '0.001', '초고퀄리티': '0.009', '초고퀄리티상품이며정품과동일합니다': '0.034', '초과': '0.003', '초기': '0.022', '초년': '0.003', '초대': '0.014', '초등': '0.031', '초등학교': '0.009', '초딩': '0.019', '초라': '0.021', '초록': '0.034', '초록빛': '0.033', '초록색': '0.034', '초롱': '0.017', '초롱초롱': '0.019', '초미세먼지': '0.031', '초반': '0.030', '초밥': '0.034', '초벌': '0.034', '초보': '0.028', '초보자': '0.032', '초복': '0.009', '초상': '0.033', '초소': '0.034', '초승달': '0.001', '초식': '0.033', '초심': '0.030', '초여름': '0.034', '초연': '0.034', '초유': '0.018', '초음파': '0.022', '초입': '0.023', '초장': '0.034', '초저녁': '0.034', '초점': '0.034', '초조': '0.034', '초지진': '0.034', '초짜': '0.033', '초창기': '0.034', '초코': '0.034', '초코바나나': '0.032', '초코츄러스맛이라고하니까': '0.034', '초코파이': '0.018', '초콜렛까지': '0.022', '초콜릿': '0.023', '촉': '0.032', '촉각': '0.024', '촉감': '0.034', '촉매': '0.001', '촉박': '0.034', '촉진': '0.034', '촉촉': '0.012', '촉촉히': '0.022', '촌': '0.033', '촘촘': '0.034', '총': '0.033', '총리': '0.009', '총살': '0.044', '총수': '0.033', '총알': '0.034', '총장': '0.034', '총총': '0.034', '총출동': '0.034', '총회': '0.033', '촤르르': '0.019', '촤르르한': '0.042', '촥': '0.034', '촬영': '0.037', '촬영가': '0.025', '촵촵촵': '0.034', '최': '0.034', '최강': '0.034', '최고': '0.032', '최고경영자': '0.026', '최고퀄': '0.020', '최고퀄로': '0.013', '최고퀄리티': '0.031', '최고퀄리티취급': '0.033', '최고퀄만': '0.022', '최고퀄을': '0.034', '최근': '0.004', '최다': '0.033', '최단': '0.034', '최대': '0.033', '최대일': '0.030', '최대한': '0.008', '최뜽호의': '0.034', '최상': '0.031', '최상급고퀼': '0.034', '최상급퀄리티': '0.033', '최상급퀄만': '0.000', '최상쌤': '0.026', '최석': '0.041', '최선': '0.031', '최선을다하겟습니다': '0.034', '최선책': '0.034', '최소': '0.001', '최소한': '0.034', '최신': '0.017', '최신식': '0.034', '최악': '0.022', '최애템': '0.028', '최우': '0.033', '최저': '0.030', '최적': '0.034', '최적화': '0.002', '최종': '0.034', '최종끝판퀄인기최강인싸템만족도상품': '0.033', '최준': '0.019', '최진': '0.019', '최초': '0.001', '최후': '0.034', '최후의 만찬': '0.034', '쵝오': '0.034', '쵸리마켓': '0.034', '쵸콜렛에': '0.016', '쵸쿔': '0.026', '쵸크쵸크한': '0.026', '쵸큼': '0.034', '쵸파랑': '0.006', '쵹쵹퐁신한': '0.032', '춉춉': '0.032', '춍춍행복': '0.000', '추': '0.015', '추가': '0.034', '추구': '0.019', '추노': '0.026', '추도': '0.001', '추락': '0.009', '추릅추릅': '0.015', '추리': '0.012', '추방': '0.034', '추분': '0.020', '추석': '0.033', '추수': '0.032', '추스리': '0.032', '추어탕': '0.026', '추억': '0.034', '추위': '0.031', '추적': '0.018', '추정': '0.027', '추진': '0.025', '추천': '0.033', '추천템': '0.034', '추첨': '0.030', '추출': '0.033', '추출물': '0.029', '추파': '0.033', '추하': '0.034', '추호': '0.034', '추후': '0.020', '축': '0.032', '축구': '0.034', '축복': '0.032', '축사': '0.034', '축산': '0.031', '축적': '0.019', '축제': '0.034', '축축': '0.043', '축하': '0.030', '춘권': '0.012', '춘장': '0.029', '춘천': '0.027', '출': '0.011', '출간': '0.034', '출격': '0.009', '출고': '0.034', '출고됩니당': '0.034', '출구': '0.006', '출국': '0.034', '출근': '0.034', '출근길': '0.034', '출금': '0.034', '출동': '0.030', '출렁출렁': '0.005', '출력': '0.014', '출발': '0.004', '출사': '0.015', '출산': '0.004', '출생': '0.034', '출시': '0.021', '출시됬다는': '0.001', '출신': '0.017', '출연': '0.023', '출입': '0.033', '출입문': '0.010', '출장': '0.021', '출조': '0.009', '출처': '0.033', '출퇴근': '0.008', '출판': '0.015', '출판사': '0.032', '출현': '0.021', '출혈': '0.034', '춤': '0.023', '춤추': '0.018', '춥': '0.027', '춥다': '0.032', '충': '0.034', '충격': '0.033', '충남': '0.008', '충동': '0.011', '충만': '0.024', '충무': '0.034', '충북': '0.032', '충분': '0.031', '충분히': '0.034', '충성': '0.034', '충실': '0.028', '충전': '0.034', '충족': '0.044', '충주': '0.032', '충주호': '0.018', '충치': '0.034', '충혈': '0.020', '취급': '0.007', '취나물': '0.030', '취득': '0.016', '취미': '0.034', '취사': '0.000', '취소': '0.034', '취약': '0.004', '취업': '0.002', '취업난': '0.034', '취저': '0.034', '취저당함': '0.034', '취저였어요': '0.030', '취저잖오': '0.034', '취지': '0.041', '취직': '0.000', '취침': '0.034', '취하': '0.028', '취학': '0.034', '취합': '0.034', '취향': '0.034', '취향저격': '0.033', '츄': '0.034', '츄냥도': '0.016', '츄다랑': '0.033', '츄러스': '0.003', '츄르': '0.023', '츄르닭가슴살맛주다가': '0.008', '츄르라': '0.034', '츄르만': '0.034', '츄오빠너는': '0.034', '츄츄': '0.034', '츠가': '0.032', '츠마미를': '0.034', '측': '0.034', '측면': '0.010', '측정': '0.001', '측정기': '0.034', '층': '0.023', '층간소음': '0.028', '층층이': '0.034', '치': '0.034', '치과': '0.034', '치기': '0.043', '치노': '0.028', '치닫': '0.028', '치대': '0.034', '치도': '0.034', '치료': '0.034', '치료제': '0.011', '치루': '0.031', '치르': '0.034', '치마': '0.008', '치매': '0.033', '치명': '0.032', '치비': '0.044', '치사': '0.033', '치석': '0.034', '치실': '0.033', '치아': '0.034', '치악산': '0.030', '치약': '0.003', '치얼스': '0.031', '치열': '0.029', '치와와': '0.012', '치우': '0.031', '치유': '0.034', '치이': '0.020', '치즈': '0.019', '치즈 샌드위치': '0.031', '치즈돈까스': '0.033', '치즈로브스터테일': '0.009', '치즈볼': '0.011', '치즈스틱': '0.033', '치즈케이크': '0.020', '치즈플레터가': '0.005', '치즠': '0.022', '치질': '0.030', '치치': '0.034', '치킨': '0.034', '치타': '0.017', '치토스': '0.034', '치트키': '0.031', '치팅데이가': '0.044', '치팅데이땐': '0.018', '치팅데이를': '0.009', '치팅이니': '0.002', '칙': '0.044', '칙칙': '0.001', '친': '0.033', '친구': '0.033', '친구사이': '0.034', '친구엄마': '0.034', '친근': '0.026', '친근감': '0.034', '친밀감': '0.034', '친분': '0.033', '친절': '0.034', '친절히': '0.034', '친정': '0.032', '친정엄마': '0.008', '친정집': '0.023', '친척': '0.034', '친테퀘레': '0.016', '친필': '0.010', '친하': '0.034', '친화력': '0.032', '친환경': '0.034', '칠': '0.010', '칠곡': '0.008', '칠기': '0.001', '칠리': '0.034', '칠성': '0.033', '칠칠': '0.037', '칠흑': '0.028', '침': '0.028', '침구': '0.003', '침낭': '0.003', '침대': '0.005', '침묵': '0.010', '침범': '0.034', '침수': '0.020', '침실': '0.034', '침착': '0.034', '침침': '0.032', '침투': '0.034', '칩': '0.033', '칫솔': '0.015', '칫수': '0.034', '칭구가': '0.034', '칭구같이': '0.033', '칭구도': '0.035', '칭구들아': '0.034', '칭구들이': '0.020', '칭구칭구들': '0.014', '칭그들': '0.032', '칭따오': '0.026', '칭얼거려보기도': '0.034', '칭얼거리': '0.034', '칭얼칭얼': '0.034', '칭찬': '0.034', '칭하': '0.017', '칰구회사는': '0.007', '카': '0.034', '카네기': '0.034', '카니': '0.034', '카드': '0.028', '카디': '0.023', '카라': '0.024', '카라넥니트': '0.033', '카라넥으로': '0.020', '카라멜': '0.039', '카레': '0.034', '카르': '0.000', '카르마': '0.034', '카를': '0.020', '카리브': '0.026', '카리스마': '0.027', '카메라': '0.015', '카멜': '0.032', '카멜리아': '0.034', '카밍한': '0.028', '카스': '0.018', '카스피해': '0.025', '카시': '0.034', '카시아': '0.031', '카야': '0.034', '카약': '0.003', '카운터': '0.034', '카운트': '0.033', '카이트': '0.030', '카일라스': '0.013', '카츠': '0.034', '카츠동': '0.044', '카츠의': '0.010', '카카': '0.034', '카카오': '0.034', '카카오스토리': '0.018', '카카오톡': '0.034', '카키': '0.001', '카키색': '0.034', '카토': '0.034', '카톡링크로': '0.041', '카톡플친': '0.001', '카페': '0.042', '카페나': '0.000', '카페모카': '0.034', '카페베네': '0.034', '카페인': '0.031', '카펠리니': '0.033', '카푸': '0.034', '카푸치노': '0.032', '카푸치노프레도도피오': '0.012', '카퓌신': '0.044', '카프': '0.002', '카프렛': '0.032', '카프렛의': '0.006', '카피': '0.016', '칵테일': '0.008', '칸': '0.017', '칸쵸': '0.034', '칸쵸조개롱': '0.017', '칼': '0.024', '칼국수': '0.031', '칼라커펠트': '0.030', '칼로': '0.013', '칼로리': '0.014', '칼륨': '0.007', '칼리': '0.003', '칼바람': '0.034', '칼바람부넴': '0.009', '칼슘': '0.034', '칼질': '0.019', '칼집': '0.034', '캄캄': '0.032', '캉캉': '0.000', '캐': '0.010', '캐나다': '0.034', '캐내': '0.024', '캐논뎃살': '0.044', '캐롯': '0.009', '캐리': '0.034', '캐리어': '0.030', '캐리콧으로': '0.008', '캐릭터': '0.019', '캐모마일페퍼민트히비스커스루이보스': '0.034', '캐비아': '0.044', '캐비어': '0.034', '캐스팅': '0.034', '캐시': '0.007', '캐시미어': '0.007', '캐주얼': '0.033', '캐찹이': '0.034', '캐치': '0.020', '캐치프레이즈': '0.000', '캑터스': '0.034', '캔': '0.031', '캔디': '0.034', '캔버스': '0.031', '캔슬': '0.033', '캠퍼': '0.030', '캠페인': '0.030', '캠프': '0.033', '캠핑': '0.008', '캠핑장': '0.029', '캡': '0.044', '캡슐': '0.028', '캡처': '0.034', '캣츠': '0.023', '캥거루': '0.034', '캬': '0.001', '컄캬': '0.009', '커다랗': '0.010', '커리': '0.005', '커리큘럼': '0.034', '커뮤니케이션': '0.021', '커뮤니티': '0.044', '커버': '0.034', '커브': '0.018', '커비': '0.006', '커서': '0.034', '커스': '0.012', '커스터드': '0.034', '커스텀급': '0.006', '커스텀제작': '0.032', '커지': '0.015', '커클랜드': '0.006', '커텐': '0.034', '커트': '0.018', '커튼': '0.025', '커팅해주는': '0.034', '커플': '0.034', '커플룩': '0.034', '커플링': '0.003', '커플템으로': '0.031', '커플템이': '0.011', '커플템하기': '0.010', '커피': '0.018', '커피숍': '0.034', '컨디션': '0.032', '컨설팅': '0.034', '컨셉': '0.006', '컨텐츠': '0.034', '컨텐츠는': '0.024', '컨텐츠와': '0.017', '컨텐츠제공해주실분': '0.014', '컨트롤': '0.018', '컬': '0.018', '컬러': '0.019', '컬렉션': '0.004', '컬리': '0.021', '컬투': '0.032', '컴': '0.033', '컴백': '0.001', '컴팩트': '0.034', '컴퍼니': '0.012', '컴퓨터': '0.034', '컴프레션카프가드': '0.003', '컵': '0.023', '컵라면': '0.015', '컵케이크': '0.034', '컷': '0.020', '컷팅': '0.034', '컷팅되어': '0.027', '컷팅되어있어': '0.033', '케나': '0.028', '케냐': '0.033', '케밥': '0.009', '케이': '0.032', '케이블': '0.034', '케이블카': '0.006', '케이스': '0.018', '케이지': '0.015', '케이크': '0.034', '케이티': '0.034', '케이프': '0.033', '케익': '0.022', '케잌': '0.033', '케잌도': '0.019', '케잌의': '0.020', '케찹': '0.032', '케찹맛도': '0.005', '케찹은': '0.018', '케챱에두': '0.023', '케틀벨': '0.029', '케펨찾기': '0.034', '켁켁': '0.034', '켄': '0.034', '켄넬코프': '0.031', '켄트': '0.002', '켜': '0.034', '켠': '0.022', '코': '0.008', '코고': '0.034', '코기': '0.041', '코꾸녕': '0.025', '코끗이': '0.034', '코끝': '0.034', '코나스': '0.013', '코너': '0.022', '코니': '0.034', '코다': '0.001', '코닥': '0.018', '코듀로이': '0.034', '코드': '0.034', '코디': '0.034', '코디네이션': '0.034', '코디에요버튼조끼베이지카키그레이딥그레이': '0.034', '코딩러': '0.010', '코로': '0.034', '코로나': '0.034', '코로나가낳은확찐자': '0.030', '코로낰': '0.033', '코로롱때무네': '0.030', '코리': '0.034', '코리아': '0.034', '코멘트': '0.029', '코믹': '0.032', '코밍순': '0.010', '코바': '0.027', '코볼': '0.034', '코스': '0.012', '코스모스': '0.020', '코스트': '0.034', '코시': '0.033', '코시롱': '0.009', '코알라': '0.030', '코앞': '0.034', '코야': '0.034', '코엑스': '0.023', '코오롱': '0.028', '코웨이': '0.034', '코제': '0.012', '코지': '0.032', '코치': '0.034', '코치자켓': '0.004', '코칭': '0.034', '코코': '0.034', '코코넛': '0.004', '코코아': '0.030', '코코아파우더꾸덕': '0.033', '코타': '0.033', '코트': '0.019', '코티': '0.028', '코팅': '0.020', '콕': '0.021', '콕콕': '0.034', '콘': '0.044', '콘서트': '0.000', '콘크리트': '0.034', '콘테스트': '0.034', '콘텐츠': '0.044', '콘푸로스트': '0.044', '콜': '0.011', '콜드': '0.034', '콜라': '0.034', '콜라겐': '0.031', '콜레스테롤': '0.044', '콜록콜록': '0.014', '콜리': '0.034', '콜린스': '0.002', '콤보': '0.034', '콤보는': '0.033', '콤비': '0.043', '콤파스패치': '0.034', '콧구멍': '0.023', '콧대': '0.028', '콧등': '0.003', '콧물': '0.024', '콧바람': '0.010', '콧바람쐬기': '0.019', '콩': '0.033', '콩가': '0.025', '콩가루': '0.033', '콩고물': '0.008', '콩깍지': '0.005', '콩나물': '0.032', '콩나물국': '0.034', '콩쥐': '0.019', '콰자작': '0.033', '콰트로': '0.018', '콸콸': '0.034', '콸콸콸': '0.027', '쾅쾅': '0.034', '쾌': '0.015', '쾌감': '0.003', '쾌거': '0.034', '쾌유': '0.033', '쾌청': '0.034', '쿄쿄': '0.034', '쿠': '0.034', '쿠시': '0.000', '쿠어': '0.033', '쿠쿸': '0.027', '쿠키': '0.002', '쿠팡': '0.023', '쿠팡이츠를': '0.034', '쿠폰': '0.019', '쿠프가': '0.033', '쿡': '0.011', '쿨러': '0.034', '쿨바': '0.016', '쿨쿨': '0.034', '쿰들렌': '0.031', '쿰척': '0.032', '쿰쿰하고': '0.026', '쿵': '0.026', '퀄': '0.034', '퀄리티': '0.034', '퀄리티가': '0.034', '퀄리티나': '0.034', '퀄리티는': '0.034', '퀄리티는같을수없습니다': '0.034', '퀄리티도': '0.044', '퀄리티랍니다': '0.026', '퀄리티로': '0.034', '퀄리티를': '0.016', '퀄리티마저': '0.031', '퀄리티만': '0.027', '퀄리티며': '0.021', '퀄리티별': '0.031', '퀄리티보장': '0.031', '퀄리티에': '0.014', '퀄리티와': '0.034', '퀄리티의': '0.029', '퀄리티입니다': '0.003', '퀄리티좋은': '0.034', '퀄릿을': '0.026', '퀄은': '0.022', '퀄이': '0.034', '퀄좋은': '0.034', '퀄팅갯수': '0.016', '퀘스트': '0.004', '퀴네페는': '0.020', '퀴노아': '0.009', '퀴즈': '0.013', '퀵': '0.034', '퀸': '0.034', '퀼팅': '0.006', '큐': '0.014', '큐뮬러스에': '0.004', '큐브': '0.033', '큐빅': '0.014', '큐어': '0.004', '큐터스': '0.034', '큐트': '0.034', '크': '0.034', '크기': '0.034', '크나크': '0.034', '크니스': '0.032', '크라이': '0.025', '크래커': '0.028', '크래커머랭쿠키머랭쿠키꼬끄후레이크프레첼': '0.044', '크래프트지': '0.034', '크래프트한스': '0.032', '크랙': '0.019', '크러쉬': '0.032', '크럼블': '0.001', '크럼블얼그레이': '0.005', '크레': '0.034', '크레나라를': '0.034', '크레마': '0.008', '크레이빙샵': '0.012', '크레이카츠만': '0.034', '크렉': '0.009', '크렘브륄레': '0.008', '크렘브륄레바닐라': '0.026', '크로넛크로아상도넛': '0.026', '크로스': '0.007', '크로아상': '0.023', '크로와상': '0.034', '크로플': '0.033', '크로플과': '0.011', '크로플듀': '0.032', '크로플베이직': '0.034', '크로플에': '0.034', '크로플은': '0.010', '크로플을': '0.033', '크로플의': '0.018', '크로플이': '0.009', '크로플이라서': '0.005', '크로플이랑': '0.034', '크로플이랑은': '0.017', '크로플이에요': '0.030', '크로플이였어요': '0.014', '크로플하기': '0.023', '크롬': '0.013', '크롭': '0.034', '크롭목폴라베이지총장': '0.032', '크롱': '0.033', '크루': '0.033', '크루아상': '0.034', '크루어': '0.034', '크리닉': '0.002', '크리미': '0.001', '크리스': '0.032', '크리스마스': '0.034', '크리스탈': '0.033', '크리스티': '0.034', '크림': '0.029', '크림치즈': '0.024', '크림파슷하': '0.021', '크몽': '0.044', '크으': '0.032', '크킄': '0.034', '크키의': '0.002', '크흠': '0.014', '큰누나': '0.001', '큰돈': '0.034', '큰방': '0.034', '큰소리': '0.034', '큰소리치': '0.022', '큰아들': '0.007', '큰애': '0.000', '큰엄마': '0.034', '큰일': '0.032', '큰형': '0.017', '클났다': '0.019', '클라스가': '0.044', '클라우드': '0.021', '클라인': '0.008', '클래스': '0.012', '클래식': '0.032', '클래식핏': '0.014', '클러치': '0.034', '클럽': '0.034', '클레': '0.003', '클레임': '0.010', '클렌징': '0.034', '클로': '0.015', '클로버': '0.021', '클로이팅': '0.034', '클로즈': '0.029', '클리너': '0.007', '클리닉': '0.015', '클리닉블링펌': '0.034', '클리닉블링펌원': '0.034', '클릭': '0.022', '클린': '0.032', '클립': '0.034', '큼직큼직': '0.035', '킁킁': '0.033', '킄': '0.024', '키': '0.034', '키로': '0.034', '키로로': '0.024', '키세스': '0.023', '키스': '0.019', '키스락': '0.034', '키아프가': '0.034', '키엘': '0.024', '키우': '0.034', '키우시': '0.013', '키위': '0.007', '키읔키앜': '0.021', '키조개': '0.001', '키즈': '0.029', '키츠': '0.034', '키치': '0.002', '키카': '0.016', '키키': '0.033', '키킼': '0.033', '키트': '0.001', '키티': '0.003', '킥': '0.020', '킥즈네이션': '0.033', '킬러': '0.034', '킬로': '0.033', '킬링': '0.032', '킬바사': '0.034', '킴': '0.022', '킵원하시면': '0.034', '킹': '0.031', '킼': '0.029', '타': '0.034', '타격': '0.034', '타기': '0.034', '타네': '0.034', '타다닥': '0.033', '타라': '0.034', '타락': '0.034', '타령': '0.003', '타로': '0.033', '타르': '0.034', '타르트': '0.030', '타마': '0.031', '타사': '0.024', '타샵': '0.014', '타샵보다': '0.033', '타오': '0.018', '타요': '0.021', '타워': '0.034', '타원': '0.031', '타이': '0.005', '타이머': '0.012', '타이밍': '0.034', '타이어': '0.033', '타이틀': '0.006', '타인': '0.013', '타일': '0.027', '타임': '0.034', '타임랩스를': '0.033', '타입': '0.022', '타제품': '0.025', '타지마할 호텔': '0.007', '타짜': '0.007', '타코': '0.034', '타코시즈닝에': '0.034', '타투': '0.034', '타트체리': '0.034', '타트체리콜라겐': '0.034', '타프': '0.026', '타프스트링': '0.034', '타프치다': '0.024', '타프토이즈': '0.032', '타프토이즈로': '0.016', '탁': '0.014', '탁월': '0.034', '탁자': '0.034', '탁주': '0.029', '탁트인': '0.000', '탁하': '0.032', '탄': '0.033', '탄광': '0.034', '탄력': '0.033', '탄력성': '0.000', '탄산': '0.034', '탄생': '0.034', '탄생일': '0.007', '탄성': '0.011', '탄수화물': '0.028', '탄탄': '0.034', '탄탄면': '0.000', '탈': '0.034', '탈각': '0.033', '탈라': '0.022', '탈락': '0.002', '탈모': '0.033', '탈바꿈': '0.030', '탈색': '0.034', '탈수': '0.031', '탈출': '0.034', '탈출기': '0.019', '탈취': '0.020', '탈탈': '0.032', '탐': '0.034', '탐구': '0.034', '탐내': '0.034', '탐방': '0.017', '탐색': '0.033', '탐험': '0.034', '탑동': '0.001', '탑사': '0.034', '탑재': '0.002', '탓': '0.020', '탓하다갘': '0.010', '탕': '0.044', '탕수육': '0.034', '탕이': '0.034', '탕탕': '0.034', '태': '0.030', '태교': '0.032', '태국': '0.044', '태그': '0.034', '태극기': '0.001', '태기': '0.001', '태능': '0.044', '태닝도': '0.034', '태도': '0.034', '태동': '0.017', '태명': '0.034', '태몽': '0.034', '태반': '0.034', '태봉이': '0.019', '태블릿': '0.034', '태산': '0.034', '태안군': '0.000', '태양': '0.034', '태양광': '0.003', '태어나': '0.014', '태어나줘서 고마워': '0.004', '태열': '0.034', '태열세럼과': '0.044', '태우': '0.022', '태전로': '0.020', '태평동': '0.022', '태평로': '0.010', '태평소': '0.034', '태풍': '0.036', '태풍 마이삭': '0.019', '택': '0.001', '택배': '0.033', '택시': '0.002', '택하': '0.026', '탬핑에': '0.034', '탭': '0.028', '탱': '0.044', '탱글탱글하고': '0.034', '탱글탱글한': '0.009', '탱글탱글함을': '0.004', '탱글해요': '0.033', '탱크': '0.032', '탱탱쫀쫀': '0.008', '탱탱하고': '0.034', '탱탱한': '0.033', '터': '0.030', '터널': '0.033', '터덜터덜': '0.043', '터득': '0.033', '터뜨리': '0.002', '터무니': '0.011', '터무니없이': '0.030', '터줏대감': '0.023', '터지': '0.020', '터치': '0.033', '터치스크린': '0.010', '터칭감': '0.033', '터키': '0.034', '터트리': '0.016', '터틀넥': '0.031', '턱': '0.007', '턱없이': '0.034', '턴': '0.031', '털': '0.033', '털이': '0.019', '텀블러': '0.008', '텀블벅': '0.032', '텀을': '0.044', '텀플러': '0.032', '텁텁': '0.034', '텃밭': '0.034', '텅': '0.034', '텅텅': '0.033', '테': '0.010', '테나': '0.030', '테니스': '0.031', '테두리': '0.034', '테드': '0.034', '테디': '0.015', '테라스': '0.029', '테러': '0.025', '테리': '0.031', '테마': '0.024', '테스트': '0.034', '테이': '0.009', '테이블': '0.044', '테이크': '0.033', '테이크아웃': '0.033', '테이퍼드핏': '0.006', '테이프': '0.034', '테일러': '0.034', '테일즈': '0.021', '테잎': '0.041', '테크노': '0.008', '테크노파크역': '0.034', '테트리스': '0.029', '텍사스': '0.023', '텍스처': '0.026', '텍스쳐로': '0.026', '텐': '0.034', '텐션': '0.002', '텐텐사줬스요': '0.022', '텐트': '0.034', '텔': '0.008', '텔루륨': '0.034', '템테이션': '0.033', '템포': '0.017', '토': '0.033', '토가': '0.023', '토끼': '0.022', '토너': '0.034', '토니': '0.030', '토니모리': '0.027', '토닉': '0.031', '토대': '0.023', '토드': '0.033', '토라': '0.034', '토란': '0.034', '토론': '0.029', '토르': '0.010', '토리': '0.012', '토마': '0.027', '토마토': '0.028', '토마토 소스': '0.027', '토마토쯔케모노': '0.034', '토마호크': '0.018', '토미': '0.007', '토사': '0.033', '토속': '0.034', '토스트': '0.034', '토시': '0.033', '토실토실': '0.034', '토양': '0.033', '토요': '0.034', '토요일': '0.034', '토이': '0.034', '토익': '0.018', '토크': '0.034', '토키': '0.012', '토탈': '0.034', '토토': '0.010', '토트': '0.008', '토트백': '0.034', '토피': '0.034', '토하': '0.003', '톡': '0.035', '톡스': '0.006', '톡톡': '0.010', '톡톡히': '0.034', '톤': '0.034', '톨': '0.034', '톨로': '0.002', '톰': '0.030', '톰브': '0.042', '톳과': '0.029', '톳불고기': '0.034', '통': '0.029', '통곡': '0.044', '통과': '0.034', '통과의례': '0.034', '통관': '0.034', '통근': '0.029', '통기': '0.044', '통념': '0.010', '통닭': '0.001', '통닭집': '0.023', '통보': '0.034', '통성명': '0.034', '통수': '0.005', '통신': '0.014', '통신사': '0.034', '통영': '0.033', '통일': '0.032', '통장': '0.022', '통제': '0.034', '통조림': '0.008', '통주': '0.034', '통증': '0.002', '통째': '0.032', '통치': '0.034', '통통': '0.019', '통틀': '0.000', '통풍': '0.013', '통하': '0.034', '통학': '0.000', '통합': '0.016', '통행료': '0.034', '통화': '0.034', '퇴계원': '0.034', '퇴근': '0.029', '퇴근길': '0.024', '퇴원': '0.034', '퇴장': '0.012', '퇴직금': '0.034', '퇴치': '0.027', '투': '0.034', '투게더': '0.015', '투고': '0.021', '투닥투닥': '0.028', '투데이': '0.000', '투명': '0.026', '투박': '0.034', '투사': '0.034', '투숙': '0.033', '투썸': '0.032', '투썸도': '0.025', '투썸은': '0.033', '투썸플레이스': '0.015', '투어': '0.033', '투여': '0.031', '투영': '0.015', '투움바': '0.009', '투움바는': '0.009', '투움바로': '0.030', '투유': '0.027', '투입': '0.013', '투자': '0.034', '투정': '0.034', '투척': '0.006', '투표': '0.002', '투표자': '0.032', '투피스': '0.033', '투하': '0.002', '투호': '0.034', '툭': '0.003', '툰': '0.008', '툴툴거렸는데': '0.031', '퉁퉁': '0.030', '튀': '0.005', '튀기': '0.029', '튀김': '0.044', '튕기': '0.044', '튜브': '0.044', '튤립': '0.020', '트': '0.022', '트라우마': '0.026', '트라이': '0.025', '트래블': '0.034', '트래블러': '0.004', '트랙': '0.044', '트랜디': '0.034', '트랜스': '0.005', '트랜스포머': '0.034', '트랭글': '0.043', '트러블': '0.034', '트러프로스트치킨샌드위치와': '0.011', '트러프소스': '0.034', '트러프소스까지': '0.044', '트레': '0.005', '트레비': '0.034', '트레이너': '0.027', '트레이너쌤께': '0.026', '트레이닝': '0.027', '트레이닝복': '0.009', '트레이더스': '0.031', '트레이더스에서': '0.019', '트레이스': '0.034', '트레인': '0.034', '트레일': '0.018', '트레일러': '0.017', '트레킹': '0.019', '트렉터': '0.018', '트렉터를': '0.034', '트렌드': '0.032', '트렌디': '0.033', '트렌치': '0.022', '트렌치코트': '0.034', '트렘폴린을': '0.004', '트롤': '0.004', '트루폭시': '0.019', '트루폭시에': '0.034', '트루폭시의': '0.032', '트름을': '0.026', '트리': '0.020', '트리밍': '0.004', '트리오': '0.034', '트리트먼트': '0.033', '트리플': '0.034', '트리플베리치케크럼블': '0.034', '트림': '0.001', '트쌤': '0.034', '트위드': '0.014', '트위드다운': '0.014', '트위드원피스': '0.034', '트위드원피스와': '0.033', '트위드자켓': '0.008', '트위터': '0.034', '트윅스': '0.030', '트윈룩입은': '0.038', '트이': '0.033', '트집': '0.043', '특': '0.034', '특가': '0.032', '특권': '0.028', '특급': '0.031', '특기': '0.030', '특단': '0.033', '특별': '0.034', '특별히': '0.004', '특사': '0.018', '특색': '0.014', '특선': '0.026', '특성': '0.006', '특수': '0.034', '특수부': '0.031', '특식': '0.034', '특유': '0.044', '특이': '0.034', '특이점': '0.033', '특장': '0.012', '특정': '0.012', '특집': '0.034', '특징': '0.031', '특허': '0.034', '특효약': '0.034', '특히': '0.032', '튼튼': '0.013', '튿어진': '0.024', '틀': '0.018', '틀리': '0.034', '틀림없': '0.002', '틀림없이': '0.033', '틀어박히': '0.034', '틀어지': '0.034', '틈': '0.022', '틈새': '0.033', '틈새라면': '0.034', '틈틈이': '0.044', '틈틈히': '0.021', '티': '0.033', '티나': '0.034', '티니': '0.028', '티라미수': '0.028', '티랩스': '0.034', '티모시': '0.034', '티셔츠': '0.033', '티스': '0.034', '티아': '0.034', '티어': '0.023', '티에': '0.034', '티엠아이': '0.029', '티저': '0.034', '티쥼': '0.006', '티칭': '0.034', '티카': '0.033', '티켓': '0.027', '티코': '0.021', '티크': '0.044', '티탄': '0.027', '티파니': '0.034', '틱': '0.034', '틴트': '0.034', '팀': '0.036', '팀원': '0.033', '팀장': '0.034', '팁': '0.006', '팅길줄도': '0.033', '팅커벨': '0.034', '팅팅': '0.012', '파': '0.024', '파격': '0.033', '파고다': '0.001', '파고들': '0.034', '파괴': '0.034', '파괴범': '0.017', '파김치': '0.034', '파노': '0.034', '파노라마': '0.034', '파닉스': '0.013', '파도': '0.017', '파도처럼': '0.033', '파도치': '0.033', '파동': '0.032', '파라': '0.028', '파라다이스': '0.020', '파란': '0.017', '파란색': '0.032', '파랑': '0.030', '파랗': '0.034', '파래': '0.004', '파리': '0.002', '파리바게뜨': '0.008', '파리채': '0.012', '파마': '0.034', '파마산 치즈': '0.027', '파먹': '0.034', '파묻': '0.034', '파묻히': '0.011', '파베초콜렛에': '0.034', '파스타': '0.034', '파스텔': '0.002', '파슬리': '0.033', '파악': '0.023', '파업': '0.034', '파열': '0.029', '파우더': '0.018', '파운데이션': '0.003', '파운드': '0.034', '파워': '0.034', '파이': '0.012', '파이리': '0.034', '파이브': '0.026', '파이어': '0.032', '파이팅': '0.003', '파인애플': '0.016', '파인애플과': '0.000', '파인앳플': '0.033', '파인앳플에서는': '0.004', '파일': '0.029', '파자마': '0.031', '파자마티즈': '0.032', '파전': '0.032', '파주': '0.013', '파충류': '0.002', '파츠는': '0.034', '파츠없는': '0.044', '파카': '0.034', '파쿠': '0.022', '파크': '0.033', '파크 하얏트 부산': '0.033', '파타고니아': '0.011', '파트': '0.015', '파트너': '0.033', '파트너쉽': '0.013', '파티': '0.017', '파티셰가': '0.034', '파파': '0.024', '파프리카': '0.034', '팍': '0.032', '팍팍': '0.032', '판': '0.034', '판결': '0.017', '판금': '0.015', '판다': '0.013', '판다샵': '0.033', '판단': '0.031', '판매': '0.010', '판매량': '0.001', '판매자': '0.022', '판박이': '0.003', '판정': '0.034', '판쵸와': '0.024', '판타지': '0.034', '판토텐산': '0.028', '팔': '0.028', '팔각산': '0.034', '팔공산': '0.018', '팔도': '0.028', '팔도 비빔면': '0.034', '팔딱팔딱': '0.034', '팔뚝': '0.014', '팔랑팔랑': '0.034', '팔레트': '0.031', '팔로': '0.018', '팔로우': '0.028', '팔로잉': '0.044', '팔뤄': '0.032', '팔리': '0.033', '팔목': '0.034', '팔베개': '0.022', '팔색조': '0.032', '팔자': '0.021', '팔찌': '0.001', '팝': '0.023', '팝콘': '0.033', '팟타이': '0.007', '팡팡': '0.034', '팥': '0.014', '팥빙수': '0.034', '패': '0.034', '패널': '0.004', '패드': '0.034', '패딩': '0.006', '패밀리': '0.032', '패배': '0.034', '패션': '0.033', '패션후르츠': '0.034', '패스': '0.011', '패스츄리': '0.000', '패스트푸드': '0.034', '패인': '0.014', '패치': '0.000', '패커': '0.030', '패키지': '0.030', '패턴': '0.034', '패트': '0.034', '패티': '0.012', '팩': '0.026', '팬': '0.013', '팬더': '0.034', '팬덤': '0.034', '팬데믹': '0.034', '팬츠': '0.015', '팬클럽': '0.034', '팬텀': '0.034', '팬티': '0.033', '팰리스': '0.032', '팸퍼스': '0.044', '팽이': '0.001', '팽이버섯': '0.011', '팽이치기': '0.034', '퍼렐': '0.034', '퍼먹': '0.029', '퍼블릭스': '0.034', '퍼센트': '0.028', '퍼스': '0.034', '퍼스트': '0.034', '퍼즐': '0.034', '퍼지': '0.034', '퍼티': '0.034', '퍼펙트': '0.032', '퍼펙하다보심됩니다': '0.034', '퍼퓸': '0.021', '퍼프': '0.044', '퍼프브러쉬': '0.003', '퍼플': '0.019', '퍽퍽': '0.021', '펀스토랑': '0.034', '펀지': '0.000', '펀치': '0.028', '펀칭': '0.002', '펀칭의류가': '0.001', '펀칭이며': '0.017', '펄': '0.034', '펌': '0.017', '펌시작': '0.031', '펌이예여': '0.025', '펌프스': '0.024', '펌핑': '0.043', '펑': '0.029', '펑크': '0.033', '펑펑': '0.003', '페가수스': '0.034', '페디큐어': '0.009', '페리': '0.034', '페리카나': '0.034', '페메': '0.034', '페미닌룩': '0.014', '페미닌무드와': '0.032', '페미닌한': '0.034', '페북에서': '0.034', '페스': '0.010', '페스츄리': '0.011', '페스티발': '0.034', '페어팩스': '0.029', '페이': '0.033', '페이보릿': '0.000', '페이스': '0.027', '페이스북': '0.034', '페이즐리': '0.017', '페이지': '0.034', '페이팔': '0.000', '페이퍼': '0.022', '페인': '0.005', '페인팅': '0.034', '페코리노': '0.031', '페코리노와': '0.032', '페탐의': '0.034', '페투치네': '0.028', '페트': '0.035', '페파피그': '0.032', '페퍼': '0.034', '페퍼로니': '0.034', '페페': '0.034', '펙': '0.034', '펜': '0.034', '펜디': '0.016', '펜스': '0.034', '펜타곤': '0.034', '펜텔': '0.034', '펠트': '0.033', '펫': '0.002', '펫낫이': '0.022', '펫노리터': '0.032', '펫둥이': '0.014', '펫드라이룸': '0.034', '펫레인보우': '0.017', '펫모닝': '0.033', '펫샵도': '0.034', '펫타올도': '0.034', '펫피': '0.015', '펫헬스크린': '0.034', '펭귄': '0.014', '펭수': '0.033', '펴': '0.034', '펴지': '0.027', '편': '0.013', '편도염': '0.034', '편두': '0.034', '편두통': '0.033', '편리': '0.043', '편백': '0.034', '편성': '0.014', '편스토랑': '0.032', '편스토랑에서': '0.007', '편식': '0.033', '편안': '0.034', '편안하댜': '0.034', '편안히': '0.001', '편의': '0.043', '편의점': '0.033', '편지': '0.016', '편지지': '0.016', '편집': '0.011', '편집샵': '0.034', '편집즁': '0.034', '편차': '0.001', '편카롱의': '0.018', '편하': '0.034', '편히': '0.033', '펼쳐지': '0.034', '펼치': '0.006', '평': '0.021', '평가': '0.025', '평균': '0.034', '평단': '0.007', '평범': '0.033', '평상시': '0.034', '평생': '0.034', '평생 교육': '0.013', '평소': '0.034', '평양': '0.032', '평온': '0.044', '평일': '0.034', '평점': '0.018', '평지': '0.009', '평창': '0.010', '평창동': '0.034', '평탄': '0.016', '평택시': '0.033', '평평': '0.030', '평화': '0.024', '평화광장': '0.034', '평화시장': '0.034', '폐': '0.033', '폐기': '0.007', '폐쇄': '0.034', '포': '0.034', '포근': '0.017', '포근포근': '0.034', '포기': '0.008', '포뇨': '0.026', '포니': '0.015', '포대': '0.034', '포도': '0.006', '포동포동': '0.028', '포드': '0.034', '포레스트': '0.021', '포로': '0.019', '포로들': '0.034', '포르쉐': '0.034', '포름알데히드': '0.031', '포리': '0.034', '포마드': '0.033', '포만감': '0.044', '포메라니안': '0.044', '포뮬라로': '0.015', '포뮬러': '0.006', '포뮬리에': '0.028', '포병': '0.034', '포수': '0.031', '포쉐트': '0.016', '포스': '0.034', '포스트': '0.013', '포식': '0.033', '포유류': '0.044', '포인트': '0.015', '포장': '0.034', '포장지': '0.026', '포즈': '0.034', '포차': '0.015', '포착': '0.034', '포천': '0.009', '포치': '0.042', '포코': '0.022', '포크': '0.018', '포터': '0.023', '포텐': '0.034', '포토': '0.024', '포토샵': '0.044', '포토샵에서': '0.029', '포토샵을': '0.034', '포투': '0.014', '포트': '0.022', '포트폴리오': '0.033', '포함': '0.034', '포항': '0.007', '포항공대': '0.032', '포항시': '0.034', '포화': '0.025', '폭': '0.034', '폭격': '0.024', '폭등': '0.034', '폭력': '0.001', '폭발': '0.033', '폭신': '0.020', '폭염': '0.029', '폭우': '0.007', '폭주': '0.034', '폭죽': '0.034', '폭탄': '0.032', '폭파': '0.033', '폭팔': '0.034', '폭포': '0.032', '폭풍': '0.032', '폭풍업뎃했네요': '0.022', '폭풍우': '0.034', '폭흡해서': '0.033', '폰': '0.034', '폰트': '0.007', '폴': '0.026', '폴대': '0.044', '폴라': '0.033', '폴라로이드': '0.032', '폴로': '0.025', '폴로 셔츠': '0.004', '폴리': '0.034', '폴리스': '0.033', '폴리에스테르': '0.034', '폴리카보네이트': '0.034', '폴링': '0.034', '폴짝폴짝': '0.032', '폼': '0.002', '퐁': '0.031', '퐁당': '0.033', '퐁은': '0.034', '퐝퐝바꿔요': '0.034', '표': '0.033', '표고버섯': '0.034', '표기': '0.028', '표면': '0.003', '표상': '0.034', '표시': '0.018', '표정': '0.034', '표준': '0.001', '표지': '0.042', '표지판': '0.040', '표창': '0.034', '표현': '0.006', '표현력': '0.028', '표효': '0.033', '푸': '0.034', '푸근': '0.034', '푸드': '0.033', '푸들': '0.034', '푸딩': '0.031', '푸르': '0.027', '푸르르': '0.031', '푸르른 날': '0.031', '푸른': '0.032', '푸른빛': '0.034', '푸른색': '0.034', '푸름': '0.027', '푸릇갬성으로': '0.034', '푸릇푸릇': '0.034', '푸석푸석': '0.044', '푸시': '0.003', '푸우': '0.044', '푸욱': '0.044', '푸지': '0.030', '푸짐': '0.030', '푸티엔이랑': '0.021', '푸팟퐁커리': '0.034', '푸팟퐁커리로': '0.001', '푸팟퐁커리의': '0.029', '푸팟퐁커리입니다': '0.034', '푸하루': '0.023', '푸하항': '0.034', '푸흐': '0.034', '푸히히히': '0.029', '푹': '0.034', '푹신': '0.003', '푹푹': '0.026', '푼': '0.034', '푼수': '0.034', '풀': '0.034', '풀다': '0.031', '풀라': '0.033', '풀리': '0.003', '풀밭': '0.015', '풀벌레': '0.032', '풀스와': '0.034', '풀어내': '0.034', '풀어야하는뎅': '0.010', '풀이': '0.028', '풀잎': '0.030', '풀장': '0.022', '풀칠': '0.044', '풀풀': '0.034', '품': '0.036', '품격': '0.018', '품목': '0.003', '품사': '0.038', '품성': '0.002', '품절': '0.034', '품종': '0.010', '품질': '0.011', '풉': '0.034', '풋풋': '0.032', '풍': '0.012', '풍경': '0.020', '풍경화': '0.029', '풍금': '0.033', '풍기': '0.033', '풍년': '0.032', '풍미': '0.034', '풍부': '0.034', '풍선': '0.029', '풍선껌': '0.029', '풍성': '0.034', '풍속': '0.020', '풍수': '0.034', '풍요': '0.008', '풍족': '0.034', '퓨레를': '0.011', '퓨로': '0.022', '퓨로는': '0.028', '퓨로한번': '0.026', '퓨리': '0.016', '퓨어': '0.032', '퓨전': '0.031', '퓨처': '0.034', '프': '0.032', '프라그': '0.009', '프라다': '0.002', '프라이': '0.034', '프라이어': '0.034', '프라이팬': '0.034', '프라임': '0.008', '프라자': '0.034', '프랑스': '0.034', '프랑코페라로가': '0.007', '프래': '0.034', '프랜차이즈': '0.032', '프레쉬투고': '0.029', '프레쉬한게': '0.000', '프레스': '0.034', '프레스티지': '0.034', '프레이밍': '0.034', '프레임': '0.034', '프레장스인데': '0.034', '프레지': '0.011', '프레첼': '0.034', '프렌드': '0.034', '프렌즈': '0.034', '프렌치': '0.033', '프렌치 토스트': '0.034', '프로': '0.017', '프로그램': '0.020', '프로모션': '0.034', '프로바이오틱스': '0.034', '프로방스': '0.032', '프로보': '0.030', '프로슈토': '0.034', '프로젝뜨': '0.033', '프로젝트': '0.034', '프로페셔널': '0.034', '프로페셔널함이': '0.034', '프로포즈': '0.033', '프로필': '0.035', '프론트': '0.034', '프리': '0.034', '프리다이빙': '0.010', '프리랜서': '0.044', '프리미엄': '0.018', '프리바': '0.034', '프리사': '0.032', '프리오버핏': '0.004', '프린트': '0.034', '프린팅': '0.029', '프린팅찍어내는게': '0.034', '프릴': '0.015', '프림': '0.018', '프립': '0.029', '프불': '0.034', '프불인척': '0.006', '프토랑': '0.017', '플라스틱': '0.003', '플라워': '0.033', '플라이': '0.044', '플라자': '0.006', '플래시': '0.032', '플래이팅의': '0.015', '플래터': '0.034', '플랜': '0.034', '플랩': '0.008', '플랫': '0.034', '플랫폼': '0.034', '플러스': '0.053', '플러싱': '0.032', '플럼핑': '0.034', '플레어롱스커트플리츠롱스커트체크미디스커트슬렉스츄리닝': '0.034', '플레이': '0.034', '플레이도': '0.023', '플레이트': '0.013', '플레이팅은': '0.011', '플레이팅의': '0.034', '플레이팅이다': '0.029', '플레이팅해도': '0.034', '플레인': '0.013', '플로': '0.034', '플로라': '0.034', '플롯': '0.018', '플루토': '0.012', '플루토쉽': '0.027', '플루토쉽검색': '0.008', '플리': '0.003', '플린': '0.017', '플립': '0.034', '피': '0.033', '피검사': '0.034', '피고': '0.034', '피고인': '0.002', '피곤': '0.013', '피글렛딸기우유': '0.042', '피나': '0.033', '피드': '0.007', '피드백': '0.034', '피들': '0.029', '피디': '0.028', '피로': '0.009', '피리': '0.033', '피부': '0.013', '피부과': '0.011', '피부병': '0.030', '피비': '0.013', '피사': '0.000', '피스': '0.016', '피스타치오': '0.017', '피시방': '0.011', '피신': '0.029', '피아': '0.034', '피아노': '0.034', '피아니스트': '0.011', '피어': '0.026', '피어나': '0.008', '피어스': '0.010', '피어싱': '0.034', '피어오르': '0.000', '피와': '0.001', '피우': '0.033', '피임': '0.034', '피임약': '0.034', '피자': '0.034', '피자 치즈': '0.023', '피자네버슬립스': '0.012', '피자헛': '0.034', '피쳐': '0.011', '피카': '0.030', '피카츄': '0.023', '피칸': '0.032', '피코': '0.016', '피크닉': '0.004', '피클': '0.033', '피타': '0.039', '피톤치드': '0.023', '피트': '0.030', '피팅제품과': '0.034', '피팅컷은': '0.033', '피플': '0.044', '피해': '0.034', '피해자': '0.034', '피해자들': '0.034', '피혁': '0.015', '픽': '0.032', '픽션': '0.034', '픽업': '0.033', '핀': '0.003', '핀란드': '0.044', '필': '0.014', '필기': '0.013', '필독': '0.034', '필드': '0.027', '필라테스': '0.030', '필라프': '0.009', '필력': '0.033', '필름': '0.014', '필수': '0.034', '필수템': '0.033', '필수품': '0.019', '필요': '0.031', '필자': '0.034', '필터': '0.002', '핏': '0.032', '핏감과': '0.034', '핏감으로': '0.026', '핏감을': '0.034', '핏감이': '0.033', '핏감입니다': '0.034', '핏과': '0.034', '핏대': '0.032', '핏덩이': '0.034', '핏도': '0.022', '핏되는': '0.026', '핏물': '0.032', '핏에': '0.023', '핏으로': '0.034', '핏은': '0.020', '핏의': '0.033', '핏이': '0.042', '핏이고': '0.006', '핏이라': '0.006', '핏이라는': '0.031', '핏이며': '0.034', '핏콩': '0.033', '핏콩큐브': '0.023', '핏팅시': '0.001', '핏하게': '0.034', '핏하지도': '0.006', '핑': '0.033', '핑계': '0.014', '핑구': '0.018', '핑둥': '0.034', '핑크': '0.044', '핑크뮬리': '0.034', '핑크뮬리보고': '0.001', '핑크색': '0.034', '핑클': '0.034', '하': '0.038', '하강': '0.034', '하객': '0.032', '하겐다즈': '0.002', '하겟단다': '0.032', '하고': '0.004', '하고있죵': '0.034', '하고크흡': '0.034', '하교': '0.034', '하구': '0.023', '하구로': '0.034', '하구있습니당': '0.044', '하규': '0.044', '하급': '0.031', '하기': '0.011', '하긴': '0.034', '하나': '0.008', '하나님': '0.033', '하나도안떨어짐의사쌤이': '0.044', '하나라': '0.015', '하나로': '0.033', '하나에': '0.011', '하나하나': '0.034', '하남': '0.034', '하남시': '0.034', '하네': '0.034', '하노이': '0.033', '하는중임니돠': '0.006', '하늘': '0.032', '하늘과 바다': '0.000', '하늘색': '0.006', '하늘하늘': '0.024', '하니': '0.044', '하단': '0.034', '하답': '0.034', '하도': '0.034', '하드': '0.022', '하든': '0.034', '하디': '0.028', '하락': '0.034', '하루': '0.034', '하루만': '0.003', '하루빨리': '0.034', '하루살이': '0.034', '하루하루': '0.021', '하룻밤': '0.031', '하리': '0.018', '하리보': '0.033', '하린': '0.007', '하림': '0.007', '하마': '0.010', '하말': '0.034', '하면': '0.012', '하민': '0.034', '하버드': '0.005', '하사': '0.023', '하산': '0.015', '하서': '0.016', '하셨나욤': '0.025', '하소': '0.014', '하숙': '0.024', '하순': '0.013', '하시': '0.010', '하시나': '0.034', '하실떄마다': '0.033', '하심': '0.034', '하얀색': '0.007', '하얗': '0.042', '하여튼': '0.031', '하염없이': '0.034', '하영': '0.032', '하오': '0.024', '하옥': '0.034', '하와이': '0.034', '하우스': '0.034', '하울': '0.033', '하원': '0.015', '하윤': '0.034', '하의': '0.034', '하이': '0.029', '하이드레이팅': '0.000', '하이라이트': '0.013', '하이브': '0.034', '하이퀄리티': '0.032', '하이킹': '0.016', '하이포': '0.032', '하인': '0.004', '하일라이트': '0.001', '하임': '0.021', '하자': '0.018', '하자 주': '0.034', '하장': '0.032', '하정우': '0.027', '하주': '0.034', '하즈': '0.032', '하지': '0.012', '하지만': '0.014', '하진': '0.032', '하쯔모토': '0.034', '하찮': '0.032', '하체': '0.033', '하체토닝': '0.013', '하츠': '0.033', '하트': '0.034', '하트롱순수우유': '0.024', '하품': '0.013', '하프': '0.031', '하필': '0.034', '하하하': '0.034', '하하하하': '0.031', '하하핫': '0.025', '하핫': '0.001', '하후': '0.034', '학': '0.034', '학과': '0.020', '학교': '0.030', '학기': '0.014', '학년': '0.034', '학동': '0.024', '학번': '0.013', '학부': '0.044', '학부모': '0.034', '학부형': '0.034', '학사': '0.030', '학산': '0.034', '학생': '0.034', '학습': '0.028', '학습법': '0.006', '학습지': '0.028', '학업': '0.012', '학원': '0.034', '학위': '0.034', '학이': '0.034', '학인': '0.033', '학창': '0.023', '한': '0.034', '한가': '0.019', '한가득': '0.030', '한가운데': '0.044', '한가지': '0.009', '한강': '0.012', '한강공원': '0.011', '한걸음': '0.033', '한결': '0.023', '한결같': '0.034', '한결같이': '0.033', '한계': '0.033', '한계령': '0.008', '한곳': '0.032', '한구석': '0.044', '한국': '0.034', '한국관광공사': '0.034', '한국복지사이버대학': '0.034', '한국사': '0.024', '한국야쿠르트': '0.033', '한국어': '0.000', '한국인': '0.034', '한군데': '0.034', '한글': '0.034', '한글날': '0.002', '한글판': '0.034', '한길': '0.034', '한꺼번에': '0.013', '한껏': '0.034', '한끝': '0.033', '한끼였댜': '0.034', '한나': '0.034', '한남동': '0.034', '한낮': '0.034', '한눈': '0.001', '한대': '0.034', '한데': '0.034', '한도': '0.033', '한동리': '0.030', '한두': '0.020', '한때': '0.034', '한라': '0.034', '한라봉': '0.032', '한라산': '0.023', '한림': '0.044', '한림읍': '0.022', '한마디': '0.034', '한말': '0.024', '한망탱이': '0.021', '한몫': '0.006', '한문': '0.034', '한문쌤한테': '0.034', '한물가': '0.033', '한바탕': '0.031', '한발': '0.034', '한밤': '0.032', '한방': '0.034', '한번': '0.033', '한번쯤': '0.038', '한별': '0.017', '한복': '0.032', '한복판': '0.034', '한북정맥': '0.012', '한세상': '0.026', '한송이': '0.034', '한수': '0.017', '한숨': '0.044', '한시름': '0.026', '한식': '0.044', '한신': '0.009', '한심': '0.034', '한아름': '0.034', '한양': '0.034', '한없이': '0.034', '한여름': '0.034', '한오': '0.034', '한옥': '0.032', '한옥마을': '0.025', '한우': '0.032', '한울': '0.011', '한의사': '0.034', '한입': '0.033', '한자': '0.031', '한자리': '0.034', '한잔': '0.017', '한장': '0.007', '한적': '0.033', '한정': '0.034', '한정수': '0.032', '한정판': '0.018', '한지': '0.017', '한쪽': '0.009', '한참': '0.020', '한층': '0.020', '한탄': '0.011', '한텐': '0.030', '한통': '0.023', '한판': '0.031', '한편': '0.004', '한평생': '0.008', '한하': '0.029', '한해': '0.017', '핟': '0.032', '할': '0.034', '할거': '0.032', '할게욤': '0.034', '할당': '0.033', '할라': '0.040', '할레': '0.028', '할로윈': '0.005', '할리': '0.030', '할리우드': '0.007', '할많하않': '0.034', '할매': '0.003', '할머니': '0.034', '할미': '0.032', '할배': '0.030', '할부': '0.003', '할부금': '0.034', '할아버님': '0.010', '할아버지': '0.034', '할인': '0.034', '할인점': '0.000', '핥': '0.033', '함': '0.010', '함께': '0.033', '함께해욤': '0.034', '함량': '0.030', '함몰': '0.034', '함박': '0.034', '함보': '0.033', '함부로': '0.007', '함속': '0.009', '함유': '0.033', '함정': '0.028', '함지산': '0.009', '합': '0.033', '합격': '0.002', '합류': '0.034', '합리': '0.031', '합법': '0.001', '합성': '0.004', '합성동': '0.031', '합정역': '0.033', '합창': '0.034', '합천': '0.009', '합천군': '0.032', '합포': '0.033', '핫': '0.032', '핫도그': '0.034', '핫바': '0.033', '핫쵸코만': '0.034', '핫플': '0.031', '핫플이라는곳을': '0.034', '핫플이랍니다': '0.034', '핫플하면': '0.034', '항': '0.034', '항공': '0.023', '항공권': '0.019', '항공로': '0.044', '항공료': '0.031', '항목': '0.034', '항문': '0.033', '항산': '0.022', '항상': '0.023', '항생제': '0.034', '항시': '0.034', '항암': '0.008', '항원': '0.034', '해': '0.033', '해결': '0.026', '해결사': '0.034', '해결책': '0.027', '해내': '0.019', '해달': '0.034', '해답': '0.010', '해당': '0.031', '해도': '0.034', '해독': '0.034', '해돋이': '0.015', '해동': '0.019', '해동용궁사': '0.039', '해드': '0.043', '해롭': '0.009', '해루': '0.034', '해리': '0.034', '해리스': '0.033', '해맑': '0.033', '해먹': '0.000', '해명': '0.017', '해물': '0.014', '해물탕': '0.025', '해발': '0.021', '해발고도': '0.034', '해방감': '0.034', '해방촌': '0.017', '해변': '0.023', '해보': '0.025', '해보면': '0.028', '해봅니당': '0.025', '해산물': '0.034', '해삼': '0.034', '해상도': '0.033', '해서': '0.007', '해석': '0.028', '해설': '0.023', '해소': '0.034', '해수': '0.028', '해시태그': '0.034', '해안': '0.034', '해안로': '0.034', '해열제': '0.034', '해외': '0.034', '해외셀럽과': '0.029', '해외셀럽들의': '0.011', '해외여행': '0.044', '해운대': '0.017', '해운대구': '0.034', '해운대해변로': '0.034', '해일': '0.032', '해자': '0.029', '해장': '0.008', '해장국': '0.033', '해제': '0.036', '해조': '0.034', '해주': '0.014', '해주세욧': '0.034', '해주시': '0.034', '해줄겡': '0.033', '해지': '0.034', '해진': '0.034', '해질녘': '0.026', '해체': '0.030', '해초': '0.002', '해치': '0.011', '해치우': '0.014', '해파랑길': '0.023', '해피': '0.034', '해피해피': '0.034', '해헷콩': '0.032', '핵': '0.034', '핵꿀맛탱이고': '0.018', '핵심': '0.034', '핸드워시는': '0.034', '핸드폰': '0.003', '핸드프레소로': '0.012', '핸드프레소와': '0.034', '핸드프레소파우치': '0.034', '핸들': '0.026', '햄': '0.034', '햄버거죱': '0.004', '햄보퀘함께해서': '0.012', '햄스터': '0.000', '햅': '0.032', '햅번드레스': '0.007', '햅삐한추석되세요': '0.034', '햇밤': '0.020', '햇볕': '0.034', '햇빛': '0.034', '햇살': '0.033', '했다구욧': '0.034', '했다쿠쿸쿸': '0.033', '행': '0.012', '행군': '0.034', '행궁동': '0.013', '행동': '0.033', '행방불명': '0.011', '행보': '0.031', '행복': '0.035', '행복하댜': '0.034', '행복한 아침': '0.010', '행복한 주말': '0.031', '행복합니다': '0.028', '행사': '0.005', '행사일': '0.039', '행색': '0.034', '행성': '0.034', '행시': '0.020', '행운': '0.031', '행운아': '0.034', '행위': '0.034', '행주대교': '0.031', '행하': '0.031', '햐': '0.033', '향': '0.033', '향긋': '0.034', '향기': '0.031', '향도': '0.025', '향로봉': '0.033', '향료가': '0.020', '향방': '0.033', '향상': '0.034', '향수': '0.025', '향신료': '0.031', '향연': '0.004', '향초': '0.034', '향하': '0.034', '허': '0.033', '허가': '0.014', '허겁지겁': '0.006', '허공': '0.030', '허기': '0.031', '허기지': '0.034', '허나': '0.008', '허니': '0.000', '허덕이': '0.022', '허둥지둥': '0.024', '허락': '0.032', '허리': '0.034', '허리끈': '0.009', '허망': '0.012', '허무': '0.001', '허밍': '0.009', '허벅지': '0.034', '허브': '0.031', '허연': '0.034', '허용': '0.021', '허유': '0.034', '허전': '0.019', '허클베리 핀': '0.034', '허클베리 핀의 모험': '0.006', '허탈': '0.022', '허하': '0.034', '허한': '0.034', '허허': '0.031', '헉': '0.006', '헌신': '0.020', '헌터': '0.001', '헌혈': '0.001', '험난': '0.034', '험악': '0.030', '험하': '0.032', '헛것': '0.034', '헛되이': '0.010', '헝아들에겐': '0.034', '헝헝': '0.013', '헠헠': '0.032', '헤': '0.032', '헤드': '0.033', '헤드셋': '0.033', '헤로인': '0.034', '헤매': '0.001', '헤메': '0.035', '헤모글로빈': '0.032', '헤비': '0.008', '헤아리': '0.028', '헤어': '0.033', '헤어밴드': '0.034', '헤어브러쉬에요': '0.034', '헤어브러쉬입니당': '0.001', '헤어지': '0.030', '헤이': '0.034', '헤이즐넛': '0.017', '헤이즐넛시럽': '0.024', '헤집': '0.034', '헤치': '0.034', '헤헤': '0.022', '헤헷': '0.009', '헤헷화이트셔츠': '0.025', '헥사테이블은': '0.034', '헥스': '0.007', '헥헥': '0.044', '헥헥대다': '0.032', '헥헥힘들었다': '0.009', '헨리': '0.022', '헨리넥에': '0.034', '헬기장': '0.030', '헬로': '0.019', '헬륨': '0.034', '헬리': '0.026', '헬스': '0.034', '헷': '0.011', '헷갈려': '0.001', '헷갈리': '0.034', '헿': '0.003', '혀': '0.028', '혁': '0.015', '혁명': '0.034', '혁신': '0.044', '혁신도시': '0.024', '현': '0.034', '현경': '0.028', '현금': '0.001', '현금영수증': '0.034', '현기증': '0.008', '현대': '0.044', '현대인': '0.026', '현대카드': '0.033', '현란': '0.034', '현명': '0.032', '현미차': '0.010', '현상': '0.020', '현석': '0.034', '현수': '0.005', '현실': '0.034', '현역': '0.014', '현우': '0.034', '현장': '0.034', '현재': '0.007', '현존': '0.012', '현존최고퀄': '0.033', '현주': '0.029', '현지': '0.031', '현지최고퀄': '0.020', '현지최고퀄백화점퀄보장확신정품분해카피': '0.008', '혈': '0.013', '혈관': '0.008', '혈뇨': '0.030', '혈당': '0.034', '혈압': '0.034', '혈액': '0.033', '혈장': '0.013', '협력': '0.015', '협박': '0.023', '협상': '0.007', '협소': '0.034', '협업': '0.034', '협재': '0.001', '협재바다': '0.002', '협조': '0.034', '협찬': '0.005', '협탁은': '0.002', '협회': '0.000', '형': '0.027', '형광': '0.022', '형광등': '0.010', '형구': '0.033', '형님': '0.020', '형도': '0.005', '형사': '0.011', '형산': '0.034', '형상화': '0.003', '형성': '0.029', '형수': '0.005', '형식': '0.031', '형용': '0.011', '형제': '0.024', '형태': '0.026', '혜': '0.034', '혜미': '0.034', '혜민': '0.034', '혜이니': '0.028', '혜자': '0.024', '혜진': '0.033', '혜택': '0.034', '혜화역': '0.034', '호': '0.034', '호가': '0.016', '호가든': '0.034', '호감': '0.031', '호강': '0.043', '호객': '0.019', '호기': '0.001', '호기심': '0.034', '호남': '0.038', '호덕': '0.040', '호두': '0.029', '호떡': '0.032', '호락호락': '0.034', '호랑이': '0.008', '호랭이': '0.034', '호랭이를': '0.000', '호로': '0.013', '호롱': '0.034', '호르몬': '0.034', '호박': '0.024', '호보': '0.034', '호빗': '0.003', '호사': '0.033', '호선': '0.008', '호세': '0.012', '호수': '0.034', '호수공원': '0.027', '호스트': '0.034', '호야': '0.033', '호우': '0.016', '호응': '0.031', '호의': '0.013', '호일': '0.001', '호자': '0.034', '호전': '0.031', '호주': '0.014', '호지': '0.014', '호지차': '0.007', '호출': '0.033', '호캉스': '0.002', '호캉스오셔요': '0.020', '호캉스의': '0.001', '호텔': '0.044', '호피': '0.034', '호피블라에': '0.011', '호호': '0.034', '호호호': '0.034', '호화': '0.032', '호환': '0.011', '호흡': '0.010', '호흡기': '0.016', '혹': '0.021', '혹독': '0.034', '혹시': '0.034', '혹시나': '0.034', '혹은': '0.026', '혼': '0.016', '혼구녕': '0.034', '혼꾸녕나고': '0.003', '혼나': '0.034', '혼내': '0.023', '혼마': '0.032', '혼비백산': '0.031', '혼사': '0.034', '혼용': '0.031', '혼자': '0.034', '혼잡': '0.034', '혼잣말': '0.009', '혼주': '0.044', '혼합물': '0.034', '홀': '0.034', '홀딱': '0.013', '홀로': '0.034', '홀리': '0.023', '홀린': '0.022', '홀스빗': '0.021', '홀짝': '0.034', '홈': '0.010', '홈 파티': '0.034', '홈경기': '0.034', '홈트를': '0.016', '홈트중': '0.024', '홈파티': '0.021', '홈페이지': '0.029', '홈플러스': '0.033', '홍': '0.035', '홍게': '0.029', '홍길동': '0.014', '홍대': '0.006', '홍보': '0.033', '홍삼': '0.034', '홍색': '0.034', '홍수': '0.034', '홍이': '0.033', '홍진영': '0.033', '홍차': '0.023', '홍콩': '0.017', '홍학': '0.044', '홍합': '0.034', '화': '0.034', '화가': '0.010', '화관': '0.034', '화나': '0.021', '화난': '0.019', '화내': '0.006', '화낼꼬에욤': '0.027', '화단': '0.030', '화대': '0.029', '화도': '0.008', '화랑대역': '0.004', '화력': '0.034', '화룡점정': '0.034', '화만': '0.032', '화면': '0.025', '화보': '0.028', '화사': '0.015', '화산': '0.034', '화성시': '0.044', '화수': '0.030', '화승': '0.044', '화안히': '0.025', '화양동': '0.034', '화언': '0.034', '화엄': '0.034', '화요': '0.034', '화요일': '0.031', '화요팅입니다': '0.034', '화원': '0.032', '화음': '0.034', '화이트': '0.015', '화이트 초콜릿': '0.034', '화이트닝': '0.003', '화이트초콜렛이': '0.012', '화이트초콜렛이랑': '0.034', '화이팅': '0.034', '화이팅하자구욧': '0.034', '화장': '0.034', '화장대': '0.034', '화장실': '0.029', '화장품': '0.033', '화재': '0.034', '화재보험': '0.033', '화정': '0.034', '화질': '0.011', '화창': '0.030', '화채': '0.024', '화천': '0.022', '화초': '0.004', '화풀이': '0.005', '화학': '0.033', '화합물': '0.021', '화해': '0.044', '확': '0.024', '확대': '0.010', '확률': '0.033', '확보': '0.036', '확산': '0.019', '확신': '0.014', '확실': '0.034', '확실한퀄리티': '0.029', '확실히': '0.034', '확연': '0.034', '확연히': '0.033', '확인': '0.033', '확장': '0.044', '확정': '0.027', '확진': '0.030', '확확': '0.015', '환': '0.034', '환경': '0.034', '환경오염': '0.033', '환기': '0.034', '환불': '0.028', '환상': '0.042', '환영': '0.014', '환율': '0.034', '환자': '0.027', '환장': '0.034', '환전': '0.034', '환절기': '0.015', '환하': '0.034', '환호했쟈나요': '0.033', '환희': '0.033', '활': '0.003', '활기차': '0.032', '활동': '0.032', '활동비': '0.034', '활력': '0.034', '활발': '0.038', '활성': '0.007', '활성도': '0.044', '활어': '0.044', '활용': '0.034', '활용도': '0.016', '활짝': '0.034', '활활': '0.034', '홧김': '0.034', '홧팅': '0.029', '홧팅여': '0.020', '홧팅요': '0.034', '홧팅입니다': '0.006', '홧팅하면서': '0.034', '홧팅하쥬': '0.044', '홧팅해줘': '0.012', '황': '0.008', '황금': '0.033', '황금빛': '0.034', '황금향': '0.005', '황급히': '0.019', '황도': '0.017', '황매산': '0.027', '황산': '0.029', '황송': '0.030', '황악산': '0.034', '황치즈뽀또': '0.000', '황태': '0.034', '황하': '0.031', '황홀': '0.015', '회': '0.022', '회관': '0.011', '회귀': '0.034', '회기로': '0.014', '회답': '0.019', '회덮밥': '0.034', '회랑': '0.007', '회로': '0.034', '회룡역': '0.034', '회복': '0.034', '회사': '0.017', '회사원': '0.034', '회상': '0.001', '회색': '0.033', '회색빛': '0.031', '회수': '0.044', '회식': '0.044', '회암사': '0.034', '회양': '0.022', '회오리': '0.034', '회원': '0.026', '회원권': '0.001', '회의': '0.034', '회의감': '0.000', '회장': '0.044', '회전': '0.020', '회차': '0.034', '회피': '0.034', '획': '0.033', '획기적': '0.019', '획득': '0.005', '횟감': '0.034', '횟수': '0.030', '횟집': '0.027', '횡설수설': '0.027', '횡성휴게소': '0.034', '효': '0.034', '효과': '0.013', '효녀': '0.036', '효능': '0.033', '효도': '0.005', '효소': '0.034', '효영': '0.033', '효율': '0.044', '효자': '0.033', '후': '0.034', '후각': '0.026', '후기': '0.012', '후니': '0.033', '후다닥': '0.034', '후대': '0.034', '후드': '0.034', '후들거리': '0.032', '후디': '0.007', '후딱': '0.021', '후라보노': '0.005', '후라이': '0.034', '후레쉬': '0.004', '후려치': '0.003', '후루룩': '0.003', '후르츠': '0.011', '후르츠요거트': '0.033', '후르츠초코': '0.002', '후면': '0.032', '후문': '0.026', '후반': '0.014', '후방': '0.010', '후배': '0.006', '후분': '0.034', '후불': '0.034', '후손': '0.034', '후시': '0.034', '후식': '0.033', '후애': '0.034', '후에': '0.025', '후염워싱을': '0.025', '후우': '0.034', '후원': '0.025', '후유증': '0.034', '후지': '0.033', '후츄': '0.033', '후츄르츄후츄': '0.023', '후프': '0.023', '후회': '0.017', '후회합니다': '0.027', '후후': '0.021', '후훗': '0.004', '후흫힣히': '0.026', '훅': '0.014', '훈': '0.034', '훈도': '0.023', '훈련': '0.031', '훈련기': '0.033', '훈련법': '0.017', '훈련병': '0.030', '훈이': '0.034', '훈제': '0.011', '훈훈': '0.011', '훌륭': '0.034', '훌쩍': '0.034', '훌훌': '0.004', '훔치': '0.033', '훗': '0.030', '훗날': '0.016', '훤칠': '0.011', '훨': '0.044', '훨씬': '0.033', '훼': '0.013', '휑하': '0.034', '휘': '0.030', '휘날리': '0.034', '휘두르': '0.031', '휘둘리': '0.004', '휘또블랑': '0.033', '휘뚜루마뚜루': '0.029', '휘몰아치': '0.002', '휘발': '0.033', '휘익': '0.033', '휘적거리': '0.012', '휘청': '0.021', '휙': '0.030', '휙휙': '0.006', '휠': '0.016', '휠라': '0.015', '휠발란스': '0.032', '휠스': '0.034', '휩쓸': '0.020', '휩쓸리': '0.007', '휴': '0.015', '휴가': '0.018', '휴게': '0.011', '휴대': '0.012', '휴대폰': '0.014', '휴대폰도패드도뭐든다닦아야하는필수템': '0.011', '휴식': '0.034', '휴식기': '0.033', '휴양지': '0.030', '휴업': '0.028', '휴우': '0.028', '휴일': '0.034', '휴전': '0.032', '휴정': '0.017', '휴지': '0.032', '휴학': '0.034', '흉내': '0.018', '흉악': '0.034', '흉터': '0.034', '흐규': '0.000', '흐규흐규': '0.031', '흐느끼': '0.005', '흐드러지': '0.030', '흐르': '0.030', '흐름': '0.016', '흐리': '0.033', '흐리멍텅해보이는건': '0.033', '흐릿': '0.011', '흐물거리': '0.000', '흐뭇': '0.032', '흐믓해진답니다': '0.017', '흐미': '0.027', '흐음': '0.010', '흐음스타일': '0.034', '흐지부지': '0.016', '흐트러지': '0.034', '흐흐': '0.030', '흐흣': '0.010', '흐흫흐흫': '0.004', '흑': '0.017', '흑백': '0.042', '흑심': '0.034', '흑청자켓도': '0.034', '흔들': '0.005', '흔들리': '0.025', '흔적': '0.014', '흔쾌히': '0.034', '흔하': '0.034', '흔히': '0.033', '흘러가': '0.034', '흘러오': '0.029', '흘리': '0.034', '흘산이평택에서': '0.033', '흙': '0.033', '흙장난': '0.016', '흙탕물': '0.034', '흠': '0.028', '흠잡': '0.034', '흠집': '0.034', '흠칫': '0.044', '흡': '0.034', '흡사': '0.004', '흡수': '0.034', '흡수력': '0.004', '흡습속건이': '0.034', '흡입': '0.030', '흡족': '0.013', '흥': '0.032', '흥남': '0.031', '흥덕': '0.010', '흥덕구': '0.034', '흥미': '0.034', '흥분': '0.029', '흥얼거리': '0.033', '흥업면': '0.022', '흩날리': '0.033', '흩뿌리': '0.013', '흩어지': '0.000', '흫': '0.034', '희': '0.017', '희귀': '0.032', '희끄무리해가지고': '0.029', '희망': '0.034', '희망차': '0.031', '희미': '0.007', '희방사': '0.034', '희방사역': '0.044', '희생': '0.012', '희열': '0.034', '희영쌤한테': '0.034', '희주없는': '0.012', '희한': '0.034', '희희': '0.022', '희희맘': '0.017', '흰': '0.034', '흰둥이': '0.034', '흰밥': '0.044', '흰색': '0.032', '흰쌀': '0.033', '흰자': '0.000', '히가시유엥지루미나리에': '0.033', '히든': '0.021', '히레카츠': '0.044', '히말라야': '0.027', '히비스커스': '0.032', '히알루론산': '0.044', '히야': '0.001', '히이일링하세요오': '0.044', '히죽': '0.034', '히찌네': '0.034', '히트': '0.034', '히히': '0.012', '히히히': '0.002', '힐': '0.034', '힐로': '0.033', '힐링': '0.032', '힐스': '0.033', '힐튼': '0.034', '힘': '0.034', '힘겹': '0.032', '힘껏': '0.019', '힘내': '0.033', '힘내기': '0.012', '힘내쟈': '0.043', '힘들': '0.022', '힘들어쪙': '0.030', '힘들었는뎅': '0.041', '힘들었습니닼': '0.033', '힘쓰': '0.000', '힘알탱이': '0.034', '힘없': '0.034', '힘없이': '0.021', '힘주': '0.040', '힘줄': '0.025', '힘찬': '0.031', '힙': '0.034', '힙단면': '0.009', '힙라인의': '0.002', '힙스터': '0.033', '힙시트하고': '0.034', '힙어브덕션': '0.028', '힙운동': '0.034', '힙을': '0.004', '힙쟁이들은': '0.032', '힙하게': '0.030', '힙하니여뜸': '0.029', '힙하세요친절하다는': '0.034', '힙한': '0.017', '힙합': '0.031', '힛츄윗댓': '0.030', '힝': '0.034'}\n",
      "\n"
     ]
    }
   ],
   "source": [
    "test(train_image[:1], image_word_data[:1])"
   ]
  }
 ],
 "metadata": {
  "kernelspec": {
   "display_name": "Keich Capstone",
   "language": "python",
   "name": "venv_capstone"
  },
  "language_info": {
   "codemirror_mode": {
    "name": "ipython",
    "version": 3
   },
   "file_extension": ".py",
   "mimetype": "text/x-python",
   "name": "python",
   "nbconvert_exporter": "python",
   "pygments_lexer": "ipython3",
   "version": "3.7.5"
  }
 },
 "nbformat": 4,
 "nbformat_minor": 2
}
