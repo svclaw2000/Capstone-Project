{
 "cells": [
  {
   "cell_type": "code",
   "execution_count": 2,
   "metadata": {},
   "outputs": [],
   "source": [
    "import pickle\n",
    "from PIL import Image\n",
    "import numpy as np\n",
    "from tqdm import tqdm\n",
    "\n",
    "target_size = 256"
   ]
  },
  {
   "cell_type": "code",
   "execution_count": 3,
   "metadata": {},
   "outputs": [
    {
     "ename": "FileNotFoundError",
     "evalue": "[Errno 2] No such file or directory: './data/sentence_gamjung2.pkl'",
     "output_type": "error",
     "traceback": [
      "\u001b[0;31m---------------------------------------------------------------------------\u001b[0m",
      "\u001b[0;31mFileNotFoundError\u001b[0m                         Traceback (most recent call last)",
      "\u001b[0;32m<ipython-input-3-081789088748>\u001b[0m in \u001b[0;36m<module>\u001b[0;34m\u001b[0m\n\u001b[1;32m      4\u001b[0m \u001b[0;34m\u001b[0m\u001b[0m\n\u001b[1;32m      5\u001b[0m \u001b[0mtrain_path\u001b[0m \u001b[0;34m=\u001b[0m \u001b[0;34m'./train_data/%s'\u001b[0m\u001b[0;34m\u001b[0m\u001b[0;34m\u001b[0m\u001b[0m\n\u001b[0;32m----> 6\u001b[0;31m \u001b[0mmetadata\u001b[0m \u001b[0;34m=\u001b[0m \u001b[0mpickle\u001b[0m\u001b[0;34m.\u001b[0m\u001b[0mload\u001b[0m\u001b[0;34m(\u001b[0m\u001b[0mopen\u001b[0m\u001b[0;34m(\u001b[0m\u001b[0;34m'./data/sentence_gamjung2.pkl'\u001b[0m\u001b[0;34m,\u001b[0m \u001b[0;34m'rb'\u001b[0m\u001b[0;34m)\u001b[0m\u001b[0;34m)\u001b[0m\u001b[0;34m\u001b[0m\u001b[0;34m\u001b[0m\u001b[0m\n\u001b[0m\u001b[1;32m      7\u001b[0m \u001b[0;34m\u001b[0m\u001b[0m\n\u001b[1;32m      8\u001b[0m \u001b[0;31m# clean_text에 시작, 끝 추가\u001b[0m\u001b[0;34m\u001b[0m\u001b[0;34m\u001b[0m\u001b[0;34m\u001b[0m\u001b[0m\n",
      "\u001b[0;31mFileNotFoundError\u001b[0m: [Errno 2] No such file or directory: './data/sentence_gamjung2.pkl'"
     ]
    }
   ],
   "source": [
    "## 피클파일 없을 때 실행\n",
    "\n",
    "# 메타데이터 및 텍스트 데이터 로드\n",
    "\n",
    "train_path = './train_data/%s'\n",
    "metadata = pickle.load(open('./data/sentence_gamjung2.pkl', 'rb'))\n",
    "\n",
    "# clean_text에 시작, 끝 추가\n",
    "# clean_text 기준 256글자 넘지 않도록 필터링\n",
    "# 각 감정 클래스가 최대한 균등하도록 샘플 추출\n",
    "# 학습 5000, 검증 1000, 테스트 1000\n",
    "\n",
    "metadata['clean_text'] = metadata['clean_text'].apply(lambda x: '\\t%s\\n' %x.strip())\n",
    "metadata = metadata[metadata['clean_text'].str.len() <= 256]\n",
    "\n",
    "sentiment_list = ['emotion_0', 'emotion_1', 'emotion_3', 'emotion_4']\n",
    "sentiment_indices = [metadata[metadata[senti] == 1].index for senti in sentiment_list]\n",
    "data_indices = []\n",
    "\n",
    "i = 0\n",
    "condition = True\n",
    "while condition:\n",
    "    for senti in sentiment_indices:\n",
    "        if len(set(data_indices)) < 7000:\n",
    "            data_indices.append(senti[i])\n",
    "        else:\n",
    "            condition = False\n",
    "            break\n",
    "    i += 1\n",
    "    \n",
    "metadata = metadata.iloc[sorted(list(set(data_indices)))]\n",
    "\n",
    "def get_image_from_path(path):\n",
    "    image = Image.open(train_path %path)\n",
    "    size = image.size\n",
    "\n",
    "    if size[0] <= size[1]:\n",
    "        scaled_size = (target_size, int(size[1]/size[0]*target_size))\n",
    "        crop_area = (0, int((scaled_size[1]-target_size)/2), target_size, int((scaled_size[1]+target_size)/2))\n",
    "    else:\n",
    "        scaled_size = (int(size[0]/size[1]*target_size), target_size)\n",
    "        crop_area = (int((scaled_size[0]-target_size)/2), 0, int((scaled_size[0]+target_size)/2), target_size)\n",
    "\n",
    "    image = image.resize(scaled_size)\n",
    "    image = image.crop(crop_area)\n",
    "    return image\n",
    "\n",
    "def get_array_from_path(path):\n",
    "    return np.asarray(get_image_from_path(path))\n",
    "\n",
    "# 이미지 불러와서 데이터셋 생성\n",
    "image_data = np.array([image for image in metadata['image_path'].map(get_array_from_path)])\n",
    "sentiment_data = np.array(metadata[sentiment_list])\n",
    "sentence_data = np.array(metadata['clean_text'])\n",
    "\n",
    "# 데이터 피클로 저장\n",
    "pickle.dump([image_data, sentiment_data, sentence_data], open('data.pkl', 'wb'))"
   ]
  },
  {
   "cell_type": "code",
   "execution_count": 4,
   "metadata": {},
   "outputs": [],
   "source": [
    "# 피클로 저장된 데이터 로드\n",
    "image_data, sentiment_data, sentence_data = pickle.load(open('data_100.pkl', 'rb'))"
   ]
  },
  {
   "cell_type": "code",
   "execution_count": 5,
   "metadata": {
    "scrolled": false
   },
   "outputs": [
    {
     "name": "stdout",
     "output_type": "stream",
     "text": [
      "(7000, 256, 256, 3)\n",
      "(7000, 4)\n",
      "(7000,)\n"
     ]
    }
   ],
   "source": [
    "print(image_data.shape)\n",
    "print(sentiment_data.shape)\n",
    "print(sentence_data.shape)"
   ]
  },
  {
   "cell_type": "code",
   "execution_count": 6,
   "metadata": {},
   "outputs": [
    {
     "data": {
      "text/plain": [
       "7000"
      ]
     },
     "execution_count": 6,
     "metadata": {},
     "output_type": "execute_result"
    }
   ],
   "source": [
    "length_dict = {}\n",
    "for l in map(len, sentence_data):\n",
    "    if l in length_dict:\n",
    "        length_dict[l] += 1\n",
    "    else:\n",
    "        length_dict[l] = 1\n",
    "\n",
    "count = 0\n",
    "for l, c in length_dict.items():\n",
    "    if l <= 100:\n",
    "        count += c\n",
    "count"
   ]
  },
  {
   "cell_type": "code",
   "execution_count": 3,
   "metadata": {},
   "outputs": [
    {
     "name": "stdout",
     "output_type": "stream",
     "text": [
      "WARNING:tensorflow:From /home/svclaw2000/venv_capstone/lib/python3.7/site-packages/tensorflow/python/compat/v2_compat.py:96: disable_resource_variables (from tensorflow.python.ops.variable_scope) is deprecated and will be removed in a future version.\n",
      "Instructions for updating:\n",
      "non-resource variables are not supported in the long term\n"
     ]
    }
   ],
   "source": [
    "import tensorflow.compat.v1 as tf\n",
    "tf.disable_v2_behavior()\n",
    "\n",
    "tf.reset_default_graph()"
   ]
  },
  {
   "cell_type": "code",
   "execution_count": 4,
   "metadata": {},
   "outputs": [
    {
     "ename": "NameError",
     "evalue": "name 'target_size' is not defined",
     "output_type": "error",
     "traceback": [
      "\u001b[0;31m---------------------------------------------------------------------------\u001b[0m",
      "\u001b[0;31mNameError\u001b[0m                                 Traceback (most recent call last)",
      "\u001b[0;32m<ipython-input-4-71f206c17397>\u001b[0m in \u001b[0;36m<module>\u001b[0;34m\u001b[0m\n\u001b[1;32m      1\u001b[0m \u001b[0;31m# 이미지 (CNN)\u001b[0m\u001b[0;34m\u001b[0m\u001b[0;34m\u001b[0m\u001b[0;34m\u001b[0m\u001b[0m\n\u001b[1;32m      2\u001b[0m \u001b[0;34m\u001b[0m\u001b[0m\n\u001b[0;32m----> 3\u001b[0;31m \u001b[0mX\u001b[0m \u001b[0;34m=\u001b[0m \u001b[0mtf\u001b[0m\u001b[0;34m.\u001b[0m\u001b[0mplaceholder\u001b[0m\u001b[0;34m(\u001b[0m\u001b[0mtf\u001b[0m\u001b[0;34m.\u001b[0m\u001b[0mfloat32\u001b[0m\u001b[0;34m,\u001b[0m \u001b[0mshape\u001b[0m\u001b[0;34m=\u001b[0m\u001b[0;34m[\u001b[0m\u001b[0;32mNone\u001b[0m\u001b[0;34m,\u001b[0m \u001b[0mtarget_size\u001b[0m\u001b[0;34m,\u001b[0m \u001b[0mtarget_size\u001b[0m\u001b[0;34m,\u001b[0m \u001b[0;36m3\u001b[0m\u001b[0;34m]\u001b[0m\u001b[0;34m)\u001b[0m\u001b[0;34m\u001b[0m\u001b[0;34m\u001b[0m\u001b[0m\n\u001b[0m\u001b[1;32m      4\u001b[0m \u001b[0;34m\u001b[0m\u001b[0m\n\u001b[1;32m      5\u001b[0m \u001b[0mn_conv_1\u001b[0m \u001b[0;34m=\u001b[0m \u001b[0;36m64\u001b[0m\u001b[0;34m\u001b[0m\u001b[0;34m\u001b[0m\u001b[0m\n",
      "\u001b[0;31mNameError\u001b[0m: name 'target_size' is not defined"
     ]
    }
   ],
   "source": [
    "# 이미지 (CNN)\n",
    "\n",
    "X = tf.placeholder(tf.float32, shape=[None, target_size, target_size, 3])\n",
    "\n",
    "n_conv_1 = 64\n",
    "k_conv_1 = 7\n",
    "W_conv_1 = tf.Variable(tf.truncated_normal(shape=[k_conv_1,k_conv_1,3,n_conv_1], stddev=5e-2))\n",
    "b_conv_1 = tf.Variable(tf.constant(0.1, shape=[n_conv_1]))\n",
    "h_conv_1 = tf.nn.relu(tf.nn.conv2d(X, W_conv_1, strides=[1,1,1,1], padding='SAME') + b_conv_1)\n",
    "h_pool_1 = tf.nn.max_pool(h_conv_1, ksize=[1,3,3,1], strides=[1,2,2,1], padding='SAME')\n",
    "\n",
    "n_conv_2 = 64\n",
    "k_conv_2 = 5\n",
    "W_conv_2 = tf.Variable(tf.truncated_normal(shape=[k_conv_2,k_conv_2,n_conv_1,n_conv_2], stddev=5e-2))\n",
    "b_conv_2 = tf.Variable(tf.constant(0.1, shape=[n_conv_2]))\n",
    "h_conv_2 = tf.nn.relu(tf.nn.conv2d(h_pool_1, W_conv_2, strides=[1,1,1,1], padding='SAME') + b_conv_2)\n",
    "h_pool_2 = tf.nn.max_pool(h_conv_2, ksize=[1,3,3,1], strides=[1,2,2,1], padding='SAME')\n",
    "\n",
    "n_conv_3 = 128\n",
    "k_conv_3 = 5\n",
    "W_conv_3 = tf.Variable(tf.truncated_normal(shape=[k_conv_3,k_conv_3,n_conv_2,n_conv_3], stddev=5e-2))\n",
    "b_conv_3 = tf.Variable(tf.constant(0.1, shape=[n_conv_3]))\n",
    "h_conv_3 = tf.nn.relu(tf.nn.conv2d(h_pool_2, W_conv_3, strides=[1,1,1,1], padding='SAME') + b_conv_3)\n",
    "h_pool_3 = tf.nn.max_pool(h_conv_3, ksize=[1,3,3,1], strides=[1,2,2,1], padding='SAME')\n",
    "\n",
    "n_conv_4 = 128\n",
    "k_conv_4 = 3\n",
    "W_conv_4 = tf.Variable(tf.truncated_normal(shape=[k_conv_4,k_conv_4,n_conv_3,n_conv_4], stddev=5e-2))\n",
    "b_conv_4 = tf.Variable(tf.constant(0.1, shape=[n_conv_4]))\n",
    "h_conv_4 = tf.nn.relu(tf.nn.conv2d(h_pool_3, W_conv_4, strides=[1,1,1,1], padding='SAME') + b_conv_4)\n",
    "\n",
    "n_conv_5 = 128\n",
    "k_conv_5 = 3\n",
    "W_conv_5 = tf.Variable(tf.truncated_normal(shape=[k_conv_5,k_conv_5,n_conv_4,n_conv_5], stddev=5e-2))\n",
    "b_conv_5 = tf.Variable(tf.constant(0.1, shape=[n_conv_5]))\n",
    "h_conv_5 = tf.nn.relu(tf.nn.conv2d(h_conv_4, W_conv_5, strides=[1,1,1,1], padding='SAME') + b_conv_5)\n",
    "h_conv_5_flat = tf.reshape(h_conv_5, [-1, h_conv_5.shape[1]*h_conv_5.shape[2]*h_conv_5.shape[3]])\n",
    "\n",
    "n_fc_1 = 256\n",
    "k_conv_1 = 5\n",
    "W_fc_1 = tf.Variable(tf.truncated_normal(shape=[h_conv_5_flat.shape[1], n_fc_1], stddev=5e-2))\n",
    "b_fc_1 = tf.Variable(tf.constant(0.1, shape=[n_fc_1]))\n",
    "h_fc_1 = tf.nn.relu(tf.matmul(h_conv_5_flat, W_fc_1) + b_fc_1)\n",
    "\n",
    "h_fc_1_drop = tf.nn.dropout(h_fc_1, 0.8)"
   ]
  },
  {
   "cell_type": "code",
   "execution_count": 2,
   "metadata": {},
   "outputs": [
    {
     "ename": "NameError",
     "evalue": "name 'h_fc_1_drop' is not defined",
     "output_type": "error",
     "traceback": [
      "\u001b[0;31m---------------------------------------------------------------------------\u001b[0m",
      "\u001b[0;31mNameError\u001b[0m                                 Traceback (most recent call last)",
      "\u001b[0;32m<ipython-input-2-459da9d13047>\u001b[0m in \u001b[0;36m<module>\u001b[0;34m\u001b[0m\n\u001b[0;32m----> 1\u001b[0;31m \u001b[0mh_fc_1_drop\u001b[0m\u001b[0;34m\u001b[0m\u001b[0;34m\u001b[0m\u001b[0m\n\u001b[0m",
      "\u001b[0;31mNameError\u001b[0m: name 'h_fc_1_drop' is not defined"
     ]
    }
   ],
   "source": [
    "h_fc_1_drop"
   ]
  },
  {
   "cell_type": "code",
   "execution_count": 78,
   "metadata": {},
   "outputs": [],
   "source": [
    "# 감정\n",
    "\n",
    "n_senti = 4\n",
    "\n",
    "S = tf.placeholder(tf.float32, shape=[None, n_senti])\n",
    "\n",
    "h_pre_s = tf.tile(h_fc_1_drop, [1, n_senti]) * tf.repeat(S, n_fc_1, axis=1)\n",
    "\n",
    "n_final = 512\n",
    "W_final = tf.Variable(tf.truncated_normal(shape=[n_senti*n_fc_1, n_final]))\n",
    "b_final = tf.Variable(tf.constant(0.1, shape=[n_final]))\n",
    "h_final = tf.matmul(h_pre_s, W_final) + b_final"
   ]
  },
  {
   "cell_type": "code",
   "execution_count": 79,
   "metadata": {},
   "outputs": [],
   "source": [
    "# RNN 준비과정\n",
    "\n",
    "output_chars = set()\n",
    "for s in sentence_data:\n",
    "    for c in s:\n",
    "        if c not in output_chars:\n",
    "            output_chars.add(c)\n",
    "            \n",
    "output_chars = sorted(list(output_chars))\n",
    "output_dict = {c: i for i, c in enumerate(output_chars)}\n",
    "dict_len = len(output_dict)\n",
    "max_seq_length = 100"
   ]
  },
  {
   "cell_type": "code",
   "execution_count": 80,
   "metadata": {
    "scrolled": true
   },
   "outputs": [
    {
     "name": "stdout",
     "output_type": "stream",
     "text": [
      "WARNING:tensorflow:From <ipython-input-80-ca16f794a880>:14: GRUCell.__init__ (from tensorflow.python.keras.layers.legacy_rnn.rnn_cell_impl) is deprecated and will be removed in a future version.\n",
      "Instructions for updating:\n",
      "This class is equivalent as tf.keras.layers.GRUCell, and will be replaced by that in Tensorflow 2.0.\n",
      "WARNING:tensorflow:From /home/svclaw2000/venv_capstone/lib/python3.7/site-packages/tensorflow/python/keras/layers/legacy_rnn/rnn_cell_impl.py:570: calling Constant.__init__ (from tensorflow.python.ops.init_ops) with dtype is deprecated and will be removed in a future version.\n",
      "Instructions for updating:\n",
      "Call initializer instance with the dtype argument instead of passing it to the constructor\n"
     ]
    }
   ],
   "source": [
    "# 문장 생성 (RNN)\n",
    "\n",
    "learning_rate = 0.001\n",
    "n_hidden = 128\n",
    "n_class = n_input = dict_len\n",
    "\n",
    "enc_input = tf.reshape(h_final, [-1, n_final, 1])\n",
    "# [batch_size, time_steps, input_size]\n",
    "dec_input = tf.placeholder(tf.float32, [None, max_seq_length, n_input])\n",
    "# [batch_size, time_steps]\n",
    "dec_output = tf.placeholder(tf.int64, [None, max_seq_length])\n",
    "\n",
    "with tf.variable_scope('encode'):\n",
    "    enc_cell = tf.nn.rnn_cell.GRUCell(n_hidden)\n",
    "    enc_cell = tf.nn.rnn_cell.DropoutWrapper(enc_cell, output_keep_prob=0.8)\n",
    "    outputs, enc_states = tf.nn.dynamic_rnn(enc_cell, enc_input, dtype=tf.float32)\n",
    "\n",
    "with tf.variable_scope('decode'):\n",
    "    dec_cell = tf.nn.rnn_cell.GRUCell(n_hidden)\n",
    "    dec_cell = tf.nn.rnn_cell.DropoutWrapper(dec_cell, output_keep_prob=0.8)\n",
    "    outputs, dec_states = tf.nn.dynamic_rnn(dec_cell, dec_input, \n",
    "                                            initial_state=enc_states,\n",
    "                                            dtype=tf.float32)\n",
    "\n",
    "model = tf.layers.dense(outputs, n_class, activation=None)\n",
    "cost = tf.reduce_mean(tf.nn.sparse_softmax_cross_entropy_with_logits(logits=model, labels=dec_output))\n",
    "optimizer = tf.train.RMSPropOptimizer(learning_rate).minimize(cost)"
   ]
  },
  {
   "cell_type": "code",
   "execution_count": 81,
   "metadata": {
    "scrolled": true
   },
   "outputs": [
    {
     "name": "stdout",
     "output_type": "stream",
     "text": [
      "Device mapping:\n",
      "/job:localhost/replica:0/task:0/device:XLA_CPU:0 -> device: XLA_CPU device\n",
      "/job:localhost/replica:0/task:0/device:XLA_GPU:0 -> device: XLA_GPU device\n",
      "/job:localhost/replica:0/task:0/device:GPU:0 -> device: 0, name: GeForce RTX 2080 Ti, pci bus id: 0000:68:00.0, compute capability: 7.5\n",
      "\n"
     ]
    }
   ],
   "source": [
    "with tf.device('/gpu:0'):\n",
    "    sess = tf.Session(config=tf.ConfigProto(allow_soft_placement=True, \n",
    "                                            log_device_placement=True))\n",
    "    sess.run(tf.global_variables_initializer())"
   ]
  },
  {
   "cell_type": "code",
   "execution_count": 82,
   "metadata": {},
   "outputs": [],
   "source": [
    "total_epoch = 10\n",
    "total_size = 5000\n",
    "valid_size = 1000\n",
    "batch_size = 100\n",
    "n_batch = total_size // batch_size\n",
    "n_valid = valid_size // batch_size\n",
    "\n",
    "dec_input_data = np.zeros(shape=(len(sentence_data), max_seq_length, len(output_chars)), dtype='float32')\n",
    "dec_output_data = np.zeros(shape=(len(sentence_data), max_seq_length), dtype='int32')\n",
    "\n",
    "for i, s in enumerate(sentence_data):\n",
    "    for j, c in enumerate(s):\n",
    "        dec_input_data[i, j, output_dict[c]] = 1.\n",
    "        if j > 0:\n",
    "            dec_output_data[i, j-1] = output_dict[c]\n",
    "\n",
    "valid_image = image_data[total_size:total_size+valid_size]\n",
    "valid_sentiments = sentiment_data[total_size:total_size+valid_size]\n",
    "valid_input_data = np.zeros(shape=(valid_size, max_seq_length, len(output_chars)), dtype='float32')\n",
    "valid_output_data = np.zeros(shape=(valid_size, max_seq_length), dtype='int32')\n",
    "\n",
    "for i, s in enumerate(sentence_data[total_size:total_size+valid_size]):\n",
    "    for j, c in enumerate(s):\n",
    "        if j == 0:\n",
    "            valid_input_data[i, j, output_dict[c]] = 1.\n",
    "        else:\n",
    "            valid_output_data[i, j-1] = output_dict[c]"
   ]
  },
  {
   "cell_type": "code",
   "execution_count": 83,
   "metadata": {},
   "outputs": [
    {
     "name": "stdout",
     "output_type": "stream",
     "text": [
      "image (7000, 256, 256, 3)\n",
      "sentiment (7000, 4)\n",
      "dec_input (7000, 100, 1588)\n",
      "dec_output (7000, 100)\n",
      "\n",
      "valid_image (1000, 256, 256, 3)\n",
      "valid_sentiment (1000, 4)\n",
      "valid_dec_input (1000, 100, 1588)\n",
      "valid_dec_output (1000, 100)\n"
     ]
    }
   ],
   "source": [
    "print('image', image_data.shape)\n",
    "print('sentiment', sentiment_data.shape)\n",
    "print('dec_input', dec_input_data.shape)\n",
    "print('dec_output', dec_output_data.shape)\n",
    "print()\n",
    "print('valid_image', valid_image.shape)\n",
    "print('valid_sentiment', valid_sentiments.shape)\n",
    "print('valid_dec_input', valid_input_data.shape)\n",
    "print('valid_dec_output', valid_output_data.shape)"
   ]
  },
  {
   "cell_type": "code",
   "execution_count": 93,
   "metadata": {
    "scrolled": true
   },
   "outputs": [
    {
     "name": "stderr",
     "output_type": "stream",
     "text": [
      "100%|██████████| 50/50 [00:30<00:00,  1.63it/s]\n",
      "  0%|          | 0/50 [00:00<?, ?it/s]"
     ]
    },
    {
     "name": "stdout",
     "output_type": "stream",
     "text": [
      "Epoch: 0001 Cost: 1.404779 Valid Cost: 5.753175\n"
     ]
    },
    {
     "name": "stderr",
     "output_type": "stream",
     "text": [
      "100%|██████████| 50/50 [00:30<00:00,  1.65it/s]\n",
      "  0%|          | 0/50 [00:00<?, ?it/s]"
     ]
    },
    {
     "name": "stdout",
     "output_type": "stream",
     "text": [
      "Epoch: 0002 Cost: 1.395230 Valid Cost: 5.745071\n"
     ]
    },
    {
     "name": "stderr",
     "output_type": "stream",
     "text": [
      "100%|██████████| 50/50 [00:30<00:00,  1.65it/s]\n",
      "  0%|          | 0/50 [00:00<?, ?it/s]"
     ]
    },
    {
     "name": "stdout",
     "output_type": "stream",
     "text": [
      "Epoch: 0003 Cost: 1.386459 Valid Cost: 5.889375\n"
     ]
    },
    {
     "name": "stderr",
     "output_type": "stream",
     "text": [
      "100%|██████████| 50/50 [00:30<00:00,  1.64it/s]\n",
      "  0%|          | 0/50 [00:00<?, ?it/s]"
     ]
    },
    {
     "name": "stdout",
     "output_type": "stream",
     "text": [
      "Epoch: 0004 Cost: 1.378552 Valid Cost: 5.534346\n"
     ]
    },
    {
     "name": "stderr",
     "output_type": "stream",
     "text": [
      "100%|██████████| 50/50 [00:29<00:00,  1.67it/s]\n",
      "  0%|          | 0/50 [00:00<?, ?it/s]"
     ]
    },
    {
     "name": "stdout",
     "output_type": "stream",
     "text": [
      "Epoch: 0005 Cost: 1.370771 Valid Cost: 5.580034\n"
     ]
    },
    {
     "name": "stderr",
     "output_type": "stream",
     "text": [
      "100%|██████████| 50/50 [00:30<00:00,  1.65it/s]\n",
      "  0%|          | 0/50 [00:00<?, ?it/s]"
     ]
    },
    {
     "name": "stdout",
     "output_type": "stream",
     "text": [
      "Epoch: 0006 Cost: 1.362968 Valid Cost: 5.420713\n"
     ]
    },
    {
     "name": "stderr",
     "output_type": "stream",
     "text": [
      "100%|██████████| 50/50 [00:30<00:00,  1.65it/s]\n",
      "  0%|          | 0/50 [00:00<?, ?it/s]"
     ]
    },
    {
     "name": "stdout",
     "output_type": "stream",
     "text": [
      "Epoch: 0007 Cost: 1.355641 Valid Cost: 6.003225\n"
     ]
    },
    {
     "name": "stderr",
     "output_type": "stream",
     "text": [
      "100%|██████████| 50/50 [00:30<00:00,  1.63it/s]\n",
      "  0%|          | 0/50 [00:00<?, ?it/s]"
     ]
    },
    {
     "name": "stdout",
     "output_type": "stream",
     "text": [
      "Epoch: 0008 Cost: 1.348040 Valid Cost: 4.944407\n"
     ]
    },
    {
     "name": "stderr",
     "output_type": "stream",
     "text": [
      "100%|██████████| 50/50 [00:30<00:00,  1.64it/s]\n",
      "  0%|          | 0/50 [00:00<?, ?it/s]"
     ]
    },
    {
     "name": "stdout",
     "output_type": "stream",
     "text": [
      "Epoch: 0009 Cost: 1.341832 Valid Cost: 5.137182\n"
     ]
    },
    {
     "name": "stderr",
     "output_type": "stream",
     "text": [
      "100%|██████████| 50/50 [00:30<00:00,  1.64it/s]\n"
     ]
    },
    {
     "name": "stdout",
     "output_type": "stream",
     "text": [
      "Epoch: 0010 Cost: 1.335065 Valid Cost: 3.788464\n"
     ]
    }
   ],
   "source": [
    "for epoch in range(total_epoch):\n",
    "    total_loss = 0\n",
    "    for batch in tqdm(range(n_batch)):\n",
    "        # print('sect: %03d batch: %03d' %(section, batch))\n",
    "        batch_images = image_data[batch_size*batch:batch_size*(batch+1)]\n",
    "        batch_sentiments = sentiment_data[batch_size*batch:batch_size*(batch+1)]\n",
    "        batch_dec_inputs = dec_input_data[batch_size*batch:batch_size*(batch+1)]\n",
    "        batch_dec_outputs = dec_output_data[batch_size*batch:batch_size*(batch+1)]\n",
    "\n",
    "        _, loss = sess.run([optimizer, cost], feed_dict={\n",
    "            X: batch_images,\n",
    "            S: batch_sentiments,\n",
    "            dec_input: batch_dec_inputs,\n",
    "            dec_output: batch_dec_outputs\n",
    "        })\n",
    "\n",
    "        total_loss += loss\n",
    "        \n",
    "    total_valid_loss = 0\n",
    "    for batch in range(n_valid):\n",
    "        valid_loss = sess.run(cost, feed_dict={\n",
    "            X: valid_image[batch_size*batch:batch_size*(batch+1)],\n",
    "            S: valid_sentiments[batch_size*batch:batch_size*(batch+1)],\n",
    "            dec_input: valid_input_data[batch_size*batch:batch_size*(batch+1)],\n",
    "            dec_output: valid_output_data[batch_size*batch:batch_size*(batch+1)]\n",
    "        })\n",
    "        total_valid_loss += valid_loss\n",
    "        \n",
    "\n",
    "    print('Epoch: %04d Cost: %.6f Valid Cost: %.6f' %(epoch + 1, total_loss / n_batch, valid_loss))"
   ]
  },
  {
   "cell_type": "code",
   "execution_count": 94,
   "metadata": {},
   "outputs": [],
   "source": [
    "def translate(image, senti):\n",
    "    prediction = tf.argmax(model, 2)\n",
    "    dec_inp = [0] + [2]*(max_seq_length-1)\n",
    "    dec_inp = [np.eye(dict_len)[dec_inp]]\n",
    "    dec_out = np.zeros(shape=(1, max_seq_length, ))\n",
    "    dec_out = [[2]*(max_seq_length-1) + [1]]\n",
    "    # dec_out = np.eye(dict_len)[dec_out]\n",
    "    result = sess.run(prediction, \n",
    "                      feed_dict={X: image,\n",
    "                                 S: senti,\n",
    "                                 dec_input: dec_inp,\n",
    "                                 dec_output: dec_out})\n",
    "    decoded = [output_chars[i] for i in result[0]]\n",
    "    end = decoded.index('\\n') if '\\n' in decoded else len(decoded)\n",
    "    translated = ''.join(decoded[:end])\n",
    "    return translated"
   ]
  },
  {
   "cell_type": "code",
   "execution_count": 95,
   "metadata": {
    "scrolled": true
   },
   "outputs": [
    {
     "name": "stdout",
     "output_type": "stream",
     "text": [
      "3000 : ['\\t주일 개월일 이사와서 좋은점 하늘을 맘껏 감상할 수있어요 넘 예쁜 가을하늘\\n']\n",
      "3000 : 오제시수수수사수수수수수수기어주일수수사어사가수수기수가수동사수수어가이가사수가나가수수안수수이사이사수기수수나수어사수사가수수수수수사시사가시가기시수가먹가수수수가사이가수가수가사가수가수수수수수시\n",
      "3001 : ['\\t엄마 시리얼이 이렇게 맛있는거 였나유\\n']\n",
      "3001 : 오늘수수수사수수수가수수사시수수수가사어수일사사수수가수수시수가가수수사가수수사일수가수동수일수수수가어수시수수이수가가기시가이수시수가사가수시수수시시사수사사시수수수가사수시가시시기수수수수시가나가\n",
      "3002 : ['\\t엄마랑 처음 찍어본 셀콰 엄마를 가리려고 꾸몄더니 사진이 유치찬란 하구나 사진잘찍은것에 의미를 두자 내일은 울이쥬니 예방접종 개나 심히 걱정되는군아 잘하자 이쥬나\\n']\n",
      "3002 : 오사어동일안수수수수수수사사수이사수주수수수수가수수시수가수사수사시가수마수수기수가사가시사일기기수사분가가수가수수수시가사가분시수시사수가나분수수이어수분사이수수기사사수시수사가사시가수일수사수수이\n",
      "3003 : ['\\t넘 좋다는 말만 번한날 여긴 꼭 다시가야지\\n']\n",
      "3003 : 우사사안수수나수이수시분수사사가수수사수이수가사이수수사수기일이수가수사수수가수수수가기어수수가사가수분수수수수시수사가가수가시동수수일동마가수가수사수사수일수수수가가마사수수수나수수마수시수마이가가\n",
      "3004 : ['\\t늦은 밤 숑이랑 산책하다 네일샷 예쁘지만 맘은 불쾌했던\\n']\n",
      "3004 : 오사늘어수수수수수수수수나수이수수사수시수수가수수수수가이수수가수사어가수기수사가시사기수이가가사수거기일수수수시사시사수시사마사사이수수수수기수이수가수수사사가수안동주일사수수시수수마가번사수시이일\n",
      "3005 : ['\\t사람없어서 좋았던\\n']\n",
      "3005 : 오사일어수사수수사수수스수수수수가수사가수시가기시안주기사수가수가시사시사분시수수시가시가사수수수시수사일수가일가수수수수일수수가수수시가수수이수사사수사수수수수수가사수가수수수사시수수시가이수수수수\n",
      "3006 : ['\\t이번 생일은 소중한 사람과 제주에서 보내며 많은 사람들에게 축하를 받아 참으로 꿈같은 하루였다 행복은 항상 가까이에 있다는 걸 잊지 말아야지\\n']\n",
      "3006 : 오분어사생수수수사수수수수수수수시수가수수수시사수수사나사수수수수시수이수수사시수수기수가수시가이수수수가사수수수수수수가사가사마수가가수수이수수수수기수수수수수수가사사수수가가사수가수수수수수가수수\n",
      "3007 : ['\\t맥주는 맛있어\\n']\n",
      "3007 : 오사사분수수수수수사사수가수가수수사동수수수기수수시가가시수수이이수사사기수가동수가수사사사가수가수수가가분사가사수수사수사수사사수가이이수가가기수수수수어이수수시수시수수시이시수가사시수가수가가수시\n",
      "3008 : ['\\t듀크대학교 로고가 그려진 맨투맨입니다 넉넉한 핏감입니다 남녀공용으로 입기 좋습니다\\n']\n",
      "3008 : 오사일안수수수수수수가동수수사수수동수수사수가수수수수수수가안가시분수사수동수수수수수가가수기안사시이수가사가수사분수가가수수수수가수사수수수가시가일이사수수수이수사수수수수사시주수수마이수수수이수수\n",
      "3009 : ['\\t좋아요 안누르면 님얼굴 피콜\\n']\n",
      "3009 : 오사안수수수어수수수수수수수수수수수가수이동사수수수수가수가수수가분수가사기사주시수시사수사가사수시수수사거수수시시수시수가수수사사시사수사수사수사나사수가가수수수수일수수수가시사수수수사가가수시수수\n"
     ]
    }
   ],
   "source": [
    "idx_start = 3000\n",
    "\n",
    "for idx in range(idx_start, idx_start + 10):\n",
    "    print(idx, ':', sentence_data[idx:idx+1])\n",
    "    print(idx, ':', translate(image_data[idx:idx+1], sentiment_data[idx:idx+1]))"
   ]
  },
  {
   "cell_type": "code",
   "execution_count": 74,
   "metadata": {},
   "outputs": [
    {
     "data": {
      "image/png": "[encoded data removed]",
      "text/plain": [
       "<PIL.Image.Image image mode=RGB size=256x256 at 0x7F4D2C40A110>"
      ]
     },
     "execution_count": 74,
     "metadata": {},
     "output_type": "execute_result"
    }
   ],
   "source": [
    "Image.fromarray(image_data[3])"
   ]
  },
  {
   "cell_type": "code",
   "execution_count": 51,
   "metadata": {},
   "outputs": [],
   "source": [
    "sess.close()"
   ]
  }
 ],
 "metadata": {
  "kernelspec": {
   "display_name": "Keich Capstone",
   "language": "python",
   "name": "venv_capstone"
  },
  "language_info": {
   "codemirror_mode": {
    "name": "ipython",
    "version": 3
   },
   "file_extension": ".py",
   "mimetype": "text/x-python",
   "name": "python",
   "nbconvert_exporter": "python",
   "pygments_lexer": "ipython3",
   "version": "3.7.5"
  }
 },
 "nbformat": 4,
 "nbformat_minor": 2
}
